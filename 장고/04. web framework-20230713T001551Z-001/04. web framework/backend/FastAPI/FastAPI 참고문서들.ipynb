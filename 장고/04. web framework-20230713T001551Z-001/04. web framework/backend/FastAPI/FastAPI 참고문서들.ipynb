{
 "cells": [
  {
   "attachments": {},
   "cell_type": "markdown",
   "metadata": {},
   "source": [
    "# 참고문서들 \n",
    "- [FastAPI 공식문서](https://fastapi.tiangolo.com/ko/)\n",
    "\n",
    "- [점프 투 FastAPI](https://wikidocs.net/book/8531)\n"
   ]
  },
  {
   "cell_type": "markdown",
   "metadata": {},
   "source": []
  }
 ],
 "metadata": {
  "language_info": {
   "name": "python"
  },
  "orig_nbformat": 4
 },
 "nbformat": 4,
 "nbformat_minor": 2
}
