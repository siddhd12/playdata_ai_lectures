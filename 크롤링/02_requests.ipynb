{
 "cells": [
  {
   "cell_type": "markdown",
   "metadata": {
    "slideshow": {
     "slide_type": "slide"
    }
   },
   "source": [
    "# requests 모듈을 이용한 웹 요청\n",
    "- [Requests 홈페이지](https://requests.kennethreitz.org/en/master/)\n",
    "- **HTTP 요청을 처리하는 파이썬 패키지**\n",
    "- get/post 방식 모두를 지원하며 쿠키, 헤더정보등을 HTTP의 다양한 요청처리를 지원한다.\n",
    "- 설치\n",
    "    - `pip install requests`\n",
    "    - `conda install -c conda-forge requests`"
   ]
  },
  {
   "cell_type": "markdown",
   "metadata": {},
   "source": [
    "## Crawling을 위한 requests 코딩 패턴\n",
    "1. requests의 get()/post() 함수를 이용해 url을 넣어 서버 요청한다.\n",
    "3. 응답받은 내용을 처리.\n",
    "    - text(HTML)은 BeautifulSoup에 넣어 parsing\n",
    "    - binary 파일의 경우 파일출력을 이용해 local에 저장"
   ]
  },
  {
   "cell_type": "markdown",
   "metadata": {
    "slideshow": {
     "slide_type": "slide"
    }
   },
   "source": [
    "## 요청 함수\n",
    "- get(): GET방식 요청\n",
    "- post(): POST방식 요청"
   ]
  },
  {
   "cell_type": "markdown",
   "metadata": {
    "slideshow": {
     "slide_type": "slide"
    }
   },
   "source": [
    "### requests.get(URL)\n",
    "- **GET 방식 요청**\n",
    "- **주요 매개변수**\n",
    "    - params: 요청파라미터를 dictionary로 전달\n",
    "    - headers: HTTP 요청 header를 dictionary로 전달\n",
    "        - 'User-Agent', 'Referer' 등 헤더 설정\n",
    "    - cookies: 쿠키정보를 전달\n",
    "- **반환값(Return Value)**\n",
    "    - [Response](#Response객체): 응답결과"
   ]
  },
  {
   "cell_type": "markdown",
   "metadata": {},
   "source": [
    "### requests.post(URL)\n",
    "- **POST 방식 요청**\n",
    "- **주요 매개변수**\n",
    "    - datas : 요청파라미터를 dictionary로 전달\n",
    "    - files : 업로드할 파일을 dictionary로 전달\n",
    "        - key: 이름, value: 파일과 연결된 InputStream(TextIOWrapper)\n",
    "    - headers: HTTP 요청 header를 dictionary로 전달\n",
    "        - 'User-Agent', 'Referer' 등 헤더 설정\n",
    "    - cookies: 쿠키정보를 전달\n",
    "- **반환값(Return Value)**\n",
    "    - [Response](#Response객체): 응답결과"
   ]
  },
  {
   "cell_type": "markdown",
   "metadata": {
    "slideshow": {
     "slide_type": "subslide"
    }
   },
   "source": [
    "> ### 요청파라미터(Request Parameter)\n",
    "> - 요청파라미터란?\n",
    ">     - 서버가 일하기 위해 클라이언트로 부터 받아야하는 값들\n",
    ">     - `name=value` 형태이며 여러개일 경우 `&`로 연결해서 전송됨\n",
    "> - Get 요청시 queryString 으로 전달\n",
    ">     - querystring : URL 뒤에 붙여서 전송한다.\n",
    ">     - ex) https://search.naver.com/search.naver?sm=top_hty&fbm=1&ie=utf8&query=python\n",
    ">     - requests.get() 요청시 \n",
    ">         1. url 뒤에 querystring으로 붙여서 전송\n",
    ">         2. dictionary 에 name=value 형태로 만들어 매개변수 params에 전달\n",
    "> - Post 요청시 요청정보의 body에 넣어 전달"
   ]
  },
  {
   "cell_type": "markdown",
   "metadata": {},
   "source": [
    "> ### HTTP 요청 헤더(Request Header)\n",
    "> HTTP 요청시 웹브라우저가 client의 여러 부가적인 정보들을 Key-Value 쌍 형식으로 전달한다.\n",
    "> - accept: 클라이언트가 처리가능한 content 타입 (Mime-type 형식으로 전달)\n",
    "> - accept-language: 클라이언트가 지원하는 언어(ex: ko, en-US)\n",
    "> - host: 요청한 host \n",
    "> - user-agent: 웹브라우저 종류"
   ]
  },
  {
   "cell_type": "markdown",
   "metadata": {
    "slideshow": {
     "slide_type": "slide"
    }
   },
   "source": [
    "## Response객체 -  응답데이터\n",
    "- get()/post() 의 요청에 대한 서버의 응답 결과를 Response에 담아 반환\n",
    "    - Response의 속성을 이용해 응답결과를 조회\n",
    "- 주요 속성(Attribut)\n",
    "    - **url**\n",
    "        - 응답 받은(요청한) url \n",
    "    - **status_code**\n",
    "        - HTTP 응답 상태코드\n",
    "    - **headers**\n",
    "        - 응답 header 정보를 dictionary로 반환\n",
    "- **응답 결과 조회**\n",
    "    - **text**\n",
    "        - 응답내용(html을 str로 반환)\n",
    "    - **content**\n",
    "        - 응답내용(응답결과가 binary-image, 동영상등- 일 경우사용하며 bytes로 반환)\n",
    "    - **json()**\n",
    "        - 응답 결과가 JSON 인 경우 dictionary로 변환해서 반환"
   ]
  },
  {
   "cell_type": "markdown",
   "metadata": {},
   "source": [
    "> ### JSON(JavaScript Object Notation)\n",
    "> key-value 형태 또는 배열 형태의 text이며 이 기종간 데이터 교환에 많이 사용된다. 자바스크립트 언어에서 Object와 array를 생성하는 문법을 이용해 만듬. \n",
    "- [JSON 공식사이트](http://json.org)\n",
    ">\n",
    "> ### json 모듈\n",
    "> JSON 형식 문자열을 다루는 모듈\n",
    "> - json.loads(json문자열)\n",
    ">    - JSON 형식 문자열을 dictionary로 변환\n",
    "> - json.dumps(dictionary)\n",
    ">    - dictionary를 JSON 형식 문자열로 변환"
   ]
  },
  {
   "cell_type": "markdown",
   "metadata": {},
   "source": [
    "> ### HTTP 응답 상태코드\n",
    "> - https://developer.mozilla.org/ko/docs/Web/HTTP/Status \n",
    "- 2XX: 성공\n",
    "    - 200: OK\n",
    "- 3XX: 다른 주소로 이동 (이사)\n",
    "    - 300번대이면 자동으로 이동해 준다. 크롤링시는 볼일이 별로 없다.\n",
    "- 4XX: 클라이언트 오류 (사용자가 잘못한 것)\n",
    "  - 404: 존재하지 않는 주소\n",
    "- 5XX: 서버 오류 (서버에서 문제생긴 것)\n",
    "  - 500: 서버가 처리방법을 모르는 오류\n",
    "  - 503: 서버가 다운 등의 문제로 서비스 불가 상태"
   ]
  },
  {
   "cell_type": "code",
   "execution_count": 6,
   "metadata": {},
   "outputs": [
    {
     "name": "stdout",
     "output_type": "stream",
     "text": [
      "200\n",
      "{'Server': 'NWS', 'Date': 'Sun, 23 Apr 2023 15:27:09 GMT', 'Content-Type': 'text/html; charset=UTF-8', 'Transfer-Encoding': 'chunked', 'Connection': 'keep-alive', 'Set-Cookie': 'PM_CK_loc=7ad73cb024d96886381a5e22b062e51d6b88d0200176ea2558d563fe57538614; Expires=Mon, 24 Apr 2023 15:27:09 GMT; Path=/; HttpOnly', 'Cache-Control': 'no-cache, no-store, must-revalidate', 'Pragma': 'no-cache', 'P3P': 'CP=\"CAO DSP CURa ADMa TAIa PSAa OUR LAW STP PHY ONL UNI PUR FIN COM NAV INT DEM STA PRE\"', 'X-Frame-Options': 'DENY', 'X-XSS-Protection': '1; mode=block', 'Content-Encoding': 'gzip', 'Strict-Transport-Security': 'max-age=63072000; includeSubdomains', 'Referrer-Policy': 'unsafe-url'}\n"
     ]
    }
   ],
   "source": [
    "import requests\n",
    "from bs4 import BeautifulSoup\n",
    "url = \"https://www.naver.com/\" # url 저장\n",
    "res = requests.get(url) # 요청에서 응답까지를 다해줌 url 을 받아 request로 객체를 만들고 res변수에 저장  요청값과 응답이 저장됨\n",
    "# print(res.text[:100])\n",
    "print(res.status_code)\n",
    "if res.status_code == 200:\n",
    "    print(res.headers)\n",
    "    soup = BeautifulSoup(res.text)\n",
    "else:\n",
    "    print(\"문제 발생\")"
   ]
  },
  {
   "cell_type": "code",
   "execution_count": null,
   "metadata": {},
   "outputs": [],
   "source": [
    "type(res)"
   ]
  },
  {
   "cell_type": "markdown",
   "metadata": {},
   "source": [
    "### Get 방식 요청 예제"
   ]
  },
  {
   "cell_type": "code",
   "execution_count": 7,
   "metadata": {},
   "outputs": [
    {
     "name": "stdout",
     "output_type": "stream",
     "text": [
      "https://httpbin.org/get\n",
      "응답 상태 코드: 200\n",
      "<class 'dict'>\n",
      "{'args': {'address': '서울', 'age': ['20', '30', '40'], 'name': '홍길동'}, 'headers': {'Accept': '*/*', 'Accept-Encoding': 'gzip, deflate, br', 'Host': 'httpbin.org', 'My-Data': 'test value', 'User-Agent': 'Mozilla/5.0 (Windows NT 10.0; Win64; x64) AppleWebKit/537.36 (KHTML, like Gecko) Chrome/111.0.0.0 Safari/537.36', 'X-Amzn-Trace-Id': 'Root=1-64454efc-1ff300092607a6a6582f586d'}, 'origin': '118.33.46.50', 'url': 'https://httpbin.org/get?name=홍길동&age=20&age=30&age=40&address=서울'}\n"
     ]
    }
   ],
   "source": [
    "import requests\n",
    "\n",
    "base_url = \"https://httpbin.org/{}\"\n",
    "\n",
    "url = base_url.format(\"get\")\n",
    "print(url)\n",
    "\n",
    "\n",
    "\n",
    "# 요청 파라미터 => dictionart 로 name: value  형식을 저장, 같은 이름으로 여러개 값을 보낼경우 \n",
    "#                                                                       name:[value1, vaule2, ....]\n",
    "\n",
    "req_param = {\n",
    "    \"name\": \"홍길동\",\n",
    "    \"age\": [20,30,40],\n",
    "    \"address\": \"서울\"\n",
    "}\n",
    "\n",
    "# url = \"\"https://httpbin.org/get?mname=홍길동&age=30&address=서울\"  이런식도 가능\n",
    "\n",
    "# hearder user-agent 설정 => 웹브라우저 종류(엔진)\n",
    "    # 개발자 도구: 콘솔 -> navigator.userAgent\n",
    "\n",
    "user_agent = 'Mozilla/5.0 (Windows NT 10.0; Win64; x64) AppleWebKit/537.36 (KHTML, like Gecko) Chrome/111.0.0.0 Safari/537.36'    \n",
    "headers = {\n",
    "    \"User-Agent\":user_agent,\n",
    "    \"my-data\": \"test value\"\n",
    "}\n",
    "\n",
    "response = requests.get(url,params=req_param, headers=headers)  # url => 요청 url, params => 요청 파라미터, header => 요청 header\n",
    "print('응답 상태 코드:', response.status_code)\n",
    "if response.status_code == 200: # 정상 응답\n",
    "    # 응답 데이터를 출력\n",
    "    txt = response.json()\n",
    "    print(type(txt))\n",
    "    print(txt) #  ['header'] ,['Accept']"
   ]
  },
  {
   "cell_type": "markdown",
   "metadata": {
    "heading_collapsed": true
   },
   "source": [
    "### Post 요청 예"
   ]
  },
  {
   "cell_type": "code",
   "execution_count": 7,
   "metadata": {},
   "outputs": [
    {
     "name": "stdout",
     "output_type": "stream",
     "text": [
      "https://httpbin.org/post\n",
      "응답 상태 코드: 200\n",
      "<class 'dict'>\n",
      "{'args': {}, 'data': '', 'files': {'notebook': '{\\n \"cells\": [\\n  {\\n   \"cell_type\": \"markdown\",\\n   \"metadata\": {\\n    \"slideshow\": {\\n     \"slide_type\": \"slide\"\\n    }\\n   },\\n   \"source\": [\\n    \"# requests 모듈을 이용한 웹 요청\\\\n\",\\n    \"- [Requests 홈페이지](https://requests.kennethreitz.org/en/master/)\\\\n\",\\n    \"- **HTTP 요청을 처리하는 파이썬 패키지**\\\\n\",\\n    \"- get/post 방식 모두를 지원하며 쿠키, 헤더정보등을 HTTP의 다양한 요청처리를 지원한다.\\\\n\",\\n    \"- 설치\\\\n\",\\n    \"    - `pip install requests`\\\\n\",\\n    \"    - `conda install -c conda-forge requests`\"\\n   ]\\n  },\\n  {\\n   \"cell_type\": \"markdown\",\\n   \"metadata\": {},\\n   \"source\": [\\n    \"## Crawling을 위한 requests 코딩 패턴\\\\n\",\\n    \"1. requests의 get()/post() 함수를 이용해 url을 넣어 서버 요청한다.\\\\n\",\\n    \"3. 응답받은 내용을 처리.\\\\n\",\\n    \"    - text(HTML)은 BeautifulSoup에 넣어 parsing\\\\n\",\\n    \"    - binary 파일의 경우 파일출력을 이용해 local에 저장\"\\n   ]\\n  },\\n  {\\n   \"cell_type\": \"markdown\",\\n   \"metadata\": {\\n    \"slideshow\": {\\n     \"slide_type\": \"slide\"\\n    }\\n   },\\n   \"source\": [\\n    \"## 요청 함수\\\\n\",\\n    \"- get(): GET방식 요청\\\\n\",\\n    \"- post(): POST방식 요청\"\\n   ]\\n  },\\n  {\\n   \"cell_type\": \"markdown\",\\n   \"metadata\": {\\n    \"slideshow\": {\\n     \"slide_type\": \"slide\"\\n    }\\n   },\\n   \"source\": [\\n    \"### requests.get(URL)\\\\n\",\\n    \"- **GET 방식 요청**\\\\n\",\\n    \"- **주요 매개변수**\\\\n\",\\n    \"    - params: 요청파라미터를 dictionary로 전달\\\\n\",\\n    \"    - headers: HTTP 요청 header를 dictionary로 전달\\\\n\",\\n    \"        - \\'User-Agent\\', \\'Referer\\' 등 헤더 설정\\\\n\",\\n    \"    - cookies: 쿠키정보를 전달\\\\n\",\\n    \"- **반환값(Return Value)**\\\\n\",\\n    \"    - [Response](#Response객체): 응답결과\"\\n   ]\\n  },\\n  {\\n   \"cell_type\": \"markdown\",\\n   \"metadata\": {},\\n   \"source\": [\\n    \"### requests.post(URL)\\\\n\",\\n    \"- **POST 방식 요청**\\\\n\",\\n    \"- **주요 매개변수**\\\\n\",\\n    \"    - datas : 요청파라미터를 dictionary로 전달\\\\n\",\\n    \"    - files : 업로드할 파일을 dictionary로 전달\\\\n\",\\n    \"        - key: 이름, value: 파일과 연결된 InputStream(TextIOWrapper)\\\\n\",\\n    \"    - headers: HTTP 요청 header를 dictionary로 전달\\\\n\",\\n    \"        - \\'User-Agent\\', \\'Referer\\' 등 헤더 설정\\\\n\",\\n    \"    - cookies: 쿠키정보를 전달\\\\n\",\\n    \"- **반환값(Return Value)**\\\\n\",\\n    \"    - [Response](#Response객체): 응답결과\"\\n   ]\\n  },\\n  {\\n   \"cell_type\": \"markdown\",\\n   \"metadata\": {\\n    \"slideshow\": {\\n     \"slide_type\": \"subslide\"\\n    }\\n   },\\n   \"source\": [\\n    \"> ### 요청파라미터(Request Parameter)\\\\n\",\\n    \"> - 요청파라미터란?\\\\n\",\\n    \">     - 서버가 일하기 위해 클라이언트로 부터 받아야하는 값들\\\\n\",\\n    \">     - `name=value` 형태이며 여러개일 경우 `&`로 연결해서 전송됨\\\\n\",\\n    \"> - Get 요청시 queryString 으로 전달\\\\n\",\\n    \">     - querystring : URL 뒤에 붙여서 전송한다.\\\\n\",\\n    \">     - ex) https://search.naver.com/search.naver?sm=top_hty&fbm=1&ie=utf8&query=python\\\\n\",\\n    \">     - requests.get() 요청시 \\\\n\",\\n    \">         1. url 뒤에 querystring으로 붙여서 전송\\\\n\",\\n    \">         2. dictionary 에 name=value 형태로 만들어 매개변수 params에 전달\\\\n\",\\n    \"> - Post 요청시 요청정보의 body에 넣어 전달\"\\n   ]\\n  },\\n  {\\n   \"cell_type\": \"markdown\",\\n   \"metadata\": {},\\n   \"source\": [\\n    \"> ### HTTP 요청 헤더(Request Header)\\\\n\",\\n    \"> HTTP 요청시 웹브라우저가 client의 여러 부가적인 정보들을 Key-Value 쌍 형식으로 전달한다.\\\\n\",\\n    \"> - accept: 클라이언트가 처리가능한 content 타입 (Mime-type 형식으로 전달)\\\\n\",\\n    \"> - accept-language: 클라이언트가 지원하는 언어(ex: ko, en-US)\\\\n\",\\n    \"> - host: 요청한 host \\\\n\",\\n    \"> - user-agent: 웹브라우저 종류\"\\n   ]\\n  },\\n  {\\n   \"cell_type\": \"markdown\",\\n   \"metadata\": {\\n    \"slideshow\": {\\n     \"slide_type\": \"slide\"\\n    }\\n   },\\n   \"source\": [\\n    \"## Response객체 -  응답데이터\\\\n\",\\n    \"- get()/post() 의 요청에 대한 서버의 응답 결과를 Response에 담아 반환\\\\n\",\\n    \"    - Response의 속성을 이용해 응답결과를 조회\\\\n\",\\n    \"- 주요 속성(Attribut)\\\\n\",\\n    \"    - **url**\\\\n\",\\n    \"        - 응답 받은(요청한) url \\\\n\",\\n    \"    - **status_code**\\\\n\",\\n    \"        - HTTP 응답 상태코드\\\\n\",\\n    \"    - **headers**\\\\n\",\\n    \"        - 응답 header 정보를 dictionary로 반환\\\\n\",\\n    \"- **응답 결과 조회**\\\\n\",\\n    \"    - **text**\\\\n\",\\n    \"        - 응답내용(html을 str로 반환)\\\\n\",\\n    \"    - **content**\\\\n\",\\n    \"        - 응답내용(응답결과가 binary-image, 동영상등- 일 경우사용하며 bytes로 반환)\\\\n\",\\n    \"    - **json()**\\\\n\",\\n    \"        - 응답 결과가 JSON 인 경우 dictionary로 변환해서 반환\"\\n   ]\\n  },\\n  {\\n   \"cell_type\": \"markdown\",\\n   \"metadata\": {},\\n   \"source\": [\\n    \"> ### JSON(JavaScript Object Notation)\\\\n\",\\n    \"> key-value 형태 또는 배열 형태의 text이며 이 기종간 데이터 교환에 많이 사용된다. 자바스크립트 언어에서 Object와 array를 생성하는 문법을 이용해 만듬. \\\\n\",\\n    \"- [JSON 공식사이트](http://json.org)\\\\n\",\\n    \">\\\\n\",\\n    \"> ### json 모듈\\\\n\",\\n    \"> JSON 형식 문자열을 다루는 모듈\\\\n\",\\n    \"> - json.loads(json문자열)\\\\n\",\\n    \">    - JSON 형식 문자열을 dictionary로 변환\\\\n\",\\n    \"> - json.dumps(dictionary)\\\\n\",\\n    \">    - dictionary를 JSON 형식 문자열로 변환\"\\n   ]\\n  },\\n  {\\n   \"cell_type\": \"markdown\",\\n   \"metadata\": {},\\n   \"source\": [\\n    \"> ### HTTP 응답 상태코드\\\\n\",\\n    \"> - https://developer.mozilla.org/ko/docs/Web/HTTP/Status \\\\n\",\\n    \"- 2XX: 성공\\\\n\",\\n    \"    - 200: OK\\\\n\",\\n    \"- 3XX: 다른 주소로 이동 (이사)\\\\n\",\\n    \"    - 300번대이면 자동으로 이동해 준다. 크롤링시는 볼일이 별로 없다.\\\\n\",\\n    \"- 4XX: 클라이언트 오류 (사용자가 잘못한 것)\\\\n\",\\n    \"  - 404: 존재하지 않는 주소\\\\n\",\\n    \"- 5XX: 서버 오류 (서버에서 문제생긴 것)\\\\n\",\\n    \"  - 500: 서버가 처리방법을 모르는 오류\\\\n\",\\n    \"  - 503: 서버가 다운 등의 문제로 서비스 불가 상태\"\\n   ]\\n  },\\n  {\\n   \"cell_type\": \"code\",\\n   \"execution_count\": 13,\\n   \"metadata\": {},\\n   \"outputs\": [\\n    {\\n     \"name\": \"stdout\",\\n     \"output_type\": \"stream\",\\n     \"text\": [\\n      \"200\\\\n\",\\n      \"{\\'Server\\': \\'NWS\\', \\'Date\\': \\'Mon, 17 Apr 2023 05:37:03 GMT\\', \\'Content-Type\\': \\'text/html; charset=UTF-8\\', \\'Transfer-Encoding\\': \\'chunked\\', \\'Connection\\': \\'keep-alive\\', \\'Set-Cookie\\': \\'PM_CK_loc=eeb1b259a03c465783af0c5c528ee7b7a77f5e92bc2d0d18da3f1be6e3fc33ec; Expires=Tue, 18 Apr 2023 05:37:03 GMT; Path=/; HttpOnly\\', \\'Cache-Control\\': \\'no-cache, no-store, must-revalidate\\', \\'Pragma\\': \\'no-cache\\', \\'P3P\\': \\'CP=\\\\\"CAO DSP CURa ADMa TAIa PSAa OUR LAW STP PHY ONL UNI PUR FIN COM NAV INT DEM STA PRE\\\\\"\\', \\'X-Frame-Options\\': \\'DENY\\', \\'X-XSS-Protection\\': \\'1; mode=block\\', \\'Content-Encoding\\': \\'gzip\\', \\'Strict-Transport-Security\\': \\'max-age=63072000; includeSubdomains\\', \\'Referrer-Policy\\': \\'unsafe-url\\'}\\\\n\"\\n     ]\\n    }\\n   ],\\n   \"source\": [\\n    \"import requests\\\\n\",\\n    \"from bs4 import BeautifulSoup\\\\n\",\\n    \"url = \\\\\"https://www.naver.com/\\\\\"\\\\n\",\\n    \"res = requests.get(url) # 요청에서 응답까지를 다해줌\\\\n\",\\n    \"# print(res.text)\\\\n\",\\n    \"print(res.status_code)\\\\n\",\\n    \"if res.status_code == 200:\\\\n\",\\n    \"    print(res.headers)\\\\n\",\\n    \"    soup = BeautifulSoup(res.text)\\\\n\",\\n    \"else:\\\\n\",\\n    \"    print(\\\\\"문제 발생\\\\\")\"\\n   ]\\n  },\\n  {\\n   \"cell_type\": \"markdown\",\\n   \"metadata\": {},\\n   \"source\": [\\n    \"### Get 방식 요청 예제\"\\n   ]\\n  },\\n  {\\n   \"cell_type\": \"code\",\\n   \"execution_count\": 27,\\n   \"metadata\": {},\\n   \"outputs\": [\\n    {\\n     \"name\": \"stdout\",\\n     \"output_type\": \"stream\",\\n     \"text\": [\\n      \"https://httpbin.org/get\\\\n\",\\n      \"응답 상태 코드: 200\\\\n\",\\n      \"<class \\'dict\\'>\\\\n\",\\n      \"{\\'args\\': {\\'address\\': \\'서울\\', \\'age\\': [\\'20\\', \\'30\\', \\'40\\'], \\'name\\': \\'홍길동\\'}, \\'headers\\': {\\'Accept\\': \\'*/*\\', \\'Accept-Encoding\\': \\'gzip, deflate, br\\', \\'Host\\': \\'httpbin.org\\', \\'My-Data\\': \\'test value\\', \\'User-Agent\\': \\'Mozilla/5.0 (Windows NT 10.0; Win64; x64) AppleWebKit/537.36 (KHTML, like Gecko) Chrome/111.0.0.0 Safari/537.36\\', \\'X-Amzn-Trace-Id\\': \\'Root=1-643ce8fe-50a0d6824d7f7d0870d3882d\\'}, \\'origin\\': \\'222.112.208.66\\', \\'url\\': \\'https://httpbin.org/get?name=홍길동&age=20&age=30&age=40&address=서울\\'}\\\\n\"\\n     ]\\n    }\\n   ],\\n   \"source\": [\\n    \"import requests\\\\n\",\\n    \"\\\\n\",\\n    \"base_url = \\\\\"https://httpbin.org/{}\\\\\"\\\\n\",\\n    \"\\\\n\",\\n    \"url = base_url.format(\\\\\"get\\\\\")\\\\n\",\\n    \"print(url)\\\\n\",\\n    \"\\\\n\",\\n    \"\\\\n\",\\n    \"\\\\n\",\\n    \"# 요청 파라미터 => dictionart 로 name: value  형식을 저장, 같은 이름으로 여러개 값을 보낼경우 \\\\n\",\\n    \"#                                                                       name:[value1, vaule2, ....]\\\\n\",\\n    \"\\\\n\",\\n    \"req_param = {\\\\n\",\\n    \"    \\\\\"name\\\\\": \\\\\"홍길동\\\\\",\\\\n\",\\n    \"    \\\\\"age\\\\\": [20,30,40],\\\\n\",\\n    \"    \\\\\"address\\\\\": \\\\\"서울\\\\\"\\\\n\",\\n    \"}\\\\n\",\\n    \"\\\\n\",\\n    \"# url = \\\\\"\\\\\"https://httpbin.org/get?mname=홍길동&age=30&address=서울\\\\\"  이런식도 가능\\\\n\",\\n    \"\\\\n\",\\n    \"# hearder user-agent 설정 => 웹브라우저 종류(엔진)\\\\n\",\\n    \"    # 개발자 도구: 콘솔 -> navigator.userAgent\\\\n\",\\n    \"\\\\n\",\\n    \"user_agent = \\'Mozilla/5.0 (Windows NT 10.0; Win64; x64) AppleWebKit/537.36 (KHTML, like Gecko) Chrome/111.0.0.0 Safari/537.36\\'    \\\\n\",\\n    \"headers = {\\\\n\",\\n    \"    \\\\\"User-Agent\\\\\":user_agent,\\\\n\",\\n    \"    \\\\\"my-data\\\\\": \\\\\"test value\\\\\"\\\\n\",\\n    \"}\\\\n\",\\n    \"\\\\n\",\\n    \"response = requests.get(url,params=req_param, headers=headers)  # url => 요청 url, params => 요청 파라미터, header => 요청 header\\\\n\",\\n    \"print(\\'응답 상태 코드:\\', response.status_code)\\\\n\",\\n    \"if response.status_code == 200: # 정상 응답\\\\n\",\\n    \"    # 응답 데이터를 출력\\\\n\",\\n    \"    txt = response.json()\\\\n\",\\n    \"    print(type(txt))\\\\n\",\\n    \"    print(txt) #  [\\'header\\'] ,[\\'Accept\\']\"\\n   ]\\n  },\\n  {\\n   \"cell_type\": \"markdown\",\\n   \"metadata\": {\\n    \"heading_collapsed\": true\\n   },\\n   \"source\": [\\n    \"### Post 요청 예\"\\n   ]\\n  },\\n  {\\n   \"cell_type\": \"code\",\\n   \"execution_count\": 35,\\n   \"metadata\": {},\\n   \"outputs\": [\\n    {\\n     \"name\": \"stdout\",\\n     \"output_type\": \"stream\",\\n     \"text\": [\\n      \"https://httpbin.org/post\\\\n\",\\n      \"응답 상태 코드: 200\\\\n\",\\n      \"<class \\'dict\\'>\\\\n\",\\n      \"{\\'args\\': {}, \\'data\\': \\'\\', \\'files\\': {\\'notebook\\': \\'{\\\\\\\\n \\\\\"cells\\\\\": [\\\\\\\\n  {\\\\\\\\n   \\\\\"cell_type\\\\\": \\\\\"markdown\\\\\",\\\\\\\\n   \\\\\"metadata\\\\\": {\\\\\\\\n    \\\\\"slideshow\\\\\": {\\\\\\\\n     \\\\\"slide_type\\\\\": \\\\\"slide\\\\\"\\\\\\\\n    }\\\\\\\\n   },\\\\\\\\n   \\\\\"source\\\\\": [\\\\\\\\n    \\\\\"# requests 모듈을 이용한 웹 요청\\\\\\\\\\\\\\\\n\\\\\",\\\\\\\\n    \\\\\"- [Requests 홈페이지](https://requests.kennethreitz.org/en/master/)\\\\\\\\\\\\\\\\n\\\\\",\\\\\\\\n    \\\\\"- **HTTP 요청을 처리하는 파이썬 패키지**\\\\\\\\\\\\\\\\n\\\\\",\\\\\\\\n    \\\\\"- get/post 방식 모두를 지원하며 쿠키, 헤더정보등을 HTTP의 다양한 요청처리를 지원한다.\\\\\\\\\\\\\\\\n\\\\\",\\\\\\\\n    \\\\\"- 설치\\\\\\\\\\\\\\\\n\\\\\",\\\\\\\\n    \\\\\"    - `pip install requests`\\\\\\\\\\\\\\\\n\\\\\",\\\\\\\\n    \\\\\"    - `conda install -c conda-forge requests`\\\\\"\\\\\\\\n   ]\\\\\\\\n  },\\\\\\\\n  {\\\\\\\\n   \\\\\"cell_type\\\\\": \\\\\"markdown\\\\\",\\\\\\\\n   \\\\\"metadata\\\\\": {},\\\\\\\\n   \\\\\"source\\\\\": [\\\\\\\\n    \\\\\"## Crawling을 위한 requests 코딩 패턴\\\\\\\\\\\\\\\\n\\\\\",\\\\\\\\n    \\\\\"1. requests의 get()/post() 함수를 이용해 url을 넣어 서버 요청한다.\\\\\\\\\\\\\\\\n\\\\\",\\\\\\\\n    \\\\\"3. 응답받은 내용을 처리.\\\\\\\\\\\\\\\\n\\\\\",\\\\\\\\n    \\\\\"    - text(HTML)은 BeautifulSoup에 넣어 parsing\\\\\\\\\\\\\\\\n\\\\\",\\\\\\\\n    \\\\\"    - binary 파일의 경우 파일출력을 이용해 local에 저장\\\\\"\\\\\\\\n   ]\\\\\\\\n  },\\\\\\\\n  {\\\\\\\\n   \\\\\"cell_type\\\\\": \\\\\"markdown\\\\\",\\\\\\\\n   \\\\\"metadata\\\\\": {\\\\\\\\n    \\\\\"slideshow\\\\\": {\\\\\\\\n     \\\\\"slide_type\\\\\": \\\\\"slide\\\\\"\\\\\\\\n    }\\\\\\\\n   },\\\\\\\\n   \\\\\"source\\\\\": [\\\\\\\\n    \\\\\"## 요청 함수\\\\\\\\\\\\\\\\n\\\\\",\\\\\\\\n    \\\\\"- get(): GET방식 요청\\\\\\\\\\\\\\\\n\\\\\",\\\\\\\\n    \\\\\"- post(): POST방식 요청\\\\\"\\\\\\\\n   ]\\\\\\\\n  },\\\\\\\\n  {\\\\\\\\n   \\\\\"cell_type\\\\\": \\\\\"markdown\\\\\",\\\\\\\\n   \\\\\"metadata\\\\\": {\\\\\\\\n    \\\\\"slideshow\\\\\": {\\\\\\\\n     \\\\\"slide_type\\\\\": \\\\\"slide\\\\\"\\\\\\\\n    }\\\\\\\\n   },\\\\\\\\n   \\\\\"source\\\\\": [\\\\\\\\n    \\\\\"### requests.get(URL)\\\\\\\\\\\\\\\\n\\\\\",\\\\\\\\n    \\\\\"- **GET 방식 요청**\\\\\\\\\\\\\\\\n\\\\\",\\\\\\\\n    \\\\\"- **주요 매개변수**\\\\\\\\\\\\\\\\n\\\\\",\\\\\\\\n    \\\\\"    - params: 요청파라미터를 dictionary로 전달\\\\\\\\\\\\\\\\n\\\\\",\\\\\\\\n    \\\\\"    - headers: HTTP 요청 header를 dictionary로 전달\\\\\\\\\\\\\\\\n\\\\\",\\\\\\\\n    \\\\\"        - \\\\\\\\\\'User-Agent\\\\\\\\\\', \\\\\\\\\\'Referer\\\\\\\\\\' 등 헤더 설정\\\\\\\\\\\\\\\\n\\\\\",\\\\\\\\n    \\\\\"    - cookies: 쿠키정보를 전달\\\\\\\\\\\\\\\\n\\\\\",\\\\\\\\n    \\\\\"- **반환값(Return Value)**\\\\\\\\\\\\\\\\n\\\\\",\\\\\\\\n    \\\\\"    - [Response](#Response객체): 응답결과\\\\\"\\\\\\\\n   ]\\\\\\\\n  },\\\\\\\\n  {\\\\\\\\n   \\\\\"cell_type\\\\\": \\\\\"markdown\\\\\",\\\\\\\\n   \\\\\"metadata\\\\\": {},\\\\\\\\n   \\\\\"source\\\\\": [\\\\\\\\n    \\\\\"### requests.post(URL)\\\\\\\\\\\\\\\\n\\\\\",\\\\\\\\n    \\\\\"- **POST 방식 요청**\\\\\\\\\\\\\\\\n\\\\\",\\\\\\\\n    \\\\\"- **주요 매개변수**\\\\\\\\\\\\\\\\n\\\\\",\\\\\\\\n    \\\\\"    - datas : 요청파라미터를 dictionary로 전달\\\\\\\\\\\\\\\\n\\\\\",\\\\\\\\n    \\\\\"    - files : 업로드할 파일을 dictionary로 전달\\\\\\\\\\\\\\\\n\\\\\",\\\\\\\\n    \\\\\"        - key: 이름, value: 파일과 연결된 InputStream(TextIOWrapper)\\\\\\\\\\\\\\\\n\\\\\",\\\\\\\\n    \\\\\"    - headers: HTTP 요청 header를 dictionary로 전달\\\\\\\\\\\\\\\\n\\\\\",\\\\\\\\n    \\\\\"        - \\\\\\\\\\'User-Agent\\\\\\\\\\', \\\\\\\\\\'Referer\\\\\\\\\\' 등 헤더 설정\\\\\\\\\\\\\\\\n\\\\\",\\\\\\\\n    \\\\\"    - cookies: 쿠키정보를 전달\\\\\\\\\\\\\\\\n\\\\\",\\\\\\\\n    \\\\\"- **반환값(Return Value)**\\\\\\\\\\\\\\\\n\\\\\",\\\\\\\\n    \\\\\"    - [Response](#Response객체): 응답결과\\\\\"\\\\\\\\n   ]\\\\\\\\n  },\\\\\\\\n  {\\\\\\\\n   \\\\\"cell_type\\\\\": \\\\\"markdown\\\\\",\\\\\\\\n   \\\\\"metadata\\\\\": {\\\\\\\\n    \\\\\"slideshow\\\\\": {\\\\\\\\n     \\\\\"slide_type\\\\\": \\\\\"subslide\\\\\"\\\\\\\\n    }\\\\\\\\n   },\\\\\\\\n   \\\\\"source\\\\\": [\\\\\\\\n    \\\\\"> ### 요청파라미터(Request Parameter)\\\\\\\\\\\\\\\\n\\\\\",\\\\\\\\n    \\\\\"> - 요청파라미터란?\\\\\\\\\\\\\\\\n\\\\\",\\\\\\\\n    \\\\\">     - 서버가 일하기 위해 클라이언트로 부터 받아야하는 값들\\\\\\\\\\\\\\\\n\\\\\",\\\\\\\\n    \\\\\">     - `name=value` 형태이며 여러개일 경우 `&`로 연결해서 전송됨\\\\\\\\\\\\\\\\n\\\\\",\\\\\\\\n    \\\\\"> - Get 요청시 queryString 으로 전달\\\\\\\\\\\\\\\\n\\\\\",\\\\\\\\n    \\\\\">     - querystring : URL 뒤에 붙여서 전송한다.\\\\\\\\\\\\\\\\n\\\\\",\\\\\\\\n    \\\\\">     - ex) https://search.naver.com/search.naver?sm=top_hty&fbm=1&ie=utf8&query=python\\\\\\\\\\\\\\\\n\\\\\",\\\\\\\\n    \\\\\">     - requests.get() 요청시 \\\\\\\\\\\\\\\\n\\\\\",\\\\\\\\n    \\\\\">         1. url 뒤에 querystring으로 붙여서 전송\\\\\\\\\\\\\\\\n\\\\\",\\\\\\\\n    \\\\\">         2. dictionary 에 name=value 형태로 만들어 매개변수 params에 전달\\\\\\\\\\\\\\\\n\\\\\",\\\\\\\\n    \\\\\"> - Post 요청시 요청정보의 body에 넣어 전달\\\\\"\\\\\\\\n   ]\\\\\\\\n  },\\\\\\\\n  {\\\\\\\\n   \\\\\"cell_type\\\\\": \\\\\"markdown\\\\\",\\\\\\\\n   \\\\\"metadata\\\\\": {},\\\\\\\\n   \\\\\"source\\\\\": [\\\\\\\\n    \\\\\"> ### HTTP 요청 헤더(Request Header)\\\\\\\\\\\\\\\\n\\\\\",\\\\\\\\n    \\\\\"> HTTP 요청시 웹브라우저가 client의 여러 부가적인 정보들을 Key-Value 쌍 형식으로 전달한다.\\\\\\\\\\\\\\\\n\\\\\",\\\\\\\\n    \\\\\"> - accept: 클라이언트가 처리가능한 content 타입 (Mime-type 형식으로 전달)\\\\\\\\\\\\\\\\n\\\\\",\\\\\\\\n    \\\\\"> - accept-language: 클라이언트가 지원하는 언어(ex: ko, en-US)\\\\\\\\\\\\\\\\n\\\\\",\\\\\\\\n    \\\\\"> - host: 요청한 host \\\\\\\\\\\\\\\\n\\\\\",\\\\\\\\n    \\\\\"> - user-agent: 웹브라우저 종류\\\\\"\\\\\\\\n   ]\\\\\\\\n  },\\\\\\\\n  {\\\\\\\\n   \\\\\"cell_type\\\\\": \\\\\"markdown\\\\\",\\\\\\\\n   \\\\\"metadata\\\\\": {\\\\\\\\n    \\\\\"slideshow\\\\\": {\\\\\\\\n     \\\\\"slide_type\\\\\": \\\\\"slide\\\\\"\\\\\\\\n    }\\\\\\\\n   },\\\\\\\\n   \\\\\"source\\\\\": [\\\\\\\\n    \\\\\"## Response객체 -  응답데이터\\\\\\\\\\\\\\\\n\\\\\",\\\\\\\\n    \\\\\"- get()/post() 의 요청에 대한 서버의 응답 결과를 Response에 담아 반환\\\\\\\\\\\\\\\\n\\\\\",\\\\\\\\n    \\\\\"    - Response의 속성을 이용해 응답결과를 조회\\\\\\\\\\\\\\\\n\\\\\",\\\\\\\\n    \\\\\"- 주요 속성(Attribut)\\\\\\\\\\\\\\\\n\\\\\",\\\\\\\\n    \\\\\"    - **url**\\\\\\\\\\\\\\\\n\\\\\",\\\\\\\\n    \\\\\"        - 응답 받은(요청한) url \\\\\\\\\\\\\\\\n\\\\\",\\\\\\\\n    \\\\\"    - **status_code**\\\\\\\\\\\\\\\\n\\\\\",\\\\\\\\n    \\\\\"        - HTTP 응답 상태코드\\\\\\\\\\\\\\\\n\\\\\",\\\\\\\\n    \\\\\"    - **headers**\\\\\\\\\\\\\\\\n\\\\\",\\\\\\\\n    \\\\\"        - 응답 header 정보를 dictionary로 반환\\\\\\\\\\\\\\\\n\\\\\",\\\\\\\\n    \\\\\"- **응답 결과 조회**\\\\\\\\\\\\\\\\n\\\\\",\\\\\\\\n    \\\\\"    - **text**\\\\\\\\\\\\\\\\n\\\\\",\\\\\\\\n    \\\\\"        - 응답내용(html을 str로 반환)\\\\\\\\\\\\\\\\n\\\\\",\\\\\\\\n    \\\\\"    - **content**\\\\\\\\\\\\\\\\n\\\\\",\\\\\\\\n    \\\\\"        - 응답내용(응답결과가 binary-image, 동영상등- 일 경우사용하며 bytes로 반환)\\\\\\\\\\\\\\\\n\\\\\",\\\\\\\\n    \\\\\"    - **json()**\\\\\\\\\\\\\\\\n\\\\\",\\\\\\\\n    \\\\\"        - 응답 결과가 JSON 인 경우 dictionary로 변환해서 반환\\\\\"\\\\\\\\n   ]\\\\\\\\n  },\\\\\\\\n  {\\\\\\\\n   \\\\\"cell_type\\\\\": \\\\\"markdown\\\\\",\\\\\\\\n   \\\\\"metadata\\\\\": {},\\\\\\\\n   \\\\\"source\\\\\": [\\\\\\\\n    \\\\\"> ### JSON(JavaScript Object Notation)\\\\\\\\\\\\\\\\n\\\\\",\\\\\\\\n    \\\\\"> key-value 형태 또는 배열 형태의 text이며 이 기종간 데이터 교환에 많이 사용된다. 자바스크립트 언어에서 Object와 array를 생성하는 문법을 이용해 만듬. \\\\\\\\\\\\\\\\n\\\\\",\\\\\\\\n    \\\\\"- [JSON 공식사이트](http://json.org)\\\\\\\\\\\\\\\\n\\\\\",\\\\\\\\n    \\\\\">\\\\\\\\\\\\\\\\n\\\\\",\\\\\\\\n    \\\\\"> ### json 모듈\\\\\\\\\\\\\\\\n\\\\\",\\\\\\\\n    \\\\\"> JSON 형식 문자열을 다루는 모듈\\\\\\\\\\\\\\\\n\\\\\",\\\\\\\\n    \\\\\"> - json.loads(json문자열)\\\\\\\\\\\\\\\\n\\\\\",\\\\\\\\n    \\\\\">    - JSON 형식 문자열을 dictionary로 변환\\\\\\\\\\\\\\\\n\\\\\",\\\\\\\\n    \\\\\"> - json.dumps(dictionary)\\\\\\\\\\\\\\\\n\\\\\",\\\\\\\\n    \\\\\">    - dictionary를 JSON 형식 문자열로 변환\\\\\"\\\\\\\\n   ]\\\\\\\\n  },\\\\\\\\n  {\\\\\\\\n   \\\\\"cell_type\\\\\": \\\\\"markdown\\\\\",\\\\\\\\n   \\\\\"metadata\\\\\": {},\\\\\\\\n   \\\\\"source\\\\\": [\\\\\\\\n    \\\\\"> ### HTTP 응답 상태코드\\\\\\\\\\\\\\\\n\\\\\",\\\\\\\\n    \\\\\"> - https://developer.mozilla.org/ko/docs/Web/HTTP/Status \\\\\\\\\\\\\\\\n\\\\\",\\\\\\\\n    \\\\\"- 2XX: 성공\\\\\\\\\\\\\\\\n\\\\\",\\\\\\\\n    \\\\\"    - 200: OK\\\\\\\\\\\\\\\\n\\\\\",\\\\\\\\n    \\\\\"- 3XX: 다른 주소로 이동 (이사)\\\\\\\\\\\\\\\\n\\\\\",\\\\\\\\n    \\\\\"    - 300번대이면 자동으로 이동해 준다. 크롤링시는 볼일이 별로 없다.\\\\\\\\\\\\\\\\n\\\\\",\\\\\\\\n    \\\\\"- 4XX: 클라이언트 오류 (사용자가 잘못한 것)\\\\\\\\\\\\\\\\n\\\\\",\\\\\\\\n    \\\\\"  - 404: 존재하지 않는 주소\\\\\\\\\\\\\\\\n\\\\\",\\\\\\\\n    \\\\\"- 5XX: 서버 오류 (서버에서 문제생긴 것)\\\\\\\\\\\\\\\\n\\\\\",\\\\\\\\n    \\\\\"  - 500: 서버가 처리방법을 모르는 오류\\\\\\\\\\\\\\\\n\\\\\",\\\\\\\\n    \\\\\"  - 503: 서버가 다운 등의 문제로 서비스 불가 상태\\\\\"\\\\\\\\n   ]\\\\\\\\n  },\\\\\\\\n  {\\\\\\\\n   \\\\\"cell_type\\\\\": \\\\\"code\\\\\",\\\\\\\\n   \\\\\"execution_count\\\\\": 13,\\\\\\\\n   \\\\\"metadata\\\\\": {},\\\\\\\\n   \\\\\"outputs\\\\\": [\\\\\\\\n    {\\\\\\\\n     \\\\\"name\\\\\": \\\\\"stdout\\\\\",\\\\\\\\n     \\\\\"output_type\\\\\": \\\\\"stream\\\\\",\\\\\\\\n     \\\\\"text\\\\\": [\\\\\\\\n      \\\\\"200\\\\\\\\\\\\\\\\n\\\\\",\\\\\\\\n      \\\\\"{\\\\\\\\\\'Server\\\\\\\\\\': \\\\\\\\\\'NWS\\\\\\\\\\', \\\\\\\\\\'Date\\\\\\\\\\': \\\\\\\\\\'Mon, 17 Apr 2023 05:37:03 GMT\\\\\\\\\\', \\\\\\\\\\'Content-Type\\\\\\\\\\': \\\\\\\\\\'text/html; charset=UTF-8\\\\\\\\\\', \\\\\\\\\\'Transfer-Encoding\\\\\\\\\\': \\\\\\\\\\'chunked\\\\\\\\\\', \\\\\\\\\\'Connection\\\\\\\\\\': \\\\\\\\\\'keep-alive\\\\\\\\\\', \\\\\\\\\\'Set-Cookie\\\\\\\\\\': \\\\\\\\\\'PM_CK_loc=eeb1b259a03c465783af0c5c528ee7b7a77f5e92bc2d0d18da3f1be6e3fc33ec; Expires=Tue, 18 Apr 2023 05:37:03 GMT; Path=/; HttpOnly\\\\\\\\\\', \\\\\\\\\\'Cache-Control\\\\\\\\\\': \\\\\\\\\\'no-cache, no-store, must-revalidate\\\\\\\\\\', \\\\\\\\\\'Pragma\\\\\\\\\\': \\\\\\\\\\'no-cache\\\\\\\\\\', \\\\\\\\\\'P3P\\\\\\\\\\': \\\\\\\\\\'CP=\\\\\\\\\\\\\\\\\\\\\"CAO DSP CURa ADMa TAIa PSAa OUR LAW STP PHY ONL UNI PUR FIN COM NAV INT DEM STA PRE\\\\\\\\\\\\\\\\\\\\\"\\\\\\\\\\', \\\\\\\\\\'X-Frame-Options\\\\\\\\\\': \\\\\\\\\\'DENY\\\\\\\\\\', \\\\\\\\\\'X-XSS-Protection\\\\\\\\\\': \\\\\\\\\\'1; mode=block\\\\\\\\\\', \\\\\\\\\\'Content-Encoding\\\\\\\\\\': \\\\\\\\\\'gzip\\\\\\\\\\', \\\\\\\\\\'Strict-Transport-Security\\\\\\\\\\': \\\\\\\\\\'max-age=63072000; includeSubdomains\\\\\\\\\\', \\\\\\\\\\'Referrer-Policy\\\\\\\\\\': \\\\\\\\\\'unsafe-url\\\\\\\\\\'}\\\\\\\\\\\\\\\\n\\\\\"\\\\\\\\n     ]\\\\\\\\n    }\\\\\\\\n   ],\\\\\\\\n   \\\\\"source\\\\\": [\\\\\\\\n    \\\\\"import requests\\\\\\\\\\\\\\\\n\\\\\",\\\\\\\\n    \\\\\"from bs4 import BeautifulSoup\\\\\\\\\\\\\\\\n\\\\\",\\\\\\\\n    \\\\\"url = \\\\\\\\\\\\\\\\\\\\\"https://www.naver.com/\\\\\\\\\\\\\\\\\\\\\"\\\\\\\\\\\\\\\\n\\\\\",\\\\\\\\n    \\\\\"res = requests.get(url) # 요청에서 응답까지를 다해줌\\\\\\\\\\\\\\\\n\\\\\",\\\\\\\\n    \\\\\"# print(res.text)\\\\\\\\\\\\\\\\n\\\\\",\\\\\\\\n    \\\\\"print(res.status_code)\\\\\\\\\\\\\\\\n\\\\\",\\\\\\\\n    \\\\\"if res.status_code == 200:\\\\\\\\\\\\\\\\n\\\\\",\\\\\\\\n    \\\\\"    print(res.headers)\\\\\\\\\\\\\\\\n\\\\\",\\\\\\\\n    \\\\\"    soup = BeautifulSoup(res.text)\\\\\\\\\\\\\\\\n\\\\\",\\\\\\\\n    \\\\\"else:\\\\\\\\\\\\\\\\n\\\\\",\\\\\\\\n    \\\\\"    print(\\\\\\\\\\\\\\\\\\\\\"문제 발생\\\\\\\\\\\\\\\\\\\\\")\\\\\"\\\\\\\\n   ]\\\\\\\\n  },\\\\\\\\n  {\\\\\\\\n   \\\\\"cell_type\\\\\": \\\\\"markdown\\\\\",\\\\\\\\n   \\\\\"metadata\\\\\": {},\\\\\\\\n   \\\\\"source\\\\\": [\\\\\\\\n    \\\\\"### Get 방식 요청 예제\\\\\"\\\\\\\\n   ]\\\\\\\\n  },\\\\\\\\n  {\\\\\\\\n   \\\\\"cell_type\\\\\": \\\\\"code\\\\\",\\\\\\\\n   \\\\\"execution_count\\\\\": 27,\\\\\\\\n   \\\\\"metadata\\\\\": {},\\\\\\\\n   \\\\\"outputs\\\\\": [\\\\\\\\n    {\\\\\\\\n     \\\\\"name\\\\\": \\\\\"stdout\\\\\",\\\\\\\\n     \\\\\"output_type\\\\\": \\\\\"stream\\\\\",\\\\\\\\n     \\\\\"text\\\\\": [\\\\\\\\n      \\\\\"https://httpbin.org/get\\\\\\\\\\\\\\\\n\\\\\",\\\\\\\\n      \\\\\"응답 상태 코드: 200\\\\\\\\\\\\\\\\n\\\\\",\\\\\\\\n      \\\\\"<class \\\\\\\\\\'dict\\\\\\\\\\'>\\\\\\\\\\\\\\\\n\\\\\",\\\\\\\\n      \\\\\"{\\\\\\\\\\'args\\\\\\\\\\': {\\\\\\\\\\'address\\\\\\\\\\': \\\\\\\\\\'서울\\\\\\\\\\', \\\\\\\\\\'age\\\\\\\\\\': [\\\\\\\\\\'20\\\\\\\\\\', \\\\\\\\\\'30\\\\\\\\\\', \\\\\\\\\\'40\\\\\\\\\\'], \\\\\\\\\\'name\\\\\\\\\\': \\\\\\\\\\'홍길동\\\\\\\\\\'}, \\\\\\\\\\'headers\\\\\\\\\\': {\\\\\\\\\\'Accept\\\\\\\\\\': \\\\\\\\\\'*/*\\\\\\\\\\', \\\\\\\\\\'Accept-Encoding\\\\\\\\\\': \\\\\\\\\\'gzip, deflate, br\\\\\\\\\\', \\\\\\\\\\'Host\\\\\\\\\\': \\\\\\\\\\'httpbin.org\\\\\\\\\\', \\\\\\\\\\'My-Data\\\\\\\\\\': \\\\\\\\\\'test value\\\\\\\\\\', \\\\\\\\\\'User-Agent\\\\\\\\\\': \\\\\\\\\\'Mozilla/5.0 (Windows NT 10.0; Win64; x64) AppleWebKit/537.36 (KHTML, like Gecko) Chrome/111.0.0.0 Safari/537.36\\\\\\\\\\', \\\\\\\\\\'X-Amzn-Trace-Id\\\\\\\\\\': \\\\\\\\\\'Root=1-643ce8fe-50a0d6824d7f7d0870d3882d\\\\\\\\\\'}, \\\\\\\\\\'origin\\\\\\\\\\': \\\\\\\\\\'222.112.208.66\\\\\\\\\\', \\\\\\\\\\'url\\\\\\\\\\': \\\\\\\\\\'https://httpbin.org/get?name=홍길동&age=20&age=30&age=40&address=서울\\\\\\\\\\'}\\\\\\\\\\\\\\\\n\\\\\"\\\\\\\\n     ]\\\\\\\\n    }\\\\\\\\n   ],\\\\\\\\n   \\\\\"source\\\\\": [\\\\\\\\n    \\\\\"import requests\\\\\\\\\\\\\\\\n\\\\\",\\\\\\\\n    \\\\\"\\\\\\\\\\\\\\\\n\\\\\",\\\\\\\\n    \\\\\"base_url = \\\\\\\\\\\\\\\\\\\\\"https://httpbin.org/{}\\\\\\\\\\\\\\\\\\\\\"\\\\\\\\\\\\\\\\n\\\\\",\\\\\\\\n    \\\\\"\\\\\\\\\\\\\\\\n\\\\\",\\\\\\\\n    \\\\\"url = base_url.format(\\\\\\\\\\\\\\\\\\\\\"get\\\\\\\\\\\\\\\\\\\\\")\\\\\\\\\\\\\\\\n\\\\\",\\\\\\\\n    \\\\\"print(url)\\\\\\\\\\\\\\\\n\\\\\",\\\\\\\\n    \\\\\"\\\\\\\\\\\\\\\\n\\\\\",\\\\\\\\n    \\\\\"\\\\\\\\\\\\\\\\n\\\\\",\\\\\\\\n    \\\\\"\\\\\\\\\\\\\\\\n\\\\\",\\\\\\\\n    \\\\\"# 요청 파라미터 => dictionart 로 name: value  형식을 저장, 같은 이름으로 여러개 값을 보낼경우 \\\\\\\\\\\\\\\\n\\\\\",\\\\\\\\n    \\\\\"#                                                                       name:[value1, vaule2, ....]\\\\\\\\\\\\\\\\n\\\\\",\\\\\\\\n    \\\\\"\\\\\\\\\\\\\\\\n\\\\\",\\\\\\\\n    \\\\\"req_param = {\\\\\\\\\\\\\\\\n\\\\\",\\\\\\\\n    \\\\\"    \\\\\\\\\\\\\\\\\\\\\"name\\\\\\\\\\\\\\\\\\\\\": \\\\\\\\\\\\\\\\\\\\\"홍길동\\\\\\\\\\\\\\\\\\\\\",\\\\\\\\\\\\\\\\n\\\\\",\\\\\\\\n    \\\\\"    \\\\\\\\\\\\\\\\\\\\\"age\\\\\\\\\\\\\\\\\\\\\": [20,30,40],\\\\\\\\\\\\\\\\n\\\\\",\\\\\\\\n    \\\\\"    \\\\\\\\\\\\\\\\\\\\\"address\\\\\\\\\\\\\\\\\\\\\": \\\\\\\\\\\\\\\\\\\\\"서울\\\\\\\\\\\\\\\\\\\\\"\\\\\\\\\\\\\\\\n\\\\\",\\\\\\\\n    \\\\\"}\\\\\\\\\\\\\\\\n\\\\\",\\\\\\\\n    \\\\\"\\\\\\\\\\\\\\\\n\\\\\",\\\\\\\\n    \\\\\"# url = \\\\\\\\\\\\\\\\\\\\\"\\\\\\\\\\\\\\\\\\\\\"https://httpbin.org/get?mname=홍길동&age=30&address=서울\\\\\\\\\\\\\\\\\\\\\"  이런식도 가능\\\\\\\\\\\\\\\\n\\\\\",\\\\\\\\n    \\\\\"\\\\\\\\\\\\\\\\n\\\\\",\\\\\\\\n    \\\\\"# hearder user-agent 설정 => 웹브라우저 종류(엔진)\\\\\\\\\\\\\\\\n\\\\\",\\\\\\\\n    \\\\\"    # 개발자 도구: 콘솔 -> navigator.userAgent\\\\\\\\\\\\\\\\n\\\\\",\\\\\\\\n    \\\\\"\\\\\\\\\\\\\\\\n\\\\\",\\\\\\\\n    \\\\\"user_agent = \\\\\\\\\\'Mozilla/5.0 (Windows NT 10.0; Win64; x64) AppleWebKit/537.36 (KHTML, like Gecko) Chrome/111.0.0.0 Safari/537.36\\\\\\\\\\'    \\\\\\\\\\\\\\\\n\\\\\",\\\\\\\\n    \\\\\"headers = {\\\\\\\\\\\\\\\\n\\\\\",\\\\\\\\n    \\\\\"    \\\\\\\\\\\\\\\\\\\\\"User-Agent\\\\\\\\\\\\\\\\\\\\\":user_agent,\\\\\\\\\\\\\\\\n\\\\\",\\\\\\\\n    \\\\\"    \\\\\\\\\\\\\\\\\\\\\"my-data\\\\\\\\\\\\\\\\\\\\\": \\\\\\\\\\\\\\\\\\\\\"test value\\\\\\\\\\\\\\\\\\\\\"\\\\\\\\\\\\\\\\n\\\\\",\\\\\\\\n    \\\\\"}\\\\\\\\\\\\\\\\n\\\\\",\\\\\\\\n    \\\\\"\\\\\\\\\\\\\\\\n\\\\\",\\\\\\\\n    \\\\\"response = requests.get(url,params=req_param, headers=headers)  # url => 요청 url, params => 요청 파라미터, header => 요청 header\\\\\\\\\\\\\\\\n\\\\\",\\\\\\\\n    \\\\\"print(\\\\\\\\\\'응답 상태 코드:\\\\\\\\\\', response.status_code)\\\\\\\\\\\\\\\\n\\\\\",\\\\\\\\n    \\\\\"if response.status_code == 200: # 정상 응답\\\\\\\\\\\\\\\\n\\\\\",\\\\\\\\n    \\\\\"    # 응답 데이터를 출력\\\\\\\\\\\\\\\\n\\\\\",\\\\\\\\n    \\\\\"    txt = response.json()\\\\\\\\\\\\\\\\n\\\\\",\\\\\\\\n    \\\\\"    print(type(txt))\\\\\\\\\\\\\\\\n\\\\\",\\\\\\\\n    \\\\\"    print(txt) #  [\\\\\\\\\\'header\\\\\\\\\\'] ,[\\\\\\\\\\'Accept\\\\\\\\\\']\\\\\"\\\\\\\\n   ]\\\\\\\\n  },\\\\\\\\n  {\\\\\\\\n   \\\\\"cell_type\\\\\": \\\\\"markdown\\\\\",\\\\\\\\n   \\\\\"metadata\\\\\": {\\\\\\\\n    \\\\\"heading_collapsed\\\\\": true\\\\\\\\n   },\\\\\\\\n   \\\\\"source\\\\\": [\\\\\\\\n    \\\\\"### Post 요청 예\\\\\"\\\\\\\\n   ]\\\\\\\\n  },\\\\\\\\n  {\\\\\\\\n   \\\\\"cell_type\\\\\": \\\\\"code\\\\\",\\\\\\\\n   \\\\\"execution_count\\\\\": 30,\\\\\\\\n   \\\\\"metadata\\\\\": {},\\\\\\\\n   \\\\\"outputs\\\\\": [\\\\\\\\n    {\\\\\\\\n     \\\\\"ename\\\\\": \\\\\"SyntaxError\\\\\",\\\\\\\\n     \\\\\"evalue\\\\\": \\\\\"invalid syntax (1572895501.py, line 30)\\\\\",\\\\\\\\n     \\\\\"output_type\\\\\": \\\\\"error\\\\\",\\\\\\\\n     \\\\\"traceback\\\\\": [\\\\\\\\n      \\\\\"\\\\\\\\\\\\\\\\u001b[1;36m  Cell \\\\\\\\\\\\\\\\u001b[1;32mIn[30], line 30\\\\\\\\\\\\\\\\u001b[1;36m\\\\\\\\\\\\\\\\u001b[0m\\\\\\\\\\\\\\\\n\\\\\\\\\\\\\\\\u001b[1;33m    f= with open(\\\\\\\\\\'02_requests.ipynb\\\\\\\\\\',\\\\\\\\\\'rb\\\\\\\\\\')\\\\\\\\\\\\\\\\u001b[0m\\\\\\\\\\\\\\\\n\\\\\\\\\\\\\\\\u001b[1;37m       ^\\\\\\\\\\\\\\\\u001b[0m\\\\\\\\\\\\\\\\n\\\\\\\\\\\\\\\\u001b[1;31mSyntaxError\\\\\\\\\\\\\\\\u001b[0m\\\\\\\\\\\\\\\\u001b[1;31m:\\\\\\\\\\\\\\\\u001b[0m invalid syntax\\\\\\\\\\\\\\\\n\\\\\"\\\\\\\\n     ]\\\\\\\\n    }\\\\\\\\n   ],\\\\\\\\n   \\\\\"source\\\\\": [\\\\\\\\n    \\\\\"import requests\\\\\\\\\\\\\\\\n\\\\\",\\\\\\\\n    \\\\\"\\\\\\\\\\\\\\\\n\\\\\",\\\\\\\\n    \\\\\"base_url = \\\\\\\\\\\\\\\\\\\\\"https://httpbin.org/{}\\\\\\\\\\\\\\\\\\\\\"\\\\\\\\\\\\\\\\n\\\\\",\\\\\\\\n    \\\\\"\\\\\\\\\\\\\\\\n\\\\\",\\\\\\\\n    \\\\\"url = base_url.format(\\\\\\\\\\\\\\\\\\\\\"post\\\\\\\\\\\\\\\\\\\\\")\\\\\\\\\\\\\\\\n\\\\\",\\\\\\\\n    \\\\\"print(url)\\\\\\\\\\\\\\\\n\\\\\",\\\\\\\\n    \\\\\"\\\\\\\\\\\\\\\\n\\\\\",\\\\\\\\n    \\\\\"\\\\\\\\\\\\\\\\n\\\\\",\\\\\\\\n    \\\\\"\\\\\\\\\\\\\\\\n\\\\\",\\\\\\\\n    \\\\\"# 요청 파라미터 => dictionart 로 name: value  형식을 저장, 같은 이름으로 여러개 값을 보낼경우 \\\\\\\\\\\\\\\\n\\\\\",\\\\\\\\n    \\\\\"#                                                                       name:[value1, vaule2, ....]\\\\\\\\\\\\\\\\n\\\\\",\\\\\\\\n    \\\\\"\\\\\\\\\\\\\\\\n\\\\\",\\\\\\\\n    \\\\\"req_param = {\\\\\\\\\\\\\\\\n\\\\\",\\\\\\\\n    \\\\\"    \\\\\\\\\\\\\\\\\\\\\"name\\\\\\\\\\\\\\\\\\\\\": \\\\\\\\\\\\\\\\\\\\\"홍길동\\\\\\\\\\\\\\\\\\\\\",\\\\\\\\\\\\\\\\n\\\\\",\\\\\\\\n    \\\\\"    \\\\\\\\\\\\\\\\\\\\\"age\\\\\\\\\\\\\\\\\\\\\": 20,\\\\\\\\\\\\\\\\n\\\\\",\\\\\\\\n    \\\\\"    \\\\\\\\\\\\\\\\\\\\\"address\\\\\\\\\\\\\\\\\\\\\": \\\\\\\\\\\\\\\\\\\\\"서울\\\\\\\\\\\\\\\\\\\\\"\\\\\\\\\\\\\\\\n\\\\\",\\\\\\\\n    \\\\\"}\\\\\\\\\\\\\\\\n\\\\\",\\\\\\\\n    \\\\\"\\\\\\\\\\\\\\\\n\\\\\",\\\\\\\\n    \\\\\"# url = \\\\\\\\\\\\\\\\\\\\\"\\\\\\\\\\\\\\\\\\\\\"https://httpbin.org/get?mname=홍길동&age=30&address=서울\\\\\\\\\\\\\\\\\\\\\"  이런식도 가능\\\\\\\\\\\\\\\\n\\\\\",\\\\\\\\n    \\\\\"\\\\\\\\\\\\\\\\n\\\\\",\\\\\\\\n    \\\\\"# hearder user-agent 설정 => 웹브라우저 종류(엔진)\\\\\\\\\\\\\\\\n\\\\\",\\\\\\\\n    \\\\\"    # 개발자 도구: 콘솔 -> navigator.userAgent\\\\\\\\\\\\\\\\n\\\\\",\\\\\\\\n    \\\\\"\\\\\\\\\\\\\\\\n\\\\\",\\\\\\\\n    \\\\\"user_agent = \\\\\\\\\\'Mozilla/5.0 (Windows NT 10.0; Win64; x64) AppleWebKit/537.36 (KHTML, like Gecko) Chrome/111.0.0.0 Safari/537.36\\\\\\\\\\'    \\\\\\\\\\\\\\\\n\\\\\",\\\\\\\\n    \\\\\"headers = {\\\\\\\\\\\\\\\\n\\\\\",\\\\\\\\n    \\\\\"    \\\\\\\\\\\\\\\\\\\\\"User-Agent\\\\\\\\\\\\\\\\\\\\\":user_agent,\\\\\\\\\\\\\\\\n\\\\\",\\\\\\\\n    \\\\\"    \\\\\\\\\\\\\\\\\\\\\"my-data\\\\\\\\\\\\\\\\\\\\\": \\\\\\\\\\\\\\\\\\\\\"test value\\\\\\\\\\\\\\\\\\\\\"\\\\\\\\\\\\\\\\n\\\\\",\\\\\\\\n    \\\\\"}\\\\\\\\\\\\\\\\n\\\\\",\\\\\\\\n    \\\\\"# 파일 업로드: 딕셔너리에 {이름: input stream}\\\\\\\\\\\\\\\\n\\\\\",\\\\\\\\n    \\\\\"f= with open(\\\\\\\\\\'02_requests.ipynb\\\\\\\\\\',\\\\\\\\\\'rb\\\\\\\\\\')\\\\\\\\\\\\\\\\n\\\\\",\\\\\\\\n    \\\\\"    files= {\\\\\\\\\\\\\\\\n\\\\\",\\\\\\\\n    \\\\\"        \\\\\\\\\\\\\\\\\\\\\"notebook\\\\\\\\\\\\\\\\\\\\\": f \\\\\\\\\\\\\\\\n\\\\\",\\\\\\\\n    \\\\\"    }\\\\\\\\\\\\\\\\n\\\\\",\\\\\\\\n    \\\\\"f = close()\\\\\\\\\\\\\\\\n\\\\\",\\\\\\\\n    \\\\\"\\\\\\\\\\\\\\\\n\\\\\",\\\\\\\\n    \\\\\"\\\\\\\\\\\\\\\\n\\\\\",\\\\\\\\n    \\\\\"response = requests.post(url,data=req_param, headers=headers,files= files) \\\\\\\\\\\\\\\\n\\\\\",\\\\\\\\n    \\\\\"# url => 요청 url, data => 요청 파라미터, header => 요청 header, files => 업로드할 파일 \\\\\\\\\\\\\\\\n\\\\\",\\\\\\\\n    \\\\\"print(\\\\\\\\\\'응답 상태 코드:\\\\\\\\\\', response.status_code)\\\\\\\\\\\\\\\\n\\\\\",\\\\\\\\n    \\\\\"if response.status_code == 200: # 정상 응답\\\\\\\\\\\\\\\\n\\\\\",\\\\\\\\n    \\\\\"    # 응답 데이터를 출력\\\\\\\\\\\\\\\\n\\\\\",\\\\\\\\n    \\\\\"    txt = response.json()\\\\\\\\\\\\\\\\n\\\\\",\\\\\\\\n    \\\\\"    print(type(txt))\\\\\\\\\\\\\\\\n\\\\\",\\\\\\\\n    \\\\\"    print(txt) #  [\\\\\\\\\\'header\\\\\\\\\\'] ,[\\\\\\\\\\'Accept\\\\\\\\\\']\\\\\"\\\\\\\\n   ]\\\\\\\\n  },\\\\\\\\n  {\\\\\\\\n   \\\\\"cell_type\\\\\": \\\\\"markdown\\\\\",\\\\\\\\n   \\\\\"metadata\\\\\": {\\\\\\\\n    \\\\\"slideshow\\\\\": {\\\\\\\\n     \\\\\"slide_type\\\\\": \\\\\"slide\\\\\"\\\\\\\\n    }\\\\\\\\n   },\\\\\\\\n   \\\\\"source\\\\\": [\\\\\\\\n    \\\\\"### 응답결과(Response) 조회\\\\\"\\\\\\\\n   ]\\\\\\\\n  },\\\\\\\\n  {\\\\\\\\n   \\\\\"cell_type\\\\\": \\\\\"code\\\\\",\\\\\\\\n   \\\\\"execution_count\\\\\": null,\\\\\\\\n   \\\\\"metadata\\\\\": {},\\\\\\\\n   \\\\\"outputs\\\\\": [],\\\\\\\\n   \\\\\"source\\\\\": [\\\\\\\\n    \\\\\"url = \\\\\\\\\\'http://www.pythonscraping.com/pages/warandpeace.html\\\\\\\\\\'\\\\\"\\\\\\\\n   ]\\\\\\\\n  },\\\\\\\\n  {\\\\\\\\n   \\\\\"cell_type\\\\\": \\\\\"code\\\\\",\\\\\\\\n   \\\\\"execution_count\\\\\": null,\\\\\\\\n   \\\\\"metadata\\\\\": {},\\\\\\\\n   \\\\\"outputs\\\\\": [],\\\\\\\\n   \\\\\"source\\\\\": []\\\\\\\\n  }\\\\\\\\n ],\\\\\\\\n \\\\\"metadata\\\\\": {\\\\\\\\n  \\\\\"kernelspec\\\\\": {\\\\\\\\n   \\\\\"display_name\\\\\": \\\\\"Python 3 (ipykernel)\\\\\",\\\\\\\\n   \\\\\"language\\\\\": \\\\\"python\\\\\",\\\\\\\\n   \\\\\"name\\\\\": \\\\\"python3\\\\\"\\\\\\\\n  },\\\\\\\\n  \\\\\"language_info\\\\\": {\\\\\\\\n   \\\\\"codemirror_mode\\\\\": {\\\\\\\\n    \\\\\"name\\\\\": \\\\\"ipython\\\\\",\\\\\\\\n    \\\\\"version\\\\\": 3\\\\\\\\n   },\\\\\\\\n   \\\\\"file_extension\\\\\": \\\\\".py\\\\\",\\\\\\\\n   \\\\\"mimetype\\\\\": \\\\\"text/x-python\\\\\",\\\\\\\\n   \\\\\"name\\\\\": \\\\\"python\\\\\",\\\\\\\\n   \\\\\"nbconvert_exporter\\\\\": \\\\\"python\\\\\",\\\\\\\\n   \\\\\"pygments_lexer\\\\\": \\\\\"ipython3\\\\\",\\\\\\\\n   \\\\\"version\\\\\": \\\\\"3.10.9\\\\\"\\\\\\\\n  },\\\\\\\\n  \\\\\"toc\\\\\": {\\\\\\\\n   \\\\\"base_numbering\\\\\": 1,\\\\\\\\n   \\\\\"nav_menu\\\\\": {},\\\\\\\\n   \\\\\"number_sections\\\\\": true,\\\\\\\\n   \\\\\"sideBar\\\\\": false,\\\\\\\\n   \\\\\"skip_h1_title\\\\\": false,\\\\\\\\n   \\\\\"title_cell\\\\\": \\\\\"Table of Contents\\\\\",\\\\\\\\n   \\\\\"title_sidebar\\\\\": \\\\\"Contents\\\\\",\\\\\\\\n   \\\\\"toc_cell\\\\\": false,\\\\\\\\n   \\\\\"toc_position\\\\\": {},\\\\\\\\n   \\\\\"toc_section_display\\\\\": false,\\\\\\\\n   \\\\\"toc_window_display\\\\\": false\\\\\\\\n  },\\\\\\\\n  \\\\\"varInspector\\\\\": {\\\\\\\\n   \\\\\"cols\\\\\": {\\\\\\\\n    \\\\\"lenName\\\\\": 16,\\\\\\\\n    \\\\\"lenType\\\\\": 16,\\\\\\\\n    \\\\\"lenVar\\\\\": 40\\\\\\\\n   },\\\\\\\\n   \\\\\"kernels_config\\\\\": {\\\\\\\\n    \\\\\"python\\\\\": {\\\\\\\\n     \\\\\"delete_cmd_postfix\\\\\": \\\\\"\\\\\",\\\\\\\\n     \\\\\"delete_cmd_prefix\\\\\": \\\\\"del \\\\\",\\\\\\\\n     \\\\\"library\\\\\": \\\\\"var_list.py\\\\\",\\\\\\\\n     \\\\\"varRefreshCmd\\\\\": \\\\\"print(var_dic_list())\\\\\"\\\\\\\\n    },\\\\\\\\n    \\\\\"r\\\\\": {\\\\\\\\n     \\\\\"delete_cmd_postfix\\\\\": \\\\\") \\\\\",\\\\\\\\n     \\\\\"delete_cmd_prefix\\\\\": \\\\\"rm(\\\\\",\\\\\\\\n     \\\\\"library\\\\\": \\\\\"var_list.r\\\\\",\\\\\\\\n     \\\\\"varRefreshCmd\\\\\": \\\\\"cat(var_dic_list()) \\\\\"\\\\\\\\n    }\\\\\\\\n   },\\\\\\\\n   \\\\\"types_to_exclude\\\\\": [\\\\\\\\n    \\\\\"module\\\\\",\\\\\\\\n    \\\\\"function\\\\\",\\\\\\\\n    \\\\\"builtin_function_or_method\\\\\",\\\\\\\\n    \\\\\"instance\\\\\",\\\\\\\\n    \\\\\"_Feature\\\\\"\\\\\\\\n   ],\\\\\\\\n   \\\\\"window_display\\\\\": false\\\\\\\\n  }\\\\\\\\n },\\\\\\\\n \\\\\"nbformat\\\\\": 4,\\\\\\\\n \\\\\"nbformat_minor\\\\\": 2\\\\\\\\n}\\\\\\\\n\\'}, \\'form\\': {\\'address\\': \\'서울\\', \\'age\\': \\'20\\', \\'name\\': \\'홍길동\\'}, \\'headers\\': {\\'Accept\\': \\'*/*\\', \\'Accept-Encoding\\': \\'gzip, deflate, br\\', \\'Content-Length\\': \\'14687\\', \\'Content-Type\\': \\'multipart/form-data; boundary=705eb3ba11b62e4734b12f88a5ec35af\\', \\'Host\\': \\'httpbin.org\\', \\'My-Data\\': \\'test value\\', \\'User-Agent\\': \\'Mozilla/5.0 (Windows NT 10.0; Win64; x64) AppleWebKit/537.36 (KHTML, like Gecko) Chrome/111.0.0.0 Safari/537.36\\', \\'X-Amzn-Trace-Id\\': \\'Root=1-643ceb6c-4c21b1fd271e80fb0e7885a3\\'}, \\'json\\': None, \\'origin\\': \\'222.112.208.66\\', \\'url\\': \\'https://httpbin.org/post\\'}\\\\n\"\\n     ]\\n    }\\n   ],\\n   \"source\": [\\n    \"import requests\\\\n\",\\n    \"\\\\n\",\\n    \"base_url = \\\\\"https://httpbin.org/{}\\\\\"\\\\n\",\\n    \"\\\\n\",\\n    \"url = base_url.format(\\\\\"post\\\\\")\\\\n\",\\n    \"print(url)\\\\n\",\\n    \"\\\\n\",\\n    \"\\\\n\",\\n    \"\\\\n\",\\n    \"# 요청 파라미터 => dictionart 로 name: value  형식을 저장, 같은 이름으로 여러개 값을 보낼경우 \\\\n\",\\n    \"#                                                                       name:[value1, vaule2, ....]\\\\n\",\\n    \"\\\\n\",\\n    \"req_param = {\\\\n\",\\n    \"    \\\\\"name\\\\\": \\\\\"홍길동\\\\\",\\\\n\",\\n    \"    \\\\\"age\\\\\": 20,\\\\n\",\\n    \"    \\\\\"address\\\\\": \\\\\"서울\\\\\"\\\\n\",\\n    \"}\\\\n\",\\n    \"\\\\n\",\\n    \"# url = \\\\\"\\\\\"https://httpbin.org/get?mname=홍길동&age=30&address=서울\\\\\"  이런식도 가능\\\\n\",\\n    \"\\\\n\",\\n    \"# hearder user-agent 설정 => 웹브라우저 종류(엔진)\\\\n\",\\n    \"    # 개발자 도구: 콘솔 -> navigator.userAgent\\\\n\",\\n    \"\\\\n\",\\n    \"user_agent = \\'Mozilla/5.0 (Windows NT 10.0; Win64; x64) AppleWebKit/537.36 (KHTML, like Gecko) Chrome/111.0.0.0 Safari/537.36\\'    \\\\n\",\\n    \"headers = {\\\\n\",\\n    \"    \\\\\"User-Agent\\\\\":user_agent,\\\\n\",\\n    \"    \\\\\"my-data\\\\\": \\\\\"test value\\\\\"\\\\n\",\\n    \"}\\\\n\",\\n    \"# 파일 업로드: 딕셔너리에 {이름: input stream}\\\\n\",\\n    \"f= open(\\'02_requests.ipynb\\',\\'rb\\')\\\\n\",\\n    \"files= {\\\\n\",\\n    \"        \\\\\"notebook\\\\\": f \\\\n\",\\n    \"    }\\\\n\",\\n    \"\\\\n\",\\n    \"\\\\n\",\\n    \"\\\\n\",\\n    \"response = requests.post(url,data=req_param, headers=headers, files= files) \\\\n\",\\n    \"# url => 요청 url, data => 요청 파라미터, header => 요청 header, files => 업로드할 파일 \\\\n\",\\n    \"print(\\'응답 상태 코드:\\', response.status_code)\\\\n\",\\n    \"if response.status_code == 200: # 정상 응답\\\\n\",\\n    \"    # 응답 데이터를 출력\\\\n\",\\n    \"    txt = response.json()\\\\n\",\\n    \"    print(type(txt))\\\\n\",\\n    \"    print(txt) #  [\\'header\\'] ,[\\'Accept\\']\"\\n   ]\\n  },\\n  {\\n   \"cell_type\": \"markdown\",\\n   \"metadata\": {\\n    \"slideshow\": {\\n     \"slide_type\": \"slide\"\\n    }\\n   },\\n   \"source\": [\\n    \"### 응답결과(Response) 조회\"\\n   ]\\n  },\\n  {\\n   \"cell_type\": \"code\",\\n   \"execution_count\": 44,\\n   \"metadata\": {},\\n   \"outputs\": [\\n    {\\n     \"name\": \"stdout\",\\n     \"output_type\": \"stream\",\\n     \"text\": [\\n      \"34\\\\n\"\\n     ]\\n    }\\n   ],\\n   \"source\": [\\n    \"import requests\\\\n\",\\n    \"from bs4 import BeautifulSoup \\\\n\",\\n    \"\\\\n\",\\n    \"url = \\'http://www.pythonscraping.com/pages/warandpeace.html\\'\\\\n\",\\n    \"user_agent = \\'Mozilla/5.0 (Windows NT 10.0; Win64; x64) AppleWebKit/537.36 (KHTML, like Gecko) Chrome/111.0.0.0 Safari/537.36\\' \\\\n\",\\n    \"\\\\n\",\\n    \"# 요청\\\\n\",\\n    \"\\\\n\",\\n    \"response = requests.get(url, headers={\\\\\"User-Agent\\\\\":user_agent})\\\\n\",\\n    \"\\\\n\",\\n    \"if response.status_code == 200:   # 정상 응답이 왔다면 \\\\n\",\\n    \"    result_green = []\\\\n\",\\n    \"    \\\\n\",\\n    \"    # html을 조회\\\\n\",\\n    \"    txt = response.text\\\\n\",\\n    \"#     print(txt[:1000])\\\\n\",\\n    \"    soup = BeautifulSoup(txt,\\\\\"lxml\\\\\")\\\\n\",\\n    \"    tag_list = soup.find_all(\\'span\\', attrs={\\\\\"class\\\\\":\\\\\"red\\\\\"})\\\\n\",\\n    \"    # tag_list =soup.select(\\\\\"span.green\\\\\")\\\\n\",\\n    \"    print(len(tag_list))\\\\n\",\\n    \"    for tag in tag_list:\\\\n\",\\n    \"        result_green.append(tag.text.replace(\\\\\"\\\\\\\\n\\\\\", \\\\\" \\\\\")) # 텍스트 중간의 enter를 공백으로 변환\\\\n\",\\n    \"else:\\\\n\",\\n    \"    print(\\\\\"문제 발생:\\\\\", response.status_code)\\\\n\"\\n   ]\\n  },\\n  {\\n   \"cell_type\": \"code\",\\n   \"execution_count\": 45,\\n   \"metadata\": {},\\n   \"outputs\": [],\\n   \"source\": [\\n    \"#text > p:nth-child(2) > span:nth-child(2)\\\\n\",\\n    \"\\\\n\",\\n    \"#text > span.red\"\\n   ]\\n  },\\n  {\\n   \"cell_type\": \"code\",\\n   \"execution_count\": 46,\\n   \"metadata\": {},\\n   \"outputs\": [\\n    {\\n     \"data\": {\\n      \"text/plain\": [\\n       \"[\\\\\"Well, Prince, so Genoa and Lucca are now just family estates of the Buonapartes. But I warn you, if you don\\'t tell me that this means war, if you still try to defend the infamies and horrors perpetrated by that Antichrist- I really believe he is Antichrist- I will have nothing more to do with you and you are no longer my friend, no longer my \\'faithful slave,\\' as you call yourself! But how do you do? I see I have frightened you- sit down and tell me all the news.\\\\\",\\\\n\",\\n       \" \\'If you have nothing better to do, Count [or Prince], and if the prospect of spending an evening with a poor invalid is not too terrible, I shall be very charmed to see you tonight between 7 and 10- Annette Scherer.\\',\\\\n\",\\n       \" \\'Heavens! what a virulent attack!\\',\\\\n\",\\n       \" \\\\\"First of all, dear friend, tell me how you are. Set your friend\\'s mind at rest,\\\\\",\\\\n\",\\n       \" \\'Can one be well while suffering morally? Can one be calm in times like these if one has any feeling?\\',\\\\n\",\\n       \" \\'You are staying the whole evening, I hope?\\',\\\\n\",\\n       \" \\\\\"And the fete at the English ambassador\\'s? Today is Wednesday. I must put in an appearance there,\\\\\",\\\\n\",\\n       \" \\'My daughter is coming for me to take me there.\\',\\\\n\",\\n       \" \\\\\"I thought today\\'s fete had been canceled. I confess all these festivities and fireworks are becoming wearisome.\\\\\",\\\\n\",\\n       \" \\'If they had known that you wished it, the entertainment would have been put off,\\',\\\\n\",\\n       \" \\\\\"Don\\'t tease! Well, and what has been decided about Novosiltsev\\'s dispatch? You know everything.\\\\\",\\\\n\",\\n       \" \\'What can one say about it?\\',\\\\n\",\\n       \" \\'What has been decided? They have decided that Buonaparte has burnt his boats, and I believe that we are ready to burn ours.\\',\\\\n\",\\n       \" \\\\\"Oh, don\\'t speak to me of Austria. Perhaps I don\\'t understand things, but Austria never has wished, and does not wish, for war. She is betraying us! Russia alone must save Europe. Our gracious sovereign recognizes his high vocation and will be true to it. That is the one thing I have faith in! Our good and wonderful sovereign has to perform the noblest role on earth, and he is so virtuous and noble that God will not forsake him. He will fulfill his vocation and crush the hydra of revolution, which has become more terrible than ever in the person of this murderer and villain! We alone must avenge the blood of the just one.... Whom, I ask you, can we rely on?... England with her commercial spirit will not and cannot understand the Emperor Alexander\\'s loftiness of soul. She has refused to evacuate Malta. She wanted to find, and still seeks, some secret motive in our actions. What answer did Novosiltsev get? None. The English have not understood and cannot understand the self-abnegation of our Emperor who wants nothing for himself, but only desires the good of mankind. And what have they promised? Nothing! And what little they have promised they will not perform! Prussia has always declared that Buonaparte is invincible, and that all Europe is powerless before him.... And I don\\'t believe a word that Hardenburg says, or Haugwitz either. This famous Prussian neutrality is just a trap. I have faith only in God and the lofty destiny of our adored monarch. He will save Europe!\\\\\",\\\\n\",\\n       \" \\'I think,\\',\\\\n\",\\n       \" \\\\\"that if you had been sent instead of our dear Wintzingerode you would have captured the King of Prussia\\'s consent by assault. You are so eloquent. Will you give me a cup of tea?\\\\\",\\\\n\",\\n       \" \\'In a moment. A propos,\\',\\\\n\",\\n       \" \\'I am expecting two very interesting men tonight, le Vicomte de Mortemart, who is connected with the Montmorencys through the Rohans, one of the best French families. He is one of the genuine emigres, the good ones. And also the Abbe Morio. Do you know that profound thinker? He has been received by the Emperor. Had you heard?\\',\\\\n\",\\n       \" \\'I shall be delighted to meet them,\\',\\\\n\",\\n       \" \\'But tell me,\\',\\\\n\",\\n       \" \\'is it true that the Dowager Empress wants Baron Funke to be appointed first secretary at Vienna? The baron by all accounts is a poor creature.\\',\\\\n\",\\n       \" \\'Baron Funke has been recommended to the Dowager Empress by her sister,\\',\\\\n\",\\n       \" \\'Now about your family. Do you know that since your daughter came out everyone has been enraptured by her? They say she is amazingly beautiful.\\',\\\\n\",\\n       \" \\'I often think,\\',\\\\n\",\\n       \" \\\\\"I often think how unfairly sometimes the joys of life are distributed. Why has fate given you two such splendid children? I don\\'t speak of Anatole, your youngest. I don\\'t like him,\\\\\",\\\\n\",\\n       \" \\\\\"Two such charming children. And really you appreciate them less than anyone, and so you don\\'t deserve to have them.\\\\\",\\\\n\",\\n       \" \\\\\"I can\\'t help it,\\\\\",\\\\n\",\\n       \" \\'Lavater would have said I lack the bump of paternity.\\',\\\\n\",\\n       \" \\\\\"Don\\'t joke; I mean to have a serious talk with you. Do you know I am dissatisfied with your younger son? Between ourselves\\\\\",\\\\n\",\\n       \" \\\\\"he was mentioned at Her Majesty\\'s and you were pitied....\\\\\",\\\\n\",\\n       \" \\'What would you have me do?\\',\\\\n\",\\n       \" \\'You know I did all a father could for their education, and they have both turned out fools. Hippolyte is at least a quiet fool, but Anatole is an active one. That is the only difference between them.\\',\\\\n\",\\n       \" \\'And why are children born to such men as you? If you were not a father there would be nothing I could reproach you with,\\',\\\\n\",\\n       \" \\\\\"I am your faithful slave and to you alone I can confess that my children are the bane of my life. It is the cross I have to bear. That is how I explain it to myself. It can\\'t be helped!\\\\\"]\"\\n      ]\\n     },\\n     \"execution_count\": 46,\\n     \"metadata\": {},\\n     \"output_type\": \"execute_result\"\\n    }\\n   ],\\n   \"source\": [\\n    \"result_green\"\\n   ]\\n  },\\n  {\\n   \"cell_type\": \"code\",\\n   \"execution_count\": 48,\\n   \"metadata\": {},\\n   \"outputs\": [],\\n   \"source\": [\\n    \"# daum new 리스트(목록)\\\\n\",\\n    \"\\\\n\",\\n    \"#기사 제목 - 링크url\"\\n   ]\\n  },\\n  {\\n   \"cell_type\": \"code\",\\n   \"execution_count\": 93,\\n   \"metadata\": {},\\n   \"outputs\": [\\n    {\\n     \"name\": \"stdout\",\\n     \"output_type\": \"stream\",\\n     \"text\": [\\n      \"https://news.daum.net/\\\\n\"\\n     ]\\n    }\\n   ],\\n   \"source\": [\\n    \"url =\\\\\"https://news.daum.net/\\\\\"\\\\n\",\\n    \"user_agent = \\'Mozilla/5.0 (Windows NT 10.0; Win64; x64) AppleWebKit/537.36 (KHTML, like Gecko) Chrome/111.0.0.0 Safari/537.36\\' \\\\n\",\\n    \"import pandas as pd\"\\n   ]\\n  },\\n  {\\n   \"cell_type\": \"code\",\\n   \"execution_count\": 116,\\n   \"metadata\": {},\\n   \"outputs\": [\\n    {\\n     \"name\": \"stdout\",\\n     \"output_type\": \"stream\",\\n     \"text\": [\\n      \"Overwriting daum_news_acivity.py\\\\n\"\\n     ]\\n    }\\n   ],\\n   \"source\": [\\n    \"%%writefile daum_news_acivity.py\\\\n\",\\n    \"\\\\n\",\\n    \"\\\\n\",\\n    \"import requests\\\\n\",\\n    \"from bs4 import BeautifulSoup\\\\n\",\\n    \"import pandas as pd\\\\n\",\\n    \"\\\\n\",\\n    \"url =\\\\\"https://news.daum.net/\\\\\"\\\\n\",\\n    \"user_agent = \\'Mozilla/5.0 (Windows NT 10.0; Win64; x64) AppleWebKit/537.36 (KHTML, like Gecko) Chrome/111.0.0.0 Safari/537.36\\' \\\\n\",\\n    \"\\\\n\",\\n    \"\\\\n\",\\n    \"def get_news_list():\\\\n\",\\n    \"    \\\\\"\\\\\"\\\\\"\\\\n\",\\n    \"    daum 뉴스 목록 조회\\\\n\",\\n    \"    조회결과는 pandas 의 dataframe(표)로 만들어서 반환.\\\\n\",\\n    \"    \\\\n\",\\n    \"    \\\\\"\\\\\"\\\\\"\\\\n\",\\n    \"    # 요청 \\\\n\",\\n    \"    response = requests.get(url, headers ={\\'User-Agent\\':user_agent})\\\\n\",\\n    \"    # 상태 코드가 200인지 확인\\\\n\",\\n    \"    if response.status_code == 200:   # 정상 응답이 왔다면 \\\\n\",\\n    \"        print(\\\\\"정상 상태코드: \\\\\",response.status_code)\\\\n\",\\n    \"        soup = BeautifulSoup(response.text, \\'lxml\\')\\\\n\",\\n    \"        tag_list = soup.select(\\\\\"ul.list_newsissue >li strong.tit_g >a\\\\\")\\\\n\",\\n    \"        print(len(tag_list))\\\\n\",\\n    \"        link_list= []\\\\n\",\\n    \"        title_list= []\\\\n\",\\n    \"        for tag in tag_list:\\\\n\",\\n    \"            link_list.append(tag.get(\\'href\\'))\\\\n\",\\n    \"            title_list.append(tag.get_text().strip())\\\\n\",\\n    \"        return pd.DataFrame({\\\\n\",\\n    \"            \\\\n\",\\n    \"            \\\\\"title\\\\\": title_list,\\\\n\",\\n    \"            \\\\\"link\\\\\": link_list\\\\n\",\\n    \"        })\\\\n\",\\n    \"            #             print(tag.get(\\'href\\'), tag.text, sep = \\\\\" --->\\\\\")\\\\n\",\\n    \"\\\\n\",\\n    \"    else:\\\\n\",\\n    \"        print(\\\\\"오류!\\\\\")\\\\n\",\\n    \"    if __name__ ==\\\\\"__main__\\\\\":\\\\n\",\\n    \"        from datetime import datetime\\\\n\",\\n    \"        d=datetime.now().strftime(\\\\\"%Y-%m-%d\\\\\") # strftime(): 날짜 시간을 원하는형태의 문자열로 변환\\\\n\",\\n    \"        file_path = f\\\\\"daum_new_list_{d}.csv\\\\\"\\\\n\",\\n    \"        # result=get_news_list()\\\\n\",\\n    \"        # # csv 파일로 저장\\\\n\",\\n    \"        result.to_csv(file_path, index = False)  # utf-8형태로 저장\"\\n   ]\\n  },\\n  {\\n   \"cell_type\": \"code\",\\n   \"execution_count\": 107,\\n   \"metadata\": {},\\n   \"outputs\": [],\\n   \"source\": [\\n    \"from datetime import datetime\\\\n\",\\n    \"d=datetime.now().strftime(\\\\\"%Y-%m-%d\\\\\") # strftime(): 날짜 시간을 원하는형태의 문자열로 변환\\\\n\",\\n    \"file_path = f\\\\\"daum_new_list_{d}.csv\\\\\"\\\\n\",\\n    \"# result=get_news_list()\\\\n\",\\n    \"# # csv 파일로 저장\\\\n\",\\n    \"result.to_csv(file_path, index = False)  # utf-8형태로 저장\"\\n   ]\\n  },\\n  {\\n   \"cell_type\": \"code\",\\n   \"execution_count\": 74,\\n   \"metadata\": {},\\n   \"outputs\": [\\n    {\\n     \"ename\": \"SyntaxError\",\\n     \"evalue\": \"invalid syntax (3566126394.py, line 1)\",\\n     \"output_type\": \"error\",\\n     \"traceback\": [\\n      \"\\\\u001b[1;36m  Cell \\\\u001b[1;32mIn[74], line 1\\\\u001b[1;36m\\\\u001b[0m\\\\n\\\\u001b[1;33m    body > div.container-doc > main > section > div > div.content-article > div.box_g.box_news_issue > ul >li  a\\\\u001b[0m\\\\n\\\\u001b[1;37m                                                                                                               ^\\\\u001b[0m\\\\n\\\\u001b[1;31mSyntaxError\\\\u001b[0m\\\\u001b[1;31m:\\\\u001b[0m invalid syntax\\\\n\"\\n     ]\\n    }\\n   ],\\n   \"source\": [\\n    \"# body > div.container-doc > main > section > div > div.content-article > div.box_g.box_news_issue> ul > li a\\\\n\",\\n    \"\\\\n\",\\n    \"# ul.list_newsissue >li strong.tit_g >a  목록 리스트 조회 부분\"\\n   ]\\n  },\\n  {\\n   \"cell_type\": \"code\",\\n   \"execution_count\": null,\\n   \"metadata\": {},\\n   \"outputs\": [],\\n   \"source\": []\\n  }\\n ],\\n \"metadata\": {\\n  \"kernelspec\": {\\n   \"display_name\": \"Python 3 (ipykernel)\",\\n   \"language\": \"python\",\\n   \"name\": \"python3\"\\n  },\\n  \"language_info\": {\\n   \"codemirror_mode\": {\\n    \"name\": \"ipython\",\\n    \"version\": 3\\n   },\\n   \"file_extension\": \".py\",\\n   \"mimetype\": \"text/x-python\",\\n   \"name\": \"python\",\\n   \"nbconvert_exporter\": \"python\",\\n   \"pygments_lexer\": \"ipython3\",\\n   \"version\": \"3.10.9\"\\n  },\\n  \"toc\": {\\n   \"base_numbering\": 1,\\n   \"nav_menu\": {},\\n   \"number_sections\": true,\\n   \"sideBar\": false,\\n   \"skip_h1_title\": false,\\n   \"title_cell\": \"Table of Contents\",\\n   \"title_sidebar\": \"Contents\",\\n   \"toc_cell\": false,\\n   \"toc_position\": {},\\n   \"toc_section_display\": false,\\n   \"toc_window_display\": false\\n  },\\n  \"varInspector\": {\\n   \"cols\": {\\n    \"lenName\": 16,\\n    \"lenType\": 16,\\n    \"lenVar\": 40\\n   },\\n   \"kernels_config\": {\\n    \"python\": {\\n     \"delete_cmd_postfix\": \"\",\\n     \"delete_cmd_prefix\": \"del \",\\n     \"library\": \"var_list.py\",\\n     \"varRefreshCmd\": \"print(var_dic_list())\"\\n    },\\n    \"r\": {\\n     \"delete_cmd_postfix\": \") \",\\n     \"delete_cmd_prefix\": \"rm(\",\\n     \"library\": \"var_list.r\",\\n     \"varRefreshCmd\": \"cat(var_dic_list()) \"\\n    }\\n   },\\n   \"types_to_exclude\": [\\n    \"module\",\\n    \"function\",\\n    \"builtin_function_or_method\",\\n    \"instance\",\\n    \"_Feature\"\\n   ],\\n   \"window_display\": false\\n  }\\n },\\n \"nbformat\": 4,\\n \"nbformat_minor\": 2\\n}\\n'}, 'form': {'address': '서울', 'age': '20', 'name': '홍길동'}, 'headers': {'Accept': '*/*', 'Accept-Encoding': 'gzip, deflate, br', 'Content-Length': '43494', 'Content-Type': 'multipart/form-data; boundary=24427bc022cbf6d85439f210b8304a4f', 'Host': 'httpbin.org', 'My-Data': 'test value', 'User-Agent': 'Mozilla/5.0 (Windows NT 10.0; Win64; x64) AppleWebKit/537.36 (KHTML, like Gecko) Chrome/111.0.0.0 Safari/537.36', 'X-Amzn-Trace-Id': 'Root=1-643de967-268d124b1e6d5cb74c49acb2'}, 'json': None, 'origin': '222.112.208.66', 'url': 'https://httpbin.org/post'}\n"
     ]
    }
   ],
   "source": [
    "import requests\n",
    "\n",
    "base_url = \"https://httpbin.org/{}\"\n",
    "\n",
    "url = base_url.format(\"post\")\n",
    "print(url)\n",
    "\n",
    "\n",
    "\n",
    "# 요청 파라미터 => dictionart 로 name: value  형식을 저장, 같은 이름으로 여러개 값을 보낼경우 \n",
    "#                                                                       name:[value1, vaule2, ....]\n",
    "\n",
    "req_param = {\n",
    "    \"name\": \"홍길동\",\n",
    "    \"age\": 20,\n",
    "    \"address\": \"서울\"\n",
    "}\n",
    "\n",
    "# url = \"\"https://httpbin.org/get?mname=홍길동&age=30&address=서울\"  이런식도 가능\n",
    "\n",
    "# hearder user-agent 설정 => 웹브라우저 종류(엔진)\n",
    "    # 개발자 도구: 콘솔 -> navigator.userAgent\n",
    "\n",
    "user_agent = 'Mozilla/5.0 (Windows NT 10.0; Win64; x64) AppleWebKit/537.36 (KHTML, like Gecko) Chrome/111.0.0.0 Safari/537.36'    \n",
    "headers = {\n",
    "    \"User-Agent\":user_agent,\n",
    "    \"my-data\": \"test value\"\n",
    "}\n",
    "# 파일 업로드: 딕셔너리에 {이름: input stream}\n",
    "f= open('02_requests.ipynb','rb')\n",
    "files= {\n",
    "        \"notebook\": f \n",
    "    }\n",
    "\n",
    "\n",
    "\n",
    "response = requests.post(url,data=req_param, headers=headers, files= files) \n",
    "# url => 요청 url, data => 요청 파라미터, header => 요청 header, files => 업로드할 파일 \n",
    "print('응답 상태 코드:', response.status_code)\n",
    "if response.status_code == 200: # 정상 응답\n",
    "    # 응답 데이터를 출력\n",
    "    txt = response.json()\n",
    "    print(type(txt))\n",
    "    print(txt) #  ['header'] ,['Accept']"
   ]
  },
  {
   "cell_type": "markdown",
   "metadata": {
    "slideshow": {
     "slide_type": "slide"
    }
   },
   "source": [
    "### 응답결과(Response) 조회"
   ]
  },
  {
   "cell_type": "code",
   "execution_count": 8,
   "metadata": {},
   "outputs": [
    {
     "name": "stdout",
     "output_type": "stream",
     "text": [
      "<class 'bs4.element.ResultSet'>\n",
      "41\n"
     ]
    }
   ],
   "source": [
    "import requests\n",
    "from bs4 import BeautifulSoup \n",
    "\n",
    "url = 'http://www.pythonscraping.com/pages/warandpeace.html'\n",
    "user_agent = 'Mozilla/5.0 (Windows NT 10.0; Win64; x64) AppleWebKit/537.36 (KHTML, like Gecko) Chrome/111.0.0.0 Safari/537.36' \n",
    "\n",
    "# 요청\n",
    "\n",
    "response = requests.get(url, headers={\"User-Agent\":user_agent})\n",
    "\n",
    "if response.status_code == 200:   # 정상 응답이 왔다면 \n",
    "    result_green = []\n",
    "    \n",
    "    # html을 조회\n",
    "    txt = response.text\n",
    "#     print(txt[:1000])\n",
    "    soup = BeautifulSoup(txt,\"lxml\")\n",
    "    tag_list = soup.find_all('span', attrs={\"class\":\"red\"})\n",
    "    tag_list =soup.select(\"span.green\")\n",
    "    print(type(tag_list))\n",
    "    print(len(tag_list))\n",
    "    for tag in tag_list:\n",
    "        result_green.append(tag.text.replace(\"\\n\", \" \")) # 텍스트 중간의 enter를 공백으로 변환\n",
    "else:\n",
    "    print(\"문제 발생:\", response.status_code)\n"
   ]
  },
  {
   "cell_type": "code",
   "execution_count": 9,
   "metadata": {},
   "outputs": [],
   "source": [
    "#text > p:nth-child(2) > span:nth-child(2)\n",
    "\n",
    "#text > span.red"
   ]
  },
  {
   "cell_type": "code",
   "execution_count": 9,
   "metadata": {},
   "outputs": [
    {
     "data": {
      "text/plain": [
       "['Anna Pavlovna Scherer',\n",
       " 'Empress Marya Fedorovna',\n",
       " 'Prince Vasili Kuragin',\n",
       " 'Anna Pavlovna',\n",
       " 'St. Petersburg',\n",
       " 'the prince',\n",
       " 'Anna Pavlovna',\n",
       " 'Anna Pavlovna',\n",
       " 'the prince',\n",
       " 'the prince',\n",
       " 'the prince',\n",
       " 'Prince Vasili',\n",
       " 'Anna Pavlovna',\n",
       " 'Anna Pavlovna',\n",
       " 'the prince',\n",
       " 'Wintzingerode',\n",
       " 'King of Prussia',\n",
       " 'le Vicomte de Mortemart',\n",
       " 'Montmorencys',\n",
       " 'Rohans',\n",
       " 'Abbe Morio',\n",
       " 'the Emperor',\n",
       " 'the prince',\n",
       " 'Prince Vasili',\n",
       " 'Dowager Empress Marya Fedorovna',\n",
       " 'the baron',\n",
       " 'Anna Pavlovna',\n",
       " 'the Empress',\n",
       " 'the Empress',\n",
       " \"Anna Pavlovna's\",\n",
       " 'Her Majesty',\n",
       " 'Baron Funke',\n",
       " 'The prince',\n",
       " 'Anna Pavlovna',\n",
       " 'the Empress',\n",
       " 'The prince',\n",
       " 'Anatole',\n",
       " 'the prince',\n",
       " 'The prince',\n",
       " 'Anna Pavlovna',\n",
       " 'Anna Pavlovna']"
      ]
     },
     "execution_count": 9,
     "metadata": {},
     "output_type": "execute_result"
    }
   ],
   "source": [
    "result_green"
   ]
  },
  {
   "cell_type": "code",
   "execution_count": 11,
   "metadata": {},
   "outputs": [],
   "source": [
    "# daum new 리스트(목록)\n",
    "\n",
    "#기사 제목 - 링크url"
   ]
  },
  {
   "cell_type": "code",
   "execution_count": 12,
   "metadata": {},
   "outputs": [],
   "source": [
    "url =\"https://news.daum.net/\"\n",
    "user_agent = 'Mozilla/5.0 (Windows NT 10.0; Win64; x64) AppleWebKit/537.36 (KHTML, like Gecko) Chrome/111.0.0.0 Safari/537.36' \n",
    "import pandas as pd"
   ]
  },
  {
   "cell_type": "code",
   "execution_count": 40,
   "metadata": {},
   "outputs": [
    {
     "name": "stdout",
     "output_type": "stream",
     "text": [
      "Overwriting daum_news_acivity.py\n"
     ]
    }
   ],
   "source": [
    "%%writefile daum_news_acivity.py\n",
    "\n",
    "\n",
    "import requests\n",
    "from bs4 import BeautifulSoup\n",
    "import pandas as pd\n",
    "import os\n",
    "url =\"https://news.daum.net/\"\n",
    "user_agent = 'Mozilla/5.0 (Windows NT 10.0; Win64; x64) AppleWebKit/537.36 (KHTML, like Gecko) Chrome/111.0.0.0 Safari/537.36' \n",
    "\n",
    "\n",
    "def get_news_list():\n",
    "    \"\"\"\n",
    "    daum 뉴스 목록 조회\n",
    "    조회결과는 pandas 의 dataframe(표)로 만들어서 반환.\n",
    "    \n",
    "    \"\"\"\n",
    "    # 요청 \n",
    "    response = requests.get(url, headers ={'User-Agent':user_agent})\n",
    "    # 상태 코드가 200인지 확인\n",
    "    if response.status_code == 200:   # 정상 응답이 왔다면 \n",
    "        print(\"정상 상태코드: \",response.status_code)\n",
    "        soup = BeautifulSoup(response.text, 'lxml')\n",
    "        tag_list = soup.select(\"ul.list_newsissue >li strong.tit_g >a\")\n",
    "        print(len(tag_list))\n",
    "        link_list= []\n",
    "        title_list= []\n",
    "        for tag in tag_list:\n",
    "            link_list.append(tag.get('href'))\n",
    "            title_list.append(tag.get_text().strip())\n",
    "        return pd.DataFrame({\n",
    "            \n",
    "            \"title\": title_list,\n",
    "            \"link\": link_list\n",
    "        })\n",
    "            #             print(tag.get('href'), tag.text, sep = \" --->\")\n",
    "\n",
    "    else:\n",
    "        print(\"오류!\")\n",
    "\n",
    "def get_news(url):\n",
    "    # news 상세 기사 url을 받아서 뉴스 내용을 반환\n",
    "    # 연결\n",
    "    response = requests.get(url,headers={\"user_agent\":user_agent})      \n",
    "    if response.status_code == 200:\n",
    "        soup= BeautifulSoup(response.text,\"lxml\")\n",
    "        p_list= soup.select(\"div.article_view p\")\n",
    "\n",
    "        article = [] # 리스트에 문단(p)의 text들을 저장..\n",
    "        for p in p_list:\n",
    "            article.append(p.get_text())             \n",
    "        # 리스트안의 문단들을 합쳐서 하나의 문자열로 만들기\n",
    "        return \" \".join(article) # 구분자문자열.join(리스트)                                                                                                                                                                                                                                                                                                                                                                                                                                                                                                                                                                                                                                                                                                                                                                                                                                                                                                                                                                                                                                                                                                                                                                                                                                                                                                                                              \n",
    "if __name__ ==\"__main__\":\n",
    "    # 뉴스 목록을 저장\n",
    "    from datetime import datetime\n",
    "    d=datetime.now().strftime(\"%Y-%m-%d\") # strftime(): 날짜 시간을 원하는형태의 문자열로 변환\n",
    "    file_path = f\"daum_new_list_{d}.csv\"\n",
    "    print(file_path)\n",
    "    result=get_news_list()\n",
    "    # # csv 파일로 저장\n",
    "    result.to_csv(file_path, index = False)  # utf-8형태로 저장    \n",
    "\n",
    "    # 개별 뉴스들의 기사를 저장.\n",
    "    # result: DataFrame(표)에서 링크 조회\n",
    "    links =result[\"link\"]  # 표[\"컬럼이름\"] => 컬럼의 값들(행)을 반환\n",
    "\n",
    "    result_news= [get_news(link) for link in links]\n",
    "    # print(len(result_news))\n",
    "    # print(result_news)\n",
    "    # 날짜이름으로 news/디렉토리를 생성\n",
    "    save_path = f\"news/{d}\"\n",
    "    os.makedirs(save_path, exist_ok = True) # 상위 디렉토리까지 생성\n",
    "    titles = result[\"title\"] # 뉴스 제목\n",
    "    import re\n",
    "    for title, news in zip(titles, result_news):\n",
    "        title = re.sub('[^\\w]','',title)\n",
    "        with open(f\"{save_path}/{title}.txt\",\"wt\", encoding='utf-8') as fw:\n",
    "            fw.write(news)\n",
    "\n",
    "    print(\"완료\")"
   ]
  },
  {
   "cell_type": "code",
   "execution_count": 15,
   "metadata": {},
   "outputs": [
    {
     "ename": "NameError",
     "evalue": "name 'get_news_list' is not defined",
     "output_type": "error",
     "traceback": [
      "\u001b[1;31m---------------------------------------------------------------------------\u001b[0m",
      "\u001b[1;31mNameError\u001b[0m                                 Traceback (most recent call last)",
      "Cell \u001b[1;32mIn[15], line 4\u001b[0m\n\u001b[0;32m      2\u001b[0m d\u001b[39m=\u001b[39mdatetime\u001b[39m.\u001b[39mnow()\u001b[39m.\u001b[39mstrftime(\u001b[39m\"\u001b[39m\u001b[39m%\u001b[39m\u001b[39mY-\u001b[39m\u001b[39m%\u001b[39m\u001b[39mm-\u001b[39m\u001b[39m%d\u001b[39;00m\u001b[39m\"\u001b[39m) \u001b[39m# strftime(): 날짜 시간을 원하는형태의 문자열로 변환\u001b[39;00m\n\u001b[0;32m      3\u001b[0m file_path \u001b[39m=\u001b[39m \u001b[39mf\u001b[39m\u001b[39m\"\u001b[39m\u001b[39mdaum_new_list_\u001b[39m\u001b[39m{\u001b[39;00md\u001b[39m}\u001b[39;00m\u001b[39m.csv\u001b[39m\u001b[39m\"\u001b[39m\n\u001b[1;32m----> 4\u001b[0m result\u001b[39m=\u001b[39mget_news_list()\n\u001b[0;32m      5\u001b[0m \u001b[39m# # csv 파일로 저장\u001b[39;00m\n\u001b[0;32m      6\u001b[0m result\u001b[39m.\u001b[39mto_csv(file_path, index \u001b[39m=\u001b[39m \u001b[39mFalse\u001b[39;00m)\n",
      "\u001b[1;31mNameError\u001b[0m: name 'get_news_list' is not defined"
     ]
    }
   ],
   "source": [
    "from datetime import datetime\n",
    "d=datetime.now().strftime(\"%Y-%m-%d\") # strftime(): 날짜 시간을 원하는형태의 문자열로 변환\n",
    "file_path = f\"daum_new_list_{d}.csv\"\n",
    "result=get_news_list()\n",
    "# # csv 파일로 저장\n",
    "result.to_csv(file_path, index = False)  # utf-8형태로 저장"
   ]
  },
  {
   "cell_type": "code",
   "execution_count": null,
   "metadata": {},
   "outputs": [
    {
     "ename": "SyntaxError",
     "evalue": "invalid syntax (3566126394.py, line 1)",
     "output_type": "error",
     "traceback": [
      "\u001b[1;36m  Cell \u001b[1;32mIn[74], line 1\u001b[1;36m\u001b[0m\n\u001b[1;33m    body > div.container-doc > main > section > div > div.content-article > div.box_g.box_news_issue > ul >li  a\u001b[0m\n\u001b[1;37m                                                                                                               ^\u001b[0m\n\u001b[1;31mSyntaxError\u001b[0m\u001b[1;31m:\u001b[0m invalid syntax\n"
     ]
    }
   ],
   "source": [
    "# body > div.container-doc > main > section > div > div.content-article > div.box_g.box_news_issue> ul > li a\n",
    "\n",
    "# ul.list_newsissue >li strong.tit_g >a  목록 리스트 조회 부분"
   ]
  },
  {
   "cell_type": "code",
   "execution_count": null,
   "metadata": {},
   "outputs": [],
   "source": []
  }
 ],
 "metadata": {
  "kernelspec": {
   "display_name": "Python 3 (ipykernel)",
   "language": "python",
   "name": "python3"
  },
  "language_info": {
   "codemirror_mode": {
    "name": "ipython",
    "version": 3
   },
   "file_extension": ".py",
   "mimetype": "text/x-python",
   "name": "python",
   "nbconvert_exporter": "python",
   "pygments_lexer": "ipython3",
   "version": "3.10.11"
  },
  "toc": {
   "base_numbering": 1,
   "nav_menu": {},
   "number_sections": true,
   "sideBar": false,
   "skip_h1_title": false,
   "title_cell": "Table of Contents",
   "title_sidebar": "Contents",
   "toc_cell": false,
   "toc_position": {},
   "toc_section_display": false,
   "toc_window_display": false
  },
  "varInspector": {
   "cols": {
    "lenName": 16,
    "lenType": 16,
    "lenVar": 40
   },
   "kernels_config": {
    "python": {
     "delete_cmd_postfix": "",
     "delete_cmd_prefix": "del ",
     "library": "var_list.py",
     "varRefreshCmd": "print(var_dic_list())"
    },
    "r": {
     "delete_cmd_postfix": ") ",
     "delete_cmd_prefix": "rm(",
     "library": "var_list.r",
     "varRefreshCmd": "cat(var_dic_list()) "
    }
   },
   "types_to_exclude": [
    "module",
    "function",
    "builtin_function_or_method",
    "instance",
    "_Feature"
   ],
   "window_display": false
  }
 },
 "nbformat": 4,
 "nbformat_minor": 2
}
