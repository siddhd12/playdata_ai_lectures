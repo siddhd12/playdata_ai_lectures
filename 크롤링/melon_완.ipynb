{
 "cells": [
  {
   "cell_type": "code",
   "execution_count": 1,
   "id": "52c814a7",
   "metadata": {},
   "outputs": [
    {
     "name": "stdout",
     "output_type": "stream",
     "text": [
      "Requirement already satisfied: selenium in c:\\users\\playdata\\anaconda3\\envs\\ml\\lib\\site-packages (4.9.0)\n",
      "Requirement already satisfied: certifi>=2021.10.8 in c:\\users\\playdata\\anaconda3\\envs\\ml\\lib\\site-packages (from selenium) (2022.12.7)\n",
      "Requirement already satisfied: trio-websocket~=0.9 in c:\\users\\playdata\\anaconda3\\envs\\ml\\lib\\site-packages (from selenium) (0.10.2)\n",
      "Requirement already satisfied: urllib3[socks]~=1.26 in c:\\users\\playdata\\anaconda3\\envs\\ml\\lib\\site-packages (from selenium) (1.26.15)\n",
      "Requirement already satisfied: trio~=0.17 in c:\\users\\playdata\\anaconda3\\envs\\ml\\lib\\site-packages (from selenium) (0.22.0)\n",
      "Requirement already satisfied: cffi>=1.14 in c:\\users\\playdata\\anaconda3\\envs\\ml\\lib\\site-packages (from trio~=0.17->selenium) (1.15.1)\n",
      "Requirement already satisfied: exceptiongroup>=1.0.0rc9 in c:\\users\\playdata\\anaconda3\\envs\\ml\\lib\\site-packages (from trio~=0.17->selenium) (1.1.1)\n",
      "Requirement already satisfied: async-generator>=1.9 in c:\\users\\playdata\\anaconda3\\envs\\ml\\lib\\site-packages (from trio~=0.17->selenium) (1.10)\n",
      "Requirement already satisfied: attrs>=19.2.0 in c:\\users\\playdata\\anaconda3\\envs\\ml\\lib\\site-packages (from trio~=0.17->selenium) (23.1.0)\n",
      "Requirement already satisfied: outcome in c:\\users\\playdata\\anaconda3\\envs\\ml\\lib\\site-packages (from trio~=0.17->selenium) (1.2.0)\n",
      "Requirement already satisfied: sortedcontainers in c:\\users\\playdata\\anaconda3\\envs\\ml\\lib\\site-packages (from trio~=0.17->selenium) (2.4.0)\n",
      "Requirement already satisfied: sniffio in c:\\users\\playdata\\anaconda3\\envs\\ml\\lib\\site-packages (from trio~=0.17->selenium) (1.3.0)\n",
      "Requirement already satisfied: idna in c:\\users\\playdata\\anaconda3\\envs\\ml\\lib\\site-packages (from trio~=0.17->selenium) (3.4)\n",
      "Requirement already satisfied: wsproto>=0.14 in c:\\users\\playdata\\anaconda3\\envs\\ml\\lib\\site-packages (from trio-websocket~=0.9->selenium) (1.2.0)\n",
      "Requirement already satisfied: PySocks!=1.5.7,<2.0,>=1.5.6 in c:\\users\\playdata\\anaconda3\\envs\\ml\\lib\\site-packages (from urllib3[socks]~=1.26->selenium) (1.7.1)\n",
      "Requirement already satisfied: pycparser in c:\\users\\playdata\\anaconda3\\envs\\ml\\lib\\site-packages (from cffi>=1.14->trio~=0.17->selenium) (2.21)\n",
      "Requirement already satisfied: h11<1,>=0.9.0 in c:\\users\\playdata\\anaconda3\\envs\\ml\\lib\\site-packages (from wsproto>=0.14->trio-websocket~=0.9->selenium) (0.14.0)\n"
     ]
    }
   ],
   "source": [
    "!pip install selenium"
   ]
  },
  {
   "cell_type": "code",
   "execution_count": 2,
   "id": "d34a87cf",
   "metadata": {},
   "outputs": [
    {
     "name": "stdout",
     "output_type": "stream",
     "text": [
      "Requirement already satisfied: webdriver-manager in c:\\users\\playdata\\anaconda3\\envs\\ml\\lib\\site-packages (3.8.6)\n",
      "Requirement already satisfied: tqdm in c:\\users\\playdata\\anaconda3\\envs\\ml\\lib\\site-packages (from webdriver-manager) (4.65.0)\n",
      "Requirement already satisfied: python-dotenv in c:\\users\\playdata\\anaconda3\\envs\\ml\\lib\\site-packages (from webdriver-manager) (1.0.0)\n",
      "Requirement already satisfied: requests in c:\\users\\playdata\\anaconda3\\envs\\ml\\lib\\site-packages (from webdriver-manager) (2.28.2)\n",
      "Requirement already satisfied: packaging in c:\\users\\playdata\\anaconda3\\envs\\ml\\lib\\site-packages (from webdriver-manager) (23.1)\n",
      "Requirement already satisfied: certifi>=2017.4.17 in c:\\users\\playdata\\anaconda3\\envs\\ml\\lib\\site-packages (from requests->webdriver-manager) (2022.12.7)\n",
      "Requirement already satisfied: idna<4,>=2.5 in c:\\users\\playdata\\anaconda3\\envs\\ml\\lib\\site-packages (from requests->webdriver-manager) (3.4)\n",
      "Requirement already satisfied: charset-normalizer<4,>=2 in c:\\users\\playdata\\anaconda3\\envs\\ml\\lib\\site-packages (from requests->webdriver-manager) (3.1.0)\n",
      "Requirement already satisfied: urllib3<1.27,>=1.21.1 in c:\\users\\playdata\\anaconda3\\envs\\ml\\lib\\site-packages (from requests->webdriver-manager) (1.26.15)\n",
      "Requirement already satisfied: colorama in c:\\users\\playdata\\anaconda3\\envs\\ml\\lib\\site-packages (from tqdm->webdriver-manager) (0.4.6)\n"
     ]
    }
   ],
   "source": [
    "!pip install webdriver-manager"
   ]
  },
  {
   "cell_type": "code",
   "execution_count": 141,
   "id": "90a83e2f",
   "metadata": {},
   "outputs": [],
   "source": [
    "import selenium\n",
    "from selenium.webdriver.chrome.service import Service\n",
    "from selenium import webdriver\n",
    "from selenium.webdriver.common.by import By \n",
    "from webdriver_manager.chrome import ChromeDriverManager\n",
    "from selenium.webdriver.common.keys import Keys\n",
    "\n",
    "from selenium.webdriver.support.ui import WebDriverWait\n",
    "from selenium.webdriver.support import expected_conditions as EC\n",
    "\n",
    "from bs4 import BeautifulSoup\n",
    "import time"
   ]
  },
  {
   "cell_type": "code",
   "execution_count": 183,
   "id": "4f8d8b4f",
   "metadata": {},
   "outputs": [],
   "source": [
    "service = Service(executable_path=\"chromedriver.exe\") # webdriver를 chrome 드라이버를 쓰고 그객체를 service로 넣는다\n",
    "browser = webdriver.Chrome(service=service) # browser를 열때 webdriver 객체를 service로 쓰겠다"
   ]
  },
  {
   "cell_type": "code",
   "execution_count": 184,
   "id": "375d7b2a",
   "metadata": {},
   "outputs": [],
   "source": [
    "browser.get(\"https://www.melon.com\") # 멜론 을 염"
   ]
  },
  {
   "cell_type": "code",
   "execution_count": 185,
   "id": "36e87d49",
   "metadata": {},
   "outputs": [],
   "source": [
    "# melon_btn = browser.find_element(By.CLASS_NAME, 'menu_bg menu03')\n",
    "time.sleep(1)\n",
    "melon_btn=browser.find_element(By.CSS_SELECTOR, '#gnb_menu > ul:nth-child(1) > li.nth3 > a > span.menu_bg.menu03') # 장르 음악 버튼 객체로 불러옴\n",
    "melon_btn.click()# 클릭 버튼 클릭"
   ]
  },
  {
   "cell_type": "code",
   "execution_count": 413,
   "id": "7f3cc985",
   "metadata": {},
   "outputs": [],
   "source": [
    "melon_btn1 = browser.find_element(By.CSS_SELECTOR, '#conts > div.wrap_tabmenu01.type08 > ul > li:nth-child(5) > a > span')\n",
    "melon_btn1.click()# 인디 음악 버튼 클릭\n",
    "#melon_btn1 = browser.find_element(By.CSS_SELECTOR, '#conts > div.wrap_tabmenu01.type08 > ul > li:nth-child(5) > a > span')\n",
    "# 여기서 5인것을 f포멧으로 바꿔서 명만 바꾸면 가능"
   ]
  },
  {
   "cell_type": "code",
   "execution_count": 414,
   "id": "bbb8935c",
   "metadata": {},
   "outputs": [],
   "source": [
    "melon_btn2 = browser.find_element(By.CSS_SELECTOR, '#conts > div.wrap_tabmenu02.type06 > ul > li:nth-child(4) > a > span')\n",
    "genre=melon_btn2.text\n",
    "melon_btn2.click() # 명반 클릭 / 여기서 따른거 클릭하면 따른것도 받아줌\n",
    "# 현재 페이지에서 불러오기 \n",
    "# melon_btn2 = browser.find_element(By.CSS_SELECTOR, '#conts > div.wrap_tabmenu02.type06 > ul > li:nth-child(4) > a > span')\n",
    "# 여기는 바꾸면 형식이 바뀜"
   ]
  },
  {
   "cell_type": "code",
   "execution_count": 415,
   "id": "3102d086",
   "metadata": {},
   "outputs": [],
   "source": [
    "title= [] #title 넣기\n",
    "content_title=[] # 내용 제목 넣기\n",
    "context_text=[] # 내용 \n",
    "pages=[] # page 초기화\n",
    "# html = browser.page_source\n",
    "# page = BeautifulSoup(html, \"lxml\") # 객체를 만듬\n",
    "# title_content=page.select(\"#frm div.info > a\") # 제목 갖고옴,\n",
    "# text_title=page.select(\"#frm > div > ul > li > div.reveiw > h4\") # 기사의 제목 갖고옴 \n",
    "# text=page.select(\"#frm > div > ul > li > div.reveiw > p\") # 기사의 내용 갖고옴 \n",
    "# pages=[]\n",
    "# for i,x,y in zip(title_content,text_title,text):\n",
    "#     title.append(i.text) # 전체 제목리스트를 목록에 넣기      \n",
    "#     content_title.append(x.text)    # 전체 기사 리스트 목록에 넣기\n",
    "#     context_text.append(y.text) # 전체 내용 리스트 목록에 넣기\n",
    "#     time.sleep(2)"
   ]
  },
  {
   "cell_type": "code",
   "execution_count": 416,
   "id": "c51667d0",
   "metadata": {},
   "outputs": [],
   "source": [
    "melon_page_num=browser.find_element(By.CSS_SELECTOR, '#pageObjNavgation > div > span ').text\n",
    "for i in melon_page_num:\n",
    "    if i==\"\\n\":\n",
    "        continue\n",
    "    pages.append(i)"
   ]
  },
  {
   "cell_type": "code",
   "execution_count": 417,
   "id": "527f697e",
   "metadata": {},
   "outputs": [
    {
     "data": {
      "text/plain": [
       "['1', '2', '3']"
      ]
     },
     "execution_count": 417,
     "metadata": {},
     "output_type": "execute_result"
    }
   ],
   "source": [
    "pages"
   ]
  },
  {
   "cell_type": "code",
   "execution_count": 418,
   "id": "308224ad",
   "metadata": {},
   "outputs": [
    {
     "name": "stdout",
     "output_type": "stream",
     "text": [
      "1\n",
      "복사완료\n",
      "2\n",
      "복사완료\n",
      "3\n",
      "복사완료\n"
     ]
    }
   ],
   "source": [
    "for page_num in pages: # 나머지 페이지에서 불러오기!\n",
    "    try:\n",
    "        melon_page_answer = browser.find_element(By.CSS_SELECTOR, f'#pageObjNavgation > div > span > a:nth-child({page_num})') # 반복횟수 돌리기 위해\n",
    "        melon_page_answer.click()\n",
    "    except:\n",
    "        print(page_num) # 현재 페이지의 경우 page버튼의 위치가 다르다 그렇기에 except를 설정함...\n",
    "        html = browser.page_source\n",
    "        page = BeautifulSoup(html, \"lxml\")\n",
    "        time.sleep(3)\n",
    "        title_content=page.select(\"#frm > div > ul > li> div.entry > div.info > a\") # 제목 갖고옴,\n",
    "        time.sleep(1)\n",
    "        text_title=page.select(\"#frm > div > ul > li > div.reveiw > h4\") # 기사의 제목 갖고옴 \n",
    "        time.sleep(1)\n",
    "        text=page.select(\"#frm > div > ul > li > div.reveiw > p\") # 기사의 내용 갖고옴\n",
    "        time.sleep(1)\n",
    "        for i,x,y in zip(title_content,text_title,text):\n",
    "            title.append(i.text) # 전체 제목리스트를 목록에 넣기      \n",
    "            time.sleep(1)\n",
    "            content_title.append(x.text)    # 전체 기사 리스트 목록에 넣기\n",
    "            time.sleep(1)\n",
    "            context_text.append(y.text) # 전체 내용 리스트 목록에 넣기\n",
    "            time.sleep(1)\n",
    "        print(\"복사완료\")\n",
    "        continue\n",
    "    time.sleep(2)\n",
    "    print(page_num)\n",
    "    html = browser.page_source\n",
    "    page = BeautifulSoup(html, \"lxml\")\n",
    "    time.sleep(3)\n",
    "    title_content=page.select(\"#frm > div > ul > li> div.entry > div.info > a\") # 제목 갖고옴,\n",
    "    time.sleep(1)\n",
    "    text_title=page.select(\"#frm > div > ul > li > div.reveiw > h4\") # 기사의 제목 갖고옴 \n",
    "    time.sleep(1)\n",
    "    text=page.select(\"#frm > div > ul > li > div.reveiw > p\") # 기사의 내용 갖고옴\n",
    "    time.sleep(1)\n",
    "    for i,x,y in zip(title_content,text_title,text):\n",
    "        title.append(i.text) # 전체 제목리스트를 목록에 넣기      \n",
    "        time.sleep(1)\n",
    "        content_title.append(x.text)    # 전체 기사 리스트 목록에 넣기\n",
    "        time.sleep(1)\n",
    "        context_text.append(y.text) # 전체 내용 리스트 목록에 넣기\n",
    "        time.sleep(1)\n",
    "    print(\"복사완료\")"
   ]
  },
  {
   "cell_type": "code",
   "execution_count": 419,
   "id": "7b040840",
   "metadata": {},
   "outputs": [],
   "source": [
    "#frm > div > ul > li > div.entry > div.info > a 3page\n",
    "#frm > div > ul > li > div.reveiw > h4\n",
    "#frm > div > ul > li> div.entry > div.info > a"
   ]
  },
  {
   "cell_type": "code",
   "execution_count": 420,
   "id": "50058291",
   "metadata": {},
   "outputs": [
    {
     "name": "stdout",
     "output_type": "stream",
     "text": [
      "['후일담', 'Super Stars', '201 (Special Edition)', 'Guckkasten', '기억상실', 'Radio Dayz', '하늘에 피는 꽃(Including ‘달에서의 9년‘)', 'Deli Spice', 'Staccato Green', \"What's Been Up?\", 'Road', 'Day Is Far Too Long', 'Astro Bits', '너의 다큐멘트', '단 한번의 여행 (Special Edition)', 'Hello World', \"It's Spring\", 'Porno Virus', 'Bright Lights', '1992-1999 Deluxe Remastered Edition', 'Blood Of lmmortality', 'Colorful Express', '졸업', 'Time Table', '꿈에 들어와', 'Funk', '나는 18살이다', 'The Story Of A Lazy Bird', '유년에게', 'Drifting', '청년 폭도 맹진가', 'SkyLab', 'Soundscape', 'Just Pop', '28', '외롭고 웃긴 가게', '장기하와 얼굴들', '비선형 (Non-Linear) 1집', 'Bluedawn', '18일의 수요일', 'Dancing Zoo']\n"
     ]
    }
   ],
   "source": [
    "print(title)"
   ]
  },
  {
   "cell_type": "code",
   "execution_count": 421,
   "id": "b4d36fb9",
   "metadata": {},
   "outputs": [
    {
     "name": "stdout",
     "output_type": "stream",
     "text": [
      "41\n"
     ]
    }
   ],
   "source": [
    "print(len(context_text))"
   ]
  },
  {
   "cell_type": "code",
   "execution_count": null,
   "id": "ff86bebd",
   "metadata": {},
   "outputs": [],
   "source": []
  },
  {
   "cell_type": "code",
   "execution_count": 422,
   "id": "e90ce11d",
   "metadata": {},
   "outputs": [],
   "source": [
    "import pandas as pd\n",
    "import os\n",
    "from datetime import datetime"
   ]
  },
  {
   "cell_type": "code",
   "execution_count": 423,
   "id": "ac6c71f0",
   "metadata": {},
   "outputs": [
    {
     "name": "stdout",
     "output_type": "stream",
     "text": [
      "melon_list_2023-05-06.csv\n"
     ]
    }
   ],
   "source": [
    "# csv만든거임.. 사실 내가 하려는것엔 필요없음...\n",
    "result=pd.DataFrame({\n",
    "            \"title\":title,\n",
    "            \"content_title\":content_title,\n",
    "            \"context_text\":context_text\n",
    "        })\n",
    "d=datetime.now().strftime(\"%Y-%m-%d\") # strftime(): 날짜 시간을 원하는형태의 문자열로 변환\n",
    "file_path = f\"melon_list_{d}.csv\"\n",
    "print(file_path)\n",
    "result.to_csv(file_path, index = False)"
   ]
  },
  {
   "cell_type": "code",
   "execution_count": 424,
   "id": "a12f6d4a",
   "metadata": {},
   "outputs": [],
   "source": [
    "save_path = f\"melon/{d}/{genre}\"\n",
    "os.makedirs(save_path, exist_ok = True) # 상위 디렉토리까지 생성"
   ]
  },
  {
   "cell_type": "code",
   "execution_count": 425,
   "id": "9e8befa1",
   "metadata": {},
   "outputs": [
    {
     "data": {
      "text/plain": [
       "41"
      ]
     },
     "execution_count": 425,
     "metadata": {},
     "output_type": "execute_result"
    }
   ],
   "source": [
    "len(title)"
   ]
  },
  {
   "cell_type": "code",
   "execution_count": 426,
   "id": "1a193d5d",
   "metadata": {},
   "outputs": [],
   "source": [
    "import re"
   ]
  },
  {
   "cell_type": "code",
   "execution_count": 427,
   "id": "de7647f1",
   "metadata": {},
   "outputs": [],
   "source": [
    "for t,c,c_t in zip(title, content_title,context_text):\n",
    "            title = re.sub('[^\\w]','',t)\n",
    "            with open(f\"{save_path}/{title}.txt\",\"wt\", encoding='utf-8') as fw:\n",
    "                fw.write(c)\n",
    "                fw.write(\"\\nㅡㅡㅡㅡㅡㅡㅡㅡㅡㅡㅡㅡㅡㅡㅡㅡㅡㅡㅡㅡㅡㅡㅡㅡㅡㅡㅡㅡㅡㅡㅡㅡㅡㅡㅡㅡㅡㅡ\\n\")\n",
    "                fw.write(c_t)"
   ]
  }
 ],
 "metadata": {
  "kernelspec": {
   "display_name": "Python 3 (ipykernel)",
   "language": "python",
   "name": "python3"
  },
  "language_info": {
   "codemirror_mode": {
    "name": "ipython",
    "version": 3
   },
   "file_extension": ".py",
   "mimetype": "text/x-python",
   "name": "python",
   "nbconvert_exporter": "python",
   "pygments_lexer": "ipython3",
   "version": "3.10.11"
  }
 },
 "nbformat": 4,
 "nbformat_minor": 5
}
