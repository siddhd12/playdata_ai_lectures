{
 "cells": [
  {
   "cell_type": "code",
   "execution_count": 40,
   "id": "a358661b",
   "metadata": {},
   "outputs": [],
   "source": [
    "# 트립 어드바이저_댓글 크롤링\n",
    "\n",
    "# 한 페이지 갖고오기\n",
    "\n",
    "from selenium import webdriver\n",
    "from selenium.webdriver.common.by import By\n",
    "\n",
    "from webdriver_manager.chrome import ChromeDriverManager\n",
    "from selenium.webdriver.chrome.service import Service\n",
    "from selenium.webdriver.support.ui import WebDriverWait\n",
    "from selenium.webdriver.support import expected_conditions as EC\n",
    "from bs4 import BeautifulSoup\n",
    "import time\n"
   ]
  },
  {
   "cell_type": "code",
   "execution_count": 50,
   "id": "77c7c720",
   "metadata": {},
   "outputs": [
    {
     "name": "stdout",
     "output_type": "stream",
     "text": [
      "0\n",
      "0\n",
      "기념일에 가기 좋은 식당입니다.서빙이 매우 만족스러웠으며, 매장의 분위기도 좋습니다. 맛도 물론 좋고요. 커트러리도 신경써서 제공하는 점이 좋았습니다.\n",
      "1\n"
     ]
    },
    {
     "ename": "ElementClickInterceptedException",
     "evalue": "Message: element click intercepted: Element <span class=\"taLnk ulBlueLinks\" onclick=\"widgetEvCall('handlers.clickCollapse',event,this);\">...</span> is not clickable at point (316, 8). Other element would receive the click: <a class=\"anQAR d Pa PQ Pn PD c _S Vm wepLU b\" data-tab-name=\"...\" data-tab-active=\"true\">리뷰</a>\n  (Session info: chrome=112.0.5615.138)\nStacktrace:\nBacktrace:\n\tGetHandleVerifier [0x00CADCE3+50899]\n\t(No symbol) [0x00C3E111]\n\t(No symbol) [0x00B45588]\n\t(No symbol) [0x00B75A7A]\n\t(No symbol) [0x00B74336]\n\t(No symbol) [0x00B7267B]\n\t(No symbol) [0x00B71797]\n\t(No symbol) [0x00B694A5]\n\t(No symbol) [0x00B8B8FC]\n\t(No symbol) [0x00B68EC6]\n\t(No symbol) [0x00B8BC54]\n\t(No symbol) [0x00B9E01C]\n\t(No symbol) [0x00B8B6F6]\n\t(No symbol) [0x00B67708]\n\t(No symbol) [0x00B6886D]\n\tGetHandleVerifier [0x00F13EAE+2566302]\n\tGetHandleVerifier [0x00F492B1+2784417]\n\tGetHandleVerifier [0x00F4327C+2759788]\n\tGetHandleVerifier [0x00D45740+672048]\n\t(No symbol) [0x00C48872]\n\t(No symbol) [0x00C441C8]\n\t(No symbol) [0x00C442AB]\n\t(No symbol) [0x00C371B7]\n\tBaseThreadInitThunk [0x763F0099+25]\n\tRtlGetAppContainerNamedObjectPath [0x76ED7B6E+286]\n\tRtlGetAppContainerNamedObjectPath [0x76ED7B3E+238]\n",
     "output_type": "error",
     "traceback": [
      "\u001b[1;31m---------------------------------------------------------------------------\u001b[0m",
      "\u001b[1;31mElementClickInterceptedException\u001b[0m          Traceback (most recent call last)",
      "Cell \u001b[1;32mIn[50], line 17\u001b[0m\n\u001b[0;32m     15\u001b[0m more_btn \u001b[38;5;241m=\u001b[39m browser\u001b[38;5;241m.\u001b[39mfind_element(By\u001b[38;5;241m.\u001b[39mCSS_SELECTOR, \u001b[38;5;124m\"\u001b[39m\u001b[38;5;124m.taLnk.ulBlueLinks\u001b[39m\u001b[38;5;124m\"\u001b[39m)  \u001b[38;5;66;03m# 더보기 위치 조회\u001b[39;00m\n\u001b[0;32m     16\u001b[0m time\u001b[38;5;241m.\u001b[39msleep(\u001b[38;5;241m1\u001b[39m)\n\u001b[1;32m---> 17\u001b[0m \u001b[43mmore_btn\u001b[49m\u001b[38;5;241;43m.\u001b[39;49m\u001b[43mclick\u001b[49m\u001b[43m(\u001b[49m\u001b[43m)\u001b[49m \u001b[38;5;66;03m# 조회한거 클릭\u001b[39;00m\n\u001b[0;32m     18\u001b[0m time\u001b[38;5;241m.\u001b[39msleep(\u001b[38;5;241m1\u001b[39m)\n\u001b[0;32m     19\u001b[0m html \u001b[38;5;241m=\u001b[39m browser\u001b[38;5;241m.\u001b[39mpage_source  \u001b[38;5;66;03m# 현재 페이지의 html 소스를 반환\u001b[39;00m\n",
      "File \u001b[1;32m~\\anaconda3\\lib\\site-packages\\selenium\\webdriver\\remote\\webelement.py:94\u001b[0m, in \u001b[0;36mWebElement.click\u001b[1;34m(self)\u001b[0m\n\u001b[0;32m     92\u001b[0m \u001b[38;5;28;01mdef\u001b[39;00m \u001b[38;5;21mclick\u001b[39m(\u001b[38;5;28mself\u001b[39m) \u001b[38;5;241m-\u001b[39m\u001b[38;5;241m>\u001b[39m \u001b[38;5;28;01mNone\u001b[39;00m:\n\u001b[0;32m     93\u001b[0m     \u001b[38;5;124;03m\"\"\"Clicks the element.\"\"\"\u001b[39;00m\n\u001b[1;32m---> 94\u001b[0m     \u001b[38;5;28;43mself\u001b[39;49m\u001b[38;5;241;43m.\u001b[39;49m\u001b[43m_execute\u001b[49m\u001b[43m(\u001b[49m\u001b[43mCommand\u001b[49m\u001b[38;5;241;43m.\u001b[39;49m\u001b[43mCLICK_ELEMENT\u001b[49m\u001b[43m)\u001b[49m\n",
      "File \u001b[1;32m~\\anaconda3\\lib\\site-packages\\selenium\\webdriver\\remote\\webelement.py:404\u001b[0m, in \u001b[0;36mWebElement._execute\u001b[1;34m(self, command, params)\u001b[0m\n\u001b[0;32m    402\u001b[0m     params \u001b[38;5;241m=\u001b[39m {}\n\u001b[0;32m    403\u001b[0m params[\u001b[38;5;124m\"\u001b[39m\u001b[38;5;124mid\u001b[39m\u001b[38;5;124m\"\u001b[39m] \u001b[38;5;241m=\u001b[39m \u001b[38;5;28mself\u001b[39m\u001b[38;5;241m.\u001b[39m_id\n\u001b[1;32m--> 404\u001b[0m \u001b[38;5;28;01mreturn\u001b[39;00m \u001b[38;5;28;43mself\u001b[39;49m\u001b[38;5;241;43m.\u001b[39;49m\u001b[43m_parent\u001b[49m\u001b[38;5;241;43m.\u001b[39;49m\u001b[43mexecute\u001b[49m\u001b[43m(\u001b[49m\u001b[43mcommand\u001b[49m\u001b[43m,\u001b[49m\u001b[43m \u001b[49m\u001b[43mparams\u001b[49m\u001b[43m)\u001b[49m\n",
      "File \u001b[1;32m~\\anaconda3\\lib\\site-packages\\selenium\\webdriver\\remote\\webdriver.py:440\u001b[0m, in \u001b[0;36mWebDriver.execute\u001b[1;34m(self, driver_command, params)\u001b[0m\n\u001b[0;32m    438\u001b[0m response \u001b[38;5;241m=\u001b[39m \u001b[38;5;28mself\u001b[39m\u001b[38;5;241m.\u001b[39mcommand_executor\u001b[38;5;241m.\u001b[39mexecute(driver_command, params)\n\u001b[0;32m    439\u001b[0m \u001b[38;5;28;01mif\u001b[39;00m response:\n\u001b[1;32m--> 440\u001b[0m     \u001b[38;5;28;43mself\u001b[39;49m\u001b[38;5;241;43m.\u001b[39;49m\u001b[43merror_handler\u001b[49m\u001b[38;5;241;43m.\u001b[39;49m\u001b[43mcheck_response\u001b[49m\u001b[43m(\u001b[49m\u001b[43mresponse\u001b[49m\u001b[43m)\u001b[49m\n\u001b[0;32m    441\u001b[0m     response[\u001b[38;5;124m\"\u001b[39m\u001b[38;5;124mvalue\u001b[39m\u001b[38;5;124m\"\u001b[39m] \u001b[38;5;241m=\u001b[39m \u001b[38;5;28mself\u001b[39m\u001b[38;5;241m.\u001b[39m_unwrap_value(response\u001b[38;5;241m.\u001b[39mget(\u001b[38;5;124m\"\u001b[39m\u001b[38;5;124mvalue\u001b[39m\u001b[38;5;124m\"\u001b[39m, \u001b[38;5;28;01mNone\u001b[39;00m))\n\u001b[0;32m    442\u001b[0m     \u001b[38;5;28;01mreturn\u001b[39;00m response\n",
      "File \u001b[1;32m~\\anaconda3\\lib\\site-packages\\selenium\\webdriver\\remote\\errorhandler.py:245\u001b[0m, in \u001b[0;36mErrorHandler.check_response\u001b[1;34m(self, response)\u001b[0m\n\u001b[0;32m    243\u001b[0m         alert_text \u001b[38;5;241m=\u001b[39m value[\u001b[38;5;124m\"\u001b[39m\u001b[38;5;124malert\u001b[39m\u001b[38;5;124m\"\u001b[39m]\u001b[38;5;241m.\u001b[39mget(\u001b[38;5;124m\"\u001b[39m\u001b[38;5;124mtext\u001b[39m\u001b[38;5;124m\"\u001b[39m)\n\u001b[0;32m    244\u001b[0m     \u001b[38;5;28;01mraise\u001b[39;00m exception_class(message, screen, stacktrace, alert_text)  \u001b[38;5;66;03m# type: ignore[call-arg]  # mypy is not smart enough here\u001b[39;00m\n\u001b[1;32m--> 245\u001b[0m \u001b[38;5;28;01mraise\u001b[39;00m exception_class(message, screen, stacktrace)\n",
      "\u001b[1;31mElementClickInterceptedException\u001b[0m: Message: element click intercepted: Element <span class=\"taLnk ulBlueLinks\" onclick=\"widgetEvCall('handlers.clickCollapse',event,this);\">...</span> is not clickable at point (316, 8). Other element would receive the click: <a class=\"anQAR d Pa PQ Pn PD c _S Vm wepLU b\" data-tab-name=\"...\" data-tab-active=\"true\">리뷰</a>\n  (Session info: chrome=112.0.5615.138)\nStacktrace:\nBacktrace:\n\tGetHandleVerifier [0x00CADCE3+50899]\n\t(No symbol) [0x00C3E111]\n\t(No symbol) [0x00B45588]\n\t(No symbol) [0x00B75A7A]\n\t(No symbol) [0x00B74336]\n\t(No symbol) [0x00B7267B]\n\t(No symbol) [0x00B71797]\n\t(No symbol) [0x00B694A5]\n\t(No symbol) [0x00B8B8FC]\n\t(No symbol) [0x00B68EC6]\n\t(No symbol) [0x00B8BC54]\n\t(No symbol) [0x00B9E01C]\n\t(No symbol) [0x00B8B6F6]\n\t(No symbol) [0x00B67708]\n\t(No symbol) [0x00B6886D]\n\tGetHandleVerifier [0x00F13EAE+2566302]\n\tGetHandleVerifier [0x00F492B1+2784417]\n\tGetHandleVerifier [0x00F4327C+2759788]\n\tGetHandleVerifier [0x00D45740+672048]\n\t(No symbol) [0x00C48872]\n\t(No symbol) [0x00C441C8]\n\t(No symbol) [0x00C442AB]\n\t(No symbol) [0x00C371B7]\n\tBaseThreadInitThunk [0x763F0099+25]\n\tRtlGetAppContainerNamedObjectPath [0x76ED7B6E+286]\n\tRtlGetAppContainerNamedObjectPath [0x76ED7B3E+238]\n"
     ]
    }
   ],
   "source": [
    "url = \"https://www.tripadvisor.co.kr/Restaurant_Review-g294197-d3200324-Reviews-Jungsik-Seoul.html#REVIEWS\"\n",
    "service = Service(executable_path= ChromeDriverManager().install())\n",
    "browser = webdriver.Chrome(service=service)\n",
    "browser.implicitly_wait(5) # 찾는 element가 생길때 까지 최대 5초 대기하겠다\n",
    "# time.sleep(10)\n",
    "browser.maximize_window()\n",
    "browser.get(url)# url 페이지로 이동\n",
    "# more_btn = browser.find_element(By.CSS_SELECTOR, \".taLnk.ulBlueLinks\")  # 더보기 위치 조회\n",
    "# more_btn.click() # 조회한거 클릭\n",
    "# time.sleep(1)\n",
    "# all_list=[] # 전체 리스트 조회할거 넣기 \n",
    "for i in range(3):\n",
    "    print(i)\n",
    "    time.sleep(1)\n",
    "    more_btn = browser.find_element(By.CSS_SELECTOR, \".taLnk.ulBlueLinks\")  # 더보기 위치 조회\n",
    "    time.sleep(1)\n",
    "    more_btn.click() # 조회한거 클릭\n",
    "    time.sleep(1)\n",
    "    html = browser.page_source  # 현재 페이지의 html 소스를 반환\n",
    "    soup = BeautifulSoup(html, 'lxml') # 파싱할것을 soup에 저장함\n",
    "    print(i)\n",
    "    comment_tag_list= soup.select(\"p.partial_entry\") # 원하는 태그를 soup로 갖고와 tag_list에 저장\n",
    "    comment_list = [] # comment list 텍스트 추출한거 넣을 곳 \n",
    "    for tag in comment_tag_list:\n",
    "        comment_list.append(tag.get_text().strip())# tag_list에 태그를 뺀 텍스트만 빼서 comment_list에 넣기\n",
    "    print(comment_list[0])\n",
    "#     all_list.append(comment_list)\n",
    "    more_btn2 = browser.find_element(By.CSS_SELECTOR, \"#taplc_location_qa_resp_rr_responsive_0 > div > div.block_body_top.limit-to-one > div.prw_rup.prw_common_north_star_pagination.responsive > div > a.nav.next.ui_button.primary\")\n",
    "    # 버튼 찾기\n",
    "    more_btn2.click() # 다음 버튼으로 넘어감"
   ]
  },
  {
   "cell_type": "markdown",
   "id": "185f723f",
   "metadata": {},
   "source": [
    "# 모든댓글들을 조회\n",
    "- 현재 페이지 댓글 처리\n",
    "- 반복\n",
    "    - 현재 페이지 댓글 처리\n",
    "    - 다음버튼 클릭"
   ]
  },
  {
   "cell_type": "code",
   "execution_count": null,
   "id": "40230efd",
   "metadata": {},
   "outputs": [],
   "source": [
    "url = \"https://www.tripadvisor.co.kr/Restaurant_Review-g294197-d3200324-Reviews-Jungsik-Seoul.html#REVIEWS\"\n",
    "service = Service(executable_path= ChromeDriverManager().install())\n",
    "browser = webdriver.Chrome(service=service)\n",
    "browser.implicitly_wait(5) # 찾는 element가 생길때 까지 최대 5초 대기하겠다\n",
    "# time.sleep(10)\n",
    "browser.maximize_window()\n",
    "# url 페이지로 이동\n",
    "browser.get(url)\n",
    "\n",
    "\n",
    "\n",
    "i=0\n",
    "comment_list = [] # 모든것을 넣는 리스트\n",
    "while True:\n",
    "    i+=1\n",
    "    print(i, end=\" \")\n",
    "\n",
    "\n",
    "# more_btn = browser.find_element(By.CSS_SELECTOR, \".taLnk.ulBlueLinks\")  # 위치 조회\n",
    "more_btn =webDriverWait(browser,10).until(EC.presence_of_all_elements_located([By.CSS_SELECTOR,\".taLnk.ulBlueLinks\"]))\n",
    "# element가 전부 나타날때까지 10초만 기다려라 라는 의미\n",
    "more_btn.click() # 조회한거 클릭\n",
    "time.sleep(1)\n",
    "# all_list=[] # 전체 리스트 조회할거 넣기 \n",
    "html = browser.page_source  # 현재 페이지의 html 소스를 반환\n",
    "soup = BeautifulSoup(html, 'lxml') # 파싱할것을 soup에 저장함\n",
    "print(i)\n",
    "comment_tag_list= soup.select(\"p.partial_entry\") # 원하는 태그를 soup로 갖고와 tag_list에 저장\n",
    "     \n",
    "    for tag in comment_tag_list:\n",
    "        comment_list.append(tag.get_text().strip())# tag_list에 태그를 뺀 텍스트만 빼서 comment_list에 넣기\n",
    "    print(comment_list[0])\n",
    "#     all_list.append(comment_list)\n",
    "    try:\n",
    "        more_btn2 = browser.find_element(By.CSS_SELECTOR, \"#taplc_location_qa_resp_rr_responsive_0 > div > div.block_body_top.limit-to-one > div.prw_rup.prw_common_north_star_pagination.responsive > div > a.nav.next.ui_button.primary\")\n",
    "        # 버튼 찾기\n",
    "        more_btn2.click() # 다음 버튼으로 넘어감\n",
    "        time.sleep(1)\n",
    "    except:\n",
    "        print(\"종료\")\n",
    "        break\n",
    "browser.close()"
   ]
  }
 ],
 "metadata": {
  "kernelspec": {
   "display_name": "Python 3 (ipykernel)",
   "language": "python",
   "name": "python3"
  },
  "language_info": {
   "codemirror_mode": {
    "name": "ipython",
    "version": 3
   },
   "file_extension": ".py",
   "mimetype": "text/x-python",
   "name": "python",
   "nbconvert_exporter": "python",
   "pygments_lexer": "ipython3",
   "version": "3.10.11"
  }
 },
 "nbformat": 4,
 "nbformat_minor": 5
}
