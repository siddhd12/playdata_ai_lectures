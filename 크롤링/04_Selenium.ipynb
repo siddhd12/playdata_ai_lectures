{
 "cells": [
  {
   "cell_type": "code",
   "execution_count": 2,
   "metadata": {
    "collapsed": true
   },
   "outputs": [
    {
     "name": "stdout",
     "output_type": "stream",
     "text": [
      "Collecting selenium\n",
      "  Downloading selenium-4.8.3-py3-none-any.whl (6.5 MB)\n",
      "     ---------------------------------------- 6.5/6.5 MB 69.4 MB/s eta 0:00:00\n",
      "Requirement already satisfied: certifi>=2021.10.8 in c:\\users\\playdata\\anaconda3\\lib\\site-packages (from selenium) (2022.12.7)\n",
      "Collecting trio~=0.17\n",
      "  Downloading trio-0.22.0-py3-none-any.whl (384 kB)\n",
      "     ------------------------------------- 384.9/384.9 kB 25.0 MB/s eta 0:00:00\n",
      "Collecting trio-websocket~=0.9\n",
      "  Downloading trio_websocket-0.10.2-py3-none-any.whl (17 kB)\n",
      "Requirement already satisfied: urllib3[socks]~=1.26 in c:\\users\\playdata\\anaconda3\\lib\\site-packages (from selenium) (1.26.14)\n",
      "Collecting outcome\n",
      "  Downloading outcome-1.2.0-py2.py3-none-any.whl (9.7 kB)\n",
      "Collecting async-generator>=1.9\n",
      "  Downloading async_generator-1.10-py3-none-any.whl (18 kB)\n",
      "Requirement already satisfied: idna in c:\\users\\playdata\\anaconda3\\lib\\site-packages (from trio~=0.17->selenium) (3.4)\n",
      "Collecting exceptiongroup>=1.0.0rc9\n",
      "  Downloading exceptiongroup-1.1.1-py3-none-any.whl (14 kB)\n",
      "Requirement already satisfied: cffi>=1.14 in c:\\users\\playdata\\anaconda3\\lib\\site-packages (from trio~=0.17->selenium) (1.15.1)\n",
      "Requirement already satisfied: sniffio in c:\\users\\playdata\\anaconda3\\lib\\site-packages (from trio~=0.17->selenium) (1.2.0)\n",
      "Requirement already satisfied: attrs>=19.2.0 in c:\\users\\playdata\\anaconda3\\lib\\site-packages (from trio~=0.17->selenium) (22.1.0)\n",
      "Requirement already satisfied: sortedcontainers in c:\\users\\playdata\\anaconda3\\lib\\site-packages (from trio~=0.17->selenium) (2.4.0)\n",
      "Collecting wsproto>=0.14\n",
      "  Downloading wsproto-1.2.0-py3-none-any.whl (24 kB)\n",
      "Requirement already satisfied: PySocks!=1.5.7,<2.0,>=1.5.6 in c:\\users\\playdata\\anaconda3\\lib\\site-packages (from urllib3[socks]~=1.26->selenium) (1.7.1)\n",
      "Requirement already satisfied: pycparser in c:\\users\\playdata\\anaconda3\\lib\\site-packages (from cffi>=1.14->trio~=0.17->selenium) (2.21)\n",
      "Collecting h11<1,>=0.9.0\n",
      "  Downloading h11-0.14.0-py3-none-any.whl (58 kB)\n",
      "     ---------------------------------------- 58.3/58.3 kB 3.0 MB/s eta 0:00:00\n",
      "Installing collected packages: outcome, h11, exceptiongroup, async-generator, wsproto, trio, trio-websocket, selenium\n",
      "Successfully installed async-generator-1.10 exceptiongroup-1.1.1 h11-0.14.0 outcome-1.2.0 selenium-4.8.3 trio-0.22.0 trio-websocket-0.10.2 wsproto-1.2.0\n"
     ]
    }
   ],
   "source": [
    "!pip install selenium"
   ]
  },
  {
   "cell_type": "code",
   "execution_count": 3,
   "metadata": {
    "collapsed": true
   },
   "outputs": [
    {
     "name": "stdout",
     "output_type": "stream",
     "text": [
      "Collecting webdriver-manager\n",
      "  Downloading webdriver_manager-3.8.6-py2.py3-none-any.whl (27 kB)\n",
      "Collecting python-dotenv\n",
      "  Downloading python_dotenv-1.0.0-py3-none-any.whl (19 kB)\n",
      "Requirement already satisfied: requests in c:\\users\\playdata\\anaconda3\\lib\\site-packages (from webdriver-manager) (2.28.1)\n",
      "Requirement already satisfied: packaging in c:\\users\\playdata\\anaconda3\\lib\\site-packages (from webdriver-manager) (22.0)\n",
      "Requirement already satisfied: tqdm in c:\\users\\playdata\\anaconda3\\lib\\site-packages (from webdriver-manager) (4.64.1)\n",
      "Requirement already satisfied: charset-normalizer<3,>=2 in c:\\users\\playdata\\anaconda3\\lib\\site-packages (from requests->webdriver-manager) (2.0.4)\n",
      "Requirement already satisfied: idna<4,>=2.5 in c:\\users\\playdata\\anaconda3\\lib\\site-packages (from requests->webdriver-manager) (3.4)\n",
      "Requirement already satisfied: urllib3<1.27,>=1.21.1 in c:\\users\\playdata\\anaconda3\\lib\\site-packages (from requests->webdriver-manager) (1.26.14)\n",
      "Requirement already satisfied: certifi>=2017.4.17 in c:\\users\\playdata\\anaconda3\\lib\\site-packages (from requests->webdriver-manager) (2022.12.7)\n",
      "Requirement already satisfied: colorama in c:\\users\\playdata\\anaconda3\\lib\\site-packages (from tqdm->webdriver-manager) (0.4.6)\n",
      "Installing collected packages: python-dotenv, webdriver-manager\n",
      "Successfully installed python-dotenv-1.0.0 webdriver-manager-3.8.6\n"
     ]
    }
   ],
   "source": [
    "!pip install webdriver-manager"
   ]
  },
  {
   "cell_type": "code",
   "execution_count": 5,
   "metadata": {},
   "outputs": [],
   "source": [
    "import selenium\n",
    "from selenium.webdriver.chrome.service import Service\n",
    "from selenium import webdriver"
   ]
  },
  {
   "cell_type": "code",
   "execution_count": 6,
   "metadata": {},
   "outputs": [],
   "source": [
    "service = Service(executable_path=\"chromedriver.exe\")\n",
    "browser = webdriver.Chrome(service=service)"
   ]
  },
  {
   "cell_type": "code",
   "execution_count": 7,
   "metadata": {},
   "outputs": [],
   "source": [
    "browser.set_window_size(600, 500)"
   ]
  },
  {
   "cell_type": "code",
   "execution_count": 8,
   "metadata": {},
   "outputs": [],
   "source": [
    "browser.get(\"https://www.naver.com\")"
   ]
  },
  {
   "cell_type": "code",
   "execution_count": 9,
   "metadata": {},
   "outputs": [
    {
     "data": {
      "text/plain": [
       "True"
      ]
     },
     "execution_count": 9,
     "metadata": {},
     "output_type": "execute_result"
    }
   ],
   "source": [
    "browser.get_screenshot_as_file(\"naver_main.png\")"
   ]
  },
  {
   "cell_type": "code",
   "execution_count": 10,
   "metadata": {},
   "outputs": [],
   "source": [
    "browser.maximize_window()"
   ]
  },
  {
   "cell_type": "code",
   "execution_count": 11,
   "metadata": {},
   "outputs": [
    {
     "data": {
      "text/plain": [
       "{'width': 1936, 'height': 1056}"
      ]
     },
     "execution_count": 11,
     "metadata": {},
     "output_type": "execute_result"
    }
   ],
   "source": [
    "browser.get_window_size()"
   ]
  },
  {
   "cell_type": "code",
   "execution_count": 13,
   "metadata": {},
   "outputs": [],
   "source": [
    "browser.execute_script(\"alert(100)\")"
   ]
  },
  {
   "cell_type": "code",
   "execution_count": 14,
   "metadata": {},
   "outputs": [],
   "source": [
    "alert = browser.switch_to.alert\n",
    "alert.accept()"
   ]
  },
  {
   "cell_type": "code",
   "execution_count": 17,
   "metadata": {},
   "outputs": [],
   "source": [
    "from selenium.webdriver.common.by import By\n",
    "browser.find_element(By.ID, \"query\").send_keys(\"파이썬\")"
   ]
  },
  {
   "cell_type": "code",
   "execution_count": 18,
   "metadata": {},
   "outputs": [],
   "source": [
    "browser.find_element(By.ID, 'search_btn').click()"
   ]
  },
  {
   "cell_type": "code",
   "execution_count": 19,
   "metadata": {},
   "outputs": [],
   "source": [
    "browser.close()"
   ]
  },
  {
   "cell_type": "code",
   "execution_count": 20,
   "metadata": {},
   "outputs": [
    {
     "data": {
      "text/plain": [
       "'4.8.3'"
      ]
     },
     "execution_count": 20,
     "metadata": {},
     "output_type": "execute_result"
    }
   ],
   "source": [
    "selenium.__version__"
   ]
  },
  {
   "cell_type": "markdown",
   "metadata": {},
   "source": [
    "# [Selenium](https://www.selenium.dev/)\n",
    "\n",
    "- **웹 브라우저 제어 도구**\n",
    "    - 원래는 웹 어플리케이션 자동 테스트를 위한 목적으로 만들어진 프레임워크.\n",
    "    - 웹브라우저를 프로그램을 이용해 제어할 수 있다.\n",
    "- **requests 모듈의 한계**   \n",
    "    - Javascript를 이용한 AJAX 기법의 비동기적 요청 처리 페이지 크롤링이 힘들다.\n",
    "    - 로그인 후 요청이 가능한 페이지들에 대한 크롤링이 번거롭다.\n",
    "    - Selenium을 활용하면 이 두가지 모두 쉽게 처리할 수 있다.\n",
    "    \n",
    "- **Selenium 단점** \n",
    "    - 속도가 느림\n",
    "- **설치**\n",
    "    - `conda install selenium`\n",
    "    - `pip install selenium`\n",
    "- [튜토리얼](https://selenium-python.readthedocs.io/)\n",
    "> - 주의: selenium은 3에서 4버전으로 업그레이드 되면서 드라이버 설정과 element 조회 메서드등이 많이 바뀜."
   ]
  },
  {
   "cell_type": "code",
   "execution_count": null,
   "metadata": {},
   "outputs": [],
   "source": [
    "# requests는 현재 페이지에 있는 것만 가져온다. (각 페이지 url이 다른 페이지들은 가져올 수 있다.)\n",
    "# 다만, 동적으로 만들어지는 자바스크립트 페이지들은 못가져오니 selenium을 사용하는 것이다."
   ]
  },
  {
   "cell_type": "code",
   "execution_count": null,
   "metadata": {},
   "outputs": [],
   "source": [
    "# ! pip install selenium --upgrade\n",
    "# ! pip install webdriver-manager\n",
    "import selenium\n",
    "selenium.__version__"
   ]
  },
  {
   "cell_type": "markdown",
   "metadata": {},
   "source": [
    "# Driver\n",
    "\n",
    "- Driver \n",
    "    - 웹브라우저를 제어하는 프로그램으로 웹 브라우저별로 제공된다.\n",
    "    - Selenium 패키지의 Driver객체를 이용해 제어하게 된다.\n",
    "    \n",
    "## 설치\n",
    "1. **DriverManager 이용**\n",
    "    - `pip install webdriver-manager` "
   ]
  },
  {
   "cell_type": "markdown",
   "metadata": {},
   "source": [
    "2. **Hard coding**\n",
    "    1. 브라우져별로 드라이버를 다운로드 받는다.\n",
    "        - https://www.selenium.dev/documentation/webdriver/getting_started/install_drivers/#quick-reference\n",
    "    2. Local 컴퓨터에 설치된 크롬브라우져 버전에 맞는 드라이버 선택\n"
   ]
  },
  {
   "cell_type": "markdown",
   "metadata": {},
   "source": [
    "### DriverManager를 이용해 WebDriver 생성"
   ]
  },
  {
   "cell_type": "code",
   "execution_count": null,
   "metadata": {},
   "outputs": [],
   "source": [
    "from webdriver_manager.chrome import ChromeDriverManager\n",
    "from selenium.webdriver.chrome.service import Service\n",
    "from selenium import webdriver"
   ]
  },
  {
   "cell_type": "code",
   "execution_count": null,
   "metadata": {},
   "outputs": [],
   "source": [
    "# DriverManager를 통해 다운로드 후 그 저장 경로 받아오기.\n",
    "driver = ChromeDriverManager().install()\n",
    "print(type(driver))\n",
    "driver"
   ]
  },
  {
   "cell_type": "markdown",
   "metadata": {},
   "source": [
    "### 다운 받은 Driver이용해 WebDriver생성"
   ]
  },
  {
   "cell_type": "code",
   "execution_count": null,
   "metadata": {},
   "outputs": [],
   "source": [
    "# 다운받고 그 경로를 문자열로 저장.\n",
    "driver = \"chromedriver\""
   ]
  },
  {
   "cell_type": "code",
   "execution_count": null,
   "metadata": {},
   "outputs": [],
   "source": [
    "service = Service(executable_path=driver) # driver 경로를 넣어서 생성\n",
    "browser = webdriver.Chrome(service=service) # sevice를 넣어서 Web Browser 실행."
   ]
  },
  {
   "cell_type": "code",
   "execution_count": null,
   "metadata": {},
   "outputs": [],
   "source": [
    "# 특정 url로 이동\n",
    "browser.get(\"https://www.naver.com\")"
   ]
  },
  {
   "cell_type": "code",
   "execution_count": null,
   "metadata": {},
   "outputs": [],
   "source": [
    "browser.close() # 웹브라우저 끄기. quit 사용해도 된다고 함."
   ]
  },
  {
   "cell_type": "markdown",
   "metadata": {
    "heading_collapsed": true
   },
   "source": [
    "## WebDriver 주요 속성/메소드\n",
    "\n",
    "- **page_source** : 현재 페이지의 html 소스를 반환\n",
    "    - page_source로 html을 받아서 BeautifulSoup으로 크롤링할 원소를 찾을 수 있다.\n",
    "- **get_screenshot_as_file(파일경로)**\n",
    "    - 현재 웹브라우저 화면을 지정한 캡처해서 지정한 파일 경로에 저장한다.\n",
    "- **set_window_size(width, height)**\n",
    "    - 웹브라우저 윈도우 크기 조정\n",
    "- **maximize_window()**\n",
    "    - 웹브라우저 화면 최대 크기로 만들기.\n",
    "- **get_window_size()**\n",
    "    - 웹브라우저 윈도우 크기 조회. (width, height)\n",
    "- **execute_script(\"자바스크립트코드\")**\n",
    "    - 문자열로 전달한 **javascript 코드**를 실행시킨다.\n",
    "- **quit()**, **close()**\n",
    "    - 웹브라우저를 종료한다.\n",
    "    "
   ]
  },
  {
   "cell_type": "markdown",
   "metadata": {
    "heading_collapsed": true
   },
   "source": [
    "## Page의 Element 조회 메소드\n",
    "- BeautifulSoup을 이용하지 않고 셀레늄 자체 parser를 이용할 수 있다.\n",
    "- **find_element()**: 조건을 만족하는 첫번째 요소를 반환한다.\n",
    "    - 매개변수\n",
    "        - **by**: 검색방식\n",
    "            - **By.ID**\n",
    "            - **By.CLASS_NAME**\n",
    "            - **By.TAG_NAME**\n",
    "            - **By.CSS_SELECTOR**\n",
    "            - **By.XPATH**\n",
    "            - **By.LINK_TEXT**\n",
    "            - **By.PARTIAL_LINK_TEXT**\n",
    "        - **value**: str - 검색조건\n",
    "    - 반환타입: **WebElement**\n",
    "- **find_elements()**: 조건을 만족하는 모든 요소를 찾는다.\n",
    "    - 매개변수: find_element()와 동일\n",
    "    - 반환타입\n",
    "        - **list of WebElement**       "
   ]
  },
  {
   "cell_type": "markdown",
   "metadata": {
    "heading_collapsed": true
   },
   "source": [
    "### WebElement (조회결과) 메소드 / 속성\n",
    "- 메소드\n",
    "    - **get_attribute('속성명')**: 태그의 속성값 조회\n",
    "    - **send_keys(\"문자열\")**: 입력폼에 문자열 값을 입력.\n",
    "    - **click()**: element를 클릭\n",
    "    - **submit()**: element가 Form인 경우 폼 전송\n",
    "    - **clear()**: element가 입력폼인 경우 텍스트를 지운다.\n",
    "    - 위 조회 메소드들 : 하위의 elements들 조회\n",
    "- 속성\n",
    "    - **text**: 태그내의 텍스트\n",
    "    - **tag_name**: 태그이름 "
   ]
  },
  {
   "cell_type": "code",
   "execution_count": null,
   "metadata": {},
   "outputs": [],
   "source": [
    "from webdriver_manager.chrome import ChromeDriverManager\n",
    "from selenium.webdriver.chrome.service import Service\n",
    "from selenium import webdriver\n",
    "from selenium.webdriver.common.by import By\n",
    "from selenium.webdriver.common.keys import Keys"
   ]
  },
  {
   "cell_type": "code",
   "execution_count": null,
   "metadata": {},
   "outputs": [],
   "source": [
    "# 브라우저 실행\n",
    "# service = Service(executable_path=\"chromedriver\")\n",
    "service = Service(executable_path=ChromeDriverManager().install())\n",
    "browser = webdriver.Chrome(service=service)\n",
    "\n",
    "# naver로 이동\n",
    "browser.get('https://naver.com')"
   ]
  },
  {
   "cell_type": "code",
   "execution_count": null,
   "metadata": {},
   "outputs": [],
   "source": [
    "# html 페이지 조회 -> BeautifulSoup을 이용해 크롤링할 경우.\n",
    "html = browser.page_source\n",
    "print(html[:500])\n",
    "print(type(html))"
   ]
  },
  {
   "cell_type": "code",
   "execution_count": null,
   "metadata": {},
   "outputs": [],
   "source": [
    "# html 페이지 조회 -> BeautifulSoup을 이용해 크롤링할 경우.\n",
    "html = browser.page_source\n",
    "print(html[:500])\n",
    "print(type(html))"
   ]
  },
  {
   "cell_type": "code",
   "execution_count": null,
   "metadata": {},
   "outputs": [],
   "source": [
    "# 스크린 샷\n",
    "# png => bytes로 저장.\n",
    "browser.get_screenshot_as_file(\"naver_main_page.png\")"
   ]
  },
  {
   "cell_type": "code",
   "execution_count": null,
   "metadata": {},
   "outputs": [],
   "source": [
    "# elements를 조회\n",
    "query_textfield = browser.find_element(By.ID, \"query\") # element 1개를 찾음.\n",
    "print(type(query_textfield))\n",
    "print(query_textfield.tag_name, query_textfield.get_attribute('id'))\n",
    "# keyborad 입력\n",
    "query_textfield.send_keys(\"날씨\") # 입력한 값을 치라는 거임.\n",
    "query_textfield.send_keys(Keys.ENTER)"
   ]
  },
  {
   "cell_type": "code",
   "execution_count": null,
   "metadata": {},
   "outputs": [],
   "source": [
    "# 검색결과 페이지로 이동후 검색 키워드 입력 element 조회\n",
    "query_textfield2 = browser.find_element(By.ID, \"nx_query\")\n",
    "query_textfield2.clear() # 입력되어있는 텍스트 지우기."
   ]
  },
  {
   "cell_type": "code",
   "execution_count": null,
   "metadata": {},
   "outputs": [],
   "source": [
    "# 새로운 키워드로 검색\n",
    "query_textfield2.send_keys(\"미세먼지\")"
   ]
  },
  {
   "cell_type": "code",
   "execution_count": null,
   "metadata": {},
   "outputs": [],
   "source": [
    "query_btn = browser.find_element(By.CLASS_NAME, 'bt_search') # 버튼을 찾은거임\n",
    "query_btn.click()"
   ]
  },
  {
   "cell_type": "code",
   "execution_count": null,
   "metadata": {},
   "outputs": [],
   "source": [
    "# 웹브라우저 종료\n",
    "# browser.close()\n",
    "browser.quit()"
   ]
  },
  {
   "cell_type": "markdown",
   "metadata": {},
   "source": [
    "## TODO: 구글 검색\n",
    "1. https://www.google.co.kr 페이지로 이동\n",
    "2. 파이썬을 검색한다.\n",
    "3. 검색결과 title들을 출력한다."
   ]
  },
  {
   "cell_type": "code",
   "execution_count": null,
   "metadata": {},
   "outputs": [],
   "source": [
    "# 웹 브라우저 실행\n",
    "service = Service(executable_path=ChromeDriverManager().install()) # 서비스를 만들기.\n",
    "browser = webdriver.Chrome(service=service) # 크롬을 실행시키면서 서비스를 넣어줌."
   ]
  },
  {
   "cell_type": "code",
   "execution_count": null,
   "metadata": {},
   "outputs": [],
   "source": [
    "# 구글 페이지로 이동\n",
    "browser.get(\"https://www.google.co.kr\") #"
   ]
  },
  {
   "cell_type": "code",
   "execution_count": null,
   "metadata": {},
   "outputs": [],
   "source": [
    "# element 조회\n",
    "# query_textfield3 = browser.find_element(By.CLASS_NAME, 'gLFyf') 이거도 되는데,\n",
    "# <태그 name = \"XXXX\"> 입력 양식 태그의 name 속성값으로 찾기 <-- 이런 방식도 있다.\n",
    "query_tf = browser.find_element(By.NAME, \"q\")\n",
    "# 파이썬 검색\n",
    "# query_textfield3.send_keys(\"파이썬\")\n",
    "query_tf.send_keys(\"파이썬\")"
   ]
  },
  {
   "cell_type": "code",
   "execution_count": null,
   "metadata": {},
   "outputs": [],
   "source": [
    "# 검색 버튼 누르기\n",
    "# query_textfield3.send_keys(Keys.ENTER)\n",
    "query_tf.send_keys(Keys.ENTER)"
   ]
  },
  {
   "cell_type": "code",
   "execution_count": null,
   "metadata": {},
   "outputs": [],
   "source": [
    "# 검색결과 title들을 출력하기.\n",
    "# 제목 리스트\n",
    "# TAGNAME = H3\n",
    "# class = .LC20lb.MBeuO.DKV0Md\n",
    "\n",
    "# query_textfield4 = browser.find_elements(By.TAG_NAME, \"h3\")\n",
    "# for i in query_textfield4:\n",
    "#     print(i.text)\n",
    "\n",
    "title_list = browser.find_elements(By.TAG_NAME, \"h3\")\n",
    "print(len(title_list))"
   ]
  },
  {
   "cell_type": "code",
   "execution_count": null,
   "metadata": {},
   "outputs": [],
   "source": [
    "title_list2 = browser.find_elements(By.CSS_SELECTOR, '.LC20lb.MBeuO.DKV0Md')\n",
    "# class를 여러개 지정해줘서 .으로 구분한거임. 보기엔 ' '으로 나뉘어 보임.\n",
    "print(len(title_list2))"
   ]
  },
  {
   "cell_type": "code",
   "execution_count": null,
   "metadata": {},
   "outputs": [],
   "source": [
    "for title_tag in title_list2:\n",
    "    # 태그 사이의 값(text-content)를 조회\n",
    "    if title_tag.text == '':\n",
    "        continue # 빈칸이면 무시해라. 라는 거임.\n",
    "    print(title_tag.text)\n",
    "    print(\"=\"*50)\n",
    "\n",
    "# for title_tag in title_list2:\n",
    "#     if title_tag.text == '':\n",
    "#         continue\n",
    "#     #태그사이이 값(text-content) 조회\n",
    "#     print(title_tag.text)\n",
    "#     print(\"-\"*60)\n",
    "    \n",
    "# result = browser.find_elements(By.CLASS_NAME,'LC20lb.MBeuO.DKV0Md')\n",
    "# title_list = [x.text for x in result]\n",
    "# for x in title_list:\n",
    "#     if x=='':\n",
    "#         continue\n",
    "#     else:\n",
    "#         print(x)"
   ]
  },
  {
   "cell_type": "code",
   "execution_count": null,
   "metadata": {},
   "outputs": [],
   "source": [
    "# 브라우저 종료\n",
    "browser.close()"
   ]
  },
  {
   "cell_type": "markdown",
   "metadata": {},
   "source": [
    "## 브라우저의 headless 모드를 이용.\n",
    "- Headless 브라우저 \n",
    "    - 브라우저의 창을 띄우지 않고 실제 브라우저와 동일하게 동작하도록 하는 방식\n",
    "    - CLI 기반의 OS (리눅스 서버)를 지원하기 위한 브라우저\n",
    "    - 크롬은 버전 60부터 headless 모드 지원\n",
    "- selenium에서 headless 모드\n",
    "    - webdriver options에 headless 설정"
   ]
  },
  {
   "cell_type": "code",
   "execution_count": null,
   "metadata": {},
   "outputs": [],
   "source": [
    "from selenium import webdriver\n",
    "import time\n",
    "\n",
    "option = webdriver.ChromeOptions() # 옵션값을 등록해주는거임.\n",
    "option.add_argument(\"--headless\") # headless모드 등록\n",
    "\n",
    "service = Service(executable_path='chromedriver') # 크롬드라이버가 있는 장소를 넣는거임 excutable_path가 ㅇㅇ\n",
    "browser = webdriver.Chrome(service=service, options=option)\n",
    "\n",
    "browser.maximize_window()\n",
    "print(browser.get_window_size())\n",
    "\n",
    "browser.get(\"https://www.daum.net\")\n",
    "time.sleep(1)\n",
    "browser.get_screenshot_as_file(\"daum_mainpage.png\")\n",
    "browser.close()"
   ]
  },
  {
   "cell_type": "markdown",
   "metadata": {
    "hidden": true
   },
   "source": [
    "# 대기 하기\n",
    "\n",
    "## Explicit Wait\n",
    "- 특정 조건/상황을 만족할 때 까지 대기\n",
    "- `WebDriverWait(driver, 초).until(expected_contition)` 구문 사용\n",
    "- expected_condition 함수\n",
    "     - selenium.webdriver.support.expected_conditions 모듈에 정의된 함수 사용.\n",
    "         - https://selenium-python.readthedocs.io/api.html#module-selenium.webdriver.support.expected_conditions\n",
    "     \n",
    "## Implicit Wait\n",
    "- 현재 페이지에 없는 element나 elememt들이 loading 되기를 설정한 시간만큼 기다린다. \n",
    "- 설정한 시간 이내에 elements가 loading되면 대기가 종료된다.\n",
    "- `implicit_wait(초)` 구문 사용\n",
    "- 한번 설정하면 설정된 WebDriver가 close될때 까지 그 설정이 유지된다.\n",
    "- https://selenium-python.readthedocs.io/waits.html\n",
    "\n",
    "### 예)\n",
    "```python\n",
    "driver.implicitly_wait(5) \n",
    "# 페이지 로딩(dom tree완성)될 때까지 최대 5초간 기다린다. (로딩이 되면 5초가 되지 않아도 대기를 끝낸다.)\n",
    "```\n",
    "<hr>\n",
    "\n",
    "```python\n",
    "from selenium.webdriver.support import expected_conditions as EC\n",
    "\n",
    "...\n",
    "\n",
    "try:\n",
    "    # element가 반환될 때 까지 최대 10초 기다린다.\n",
    "    element = WebDriverWait(driver, 10).until(\n",
    "        EC.presence_of_element_located((By.ID, \"myDynamicElement\"))\n",
    "    )\n",
    "finally:\n",
    "    driver.quit()\n",
    "```"
   ]
  },
  {
   "cell_type": "markdown",
   "metadata": {},
   "source": [
    "# 무한 스크롤 구현\n",
    "```javascript\n",
    "// scroll의 길이를 확인하는 코드\n",
    "document.documentElement.scrollHeight\n",
    "// scroll 이동시키는 코드\n",
    "window.scrollTo(가로 스크롤 움직일 위치 : 정수, 세로 스크롤 움직일 위치 : 정수)\n",
    "```"
   ]
  },
  {
   "cell_type": "code",
   "execution_count": null,
   "metadata": {},
   "outputs": [],
   "source": [
    "import time\n",
    "import selenium\n",
    "from selenium import webdriver\n",
    "from selenium.webdriver.chrome.service import Service\n",
    "# from selenium.webdriver.chrome.webdriver import webdriver\n",
    "from selenium.webdriver.common.by import By\n",
    "from selenium.webdriver.common.keys import Keys\n",
    "\n",
    "from webdriver_manager.chrome import ChromeDriverManager\n",
    "\n",
    "# headless 모드 설정\n",
    "options = webdriver.ChromeOptions()\n",
    "options.add_argument(\"--headless\")\n",
    "service = Service(executable_path=ChromeDriverManager().install())\n",
    "\n",
    "# webdriver 객체 생성\n",
    "browser = webdriver.Chrome(service=service)\n",
    "# browser = webdriver.Chrome(service=service, options=options) # headless\n",
    "\n",
    "# 유튜브로 이동\n",
    "browser.maximize_window()\n",
    "browser.get(\"https://youtube.com\")\n",
    "\n",
    "\n",
    "time.sleep(3)\n",
    "#execute_script(\"자바스크립트 코드\") => 자바스크립트 코드를 브라우저에서 실행시킨다.\n",
    "# 현재 scroll의 길이를 조회\n",
    "scroll_pane_height = browser.execute_script(\"return document.documentElement.scrollHeight\") \n",
    "while True: # 더이상 scroll이 움직이지 않을 때 까지 스크롤을 내린다.\n",
    "    #스크롤 내리기\n",
    "    browser.execute_script(\"window.scrollTo(0, document.documentElement.scrollHeight)\") # 스크롤이 내려갔다는 이벤트를 발생. -> 서버에 요청\n",
    "    # time.sleep(1)\n",
    "    new_scroll_height = browser.execute_script(\"return document.documentElement.scrollHeight\")\n",
    "    # 이전 scrollpane의 길이와 이동후 scrollpane 길이를 비교\n",
    "    if scroll_pane_height == new_scroll_height:\n",
    "        break\n",
    "    \n",
    "    scroll_pane_height = new_scroll_height # 바꿔야함. 그래야 다음꺼도 되니까... 루틴같은 개념인듯.\n",
    "\n",
    "# 크롤링 작업.\n",
    "\n",
    "browser.close()"
   ]
  },
  {
   "cell_type": "code",
   "execution_count": null,
   "metadata": {},
   "outputs": [],
   "source": [
    "browser.close()"
   ]
  },
  {
   "cell_type": "code",
   "execution_count": null,
   "metadata": {},
   "outputs": [],
   "source": [
    "# execute_script(\"자바스크립트 코드\") => 자바스크립트 코드를 브라우저에서 실행시킨다.\n",
    "browser.execute_script(\"window.scrollTo(0,10000)\")\n",
    "time.sleep(1)\n",
    "scroll_pane_height = browser.execute_script(\"return document.documentElement.scrollHeight\")\n",
    "print(scroll_pane_height)\n",
    "# 이건 이벤트가 한번 생기기에 만까지 가지않고 7000에서 멈추는거고. 이벤트를 여러번 생기게해서 딱 그 스크롤까지 가고싶다면 위에처럼  while문을 써서 해야한다."
   ]
  }
 ],
 "metadata": {
  "kernelspec": {
   "display_name": "Python 3 (ipykernel)",
   "language": "python",
   "name": "python3"
  },
  "language_info": {
   "codemirror_mode": {
    "name": "ipython",
    "version": 3
   },
   "file_extension": ".py",
   "mimetype": "text/x-python",
   "name": "python",
   "nbconvert_exporter": "python",
   "pygments_lexer": "ipython3",
   "version": "3.10.11"
  },
  "toc": {
   "base_numbering": 1,
   "nav_menu": {},
   "number_sections": false,
   "sideBar": false,
   "skip_h1_title": false,
   "title_cell": "Table of Contents",
   "title_sidebar": "Contents",
   "toc_cell": false,
   "toc_position": {},
   "toc_section_display": true,
   "toc_window_display": false
  },
  "varInspector": {
   "cols": {
    "lenName": 16,
    "lenType": 16,
    "lenVar": 40
   },
   "kernels_config": {
    "python": {
     "delete_cmd_postfix": "",
     "delete_cmd_prefix": "del ",
     "library": "var_list.py",
     "varRefreshCmd": "print(var_dic_list())"
    },
    "r": {
     "delete_cmd_postfix": ") ",
     "delete_cmd_prefix": "rm(",
     "library": "var_list.r",
     "varRefreshCmd": "cat(var_dic_list()) "
    }
   },
   "types_to_exclude": [
    "module",
    "function",
    "builtin_function_or_method",
    "instance",
    "_Feature"
   ],
   "window_display": false
  }
 },
 "nbformat": 4,
 "nbformat_minor": 2
}
