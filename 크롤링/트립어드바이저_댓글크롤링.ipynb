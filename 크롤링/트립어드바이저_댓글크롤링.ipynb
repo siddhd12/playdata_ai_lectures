{
 "cells": [
  {
   "cell_type": "markdown",
   "id": "5564b010",
   "metadata": {},
   "source": [
    "# 트립어드바이저_댓글크롤링\n",
    "- 한 페이지 댓글 가져오기"
   ]
  },
  {
   "cell_type": "code",
   "execution_count": 1,
   "id": "98e5a703",
   "metadata": {},
   "outputs": [],
   "source": [
    "from selenium import webdriver\n",
    "from selenium.webdriver.common.by import By\n",
    "\n",
    "from webdriver_manager.chrome import ChromeDriverManager\n",
    "from selenium.webdriver.chrome.service import Service\n",
    "from selenium.webdriver.support.ui import WebDriverWait\n",
    "from selenium.webdriver.support import expected_conditions as EC\n",
    "\n",
    "from bs4 import BeautifulSoup\n",
    "import time"
   ]
  },
  {
   "cell_type": "code",
   "execution_count": 2,
   "id": "c7779e21",
   "metadata": {},
   "outputs": [
    {
     "name": "stderr",
     "output_type": "stream",
     "text": [
      "[WDM] - Downloading: 100%|████████████████████████████████████████████████████████| 6.80M/6.80M [00:00<00:00, 86.9MB/s]\n"
     ]
    }
   ],
   "source": [
    "url = 'https://www.tripadvisor.co.kr/Restaurant_Review-g294197-d3200324-Reviews-or50-Jungsik-Seoul.html'\n",
    "\n",
    "service = Service(executable_path=ChromeDriverManager().install())\n",
    "browser = webdriver.Chrome(service = service)\n",
    "\n",
    "#time.sleep(10) 스크립트에서 잘 실행되는지 확인하기 위해서 넣어줌( close되어버리면 확인 못 하니깐)\n",
    "browser.implicitly_wait(5) #찾는 element가 생길 때까지 최대 5초 대기\n",
    "browser.maximize_window()\n",
    "\n",
    "#url 페이지로 이동\n",
    "browser.get(url) #화면로딩이 안 끝났는데(시간차 발생) 다음 단계가 실행되면 에러나기 때문에 위에 implicitly wait\n",
    "\n",
    "#리뷰 더보기 버튼 찾기 및 클릭\n",
    "more_btn = browser.find_element(By.CSS_SELECTOR,\"span.taLnk.ulBlueLinks\") #버튼 하나만 클릭해도 다 실행되기때문에 첫번째꺼만 찾아도 된다.\n",
    "more_btn.click()\n",
    "time.sleep(1) #클릭하고 시간 좀 주고 html가져오기\n",
    "html = browser.page_source\n",
    "soup = BeautifulSoup(html, \"lxml\")\n",
    "comment_tag_list = soup.select(\"p.partial_entry\")\n",
    "comment_list = []\n",
    "# print(len(comment_tag_list))\n",
    "for tag in comment_tag_list :\n",
    "    comment_list.append(tag.get_text().strip())\n",
    "browser.close()"
   ]
  },
  {
   "cell_type": "code",
   "execution_count": 3,
   "id": "e7a148c1",
   "metadata": {},
   "outputs": [
    {
     "data": {
      "text/plain": [
       "'들어가는 순간부터 서비스는 나를 편안하게 해주었다. 요리에 대한 부가 설명이 끝까지 명확하고 간결하게 이루어 졌으며, 나의 분자요리에 대한 안좋은 인식을 깨 주었다.'"
      ]
     },
     "execution_count": 3,
     "metadata": {},
     "output_type": "execute_result"
    }
   ],
   "source": [
    "comment_list[0]"
   ]
  },
  {
   "cell_type": "markdown",
   "id": "4cf64ef7",
   "metadata": {},
   "source": [
    "# 모든 댓글들을 조회\n",
    "- 반복\n",
    "    - 현재 페이지 댓글 처리\n",
    "    - 다음 버튼 클릭"
   ]
  },
  {
   "cell_type": "code",
   "execution_count": 7,
   "id": "c136bfe8",
   "metadata": {},
   "outputs": [
    {
     "name": "stdout",
     "output_type": "stream",
     "text": [
      "1\t2\t3\t4\t5\t6\t7\t8\t9\t10\t11\t12\t13\t14\t15\t16\t17\t18\t19\t20\t21\t22\t종료\n"
     ]
    }
   ],
   "source": [
    "url = 'https://www.tripadvisor.co.kr/Restaurant_Review-g294197-d3200324-Reviews-Jungsik-Seoul.html'\n",
    "\n",
    "service = Service(executable_path=ChromeDriverManager().install())\n",
    "browser = webdriver.Chrome(service=service)\n",
    "browser.implicitly_wait(5)  #찾는 element가 생길때 까지 최대 5초를 대기.\n",
    "\n",
    "# time.sleep(10)\n",
    "browser.maximize_window()\n",
    "# url 페이지로 이동\n",
    "browser.get(url)\n",
    "\n",
    "\n",
    "comment_list = []  # 모든 댓글들을 저장할 리스트.\n",
    "i = 0\n",
    "while True:\n",
    "    i += 1\n",
    "    print(i, end=\"\\t\")\n",
    "    \n",
    "    # more_btn = browser.find_element(By.CSS_SELECTOR, \".taLnk.ulBlueLinks\")\n",
    "    more_btn = WebDriverWait(browser, 10).until(EC.presence_of_element_located([By.CSS_SELECTOR, '.taLnk.ulBlueLinks']))\n",
    "    # 명시적으로 브라우져에 넣고 뒤에 조건을 만족하는 element가 나타날때까지 10초동안 기다려라. 이상이 지나면 오류 발생해라.\n",
    "    more_btn.click()\n",
    "\n",
    "    time.sleep(1) #여기 안에 browser.close()가 있을때는 그냥 바로 꺼져버리는 타임을 주어야한다.\n",
    "\n",
    "    html = browser.page_source\n",
    "    soup = BeautifulSoup(html, \"lxml\")\n",
    "    comment_tag_list = soup.select(\"p.partial_entry\")\n",
    "\n",
    "    # print(len(comment_tag_list))\n",
    "    for tag in comment_tag_list:\n",
    "        comment_list.append(tag.get_text().strip())\n",
    "\n",
    "    # 다음 버튼 클릭\n",
    "    #  css: nav.next.ui_button\n",
    "    try:\n",
    "        next_btn = browser.find_element(By.CSS_SELECTOR, \".nav.next.ui_button\")\n",
    "        next_btn.click()\n",
    "        time.sleep(2)\n",
    "    except:\n",
    "        print(\"종료\")\n",
    "        break\n",
    "    \n",
    "browser.close()"
   ]
  },
  {
   "cell_type": "code",
   "execution_count": 8,
   "id": "adbdc251",
   "metadata": {},
   "outputs": [
    {
     "data": {
      "text/plain": [
       "217"
      ]
     },
     "execution_count": 8,
     "metadata": {},
     "output_type": "execute_result"
    }
   ],
   "source": [
    "len(comment_list)"
   ]
  }
 ],
 "metadata": {
  "kernelspec": {
   "display_name": "Python 3 (ipykernel)",
   "language": "python",
   "name": "python3"
  },
  "language_info": {
   "codemirror_mode": {
    "name": "ipython",
    "version": 3
   },
   "file_extension": ".py",
   "mimetype": "text/x-python",
   "name": "python",
   "nbconvert_exporter": "python",
   "pygments_lexer": "ipython3",
   "version": "3.10.11"
  }
 },
 "nbformat": 4,
 "nbformat_minor": 5
}
