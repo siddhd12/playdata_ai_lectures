{
 "cells": [
  {
   "cell_type": "markdown",
   "metadata": {},
   "source": [
    "# 데이터 수집개요\n",
    "\n",
    "## 데이터 선정\n",
    "\n",
    "- 요구사항 분석을 통해 분석목표가 정해졌다면 어떤 데이터를 수집할지 선정해야 한다.\n",
    "    - 수집 대상 데이터는 그 목적과 직접적 관련이 있는 데이터과 간접적 관련이 있는 데이터가 있다.\n",
    "    - 예: 축구 승리에 미치는 영향을 주는 요인들\n",
    "        - **축구와 직접 관련된 데이터(요인)**\n",
    "            - 축구 기록 관련: 골, 득점 기대수치, 볼 점유율, 패스 성공율, 슈팅 시도, 태클 시도 및 성공등\n",
    "            - 선수 관련: 연봉, 나이, 경력, 최근 경기 성적등\n",
    "            - 기타: 홈 원정 여부, 경기 시작 시간, 최근 5경기 결과, 직전 경기 결과 등\n",
    "        - **간접 관련된 데이터(요인)**\n",
    "            - 경기 당일 날씨\n",
    "            - 관중수, 응원단 수\n",
    "            "
   ]
  },
  {
   "cell_type": "markdown",
   "metadata": {},
   "source": [
    "## 데이터 수집 방법 선정\n",
    "- 수집할 데이터를 선정했다면 그 다음은 어떻게 데이터를 수집할지 그 방법을 정해야 한다.\n",
    "- **어디서 구할 것인가?**\n",
    "    - 사내 데이터베이스\n",
    "    - 외부 데이터\n",
    "        - 외부 데이터일 경우 어디서 구할 수 있는지 조사해야한다.\n",
    "            - 공개 데이터셋\n",
    "            - 유료 데이터셋\n",
    "            - 데이터 크롤링(crawling)\n",
    "                - 크롤링시 법적 문제는 없는지 확인해야 한다.\n",
    "                open이라고 써있는건 갖고오고 갖고가지말라는건 법적으로 문제 있음\n",
    "- **수집할 데이터의 양은 충분한지 확인**\n",
    "    - 의미 있는 결과를 얻으려면 다양한 패턴의 데이터를 의미 있는 양만큼 수집해야 한다.\n",
    "    - 수집 데이터가 한쪽에 편향 되지 않아야 한다. \n",
    "        - 스팸메일을 분석하기 위한 데이터를 수집할 때 정상메일이 스팸메일보다 훨씬 만다면?\n",
    "        - 지하철 호선별 평균이용량을 수집하는데 1호선은 7월, 2호선은 2월, 3호선은 12월 같이 다른 기준으로 데이터를 수집한다면?\n",
    "- **수집할 데이터가 신뢰할만 한 데이터인지 확인 필요**\n",
    "    - 4차산업혁명, 인터넷, SNS 발달로 데이터의 양이 급증가하여 데이터 수집이 쉬워짐.\n",
    "    - 쉬어진 만큼 신뢰하기 힘든 데이터들도 급증함. 그래서 **수집한 데이터가 신뢰할 만한 데이터인지 구별하는 것이 중요해졌다.**\n",
    "        - 특히 출처가 불분명한 데이터 (커뮤니티 글, 유튜브 영상, 지식IN 등)일 경우 확인이 필요함."
   ]
  },
  {
   "cell_type": "markdown",
   "metadata": {},
   "source": [
    "## 데이터 수집 주기\n",
    "- 일회성인지 주기적으로 수집해야 하는 데이터인지에 따라 방법과 도구가 달라질 수 있다.\n",
    "- **일회성 데이터**\n",
    "    - 수집한 데이터를 csv, txt등의 파일형식으로 저장하여 활용한다.\n",
    "    - 변하지 않는 데이터셋으로 국가나 도시정보등이 있다.\n",
    "- **주기적으로 수집이 필요한 데이터**\n",
    "    - 자동화 시스템 구축을 하여 데이터베이스에 데이터를 주기적으로 수집, 저장한다.\n",
    "    - 변하는 데이터로 대부분이 여기에 속한다."
   ]
  },
  {
   "cell_type": "markdown",
   "metadata": {},
   "source": [
    "## 데이터 수집에 도움이 되는 사이트\n",
    "\n",
    "- **국가 통계포털**\n",
    "    - https://kosis.kr\n",
    "    - 통계청에서 관리하는 공공데이터 포털로 다양한 카테고리의 국가 통계데이터를 제공한다.\n",
    "\n",
    "- **공공데이터 포털**\n",
    "    - https://www.data.go.kr\n",
    "    - 행정 안전부에서 제공하는 정부 데이터 포털\n",
    "- **Kaggle**\n",
    "    - https://kaggle.com\n",
    "    - 데이터과학 관련 경진대회 플랫폼\n",
    "    - 다양한 데이터들을 제공한다.\n",
    "- **구글 데이터셋 서치**\n",
    "    - https://datasetsearch.research.google.com\n",
    "    - 구글에서 제공하는 데이터셋 검색 사이트\n",
    "    - 키워드를 이용해 다양한 데이터셋을 검색하고 다운로드 받을 수 있다.\n",
    "- **AI Hub**\n",
    "    - https://aihub.or.kr\n",
    "    - 국내외 기관/기업에서 추진한 지능정보산업 인프라 조성사업에서 공개한 AI 학습용 데이터셋들을 제공한다.\n",
    "- **Roboflow Universe**\n",
    "    - https://universe.roboflow.com/\n",
    "    - Roboflow 라는 인공지능 회사에서 운영하는 데이터 저장소 사이트로 컴퓨터비전 관련 데이터셋을 주로 제공한다.\n",
    "- 기타\n",
    "    - **지자체**: 서울시 열린 데이터광장, 경기 데이터 드림\n",
    "    - **금융관련**: 한국거래소, 금융통계정보시스템등\n",
    "    - **영화관련**: 영화진흥위원회\n",
    "    - **대중교통**: 국가교통데이터베이스, 교통카드 빅데이터 통합정보시스템등    \n",
    "    - **관광관련**: 한국 관광 데이터랩등\n",
    "    - **날씨정보**: 기상청 기상자료 개방포털, 네이버 날씨"
   ]
  },
  {
   "cell_type": "markdown",
   "metadata": {},
   "source": [
    "## [크롬개발자 도구](https://developers.google.com/web/tools/chrome-devtools/)"
   ]
  },
  {
   "cell_type": "markdown",
   "metadata": {},
   "source": [
    "# BeautifulSoup\n",
    "- Markup 언어 parsing 라이브러리\n",
    "    - HTML이나 XML 문서 내에서 원하는 정보를 가져오기 위한 파이썬 라이브러리.\n",
    "- https://www.crummy.com/software/BeautifulSoup/\n",
    "- https://www.crummy.com/software/BeautifulSoup/bs4/doc/\n",
    "- 설치\n",
    "    - conda install beautifulsoup4\n",
    "    - pip install beautifulsoup4\n"
   ]
  },
  {
   "cell_type": "code",
   "execution_count": 1,
   "metadata": {},
   "outputs": [],
   "source": [
    "from bs4 import BeautifulSoup\n"
   ]
  },
  {
   "cell_type": "code",
   "execution_count": 2,
   "metadata": {},
   "outputs": [],
   "source": [
    "import lxml"
   ]
  },
  {
   "cell_type": "markdown",
   "metadata": {},
   "source": [
    "## 코딩 패턴\n",
    "1. 조회할 HTML내용을 전달하여 BeautifulSoup 객체 생성 \n",
    "1. BeautifulSoup객체의 메소드들을 이용해 문서내에서 필요한 정보 조회\n",
    "    - 태그이름과 태그 속성으로 조회\n",
    "    - css selector를 이용해 조회\n",
    "    - . 표기법을 이용한 탐색(Tree 구조 순서대로 탐색)"
   ]
  },
  {
   "cell_type": "code",
   "execution_count": null,
   "metadata": {},
   "outputs": [],
   "source": []
  },
  {
   "cell_type": "markdown",
   "metadata": {},
   "source": [
    "## BeautifulSoup 객체 생성\n",
    "- BeautifulSoup(html str [, 파서])\n",
    "    - 매개변수\n",
    "        1. 정보를 조회할 html을 string으로 전달\n",
    "        2. 파서\n",
    "            - html.parser(기본파서)\n",
    "            - lxml : 매우 빠르다. html, xml 파싱 가능(xml 파싱은 lxml만 가능)\n",
    "                - 사용시 install 필요 \n",
    "                - `conda install lxml`\n",
    "                - `pip install lxml`\n",
    "                - install 후 커널 restart 시킨다."
   ]
  },
  {
   "cell_type": "code",
   "execution_count": 33,
   "metadata": {},
   "outputs": [
    {
     "name": "stdout",
     "output_type": "stream",
     "text": [
      "\n",
      "\n",
      "<!-- html태그: 문서의 시작과 끝 표시-->\n",
      "<!-- head: 문서의 설명 작성하는 태그-->\n",
      "<!-- body: 문서의 내용을 작성하는 태그-->\n",
      "<html>\n",
      "    <head>\n",
      "         <title>example.html 테스트</title>\n",
      "<meta charset ='utf-8'>\n",
      "<style> \n",
      "#animal1{color:red}\n",
      "</style>\n",
      "    </head>\n",
      "    <body>\n",
      "        <h1>동물 목록</h1>\n",
      "        <div id=\"animal1\">\n",
      "            <div class=\"animal\">사자</div>\n",
      "            <div class=\"count\">3마리</div>\n",
      "        </div>\n",
      "        <div id=\"animal2\">\n",
      "            <div class=\"animal\">호랑이</div>\n",
      "            <div class=\"count\">10마리</div>\n",
      "        </div>\n",
      "        <div id=\"animal3\">\n",
      "            <div class=\"animal\">곰</div>\n",
      "            <div class=\"count\">5마리</div>\n",
      "        </div>\n",
      "        <div id=\"content\">\n",
      "            우리 동물원에는 <span class=\"animal\">기린</span>도 \n",
      "           <b class=\"count\">30마리</b> 있습니다.\n",
      "        </div>\n",
      "        <h1>다른 동물원</h1>\n",
      "        <!--ul 태그: 순서가 없는 목록, ol: 순서가 있는 목록 -->\n",
      "        <!--li 태그: ul/ol의 하위태그 - 목록을 구성하는 item을 작성-->\n",
      "        <ul>\n",
      "            <li><a href=\"https://grandpark.seoul.go.kr/main/ko.do\">서울대공원</a></li>\n",
      "            <li><a href=\"https://www.everland.com/web/everland/favorite/zootopia/index.html\">에버랜드 동물원</a></li>\n",
      "            <li><a href=\"https://www.coexaqua.com\">코엑스 아쿠아리움</a></li>\n",
      "\t<li><a href=\"https://grandpark.seoul.go.kr/main/ko.do\">가짜 서울대공원</a></li>\n",
      "\n",
      "        </ul>\n",
      "        <a href=\"https://www.google.co.kr\">구글</a>\n",
      "        <a href=\"https://www.w3schools.com\">HTML배우기</a>\n",
      "    </body>\n",
      "</html>\n",
      "\n",
      "\n",
      "\n",
      "#JOURNALIST_CARD_LIST > div.media_journalistcard_item._SUBSCRIBE_ELE > div > div.media_journalistcard_intro > div > div > div.media_journalistcard_summary_info > a.media_journalistcard_summary_text > span > span > em\n",
      "\n",
      "#JOURNALIST_CARD_LIST > div.media_journalistcard_item._SUBSCRIBE_ELE > div > div.media_journalistcard_intro > div > div > div.media_journalistcard_summary_info > a.media_journalistcard_summary_text > span > span > em\t\n"
     ]
    }
   ],
   "source": [
    "# example.html 로 부터 내용을 조회\n",
    "with open(\"example.html\",\"rt\",encoding='utf-8') as fr: \n",
    "    docs = fr.read()\n",
    "    \n",
    "print(docs)"
   ]
  },
  {
   "cell_type": "code",
   "execution_count": 34,
   "metadata": {},
   "outputs": [],
   "source": [
    "soup = BeautifulSoup(docs,\"lxml\") # html  str을 넣어서 객체를 생성\n"
   ]
  },
  {
   "cell_type": "code",
   "execution_count": null,
   "metadata": {},
   "outputs": [],
   "source": []
  },
  {
   "cell_type": "code",
   "execution_count": null,
   "metadata": {},
   "outputs": [],
   "source": []
  },
  {
   "cell_type": "code",
   "execution_count": null,
   "metadata": {},
   "outputs": [],
   "source": []
  },
  {
   "cell_type": "markdown",
   "metadata": {},
   "source": [
    "## 문서내에서 원하는 정보 검색\n",
    "\n",
    "### Tag 객체\n",
    "- 하나의 태그(element)에 대한 정보를 다루는 객체.\n",
    "    - BeautifulSoup 조회 메소드들의 **조회결과의 반환타입.**\n",
    "    - 조회 함수들이 찾은 Element가 하나일 경우 **Tag 객체를, 여러개일 경우 Tag 객체들을 담은 List(ResultSet)** 를 반환한다.\n",
    "    - Tag 객체는 찾은 정보를 제공하는 메소드와 Attribute를 가지고 있다. 또 찾은 Tag가 하위 element를 가질 경우 찾을 수 있는 조회 메소드를 제공한다.\n",
    "- 주요 속성/메소드\n",
    "    - **태그의 속성값 조회**\n",
    "        - tag객체.get('속성명') 없으면 None값을 반환\n",
    "        - tag객체\\['속성명'\\]\n",
    "        - ex) tag.get('href') 또는 tag\\['href'\\]\n",
    "    - **태그내 text값 조회**\n",
    "        - tag객체.get_text() 없으면 None값을 반환\n",
    "        - tag객체.text\n",
    "        - ex) tag.get_text() 또는 tag.text\n",
    "    - **contents 속성**\n",
    "        - 조회한 태그의 모든 자식 요소들을 리스트로 반환\n",
    "        - ex) child_list = tag.contents"
   ]
  },
  {
   "cell_type": "markdown",
   "metadata": {},
   "source": [
    "## 조회 함수\n",
    "- **태그의 이름으로 조회**\n",
    "    - find_all()\n",
    "    - find()\n",
    "- **css selector를 이용해 조회**\n",
    "    - select(), select_one()\n",
    "- **`.` 표기법(dot notation)**\n",
    "    - dom tree 구조의 계층 순서대로 조회\n",
    "    - 위의 두방식으로 찾은 tag를 기준으로 그 주위의 element 들을 찾을 때 사용"
   ]
  },
  {
   "cell_type": "code",
   "execution_count": 35,
   "metadata": {},
   "outputs": [],
   "source": [
    "import re"
   ]
  },
  {
   "cell_type": "code",
   "execution_count": 49,
   "metadata": {},
   "outputs": [
    {
     "name": "stdout",
     "output_type": "stream",
     "text": [
      "<class 'bs4.element.ResultSet'>\n",
      "<div class=\"animal\">사자</div>\n",
      "사자\n",
      "호랑이\n",
      "곰\n"
     ]
    }
   ],
   "source": [
    "# 복습용 \n",
    "# re_text= soup.find_all(\"style\") # style로 문서 다 찾아서 객체를 re_text 변수에 넣어줘\n",
    "# print(type(re_text)) #  type을 출력해줘 \n",
    "# print(re_text) #  \n",
    "\n",
    "# div2= soup.find(\"div\") #하나만 갖고오기\n",
    "# print(div2)\n",
    "\n",
    "# div3=soup.find(\"div\",attrs={\"id\":\"animal2\",\"id\":\"animal3\"}) # div 태그에서 속성 id가 animal2인거 갖고와,\n",
    "# 위에 처럼 하면 맨뒤에것만 갖고옴\n",
    "# print(type(div3))\n",
    "# print(div3)\n",
    "div2 = soup.find_all('div',attrs={\"class\":\"animal\"})\n",
    "print(type(div2))\n",
    "\n",
    "print(div2[0])\n",
    "for i in div2:\n",
    "    print(i.text) # 태그사이에있는 텍스트 들 전부 갖고오기 "
   ]
  },
  {
   "cell_type": "code",
   "execution_count": 41,
   "metadata": {},
   "outputs": [
    {
     "name": "stdout",
     "output_type": "stream",
     "text": [
      "<class 'bs4.element.ResultSet'>\n",
      "ㅡㅡㅡㅡㅡㅡㅡㅡㅡㅡ\n",
      "[<div class=\"animal\">사자</div>, <div class=\"animal\">호랑이</div>, <div class=\"animal\">곰</div>]\n",
      "ㅡㅡㅡㅡㅡㅡㅡㅡㅡㅡ\n",
      "<class 'bs4.element.Tag'> [<div class=\"animal\">사자</div>, <div class=\"animal\">호랑이</div>, <div class=\"animal\">곰</div>]\n"
     ]
    }
   ],
   "source": [
    "# result = soup.find_all(\"a\") # 문서내에서 <a>를 다 찾아라\n",
    "# result = soup.find_all([\"a\",\"span\"])\n",
    "result = soup.find_all(\"div\",attrs={\"class\":\"animal\"})    #    ttrs={\"class\":\"animal\"})\n",
    "# result = soup.find_all(attrs={\"class\":\"animal\"})\n",
    "# result = soup.find_all(\"a\",{\"href\":\"https://grandpark.seoul.go.kr/main/ko.do\"})\n",
    "\n",
    "# result = soup.find_all(\"a\",{\"href\":re.compile(r\".com$\")})\n",
    "# result = soup.find_all(\"a\",{\"href\":re.compile(r\"com\")})\n",
    "print(type(result))\n",
    "print(\"ㅡ\"*10)\n",
    "print(result)\n",
    "print(\"ㅡ\"*10)\n",
    "print(type(result[0]),result)\n",
    "\n"
   ]
  },
  {
   "cell_type": "code",
   "execution_count": 58,
   "metadata": {},
   "outputs": [
    {
     "name": "stdout",
     "output_type": "stream",
     "text": [
      "<div id=\"animal1\">\n",
      "<div class=\"animal\">사자</div>\n",
      "<div class=\"count\">3마리</div>\n",
      "</div>\n",
      "animal1\n"
     ]
    }
   ],
   "source": [
    "resu =soup.find(\"div\")\n",
    "print(resu)\n",
    "print(resu.get(\"id\"))\n",
    "# find_all() 메서드는 HTML 문서에서 특정 태그를 찾아서 \n",
    "# 그 결과를 리스트 형태로 반환합니다. find_all()이 반환하는 값은\n",
    "# 여러 개의 요소를 포함할 수 있기 때문에, \n",
    "# get() 메서드를 사용할 수 없습니다."
   ]
  },
  {
   "cell_type": "code",
   "execution_count": 56,
   "metadata": {},
   "outputs": [
    {
     "name": "stdout",
     "output_type": "stream",
     "text": [
      "<class 'bs4.element.Tag'>\n",
      "animal1 animal1\n"
     ]
    }
   ],
   "source": [
    "res1= soup.find(\"div\",attrs={\"id\":\"animal1\"})\n",
    "print(type(res1))\n",
    "# print(res1)\n",
    "# print(res1)\n",
    "#tag의 속성\n",
    "print(res1.get(\"id\"), res1[\"id\"])\n",
    "# # 하위 Element 조회\n",
    "# t = res1.find(attrs= {\"calss\": \"animal\"})\n",
    "# # content(텍스트)를 조회\n",
    "# t.text, t.get_text()\n",
    "# # result2.div  # vyrlqjq"
   ]
  },
  {
   "cell_type": "code",
   "execution_count": 79,
   "metadata": {},
   "outputs": [
    {
     "name": "stdout",
     "output_type": "stream",
     "text": [
      "<class 'NoneType'>\n"
     ]
    }
   ],
   "source": [
    "print(type(res))"
   ]
  },
  {
   "cell_type": "code",
   "execution_count": 81,
   "metadata": {},
   "outputs": [
    {
     "name": "stdout",
     "output_type": "stream",
     "text": [
      "<class 'NoneType'>\n",
      "None\n"
     ]
    },
    {
     "ename": "AttributeError",
     "evalue": "'NoneType' object has no attribute 'get'",
     "output_type": "error",
     "traceback": [
      "\u001b[1;31m---------------------------------------------------------------------------\u001b[0m",
      "\u001b[1;31mAttributeError\u001b[0m                            Traceback (most recent call last)",
      "Cell \u001b[1;32mIn[81], line 6\u001b[0m\n\u001b[0;32m      4\u001b[0m \u001b[38;5;28mprint\u001b[39m(result2)\n\u001b[0;32m      5\u001b[0m \u001b[38;5;66;03m#tag의 속성\u001b[39;00m\n\u001b[1;32m----> 6\u001b[0m \u001b[38;5;28mprint\u001b[39m(\u001b[43mresult2\u001b[49m\u001b[38;5;241;43m.\u001b[39;49m\u001b[43mget\u001b[49m(\u001b[38;5;124m\"\u001b[39m\u001b[38;5;124mid\u001b[39m\u001b[38;5;124m\"\u001b[39m), result2[\u001b[38;5;124m\"\u001b[39m\u001b[38;5;124mid\u001b[39m\u001b[38;5;124m\"\u001b[39m])\n",
      "\u001b[1;31mAttributeError\u001b[0m: 'NoneType' object has no attribute 'get'"
     ]
    }
   ],
   "source": [
    "result2 = soup.find(\"div\",attrs={\"id\":\"animai1\"})  # find(): tag\n",
    "print(type(result2))\n",
    "\n",
    "print(result2)\n",
    "#tag의 속성\n",
    "print(result2.get(\"id\"), result2[\"id\"])\n",
    "# 하위 Element 조회\n",
    "t = result2.find(attrs= {\"calss\": \"animal\"})\n",
    "# content(텍스트)를 조회\n",
    "t.text, t.get_text()\n",
    "# result2.div  # vyrlqjq"
   ]
  },
  {
   "cell_type": "code",
   "execution_count": null,
   "metadata": {},
   "outputs": [],
   "source": [
    "result2.contents\n",
    "for t in result2.contents:\n",
    "    if isinstance(t, bs4.element.Tag):\n",
    "        print(type(t))"
   ]
  },
  {
   "cell_type": "raw",
   "metadata": {},
   "source": [
    "result2 = soup.find(\"div\", attrs={\"id\":\"animal1\"})  #find(): Tag\n",
    "\n",
    "import re\n",
    "result = soup.find_all(\"a\")  # 문서내에서 <a> 를 다 찾아라.\n",
    "result = soup.find_all([\"a\", \"span\"]) # 문서내에서 모든 <a>와 <span> 찾아라.\n",
    "result = soup.find_all(\"div\", attrs={\"class\":\"animal\"}) #<div class=\"animal\">\n",
    "result = soup.find_all(attrs={\"class\":\"animal\"}) # 모든 태그들중 class=\"animal\"\n",
    "result = soup.find_all(\"a\", {\"href\":\"https://grandpark.seoul.go.kr/main/ko.do\"})\n",
    "result = soup.find_all(\"a\", {\"href\":re.compile(r\".com$\")})\n",
    "result = soup.find_all(attrs={\"href\":re.compile(r\"com\")})\n",
    "\n",
    "\n",
    "print(type(result))\n",
    "print(\"-\"*50)\n",
    "print(result)\n",
    "print(\"-\"*50)\n",
    "print(type(result[0]), result[0])\n",
    "\n",
    "print(type(result2))\n",
    "print(result2)\n",
    "#Tag의 속성\n",
    "print(result2.get(\"id\"), result2[\"id\"])\n",
    "# 하위 Element 조회\n",
    "t = result2.find(attrs={\"class\":\"animal\"})\n",
    "# content(텍스트)를 조회\n",
    "t.text, t.get_text()\n",
    "# result2.div  # . 표기법.\n",
    "\n",
    "result2.contents\n",
    "for t in result2.contents:\n",
    "    if isinstance(t, bs4.element.Tag):\n",
    "        print(type(t))"
   ]
  },
  {
   "cell_type": "code",
   "execution_count": 67,
   "metadata": {},
   "outputs": [
    {
     "name": "stdout",
     "output_type": "stream",
     "text": [
      "<class 'NoneType'> None\n"
     ]
    }
   ],
   "source": []
  },
  {
   "cell_type": "code",
   "execution_count": null,
   "metadata": {},
   "outputs": [],
   "source": []
  },
  {
   "cell_type": "code",
   "execution_count": null,
   "metadata": {},
   "outputs": [],
   "source": []
  },
  {
   "cell_type": "markdown",
   "metadata": {},
   "source": [
    "### 태그의 이름으로 조회\n",
    "- **find_all**(name=태그명, attrs={속성명:속성값, ..})\n",
    "   - 이름의 모든 태그 element들을 리스트에 담아 반환.\n",
    "   - 여러 이름의 태그를 조회할 경우 List에 태그명들을 묶어서 전달한다.\n",
    "   - 태그의 attribute 조건으로만 조회할 경우 name을 생략한다. \n",
    "- **find**(name=태그명, attrs={속성명:속성값})\n",
    "    - 이름의 태그중 첫번째 태그 element를 반환."
   ]
  },
  {
   "cell_type": "code",
   "execution_count": 11,
   "metadata": {},
   "outputs": [
    {
     "name": "stdout",
     "output_type": "stream",
     "text": [
      "개수:  6\n"
     ]
    },
    {
     "data": {
      "text/plain": [
       "[<span class=\"animal\">기린</span>,\n",
       " <a href=\"https://grandpark.seoul.go.kr/main/ko.do\">서울대공원</a>,\n",
       " <a href=\"https://www.everland.com/web/everland/favorite/zootopia/index.html\">에버랜드 동물원</a>,\n",
       " <a href=\"https://www.coexaqua.com\">코엑스 아쿠아리움</a>,\n",
       " <a href=\"https://www.google.co.kr\">구글</a>,\n",
       " <a href=\"https://www.w3schools.com\">HTML배우기</a>]"
      ]
     },
     "execution_count": 11,
     "metadata": {},
     "output_type": "execute_result"
    }
   ],
   "source": [
    "soup\n",
    "# 태그명으로 조회\n",
    "result = soup.select(\"a\") # a태그들 \n",
    "result = soup.select(\"span,a\") # 여러 태그들을 조회(span, a)\n",
    "print(\"개수: \", len(result))\n",
    "result"
   ]
  },
  {
   "cell_type": "code",
   "execution_count": null,
   "metadata": {},
   "outputs": [],
   "source": []
  },
  {
   "cell_type": "code",
   "execution_count": 18,
   "metadata": {},
   "outputs": [
    {
     "name": "stdout",
     "output_type": "stream",
     "text": [
      "[<div class=\"animal\">호랑이</div>]\n"
     ]
    }
   ],
   "source": []
  },
  {
   "cell_type": "code",
   "execution_count": 23,
   "metadata": {},
   "outputs": [
    {
     "name": "stdout",
     "output_type": "stream",
     "text": [
      "[<a href=\"https://grandpark.seoul.go.kr/main/ko.do\">서울대공원</a>, <a href=\"https://www.everland.com/web/everland/favorite/zootopia/index.html\">에버랜드 동물원</a>, <a href=\"https://www.coexaqua.com\">코엑스 아쿠아리움</a>]\n"
     ]
    }
   ],
   "source": []
  },
  {
   "cell_type": "code",
   "execution_count": 24,
   "metadata": {},
   "outputs": [
    {
     "name": "stdout",
     "output_type": "stream",
     "text": [
      "서울대공원 서울대공원 https://grandpark.seoul.go.kr/main/ko.do https://grandpark.seoul.go.kr/main/ko.do\n",
      "에버랜드 동물원 에버랜드 동물원 https://www.everland.com/web/everland/favorite/zootopia/index.html https://www.everland.com/web/everland/favorite/zootopia/index.html\n",
      "코엑스 아쿠아리움 코엑스 아쿠아리움 https://www.coexaqua.com https://www.coexaqua.com\n"
     ]
    }
   ],
   "source": []
  },
  {
   "cell_type": "code",
   "execution_count": 27,
   "metadata": {},
   "outputs": [
    {
     "data": {
      "text/plain": [
       "(4,\n",
       " [<div id=\"animal1\">\n",
       "  <div class=\"animal\">사자</div>\n",
       "  <div class=\"count\">3마리</div>\n",
       "  </div>,\n",
       "  <div class=\"count\">3마리</div>,\n",
       "  <div class=\"count\">10마리</div>,\n",
       "  <div class=\"count\">5마리</div>])"
      ]
     },
     "execution_count": 27,
     "metadata": {},
     "output_type": "execute_result"
    }
   ],
   "source": [
    "result =  soup.select(\"div:nth-child(2)\") # div 중에서 2번째 자식 태그인 것들을 조회  depth가 아니라 정말로 부모의 몇번째 자식인지를 거르는것\n",
    "\n",
    "len(result), result"
   ]
  },
  {
   "cell_type": "markdown",
   "metadata": {},
   "source": [
    "### CSS Selector를 이용해 조회\n",
    "- **select(selector='css셀렉터')**\n",
    "    - css 셀렉터와 일치하는 tag들을 반환한다.\n",
    "- **select_one(selector='css셀렉터')**\n",
    "    - css 셀렉터와 일치하는 tag를 반환한다.\n",
    "    - 일치하는 것이 여러개일 경우 첫번째 것 하나만 반환한다."
   ]
  },
  {
   "cell_type": "code",
   "execution_count": 73,
   "metadata": {},
   "outputs": [
    {
     "name": "stdout",
     "output_type": "stream",
     "text": [
      "[('사자', '3마리'), ('호랑이', '10마리'), ('곰', '5마리')]\n"
     ]
    }
   ],
   "source": [
    "resu_animal =soup.select(\"div.animal\")\n",
    "# print(resu_animal)\n",
    "\n",
    "resu = soup.select(\"div.count\")\n",
    "# print(resu)\n",
    "\n",
    "c= []\n",
    "for x,y in zip(resu_animal,resu):\n",
    "    c.append((x.text,y.text))\n",
    "print(c)"
   ]
  },
  {
   "cell_type": "code",
   "execution_count": null,
   "metadata": {},
   "outputs": [],
   "source": []
  },
  {
   "cell_type": "code",
   "execution_count": null,
   "metadata": {},
   "outputs": [],
   "source": []
  },
  {
   "cell_type": "code",
   "execution_count": 61,
   "metadata": {},
   "outputs": [
    {
     "name": "stdout",
     "output_type": "stream",
     "text": [
      "<class 'bs4.element.ResultSet'> [<div class=\"count\">3마리</div>, <div class=\"count\">10마리</div>, <div class=\"count\">5마리</div>, <b class=\"count\">30마리</b>]\n"
     ]
    }
   ],
   "source": [
    "### class 속성으로 조회 => .클래스속성값\n",
    "#     태그명.클래스속성값 \n",
    "result = soup.select(\".count\") # 모든 태그들 중에 class =\"count\" 인것들을 갖고 변수 result에 넣는다 \n",
    "print(type(result),result)\n",
    "result = soup.select(\"b.count\")\n",
    "\n",
    "# id 속성으로 조회 => id 속성값\n",
    "    # 태그명 #id속성값\n",
    "# result = soup.select(\"#animal1\")\n",
    "result = soup.select_one(\"#animal1\")  # 반환 타입:tag\n",
    "\n",
    "# print(\"개수: \", len(result))\n",
    "# result\n"
   ]
  },
  {
   "cell_type": "code",
   "execution_count": null,
   "metadata": {},
   "outputs": [],
   "source": [
    "# 자식 태그(노드) 표현\n",
    "# parent> child --> 찾는 대상: child\n",
    "result = soup.select(\"#animal2 > .animal\")\n",
    "print(result)"
   ]
  },
  {
   "cell_type": "code",
   "execution_count": 74,
   "metadata": {},
   "outputs": [
    {
     "name": "stdout",
     "output_type": "stream",
     "text": [
      "[<a href=\"https://grandpark.seoul.go.kr/main/ko.do\">서울대공원</a>, <a href=\"https://www.everland.com/web/everland/favorite/zootopia/index.html\">에버랜드 동물원</a>, <a href=\"https://www.coexaqua.com\">코엑스 아쿠아리움</a>, <a href=\"https://grandpark.seoul.go.kr/main/ko.do\">가짜 서울대공원</a>]\n"
     ]
    }
   ],
   "source": [
    "result = soup.select(\"li> a\")\n",
    "# result = soup.select(\"ul> a\") # ul은 안된다  ul(조상) -> li -> a(자손) 되게 하려면 > 이게 아닌 공백으로 \n",
    "# 조상 자손<<형태로 자손태그를 찾는다\n",
    "result = soup.select(\"ul a\")\n",
    "print(result)"
   ]
  },
  {
   "cell_type": "code",
   "execution_count": 75,
   "metadata": {},
   "outputs": [
    {
     "name": "stdout",
     "output_type": "stream",
     "text": [
      "서울대공원 서울대공원 https://grandpark.seoul.go.kr/main/ko.do https://grandpark.seoul.go.kr/main/ko.do\n",
      "에버랜드 동물원 에버랜드 동물원 https://www.everland.com/web/everland/favorite/zootopia/index.html https://www.everland.com/web/everland/favorite/zootopia/index.html\n",
      "코엑스 아쿠아리움 코엑스 아쿠아리움 https://www.coexaqua.com https://www.coexaqua.com\n",
      "가짜 서울대공원 가짜 서울대공원 https://grandpark.seoul.go.kr/main/ko.do https://grandpark.seoul.go.kr/main/ko.do\n"
     ]
    }
   ],
   "source": [
    "for tag in result:\n",
    "#     rint(type(tag))\n",
    "    print(tag.text, tag.get_text(), tag['href'], tag.get('href'))"
   ]
  },
  {
   "cell_type": "code",
   "execution_count": 76,
   "metadata": {},
   "outputs": [
    {
     "data": {
      "text/plain": [
       "(4,\n",
       " [<div id=\"animal1\">\n",
       "  <div class=\"animal\">사자</div>\n",
       "  <div class=\"count\">3마리</div>\n",
       "  </div>,\n",
       "  <div class=\"count\">3마리</div>,\n",
       "  <div class=\"count\">10마리</div>,\n",
       "  <div class=\"count\">5마리</div>])"
      ]
     },
     "execution_count": 76,
     "metadata": {},
     "output_type": "execute_result"
    }
   ],
   "source": [
    "result =  soup.select(\"div:nth-child(2)\") # div 중에서 2번째 자식 태그인 것들을 조회  depth가 아니라 정말로 부모의 몇번째 자식인지를 거르는것\n",
    "\n",
    "len(result), result"
   ]
  }
 ],
 "metadata": {
  "kernelspec": {
   "display_name": "Python 3 (ipykernel)",
   "language": "python",
   "name": "python3"
  },
  "language_info": {
   "codemirror_mode": {
    "name": "ipython",
    "version": 3
   },
   "file_extension": ".py",
   "mimetype": "text/x-python",
   "name": "python",
   "nbconvert_exporter": "python",
   "pygments_lexer": "ipython3",
   "version": "3.10.11"
  },
  "toc": {
   "base_numbering": 1,
   "nav_menu": {},
   "number_sections": false,
   "sideBar": false,
   "skip_h1_title": false,
   "title_cell": "Table of Contents",
   "title_sidebar": "Contents",
   "toc_cell": false,
   "toc_position": {},
   "toc_section_display": true,
   "toc_window_display": false
  },
  "varInspector": {
   "cols": {
    "lenName": 16,
    "lenType": 16,
    "lenVar": 40
   },
   "kernels_config": {
    "python": {
     "delete_cmd_postfix": "",
     "delete_cmd_prefix": "del ",
     "library": "var_list.py",
     "varRefreshCmd": "print(var_dic_list())"
    },
    "r": {
     "delete_cmd_postfix": ") ",
     "delete_cmd_prefix": "rm(",
     "library": "var_list.r",
     "varRefreshCmd": "cat(var_dic_list()) "
    }
   },
   "types_to_exclude": [
    "module",
    "function",
    "builtin_function_or_method",
    "instance",
    "_Feature"
   ],
   "window_display": false
  }
 },
 "nbformat": 4,
 "nbformat_minor": 2
}
