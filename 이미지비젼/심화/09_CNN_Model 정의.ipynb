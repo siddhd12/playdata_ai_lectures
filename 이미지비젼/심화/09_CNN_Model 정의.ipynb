{
 "cells": [
  {
   "cell_type": "markdown",
   "metadata": {
    "id": "n1-HdRR266M6"
   },
   "source": [
    "# Convolutional Neural Network 모델 정의"
   ]
  },
  {
   "cell_type": "code",
   "execution_count": null,
   "metadata": {
    "id": "NwdAPDRTdWzr",
    "outputId": "1d52fe63-946b-4de0-c2de-3ca652e5dcc6"
   },
   "outputs": [
    {
     "name": "stdout",
     "output_type": "stream",
     "text": [
      "cpu\n"
     ]
    }
   ],
   "source": [
    "import torch\n",
    "import torch.nn as nn\n",
    "\n",
    "device = \"cuda\" if torch.cuda.is_available() else \"cpu\"#\"mps\" if torch.backends.mps.is_available() else \"cpu\"\n",
    "print(device)"
   ]
  },
  {
   "cell_type": "code",
   "execution_count": null,
   "metadata": {
    "id": "P1dTfJ9adWzt",
    "outputId": "d0d3fceb-48d6-427f-d25a-f50197f3153a"
   },
   "outputs": [
    {
     "name": "stdout",
     "output_type": "stream",
     "text": [
      "Conv2d(4, 2, kernel_size=(3, 3), stride=(1, 1))\n"
     ]
    }
   ],
   "source": [
    "layer = nn.Conv2d(in_channels=4, out_channels=2, kernel_size=3)#, stride=1, padding=0)\n",
    "print(layer)"
   ]
  },
  {
   "cell_type": "code",
   "execution_count": null,
   "metadata": {
    "id": "ljacX6qrdWzt",
    "outputId": "101f8978-d5a8-4cb5-d8a3-6ad93edac973"
   },
   "outputs": [
    {
     "data": {
      "text/plain": [
       "torch.Size([2, 4, 3, 3])"
      ]
     },
     "execution_count": 4,
     "metadata": {},
     "output_type": "execute_result"
    }
   ],
   "source": [
    "# layer객체.weight,  layer객체.bias  => layer의 weight, bias를 조회\n",
    "layer.weight.shape\n",
    "# [2, 4, 3, 3] -> [out_channels=>필터의개수, in_channels, height, width]"
   ]
  },
  {
   "cell_type": "code",
   "execution_count": null,
   "metadata": {
    "id": "Ij_Znm7fdWzu",
    "outputId": "c45c1432-c05a-415a-af61-95a04cfad4fa"
   },
   "outputs": [
    {
     "data": {
      "text/plain": [
       "torch.Size([2])"
      ]
     },
     "execution_count": 6,
     "metadata": {},
     "output_type": "execute_result"
    }
   ],
   "source": [
    "layer.bias.shape"
   ]
  },
  {
   "cell_type": "code",
   "execution_count": null,
   "metadata": {
    "id": "sEM5Ri-edWzu"
   },
   "outputs": [],
   "source": [
    "input_data = torch.ones(1, 4, 3, 3) #데이터개수: 1, ch:4, h:3, w:3,"
   ]
  },
  {
   "cell_type": "code",
   "execution_count": null,
   "metadata": {
    "id": "2bwCWSFFdWzu",
    "outputId": "683c8952-ecf1-4bb5-cc0f-3f669285b692"
   },
   "outputs": [
    {
     "data": {
      "text/plain": [
       "tensor(0.8283, grad_fn=<AddBackward0>)"
      ]
     },
     "execution_count": 10,
     "metadata": {},
     "output_type": "execute_result"
    }
   ],
   "source": [
    "# 채널별로 연산\n",
    "ch1 = torch.sum(input_data[0, 0] * layer.weight[0, 0])\n",
    "ch2 = torch.sum(input_data[0, 1] * layer.weight[0, 1])\n",
    "ch3 = torch.sum(input_data[0, 2] * layer.weight[0, 2])\n",
    "ch4 = torch.sum(input_data[0, 3] * layer.weight[0, 3])\n",
    "# 채널별 합계 + bias\n",
    "result = ch1 + ch2 + ch3 + ch4 + layer.bias[0].item()\n",
    "result"
   ]
  },
  {
   "cell_type": "code",
   "execution_count": null,
   "metadata": {
    "id": "kt4UAAuedWzv",
    "outputId": "9bf5720e-e494-49f9-a1c5-a9d5f48b19e2"
   },
   "outputs": [
    {
     "data": {
      "text/plain": [
       "tensor(0.1092, grad_fn=<AddBackward0>)"
      ]
     },
     "execution_count": 13,
     "metadata": {},
     "output_type": "execute_result"
    }
   ],
   "source": [
    "ch1 = torch.sum(input_data[0, 0] * layer.weight[1, 0])\n",
    "ch2 = torch.sum(input_data[0, 1] * layer.weight[1, 1])\n",
    "ch3 = torch.sum(input_data[0, 2] * layer.weight[1, 2])\n",
    "ch4 = torch.sum(input_data[0, 3] * layer.weight[1, 3])\n",
    "# 채널별 합계 + bias\n",
    "result2 = ch1 + ch2 + ch3 + ch4 + layer.bias[1].item()\n",
    "result2"
   ]
  },
  {
   "cell_type": "code",
   "execution_count": null,
   "metadata": {
    "id": "FQ-OvxisdWzw",
    "outputId": "3f615d27-8701-4eab-9b55-17b6ae4a134f"
   },
   "outputs": [
    {
     "data": {
      "text/plain": [
       "tensor([[[[0.8283]],\n",
       "\n",
       "         [[0.1092]]]], grad_fn=<ConvolutionBackward0>)"
      ]
     },
     "execution_count": 14,
     "metadata": {},
     "output_type": "execute_result"
    }
   ],
   "source": [
    "result3 = layer(input_data)\n",
    "result3"
   ]
  },
  {
   "cell_type": "markdown",
   "metadata": {
    "id": "i5TmPXmNdWzw"
   },
   "source": [
    "# MNIST"
   ]
  },
  {
   "cell_type": "code",
   "execution_count": 1,
   "metadata": {
    "colab": {
     "base_uri": "https://localhost:8080/"
    },
    "executionInfo": {
     "elapsed": 5774,
     "status": "ok",
     "timestamp": 1686638260377,
     "user": {
      "displayName": "Sunghwan KIM",
      "userId": "06010856989212311727"
     },
     "user_tz": -540
    },
    "id": "a-VExdNNeLJr",
    "outputId": "c8b44e90-6766-49d3-b884-662756360b64"
   },
   "outputs": [
    {
     "name": "stdout",
     "output_type": "stream",
     "text": [
      "Looking in indexes: https://pypi.org/simple, https://us-python.pkg.dev/colab-wheels/public/simple/\n",
      "Collecting torchinfo\n",
      "  Downloading torchinfo-1.8.0-py3-none-any.whl (23 kB)\n",
      "Installing collected packages: torchinfo\n",
      "Successfully installed torchinfo-1.8.0\n"
     ]
    }
   ],
   "source": [
    "!pip install torchinfo"
   ]
  },
  {
   "cell_type": "code",
   "execution_count": 2,
   "metadata": {
    "colab": {
     "base_uri": "https://localhost:8080/"
    },
    "executionInfo": {
     "elapsed": 4785,
     "status": "ok",
     "timestamp": 1686638278098,
     "user": {
      "displayName": "Sunghwan KIM",
      "userId": "06010856989212311727"
     },
     "user_tz": -540
    },
    "id": "M_-omnUxdWzw",
    "outputId": "879ad676-e950-4576-9074-049d370e2d3a"
   },
   "outputs": [
    {
     "name": "stdout",
     "output_type": "stream",
     "text": [
      "cuda\n"
     ]
    }
   ],
   "source": [
    "import torch\n",
    "from torch import nn\n",
    "# import torch.nn.functional as F\n",
    "from torch.utils.data import DataLoader\n",
    "from torchvision import models, datasets, transforms\n",
    "from torchinfo import summary\n",
    "from module.data import load_mnist_dataset, load_fashion_mnist_dataset\n",
    "from module.train import fit\n",
    "\n",
    "import matplotlib.pyplot as plt\n",
    "import numpy as np\n",
    "\n",
    "device = 'cuda' if torch.cuda.is_available() else 'mps' if torch.backends.mps.is_available() else 'cpu'\n",
    "print(device)"
   ]
  },
  {
   "cell_type": "markdown",
   "metadata": {
    "id": "P6KpuF-qdWzx"
   },
   "source": [
    "## Data 준비"
   ]
  },
  {
   "cell_type": "code",
   "execution_count": 9,
   "metadata": {
    "executionInfo": {
     "elapsed": 481,
     "status": "ok",
     "timestamp": 1686638495701,
     "user": {
      "displayName": "Sunghwan KIM",
      "userId": "06010856989212311727"
     },
     "user_tz": -540
    },
    "id": "UQm2-S5KdWzx"
   },
   "outputs": [],
   "source": [
    "DATASET_ROOT_PATH = 'datasets'\n",
    "MODEL_SAVE_PATH = 'models'\n",
    "\n",
    "import os\n",
    "os.makedirs(DATASET_ROOT_PATH, exist_ok=True)\n",
    "os.makedirs(MODEL_SAVE_PATH, exist_ok=True)\n",
    "\n",
    "N_EPOCH = 20\n",
    "BATCH_SIZE = 128\n",
    "LR = 0.001"
   ]
  },
  {
   "cell_type": "code",
   "execution_count": 10,
   "metadata": {
    "executionInfo": {
     "elapsed": 2,
     "status": "ok",
     "timestamp": 1686638499161,
     "user": {
      "displayName": "Sunghwan KIM",
      "userId": "06010856989212311727"
     },
     "user_tz": -540
    },
    "id": "Zu1zF9FxdWzx"
   },
   "outputs": [],
   "source": [
    "train_loader = load_fashion_mnist_dataset(DATASET_ROOT_PATH, BATCH_SIZE, True)\n",
    "test_loader = load_fashion_mnist_dataset(DATASET_ROOT_PATH, BATCH_SIZE, False)"
   ]
  },
  {
   "cell_type": "code",
   "execution_count": 5,
   "metadata": {
    "colab": {
     "base_uri": "https://localhost:8080/"
    },
    "collapsed": true,
    "executionInfo": {
     "elapsed": 495,
     "status": "ok",
     "timestamp": 1686638434056,
     "user": {
      "displayName": "Sunghwan KIM",
      "userId": "06010856989212311727"
     },
     "user_tz": -540
    },
    "id": "ibwOj3FRdWzx",
    "outputId": "ac036aa7-d849-4140-ce59-7c8ef3fc3a01"
   },
   "outputs": [
    {
     "data": {
      "text/plain": [
       "Dataset FashionMNIST\n",
       "    Number of datapoints: 60000\n",
       "    Root location: datasets\n",
       "    Split: Train\n",
       "    StandardTransform\n",
       "Transform: Compose(\n",
       "               ToTensor()\n",
       "           )"
      ]
     },
     "execution_count": 5,
     "metadata": {},
     "output_type": "execute_result"
    }
   ],
   "source": [
    "train_loader.dataset"
   ]
  },
  {
   "cell_type": "code",
   "execution_count": 6,
   "metadata": {
    "colab": {
     "base_uri": "https://localhost:8080/"
    },
    "collapsed": true,
    "executionInfo": {
     "elapsed": 2,
     "status": "ok",
     "timestamp": 1686638436113,
     "user": {
      "displayName": "Sunghwan KIM",
      "userId": "06010856989212311727"
     },
     "user_tz": -540
    },
    "id": "mX7TbMX4dWzx",
    "outputId": "9b2be1fa-adec-4f13-da43-b998f026a017"
   },
   "outputs": [
    {
     "data": {
      "text/plain": [
       "Dataset FashionMNIST\n",
       "    Number of datapoints: 10000\n",
       "    Root location: datasets\n",
       "    Split: Test\n",
       "    StandardTransform\n",
       "Transform: Compose(\n",
       "               ToTensor()\n",
       "           )"
      ]
     },
     "execution_count": 6,
     "metadata": {},
     "output_type": "execute_result"
    }
   ],
   "source": [
    "test_loader.dataset"
   ]
  },
  {
   "cell_type": "markdown",
   "metadata": {
    "id": "NbE0G1R_dWzx"
   },
   "source": [
    "## CNN 모델 정의"
   ]
  },
  {
   "cell_type": "code",
   "execution_count": 11,
   "metadata": {
    "executionInfo": {
     "elapsed": 503,
     "status": "ok",
     "timestamp": 1686638510509,
     "user": {
      "displayName": "Sunghwan KIM",
      "userId": "06010856989212311727"
     },
     "user_tz": -540
    },
    "id": "MvcUestCdWzx"
   },
   "outputs": [],
   "source": [
    "# CNN - Conv layer: fiter의 개수(out_channels)는 뒤로 갈수록 크게잡는다.\n",
    "#                   출력결과(Feature map) 의  size(height, width)는 줄여나간다. => MaxPool\n",
    "# Conv block:\n",
    "#   1. Conv + ReLU + MaxPooling\n",
    "#   2. Conv + Batch Norm + ReLU + MaxPooling\n",
    "#   3. Conv + Batch Norm + ReLU + Dropout + MaxPooling\n",
    "class FMnistCNNModel(nn.Module):\n",
    "\n",
    "    def __init__(self):\n",
    "        super().__init__()\n",
    "        self.block1 = nn.Sequential(\n",
    "            # 3x3 필터, stride=1, padding=1 => input size == output size\n",
    "            nn.Conv2d(1, 32, kernel_size=3, stride=1, padding=1),\n",
    "            nn.BatchNorm2d(32),# 노멀라이즈\n",
    "            nn.ReLU(), # 비선형\n",
    "            nn.Dropout2d(p=0.3),\n",
    "            nn.MaxPool2d(kernel_size=2, stride=2)\n",
    "            # kernel_size 와 stride가 동일할 경우 stride는 생략가능\n",
    "        )\n",
    "\n",
    "        self.block2 = nn.Sequential(\n",
    "            nn.Conv2d(32, 64, kernel_size=3, padding=\"same\"),\n",
    "            nn.BatchNorm2d(64),# 노멀라이즈\n",
    "            nn.ReLU(), # 비선형\n",
    "            nn.Dropout2d(p=0.3),\n",
    "            nn.MaxPool2d(kernel_size=2)\n",
    "        )\n",
    "\n",
    "        self.block3 = nn.Sequential(\n",
    "            nn.Conv2d(64, 128, kernel_size=3, padding=\"same\"),\n",
    "            nn.BatchNorm2d(128),# 노멀라이즈\n",
    "            nn.ReLU(), # 비선형\n",
    "            nn.Dropout2d(p=0.3),\n",
    "            nn.MaxPool2d(kernel_size=2)\n",
    "        )\n",
    "        self.output_block = nn.Sequential(\n",
    "            nn.Linear(128*3*3, 512),\n",
    "            nn.ReLU(),\n",
    "            nn.Dropout(p=0.3),\n",
    "            nn.Linear(512, 10)\n",
    "        )\n",
    "\n",
    "    def forward(self, X):\n",
    "        out = self.block1(X)\n",
    "        out = self.block2(out)\n",
    "        out = self.block3(out)   #특성 추출\n",
    "        out = nn.Flatten()(out)\n",
    "        out = self.output_block(out)  # 추론\n",
    "        return out"
   ]
  },
  {
   "cell_type": "code",
   "execution_count": 12,
   "metadata": {
    "colab": {
     "base_uri": "https://localhost:8080/"
    },
    "executionInfo": {
     "elapsed": 9818,
     "status": "ok",
     "timestamp": 1686638522275,
     "user": {
      "displayName": "Sunghwan KIM",
      "userId": "06010856989212311727"
     },
     "user_tz": -540
    },
    "id": "L4MCt4yUdWzy",
    "outputId": "215a17a7-66e4-4df1-88fd-c1df0b2daeeb"
   },
   "outputs": [
    {
     "data": {
      "text/plain": [
       "==========================================================================================\n",
       "Layer (type:depth-idx)                   Output Shape              Param #\n",
       "==========================================================================================\n",
       "FMnistCNNModel                           [128, 10]                 --\n",
       "├─Sequential: 1-1                        [128, 32, 14, 14]         --\n",
       "│    └─Conv2d: 2-1                       [128, 32, 28, 28]         320\n",
       "│    └─BatchNorm2d: 2-2                  [128, 32, 28, 28]         64\n",
       "│    └─ReLU: 2-3                         [128, 32, 28, 28]         --\n",
       "│    └─Dropout2d: 2-4                    [128, 32, 28, 28]         --\n",
       "│    └─MaxPool2d: 2-5                    [128, 32, 14, 14]         --\n",
       "├─Sequential: 1-2                        [128, 64, 7, 7]           --\n",
       "│    └─Conv2d: 2-6                       [128, 64, 14, 14]         18,496\n",
       "│    └─BatchNorm2d: 2-7                  [128, 64, 14, 14]         128\n",
       "│    └─ReLU: 2-8                         [128, 64, 14, 14]         --\n",
       "│    └─Dropout2d: 2-9                    [128, 64, 14, 14]         --\n",
       "│    └─MaxPool2d: 2-10                   [128, 64, 7, 7]           --\n",
       "├─Sequential: 1-3                        [128, 128, 3, 3]          --\n",
       "│    └─Conv2d: 2-11                      [128, 128, 7, 7]          73,856\n",
       "│    └─BatchNorm2d: 2-12                 [128, 128, 7, 7]          256\n",
       "│    └─ReLU: 2-13                        [128, 128, 7, 7]          --\n",
       "│    └─Dropout2d: 2-14                   [128, 128, 7, 7]          --\n",
       "│    └─MaxPool2d: 2-15                   [128, 128, 3, 3]          --\n",
       "├─Sequential: 1-4                        [128, 10]                 --\n",
       "│    └─Linear: 2-16                      [128, 512]                590,336\n",
       "│    └─ReLU: 2-17                        [128, 512]                --\n",
       "│    └─Dropout: 2-18                     [128, 512]                --\n",
       "│    └─Linear: 2-19                      [128, 10]                 5,130\n",
       "==========================================================================================\n",
       "Total params: 688,586\n",
       "Trainable params: 688,586\n",
       "Non-trainable params: 0\n",
       "Total mult-adds (G): 1.04\n",
       "==========================================================================================\n",
       "Input size (MB): 0.40\n",
       "Forward/backward pass size (MB): 90.45\n",
       "Params size (MB): 2.75\n",
       "Estimated Total Size (MB): 93.61\n",
       "=========================================================================================="
      ]
     },
     "execution_count": 12,
     "metadata": {},
     "output_type": "execute_result"
    }
   ],
   "source": [
    "model = FMnistCNNModel().to(device)\n",
    "summary(model, (BATCH_SIZE, 1, 28, 28))"
   ]
  },
  {
   "cell_type": "code",
   "execution_count": 13,
   "metadata": {
    "executionInfo": {
     "elapsed": 1,
     "status": "ok",
     "timestamp": 1686638571537,
     "user": {
      "displayName": "Sunghwan KIM",
      "userId": "06010856989212311727"
     },
     "user_tz": -540
    },
    "id": "czNEAlDrfiBe"
   },
   "outputs": [],
   "source": [
    "fit?"
   ]
  },
  {
   "cell_type": "code",
   "execution_count": 14,
   "metadata": {
    "colab": {
     "base_uri": "https://localhost:8080/"
    },
    "executionInfo": {
     "elapsed": 419471,
     "status": "ok",
     "timestamp": 1686639073878,
     "user": {
      "displayName": "Sunghwan KIM",
      "userId": "06010856989212311727"
     },
     "user_tz": -540
    },
    "id": "-sArf7X5dWzy",
    "outputId": "0a94239a-0eec-4c16-f7af-77b126eb204f"
   },
   "outputs": [
    {
     "name": "stdout",
     "output_type": "stream",
     "text": [
      "Epoch[1/20] - Train loss: 0.36328 Train Accucracy: 0.86457 || Validation Loss: 0.38732 Validation Accuracy: 0.85890\n",
      "====================================================================================================\n",
      "저장: 1 - 이전 : inf, 현재: 0.3873197879595093\n",
      "Epoch[2/20] - Train loss: 0.29135 Train Accucracy: 0.88920 || Validation Loss: 0.32853 Validation Accuracy: 0.87680\n",
      "====================================================================================================\n",
      "저장: 2 - 이전 : 0.3873197879595093, 현재: 0.3285294788170464\n",
      "Epoch[3/20] - Train loss: 0.24211 Train Accucracy: 0.91018 || Validation Loss: 0.28393 Validation Accuracy: 0.89660\n",
      "====================================================================================================\n",
      "저장: 3 - 이전 : 0.3285294788170464, 현재: 0.28392514378964145\n",
      "Epoch[4/20] - Train loss: 0.23033 Train Accucracy: 0.91272 || Validation Loss: 0.27498 Validation Accuracy: 0.89760\n",
      "====================================================================================================\n",
      "저장: 4 - 이전 : 0.28392514378964145, 현재: 0.2749752476811409\n",
      "Epoch[5/20] - Train loss: 0.20393 Train Accucracy: 0.92348 || Validation Loss: 0.25211 Validation Accuracy: 0.90660\n",
      "====================================================================================================\n",
      "저장: 5 - 이전 : 0.2749752476811409, 현재: 0.2521121874451637\n",
      "Epoch[6/20] - Train loss: 0.19420 Train Accucracy: 0.92775 || Validation Loss: 0.24962 Validation Accuracy: 0.90930\n",
      "====================================================================================================\n",
      "저장: 6 - 이전 : 0.2521121874451637, 현재: 0.2496198198840588\n",
      "Epoch[7/20] - Train loss: 0.19035 Train Accucracy: 0.92702 || Validation Loss: 0.24481 Validation Accuracy: 0.91030\n",
      "====================================================================================================\n",
      "저장: 7 - 이전 : 0.2496198198840588, 현재: 0.24480518104532098\n",
      "Epoch[8/20] - Train loss: 0.19155 Train Accucracy: 0.92755 || Validation Loss: 0.24866 Validation Accuracy: 0.91130\n",
      "====================================================================================================\n",
      "Epoch[9/20] - Train loss: 0.16803 Train Accucracy: 0.93622 || Validation Loss: 0.22587 Validation Accuracy: 0.91770\n",
      "====================================================================================================\n",
      "저장: 9 - 이전 : 0.24480518104532098, 현재: 0.2258686228077623\n",
      "Epoch[10/20] - Train loss: 0.17109 Train Accucracy: 0.93417 || Validation Loss: 0.23565 Validation Accuracy: 0.91370\n",
      "====================================================================================================\n",
      "Epoch[11/20] - Train loss: 0.15660 Train Accucracy: 0.94158 || Validation Loss: 0.22517 Validation Accuracy: 0.91910\n",
      "====================================================================================================\n",
      "저장: 11 - 이전 : 0.2258686228077623, 현재: 0.2251689180354529\n",
      "Epoch[12/20] - Train loss: 0.15134 Train Accucracy: 0.94263 || Validation Loss: 0.22520 Validation Accuracy: 0.91970\n",
      "====================================================================================================\n",
      "Epoch[13/20] - Train loss: 0.14483 Train Accucracy: 0.94493 || Validation Loss: 0.22238 Validation Accuracy: 0.92080\n",
      "====================================================================================================\n",
      "저장: 13 - 이전 : 0.2251689180354529, 현재: 0.22238459560690046\n",
      "Epoch[14/20] - Train loss: 0.14112 Train Accucracy: 0.94668 || Validation Loss: 0.22242 Validation Accuracy: 0.92150\n",
      "====================================================================================================\n",
      "Epoch[15/20] - Train loss: 0.13285 Train Accucracy: 0.95068 || Validation Loss: 0.21400 Validation Accuracy: 0.92420\n",
      "====================================================================================================\n",
      "저장: 15 - 이전 : 0.22238459560690046, 현재: 0.214002346690697\n",
      "Epoch[16/20] - Train loss: 0.12865 Train Accucracy: 0.95132 || Validation Loss: 0.21386 Validation Accuracy: 0.92500\n",
      "====================================================================================================\n",
      "저장: 16 - 이전 : 0.214002346690697, 현재: 0.21386400619639626\n",
      "Epoch[17/20] - Train loss: 0.12728 Train Accucracy: 0.95182 || Validation Loss: 0.21457 Validation Accuracy: 0.92540\n",
      "====================================================================================================\n",
      "Epoch[18/20] - Train loss: 0.11811 Train Accucracy: 0.95580 || Validation Loss: 0.20818 Validation Accuracy: 0.92570\n",
      "====================================================================================================\n",
      "저장: 18 - 이전 : 0.21386400619639626, 현재: 0.20818211440044113\n",
      "Epoch[19/20] - Train loss: 0.11905 Train Accucracy: 0.95518 || Validation Loss: 0.21195 Validation Accuracy: 0.92580\n",
      "====================================================================================================\n",
      "Epoch[20/20] - Train loss: 0.11961 Train Accucracy: 0.95480 || Validation Loss: 0.21320 Validation Accuracy: 0.92360\n",
      "====================================================================================================\n",
      "418.97249698638916 초\n"
     ]
    }
   ],
   "source": [
    "# 학습\n",
    "save_path = os.path.join(MODEL_SAVE_PATH, \"fmnist_cnn_model.pt\")\n",
    "loss_fn = nn.CrossEntropyLoss()\n",
    "optimizer = torch.optim.Adam(model.parameters(), lr=LR)\n",
    "\n",
    "result = fit(train_loader, test_loader, model, loss_fn, optimizer, N_EPOCH,\n",
    "            save_best_model=True, save_model_path=save_path,\n",
    "            early_stopping=True, device=device,\n",
    "            mode='multi')"
   ]
  },
  {
   "cell_type": "code",
   "execution_count": 15,
   "metadata": {
    "colab": {
     "base_uri": "https://localhost:8080/",
     "height": 507
    },
    "executionInfo": {
     "elapsed": 1378,
     "status": "ok",
     "timestamp": 1686639254457,
     "user": {
      "displayName": "Sunghwan KIM",
      "userId": "06010856989212311727"
     },
     "user_tz": -540
    },
    "id": "EjJ9TuUUdWzy",
    "outputId": "82c66787-1dfb-4972-e99d-38798b6d0a30"
   },
   "outputs": [
    {
     "data": {
      "image/png": "[encoded data removed]",
      "text/plain": [
       "<Figure size 1200x500 with 2 Axes>"
      ]
     },
     "metadata": {},
     "output_type": "display_data"
    }
   ],
   "source": [
    "from module.utils import plot_fit_result\n",
    "\n",
    "plot_fit_result(*result)"
   ]
  },
  {
   "cell_type": "code",
   "execution_count": null,
   "metadata": {
    "id": "bt-Y9xkGdWzy"
   },
   "outputs": [],
   "source": []
  },
  {
   "cell_type": "code",
   "execution_count": null,
   "metadata": {
    "id": "EmvZ9iszdWzy"
   },
   "outputs": [],
   "source": []
  },
  {
   "cell_type": "code",
   "execution_count": 16,
   "metadata": {
    "colab": {
     "base_uri": "https://localhost:8080/"
    },
    "executionInfo": {
     "elapsed": 22313,
     "status": "ok",
     "timestamp": 1686640230242,
     "user": {
      "displayName": "Sunghwan KIM",
      "userId": "06010856989212311727"
     },
     "user_tz": -540
    },
    "id": "L3mJ1_hzlvXm",
    "outputId": "bd5b3afd-fcc2-4d07-d1b9-8281c669e200"
   },
   "outputs": [
    {
     "name": "stdout",
     "output_type": "stream",
     "text": [
      "Mounted at /content/drive\n"
     ]
    }
   ],
   "source": [
    "from google.colab import drive\n",
    "drive.mount('/content/drive')"
   ]
  },
  {
   "cell_type": "code",
   "execution_count": 17,
   "metadata": {
    "executionInfo": {
     "elapsed": 812,
     "status": "ok",
     "timestamp": 1686640398841,
     "user": {
      "displayName": "Sunghwan KIM",
      "userId": "06010856989212311727"
     },
     "user_tz": -540
    },
    "id": "7GlGTuPQdWzy"
   },
   "outputs": [],
   "source": [
    "save_path = os.path.join(MODEL_SAVE_PATH, \"fmnist_cnn_model.pt\")\n",
    "target_path = \"/content/drive/MyDrive/07_deeplearning/models/fmnist_cnn_model.pt\""
   ]
  },
  {
   "cell_type": "code",
   "execution_count": 18,
   "metadata": {
    "colab": {
     "base_uri": "https://localhost:8080/",
     "height": 35
    },
    "executionInfo": {
     "elapsed": 461,
     "status": "ok",
     "timestamp": 1686640451230,
     "user": {
      "displayName": "Sunghwan KIM",
      "userId": "06010856989212311727"
     },
     "user_tz": -540
    },
    "id": "__noO7MLdWzy",
    "outputId": "cac5a349-38c1-4382-b192-256627bf4e40"
   },
   "outputs": [
    {
     "data": {
      "application/vnd.google.colaboratory.intrinsic+json": {
       "type": "string"
      },
      "text/plain": [
       "'/content/drive/MyDrive/07_deeplearning/models/fmnist_cnn_model.pt'"
      ]
     },
     "execution_count": 18,
     "metadata": {},
     "output_type": "execute_result"
    }
   ],
   "source": [
    "import shutil\n",
    "\n",
    "shutil.copyfile(save_path, target_path)"
   ]
  },
  {
   "cell_type": "markdown",
   "metadata": {
    "id": "zwk67HXJdWzy"
   },
   "source": [
    "## Train"
   ]
  },
  {
   "cell_type": "code",
   "execution_count": null,
   "metadata": {
    "id": "ZVcw6aSPdWzy"
   },
   "outputs": [],
   "source": []
  }
 ],
 "metadata": {
  "accelerator": "GPU",
  "colab": {
   "gpuType": "T4",
   "provenance": []
  },
  "kernelspec": {
   "display_name": "Python 3 (ipykernel)",
   "language": "python",
   "name": "python3"
  },
  "language_info": {
   "codemirror_mode": {
    "name": "ipython",
    "version": 3
   },
   "file_extension": ".py",
   "mimetype": "text/x-python",
   "name": "python",
   "nbconvert_exporter": "python",
   "pygments_lexer": "ipython3",
   "version": "3.10.11"
  },
  "toc": {
   "base_numbering": 1,
   "nav_menu": {},
   "number_sections": true,
   "sideBar": true,
   "skip_h1_title": false,
   "title_cell": "Table of Contents",
   "title_sidebar": "Contents",
   "toc_cell": false,
   "toc_position": {},
   "toc_section_display": true,
   "toc_window_display": false
  },
  "varInspector": {
   "cols": {
    "lenName": 16,
    "lenType": 16,
    "lenVar": 40
   },
   "kernels_config": {
    "python": {
     "delete_cmd_postfix": "",
     "delete_cmd_prefix": "del ",
     "library": "var_list.py",
     "varRefreshCmd": "print(var_dic_list())"
    },
    "r": {
     "delete_cmd_postfix": ") ",
     "delete_cmd_prefix": "rm(",
     "library": "var_list.r",
     "varRefreshCmd": "cat(var_dic_list()) "
    }
   },
   "types_to_exclude": [
    "module",
    "function",
    "builtin_function_or_method",
    "instance",
    "_Feature"
   ],
   "window_display": false
  }
 },
 "nbformat": 4,
 "nbformat_minor": 1
}
