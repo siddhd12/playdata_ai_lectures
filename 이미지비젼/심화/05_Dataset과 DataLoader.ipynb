{
 "cells": [
  {
   "cell_type": "markdown",
   "metadata": {
    "jp-MarkdownHeadingCollapsed": true
   },
   "source": [
    "# Dataset 과 DataLoader\n",
    "\n",
    "- 딥러닝 모델을 학습시키고 평가할때 사용할 데이터를 제공하기 위한 객체\n",
    "- **torch.utils.data.Dataset**\n",
    "    - input/output dataset을 저장한다.\n",
    "        - data augmentation등 처리를 할 수 있다.\n",
    "    - subscriptable, iterable 타입. \n",
    "    > subscriptable타입: indexing을 이용해 원소 조회가 가능한 타입)\n",
    "        \n",
    "- **torch.utils.data.DataLoader**\n",
    "    - Dataset의 데이터를 제공하는 Iterable 객체.\n",
    "    - Dataset이 가지고 있는 데이터를 어떻게 제공할 지 설정한다.\n",
    "        - batch size 등을 설정한다."
   ]
  },
  {
   "cell_type": "markdown",
   "metadata": {},
   "source": [
    "# Built-in Dataset\n",
    "\n",
    "- 파이토치는 분야별 공개 데이터셋을 종류별로 torchvision, torchtext, torchaudio 모듈을 통해 제공한다.\n",
    "- 모든 built-in dataset은 [`torch.utils.data.Dataset`](https://pytorch.org/docs/stable/data.html#torch.utils.data.Dataset)의 하위클래스로 구현되있다.\n",
    "    - [computer vision dataset](https://pytorch.org/vision/stable/datasets.html)\n",
    "    - [text dataset](https://pytorch.org/text/stable/datasets.html)\n",
    "    - [audio dataset](https://pytorch.org/audio/stable/datasets.html)"
   ]
  },
  {
   "cell_type": "markdown",
   "metadata": {},
   "source": [
    "## Image  Built-in dataset Loading\n",
    "torchvision 모듈을 통해 다양한 오픈소스 이미지 데이터셋을 loading할 수 있는 Dataset 클래스를 제공한다.\n",
    "\n",
    "- 각 Dataset 클래스의 주요 매개변수\n",
    "    - **root**: str\n",
    "        - Raw data를 저장할 디렉토리 경로\n",
    "    - **train**: bool\n",
    "        - True일경우 Train set을 False일 경우 Test set을 load\n",
    "    - **download**: bool\n",
    "        - True이면 root에 지정된 경로에 raw 데이터를 인터셋에서 download할지 여부. 이미 저장되 있는 경우 download하지 않는다.\n",
    "    - **transform**: function\n",
    "        - Loading한 이미지를 변환하는 function.\n",
    "            - Normalization이나 data Agumentation 처리를 한다.\n",
    "            "
   ]
  },
  {
   "cell_type": "code",
   "execution_count": 1,
   "metadata": {},
   "outputs": [],
   "source": [
    "import torch\n",
    "import torch.nn as nn\n",
    "from torchvision import datasets\n",
    "\n",
    "import numpy as np"
   ]
  },
  {
   "cell_type": "code",
   "execution_count": 2,
   "metadata": {},
   "outputs": [],
   "source": [
    "# 데이터 저장할 디렉토리 경로 변수\n",
    "DATASET_PATH = 'datasets'  #상대경로, 절대경로 상관없다.\n",
    "\n",
    "mnist_trainset = datasets.MNIST(root=DATASET_PATH, #원본데이터가 위치한 디렉토리.\n",
    "                                train=True, # True: Train set , False: Test set\n",
    "                                download=True # root경로에 데이터셋이 없을 경우 다운로드 받을지 여부(default: False)\n",
    "#                                 , transform=데이터변환함수\n",
    "                               )\n",
    "# class이름은 위에 링크 들어가면 여러가지 클래스들이 있는데 거기에 있는 것 중에 하나임.\n",
    "mnist_testset = datasets.MNIST(root=DATASET_PATH, \n",
    "                               train=False, \n",
    "                               download=True\n",
    "                              )"
   ]
  },
  {
   "cell_type": "code",
   "execution_count": 3,
   "metadata": {},
   "outputs": [
    {
     "data": {
      "text/plain": [
       "(torchvision.datasets.mnist.MNIST, True)"
      ]
     },
     "execution_count": 3,
     "metadata": {},
     "output_type": "execute_result"
    }
   ],
   "source": [
    "# 타입확인\n",
    "type(mnist_trainset), isinstance(mnist_trainset, torch.utils.data.Dataset) # 상속관계\n",
    "# datasets타입도 가지고있고, Mnist라는 클래스의 타입도 있기에 둘 다 나온거임."
   ]
  },
  {
   "cell_type": "code",
   "execution_count": 4,
   "metadata": {},
   "outputs": [
    {
     "name": "stdout",
     "output_type": "stream",
     "text": [
      "Dataset MNIST\n",
      "    Number of datapoints: 60000\n",
      "    Root location: datasets\n",
      "    Split: Train\n",
      "Dataset MNIST\n",
      "    Number of datapoints: 10000\n",
      "    Root location: datasets\n",
      "    Split: Test\n"
     ]
    }
   ],
   "source": [
    "## built-in dataset 정보확인\n",
    "print(mnist_trainset)\n",
    "print(mnist_testset)"
   ]
  },
  {
   "cell_type": "code",
   "execution_count": 5,
   "metadata": {},
   "outputs": [
    {
     "name": "stdout",
     "output_type": "stream",
     "text": [
      "trainset 데이터개수: 60000\n",
      "testset 데이터개수: 10000\n",
      "<class 'tuple'> 2\n",
      "<class 'PIL.Image.Image'> <class 'int'>\n",
      "1\n"
     ]
    },
    {
     "data": {
      "image/png": "[encoded data removed]",
      "text/plain": [
       "<PIL.Image.Image image mode=L size=28x28>"
      ]
     },
     "execution_count": 5,
     "metadata": {},
     "output_type": "execute_result"
    }
   ],
   "source": [
    "# MNIST Dataset 정보확인\n",
    "print(\"trainset 데이터개수:\", len(mnist_trainset))\n",
    "print(\"testset 데이터개수:\", len(mnist_testset))\n",
    "# Dataset->subscriptable->indexing\n",
    "# 1개 데이터를 조회\n",
    "data_1 = mnist_trainset[10500]  #타입: tuple, (X, y)  # 0번 인덱스가 인풋데이터, 1번 인덱스가 아웃풋데이터\n",
    "print(type(data_1), len(data_1))\n",
    "# input data type\n",
    "print(type(data_1[0]), type(data_1[1])) # [0]을 읽어올때 파이토치에서 필로우라는걸로 읽어오기에 PIL로 바뀌어서 타입명이 저렇게 나오는 거다.\n",
    "print(data_1[1])\n",
    "data_1[0]\n"
   ]
  },
  {
   "cell_type": "code",
   "execution_count": 6,
   "metadata": {},
   "outputs": [
    {
     "name": "stdout",
     "output_type": "stream",
     "text": [
      "(28, 28)\n"
     ]
    },
    {
     "data": {
      "image/png": "[encoded data removed]",
      "text/plain": [
       "<Figure size 640x480 with 1 Axes>"
      ]
     },
     "metadata": {},
     "output_type": "display_data"
    }
   ],
   "source": [
    "# PIL.Image => ndarray\n",
    "import matplotlib.pyplot as plt\n",
    "img_arr = np.array(data_1[0])\n",
    "print(img_arr.shape)\n",
    "plt.imshow(img_arr, cmap='gray');"
   ]
  },
  {
   "cell_type": "code",
   "execution_count": 7,
   "metadata": {},
   "outputs": [],
   "source": [
    "## built-in Dataset은 slicing은 안됨.\n",
    "# mnist_trainset[:5]  원래라면 되긴하는데 구현을 안해놔서 오류가 난다."
   ]
  },
  {
   "cell_type": "code",
   "execution_count": 8,
   "metadata": {},
   "outputs": [
    {
     "data": {
      "text/plain": [
       "['0 - zero',\n",
       " '1 - one',\n",
       " '2 - two',\n",
       " '3 - three',\n",
       " '4 - four',\n",
       " '5 - five',\n",
       " '6 - six',\n",
       " '7 - seven',\n",
       " '8 - eight',\n",
       " '9 - nine']"
      ]
     },
     "execution_count": 8,
     "metadata": {},
     "output_type": "execute_result"
    }
   ],
   "source": [
    "# 분류->Y의 클래스들 확인 \n",
    "mnist_trainset.classes\n",
    "# 리스트: index-class, value-class name"
   ]
  },
  {
   "cell_type": "code",
   "execution_count": 9,
   "metadata": {},
   "outputs": [
    {
     "data": {
      "text/plain": [
       "{'0 - zero': 0,\n",
       " '1 - one': 1,\n",
       " '2 - two': 2,\n",
       " '3 - three': 3,\n",
       " '4 - four': 4,\n",
       " '5 - five': 5,\n",
       " '6 - six': 6,\n",
       " '7 - seven': 7,\n",
       " '8 - eight': 8,\n",
       " '9 - nine': 9}"
      ]
     },
     "execution_count": 9,
     "metadata": {},
     "output_type": "execute_result"
    }
   ],
   "source": [
    "mnist_trainset.class_to_idx\n",
    "# dictionary: key-class name, value-class"
   ]
  },
  {
   "cell_type": "code",
   "execution_count": 10,
   "metadata": {},
   "outputs": [
    {
     "data": {
      "text/plain": [
       "5"
      ]
     },
     "execution_count": 10,
     "metadata": {},
     "output_type": "execute_result"
    }
   ],
   "source": [
    "mnist_trainset.class_to_idx['5 - five']"
   ]
  },
  {
   "cell_type": "code",
   "execution_count": 11,
   "metadata": {},
   "outputs": [
    {
     "data": {
      "text/plain": [
       "(28, 28)"
      ]
     },
     "execution_count": 11,
     "metadata": {},
     "output_type": "execute_result"
    }
   ],
   "source": [
    "np.array(data_1[0]).shape"
   ]
  },
  {
   "cell_type": "code",
   "execution_count": 12,
   "metadata": {},
   "outputs": [
    {
     "data": {
      "text/plain": [
       "(28, 28)"
      ]
     },
     "execution_count": 12,
     "metadata": {},
     "output_type": "execute_result"
    }
   ],
   "source": [
    "data_1[0].size  # width, height만 알려준다. (channel은 안알려줌.)"
   ]
  },
  {
   "cell_type": "code",
   "execution_count": 13,
   "metadata": {},
   "outputs": [
    {
     "data": {
      "text/plain": [
       "torch.Size([60000, 28, 28])"
      ]
     },
     "execution_count": 13,
     "metadata": {},
     "output_type": "execute_result"
    }
   ],
   "source": [
    "# mnist_trainset.data  # 전체 input data가 저장된 속성  # tensor로 저장된걸로 저장된다\n",
    "mnist_trainset.data.shape"
   ]
  },
  {
   "cell_type": "code",
   "execution_count": 14,
   "metadata": {},
   "outputs": [
    {
     "data": {
      "text/plain": [
       "torch.Size([60000])"
      ]
     },
     "execution_count": 14,
     "metadata": {},
     "output_type": "execute_result"
    }
   ],
   "source": [
    "# mnist_trainset.targets # 전체 output data가 저장된 속성\\\n",
    "mnist_trainset.targets.shape"
   ]
  },
  {
   "cell_type": "markdown",
   "metadata": {},
   "source": [
    "### TODO\n",
    "\n",
    "- CIFAR10 Built-in dataset 을 LOADING 후 다음을 확인하시오.\n",
    "    1. Dataset loading\n",
    "    1. train, test dataset의 데이터 개수\n",
    "    1. train set 과 test set의 input data의  shape\n",
    "    1. train set 과 test set의 output data의  shape\n",
    "    1. class index - class name\n",
    "    1. train set의 이미지 5장을 출력. label의 이름을 title로 출력.\n",
    "    \n",
    "    "
   ]
  },
  {
   "cell_type": "code",
   "execution_count": 15,
   "metadata": {},
   "outputs": [
    {
     "name": "stdout",
     "output_type": "stream",
     "text": [
      "Downloading https://www.cs.toronto.edu/~kriz/cifar-10-python.tar.gz to datasets\\cifar-10-python.tar.gz\n"
     ]
    },
    {
     "name": "stderr",
     "output_type": "stream",
     "text": [
      "100%|██████████████████████████████████████████████████████████████| 170498071/170498071 [00:12<00:00, 14053002.14it/s]\n"
     ]
    },
    {
     "name": "stdout",
     "output_type": "stream",
     "text": [
      "Extracting datasets\\cifar-10-python.tar.gz to datasets\n",
      "Files already downloaded and verified\n"
     ]
    }
   ],
   "source": [
    "# 1.Dataset loading\n",
    "cifar10_trainset = datasets.CIFAR10(root=DATASET_PATH, train=True, download=True)\n",
    "cifar10_testset = datasets.CIFAR10(root=DATASET_PATH, train=False, download=True)"
   ]
  },
  {
   "cell_type": "code",
   "execution_count": 16,
   "metadata": {},
   "outputs": [
    {
     "name": "stdout",
     "output_type": "stream",
     "text": [
      "Dataset CIFAR10\n",
      "    Number of datapoints: 50000\n",
      "    Root location: datasets\n",
      "    Split: Train\n",
      "Dataset CIFAR10\n",
      "    Number of datapoints: 10000\n",
      "    Root location: datasets\n",
      "    Split: Test\n",
      "50000 10000\n"
     ]
    }
   ],
   "source": [
    "# 2. train, test dataset의 데이터 개수\n",
    "print(cifar10_trainset)\n",
    "print(cifar10_testset)\n",
    "print(len(cifar10_trainset), len(cifar10_testset))"
   ]
  },
  {
   "cell_type": "code",
   "execution_count": 17,
   "metadata": {},
   "outputs": [
    {
     "name": "stdout",
     "output_type": "stream",
     "text": [
      "(50000, 32, 32, 3)\n",
      "(10000, 32, 32, 3)\n",
      "<class 'list'>\n",
      "50000 (50000,)\n",
      "10000 (10000,)\n"
     ]
    }
   ],
   "source": [
    "# train set 과 test set의 input data의 shape\n",
    "print(cifar10_trainset.data.shape)\n",
    "print(cifar10_testset.data.shape)\n",
    "# print(type(cifar10_trainset.data))\n",
    "# train set 과 test set의 output data의 shape\n",
    "print(type(cifar10_trainset.targets))\n",
    "print(len(cifar10_trainset.targets), np.shape(cifar10_trainset.targets))\n",
    "print(len(cifar10_testset.targets), np.shape(cifar10_testset.targets))"
   ]
  },
  {
   "cell_type": "code",
   "execution_count": 18,
   "metadata": {},
   "outputs": [
    {
     "data": {
      "text/plain": [
       "['airplane',\n",
       " 'automobile',\n",
       " 'bird',\n",
       " 'cat',\n",
       " 'deer',\n",
       " 'dog',\n",
       " 'frog',\n",
       " 'horse',\n",
       " 'ship',\n",
       " 'truck']"
      ]
     },
     "execution_count": 18,
     "metadata": {},
     "output_type": "execute_result"
    }
   ],
   "source": [
    "#5. class index - class name\n",
    "\n",
    "# class->class name\n",
    "cifar10_trainset.classes"
   ]
  },
  {
   "cell_type": "code",
   "execution_count": 19,
   "metadata": {},
   "outputs": [
    {
     "data": {
      "text/plain": [
       "'truck'"
      ]
     },
     "execution_count": 19,
     "metadata": {},
     "output_type": "execute_result"
    }
   ],
   "source": [
    "cifar10_trainset.classes[9]"
   ]
  },
  {
   "cell_type": "code",
   "execution_count": 20,
   "metadata": {},
   "outputs": [
    {
     "data": {
      "text/plain": [
       "{'airplane': 0,\n",
       " 'automobile': 1,\n",
       " 'bird': 2,\n",
       " 'cat': 3,\n",
       " 'deer': 4,\n",
       " 'dog': 5,\n",
       " 'frog': 6,\n",
       " 'horse': 7,\n",
       " 'ship': 8,\n",
       " 'truck': 9}"
      ]
     },
     "execution_count": 20,
     "metadata": {},
     "output_type": "execute_result"
    }
   ],
   "source": [
    "# class name -> class\n",
    "cifar10_trainset.class_to_idx"
   ]
  },
  {
   "cell_type": "code",
   "execution_count": 21,
   "metadata": {},
   "outputs": [
    {
     "data": {
      "text/plain": [
       "2"
      ]
     },
     "execution_count": 21,
     "metadata": {},
     "output_type": "execute_result"
    }
   ],
   "source": [
    "cifar10_trainset.class_to_idx['bird']"
   ]
  },
  {
   "cell_type": "code",
   "execution_count": 22,
   "metadata": {},
   "outputs": [
    {
     "name": "stdout",
     "output_type": "stream",
     "text": [
      "<class 'PIL.Image.Image'> <class 'int'>\n",
      "9 truck\n"
     ]
    },
    {
     "data": {
      "image/png": "[encoded data removed]",
      "text/plain": [
       "<PIL.Image.Image image mode=RGB size=32x32>"
      ]
     },
     "execution_count": 22,
     "metadata": {},
     "output_type": "execute_result"
    }
   ],
   "source": [
    "#6. 이미지 출력\n",
    "idx = 2\n",
    "data = cifar10_trainset[idx]\n",
    "print(type(data[0]), type(data[1]))\n",
    "print(data[1], cifar10_trainset.classes[data[1]])\n",
    "data[0]"
   ]
  },
  {
   "cell_type": "code",
   "execution_count": 23,
   "metadata": {},
   "outputs": [
    {
     "name": "stdout",
     "output_type": "stream",
     "text": [
      "6 frog\n"
     ]
    },
    {
     "data": {
      "image/png": "[encoded data removed]",
      "text/plain": [
       "<PIL.Image.Image image mode=RGB size=32x32>"
      ]
     },
     "metadata": {},
     "output_type": "display_data"
    },
    {
     "name": "stdout",
     "output_type": "stream",
     "text": [
      "9 truck\n"
     ]
    },
    {
     "data": {
      "image/png": "[encoded data removed]",
      "text/plain": [
       "<PIL.Image.Image image mode=RGB size=32x32>"
      ]
     },
     "metadata": {},
     "output_type": "display_data"
    },
    {
     "name": "stdout",
     "output_type": "stream",
     "text": [
      "9 truck\n"
     ]
    },
    {
     "data": {
      "image/png": "[encoded data removed]",
      "text/plain": [
       "<PIL.Image.Image image mode=RGB size=32x32>"
      ]
     },
     "metadata": {},
     "output_type": "display_data"
    },
    {
     "name": "stdout",
     "output_type": "stream",
     "text": [
      "4 deer\n"
     ]
    },
    {
     "data": {
      "image/png": "[encoded data removed]",
      "text/plain": [
       "<PIL.Image.Image image mode=RGB size=32x32>"
      ]
     },
     "metadata": {},
     "output_type": "display_data"
    },
    {
     "name": "stdout",
     "output_type": "stream",
     "text": [
      "1 automobile\n"
     ]
    },
    {
     "data": {
      "image/png": "[encoded data removed]",
      "text/plain": [
       "<PIL.Image.Image image mode=RGB size=32x32>"
      ]
     },
     "metadata": {},
     "output_type": "display_data"
    }
   ],
   "source": [
    "from IPython.display import display\n",
    "for i in range(5):\n",
    "    x, y = cifar10_trainset[i]  #튜플 대입\n",
    "    print(y, cifar10_trainset.classes[y])\n",
    "    display(x)\n",
    "    # ndarray를 사용해서 이미지는 출력해주기 어렵기도하고 반복문에서는 Print를 써야지 출력을 해주기에, IPython.display를 이용해서 이미지를 출력해준다."
   ]
  },
  {
   "cell_type": "code",
   "execution_count": 24,
   "metadata": {},
   "outputs": [
    {
     "data": {
      "image/png": "[encoded data removed]",
      "text/plain": [
       "<Figure size 1000x700 with 15 Axes>"
      ]
     },
     "metadata": {},
     "output_type": "display_data"
    }
   ],
   "source": [
    "#matplotlib\n",
    "plt.figure(figsize=(10, 7))\n",
    "for i in range(15):\n",
    "    x, y = cifar10_testset[i]\n",
    "    # x: PIL.Image -> ndarray\n",
    "    img = np.array(x)\n",
    "#     print(img.shape, img.dtype)\n",
    "    plt.subplot(3, 5, i+1)\n",
    "    plt.title(f\"{y} - {cifar10_testset.classes[y]}\")\n",
    "    plt.imshow(img)\n",
    "    \n",
    "plt.tight_layout()\n",
    "plt.show()\n",
    "    "
   ]
  },
  {
   "cell_type": "markdown",
   "metadata": {},
   "source": [
    "### transform 매개변수를 이용한 정규화\n",
    "\n",
    "- Feature scaling과 동일한 목적으로 image의 전체 pixel의 값들이 유사한 scale을 가지도록 처리한다.\n",
    "- transform 매개변수에 전처리 함수를 넣으면 데이터에 대한 전처리를 할 수 있다."
   ]
  },
  {
   "cell_type": "code",
   "execution_count": 25,
   "metadata": {},
   "outputs": [
    {
     "name": "stdout",
     "output_type": "stream",
     "text": [
      "<class 'PIL.Image.Image'>\n",
      "(28, 28) 255 0 uint8\n"
     ]
    }
   ],
   "source": [
    "d_1 = mnist_trainset[0][0]\n",
    "print(type(d_1))\n",
    "img_1 = np.array(d_1)\n",
    "print(img_1.shape, img_1.max(), img_1.min(), img_1.dtype)"
   ]
  },
  {
   "cell_type": "markdown",
   "metadata": {
    "ExecuteTime": {
     "end_time": "2023-05-24T10:48:13.851346Z",
     "start_time": "2023-05-24T10:48:13.831036Z"
    }
   },
   "source": [
    "#### ToTensor\n",
    " -  PIL Image나 NumPy ndarray 를 FloatTensor 로 변환하고, 이미지의 픽셀의 크기(intensity) 값을 \\[0., 1.\\] 범위로 비례하여 조정한다.\n",
    " - color이미지 의 경우 channel 축을 0축으로 설정. (hight, width, channel) -> (channel, height, width)\n",
    " - https://pytorch.org/vision/stable/transforms.html"
   ]
  },
  {
   "cell_type": "code",
   "execution_count": 26,
   "metadata": {},
   "outputs": [],
   "source": [
    "from torchvision import transforms  # 영상 데이터 전처리를 위한 transforms들을 제공하는 모듈\n",
    "mnist_trainset_2 = datasets.MNIST(root=DATASET_PATH, train=True, download=True, \n",
    "                                  transform=transforms.ToTensor())  #ToTensor: 클래스"
   ]
  },
  {
   "cell_type": "code",
   "execution_count": 27,
   "metadata": {},
   "outputs": [],
   "source": [
    "x, y = mnist_trainset_2[0]"
   ]
  },
  {
   "cell_type": "code",
   "execution_count": 28,
   "metadata": {},
   "outputs": [
    {
     "name": "stdout",
     "output_type": "stream",
     "text": [
      "<class 'torch.Tensor'> <class 'int'>\n"
     ]
    }
   ],
   "source": [
    "print(type(x), type(y))"
   ]
  },
  {
   "cell_type": "code",
   "execution_count": 29,
   "metadata": {},
   "outputs": [
    {
     "name": "stdout",
     "output_type": "stream",
     "text": [
      "torch.Size([1, 28, 28])\n",
      "tensor(1.) tensor(0.) torch.float32\n"
     ]
    }
   ],
   "source": [
    "print(x.shape)  # channel 축이 생성. (channel, height, width)\n",
    "print(x.max(), x.min(), x.dtype) # max: 255->1, min: 0->0, dtype: uint8->float32"
   ]
  },
  {
   "cell_type": "markdown",
   "metadata": {},
   "source": [
    "### transform.Normalize\n",
    "- 채널별로 지정한 평균을 뺀 뒤 지정한 표준편차로 나워서 정규화를 진행한다.\n",
    "- ToTensor()로 변환된 데이터를 받아서 추가 변환\n",
    "        - 여려 변환을 할 경우 `torchvision.transforms.Compose` 클래스를 이용한다."
   ]
  },
  {
   "cell_type": "code",
   "execution_count": 30,
   "metadata": {},
   "outputs": [
    {
     "data": {
      "text/plain": [
       "(-1.0, 1.0)"
      ]
     },
     "execution_count": 30,
     "metadata": {},
     "output_type": "execute_result"
    }
   ],
   "source": [
    "#평균: 0.5, 표준편차: 0.5 -> 0 ~ 1 값을 변환\n",
    "(0-0.5)/0.5  , (1-0.5)/0.5"
   ]
  },
  {
   "cell_type": "code",
   "execution_count": 31,
   "metadata": {},
   "outputs": [],
   "source": [
    "# 0 ~ 1 변환\n",
    "# 채널별(RGB)로 평균: (0.485, 0.456, 0.406), 표준편차: (0.229, 0.224, 0.225)"
   ]
  },
  {
   "cell_type": "code",
   "execution_count": 32,
   "metadata": {},
   "outputs": [],
   "source": [
    "# Compose(): 여러 transform들을 묶어서 등록한 순서대로 실행시켜준다.\n",
    "transform = transforms.Compose([transforms.ToTensor(), # 0 ~ 1 로 정규화 (+torch.Tensor()변환, channel first)\n",
    "                                transforms.Normalize(mean=(0.5, ), std=(0.5, ))  #평균, 표준편차는 채널별로 설정\n",
    "                               ])\n",
    "\n",
    "\n",
    "mnist_trainset_3 = datasets.MNIST(root=DATASET_PATH, train=True, download=True, \n",
    "                                 transform=transform)\n",
    "mnist_testset_3 = datasets.MNIST(root=DATASET_PATH, train=False, download=True, \n",
    "                                 transform=transform)"
   ]
  },
  {
   "cell_type": "code",
   "execution_count": 33,
   "metadata": {},
   "outputs": [
    {
     "name": "stdout",
     "output_type": "stream",
     "text": [
      "(28, 28, 1)\n"
     ]
    },
    {
     "data": {
      "text/plain": [
       "tensor([[[-0.2157, -0.2157, -0.2157, -0.2157, -0.2157, -0.2157, -0.2157,\n",
       "          -0.2157, -0.2157, -0.2157, -0.2157, -0.2157, -0.2157, -0.2157,\n",
       "          -0.2157, -0.2157, -0.2157, -0.2157, -0.2157, -0.2157, -0.2157,\n",
       "          -0.2157, -0.2157, -0.2157, -0.2157, -0.2157, -0.2157, -0.2157],\n",
       "         [-0.2157, -0.2157, -0.2157, -0.2157, -0.2157, -0.2157, -0.2157,\n",
       "          -0.2157, -0.2157, -0.2157, -0.2157, -0.2157, -0.2157, -0.2157,\n",
       "          -0.2157, -0.2157, -0.2157, -0.2157, -0.2157, -0.2157, -0.2157,\n",
       "          -0.2157, -0.2157, -0.2157, -0.2157, -0.2157, -0.2157, -0.2157],\n",
       "         [-0.2157, -0.2157, -0.2157, -0.2157, -0.2157, -0.2157, -0.2157,\n",
       "          -0.2157, -0.2157, -0.2157, -0.2157, -0.2157, -0.2157, -0.2157,\n",
       "          -0.2157, -0.2157, -0.2157, -0.2157, -0.2157, -0.2157, -0.2157,\n",
       "          -0.2157, -0.2157, -0.2157, -0.2157, -0.2157, -0.2157, -0.2157],\n",
       "         [-0.2157, -0.2157, -0.2157, -0.2157, -0.2157, -0.2157, -0.2157,\n",
       "          -0.2157, -0.2157, -0.2157, -0.2157, -0.2157, -0.2157, -0.2157,\n",
       "          -0.2157, -0.2157, -0.2157, -0.2157, -0.2157, -0.2157, -0.2157,\n",
       "          -0.2157, -0.2157, -0.2157, -0.2157, -0.2157, -0.2157, -0.2157],\n",
       "         [-0.2157, -0.2157, -0.2157, -0.2157, -0.2157, -0.2157, -0.2157,\n",
       "          -0.2157, -0.2157, -0.2157, -0.2157, -0.2157, -0.2157, -0.2157,\n",
       "          -0.2157, -0.2157, -0.2157, -0.2157, -0.2157, -0.2157, -0.2157,\n",
       "          -0.2157, -0.2157, -0.2157, -0.2157, -0.2157, -0.2157, -0.2157],\n",
       "         [-0.2157, -0.2157, -0.2157, -0.2157, -0.2157, -0.2157, -0.2157,\n",
       "          -0.2157, -0.2157, -0.2157, -0.2157, -0.2157, -0.2157, -0.2157,\n",
       "          -0.2157, -0.2157, -0.2157, -0.2157, -0.2157, -0.2157, -0.2157,\n",
       "          -0.2157, -0.2157, -0.2157, -0.2157, -0.2157, -0.2157, -0.2157],\n",
       "         [-0.2157, -0.2157, -0.2157, -0.2157, -0.2157, -0.2157, -0.2157,\n",
       "          -0.2157, -0.2157, -0.2157, -0.2157, -0.2157, -0.2157, -0.2157,\n",
       "          -0.2157, -0.2157, -0.2157, -0.2157, -0.2157, -0.2157, -0.2157,\n",
       "          -0.2157, -0.2157, -0.2157, -0.2157, -0.2157, -0.2157, -0.2157],\n",
       "         [-0.2157, -0.2157, -0.2157, -0.2157, -0.2157, -0.2157, -0.2157,\n",
       "          -0.2157, -0.2157, -0.2157, -0.2157, -0.2157, -0.2157, -0.2157,\n",
       "          -0.2157, -0.2157, -0.2157, -0.2157, -0.2157, -0.2157, -0.2157,\n",
       "          -0.2157, -0.2157, -0.2157, -0.2157, -0.2157, -0.2157, -0.2157],\n",
       "         [-0.2157, -0.2157, -0.2157, -0.2157, -0.2157, -0.2157, -0.2157,\n",
       "          -0.2157, -0.2157, -0.2157, -0.2157, -0.2157, -0.2157, -0.2157,\n",
       "          -0.2157, -0.2157, -0.2157, -0.2157, -0.2157, -0.2157, -0.2157,\n",
       "          -0.2157, -0.2157, -0.2157, -0.2157, -0.2157, -0.2157, -0.2157],\n",
       "         [-0.2157, -0.2157, -0.2157, -0.2157, -0.2157, -0.2157, -0.2157,\n",
       "          -0.2157, -0.2157, -0.2157, -0.2157, -0.2157, -0.2157, -0.2157,\n",
       "          -0.2157, -0.2157, -0.2157, -0.2157, -0.2157, -0.2157, -0.2157,\n",
       "          -0.2157, -0.2157, -0.2157, -0.2157, -0.2157, -0.2157, -0.2157],\n",
       "         [-0.2157, -0.2157, -0.2157, -0.2157, -0.2157, -0.2157, -0.2157,\n",
       "          -0.2157, -0.2157, -0.2157, -0.2157, -0.2157, -0.2157, -0.2157,\n",
       "          -0.2157, -0.2157, -0.2157, -0.2157, -0.2157, -0.2157, -0.2157,\n",
       "          -0.2157, -0.2157, -0.2157, -0.2157, -0.2157, -0.2157, -0.2157],\n",
       "         [-0.2157, -0.2157, -0.2157, -0.2157, -0.2157, -0.2157, -0.2157,\n",
       "          -0.2157, -0.2157, -0.2157, -0.2157, -0.2157, -0.2157, -0.2157,\n",
       "          -0.2157, -0.2157, -0.2157, -0.2157, -0.2157, -0.2157, -0.2157,\n",
       "          -0.2157, -0.2157, -0.2157, -0.2157, -0.2157, -0.2157, -0.2157],\n",
       "         [-0.2157, -0.2157, -0.2157, -0.2157, -0.2157, -0.2157, -0.2157,\n",
       "          -0.2157, -0.2157, -0.2157, -0.2157, -0.2157, -0.2157, -0.2157,\n",
       "          -0.2157, -0.2157, -0.2157, -0.2157, -0.2157, -0.2157, -0.2157,\n",
       "          -0.2157, -0.2157, -0.2157, -0.2157, -0.2157, -0.2157, -0.2157],\n",
       "         [-0.2157, -0.2157, -0.2157, -0.2157, -0.2157, -0.2157, -0.2157,\n",
       "          -0.2157, -0.2157, -0.2157, -0.2157, -0.2157, -0.2157, -0.2157,\n",
       "          -0.2157, -0.2157, -0.2157, -0.2157, -0.2157, -0.2157, -0.2157,\n",
       "          -0.2157, -0.2157, -0.2157, -0.2157, -0.2157, -0.2157, -0.2157],\n",
       "         [-0.2157, -0.2157, -0.2157, -0.2157, -0.2157, -0.2157, -0.2157,\n",
       "          -0.2157, -0.2157, -0.2157, -0.2157, -0.2157, -0.2157, -0.2157,\n",
       "          -0.2157, -0.2157, -0.2157, -0.2157, -0.2157, -0.2157, -0.2157,\n",
       "          -0.2157, -0.2157, -0.2157, -0.2157, -0.2157, -0.2157, -0.2157],\n",
       "         [-0.2157, -0.2157, -0.2157, -0.2157, -0.2157, -0.2157, -0.2157,\n",
       "          -0.2157, -0.2157, -0.2157, -0.2157, -0.2157, -0.2157, -0.2157,\n",
       "          -0.2157, -0.2157, -0.2157, -0.2157, -0.2157, -0.2157, -0.2157,\n",
       "          -0.2157, -0.2157, -0.2157, -0.2157, -0.2157, -0.2157, -0.2157],\n",
       "         [-0.2157, -0.2157, -0.2157, -0.2157, -0.2157, -0.2157, -0.2157,\n",
       "          -0.2157, -0.2157, -0.2157, -0.2157, -0.2157, -0.2157, -0.2157,\n",
       "          -0.2157, -0.2157, -0.2157, -0.2157, -0.2157, -0.2157, -0.2157,\n",
       "          -0.2157, -0.2157, -0.2157, -0.2157, -0.2157, -0.2157, -0.2157],\n",
       "         [-0.2157, -0.2157, -0.2157, -0.2157, -0.2157, -0.2157, -0.2157,\n",
       "          -0.2157, -0.2157, -0.2157, -0.2157, -0.2157, -0.2157, -0.2157,\n",
       "          -0.2157, -0.2157, -0.2157, -0.2157, -0.2157, -0.2157, -0.2157,\n",
       "          -0.2157, -0.2157, -0.2157, -0.2157, -0.2157, -0.2157, -0.2157],\n",
       "         [-0.2157, -0.2157, -0.2157, -0.2157, -0.2157, -0.2157, -0.2157,\n",
       "          -0.2157, -0.2157, -0.2157, -0.2157, -0.2157, -0.2157, -0.2157,\n",
       "          -0.2157, -0.2157, -0.2157, -0.2157, -0.2157, -0.2157, -0.2157,\n",
       "          -0.2157, -0.2157, -0.2157, -0.2157, -0.2157, -0.2157, -0.2157],\n",
       "         [-0.2157, -0.2157, -0.2157, -0.2157, -0.2157, -0.2157, -0.2157,\n",
       "          -0.2157, -0.2157, -0.2157, -0.2157, -0.2157, -0.2157, -0.2157,\n",
       "          -0.2157, -0.2157, -0.2157, -0.2157, -0.2157, -0.2157, -0.2157,\n",
       "          -0.2157, -0.2157, -0.2157, -0.2157, -0.2157, -0.2157, -0.2157],\n",
       "         [-0.2157, -0.2157, -0.2157, -0.2157, -0.2157, -0.2157, -0.2157,\n",
       "          -0.2157, -0.2157, -0.2157, -0.2157, -0.2157, -0.2157, -0.2157,\n",
       "          -0.2157, -0.2157, -0.2157, -0.2157, -0.2157, -0.2157, -0.2157,\n",
       "          -0.2157, -0.2157, -0.2157, -0.2157, -0.2157, -0.2157, -0.2157],\n",
       "         [-0.2157, -0.2157, -0.2157, -0.2157, -0.2157, -0.2157, -0.2157,\n",
       "          -0.2157, -0.2157, -0.2157, -0.2157, -0.2157, -0.2157, -0.2157,\n",
       "          -0.2157, -0.2157, -0.2157, -0.2157, -0.2157, -0.2157, -0.2157,\n",
       "          -0.2157, -0.2157, -0.2157, -0.2157, -0.2157, -0.2157, -0.2157],\n",
       "         [-0.2157, -0.2157, -0.2157, -0.2157, -0.2157, -0.2157, -0.2157,\n",
       "          -0.2157, -0.2157, -0.2157, -0.2157, -0.2157, -0.2157, -0.2157,\n",
       "          -0.2157, -0.2157, -0.2157, -0.2157, -0.2157, -0.2157, -0.2157,\n",
       "          -0.2157, -0.2157, -0.2157, -0.2157, -0.2157, -0.2157, -0.2157],\n",
       "         [-0.2157, -0.2157, -0.2157, -0.2157, -0.2157, -0.2157, -0.2157,\n",
       "          -0.2157, -0.2157, -0.2157, -0.2157, -0.2157, -0.2157, -0.2157,\n",
       "          -0.2157, -0.2157, -0.2157, -0.2157, -0.2157, -0.2157, -0.2157,\n",
       "          -0.2157, -0.2157, -0.2157, -0.2157, -0.2157, -0.2157, -0.2157],\n",
       "         [-0.2157, -0.2157, -0.2157, -0.2157, -0.2157, -0.2157, -0.2157,\n",
       "          -0.2157, -0.2157, -0.2157, -0.2157, -0.2157, -0.2157, -0.2157,\n",
       "          -0.2157, -0.2157, -0.2157, -0.2157, -0.2157, -0.2157, -0.2157,\n",
       "          -0.2157, -0.2157, -0.2157, -0.2157, -0.2157, -0.2157, -0.2157],\n",
       "         [-0.2157, -0.2157, -0.2157, -0.2157, -0.2157, -0.2157, -0.2157,\n",
       "          -0.2157, -0.2157, -0.2157, -0.2157, -0.2157, -0.2157, -0.2157,\n",
       "          -0.2157, -0.2157, -0.2157, -0.2157, -0.2157, -0.2157, -0.2157,\n",
       "          -0.2157, -0.2157, -0.2157, -0.2157, -0.2157, -0.2157, -0.2157],\n",
       "         [-0.2157, -0.2157, -0.2157, -0.2157, -0.2157, -0.2157, -0.2157,\n",
       "          -0.2157, -0.2157, -0.2157, -0.2157, -0.2157, -0.2157, -0.2157,\n",
       "          -0.2157, -0.2157, -0.2157, -0.2157, -0.2157, -0.2157, -0.2157,\n",
       "          -0.2157, -0.2157, -0.2157, -0.2157, -0.2157, -0.2157, -0.2157],\n",
       "         [-0.2157, -0.2157, -0.2157, -0.2157, -0.2157, -0.2157, -0.2157,\n",
       "          -0.2157, -0.2157, -0.2157, -0.2157, -0.2157, -0.2157, -0.2157,\n",
       "          -0.2157, -0.2157, -0.2157, -0.2157, -0.2157, -0.2157, -0.2157,\n",
       "          -0.2157, -0.2157, -0.2157, -0.2157, -0.2157, -0.2157, -0.2157]]])"
      ]
     },
     "execution_count": 33,
     "metadata": {},
     "output_type": "execute_result"
    }
   ],
   "source": [
    "a = np.full((28, 28, 1), fill_value=100, dtype='uint8')\n",
    "print(a.shape)\n",
    "b = transform(a)\n",
    "b"
   ]
  },
  {
   "cell_type": "code",
   "execution_count": 34,
   "metadata": {},
   "outputs": [
    {
     "data": {
      "text/plain": [
       "-0.2157"
      ]
     },
     "execution_count": 34,
     "metadata": {},
     "output_type": "execute_result"
    }
   ],
   "source": [
    "# pixcel: 100 -> 0~1(pixcel/255: ToTensor()) -> (p - 평균 )/ 표준편차 : Normalize()\n",
    "np.round(((100/255)-0.5)/0.5, 4)"
   ]
  },
  {
   "cell_type": "code",
   "execution_count": 35,
   "metadata": {},
   "outputs": [
    {
     "data": {
      "text/plain": [
       "torch.Size([1, 28, 28])"
      ]
     },
     "execution_count": 35,
     "metadata": {},
     "output_type": "execute_result"
    }
   ],
   "source": [
    "b.shape# 채널이 앞으로 빠짐. 이건 ToTensor가 해준거임."
   ]
  },
  {
   "cell_type": "code",
   "execution_count": 36,
   "metadata": {},
   "outputs": [
    {
     "data": {
      "text/plain": [
       "(tensor(-1.), tensor(1.))"
      ]
     },
     "execution_count": 36,
     "metadata": {},
     "output_type": "execute_result"
    }
   ],
   "source": [
    "x, y = mnist_trainset_3[0]\n",
    "x.min(), x.max()"
   ]
  },
  {
   "cell_type": "code",
   "execution_count": 37,
   "metadata": {},
   "outputs": [],
   "source": [
    "# transforms.Normalize((0.485, 0.456, 0.406), (0.229, 0.224, 0.225))"
   ]
  },
  {
   "cell_type": "code",
   "execution_count": 38,
   "metadata": {},
   "outputs": [
    {
     "name": "stdout",
     "output_type": "stream",
     "text": [
      "Files already downloaded and verified\n"
     ]
    }
   ],
   "source": [
    "# Normalize 의 평균, 표준편차 설정: 모든 채널에 동일한 값을 지정할 경우 -> 값을 하나만 설정\n",
    "#                                 채널별로 다른 값을 지정할 겨우 -> 튜플에 채널별로 각각의 값을 설정\n",
    "transform = transforms.Compose([transforms.ToTensor(), # 0 ~ 1 로 정규화 (+torch.Tensor()변환, channel first)\n",
    "                                transforms.Normalize(mean=0.5, std=0.5)  #평균, 표준편차는 채널별로 설정\n",
    "                               ])\n",
    "\n",
    "cifar10_tainset_2 = datasets.CIFAR10(root=DATASET_PATH, train=True, download=True, \n",
    "#                             transform=transforms.ToTensor())\n",
    "                                     transform=transform) \n",
    "                                     # transform이면 (-1 ~ 1)사이로 나오고 ToTensor는 (0 ~ 1)로 나온다."
   ]
  },
  {
   "cell_type": "code",
   "execution_count": 39,
   "metadata": {},
   "outputs": [
    {
     "data": {
      "text/plain": [
       "(torch.Size([3, 32, 32]), tensor(-1.), tensor(1.), torch.float32)"
      ]
     },
     "execution_count": 39,
     "metadata": {},
     "output_type": "execute_result"
    }
   ],
   "source": [
    "x, y = cifar10_tainset_2[0]\n",
    "x.shape, x.min(), x.max(), x.dtype"
   ]
  },
  {
   "cell_type": "code",
   "execution_count": 40,
   "metadata": {},
   "outputs": [
    {
     "data": {
      "text/plain": [
       "(tensor(-1.), tensor(0.8431))"
      ]
     },
     "execution_count": 40,
     "metadata": {},
     "output_type": "execute_result"
    }
   ],
   "source": [
    "x[0].min(), x[0].max()\n",
    "x[1].min(), x[1].max()\n",
    "x[2].min(), x[2].max()"
   ]
  },
  {
   "cell_type": "code",
   "execution_count": null,
   "metadata": {},
   "outputs": [],
   "source": []
  },
  {
   "cell_type": "markdown",
   "metadata": {},
   "source": [
    "## DataLoader 생성\n",
    "\n",
    "- DataLoader\n",
    "    - 모델이 학습하거나 추론할 때 Dataset의 데이터를 모델에 제공해준다. (feeding)\n",
    "    - initalizer속성\n",
    "        - dataset: 값을 제공하는 Dataset 타입 객체\n",
    "        - batch_size: 한번에 값을 제공할 batch 크기\n",
    "        - shuffle: 에폭마다 데이터셋을 섞을 지 여부 (default: False)\n",
    "        - drop_last: 마지막 배치의 데이터개수가 batch_size 설정보다 적을 경우 모델에 제공하지 않는다.\n"
   ]
  },
  {
   "cell_type": "code",
   "execution_count": 41,
   "metadata": {},
   "outputs": [],
   "source": [
    "from torch.utils.data import DataLoader\n",
    "mnist_train_loader = DataLoader(dataset=mnist_trainset_3, # 이미지는 안되고 ToTensor로 변환되어야지 된다.\n",
    "                                batch_size=512, \n",
    "                                shuffle=True, \n",
    "                                drop_last=True\n",
    "                               )"
   ]
  },
  {
   "cell_type": "code",
   "execution_count": 42,
   "metadata": {},
   "outputs": [
    {
     "name": "stdout",
     "output_type": "stream",
     "text": [
      "에폭당 step수\n",
      "118.0 117.1875\n",
      "117\n"
     ]
    }
   ],
   "source": [
    "# 에폭당 step 수: 1에폭에 몇번 파라미터들을 업데이트하는지\n",
    "## 전체데이터개수/배치크기 -> 올림\n",
    "print(\"에폭당 step수\")\n",
    "print(np.ceil(60000/512), 60000/512)\n",
    "print(len(mnist_train_loader))"
   ]
  },
  {
   "cell_type": "code",
   "execution_count": 43,
   "metadata": {},
   "outputs": [
    {
     "name": "stdout",
     "output_type": "stream",
     "text": [
      "<class 'torchvision.datasets.mnist.MNIST'>\n"
     ]
    },
    {
     "data": {
      "text/plain": [
       "Dataset MNIST\n",
       "    Number of datapoints: 60000\n",
       "    Root location: datasets\n",
       "    Split: Train\n",
       "    StandardTransform\n",
       "Transform: Compose(\n",
       "               ToTensor()\n",
       "               Normalize(mean=(0.5,), std=(0.5,))\n",
       "           )"
      ]
     },
     "execution_count": 43,
     "metadata": {},
     "output_type": "execute_result"
    }
   ],
   "source": [
    "# DataLoader에서 Dataset 조회\n",
    "print(type(mnist_train_loader.dataset))\n",
    "mnist_train_loader.dataset"
   ]
  },
  {
   "cell_type": "code",
   "execution_count": 44,
   "metadata": {},
   "outputs": [],
   "source": [
    "# DataLoaer => Iterable\n",
    "batch_one = next(iter(mnist_train_loader))"
   ]
  },
  {
   "cell_type": "code",
   "execution_count": 45,
   "metadata": {},
   "outputs": [
    {
     "data": {
      "text/plain": [
       "list"
      ]
     },
     "execution_count": 45,
     "metadata": {},
     "output_type": "execute_result"
    }
   ],
   "source": [
    "type(batch_one) # list [X, y]"
   ]
  },
  {
   "cell_type": "code",
   "execution_count": 46,
   "metadata": {},
   "outputs": [],
   "source": [
    "X = batch_one[0]\n",
    "y = batch_one[1]"
   ]
  },
  {
   "cell_type": "code",
   "execution_count": 47,
   "metadata": {},
   "outputs": [
    {
     "data": {
      "text/plain": [
       "torch.Size([512, 1, 28, 28])"
      ]
     },
     "execution_count": 47,
     "metadata": {},
     "output_type": "execute_result"
    }
   ],
   "source": [
    "X.shape  #(batch_size,  channel,  height, width)"
   ]
  },
  {
   "cell_type": "code",
   "execution_count": 48,
   "metadata": {},
   "outputs": [
    {
     "data": {
      "text/plain": [
       "torch.Size([512])"
      ]
     },
     "execution_count": 48,
     "metadata": {},
     "output_type": "execute_result"
    }
   ],
   "source": [
    "y.shape"
   ]
  },
  {
   "cell_type": "code",
   "execution_count": null,
   "metadata": {},
   "outputs": [],
   "source": []
  },
  {
   "cell_type": "markdown",
   "metadata": {},
   "source": [
    "## Custom Dataset 구현\n",
    "\n",
    "1. `torch.utils.data.Dataset` 클래스를 상속한 클래스를 정의한다.\n",
    "2. `__init__(self, ...)` \n",
    "    - DataSet객체 생성시 필요한 설정들을 초기화 한다. \n",
    "    - ex) Data저장 경로, transform 설정 여부 등\n",
    "3. `__len__(self)`\n",
    "    - 총 데이터 수를 반환하도록 구현한다.\n",
    "    - DataLoader가 Batch 생성할 때 사용한다.\n",
    "4. `__getitem__(self, index)`\n",
    "    - index의 Data point를 반환한다.\n",
    "    - input(X), output(y) 를 튜플로 반환한다.\n",
    "    - transform이 있을 경우 변환처리한 input을 반환한다."
   ]
  },
  {
   "cell_type": "code",
   "execution_count": 49,
   "metadata": {},
   "outputs": [],
   "source": [
    "# subscriptable type 의 클래스\n",
    "class Test:\n",
    "    \n",
    "    def __len__(self):\n",
    "        return 3\n",
    "    \n",
    "    def __getitem__(self, idx):\n",
    "        if idx == 0 or idx == '가':\n",
    "            return 'A'\n",
    "        elif idx == 1:\n",
    "            return 'B'\n",
    "        elif idx==2:\n",
    "            return 'C'\n",
    "        else:\n",
    "            raise IndexError(f\"없는 INDEX입니다. 크기는 {self.__len__()}\")"
   ]
  },
  {
   "cell_type": "code",
   "execution_count": 50,
   "metadata": {},
   "outputs": [
    {
     "name": "stdout",
     "output_type": "stream",
     "text": [
      "3\n",
      "A A\n"
     ]
    }
   ],
   "source": [
    "t = Test()\n",
    "print(len(t))\n",
    "# print(t[6])\n",
    "print(t[0], t['가'])"
   ]
  },
  {
   "cell_type": "code",
   "execution_count": 51,
   "metadata": {},
   "outputs": [
    {
     "name": "stdout",
     "output_type": "stream",
     "text": [
      "A\n",
      "B\n",
      "C\n"
     ]
    }
   ],
   "source": [
    "for i in t:\n",
    "    print(i)"
   ]
  },
  {
   "cell_type": "markdown",
   "metadata": {},
   "source": [
    "# OxfordPet Dataset 생성\n",
    "- https://www.robots.ox.ac.uk/~vgg/data/pets/\n",
    "- 개,고양이 37가지 품종\n",
    "- 품종별로 200장 정도씩 구성됨. (품종별로 이미지 개수는 다르다)\n",
    "\n",
    "- 목표\n",
    "    - train: 70%, validation: 20%, test: 10%"
   ]
  },
  {
   "cell_type": "code",
   "execution_count": 52,
   "metadata": {},
   "outputs": [
    {
     "name": "stdout",
     "output_type": "stream",
     "text": [
      "train: 140.0 valid: 40.0 test: 나머지\n"
     ]
    }
   ],
   "source": [
    "# 품종별 데이터 200장\n",
    "print(\"train:\", 200*0.7, \"valid:\", 200*0.2, \"test: 나머지\")"
   ]
  },
  {
   "cell_type": "code",
   "execution_count": 53,
   "metadata": {},
   "outputs": [],
   "source": [
    "import os\n",
    "import re\n",
    "from glob import glob\n",
    "import tarfile\n",
    "from PIL import Image"
   ]
  },
  {
   "cell_type": "code",
   "execution_count": 54,
   "metadata": {},
   "outputs": [],
   "source": [
    "tar_file_path = \"images.tar.gz\"\n",
    "data_root_path = \"datasets/oxfordpet\"  # 압축풀 디렉토리 경로\n",
    "os.makedirs(data_root_path, exist_ok=True)"
   ]
  },
  {
   "cell_type": "code",
   "execution_count": 55,
   "metadata": {},
   "outputs": [],
   "source": [
    "# from zipfile import ZipFile\n",
    "# with ZipFile(파일경로) as z:\n",
    "#     z.extractall(풀경로)"
   ]
  },
  {
   "cell_type": "code",
   "execution_count": 56,
   "metadata": {},
   "outputs": [],
   "source": [
    "# 압축풀기\n",
    "with tarfile.open(tar_file_path, \"r:gz\") as tar:\n",
    "    tar.extractall(data_root_path)  # data_root_path 경로에 압축을 푼다. (생략하면 현재디렉토리에 품)"
   ]
  },
  {
   "cell_type": "code",
   "execution_count": 57,
   "metadata": {},
   "outputs": [],
   "source": [
    "# tar = tarfile.open()\n",
    "# tar.extractall()\n",
    "# tar.close()"
   ]
  },
  {
   "cell_type": "code",
   "execution_count": 58,
   "metadata": {},
   "outputs": [
    {
     "data": {
      "text/plain": [
       "'datasets/oxfordpet\\\\images'"
      ]
     },
     "execution_count": 58,
     "metadata": {},
     "output_type": "execute_result"
    }
   ],
   "source": [
    "# 이미지들이 저장되 있는 경로\n",
    "data_path = os.path.join(data_root_path, 'images')\n",
    "# 각 이미지의 경로를 리스트로 저장.\n",
    "data_path"
   ]
  },
  {
   "cell_type": "code",
   "execution_count": 60,
   "metadata": {},
   "outputs": [
    {
     "data": {
      "text/plain": [
       "7390"
      ]
     },
     "execution_count": 60,
     "metadata": {},
     "output_type": "execute_result"
    }
   ],
   "source": [
    "# os.listdir('datasets/oxfordpet')\n",
    "# **: 모든 하위 디렉토리 (디렉토리 경로에 넣어준다.\n",
    "# * : 모든 글자\n",
    "###### 모든 이미지파일들의 개별 경로\n",
    "file_list = glob(r\"datasets\\oxfordpet\\**\\*.jpg\")\n",
    "len(file_list)"
   ]
  },
  {
   "cell_type": "code",
   "execution_count": 61,
   "metadata": {},
   "outputs": [
    {
     "name": "stdout",
     "output_type": "stream",
     "text": [
      "datasets\\oxfordpet\\images\\Abyssinian_1.jpg\n",
      "파일경로에서 확장자를 분리: ('datasets\\\\oxfordpet\\\\images\\\\Abyssinian_1', '.jpg')\n",
      "파일경로에서 파일명을 분리: Abyssinian_1.jpg\n",
      "파일경로에서 디렉토리 경로를 분리: datasets\\oxfordpet\\images\n"
     ]
    }
   ],
   "source": [
    "f = file_list[0]\n",
    "print(f)\n",
    "print(\"파일경로에서 확장자를 분리:\", os.path.splitext(f))\n",
    "print(\"파일경로에서 파일명을 분리:\", os.path.basename(f))   # 파일명.확장자\n",
    "print(\"파일경로에서 디렉토리 경로를 분리:\", os.path.dirname(f))"
   ]
  },
  {
   "cell_type": "code",
   "execution_count": 62,
   "metadata": {},
   "outputs": [
    {
     "data": {
      "text/plain": [
       "['datasets\\\\oxfordpet\\\\images\\\\Abyssinian_1.jpg',\n",
       " 'datasets\\\\oxfordpet\\\\images\\\\Abyssinian_10.jpg',\n",
       " 'datasets\\\\oxfordpet\\\\images\\\\Abyssinian_100.jpg',\n",
       " 'datasets\\\\oxfordpet\\\\images\\\\Abyssinian_101.jpg',\n",
       " 'datasets\\\\oxfordpet\\\\images\\\\Abyssinian_102.jpg']"
      ]
     },
     "execution_count": 62,
     "metadata": {},
     "output_type": "execute_result"
    }
   ],
   "source": [
    "file_list[:5]"
   ]
  },
  {
   "cell_type": "code",
   "execution_count": 63,
   "metadata": {},
   "outputs": [
    {
     "name": "stdout",
     "output_type": "stream",
     "text": [
      "136번째 이미지 삭제. Abyssinian_34.jpg, mode: P\n",
      "148번째 이미지 삭제. Abyssinian_5.jpg, mode: RGBA\n",
      "2233번째 이미지 삭제. Egyptian_Mau_129.jpg, mode: L\n",
      "2242번째 이미지 삭제. Egyptian_Mau_139.jpg, mode: P\n",
      "2243번째 이미지 삭제. Egyptian_Mau_14.jpg, mode: RGBA\n",
      "2249번째 이미지 삭제. Egyptian_Mau_145.jpg, mode: P\n",
      "2270번째 이미지 삭제. Egyptian_Mau_167.jpg, mode: P\n",
      "2279번째 이미지 삭제. Egyptian_Mau_177.jpg, mode: P\n",
      "2289번째 이미지 삭제. Egyptian_Mau_186.jpg, mode: RGBA\n",
      "2295번째 이미지 삭제. Egyptian_Mau_191.jpg, mode: P\n",
      "6899번째 이미지 삭제. staffordshire_bull_terrier_2.jpg, mode: L\n",
      "6905번째 이미지 삭제. staffordshire_bull_terrier_22.jpg, mode: L\n"
     ]
    }
   ],
   "source": [
    "# 이미지들에서 RGB 컬러이미지를 제외한 나머지 색모드 파일들을 제거\n",
    "remove_cnt = 0 # 몇장 삭제했는지 저장\n",
    "for idx, image_path in enumerate(file_list):\n",
    "    # 이미지 읽기 -> PIL.Image 사용\n",
    "    with Image.open(image_path) as image:\n",
    "        image_mode = image.mode #str: L - grayscale, 'RGB': rgb, ..\n",
    "    \n",
    "    if image_mode != \"RGB\":\n",
    "        # 삭제\n",
    "        os.remove(image_path)\n",
    "        remove_cnt += 1\n",
    "        print(f\"{idx}번째 이미지 삭제. {os.path.basename(image_path)}, mode: {image_mode}\")"
   ]
  },
  {
   "cell_type": "code",
   "execution_count": 64,
   "metadata": {},
   "outputs": [
    {
     "data": {
      "text/plain": [
       "12"
      ]
     },
     "execution_count": 64,
     "metadata": {},
     "output_type": "execute_result"
    }
   ],
   "source": [
    "remove_cnt"
   ]
  },
  {
   "cell_type": "code",
   "execution_count": 65,
   "metadata": {},
   "outputs": [
    {
     "data": {
      "text/plain": [
       "7378"
      ]
     },
     "execution_count": 65,
     "metadata": {},
     "output_type": "execute_result"
    }
   ],
   "source": [
    "# 삭제후에 파일리스트를 다시 만들기.\n",
    "file_list = glob(r\"datasets\\oxfordpet\\**\\*.jpg\")\n",
    "len(file_list)"
   ]
  },
  {
   "cell_type": "code",
   "execution_count": null,
   "metadata": {},
   "outputs": [],
   "source": []
  },
  {
   "cell_type": "markdown",
   "metadata": {},
   "source": [
    "### index_to_class, class_to_index 생성\n",
    "- index_to_class : class들을 가지는 리스트. index(0, 1, ..)로 class 조회\n",
    "- class_to_index : key: 클래스이름, value: index -> class이름 넣으면 index 반환\n",
    "- 파일명이 class"
   ]
  },
  {
   "cell_type": "code",
   "execution_count": null,
   "metadata": {},
   "outputs": [],
   "source": []
  },
  {
   "cell_type": "code",
   "execution_count": 66,
   "metadata": {},
   "outputs": [],
   "source": [
    "class_name_set = set()\n",
    "# file_list에서 파일명을 추출한 뒤에 class_name_set에 추가.\n",
    "for path in file_list:\n",
    "\n",
    "    filename = os.path.basename(path) #'datasets\\\\oxfordpet\\\\images\\\\Abyssinian_1.jpg' -> Abyssinian_1.jpg\n",
    "    filename2 = os.path.splitext(filename)[0]    # Abyssinian_1.jpg -> (Abyssinian_1,  .jpg)\n",
    "    class_name = re.sub(r\"_\\d+\", \"\", filename2)  #Abyssinian_1 => Abyssinian\n",
    "    class_name_set.add(class_name)"
   ]
  },
  {
   "cell_type": "code",
   "execution_count": 67,
   "metadata": {},
   "outputs": [],
   "source": [
    "index_to_class = list(class_name_set)\n",
    "index_to_class.sort()"
   ]
  },
  {
   "cell_type": "code",
   "execution_count": 68,
   "metadata": {
    "scrolled": true
   },
   "outputs": [
    {
     "data": {
      "text/plain": [
       "['Abyssinian',\n",
       " 'Bengal',\n",
       " 'Birman',\n",
       " 'Bombay',\n",
       " 'British_Shorthair',\n",
       " 'Egyptian_Mau',\n",
       " 'Maine_Coon',\n",
       " 'Persian',\n",
       " 'Ragdoll',\n",
       " 'Russian_Blue',\n",
       " 'Siamese',\n",
       " 'Sphynx',\n",
       " 'american_bulldog',\n",
       " 'american_pit_bull_terrier',\n",
       " 'basset_hound',\n",
       " 'beagle',\n",
       " 'boxer',\n",
       " 'chihuahua',\n",
       " 'english_cocker_spaniel',\n",
       " 'english_setter',\n",
       " 'german_shorthaired',\n",
       " 'great_pyrenees',\n",
       " 'havanese',\n",
       " 'japanese_chin',\n",
       " 'keeshond',\n",
       " 'leonberger',\n",
       " 'miniature_pinscher',\n",
       " 'newfoundland',\n",
       " 'pomeranian',\n",
       " 'pug',\n",
       " 'saint_bernard',\n",
       " 'samoyed',\n",
       " 'scottish_terrier',\n",
       " 'shiba_inu',\n",
       " 'staffordshire_bull_terrier',\n",
       " 'wheaten_terrier',\n",
       " 'yorkshire_terrier']"
      ]
     },
     "execution_count": 68,
     "metadata": {},
     "output_type": "execute_result"
    }
   ],
   "source": [
    "index_to_class"
   ]
  },
  {
   "cell_type": "code",
   "execution_count": 69,
   "metadata": {},
   "outputs": [
    {
     "data": {
      "text/plain": [
       "37"
      ]
     },
     "execution_count": 69,
     "metadata": {},
     "output_type": "execute_result"
    }
   ],
   "source": [
    "len(index_to_class)"
   ]
  },
  {
   "cell_type": "code",
   "execution_count": 70,
   "metadata": {
    "scrolled": true
   },
   "outputs": [
    {
     "data": {
      "text/plain": [
       "{'Abyssinian': 0,\n",
       " 'Bengal': 1,\n",
       " 'Birman': 2,\n",
       " 'Bombay': 3,\n",
       " 'British_Shorthair': 4,\n",
       " 'Egyptian_Mau': 5,\n",
       " 'Maine_Coon': 6,\n",
       " 'Persian': 7,\n",
       " 'Ragdoll': 8,\n",
       " 'Russian_Blue': 9,\n",
       " 'Siamese': 10,\n",
       " 'Sphynx': 11,\n",
       " 'american_bulldog': 12,\n",
       " 'american_pit_bull_terrier': 13,\n",
       " 'basset_hound': 14,\n",
       " 'beagle': 15,\n",
       " 'boxer': 16,\n",
       " 'chihuahua': 17,\n",
       " 'english_cocker_spaniel': 18,\n",
       " 'english_setter': 19,\n",
       " 'german_shorthaired': 20,\n",
       " 'great_pyrenees': 21,\n",
       " 'havanese': 22,\n",
       " 'japanese_chin': 23,\n",
       " 'keeshond': 24,\n",
       " 'leonberger': 25,\n",
       " 'miniature_pinscher': 26,\n",
       " 'newfoundland': 27,\n",
       " 'pomeranian': 28,\n",
       " 'pug': 29,\n",
       " 'saint_bernard': 30,\n",
       " 'samoyed': 31,\n",
       " 'scottish_terrier': 32,\n",
       " 'shiba_inu': 33,\n",
       " 'staffordshire_bull_terrier': 34,\n",
       " 'wheaten_terrier': 35,\n",
       " 'yorkshire_terrier': 36}"
      ]
     },
     "execution_count": 70,
     "metadata": {},
     "output_type": "execute_result"
    }
   ],
   "source": [
    "# 클래스이름 -> class(숫자) ==> dictionary\n",
    "class_to_index = {name:idx for idx, name in  enumerate(index_to_class)}\n",
    "class_to_index"
   ]
  },
  {
   "cell_type": "code",
   "execution_count": 71,
   "metadata": {},
   "outputs": [
    {
     "data": {
      "text/plain": [
       "('Bombay', 3)"
      ]
     },
     "execution_count": 71,
     "metadata": {},
     "output_type": "execute_result"
    }
   ],
   "source": [
    "index_to_class[3], class_to_index['Bombay']"
   ]
  },
  {
   "cell_type": "code",
   "execution_count": 72,
   "metadata": {},
   "outputs": [
    {
     "name": "stdout",
     "output_type": "stream",
     "text": [
      "140 180\n",
      "trainset: [0:140]\n",
      "valid_set: [140:180]\n",
      "test_set: [180:]\n"
     ]
    }
   ],
   "source": [
    "# 분리\n",
    "train_index  = int(200 * 0.7)  # trainset 개수\n",
    "valid_index = train_index + int(200 * 0.2)\n",
    "print(train_index, valid_index)\n",
    "print(f\"trainset: [0:{train_index}]\")\n",
    "print(f\"valid_set: [{train_index}:{valid_index}]\")\n",
    "print(f\"test_set: [{valid_index}:]\")"
   ]
  },
  {
   "cell_type": "code",
   "execution_count": 73,
   "metadata": {},
   "outputs": [],
   "source": [
    "# file_list"
   ]
  },
  {
   "cell_type": "code",
   "execution_count": 74,
   "metadata": {},
   "outputs": [],
   "source": [
    "# trainset, valid_set, test_set 분리\n",
    "### 각 dataset에 들어갈 파일들의 경로를 저장할 리스트.\n",
    "\n",
    "file_list.sort() # 파일경로를 같은 클래스끼리 group 화 되로록 정렬.\n",
    "\n",
    "train_path_list, valid_path_list, test_path_list = [],  [], []\n",
    "\n",
    "cnt = 0  # class별 현재 몇번째 데이터인지.\n",
    "previous_class = \"\" # 이전 처리한 class의 이름.\n",
    "\n",
    "for path in file_list:\n",
    "    # 경로에서 파일명만 추출\n",
    "    file_name = os.path.splitext(os.path.basename(path))[0]\n",
    "    class_name = re.sub(r'_\\d+', '', file_name)\n",
    "    \n",
    "    if previous_class == class_name: #작업중인 class?\n",
    "        cnt += 1\n",
    "    else:  # 새로운 class에 대한 작업시작\n",
    "        cnt = 1\n",
    "        \n",
    "    if cnt <= train_index: # 현재 작업하는 cnt가 train index보다 작다면 train set에 들어갈 이미지.\n",
    "        train_path_list.append(path)\n",
    "    elif train_index < cnt and valid_index >= cnt: # validation set 에 들어갈 이미지\n",
    "        valid_path_list.append(path)\n",
    "    else:\n",
    "        test_path_list.append(path)\n",
    "    \n",
    "    previous_class = class_name # 현재 처리한 파일의 class이름을 previous_class에 설정.\n",
    "        "
   ]
  },
  {
   "cell_type": "code",
   "execution_count": 75,
   "metadata": {},
   "outputs": [
    {
     "data": {
      "text/plain": [
       "(5180, 1480, 718)"
      ]
     },
     "execution_count": 75,
     "metadata": {},
     "output_type": "execute_result"
    }
   ],
   "source": [
    "len(train_path_list), len(valid_path_list), len(test_path_list)"
   ]
  },
  {
   "cell_type": "code",
   "execution_count": 76,
   "metadata": {
    "scrolled": true
   },
   "outputs": [
    {
     "data": {
      "text/plain": [
       "['datasets\\\\oxfordpet\\\\images\\\\Abyssinian_83.jpg',\n",
       " 'datasets\\\\oxfordpet\\\\images\\\\Abyssinian_84.jpg',\n",
       " 'datasets\\\\oxfordpet\\\\images\\\\Abyssinian_85.jpg',\n",
       " 'datasets\\\\oxfordpet\\\\images\\\\Abyssinian_86.jpg',\n",
       " 'datasets\\\\oxfordpet\\\\images\\\\Abyssinian_87.jpg',\n",
       " 'datasets\\\\oxfordpet\\\\images\\\\Abyssinian_88.jpg',\n",
       " 'datasets\\\\oxfordpet\\\\images\\\\Abyssinian_89.jpg',\n",
       " 'datasets\\\\oxfordpet\\\\images\\\\Abyssinian_9.jpg',\n",
       " 'datasets\\\\oxfordpet\\\\images\\\\Abyssinian_90.jpg',\n",
       " 'datasets\\\\oxfordpet\\\\images\\\\Abyssinian_91.jpg',\n",
       " 'datasets\\\\oxfordpet\\\\images\\\\Abyssinian_92.jpg',\n",
       " 'datasets\\\\oxfordpet\\\\images\\\\Abyssinian_93.jpg',\n",
       " 'datasets\\\\oxfordpet\\\\images\\\\Abyssinian_94.jpg',\n",
       " 'datasets\\\\oxfordpet\\\\images\\\\Abyssinian_95.jpg',\n",
       " 'datasets\\\\oxfordpet\\\\images\\\\Abyssinian_96.jpg',\n",
       " 'datasets\\\\oxfordpet\\\\images\\\\Abyssinian_97.jpg',\n",
       " 'datasets\\\\oxfordpet\\\\images\\\\Abyssinian_98.jpg',\n",
       " 'datasets\\\\oxfordpet\\\\images\\\\Abyssinian_99.jpg',\n",
       " 'datasets\\\\oxfordpet\\\\images\\\\Bengal_81.jpg',\n",
       " 'datasets\\\\oxfordpet\\\\images\\\\Bengal_82.jpg',\n",
       " 'datasets\\\\oxfordpet\\\\images\\\\Bengal_83.jpg',\n",
       " 'datasets\\\\oxfordpet\\\\images\\\\Bengal_84.jpg',\n",
       " 'datasets\\\\oxfordpet\\\\images\\\\Bengal_85.jpg',\n",
       " 'datasets\\\\oxfordpet\\\\images\\\\Bengal_86.jpg',\n",
       " 'datasets\\\\oxfordpet\\\\images\\\\Bengal_87.jpg',\n",
       " 'datasets\\\\oxfordpet\\\\images\\\\Bengal_88.jpg',\n",
       " 'datasets\\\\oxfordpet\\\\images\\\\Bengal_89.jpg',\n",
       " 'datasets\\\\oxfordpet\\\\images\\\\Bengal_9.jpg',\n",
       " 'datasets\\\\oxfordpet\\\\images\\\\Bengal_90.jpg',\n",
       " 'datasets\\\\oxfordpet\\\\images\\\\Bengal_91.jpg',\n",
       " 'datasets\\\\oxfordpet\\\\images\\\\Bengal_92.jpg',\n",
       " 'datasets\\\\oxfordpet\\\\images\\\\Bengal_93.jpg',\n",
       " 'datasets\\\\oxfordpet\\\\images\\\\Bengal_94.jpg',\n",
       " 'datasets\\\\oxfordpet\\\\images\\\\Bengal_95.jpg',\n",
       " 'datasets\\\\oxfordpet\\\\images\\\\Bengal_96.jpg',\n",
       " 'datasets\\\\oxfordpet\\\\images\\\\Bengal_97.jpg',\n",
       " 'datasets\\\\oxfordpet\\\\images\\\\Bengal_98.jpg',\n",
       " 'datasets\\\\oxfordpet\\\\images\\\\Bengal_99.jpg',\n",
       " 'datasets\\\\oxfordpet\\\\images\\\\Birman_81.jpg',\n",
       " 'datasets\\\\oxfordpet\\\\images\\\\Birman_82.jpg',\n",
       " 'datasets\\\\oxfordpet\\\\images\\\\Birman_83.jpg',\n",
       " 'datasets\\\\oxfordpet\\\\images\\\\Birman_84.jpg',\n",
       " 'datasets\\\\oxfordpet\\\\images\\\\Birman_85.jpg',\n",
       " 'datasets\\\\oxfordpet\\\\images\\\\Birman_86.jpg',\n",
       " 'datasets\\\\oxfordpet\\\\images\\\\Birman_87.jpg',\n",
       " 'datasets\\\\oxfordpet\\\\images\\\\Birman_88.jpg',\n",
       " 'datasets\\\\oxfordpet\\\\images\\\\Birman_89.jpg',\n",
       " 'datasets\\\\oxfordpet\\\\images\\\\Birman_9.jpg',\n",
       " 'datasets\\\\oxfordpet\\\\images\\\\Birman_90.jpg',\n",
       " 'datasets\\\\oxfordpet\\\\images\\\\Birman_91.jpg',\n",
       " 'datasets\\\\oxfordpet\\\\images\\\\Birman_92.jpg',\n",
       " 'datasets\\\\oxfordpet\\\\images\\\\Birman_93.jpg',\n",
       " 'datasets\\\\oxfordpet\\\\images\\\\Birman_94.jpg',\n",
       " 'datasets\\\\oxfordpet\\\\images\\\\Birman_95.jpg',\n",
       " 'datasets\\\\oxfordpet\\\\images\\\\Birman_96.jpg',\n",
       " 'datasets\\\\oxfordpet\\\\images\\\\Birman_97.jpg',\n",
       " 'datasets\\\\oxfordpet\\\\images\\\\Birman_98.jpg',\n",
       " 'datasets\\\\oxfordpet\\\\images\\\\Birman_99.jpg',\n",
       " 'datasets\\\\oxfordpet\\\\images\\\\Bombay_81.jpg',\n",
       " 'datasets\\\\oxfordpet\\\\images\\\\Bombay_82.jpg',\n",
       " 'datasets\\\\oxfordpet\\\\images\\\\Bombay_83.jpg',\n",
       " 'datasets\\\\oxfordpet\\\\images\\\\Bombay_84.jpg',\n",
       " 'datasets\\\\oxfordpet\\\\images\\\\Bombay_85.jpg',\n",
       " 'datasets\\\\oxfordpet\\\\images\\\\Bombay_86.jpg',\n",
       " 'datasets\\\\oxfordpet\\\\images\\\\Bombay_87.jpg',\n",
       " 'datasets\\\\oxfordpet\\\\images\\\\Bombay_88.jpg',\n",
       " 'datasets\\\\oxfordpet\\\\images\\\\Bombay_89.jpg',\n",
       " 'datasets\\\\oxfordpet\\\\images\\\\Bombay_9.jpg',\n",
       " 'datasets\\\\oxfordpet\\\\images\\\\Bombay_90.jpg',\n",
       " 'datasets\\\\oxfordpet\\\\images\\\\Bombay_91.jpg',\n",
       " 'datasets\\\\oxfordpet\\\\images\\\\Bombay_92.jpg',\n",
       " 'datasets\\\\oxfordpet\\\\images\\\\Bombay_93.jpg',\n",
       " 'datasets\\\\oxfordpet\\\\images\\\\Bombay_94.jpg',\n",
       " 'datasets\\\\oxfordpet\\\\images\\\\Bombay_95.jpg',\n",
       " 'datasets\\\\oxfordpet\\\\images\\\\Bombay_96.jpg',\n",
       " 'datasets\\\\oxfordpet\\\\images\\\\Bombay_97.jpg',\n",
       " 'datasets\\\\oxfordpet\\\\images\\\\Bombay_98.jpg',\n",
       " 'datasets\\\\oxfordpet\\\\images\\\\Bombay_99.jpg',\n",
       " 'datasets\\\\oxfordpet\\\\images\\\\British_Shorthair_8.jpg',\n",
       " 'datasets\\\\oxfordpet\\\\images\\\\British_Shorthair_82.jpg',\n",
       " 'datasets\\\\oxfordpet\\\\images\\\\British_Shorthair_83.jpg',\n",
       " 'datasets\\\\oxfordpet\\\\images\\\\British_Shorthair_84.jpg',\n",
       " 'datasets\\\\oxfordpet\\\\images\\\\British_Shorthair_85.jpg',\n",
       " 'datasets\\\\oxfordpet\\\\images\\\\British_Shorthair_86.jpg',\n",
       " 'datasets\\\\oxfordpet\\\\images\\\\British_Shorthair_87.jpg',\n",
       " 'datasets\\\\oxfordpet\\\\images\\\\British_Shorthair_88.jpg',\n",
       " 'datasets\\\\oxfordpet\\\\images\\\\British_Shorthair_89.jpg',\n",
       " 'datasets\\\\oxfordpet\\\\images\\\\British_Shorthair_9.jpg',\n",
       " 'datasets\\\\oxfordpet\\\\images\\\\British_Shorthair_90.jpg',\n",
       " 'datasets\\\\oxfordpet\\\\images\\\\British_Shorthair_91.jpg',\n",
       " 'datasets\\\\oxfordpet\\\\images\\\\British_Shorthair_92.jpg',\n",
       " 'datasets\\\\oxfordpet\\\\images\\\\British_Shorthair_93.jpg',\n",
       " 'datasets\\\\oxfordpet\\\\images\\\\British_Shorthair_94.jpg',\n",
       " 'datasets\\\\oxfordpet\\\\images\\\\British_Shorthair_95.jpg',\n",
       " 'datasets\\\\oxfordpet\\\\images\\\\British_Shorthair_96.jpg',\n",
       " 'datasets\\\\oxfordpet\\\\images\\\\British_Shorthair_97.jpg',\n",
       " 'datasets\\\\oxfordpet\\\\images\\\\British_Shorthair_98.jpg',\n",
       " 'datasets\\\\oxfordpet\\\\images\\\\British_Shorthair_99.jpg',\n",
       " 'datasets\\\\oxfordpet\\\\images\\\\Egyptian_Mau_89.jpg',\n",
       " 'datasets\\\\oxfordpet\\\\images\\\\Egyptian_Mau_9.jpg',\n",
       " 'datasets\\\\oxfordpet\\\\images\\\\Egyptian_Mau_90.jpg',\n",
       " 'datasets\\\\oxfordpet\\\\images\\\\Egyptian_Mau_91.jpg',\n",
       " 'datasets\\\\oxfordpet\\\\images\\\\Egyptian_Mau_92.jpg',\n",
       " 'datasets\\\\oxfordpet\\\\images\\\\Egyptian_Mau_93.jpg',\n",
       " 'datasets\\\\oxfordpet\\\\images\\\\Egyptian_Mau_94.jpg',\n",
       " 'datasets\\\\oxfordpet\\\\images\\\\Egyptian_Mau_95.jpg',\n",
       " 'datasets\\\\oxfordpet\\\\images\\\\Egyptian_Mau_96.jpg',\n",
       " 'datasets\\\\oxfordpet\\\\images\\\\Egyptian_Mau_97.jpg',\n",
       " 'datasets\\\\oxfordpet\\\\images\\\\Egyptian_Mau_98.jpg',\n",
       " 'datasets\\\\oxfordpet\\\\images\\\\Egyptian_Mau_99.jpg',\n",
       " 'datasets\\\\oxfordpet\\\\images\\\\Maine_Coon_79.jpg',\n",
       " 'datasets\\\\oxfordpet\\\\images\\\\Maine_Coon_8.jpg',\n",
       " 'datasets\\\\oxfordpet\\\\images\\\\Maine_Coon_80.jpg',\n",
       " 'datasets\\\\oxfordpet\\\\images\\\\Maine_Coon_81.jpg',\n",
       " 'datasets\\\\oxfordpet\\\\images\\\\Maine_Coon_82.jpg',\n",
       " 'datasets\\\\oxfordpet\\\\images\\\\Maine_Coon_83.jpg',\n",
       " 'datasets\\\\oxfordpet\\\\images\\\\Maine_Coon_84.jpg',\n",
       " 'datasets\\\\oxfordpet\\\\images\\\\Maine_Coon_85.jpg',\n",
       " 'datasets\\\\oxfordpet\\\\images\\\\Maine_Coon_87.jpg',\n",
       " 'datasets\\\\oxfordpet\\\\images\\\\Maine_Coon_89.jpg',\n",
       " 'datasets\\\\oxfordpet\\\\images\\\\Maine_Coon_9.jpg',\n",
       " 'datasets\\\\oxfordpet\\\\images\\\\Maine_Coon_91.jpg',\n",
       " 'datasets\\\\oxfordpet\\\\images\\\\Maine_Coon_92.jpg',\n",
       " 'datasets\\\\oxfordpet\\\\images\\\\Maine_Coon_93.jpg',\n",
       " 'datasets\\\\oxfordpet\\\\images\\\\Maine_Coon_94.jpg',\n",
       " 'datasets\\\\oxfordpet\\\\images\\\\Maine_Coon_95.jpg',\n",
       " 'datasets\\\\oxfordpet\\\\images\\\\Maine_Coon_96.jpg',\n",
       " 'datasets\\\\oxfordpet\\\\images\\\\Maine_Coon_97.jpg',\n",
       " 'datasets\\\\oxfordpet\\\\images\\\\Maine_Coon_98.jpg',\n",
       " 'datasets\\\\oxfordpet\\\\images\\\\Maine_Coon_99.jpg',\n",
       " 'datasets\\\\oxfordpet\\\\images\\\\Persian_79.jpg',\n",
       " 'datasets\\\\oxfordpet\\\\images\\\\Persian_8.jpg',\n",
       " 'datasets\\\\oxfordpet\\\\images\\\\Persian_80.jpg',\n",
       " 'datasets\\\\oxfordpet\\\\images\\\\Persian_81.jpg',\n",
       " 'datasets\\\\oxfordpet\\\\images\\\\Persian_82.jpg',\n",
       " 'datasets\\\\oxfordpet\\\\images\\\\Persian_83.jpg',\n",
       " 'datasets\\\\oxfordpet\\\\images\\\\Persian_84.jpg',\n",
       " 'datasets\\\\oxfordpet\\\\images\\\\Persian_85.jpg',\n",
       " 'datasets\\\\oxfordpet\\\\images\\\\Persian_86.jpg',\n",
       " 'datasets\\\\oxfordpet\\\\images\\\\Persian_87.jpg',\n",
       " 'datasets\\\\oxfordpet\\\\images\\\\Persian_88.jpg',\n",
       " 'datasets\\\\oxfordpet\\\\images\\\\Persian_89.jpg',\n",
       " 'datasets\\\\oxfordpet\\\\images\\\\Persian_9.jpg',\n",
       " 'datasets\\\\oxfordpet\\\\images\\\\Persian_90.jpg',\n",
       " 'datasets\\\\oxfordpet\\\\images\\\\Persian_91.jpg',\n",
       " 'datasets\\\\oxfordpet\\\\images\\\\Persian_94.jpg',\n",
       " 'datasets\\\\oxfordpet\\\\images\\\\Persian_95.jpg',\n",
       " 'datasets\\\\oxfordpet\\\\images\\\\Persian_97.jpg',\n",
       " 'datasets\\\\oxfordpet\\\\images\\\\Persian_98.jpg',\n",
       " 'datasets\\\\oxfordpet\\\\images\\\\Persian_99.jpg',\n",
       " 'datasets\\\\oxfordpet\\\\images\\\\Ragdoll_81.jpg',\n",
       " 'datasets\\\\oxfordpet\\\\images\\\\Ragdoll_82.jpg',\n",
       " 'datasets\\\\oxfordpet\\\\images\\\\Ragdoll_83.jpg',\n",
       " 'datasets\\\\oxfordpet\\\\images\\\\Ragdoll_84.jpg',\n",
       " 'datasets\\\\oxfordpet\\\\images\\\\Ragdoll_85.jpg',\n",
       " 'datasets\\\\oxfordpet\\\\images\\\\Ragdoll_86.jpg',\n",
       " 'datasets\\\\oxfordpet\\\\images\\\\Ragdoll_87.jpg',\n",
       " 'datasets\\\\oxfordpet\\\\images\\\\Ragdoll_88.jpg',\n",
       " 'datasets\\\\oxfordpet\\\\images\\\\Ragdoll_89.jpg',\n",
       " 'datasets\\\\oxfordpet\\\\images\\\\Ragdoll_9.jpg',\n",
       " 'datasets\\\\oxfordpet\\\\images\\\\Ragdoll_90.jpg',\n",
       " 'datasets\\\\oxfordpet\\\\images\\\\Ragdoll_91.jpg',\n",
       " 'datasets\\\\oxfordpet\\\\images\\\\Ragdoll_92.jpg',\n",
       " 'datasets\\\\oxfordpet\\\\images\\\\Ragdoll_93.jpg',\n",
       " 'datasets\\\\oxfordpet\\\\images\\\\Ragdoll_94.jpg',\n",
       " 'datasets\\\\oxfordpet\\\\images\\\\Ragdoll_95.jpg',\n",
       " 'datasets\\\\oxfordpet\\\\images\\\\Ragdoll_96.jpg',\n",
       " 'datasets\\\\oxfordpet\\\\images\\\\Ragdoll_97.jpg',\n",
       " 'datasets\\\\oxfordpet\\\\images\\\\Ragdoll_98.jpg',\n",
       " 'datasets\\\\oxfordpet\\\\images\\\\Ragdoll_99.jpg',\n",
       " 'datasets\\\\oxfordpet\\\\images\\\\Russian_Blue_81.jpg',\n",
       " 'datasets\\\\oxfordpet\\\\images\\\\Russian_Blue_82.jpg',\n",
       " 'datasets\\\\oxfordpet\\\\images\\\\Russian_Blue_83.jpg',\n",
       " 'datasets\\\\oxfordpet\\\\images\\\\Russian_Blue_84.jpg',\n",
       " 'datasets\\\\oxfordpet\\\\images\\\\Russian_Blue_85.jpg',\n",
       " 'datasets\\\\oxfordpet\\\\images\\\\Russian_Blue_86.jpg',\n",
       " 'datasets\\\\oxfordpet\\\\images\\\\Russian_Blue_87.jpg',\n",
       " 'datasets\\\\oxfordpet\\\\images\\\\Russian_Blue_88.jpg',\n",
       " 'datasets\\\\oxfordpet\\\\images\\\\Russian_Blue_89.jpg',\n",
       " 'datasets\\\\oxfordpet\\\\images\\\\Russian_Blue_9.jpg',\n",
       " 'datasets\\\\oxfordpet\\\\images\\\\Russian_Blue_90.jpg',\n",
       " 'datasets\\\\oxfordpet\\\\images\\\\Russian_Blue_91.jpg',\n",
       " 'datasets\\\\oxfordpet\\\\images\\\\Russian_Blue_92.jpg',\n",
       " 'datasets\\\\oxfordpet\\\\images\\\\Russian_Blue_93.jpg',\n",
       " 'datasets\\\\oxfordpet\\\\images\\\\Russian_Blue_94.jpg',\n",
       " 'datasets\\\\oxfordpet\\\\images\\\\Russian_Blue_95.jpg',\n",
       " 'datasets\\\\oxfordpet\\\\images\\\\Russian_Blue_96.jpg',\n",
       " 'datasets\\\\oxfordpet\\\\images\\\\Russian_Blue_97.jpg',\n",
       " 'datasets\\\\oxfordpet\\\\images\\\\Russian_Blue_98.jpg',\n",
       " 'datasets\\\\oxfordpet\\\\images\\\\Russian_Blue_99.jpg',\n",
       " 'datasets\\\\oxfordpet\\\\images\\\\Siamese_81.jpg',\n",
       " 'datasets\\\\oxfordpet\\\\images\\\\Siamese_82.jpg',\n",
       " 'datasets\\\\oxfordpet\\\\images\\\\Siamese_83.jpg',\n",
       " 'datasets\\\\oxfordpet\\\\images\\\\Siamese_84.jpg',\n",
       " 'datasets\\\\oxfordpet\\\\images\\\\Siamese_85.jpg',\n",
       " 'datasets\\\\oxfordpet\\\\images\\\\Siamese_86.jpg',\n",
       " 'datasets\\\\oxfordpet\\\\images\\\\Siamese_87.jpg',\n",
       " 'datasets\\\\oxfordpet\\\\images\\\\Siamese_88.jpg',\n",
       " 'datasets\\\\oxfordpet\\\\images\\\\Siamese_89.jpg',\n",
       " 'datasets\\\\oxfordpet\\\\images\\\\Siamese_9.jpg',\n",
       " 'datasets\\\\oxfordpet\\\\images\\\\Siamese_90.jpg',\n",
       " 'datasets\\\\oxfordpet\\\\images\\\\Siamese_91.jpg',\n",
       " 'datasets\\\\oxfordpet\\\\images\\\\Siamese_92.jpg',\n",
       " 'datasets\\\\oxfordpet\\\\images\\\\Siamese_93.jpg',\n",
       " 'datasets\\\\oxfordpet\\\\images\\\\Siamese_94.jpg',\n",
       " 'datasets\\\\oxfordpet\\\\images\\\\Siamese_95.jpg',\n",
       " 'datasets\\\\oxfordpet\\\\images\\\\Siamese_96.jpg',\n",
       " 'datasets\\\\oxfordpet\\\\images\\\\Siamese_97.jpg',\n",
       " 'datasets\\\\oxfordpet\\\\images\\\\Siamese_98.jpg',\n",
       " 'datasets\\\\oxfordpet\\\\images\\\\Siamese_99.jpg',\n",
       " 'datasets\\\\oxfordpet\\\\images\\\\Sphynx_78.jpg',\n",
       " 'datasets\\\\oxfordpet\\\\images\\\\Sphynx_8.jpg',\n",
       " 'datasets\\\\oxfordpet\\\\images\\\\Sphynx_80.jpg',\n",
       " 'datasets\\\\oxfordpet\\\\images\\\\Sphynx_82.jpg',\n",
       " 'datasets\\\\oxfordpet\\\\images\\\\Sphynx_83.jpg',\n",
       " 'datasets\\\\oxfordpet\\\\images\\\\Sphynx_84.jpg',\n",
       " 'datasets\\\\oxfordpet\\\\images\\\\Sphynx_85.jpg',\n",
       " 'datasets\\\\oxfordpet\\\\images\\\\Sphynx_87.jpg',\n",
       " 'datasets\\\\oxfordpet\\\\images\\\\Sphynx_88.jpg',\n",
       " 'datasets\\\\oxfordpet\\\\images\\\\Sphynx_89.jpg',\n",
       " 'datasets\\\\oxfordpet\\\\images\\\\Sphynx_9.jpg',\n",
       " 'datasets\\\\oxfordpet\\\\images\\\\Sphynx_90.jpg',\n",
       " 'datasets\\\\oxfordpet\\\\images\\\\Sphynx_91.jpg',\n",
       " 'datasets\\\\oxfordpet\\\\images\\\\Sphynx_92.jpg',\n",
       " 'datasets\\\\oxfordpet\\\\images\\\\Sphynx_93.jpg',\n",
       " 'datasets\\\\oxfordpet\\\\images\\\\Sphynx_94.jpg',\n",
       " 'datasets\\\\oxfordpet\\\\images\\\\Sphynx_95.jpg',\n",
       " 'datasets\\\\oxfordpet\\\\images\\\\Sphynx_96.jpg',\n",
       " 'datasets\\\\oxfordpet\\\\images\\\\Sphynx_98.jpg',\n",
       " 'datasets\\\\oxfordpet\\\\images\\\\Sphynx_99.jpg',\n",
       " 'datasets\\\\oxfordpet\\\\images\\\\american_bulldog_80.jpg',\n",
       " 'datasets\\\\oxfordpet\\\\images\\\\american_bulldog_81.jpg',\n",
       " 'datasets\\\\oxfordpet\\\\images\\\\american_bulldog_82.jpg',\n",
       " 'datasets\\\\oxfordpet\\\\images\\\\american_bulldog_83.jpg',\n",
       " 'datasets\\\\oxfordpet\\\\images\\\\american_bulldog_84.jpg',\n",
       " 'datasets\\\\oxfordpet\\\\images\\\\american_bulldog_85.jpg',\n",
       " 'datasets\\\\oxfordpet\\\\images\\\\american_bulldog_86.jpg',\n",
       " 'datasets\\\\oxfordpet\\\\images\\\\american_bulldog_87.jpg',\n",
       " 'datasets\\\\oxfordpet\\\\images\\\\american_bulldog_89.jpg',\n",
       " 'datasets\\\\oxfordpet\\\\images\\\\american_bulldog_9.jpg',\n",
       " 'datasets\\\\oxfordpet\\\\images\\\\american_bulldog_90.jpg',\n",
       " 'datasets\\\\oxfordpet\\\\images\\\\american_bulldog_91.jpg',\n",
       " 'datasets\\\\oxfordpet\\\\images\\\\american_bulldog_92.jpg',\n",
       " 'datasets\\\\oxfordpet\\\\images\\\\american_bulldog_93.jpg',\n",
       " 'datasets\\\\oxfordpet\\\\images\\\\american_bulldog_94.jpg',\n",
       " 'datasets\\\\oxfordpet\\\\images\\\\american_bulldog_95.jpg',\n",
       " 'datasets\\\\oxfordpet\\\\images\\\\american_bulldog_96.jpg',\n",
       " 'datasets\\\\oxfordpet\\\\images\\\\american_bulldog_97.jpg',\n",
       " 'datasets\\\\oxfordpet\\\\images\\\\american_bulldog_98.jpg',\n",
       " 'datasets\\\\oxfordpet\\\\images\\\\american_bulldog_99.jpg',\n",
       " 'datasets\\\\oxfordpet\\\\images\\\\american_pit_bull_terrier_8.jpg',\n",
       " 'datasets\\\\oxfordpet\\\\images\\\\american_pit_bull_terrier_80.jpg',\n",
       " 'datasets\\\\oxfordpet\\\\images\\\\american_pit_bull_terrier_81.jpg',\n",
       " 'datasets\\\\oxfordpet\\\\images\\\\american_pit_bull_terrier_82.jpg',\n",
       " 'datasets\\\\oxfordpet\\\\images\\\\american_pit_bull_terrier_84.jpg',\n",
       " 'datasets\\\\oxfordpet\\\\images\\\\american_pit_bull_terrier_86.jpg',\n",
       " 'datasets\\\\oxfordpet\\\\images\\\\american_pit_bull_terrier_87.jpg',\n",
       " 'datasets\\\\oxfordpet\\\\images\\\\american_pit_bull_terrier_88.jpg',\n",
       " 'datasets\\\\oxfordpet\\\\images\\\\american_pit_bull_terrier_89.jpg',\n",
       " 'datasets\\\\oxfordpet\\\\images\\\\american_pit_bull_terrier_9.jpg',\n",
       " 'datasets\\\\oxfordpet\\\\images\\\\american_pit_bull_terrier_90.jpg',\n",
       " 'datasets\\\\oxfordpet\\\\images\\\\american_pit_bull_terrier_91.jpg',\n",
       " 'datasets\\\\oxfordpet\\\\images\\\\american_pit_bull_terrier_92.jpg',\n",
       " 'datasets\\\\oxfordpet\\\\images\\\\american_pit_bull_terrier_93.jpg',\n",
       " 'datasets\\\\oxfordpet\\\\images\\\\american_pit_bull_terrier_94.jpg',\n",
       " 'datasets\\\\oxfordpet\\\\images\\\\american_pit_bull_terrier_95.jpg',\n",
       " 'datasets\\\\oxfordpet\\\\images\\\\american_pit_bull_terrier_96.jpg',\n",
       " 'datasets\\\\oxfordpet\\\\images\\\\american_pit_bull_terrier_97.jpg',\n",
       " 'datasets\\\\oxfordpet\\\\images\\\\american_pit_bull_terrier_98.jpg',\n",
       " 'datasets\\\\oxfordpet\\\\images\\\\american_pit_bull_terrier_99.jpg',\n",
       " 'datasets\\\\oxfordpet\\\\images\\\\basset_hound_81.jpg',\n",
       " 'datasets\\\\oxfordpet\\\\images\\\\basset_hound_82.jpg',\n",
       " 'datasets\\\\oxfordpet\\\\images\\\\basset_hound_83.jpg',\n",
       " 'datasets\\\\oxfordpet\\\\images\\\\basset_hound_84.jpg',\n",
       " 'datasets\\\\oxfordpet\\\\images\\\\basset_hound_85.jpg',\n",
       " 'datasets\\\\oxfordpet\\\\images\\\\basset_hound_86.jpg',\n",
       " 'datasets\\\\oxfordpet\\\\images\\\\basset_hound_87.jpg',\n",
       " 'datasets\\\\oxfordpet\\\\images\\\\basset_hound_88.jpg',\n",
       " 'datasets\\\\oxfordpet\\\\images\\\\basset_hound_89.jpg',\n",
       " 'datasets\\\\oxfordpet\\\\images\\\\basset_hound_9.jpg',\n",
       " 'datasets\\\\oxfordpet\\\\images\\\\basset_hound_90.jpg',\n",
       " 'datasets\\\\oxfordpet\\\\images\\\\basset_hound_91.jpg',\n",
       " 'datasets\\\\oxfordpet\\\\images\\\\basset_hound_92.jpg',\n",
       " 'datasets\\\\oxfordpet\\\\images\\\\basset_hound_93.jpg',\n",
       " 'datasets\\\\oxfordpet\\\\images\\\\basset_hound_94.jpg',\n",
       " 'datasets\\\\oxfordpet\\\\images\\\\basset_hound_95.jpg',\n",
       " 'datasets\\\\oxfordpet\\\\images\\\\basset_hound_96.jpg',\n",
       " 'datasets\\\\oxfordpet\\\\images\\\\basset_hound_97.jpg',\n",
       " 'datasets\\\\oxfordpet\\\\images\\\\basset_hound_98.jpg',\n",
       " 'datasets\\\\oxfordpet\\\\images\\\\basset_hound_99.jpg',\n",
       " 'datasets\\\\oxfordpet\\\\images\\\\beagle_81.jpg',\n",
       " 'datasets\\\\oxfordpet\\\\images\\\\beagle_82.jpg',\n",
       " 'datasets\\\\oxfordpet\\\\images\\\\beagle_83.jpg',\n",
       " 'datasets\\\\oxfordpet\\\\images\\\\beagle_84.jpg',\n",
       " 'datasets\\\\oxfordpet\\\\images\\\\beagle_85.jpg',\n",
       " 'datasets\\\\oxfordpet\\\\images\\\\beagle_86.jpg',\n",
       " 'datasets\\\\oxfordpet\\\\images\\\\beagle_87.jpg',\n",
       " 'datasets\\\\oxfordpet\\\\images\\\\beagle_88.jpg',\n",
       " 'datasets\\\\oxfordpet\\\\images\\\\beagle_89.jpg',\n",
       " 'datasets\\\\oxfordpet\\\\images\\\\beagle_9.jpg',\n",
       " 'datasets\\\\oxfordpet\\\\images\\\\beagle_90.jpg',\n",
       " 'datasets\\\\oxfordpet\\\\images\\\\beagle_91.jpg',\n",
       " 'datasets\\\\oxfordpet\\\\images\\\\beagle_92.jpg',\n",
       " 'datasets\\\\oxfordpet\\\\images\\\\beagle_93.jpg',\n",
       " 'datasets\\\\oxfordpet\\\\images\\\\beagle_94.jpg',\n",
       " 'datasets\\\\oxfordpet\\\\images\\\\beagle_95.jpg',\n",
       " 'datasets\\\\oxfordpet\\\\images\\\\beagle_96.jpg',\n",
       " 'datasets\\\\oxfordpet\\\\images\\\\beagle_97.jpg',\n",
       " 'datasets\\\\oxfordpet\\\\images\\\\beagle_98.jpg',\n",
       " 'datasets\\\\oxfordpet\\\\images\\\\beagle_99.jpg',\n",
       " 'datasets\\\\oxfordpet\\\\images\\\\boxer_81.jpg',\n",
       " 'datasets\\\\oxfordpet\\\\images\\\\boxer_82.jpg',\n",
       " 'datasets\\\\oxfordpet\\\\images\\\\boxer_83.jpg',\n",
       " 'datasets\\\\oxfordpet\\\\images\\\\boxer_84.jpg',\n",
       " 'datasets\\\\oxfordpet\\\\images\\\\boxer_85.jpg',\n",
       " 'datasets\\\\oxfordpet\\\\images\\\\boxer_86.jpg',\n",
       " 'datasets\\\\oxfordpet\\\\images\\\\boxer_87.jpg',\n",
       " 'datasets\\\\oxfordpet\\\\images\\\\boxer_88.jpg',\n",
       " 'datasets\\\\oxfordpet\\\\images\\\\boxer_89.jpg',\n",
       " 'datasets\\\\oxfordpet\\\\images\\\\boxer_9.jpg',\n",
       " 'datasets\\\\oxfordpet\\\\images\\\\boxer_90.jpg',\n",
       " 'datasets\\\\oxfordpet\\\\images\\\\boxer_91.jpg',\n",
       " 'datasets\\\\oxfordpet\\\\images\\\\boxer_92.jpg',\n",
       " 'datasets\\\\oxfordpet\\\\images\\\\boxer_93.jpg',\n",
       " 'datasets\\\\oxfordpet\\\\images\\\\boxer_94.jpg',\n",
       " 'datasets\\\\oxfordpet\\\\images\\\\boxer_95.jpg',\n",
       " 'datasets\\\\oxfordpet\\\\images\\\\boxer_96.jpg',\n",
       " 'datasets\\\\oxfordpet\\\\images\\\\boxer_97.jpg',\n",
       " 'datasets\\\\oxfordpet\\\\images\\\\boxer_98.jpg',\n",
       " 'datasets\\\\oxfordpet\\\\images\\\\boxer_99.jpg',\n",
       " 'datasets\\\\oxfordpet\\\\images\\\\chihuahua_81.jpg',\n",
       " 'datasets\\\\oxfordpet\\\\images\\\\chihuahua_82.jpg',\n",
       " 'datasets\\\\oxfordpet\\\\images\\\\chihuahua_83.jpg',\n",
       " 'datasets\\\\oxfordpet\\\\images\\\\chihuahua_84.jpg',\n",
       " 'datasets\\\\oxfordpet\\\\images\\\\chihuahua_85.jpg',\n",
       " 'datasets\\\\oxfordpet\\\\images\\\\chihuahua_86.jpg',\n",
       " 'datasets\\\\oxfordpet\\\\images\\\\chihuahua_87.jpg',\n",
       " 'datasets\\\\oxfordpet\\\\images\\\\chihuahua_88.jpg',\n",
       " 'datasets\\\\oxfordpet\\\\images\\\\chihuahua_89.jpg',\n",
       " 'datasets\\\\oxfordpet\\\\images\\\\chihuahua_9.jpg',\n",
       " 'datasets\\\\oxfordpet\\\\images\\\\chihuahua_90.jpg',\n",
       " 'datasets\\\\oxfordpet\\\\images\\\\chihuahua_91.jpg',\n",
       " 'datasets\\\\oxfordpet\\\\images\\\\chihuahua_92.jpg',\n",
       " 'datasets\\\\oxfordpet\\\\images\\\\chihuahua_93.jpg',\n",
       " 'datasets\\\\oxfordpet\\\\images\\\\chihuahua_94.jpg',\n",
       " 'datasets\\\\oxfordpet\\\\images\\\\chihuahua_95.jpg',\n",
       " 'datasets\\\\oxfordpet\\\\images\\\\chihuahua_96.jpg',\n",
       " 'datasets\\\\oxfordpet\\\\images\\\\chihuahua_97.jpg',\n",
       " 'datasets\\\\oxfordpet\\\\images\\\\chihuahua_98.jpg',\n",
       " 'datasets\\\\oxfordpet\\\\images\\\\chihuahua_99.jpg',\n",
       " 'datasets\\\\oxfordpet\\\\images\\\\english_cocker_spaniel_81.jpg',\n",
       " 'datasets\\\\oxfordpet\\\\images\\\\english_cocker_spaniel_82.jpg',\n",
       " 'datasets\\\\oxfordpet\\\\images\\\\english_cocker_spaniel_83.jpg',\n",
       " 'datasets\\\\oxfordpet\\\\images\\\\english_cocker_spaniel_84.jpg',\n",
       " 'datasets\\\\oxfordpet\\\\images\\\\english_cocker_spaniel_85.jpg',\n",
       " 'datasets\\\\oxfordpet\\\\images\\\\english_cocker_spaniel_86.jpg',\n",
       " 'datasets\\\\oxfordpet\\\\images\\\\english_cocker_spaniel_87.jpg',\n",
       " 'datasets\\\\oxfordpet\\\\images\\\\english_cocker_spaniel_88.jpg',\n",
       " 'datasets\\\\oxfordpet\\\\images\\\\english_cocker_spaniel_89.jpg',\n",
       " 'datasets\\\\oxfordpet\\\\images\\\\english_cocker_spaniel_9.jpg',\n",
       " 'datasets\\\\oxfordpet\\\\images\\\\english_cocker_spaniel_90.jpg',\n",
       " 'datasets\\\\oxfordpet\\\\images\\\\english_cocker_spaniel_91.jpg',\n",
       " 'datasets\\\\oxfordpet\\\\images\\\\english_cocker_spaniel_92.jpg',\n",
       " 'datasets\\\\oxfordpet\\\\images\\\\english_cocker_spaniel_93.jpg',\n",
       " 'datasets\\\\oxfordpet\\\\images\\\\english_cocker_spaniel_94.jpg',\n",
       " 'datasets\\\\oxfordpet\\\\images\\\\english_cocker_spaniel_95.jpg',\n",
       " 'datasets\\\\oxfordpet\\\\images\\\\english_cocker_spaniel_96.jpg',\n",
       " 'datasets\\\\oxfordpet\\\\images\\\\english_cocker_spaniel_97.jpg',\n",
       " 'datasets\\\\oxfordpet\\\\images\\\\english_cocker_spaniel_98.jpg',\n",
       " 'datasets\\\\oxfordpet\\\\images\\\\english_cocker_spaniel_99.jpg',\n",
       " 'datasets\\\\oxfordpet\\\\images\\\\english_setter_81.jpg',\n",
       " 'datasets\\\\oxfordpet\\\\images\\\\english_setter_82.jpg',\n",
       " 'datasets\\\\oxfordpet\\\\images\\\\english_setter_83.jpg',\n",
       " 'datasets\\\\oxfordpet\\\\images\\\\english_setter_84.jpg',\n",
       " 'datasets\\\\oxfordpet\\\\images\\\\english_setter_85.jpg',\n",
       " 'datasets\\\\oxfordpet\\\\images\\\\english_setter_86.jpg',\n",
       " 'datasets\\\\oxfordpet\\\\images\\\\english_setter_87.jpg',\n",
       " 'datasets\\\\oxfordpet\\\\images\\\\english_setter_88.jpg',\n",
       " 'datasets\\\\oxfordpet\\\\images\\\\english_setter_89.jpg',\n",
       " 'datasets\\\\oxfordpet\\\\images\\\\english_setter_9.jpg',\n",
       " 'datasets\\\\oxfordpet\\\\images\\\\english_setter_90.jpg',\n",
       " 'datasets\\\\oxfordpet\\\\images\\\\english_setter_91.jpg',\n",
       " 'datasets\\\\oxfordpet\\\\images\\\\english_setter_92.jpg',\n",
       " 'datasets\\\\oxfordpet\\\\images\\\\english_setter_93.jpg',\n",
       " 'datasets\\\\oxfordpet\\\\images\\\\english_setter_94.jpg',\n",
       " 'datasets\\\\oxfordpet\\\\images\\\\english_setter_95.jpg',\n",
       " 'datasets\\\\oxfordpet\\\\images\\\\english_setter_96.jpg',\n",
       " 'datasets\\\\oxfordpet\\\\images\\\\english_setter_97.jpg',\n",
       " 'datasets\\\\oxfordpet\\\\images\\\\english_setter_98.jpg',\n",
       " 'datasets\\\\oxfordpet\\\\images\\\\english_setter_99.jpg',\n",
       " 'datasets\\\\oxfordpet\\\\images\\\\german_shorthaired_81.jpg',\n",
       " 'datasets\\\\oxfordpet\\\\images\\\\german_shorthaired_82.jpg',\n",
       " 'datasets\\\\oxfordpet\\\\images\\\\german_shorthaired_83.jpg',\n",
       " 'datasets\\\\oxfordpet\\\\images\\\\german_shorthaired_84.jpg',\n",
       " 'datasets\\\\oxfordpet\\\\images\\\\german_shorthaired_85.jpg',\n",
       " 'datasets\\\\oxfordpet\\\\images\\\\german_shorthaired_86.jpg',\n",
       " 'datasets\\\\oxfordpet\\\\images\\\\german_shorthaired_87.jpg',\n",
       " 'datasets\\\\oxfordpet\\\\images\\\\german_shorthaired_88.jpg',\n",
       " 'datasets\\\\oxfordpet\\\\images\\\\german_shorthaired_89.jpg',\n",
       " 'datasets\\\\oxfordpet\\\\images\\\\german_shorthaired_9.jpg',\n",
       " 'datasets\\\\oxfordpet\\\\images\\\\german_shorthaired_90.jpg',\n",
       " 'datasets\\\\oxfordpet\\\\images\\\\german_shorthaired_91.jpg',\n",
       " 'datasets\\\\oxfordpet\\\\images\\\\german_shorthaired_92.jpg',\n",
       " 'datasets\\\\oxfordpet\\\\images\\\\german_shorthaired_93.jpg',\n",
       " 'datasets\\\\oxfordpet\\\\images\\\\german_shorthaired_94.jpg',\n",
       " 'datasets\\\\oxfordpet\\\\images\\\\german_shorthaired_95.jpg',\n",
       " 'datasets\\\\oxfordpet\\\\images\\\\german_shorthaired_96.jpg',\n",
       " 'datasets\\\\oxfordpet\\\\images\\\\german_shorthaired_97.jpg',\n",
       " 'datasets\\\\oxfordpet\\\\images\\\\german_shorthaired_98.jpg',\n",
       " 'datasets\\\\oxfordpet\\\\images\\\\german_shorthaired_99.jpg',\n",
       " 'datasets\\\\oxfordpet\\\\images\\\\great_pyrenees_81.jpg',\n",
       " 'datasets\\\\oxfordpet\\\\images\\\\great_pyrenees_82.jpg',\n",
       " 'datasets\\\\oxfordpet\\\\images\\\\great_pyrenees_83.jpg',\n",
       " 'datasets\\\\oxfordpet\\\\images\\\\great_pyrenees_84.jpg',\n",
       " 'datasets\\\\oxfordpet\\\\images\\\\great_pyrenees_85.jpg',\n",
       " 'datasets\\\\oxfordpet\\\\images\\\\great_pyrenees_86.jpg',\n",
       " 'datasets\\\\oxfordpet\\\\images\\\\great_pyrenees_87.jpg',\n",
       " 'datasets\\\\oxfordpet\\\\images\\\\great_pyrenees_88.jpg',\n",
       " 'datasets\\\\oxfordpet\\\\images\\\\great_pyrenees_89.jpg',\n",
       " 'datasets\\\\oxfordpet\\\\images\\\\great_pyrenees_9.jpg',\n",
       " 'datasets\\\\oxfordpet\\\\images\\\\great_pyrenees_90.jpg',\n",
       " 'datasets\\\\oxfordpet\\\\images\\\\great_pyrenees_91.jpg',\n",
       " 'datasets\\\\oxfordpet\\\\images\\\\great_pyrenees_92.jpg',\n",
       " 'datasets\\\\oxfordpet\\\\images\\\\great_pyrenees_93.jpg',\n",
       " 'datasets\\\\oxfordpet\\\\images\\\\great_pyrenees_94.jpg',\n",
       " 'datasets\\\\oxfordpet\\\\images\\\\great_pyrenees_95.jpg',\n",
       " 'datasets\\\\oxfordpet\\\\images\\\\great_pyrenees_96.jpg',\n",
       " 'datasets\\\\oxfordpet\\\\images\\\\great_pyrenees_97.jpg',\n",
       " 'datasets\\\\oxfordpet\\\\images\\\\great_pyrenees_98.jpg',\n",
       " 'datasets\\\\oxfordpet\\\\images\\\\great_pyrenees_99.jpg',\n",
       " 'datasets\\\\oxfordpet\\\\images\\\\havanese_81.jpg',\n",
       " 'datasets\\\\oxfordpet\\\\images\\\\havanese_82.jpg',\n",
       " 'datasets\\\\oxfordpet\\\\images\\\\havanese_83.jpg',\n",
       " 'datasets\\\\oxfordpet\\\\images\\\\havanese_84.jpg',\n",
       " 'datasets\\\\oxfordpet\\\\images\\\\havanese_85.jpg',\n",
       " 'datasets\\\\oxfordpet\\\\images\\\\havanese_86.jpg',\n",
       " 'datasets\\\\oxfordpet\\\\images\\\\havanese_87.jpg',\n",
       " 'datasets\\\\oxfordpet\\\\images\\\\havanese_88.jpg',\n",
       " 'datasets\\\\oxfordpet\\\\images\\\\havanese_89.jpg',\n",
       " 'datasets\\\\oxfordpet\\\\images\\\\havanese_9.jpg',\n",
       " 'datasets\\\\oxfordpet\\\\images\\\\havanese_90.jpg',\n",
       " 'datasets\\\\oxfordpet\\\\images\\\\havanese_91.jpg',\n",
       " 'datasets\\\\oxfordpet\\\\images\\\\havanese_92.jpg',\n",
       " 'datasets\\\\oxfordpet\\\\images\\\\havanese_93.jpg',\n",
       " 'datasets\\\\oxfordpet\\\\images\\\\havanese_94.jpg',\n",
       " 'datasets\\\\oxfordpet\\\\images\\\\havanese_95.jpg',\n",
       " 'datasets\\\\oxfordpet\\\\images\\\\havanese_96.jpg',\n",
       " 'datasets\\\\oxfordpet\\\\images\\\\havanese_97.jpg',\n",
       " 'datasets\\\\oxfordpet\\\\images\\\\havanese_98.jpg',\n",
       " 'datasets\\\\oxfordpet\\\\images\\\\havanese_99.jpg',\n",
       " 'datasets\\\\oxfordpet\\\\images\\\\japanese_chin_81.jpg',\n",
       " 'datasets\\\\oxfordpet\\\\images\\\\japanese_chin_82.jpg',\n",
       " 'datasets\\\\oxfordpet\\\\images\\\\japanese_chin_83.jpg',\n",
       " 'datasets\\\\oxfordpet\\\\images\\\\japanese_chin_84.jpg',\n",
       " 'datasets\\\\oxfordpet\\\\images\\\\japanese_chin_85.jpg',\n",
       " 'datasets\\\\oxfordpet\\\\images\\\\japanese_chin_86.jpg',\n",
       " 'datasets\\\\oxfordpet\\\\images\\\\japanese_chin_87.jpg',\n",
       " 'datasets\\\\oxfordpet\\\\images\\\\japanese_chin_88.jpg',\n",
       " 'datasets\\\\oxfordpet\\\\images\\\\japanese_chin_89.jpg',\n",
       " 'datasets\\\\oxfordpet\\\\images\\\\japanese_chin_9.jpg',\n",
       " 'datasets\\\\oxfordpet\\\\images\\\\japanese_chin_90.jpg',\n",
       " 'datasets\\\\oxfordpet\\\\images\\\\japanese_chin_91.jpg',\n",
       " 'datasets\\\\oxfordpet\\\\images\\\\japanese_chin_92.jpg',\n",
       " 'datasets\\\\oxfordpet\\\\images\\\\japanese_chin_93.jpg',\n",
       " 'datasets\\\\oxfordpet\\\\images\\\\japanese_chin_94.jpg',\n",
       " 'datasets\\\\oxfordpet\\\\images\\\\japanese_chin_95.jpg',\n",
       " 'datasets\\\\oxfordpet\\\\images\\\\japanese_chin_96.jpg',\n",
       " 'datasets\\\\oxfordpet\\\\images\\\\japanese_chin_97.jpg',\n",
       " 'datasets\\\\oxfordpet\\\\images\\\\japanese_chin_98.jpg',\n",
       " 'datasets\\\\oxfordpet\\\\images\\\\japanese_chin_99.jpg',\n",
       " 'datasets\\\\oxfordpet\\\\images\\\\keeshond_81.jpg',\n",
       " 'datasets\\\\oxfordpet\\\\images\\\\keeshond_82.jpg',\n",
       " 'datasets\\\\oxfordpet\\\\images\\\\keeshond_83.jpg',\n",
       " 'datasets\\\\oxfordpet\\\\images\\\\keeshond_84.jpg',\n",
       " 'datasets\\\\oxfordpet\\\\images\\\\keeshond_85.jpg',\n",
       " 'datasets\\\\oxfordpet\\\\images\\\\keeshond_86.jpg',\n",
       " 'datasets\\\\oxfordpet\\\\images\\\\keeshond_87.jpg',\n",
       " 'datasets\\\\oxfordpet\\\\images\\\\keeshond_88.jpg',\n",
       " 'datasets\\\\oxfordpet\\\\images\\\\keeshond_89.jpg',\n",
       " 'datasets\\\\oxfordpet\\\\images\\\\keeshond_9.jpg',\n",
       " 'datasets\\\\oxfordpet\\\\images\\\\keeshond_90.jpg',\n",
       " 'datasets\\\\oxfordpet\\\\images\\\\keeshond_91.jpg',\n",
       " 'datasets\\\\oxfordpet\\\\images\\\\keeshond_92.jpg',\n",
       " 'datasets\\\\oxfordpet\\\\images\\\\keeshond_93.jpg',\n",
       " 'datasets\\\\oxfordpet\\\\images\\\\keeshond_94.jpg',\n",
       " 'datasets\\\\oxfordpet\\\\images\\\\keeshond_95.jpg',\n",
       " 'datasets\\\\oxfordpet\\\\images\\\\keeshond_96.jpg',\n",
       " 'datasets\\\\oxfordpet\\\\images\\\\keeshond_97.jpg',\n",
       " 'datasets\\\\oxfordpet\\\\images\\\\keeshond_98.jpg',\n",
       " 'datasets\\\\oxfordpet\\\\images\\\\keeshond_99.jpg',\n",
       " 'datasets\\\\oxfordpet\\\\images\\\\leonberger_81.jpg',\n",
       " 'datasets\\\\oxfordpet\\\\images\\\\leonberger_82.jpg',\n",
       " 'datasets\\\\oxfordpet\\\\images\\\\leonberger_83.jpg',\n",
       " 'datasets\\\\oxfordpet\\\\images\\\\leonberger_84.jpg',\n",
       " 'datasets\\\\oxfordpet\\\\images\\\\leonberger_85.jpg',\n",
       " 'datasets\\\\oxfordpet\\\\images\\\\leonberger_86.jpg',\n",
       " 'datasets\\\\oxfordpet\\\\images\\\\leonberger_87.jpg',\n",
       " 'datasets\\\\oxfordpet\\\\images\\\\leonberger_88.jpg',\n",
       " 'datasets\\\\oxfordpet\\\\images\\\\leonberger_89.jpg',\n",
       " 'datasets\\\\oxfordpet\\\\images\\\\leonberger_9.jpg',\n",
       " 'datasets\\\\oxfordpet\\\\images\\\\leonberger_90.jpg',\n",
       " 'datasets\\\\oxfordpet\\\\images\\\\leonberger_91.jpg',\n",
       " 'datasets\\\\oxfordpet\\\\images\\\\leonberger_92.jpg',\n",
       " 'datasets\\\\oxfordpet\\\\images\\\\leonberger_93.jpg',\n",
       " 'datasets\\\\oxfordpet\\\\images\\\\leonberger_94.jpg',\n",
       " 'datasets\\\\oxfordpet\\\\images\\\\leonberger_95.jpg',\n",
       " 'datasets\\\\oxfordpet\\\\images\\\\leonberger_96.jpg',\n",
       " 'datasets\\\\oxfordpet\\\\images\\\\leonberger_97.jpg',\n",
       " 'datasets\\\\oxfordpet\\\\images\\\\leonberger_98.jpg',\n",
       " 'datasets\\\\oxfordpet\\\\images\\\\leonberger_99.jpg',\n",
       " 'datasets\\\\oxfordpet\\\\images\\\\miniature_pinscher_81.jpg',\n",
       " 'datasets\\\\oxfordpet\\\\images\\\\miniature_pinscher_82.jpg',\n",
       " 'datasets\\\\oxfordpet\\\\images\\\\miniature_pinscher_83.jpg',\n",
       " 'datasets\\\\oxfordpet\\\\images\\\\miniature_pinscher_84.jpg',\n",
       " 'datasets\\\\oxfordpet\\\\images\\\\miniature_pinscher_85.jpg',\n",
       " 'datasets\\\\oxfordpet\\\\images\\\\miniature_pinscher_86.jpg',\n",
       " 'datasets\\\\oxfordpet\\\\images\\\\miniature_pinscher_87.jpg',\n",
       " 'datasets\\\\oxfordpet\\\\images\\\\miniature_pinscher_88.jpg',\n",
       " 'datasets\\\\oxfordpet\\\\images\\\\miniature_pinscher_89.jpg',\n",
       " 'datasets\\\\oxfordpet\\\\images\\\\miniature_pinscher_9.jpg',\n",
       " 'datasets\\\\oxfordpet\\\\images\\\\miniature_pinscher_90.jpg',\n",
       " 'datasets\\\\oxfordpet\\\\images\\\\miniature_pinscher_91.jpg',\n",
       " 'datasets\\\\oxfordpet\\\\images\\\\miniature_pinscher_92.jpg',\n",
       " 'datasets\\\\oxfordpet\\\\images\\\\miniature_pinscher_93.jpg',\n",
       " 'datasets\\\\oxfordpet\\\\images\\\\miniature_pinscher_94.jpg',\n",
       " 'datasets\\\\oxfordpet\\\\images\\\\miniature_pinscher_95.jpg',\n",
       " 'datasets\\\\oxfordpet\\\\images\\\\miniature_pinscher_96.jpg',\n",
       " 'datasets\\\\oxfordpet\\\\images\\\\miniature_pinscher_97.jpg',\n",
       " 'datasets\\\\oxfordpet\\\\images\\\\miniature_pinscher_98.jpg',\n",
       " 'datasets\\\\oxfordpet\\\\images\\\\miniature_pinscher_99.jpg',\n",
       " 'datasets\\\\oxfordpet\\\\images\\\\newfoundland_81.jpg',\n",
       " 'datasets\\\\oxfordpet\\\\images\\\\newfoundland_82.jpg',\n",
       " 'datasets\\\\oxfordpet\\\\images\\\\newfoundland_83.jpg',\n",
       " 'datasets\\\\oxfordpet\\\\images\\\\newfoundland_84.jpg',\n",
       " 'datasets\\\\oxfordpet\\\\images\\\\newfoundland_85.jpg',\n",
       " 'datasets\\\\oxfordpet\\\\images\\\\newfoundland_86.jpg',\n",
       " 'datasets\\\\oxfordpet\\\\images\\\\newfoundland_87.jpg',\n",
       " 'datasets\\\\oxfordpet\\\\images\\\\newfoundland_88.jpg',\n",
       " 'datasets\\\\oxfordpet\\\\images\\\\newfoundland_89.jpg',\n",
       " 'datasets\\\\oxfordpet\\\\images\\\\newfoundland_9.jpg',\n",
       " 'datasets\\\\oxfordpet\\\\images\\\\newfoundland_90.jpg',\n",
       " 'datasets\\\\oxfordpet\\\\images\\\\newfoundland_91.jpg',\n",
       " 'datasets\\\\oxfordpet\\\\images\\\\newfoundland_92.jpg',\n",
       " 'datasets\\\\oxfordpet\\\\images\\\\newfoundland_93.jpg',\n",
       " 'datasets\\\\oxfordpet\\\\images\\\\newfoundland_94.jpg',\n",
       " 'datasets\\\\oxfordpet\\\\images\\\\newfoundland_95.jpg',\n",
       " 'datasets\\\\oxfordpet\\\\images\\\\newfoundland_96.jpg',\n",
       " 'datasets\\\\oxfordpet\\\\images\\\\newfoundland_97.jpg',\n",
       " 'datasets\\\\oxfordpet\\\\images\\\\newfoundland_98.jpg',\n",
       " 'datasets\\\\oxfordpet\\\\images\\\\newfoundland_99.jpg',\n",
       " 'datasets\\\\oxfordpet\\\\images\\\\pomeranian_81.jpg',\n",
       " 'datasets\\\\oxfordpet\\\\images\\\\pomeranian_82.jpg',\n",
       " 'datasets\\\\oxfordpet\\\\images\\\\pomeranian_83.jpg',\n",
       " 'datasets\\\\oxfordpet\\\\images\\\\pomeranian_84.jpg',\n",
       " 'datasets\\\\oxfordpet\\\\images\\\\pomeranian_85.jpg',\n",
       " 'datasets\\\\oxfordpet\\\\images\\\\pomeranian_86.jpg',\n",
       " 'datasets\\\\oxfordpet\\\\images\\\\pomeranian_87.jpg',\n",
       " 'datasets\\\\oxfordpet\\\\images\\\\pomeranian_88.jpg',\n",
       " 'datasets\\\\oxfordpet\\\\images\\\\pomeranian_89.jpg',\n",
       " 'datasets\\\\oxfordpet\\\\images\\\\pomeranian_9.jpg',\n",
       " 'datasets\\\\oxfordpet\\\\images\\\\pomeranian_90.jpg',\n",
       " 'datasets\\\\oxfordpet\\\\images\\\\pomeranian_91.jpg',\n",
       " 'datasets\\\\oxfordpet\\\\images\\\\pomeranian_92.jpg',\n",
       " 'datasets\\\\oxfordpet\\\\images\\\\pomeranian_93.jpg',\n",
       " 'datasets\\\\oxfordpet\\\\images\\\\pomeranian_94.jpg',\n",
       " 'datasets\\\\oxfordpet\\\\images\\\\pomeranian_95.jpg',\n",
       " 'datasets\\\\oxfordpet\\\\images\\\\pomeranian_96.jpg',\n",
       " 'datasets\\\\oxfordpet\\\\images\\\\pomeranian_97.jpg',\n",
       " 'datasets\\\\oxfordpet\\\\images\\\\pomeranian_98.jpg',\n",
       " 'datasets\\\\oxfordpet\\\\images\\\\pomeranian_99.jpg',\n",
       " 'datasets\\\\oxfordpet\\\\images\\\\pug_80.jpg',\n",
       " 'datasets\\\\oxfordpet\\\\images\\\\pug_81.jpg',\n",
       " 'datasets\\\\oxfordpet\\\\images\\\\pug_82.jpg',\n",
       " 'datasets\\\\oxfordpet\\\\images\\\\pug_84.jpg',\n",
       " 'datasets\\\\oxfordpet\\\\images\\\\pug_85.jpg',\n",
       " 'datasets\\\\oxfordpet\\\\images\\\\pug_86.jpg',\n",
       " 'datasets\\\\oxfordpet\\\\images\\\\pug_87.jpg',\n",
       " 'datasets\\\\oxfordpet\\\\images\\\\pug_88.jpg',\n",
       " 'datasets\\\\oxfordpet\\\\images\\\\pug_89.jpg',\n",
       " 'datasets\\\\oxfordpet\\\\images\\\\pug_9.jpg',\n",
       " 'datasets\\\\oxfordpet\\\\images\\\\pug_90.jpg',\n",
       " 'datasets\\\\oxfordpet\\\\images\\\\pug_91.jpg',\n",
       " 'datasets\\\\oxfordpet\\\\images\\\\pug_92.jpg',\n",
       " 'datasets\\\\oxfordpet\\\\images\\\\pug_93.jpg',\n",
       " 'datasets\\\\oxfordpet\\\\images\\\\pug_94.jpg',\n",
       " 'datasets\\\\oxfordpet\\\\images\\\\pug_95.jpg',\n",
       " 'datasets\\\\oxfordpet\\\\images\\\\pug_96.jpg',\n",
       " 'datasets\\\\oxfordpet\\\\images\\\\pug_97.jpg',\n",
       " 'datasets\\\\oxfordpet\\\\images\\\\pug_98.jpg',\n",
       " 'datasets\\\\oxfordpet\\\\images\\\\pug_99.jpg',\n",
       " 'datasets\\\\oxfordpet\\\\images\\\\saint_bernard_81.jpg',\n",
       " 'datasets\\\\oxfordpet\\\\images\\\\saint_bernard_82.jpg',\n",
       " 'datasets\\\\oxfordpet\\\\images\\\\saint_bernard_83.jpg',\n",
       " 'datasets\\\\oxfordpet\\\\images\\\\saint_bernard_84.jpg',\n",
       " 'datasets\\\\oxfordpet\\\\images\\\\saint_bernard_85.jpg',\n",
       " 'datasets\\\\oxfordpet\\\\images\\\\saint_bernard_86.jpg',\n",
       " 'datasets\\\\oxfordpet\\\\images\\\\saint_bernard_87.jpg',\n",
       " 'datasets\\\\oxfordpet\\\\images\\\\saint_bernard_88.jpg',\n",
       " 'datasets\\\\oxfordpet\\\\images\\\\saint_bernard_89.jpg',\n",
       " 'datasets\\\\oxfordpet\\\\images\\\\saint_bernard_9.jpg',\n",
       " 'datasets\\\\oxfordpet\\\\images\\\\saint_bernard_90.jpg',\n",
       " 'datasets\\\\oxfordpet\\\\images\\\\saint_bernard_91.jpg',\n",
       " 'datasets\\\\oxfordpet\\\\images\\\\saint_bernard_92.jpg',\n",
       " 'datasets\\\\oxfordpet\\\\images\\\\saint_bernard_93.jpg',\n",
       " 'datasets\\\\oxfordpet\\\\images\\\\saint_bernard_94.jpg',\n",
       " 'datasets\\\\oxfordpet\\\\images\\\\saint_bernard_95.jpg',\n",
       " 'datasets\\\\oxfordpet\\\\images\\\\saint_bernard_96.jpg',\n",
       " 'datasets\\\\oxfordpet\\\\images\\\\saint_bernard_97.jpg',\n",
       " 'datasets\\\\oxfordpet\\\\images\\\\saint_bernard_98.jpg',\n",
       " 'datasets\\\\oxfordpet\\\\images\\\\saint_bernard_99.jpg',\n",
       " 'datasets\\\\oxfordpet\\\\images\\\\samoyed_81.jpg',\n",
       " 'datasets\\\\oxfordpet\\\\images\\\\samoyed_82.jpg',\n",
       " 'datasets\\\\oxfordpet\\\\images\\\\samoyed_83.jpg',\n",
       " 'datasets\\\\oxfordpet\\\\images\\\\samoyed_84.jpg',\n",
       " 'datasets\\\\oxfordpet\\\\images\\\\samoyed_85.jpg',\n",
       " 'datasets\\\\oxfordpet\\\\images\\\\samoyed_86.jpg',\n",
       " 'datasets\\\\oxfordpet\\\\images\\\\samoyed_87.jpg',\n",
       " 'datasets\\\\oxfordpet\\\\images\\\\samoyed_88.jpg',\n",
       " 'datasets\\\\oxfordpet\\\\images\\\\samoyed_89.jpg',\n",
       " 'datasets\\\\oxfordpet\\\\images\\\\samoyed_9.jpg',\n",
       " 'datasets\\\\oxfordpet\\\\images\\\\samoyed_90.jpg',\n",
       " 'datasets\\\\oxfordpet\\\\images\\\\samoyed_91.jpg',\n",
       " 'datasets\\\\oxfordpet\\\\images\\\\samoyed_92.jpg',\n",
       " 'datasets\\\\oxfordpet\\\\images\\\\samoyed_93.jpg',\n",
       " 'datasets\\\\oxfordpet\\\\images\\\\samoyed_94.jpg',\n",
       " 'datasets\\\\oxfordpet\\\\images\\\\samoyed_95.jpg',\n",
       " 'datasets\\\\oxfordpet\\\\images\\\\samoyed_96.jpg',\n",
       " 'datasets\\\\oxfordpet\\\\images\\\\samoyed_97.jpg',\n",
       " 'datasets\\\\oxfordpet\\\\images\\\\samoyed_98.jpg',\n",
       " 'datasets\\\\oxfordpet\\\\images\\\\samoyed_99.jpg',\n",
       " 'datasets\\\\oxfordpet\\\\images\\\\scottish_terrier_82.jpg',\n",
       " 'datasets\\\\oxfordpet\\\\images\\\\scottish_terrier_83.jpg',\n",
       " 'datasets\\\\oxfordpet\\\\images\\\\scottish_terrier_84.jpg',\n",
       " 'datasets\\\\oxfordpet\\\\images\\\\scottish_terrier_85.jpg',\n",
       " 'datasets\\\\oxfordpet\\\\images\\\\scottish_terrier_86.jpg',\n",
       " 'datasets\\\\oxfordpet\\\\images\\\\scottish_terrier_87.jpg',\n",
       " 'datasets\\\\oxfordpet\\\\images\\\\scottish_terrier_88.jpg',\n",
       " 'datasets\\\\oxfordpet\\\\images\\\\scottish_terrier_89.jpg',\n",
       " 'datasets\\\\oxfordpet\\\\images\\\\scottish_terrier_9.jpg',\n",
       " 'datasets\\\\oxfordpet\\\\images\\\\scottish_terrier_90.jpg',\n",
       " 'datasets\\\\oxfordpet\\\\images\\\\scottish_terrier_91.jpg',\n",
       " 'datasets\\\\oxfordpet\\\\images\\\\scottish_terrier_92.jpg',\n",
       " 'datasets\\\\oxfordpet\\\\images\\\\scottish_terrier_93.jpg',\n",
       " 'datasets\\\\oxfordpet\\\\images\\\\scottish_terrier_94.jpg',\n",
       " 'datasets\\\\oxfordpet\\\\images\\\\scottish_terrier_95.jpg',\n",
       " 'datasets\\\\oxfordpet\\\\images\\\\scottish_terrier_96.jpg',\n",
       " 'datasets\\\\oxfordpet\\\\images\\\\scottish_terrier_97.jpg',\n",
       " 'datasets\\\\oxfordpet\\\\images\\\\scottish_terrier_98.jpg',\n",
       " 'datasets\\\\oxfordpet\\\\images\\\\scottish_terrier_99.jpg',\n",
       " 'datasets\\\\oxfordpet\\\\images\\\\shiba_inu_81.jpg',\n",
       " 'datasets\\\\oxfordpet\\\\images\\\\shiba_inu_82.jpg',\n",
       " 'datasets\\\\oxfordpet\\\\images\\\\shiba_inu_83.jpg',\n",
       " 'datasets\\\\oxfordpet\\\\images\\\\shiba_inu_84.jpg',\n",
       " 'datasets\\\\oxfordpet\\\\images\\\\shiba_inu_85.jpg',\n",
       " 'datasets\\\\oxfordpet\\\\images\\\\shiba_inu_86.jpg',\n",
       " 'datasets\\\\oxfordpet\\\\images\\\\shiba_inu_87.jpg',\n",
       " 'datasets\\\\oxfordpet\\\\images\\\\shiba_inu_88.jpg',\n",
       " 'datasets\\\\oxfordpet\\\\images\\\\shiba_inu_89.jpg',\n",
       " 'datasets\\\\oxfordpet\\\\images\\\\shiba_inu_9.jpg',\n",
       " 'datasets\\\\oxfordpet\\\\images\\\\shiba_inu_90.jpg',\n",
       " 'datasets\\\\oxfordpet\\\\images\\\\shiba_inu_91.jpg',\n",
       " 'datasets\\\\oxfordpet\\\\images\\\\shiba_inu_92.jpg',\n",
       " 'datasets\\\\oxfordpet\\\\images\\\\shiba_inu_93.jpg',\n",
       " 'datasets\\\\oxfordpet\\\\images\\\\shiba_inu_94.jpg',\n",
       " 'datasets\\\\oxfordpet\\\\images\\\\shiba_inu_95.jpg',\n",
       " 'datasets\\\\oxfordpet\\\\images\\\\shiba_inu_96.jpg',\n",
       " 'datasets\\\\oxfordpet\\\\images\\\\shiba_inu_97.jpg',\n",
       " 'datasets\\\\oxfordpet\\\\images\\\\shiba_inu_98.jpg',\n",
       " 'datasets\\\\oxfordpet\\\\images\\\\shiba_inu_99.jpg',\n",
       " 'datasets\\\\oxfordpet\\\\images\\\\staffordshire_bull_terrier_91.jpg',\n",
       " 'datasets\\\\oxfordpet\\\\images\\\\staffordshire_bull_terrier_92.jpg',\n",
       " 'datasets\\\\oxfordpet\\\\images\\\\staffordshire_bull_terrier_93.jpg',\n",
       " 'datasets\\\\oxfordpet\\\\images\\\\staffordshire_bull_terrier_94.jpg',\n",
       " 'datasets\\\\oxfordpet\\\\images\\\\staffordshire_bull_terrier_95.jpg',\n",
       " 'datasets\\\\oxfordpet\\\\images\\\\staffordshire_bull_terrier_96.jpg',\n",
       " 'datasets\\\\oxfordpet\\\\images\\\\staffordshire_bull_terrier_97.jpg',\n",
       " 'datasets\\\\oxfordpet\\\\images\\\\staffordshire_bull_terrier_98.jpg',\n",
       " 'datasets\\\\oxfordpet\\\\images\\\\staffordshire_bull_terrier_99.jpg',\n",
       " 'datasets\\\\oxfordpet\\\\images\\\\wheaten_terrier_81.jpg',\n",
       " 'datasets\\\\oxfordpet\\\\images\\\\wheaten_terrier_82.jpg',\n",
       " 'datasets\\\\oxfordpet\\\\images\\\\wheaten_terrier_83.jpg',\n",
       " 'datasets\\\\oxfordpet\\\\images\\\\wheaten_terrier_84.jpg',\n",
       " 'datasets\\\\oxfordpet\\\\images\\\\wheaten_terrier_85.jpg',\n",
       " 'datasets\\\\oxfordpet\\\\images\\\\wheaten_terrier_86.jpg',\n",
       " 'datasets\\\\oxfordpet\\\\images\\\\wheaten_terrier_87.jpg',\n",
       " 'datasets\\\\oxfordpet\\\\images\\\\wheaten_terrier_88.jpg',\n",
       " 'datasets\\\\oxfordpet\\\\images\\\\wheaten_terrier_89.jpg',\n",
       " 'datasets\\\\oxfordpet\\\\images\\\\wheaten_terrier_9.jpg',\n",
       " 'datasets\\\\oxfordpet\\\\images\\\\wheaten_terrier_90.jpg',\n",
       " 'datasets\\\\oxfordpet\\\\images\\\\wheaten_terrier_91.jpg',\n",
       " 'datasets\\\\oxfordpet\\\\images\\\\wheaten_terrier_92.jpg',\n",
       " 'datasets\\\\oxfordpet\\\\images\\\\wheaten_terrier_93.jpg',\n",
       " 'datasets\\\\oxfordpet\\\\images\\\\wheaten_terrier_94.jpg',\n",
       " 'datasets\\\\oxfordpet\\\\images\\\\wheaten_terrier_95.jpg',\n",
       " 'datasets\\\\oxfordpet\\\\images\\\\wheaten_terrier_96.jpg',\n",
       " 'datasets\\\\oxfordpet\\\\images\\\\wheaten_terrier_97.jpg',\n",
       " 'datasets\\\\oxfordpet\\\\images\\\\wheaten_terrier_98.jpg',\n",
       " 'datasets\\\\oxfordpet\\\\images\\\\wheaten_terrier_99.jpg',\n",
       " 'datasets\\\\oxfordpet\\\\images\\\\yorkshire_terrier_81.jpg',\n",
       " 'datasets\\\\oxfordpet\\\\images\\\\yorkshire_terrier_82.jpg',\n",
       " 'datasets\\\\oxfordpet\\\\images\\\\yorkshire_terrier_83.jpg',\n",
       " 'datasets\\\\oxfordpet\\\\images\\\\yorkshire_terrier_84.jpg',\n",
       " 'datasets\\\\oxfordpet\\\\images\\\\yorkshire_terrier_85.jpg',\n",
       " 'datasets\\\\oxfordpet\\\\images\\\\yorkshire_terrier_86.jpg',\n",
       " 'datasets\\\\oxfordpet\\\\images\\\\yorkshire_terrier_87.jpg',\n",
       " 'datasets\\\\oxfordpet\\\\images\\\\yorkshire_terrier_88.jpg',\n",
       " 'datasets\\\\oxfordpet\\\\images\\\\yorkshire_terrier_89.jpg',\n",
       " 'datasets\\\\oxfordpet\\\\images\\\\yorkshire_terrier_9.jpg',\n",
       " 'datasets\\\\oxfordpet\\\\images\\\\yorkshire_terrier_90.jpg',\n",
       " 'datasets\\\\oxfordpet\\\\images\\\\yorkshire_terrier_91.jpg',\n",
       " 'datasets\\\\oxfordpet\\\\images\\\\yorkshire_terrier_92.jpg',\n",
       " 'datasets\\\\oxfordpet\\\\images\\\\yorkshire_terrier_93.jpg',\n",
       " 'datasets\\\\oxfordpet\\\\images\\\\yorkshire_terrier_94.jpg',\n",
       " 'datasets\\\\oxfordpet\\\\images\\\\yorkshire_terrier_95.jpg',\n",
       " 'datasets\\\\oxfordpet\\\\images\\\\yorkshire_terrier_96.jpg',\n",
       " 'datasets\\\\oxfordpet\\\\images\\\\yorkshire_terrier_97.jpg',\n",
       " 'datasets\\\\oxfordpet\\\\images\\\\yorkshire_terrier_98.jpg',\n",
       " 'datasets\\\\oxfordpet\\\\images\\\\yorkshire_terrier_99.jpg']"
      ]
     },
     "execution_count": 76,
     "metadata": {},
     "output_type": "execute_result"
    }
   ],
   "source": [
    "test_path_list"
   ]
  },
  {
   "cell_type": "code",
   "execution_count": 77,
   "metadata": {},
   "outputs": [],
   "source": [
    "### 사용자 정의 Dataset을 정의\n",
    "# 1. Dataset을 상속\n",
    "# 2. __init__() 재정의 -> 필요한 속성값들 초기화.\n",
    "# 3. __len__() 재정의 -> 총 제공할 데이터의 개수 반환. len() 연동\n",
    "# 4. __getitem__() 재정의 -> 1개 데이터의 값을 반환. -> (X, y) 튜플을 반환.\n",
    "#      - X: 경로의 이미지, y: class\n"
   ]
  },
  {
   "cell_type": "code",
   "execution_count": 78,
   "metadata": {},
   "outputs": [],
   "source": [
    "from torch.utils.data import Dataset\n",
    "from PIL import Image\n",
    "import re\n",
    "\n",
    "class OxfordPetDataset(Dataset):\n",
    "    \n",
    "    def __init__(self, path_list, transform=None):\n",
    "        self.path_list = path_list\n",
    "        self.transform = transform\n",
    "    \n",
    "    def __len__(self):\n",
    "        return len(self.path_list)\n",
    "    \n",
    "    def __getitem__(self, index):\n",
    "        # index의 X, y를 반환. \n",
    "        # X가 이미지일경우->transform할 경우===> PIL.Image 또는 ndarray로 읽어야 한다.\n",
    "        path = self.path_list[index]\n",
    "        img = Image.open(path)\n",
    "        \n",
    "        if self.transform:  # != None\n",
    "            img = self.transform(img)\n",
    "        fname = os.path.splitext(os.path.basename(path))[0]\n",
    "        class_name = re.sub(r'_\\d+', '', fname)\n",
    "        class_idx = class_to_index[class_name]\n",
    "        return img, class_idx"
   ]
  },
  {
   "cell_type": "code",
   "execution_count": 79,
   "metadata": {},
   "outputs": [],
   "source": [
    "from torchvision import transforms\n",
    "\n",
    "transform = transforms.Compose([\n",
    "    transforms.Resize((224, 224), antialias=True), \n",
    "    transforms.ToTensor(), \n",
    "])\n",
    "\n",
    "train_set = OxfordPetDataset(train_path_list, transform=transform)\n",
    "valid_set = OxfordPetDataset(valid_path_list, transform=transform)\n",
    "test_set = OxfordPetDataset(test_path_list, transform=transform)"
   ]
  },
  {
   "cell_type": "code",
   "execution_count": 80,
   "metadata": {},
   "outputs": [
    {
     "data": {
      "text/plain": [
       "(5180, 1480, 718)"
      ]
     },
     "execution_count": 80,
     "metadata": {},
     "output_type": "execute_result"
    }
   ],
   "source": [
    "len(train_set), len(valid_set), len(test_set)"
   ]
  },
  {
   "cell_type": "code",
   "execution_count": 81,
   "metadata": {},
   "outputs": [
    {
     "name": "stdout",
     "output_type": "stream",
     "text": [
      "7\n"
     ]
    },
    {
     "data": {
      "text/plain": [
       "(torch.Tensor, torch.Size([3, 224, 224]))"
      ]
     },
     "execution_count": 81,
     "metadata": {},
     "output_type": "execute_result"
    }
   ],
   "source": [
    "x, y = train_set[1030]\n",
    "print(y)\n",
    "type(x), x.shape"
   ]
  },
  {
   "cell_type": "code",
   "execution_count": 82,
   "metadata": {},
   "outputs": [
    {
     "data": {
      "image/png": "[encoded data removed]",
      "text/plain": [
       "<Figure size 640x480 with 1 Axes>"
      ]
     },
     "metadata": {},
     "output_type": "display_data"
    }
   ],
   "source": [
    "import matplotlib.pyplot as plt\n",
    "plt.imshow(x.permute(1, 2, 0))\n",
    "plt.title(f\"{y}-{index_to_class[y]}\")\n",
    "plt.show()"
   ]
  },
  {
   "cell_type": "code",
   "execution_count": 83,
   "metadata": {},
   "outputs": [],
   "source": [
    "from torch.utils.data import DataLoader\n",
    "train_loader_ox = DataLoader(train_set, 32, True)\n",
    "valid_loader_ox = DataLoader(valid_set, len(valid_set))\n",
    "test_loader_ox = DataLoader(test_set, 32)"
   ]
  },
  {
   "cell_type": "code",
   "execution_count": 84,
   "metadata": {},
   "outputs": [
    {
     "data": {
      "text/plain": [
       "(torch.Size([32, 3, 224, 224]), torch.Size([32]))"
      ]
     },
     "execution_count": 84,
     "metadata": {},
     "output_type": "execute_result"
    }
   ],
   "source": [
    "X_ox, y_ox = next(iter(train_loader_ox))\n",
    "X_ox.shape, y_ox.shape"
   ]
  },
  {
   "cell_type": "markdown",
   "metadata": {},
   "source": [
    "# Dataset을 이용해 CSV파일에 저장된 데이터셋 로딩"
   ]
  },
  {
   "cell_type": "code",
   "execution_count": 85,
   "metadata": {},
   "outputs": [],
   "source": [
    "import numpy as np\n",
    "import pandas as pd\n",
    "\n",
    "import torch\n",
    "from torch.utils.data import Dataset, DataLoader, TensorDataset"
   ]
  },
  {
   "cell_type": "code",
   "execution_count": 86,
   "metadata": {},
   "outputs": [
    {
     "data": {
      "text/plain": [
       "(150, 5)"
      ]
     },
     "execution_count": 86,
     "metadata": {},
     "output_type": "execute_result"
    }
   ],
   "source": [
    "iris = pd.read_csv('iris.data', header=None, \n",
    "                  names=['petal_length', 'petal_width', 'sepal_length', 'sepal_width', 'target'])\n",
    "iris.shape"
   ]
  },
  {
   "cell_type": "code",
   "execution_count": 87,
   "metadata": {},
   "outputs": [
    {
     "name": "stdout",
     "output_type": "stream",
     "text": [
      "<class 'pandas.core.frame.DataFrame'>\n",
      "RangeIndex: 150 entries, 0 to 149\n",
      "Data columns (total 5 columns):\n",
      " #   Column        Non-Null Count  Dtype  \n",
      "---  ------        --------------  -----  \n",
      " 0   petal_length  150 non-null    float64\n",
      " 1   petal_width   150 non-null    float64\n",
      " 2   sepal_length  150 non-null    float64\n",
      " 3   sepal_width   150 non-null    float64\n",
      " 4   target        150 non-null    object \n",
      "dtypes: float64(4), object(1)\n",
      "memory usage: 6.0+ KB\n"
     ]
    }
   ],
   "source": [
    "iris.info()"
   ]
  },
  {
   "cell_type": "code",
   "execution_count": 88,
   "metadata": {},
   "outputs": [
    {
     "name": "stdout",
     "output_type": "stream",
     "text": [
      "['Iris-setosa' 'Iris-versicolor' 'Iris-virginica']\n",
      "{'Iris-setosa': 0, 'Iris-versicolor': 1, 'Iris-virginica': 2}\n"
     ]
    }
   ],
   "source": [
    "index_to_class = iris['target'].unique()\n",
    "class_to_index = {key:value for value, key in enumerate(index_to_class)}\n",
    "print(index_to_class)\n",
    "print(class_to_index)"
   ]
  },
  {
   "cell_type": "code",
   "execution_count": 89,
   "metadata": {},
   "outputs": [
    {
     "data": {
      "text/plain": [
       "((150, 4), (150,))"
      ]
     },
     "execution_count": 89,
     "metadata": {},
     "output_type": "execute_result"
    }
   ],
   "source": [
    "X = iris.drop(columns='target').values\n",
    "y = iris['target'].values\n",
    "X.shape, y.shape"
   ]
  },
  {
   "cell_type": "code",
   "execution_count": 90,
   "metadata": {},
   "outputs": [],
   "source": [
    "# Train/Test 분리.\n",
    "from sklearn.model_selection import train_test_split\n",
    "\n",
    "X_train, X_test, y_train, y_test = train_test_split(X, y, stratify=y)"
   ]
  },
  {
   "cell_type": "code",
   "execution_count": 91,
   "metadata": {},
   "outputs": [],
   "source": [
    "# 사용자 정의 Dataset 정의\n",
    "class IrisDataset(Dataset):\n",
    "    \n",
    "    def __init__(self, X, y, mean, std):\n",
    "        # mean, std => standard scaling을 하기 위해 train set의 평균, 표준편차를 받는다.\n",
    "        # 모델의 parameter의 dtype인 float32에 맞춘다. \n",
    "        self.X = torch.tensor(X, dtype=torch.float32)\n",
    "        # feature scaling \n",
    "        mean = torch.tensor(mean, dtype=torch.float32)\n",
    "        std = torch.tensor(std, dtype=torch.float32)\n",
    "        \n",
    "        self.X = (self.X - mean) / std\n",
    "        self.y = y\n",
    "\n",
    "        \n",
    "    def __len__(self):\n",
    "        return self.X.shape[0]\n",
    "    \n",
    "    def __getitem__(self, index):\n",
    "        X = self.X[index]\n",
    "        y = class_to_index[self.y[index]]\n",
    "        return X, y"
   ]
  },
  {
   "cell_type": "code",
   "execution_count": 92,
   "metadata": {},
   "outputs": [],
   "source": [
    "mean = X_train.mean(axis=0)\n",
    "std = X_train.std(axis=0)\n",
    "\n",
    "train_set_ir = IrisDataset(X_train, y_train, mean, std)"
   ]
  },
  {
   "cell_type": "code",
   "execution_count": 93,
   "metadata": {},
   "outputs": [
    {
     "data": {
      "text/plain": [
       "(tensor([-0.0512, -0.8510,  0.7817,  0.9236]), 2)"
      ]
     },
     "execution_count": 93,
     "metadata": {},
     "output_type": "execute_result"
    }
   ],
   "source": [
    "len(train_set_ir)\n",
    "train_set_ir[5]"
   ]
  },
  {
   "cell_type": "code",
   "execution_count": 94,
   "metadata": {},
   "outputs": [],
   "source": [
    "## TensorDataset\n",
    "### X, y가 tensor객체로 메모리에 로딩되 있는 경우 사용."
   ]
  },
  {
   "cell_type": "code",
   "execution_count": 95,
   "metadata": {},
   "outputs": [],
   "source": [
    "from sklearn.model_selection import train_test_split\n",
    "from sklearn.preprocessing import StandardScaler\n",
    "\n",
    "y =  iris['target'].apply(lambda x : class_to_index[x]).values\n",
    "\n",
    "X_train, X_test, y_train, y_test = train_test_split(X, y, stratify=y)\n",
    "# type(X_train), type(y_train)\n",
    "\n",
    "scaler = StandardScaler()\n",
    "X_train_scaled = scaler.fit_transform(X_train)\n",
    "X_test_scaled = scaler.transform(X_test)"
   ]
  },
  {
   "cell_type": "code",
   "execution_count": 96,
   "metadata": {},
   "outputs": [],
   "source": [
    "# ndarray => tensor \n",
    "#  TensorDataset(X:torch.Tensor, y:torch.Tensor)\n",
    "train_set_ir2 = TensorDataset(torch.tensor(X_train_scaled, dtype=torch.float32), \n",
    "                              torch.tensor(y_train, dtype=torch.float32))"
   ]
  },
  {
   "cell_type": "code",
   "execution_count": 97,
   "metadata": {},
   "outputs": [
    {
     "data": {
      "text/plain": [
       "112"
      ]
     },
     "execution_count": 97,
     "metadata": {},
     "output_type": "execute_result"
    }
   ],
   "source": [
    "len(train_set_ir2)"
   ]
  },
  {
   "cell_type": "code",
   "execution_count": 98,
   "metadata": {},
   "outputs": [
    {
     "data": {
      "text/plain": [
       "(tensor([0.8731, 0.3863, 0.7882, 1.0562]), tensor(2.))"
      ]
     },
     "execution_count": 98,
     "metadata": {},
     "output_type": "execute_result"
    }
   ],
   "source": [
    "train_set_ir2[6]"
   ]
  },
  {
   "cell_type": "code",
   "execution_count": null,
   "metadata": {},
   "outputs": [],
   "source": []
  },
  {
   "cell_type": "markdown",
   "metadata": {},
   "source": [
    "## torchvision.datasets.ImageFolder 이용\n",
    "- 저장장치에 파일로 저장된 image들을 쉽게 로딩할 수 있도록 한다.\n",
    "- train/validation/test 데이터셋을 저장하는 디렉토리에 class 별로 디렉토리를 만들고 이미지를 저장한다."
   ]
  },
  {
   "cell_type": "code",
   "execution_count": 99,
   "metadata": {},
   "outputs": [
    {
     "name": "stdout",
     "output_type": "stream",
     "text": [
      "Requirement already satisfied: gdown in c:\\users\\playdata\\anaconda3\\envs\\ml\\lib\\site-packages (4.7.1)\n",
      "Requirement already satisfied: six in c:\\users\\playdata\\anaconda3\\envs\\ml\\lib\\site-packages (from gdown) (1.16.0)\n",
      "Requirement already satisfied: tqdm in c:\\users\\playdata\\anaconda3\\envs\\ml\\lib\\site-packages (from gdown) (4.65.0)\n",
      "Requirement already satisfied: filelock in c:\\users\\playdata\\anaconda3\\envs\\ml\\lib\\site-packages (from gdown) (3.12.0)\n",
      "Requirement already satisfied: requests[socks] in c:\\users\\playdata\\anaconda3\\envs\\ml\\lib\\site-packages (from gdown) (2.28.2)\n",
      "Requirement already satisfied: beautifulsoup4 in c:\\users\\playdata\\anaconda3\\envs\\ml\\lib\\site-packages (from gdown) (4.12.2)\n",
      "Requirement already satisfied: soupsieve>1.2 in c:\\users\\playdata\\anaconda3\\envs\\ml\\lib\\site-packages (from beautifulsoup4->gdown) (2.4.1)\n",
      "Requirement already satisfied: charset-normalizer<4,>=2 in c:\\users\\playdata\\anaconda3\\envs\\ml\\lib\\site-packages (from requests[socks]->gdown) (3.1.0)\n",
      "Requirement already satisfied: idna<4,>=2.5 in c:\\users\\playdata\\anaconda3\\envs\\ml\\lib\\site-packages (from requests[socks]->gdown) (3.4)\n",
      "Requirement already satisfied: certifi>=2017.4.17 in c:\\users\\playdata\\anaconda3\\envs\\ml\\lib\\site-packages (from requests[socks]->gdown) (2022.12.7)\n",
      "Requirement already satisfied: urllib3<1.27,>=1.21.1 in c:\\users\\playdata\\anaconda3\\envs\\ml\\lib\\site-packages (from requests[socks]->gdown) (1.26.15)\n",
      "Requirement already satisfied: PySocks!=1.5.7,>=1.5.6 in c:\\users\\playdata\\anaconda3\\envs\\ml\\lib\\site-packages (from requests[socks]->gdown) (1.7.1)\n",
      "Requirement already satisfied: colorama in c:\\users\\playdata\\anaconda3\\envs\\ml\\lib\\site-packages (from tqdm->gdown) (0.4.6)\n"
     ]
    }
   ],
   "source": [
    "!pip install gdown --upgrade"
   ]
  },
  {
   "cell_type": "code",
   "execution_count": 100,
   "metadata": {},
   "outputs": [
    {
     "name": "stderr",
     "output_type": "stream",
     "text": [
      "Downloading...\n",
      "From (uriginal): https://drive.google.com/uc?id=1YIxDL0XJhhAMdScdRUfDgccAqyCw5-ZV\n",
      "From (redirected): https://drive.google.com/uc?id=1YIxDL0XJhhAMdScdRUfDgccAqyCw5-ZV&confirm=t&uuid=85ad19d1-d3ee-4f4c-8603-7b009d647189\n",
      "To: C:\\Users\\Playdata\\Desktop\\딥러닝\\data\\cats_and_dogs_small.zip\n",
      "100%|█████████████████████████████████████████████████████████████████████████████| 90.8M/90.8M [00:02<00:00, 43.8MB/s]\n"
     ]
    }
   ],
   "source": [
    "\n",
    "import os\n",
    "from zipfile import ZipFile\n",
    "import gdown\n",
    "def down_extract():\n",
    "    os.makedirs('data', exist_ok=True)\n",
    "    url = 'https://drive.google.com/uc?id=1YIxDL0XJhhAMdScdRUfDgccAqyCw5-ZV'\n",
    "    fname = 'data/cats_and_dogs_small.zip'\n",
    "\n",
    "    gdown.download(url, fname, quiet=False)\n",
    "    \n",
    "    #zipfile모듈: Zip 압축파일을 다루는 모듈(압축하기, 풀기)\n",
    "    from zipfile import ZipFile\n",
    "    # 압축풀기: ZipFile(압축파일경로).extractall(풀경로) # 디렉토리 없으면 생성해 준다.\n",
    "    with ZipFile(fname) as zipFile:\n",
    "        zipFile.extractall(os.path.join('data','cats_and_dogs_small'))\n",
    "        \n",
    "down_extract()        "
   ]
  },
  {
   "cell_type": "code",
   "execution_count": null,
   "metadata": {},
   "outputs": [],
   "source": [
    "from torchvision.datasets import ImageFolder\n",
    "from torchvision.transforms import ToTensor\n",
    "train_set_cd = ImageFolder(root='data/cats_and_dogs_small/train',transform=ToTensor())\n",
    "test_set_cd = ImageFolder(root='data/cats_and_dogs_small/test',transform=ToTensor())\n",
    "valid_set_cd = ImageFolder(root='data/cats_and_dogs_small/validation',transform=ToTensor())"
   ]
  },
  {
   "cell_type": "code",
   "execution_count": null,
   "metadata": {},
   "outputs": [],
   "source": [
    "train_set_cd"
   ]
  },
  {
   "cell_type": "code",
   "execution_count": null,
   "metadata": {},
   "outputs": [],
   "source": [
    "len(train_set_cd),len(test_set_cd),len(valid_set_cd)"
   ]
  },
  {
   "cell_type": "code",
   "execution_count": null,
   "metadata": {},
   "outputs": [],
   "source": [
    "train_set_cd.classes # 0,1 "
   ]
  },
  {
   "cell_type": "code",
   "execution_count": null,
   "metadata": {},
   "outputs": [],
   "source": [
    "train_set_cd.class_to_idx"
   ]
  },
  {
   "cell_type": "code",
   "execution_count": null,
   "metadata": {},
   "outputs": [],
   "source": [
    "x,y = train_set_cd[0]"
   ]
  },
  {
   "cell_type": "code",
   "execution_count": null,
   "metadata": {},
   "outputs": [],
   "source": [
    "x.shape"
   ]
  },
  {
   "cell_type": "code",
   "execution_count": null,
   "metadata": {},
   "outputs": [],
   "source": [
    "plt.imshow(x.permute(1,2,0))"
   ]
  }
 ],
 "metadata": {
  "kernelspec": {
   "display_name": "Python 3 (ipykernel)",
   "language": "python",
   "name": "python3"
  },
  "language_info": {
   "codemirror_mode": {
    "name": "ipython",
    "version": 3
   },
   "file_extension": ".py",
   "mimetype": "text/x-python",
   "name": "python",
   "nbconvert_exporter": "python",
   "pygments_lexer": "ipython3",
   "version": "3.10.11"
  },
  "toc": {
   "base_numbering": 1,
   "nav_menu": {},
   "number_sections": false,
   "sideBar": true,
   "skip_h1_title": false,
   "title_cell": "Table of Contents",
   "title_sidebar": "Contents",
   "toc_cell": false,
   "toc_position": {
    "height": "calc(100% - 180px)",
    "left": "10px",
    "top": "150px",
    "width": "455.111px"
   },
   "toc_section_display": true,
   "toc_window_display": false
  },
  "varInspector": {
   "cols": {
    "lenName": 16,
    "lenType": 16,
    "lenVar": 40
   },
   "kernels_config": {
    "python": {
     "delete_cmd_postfix": "",
     "delete_cmd_prefix": "del ",
     "library": "var_list.py",
     "varRefreshCmd": "print(var_dic_list())"
    },
    "r": {
     "delete_cmd_postfix": ") ",
     "delete_cmd_prefix": "rm(",
     "library": "var_list.r",
     "varRefreshCmd": "cat(var_dic_list()) "
    }
   },
   "types_to_exclude": [
    "module",
    "function",
    "builtin_function_or_method",
    "instance",
    "_Feature"
   ],
   "window_display": false
  }
 },
 "nbformat": 4,
 "nbformat_minor": 4
}
