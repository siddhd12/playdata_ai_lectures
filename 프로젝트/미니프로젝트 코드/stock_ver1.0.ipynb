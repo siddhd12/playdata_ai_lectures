{
 "cells": [
  {
   "cell_type": "code",
   "execution_count": 87,
   "id": "24f38120",
   "metadata": {},
   "outputs": [
    {
     "name": "stdout",
     "output_type": "stream",
     "text": [
      "잘연결\n",
      "https://finance.naver.com/research/company_read.naver?nid=65857&page=1\n",
      "https://finance.naver.com/research/company_read.naver?nid=65856&page=1\n",
      "https://finance.naver.com/research/company_read.naver?nid=65855&page=1\n",
      "https://finance.naver.com/research/company_read.naver?nid=65854&page=1\n",
      "https://finance.naver.com/research/company_read.naver?nid=65853&page=1\n",
      "https://finance.naver.com/research/company_read.naver?nid=65852&page=1\n",
      "https://finance.naver.com/research/company_read.naver?nid=65851&page=1\n",
      "https://finance.naver.com/research/company_read.naver?nid=65850&page=1\n",
      "https://finance.naver.com/research/company_read.naver?nid=65849&page=1\n",
      "https://finance.naver.com/research/company_read.naver?nid=65848&page=1\n",
      "https://finance.naver.com/research/company_read.naver?nid=65847&page=1\n",
      "https://finance.naver.com/research/company_read.naver?nid=65846&page=1\n",
      "https://finance.naver.com/research/company_read.naver?nid=65845&page=1\n",
      "https://finance.naver.com/research/company_read.naver?nid=65844&page=1\n",
      "https://finance.naver.com/research/company_read.naver?nid=65843&page=1\n",
      "https://finance.naver.com/research/company_read.naver?nid=65842&page=1\n",
      "https://finance.naver.com/research/company_read.naver?nid=65841&page=1\n",
      "https://finance.naver.com/research/company_read.naver?nid=65840&page=1\n",
      "https://finance.naver.com/research/company_read.naver?nid=65839&page=1\n",
      "https://finance.naver.com/research/company_read.naver?nid=65838&page=1\n",
      "https://finance.naver.com/research/company_read.naver?nid=65837&page=1\n",
      "https://finance.naver.com/research/company_read.naver?nid=65836&page=1\n",
      "https://finance.naver.com/research/company_read.naver?nid=65835&page=1\n",
      "https://finance.naver.com/research/company_read.naver?nid=65834&page=1\n",
      "https://finance.naver.com/research/company_read.naver?nid=65833&page=1\n",
      "https://finance.naver.com/research/company_read.naver?nid=65832&page=1\n",
      "https://finance.naver.com/research/company_read.naver?nid=65831&page=1\n",
      "https://finance.naver.com/research/company_read.naver?nid=65830&page=1\n",
      "https://finance.naver.com/research/company_read.naver?nid=65829&page=1\n",
      "https://finance.naver.com/research/company_read.naver?nid=65828&page=1\n"
     ]
    }
   ],
   "source": [
    "import requests\n",
    "from bs4 import BeautifulSoup\n",
    "stock='삼성전자'\n",
    "url = f'https://finance.naver.com/research/company_list.naver?keyword=&brokerCode=&writeFromDate=&writeToDate=&searchType=itemCode&itemName={stock}&itemCode=005930'\n",
    "user_agent = 'Mozilla/5.0 (Windows NT 10.0; Win64; x64) AppleWebKit/537.36 (KHTML, like Gecko) Chrome/114.0.0.0 Safari/537.36' \n",
    "num=0\n",
    "response = requests.get(url, headers={\"User-Agent\":user_agent})\n",
    "if response.status_code == 200:\n",
    "    print(\"잘연결\")\n",
    "    soup = BeautifulSoup(response.text)\n",
    "    tag_list = soup.select(\"#contentarea_left>div.box_type_m>table.type_1>tr>td>a\")\n",
    "#     print(tag_list)\n",
    "    raw_list = []\n",
    "    link_list = []\n",
    "    for tag in tag_list:\n",
    "        raw_list.append(tag.get(\"href\"))\n",
    "#     print(raw_list)\n",
    "    for link in raw_list:\n",
    "#         print(link)\n",
    "        \n",
    "        if 'company_read.naver?' in link:\n",
    "            link_list.append('https://finance.naver.com/research/'+link)\n",
    "#     print(link_list)\n",
    "#     print(len(link_list))\n",
    "    for url in link_list:\n",
    "        url_request = requests.get(url, headers={\"User-Agent\":user_agent}\n",
    "        num+=1                           \n",
    "        if num==1:\n",
    "            break\n",
    "else:\n",
    "    print(\"문제 발생\")"
   ]
  },
  {
   "cell_type": "code",
   "execution_count": 66,
   "id": "48bde6a4",
   "metadata": {},
   "outputs": [
    {
     "name": "stdout",
     "output_type": "stream",
     "text": [
      "잘연결\n",
      "[<a class=\"stock_item\" href=\"/item/main.naver?code=005930\" title=\"삼성전자\">삼성전자</a>, <a href=\"company_read.naver?nid=65857&amp;page=1\">메모리 회복에 주목하자</a>, <a class=\"stock_item\" href=\"/item/main.naver?code=011070\" title=\"LG이노텍\">LG이노텍</a>, <a href=\"company_read.naver?nid=65856&amp;page=1\">부각되는 실적 안정성</a>, <a href=\"https://ssl.pstatic.net/imgstock/upload/research/company/1688430788669.pdf\" target=\"_blank\"><img align=\"absmiddle\" alt=\"pdf\" src=\"https://ssl.pstatic.net/imgstock/images5/down.gif\"/></a>, <a class=\"stock_item\" href=\"/item/main.naver?code=161890\" title=\"한국콜마\">한국콜마</a>, <a href=\"company_read.naver?nid=65855&amp;page=1\">2Q23 Pre: 분기 최대 매출 전망</a>, <a href=\"https://ssl.pstatic.net/imgstock/upload/research/company/1688430637414.pdf\" target=\"_blank\"><img align=\"absmiddle\" alt=\"pdf\" src=\"https://ssl.pstatic.net/imgstock/images5/down.gif\"/></a>, <a class=\"stock_item\" href=\"/item/main.naver?code=195870\" title=\"해성디에스\">해성디에스</a>, <a href=\"company_read.naver?nid=65854&amp;page=1\">메모리 업황 회복과 DDR5 수혜</a>, <a href=\"https://ssl.pstatic.net/imgstock/upload/research/company/1688430549754.pdf\" target=\"_blank\"><img align=\"absmiddle\" alt=\"pdf\" src=\"https://ssl.pstatic.net/imgstock/images5/down.gif\"/></a>, <a class=\"stock_item\" href=\"/item/main.naver?code=286940\" title=\"롯데정보통신\">롯데정보통신</a>, <a href=\"company_read.naver?nid=65853&amp;page=1\">우려와 달리 견조한 본업 실적</a>, <a href=\"https://ssl.pstatic.net/imgstock/upload/research/company/1688429868704.pdf\" target=\"_blank\"><img align=\"absmiddle\" alt=\"pdf\" src=\"https://ssl.pstatic.net/imgstock/images5/down.gif\"/></a>, <a class=\"stock_item\" href=\"/item/main.naver?code=010950\" title=\"S-Oil\">S-Oil</a>, <a href=\"company_read.naver?nid=65852&amp;page=1\">2Q23 Preview: 유가 하락에 따른 부진한 실적..</a>, <a href=\"https://ssl.pstatic.net/imgstock/upload/research/company/1688429765685.pdf\" target=\"_blank\"><img align=\"absmiddle\" alt=\"pdf\" src=\"https://ssl.pstatic.net/imgstock/images5/down.gif\"/></a>, <a class=\"stock_item\" href=\"/item/main.naver?code=263750\" title=\"펄어비스\">펄어비스</a>, <a href=\"company_read.naver?nid=65851&amp;page=1\">붉은 사막 기대감 다시 한 번</a>, <a href=\"https://ssl.pstatic.net/imgstock/upload/research/company/1688429239255.pdf\" target=\"_blank\"><img align=\"absmiddle\" alt=\"pdf\" src=\"https://ssl.pstatic.net/imgstock/images5/down.gif\"/></a>, <a class=\"stock_item\" href=\"/item/main.naver?code=018880\" title=\"한온시스템\">한온시스템</a>, <a href=\"company_read.naver?nid=65850&amp;page=1\">수주로 보여줄 경쟁력</a>, <a href=\"https://ssl.pstatic.net/imgstock/upload/research/company/1688429123798.pdf\" target=\"_blank\"><img align=\"absmiddle\" alt=\"pdf\" src=\"https://ssl.pstatic.net/imgstock/images5/down.gif\"/></a>, <a class=\"stock_item\" href=\"/item/main.naver?code=383220\" title=\"F&amp;F\">F&amp;F</a>, <a href=\"company_read.naver?nid=65849&amp;page=1\">중국 고성장 지속, 국내 부문 성장성은 둔화</a>, <a href=\"https://ssl.pstatic.net/imgstock/upload/research/company/1688429014794.pdf\" target=\"_blank\"><img align=\"absmiddle\" alt=\"pdf\" src=\"https://ssl.pstatic.net/imgstock/images5/down.gif\"/></a>, <a class=\"stock_item\" href=\"/item/main.naver?code=028670\" title=\"팬오션\">팬오션</a>, <a href=\"company_read.naver?nid=65848&amp;page=1\">불확실한 벌크 업황 속 공격적 경영</a>, <a href=\"https://ssl.pstatic.net/imgstock/upload/research/company/1688436731537.pdf\" target=\"_blank\"><img align=\"absmiddle\" alt=\"pdf\" src=\"https://ssl.pstatic.net/imgstock/images5/down.gif\"/></a>, <a class=\"stock_item\" href=\"/item/main.naver?code=018250\" title=\"애경산업\">애경산업</a>, <a href=\"company_read.naver?nid=65847&amp;page=1\">브랜드+지역+채널 모두 다각화</a>, <a href=\"https://ssl.pstatic.net/imgstock/upload/research/company/1688428220562.pdf\" target=\"_blank\"><img align=\"absmiddle\" alt=\"pdf\" src=\"https://ssl.pstatic.net/imgstock/images5/down.gif\"/></a>, <a class=\"stock_item\" href=\"/item/main.naver?code=161890\" title=\"한국콜마\">한국콜마</a>, <a href=\"company_read.naver?nid=65846&amp;page=1\">SUN, 확실한 경쟁력</a>, <a href=\"https://ssl.pstatic.net/imgstock/upload/research/company/1688427661673.pdf\" target=\"_blank\"><img align=\"absmiddle\" alt=\"pdf\" src=\"https://ssl.pstatic.net/imgstock/images5/down.gif\"/></a>, <a class=\"stock_item\" href=\"/item/main.naver?code=272110\" title=\"케이엔제이\">케이엔제이</a>, <a href=\"company_read.naver?nid=65845&amp;page=1\">또 한번의 도약을 위한 준비</a>, <a href=\"https://ssl.pstatic.net/imgstock/upload/research/company/1688427450398.pdf\" target=\"_blank\"><img align=\"absmiddle\" alt=\"pdf\" src=\"https://ssl.pstatic.net/imgstock/images5/down.gif\"/></a>, <a class=\"stock_item\" href=\"/item/main.naver?code=060370\" title=\"KT서브마린\">KT서브마린</a>, <a href=\"company_read.naver?nid=65844&amp;page=1\">해상풍력이 미래다</a>, <a href=\"https://ssl.pstatic.net/imgstock/upload/research/company/1688426620961.pdf\" target=\"_blank\"><img align=\"absmiddle\" alt=\"pdf\" src=\"https://ssl.pstatic.net/imgstock/images5/down.gif\"/></a>, <a class=\"stock_item\" href=\"/item/main.naver?code=352820\" title=\"하이브\">하이브</a>, <a href=\"company_read.naver?nid=65843&amp;page=1\">순조로운 사업 성과</a>, <a href=\"https://ssl.pstatic.net/imgstock/upload/research/company/1688426268687.pdf\" target=\"_blank\"><img align=\"absmiddle\" alt=\"pdf\" src=\"https://ssl.pstatic.net/imgstock/images5/down.gif\"/></a>, <a class=\"stock_item\" href=\"/item/main.naver?code=114090\" title=\"GKL\">GKL</a>, <a href=\"company_read.naver?nid=65842&amp;page=1\">홀드율 부진이 아쉽다</a>, <a href=\"https://ssl.pstatic.net/imgstock/upload/research/company/1688425972930.pdf\" target=\"_blank\"><img align=\"absmiddle\" alt=\"pdf\" src=\"https://ssl.pstatic.net/imgstock/images5/down.gif\"/></a>, <a class=\"stock_item\" href=\"/item/main.naver?code=034230\" title=\"파라다이스\">파라다이스</a>, <a href=\"company_read.naver?nid=65841&amp;page=1\">2분기 서프라이즈 전망</a>, <a href=\"https://ssl.pstatic.net/imgstock/upload/research/company/1688425814832.pdf\" target=\"_blank\"><img align=\"absmiddle\" alt=\"pdf\" src=\"https://ssl.pstatic.net/imgstock/images5/down.gif\"/></a>, <a class=\"stock_item\" href=\"/item/main.naver?code=114840\" title=\"아이패밀리에스씨\">아이패밀리에스씨</a>, <a href=\"company_read.naver?nid=65840&amp;page=1\">일본향 색조 브랜드사</a>, <a href=\"https://ssl.pstatic.net/imgstock/upload/research/company/1688425627061.pdf\" target=\"_blank\"><img align=\"absmiddle\" alt=\"pdf\" src=\"https://ssl.pstatic.net/imgstock/images5/down.gif\"/></a>, <a class=\"stock_item\" href=\"/item/main.naver?code=000120\" title=\"CJ대한통운\">CJ대한통운</a>, <a href=\"company_read.naver?nid=65839&amp;page=1\">뿌리깊은 나무</a>, <a href=\"https://ssl.pstatic.net/imgstock/upload/research/company/1688425416742.pdf\" target=\"_blank\"><img align=\"absmiddle\" alt=\"pdf\" src=\"https://ssl.pstatic.net/imgstock/images5/down.gif\"/></a>, <a class=\"stock_item\" href=\"/item/main.naver?code=207940\" title=\"삼성바이오로직스\">삼성바이오로직스</a>, <a href=\"company_read.naver?nid=65838&amp;page=1\">2Q23Pre: 안정적인 본업 성장</a>, <a href=\"https://ssl.pstatic.net/imgstock/upload/research/company/1688350590747.pdf\" target=\"_blank\"><img align=\"absmiddle\" alt=\"pdf\" src=\"https://ssl.pstatic.net/imgstock/images5/down.gif\"/></a>, <a class=\"stock_item\" href=\"/item/main.naver?code=018250\" title=\"애경산업\">애경산업</a>, <a href=\"company_read.naver?nid=65837&amp;page=1\">2Q23 Pre: 오히려 좋아</a>, <a href=\"https://ssl.pstatic.net/imgstock/upload/research/company/1688350065154.pdf\" target=\"_blank\"><img align=\"absmiddle\" alt=\"pdf\" src=\"https://ssl.pstatic.net/imgstock/images5/down.gif\"/></a>, <a class=\"stock_item\" href=\"/item/main.naver?code=002790\" title=\"아모레G\">아모레G</a>, <a href=\"company_read.naver?nid=65836&amp;page=1\">2Q23 Pre: 아모레P 부진 지속</a>, <a href=\"https://ssl.pstatic.net/imgstock/upload/research/company/1688349846300.pdf\" target=\"_blank\"><img align=\"absmiddle\" alt=\"pdf\" src=\"https://ssl.pstatic.net/imgstock/images5/down.gif\"/></a>, <a class=\"stock_item\" href=\"/item/main.naver?code=049770\" title=\"동원F&amp;B\">동원F&amp;B</a>, <a href=\"company_read.naver?nid=65835&amp;page=1\">2Q23 Pre: 탑라인은 견조</a>, <a href=\"https://ssl.pstatic.net/imgstock/upload/research/company/1688349707245.pdf\" target=\"_blank\"><img align=\"absmiddle\" alt=\"pdf\" src=\"https://ssl.pstatic.net/imgstock/images5/down.gif\"/></a>, <a class=\"stock_item\" href=\"/item/main.naver?code=036460\" title=\"한국가스공사\">한국가스공사</a>, <a href=\"company_read.naver?nid=65834&amp;page=1\">총선 이후 겨냥, 4Q23-1Q24 선제적 대응</a>, <a href=\"https://ssl.pstatic.net/imgstock/upload/research/company/1688348570424.pdf\" target=\"_blank\"><img align=\"absmiddle\" alt=\"pdf\" src=\"https://ssl.pstatic.net/imgstock/images5/down.gif\"/></a>, <a class=\"stock_item\" href=\"/item/main.naver?code=028050\" title=\"삼성엔지니어링\">삼성엔지니어링</a>, <a href=\"company_read.naver?nid=65833&amp;page=1\">영양가 있는 식단</a>, <a href=\"https://ssl.pstatic.net/imgstock/upload/research/company/1688348275917.pdf\" target=\"_blank\"><img align=\"absmiddle\" alt=\"pdf\" src=\"https://ssl.pstatic.net/imgstock/images5/down.gif\"/></a>, <a class=\"stock_item\" href=\"/item/main.naver?code=161390\" title=\"한국타이어앤테크놀로지\">한국타이어앤테크놀로지</a>, <a href=\"company_read.naver?nid=65832&amp;page=1\">부담은 없다</a>, <a href=\"https://ssl.pstatic.net/imgstock/upload/research/company/1688347931621.pdf\" target=\"_blank\"><img align=\"absmiddle\" alt=\"pdf\" src=\"https://ssl.pstatic.net/imgstock/images5/down.gif\"/></a>, <a class=\"stock_item\" href=\"/item/main.naver?code=028670\" title=\"팬오션\">팬오션</a>, <a href=\"company_read.naver?nid=65831&amp;page=1\">실적 눈높이 낮추지만 24년 업황 개선 전망 ..</a>, <a href=\"https://ssl.pstatic.net/imgstock/upload/research/company/1688347707837.pdf\" target=\"_blank\"><img align=\"absmiddle\" alt=\"pdf\" src=\"https://ssl.pstatic.net/imgstock/images5/down.gif\"/></a>, <a class=\"stock_item\" href=\"/item/main.naver?code=375500\" title=\"DL이앤씨\">DL이앤씨</a>, <a href=\"company_read.naver?nid=65830&amp;page=1\">Underrated</a>, <a href=\"https://ssl.pstatic.net/imgstock/upload/research/company/1688347516681.pdf\" target=\"_blank\"><img align=\"absmiddle\" alt=\"pdf\" src=\"https://ssl.pstatic.net/imgstock/images5/down.gif\"/></a>, <a class=\"stock_item\" href=\"/item/main.naver?code=006360\" title=\"GS건설\">GS건설</a>, <a href=\"company_read.naver?nid=65829&amp;page=1\">별일이 없다면...</a>, <a href=\"https://ssl.pstatic.net/imgstock/upload/research/company/1688347245373.pdf\" target=\"_blank\"><img align=\"absmiddle\" alt=\"pdf\" src=\"https://ssl.pstatic.net/imgstock/images5/down.gif\"/></a>, <a class=\"stock_item\" href=\"/item/main.naver?code=111110\" title=\"호전실업\">호전실업</a>, <a href=\"company_read.naver?nid=65828&amp;page=1\">제품은 작품인데, 주가는 사은품 수준</a>, <a href=\"https://ssl.pstatic.net/imgstock/upload/research/company/1688344584979.pdf\" target=\"_blank\"><img align=\"absmiddle\" alt=\"pdf\" src=\"https://ssl.pstatic.net/imgstock/images5/down.gif\"/></a>]\n"
     ]
    }
   ],
   "source": []
  },
  {
   "cell_type": "code",
   "execution_count": 47,
   "id": "2d6a8a32",
   "metadata": {},
   "outputs": [
    {
     "ename": "IndentationError",
     "evalue": "unindent does not match any outer indentation level (<tokenize>, line 14)",
     "output_type": "error",
     "traceback": [
      "\u001b[1;36m  File \u001b[1;32m<tokenize>:14\u001b[1;36m\u001b[0m\n\u001b[1;33m    print(tag)\u001b[0m\n\u001b[1;37m    ^\u001b[0m\n\u001b[1;31mIndentationError\u001b[0m\u001b[1;31m:\u001b[0m unindent does not match any outer indentation level\n"
     ]
    }
   ],
   "source": [
    "import requests\n",
    "from bs4 import BeautifulSoup\n",
    "stock='삼성전자'\n",
    "url = f'https://finance.naver.com/research/company_list.naver?keyword=&brokerCode=&writeFromDate=&writeToDate=&searchType=itemCode&itemName={stock}&itemCode=005930'\n",
    "user_agent = 'Mozilla/5.0 (Windows NT 10.0; Win64; x64) AppleWebKit/537.36 (KHTML, like Gecko) Chrome/114.0.0.0 Safari/537.36' \n",
    "\n",
    "def get_url():# 요청\n",
    "    response = requests.get(url, headers={\"User-Agent\":user_agent})\n",
    "    if response.status_code == 200: #정상응답이 왔다면\n",
    "#         print(\"잘 연결\")\n",
    "        soup = BeautifulSoup(response.text, 'lxml')\n",
    "#         print(soup)\n",
    "        tag = soup.select(\"#contentarea_left > div.box_type_m > table.type_1 > tbody > tr:nth-child(3) > td:nth-child(2) > a\")\n",
    "      print(tag)\n",
    "    #contentarea_left > div.box_type_m > table.type_1 > tbody > tr:nth-child(3) > td:nth-child(2) > a"
   ]
  },
  {
   "cell_type": "code",
   "execution_count": 40,
   "id": "4fc0e191",
   "metadata": {
    "scrolled": false
   },
   "outputs": [],
   "source": [
    "get_url()"
   ]
  },
  {
   "cell_type": "code",
   "execution_count": null,
   "id": "88bac443",
   "metadata": {},
   "outputs": [],
   "source": [
    "https://finance.naver.com/research/company_list.naver?keyword=&brokerCode=&writeFromDate=&writeToDate=&searchType=itemCode&itemName=삼성전자&itemCode=005930"
   ]
  },
  {
   "cell_type": "code",
   "execution_count": null,
   "id": "e7469c85",
   "metadata": {},
   "outputs": [],
   "source": [
    "https://finance.naver.com/research/company_list.naver?keyword=&brokerCode=&writeFromDate=&writeToDate=&searchType=itemCode=삼성전자"
   ]
  },
  {
   "cell_type": "code",
   "execution_count": null,
   "id": "f0ac6946",
   "metadata": {},
   "outputs": [],
   "source": []
  }
 ],
 "metadata": {
  "kernelspec": {
   "display_name": "Python 3 (ipykernel)",
   "language": "python",
   "name": "python3"
  },
  "language_info": {
   "codemirror_mode": {
    "name": "ipython",
    "version": 3
   },
   "file_extension": ".py",
   "mimetype": "text/x-python",
   "name": "python",
   "nbconvert_exporter": "python",
   "pygments_lexer": "ipython3",
   "version": "3.10.11"
  }
 },
 "nbformat": 4,
 "nbformat_minor": 5
}
