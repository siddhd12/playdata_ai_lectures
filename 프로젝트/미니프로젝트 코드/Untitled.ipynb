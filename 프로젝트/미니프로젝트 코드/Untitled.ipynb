{
 "cells": [
  {
   "cell_type": "code",
   "execution_count": 2,
   "id": "d40fd7b0",
   "metadata": {},
   "outputs": [],
   "source": [
    "import pandas as pd\n",
    "import os"
   ]
  },
  {
   "cell_type": "code",
   "execution_count": 3,
   "id": "c5ae4a12",
   "metadata": {},
   "outputs": [
    {
     "data": {
      "text/plain": [
       "'C:\\\\Users\\\\Playdata\\\\Desktop\\\\project'"
      ]
     },
     "execution_count": 3,
     "metadata": {},
     "output_type": "execute_result"
    }
   ],
   "source": [
    "os.getcwd()"
   ]
  },
  {
   "cell_type": "code",
   "execution_count": 7,
   "id": "b2d0b353",
   "metadata": {},
   "outputs": [],
   "source": [
    "df=pd.read_csv('lg_data.csv',index_col='index')  # index "
   ]
  },
  {
   "cell_type": "code",
   "execution_count": 9,
   "id": "8108cbd9",
   "metadata": {},
   "outputs": [
    {
     "data": {
      "text/plain": [
       "Index(['Unnamed: 1', 'date', 'links', 'titles', 'contests',\n",
       "       'present_closing price', '대비', '판별'],\n",
       "      dtype='object')"
      ]
     },
     "execution_count": 9,
     "metadata": {},
     "output_type": "execute_result"
    }
   ],
   "source": [
    "df.columns"
   ]
  },
  {
   "cell_type": "code",
   "execution_count": 26,
   "id": "b0f10b8f",
   "metadata": {},
   "outputs": [
    {
     "ename": "KeyError",
     "evalue": "\"['Unnamed: 1'] not found in axis\"",
     "output_type": "error",
     "traceback": [
      "\u001b[1;31m---------------------------------------------------------------------------\u001b[0m",
      "\u001b[1;31mKeyError\u001b[0m                                  Traceback (most recent call last)",
      "Cell \u001b[1;32mIn[26], line 1\u001b[0m\n\u001b[1;32m----> 1\u001b[0m \u001b[43mdf\u001b[49m\u001b[38;5;241;43m.\u001b[39;49m\u001b[43mdrop\u001b[49m\u001b[43m(\u001b[49m\u001b[38;5;124;43m'\u001b[39;49m\u001b[38;5;124;43mUnnamed: 1\u001b[39;49m\u001b[38;5;124;43m'\u001b[39;49m\u001b[43m,\u001b[49m\u001b[43maxis\u001b[49m\u001b[38;5;241;43m=\u001b[39;49m\u001b[38;5;241;43m1\u001b[39;49m\u001b[43m,\u001b[49m\u001b[43minplace\u001b[49m\u001b[38;5;241;43m=\u001b[39;49m\u001b[38;5;28;43;01mTrue\u001b[39;49;00m\u001b[43m)\u001b[49m\n",
      "File \u001b[1;32m~\\anaconda3\\envs\\ml\\lib\\site-packages\\pandas\\core\\frame.py:5266\u001b[0m, in \u001b[0;36mDataFrame.drop\u001b[1;34m(self, labels, axis, index, columns, level, inplace, errors)\u001b[0m\n\u001b[0;32m   5118\u001b[0m \u001b[38;5;28;01mdef\u001b[39;00m \u001b[38;5;21mdrop\u001b[39m(\n\u001b[0;32m   5119\u001b[0m     \u001b[38;5;28mself\u001b[39m,\n\u001b[0;32m   5120\u001b[0m     labels: IndexLabel \u001b[38;5;241m=\u001b[39m \u001b[38;5;28;01mNone\u001b[39;00m,\n\u001b[1;32m   (...)\u001b[0m\n\u001b[0;32m   5127\u001b[0m     errors: IgnoreRaise \u001b[38;5;241m=\u001b[39m \u001b[38;5;124m\"\u001b[39m\u001b[38;5;124mraise\u001b[39m\u001b[38;5;124m\"\u001b[39m,\n\u001b[0;32m   5128\u001b[0m ) \u001b[38;5;241m-\u001b[39m\u001b[38;5;241m>\u001b[39m DataFrame \u001b[38;5;241m|\u001b[39m \u001b[38;5;28;01mNone\u001b[39;00m:\n\u001b[0;32m   5129\u001b[0m \u001b[38;5;250m    \u001b[39m\u001b[38;5;124;03m\"\"\"\u001b[39;00m\n\u001b[0;32m   5130\u001b[0m \u001b[38;5;124;03m    Drop specified labels from rows or columns.\u001b[39;00m\n\u001b[0;32m   5131\u001b[0m \n\u001b[1;32m   (...)\u001b[0m\n\u001b[0;32m   5264\u001b[0m \u001b[38;5;124;03m            weight  1.0     0.8\u001b[39;00m\n\u001b[0;32m   5265\u001b[0m \u001b[38;5;124;03m    \"\"\"\u001b[39;00m\n\u001b[1;32m-> 5266\u001b[0m     \u001b[38;5;28;01mreturn\u001b[39;00m \u001b[38;5;28;43msuper\u001b[39;49m\u001b[43m(\u001b[49m\u001b[43m)\u001b[49m\u001b[38;5;241;43m.\u001b[39;49m\u001b[43mdrop\u001b[49m\u001b[43m(\u001b[49m\n\u001b[0;32m   5267\u001b[0m \u001b[43m        \u001b[49m\u001b[43mlabels\u001b[49m\u001b[38;5;241;43m=\u001b[39;49m\u001b[43mlabels\u001b[49m\u001b[43m,\u001b[49m\n\u001b[0;32m   5268\u001b[0m \u001b[43m        \u001b[49m\u001b[43maxis\u001b[49m\u001b[38;5;241;43m=\u001b[39;49m\u001b[43maxis\u001b[49m\u001b[43m,\u001b[49m\n\u001b[0;32m   5269\u001b[0m \u001b[43m        \u001b[49m\u001b[43mindex\u001b[49m\u001b[38;5;241;43m=\u001b[39;49m\u001b[43mindex\u001b[49m\u001b[43m,\u001b[49m\n\u001b[0;32m   5270\u001b[0m \u001b[43m        \u001b[49m\u001b[43mcolumns\u001b[49m\u001b[38;5;241;43m=\u001b[39;49m\u001b[43mcolumns\u001b[49m\u001b[43m,\u001b[49m\n\u001b[0;32m   5271\u001b[0m \u001b[43m        \u001b[49m\u001b[43mlevel\u001b[49m\u001b[38;5;241;43m=\u001b[39;49m\u001b[43mlevel\u001b[49m\u001b[43m,\u001b[49m\n\u001b[0;32m   5272\u001b[0m \u001b[43m        \u001b[49m\u001b[43minplace\u001b[49m\u001b[38;5;241;43m=\u001b[39;49m\u001b[43minplace\u001b[49m\u001b[43m,\u001b[49m\n\u001b[0;32m   5273\u001b[0m \u001b[43m        \u001b[49m\u001b[43merrors\u001b[49m\u001b[38;5;241;43m=\u001b[39;49m\u001b[43merrors\u001b[49m\u001b[43m,\u001b[49m\n\u001b[0;32m   5274\u001b[0m \u001b[43m    \u001b[49m\u001b[43m)\u001b[49m\n",
      "File \u001b[1;32m~\\anaconda3\\envs\\ml\\lib\\site-packages\\pandas\\core\\generic.py:4549\u001b[0m, in \u001b[0;36mNDFrame.drop\u001b[1;34m(self, labels, axis, index, columns, level, inplace, errors)\u001b[0m\n\u001b[0;32m   4547\u001b[0m \u001b[38;5;28;01mfor\u001b[39;00m axis, labels \u001b[38;5;129;01min\u001b[39;00m axes\u001b[38;5;241m.\u001b[39mitems():\n\u001b[0;32m   4548\u001b[0m     \u001b[38;5;28;01mif\u001b[39;00m labels \u001b[38;5;129;01mis\u001b[39;00m \u001b[38;5;129;01mnot\u001b[39;00m \u001b[38;5;28;01mNone\u001b[39;00m:\n\u001b[1;32m-> 4549\u001b[0m         obj \u001b[38;5;241m=\u001b[39m \u001b[43mobj\u001b[49m\u001b[38;5;241;43m.\u001b[39;49m\u001b[43m_drop_axis\u001b[49m\u001b[43m(\u001b[49m\u001b[43mlabels\u001b[49m\u001b[43m,\u001b[49m\u001b[43m \u001b[49m\u001b[43maxis\u001b[49m\u001b[43m,\u001b[49m\u001b[43m \u001b[49m\u001b[43mlevel\u001b[49m\u001b[38;5;241;43m=\u001b[39;49m\u001b[43mlevel\u001b[49m\u001b[43m,\u001b[49m\u001b[43m \u001b[49m\u001b[43merrors\u001b[49m\u001b[38;5;241;43m=\u001b[39;49m\u001b[43merrors\u001b[49m\u001b[43m)\u001b[49m\n\u001b[0;32m   4551\u001b[0m \u001b[38;5;28;01mif\u001b[39;00m inplace:\n\u001b[0;32m   4552\u001b[0m     \u001b[38;5;28mself\u001b[39m\u001b[38;5;241m.\u001b[39m_update_inplace(obj)\n",
      "File \u001b[1;32m~\\anaconda3\\envs\\ml\\lib\\site-packages\\pandas\\core\\generic.py:4591\u001b[0m, in \u001b[0;36mNDFrame._drop_axis\u001b[1;34m(self, labels, axis, level, errors, only_slice)\u001b[0m\n\u001b[0;32m   4589\u001b[0m         new_axis \u001b[38;5;241m=\u001b[39m axis\u001b[38;5;241m.\u001b[39mdrop(labels, level\u001b[38;5;241m=\u001b[39mlevel, errors\u001b[38;5;241m=\u001b[39merrors)\n\u001b[0;32m   4590\u001b[0m     \u001b[38;5;28;01melse\u001b[39;00m:\n\u001b[1;32m-> 4591\u001b[0m         new_axis \u001b[38;5;241m=\u001b[39m \u001b[43maxis\u001b[49m\u001b[38;5;241;43m.\u001b[39;49m\u001b[43mdrop\u001b[49m\u001b[43m(\u001b[49m\u001b[43mlabels\u001b[49m\u001b[43m,\u001b[49m\u001b[43m \u001b[49m\u001b[43merrors\u001b[49m\u001b[38;5;241;43m=\u001b[39;49m\u001b[43merrors\u001b[49m\u001b[43m)\u001b[49m\n\u001b[0;32m   4592\u001b[0m     indexer \u001b[38;5;241m=\u001b[39m axis\u001b[38;5;241m.\u001b[39mget_indexer(new_axis)\n\u001b[0;32m   4594\u001b[0m \u001b[38;5;66;03m# Case for non-unique axis\u001b[39;00m\n\u001b[0;32m   4595\u001b[0m \u001b[38;5;28;01melse\u001b[39;00m:\n",
      "File \u001b[1;32m~\\anaconda3\\envs\\ml\\lib\\site-packages\\pandas\\core\\indexes\\base.py:6696\u001b[0m, in \u001b[0;36mIndex.drop\u001b[1;34m(self, labels, errors)\u001b[0m\n\u001b[0;32m   6694\u001b[0m \u001b[38;5;28;01mif\u001b[39;00m mask\u001b[38;5;241m.\u001b[39many():\n\u001b[0;32m   6695\u001b[0m     \u001b[38;5;28;01mif\u001b[39;00m errors \u001b[38;5;241m!=\u001b[39m \u001b[38;5;124m\"\u001b[39m\u001b[38;5;124mignore\u001b[39m\u001b[38;5;124m\"\u001b[39m:\n\u001b[1;32m-> 6696\u001b[0m         \u001b[38;5;28;01mraise\u001b[39;00m \u001b[38;5;167;01mKeyError\u001b[39;00m(\u001b[38;5;124mf\u001b[39m\u001b[38;5;124m\"\u001b[39m\u001b[38;5;132;01m{\u001b[39;00m\u001b[38;5;28mlist\u001b[39m(labels[mask])\u001b[38;5;132;01m}\u001b[39;00m\u001b[38;5;124m not found in axis\u001b[39m\u001b[38;5;124m\"\u001b[39m)\n\u001b[0;32m   6697\u001b[0m     indexer \u001b[38;5;241m=\u001b[39m indexer[\u001b[38;5;241m~\u001b[39mmask]\n\u001b[0;32m   6698\u001b[0m \u001b[38;5;28;01mreturn\u001b[39;00m \u001b[38;5;28mself\u001b[39m\u001b[38;5;241m.\u001b[39mdelete(indexer)\n",
      "\u001b[1;31mKeyError\u001b[0m: \"['Unnamed: 1'] not found in axis\""
     ]
    }
   ],
   "source": [
    "df.drop('Unnamed: 1',axis=1,inplace=True)"
   ]
  },
  {
   "cell_type": "code",
   "execution_count": 27,
   "id": "d414ff2d",
   "metadata": {},
   "outputs": [
    {
     "data": {
      "text/html": [
       "<div>\n",
       "<style scoped>\n",
       "    .dataframe tbody tr th:only-of-type {\n",
       "        vertical-align: middle;\n",
       "    }\n",
       "\n",
       "    .dataframe tbody tr th {\n",
       "        vertical-align: top;\n",
       "    }\n",
       "\n",
       "    .dataframe thead th {\n",
       "        text-align: right;\n",
       "    }\n",
       "</style>\n",
       "<table border=\"1\" class=\"dataframe\">\n",
       "  <thead>\n",
       "    <tr style=\"text-align: right;\">\n",
       "      <th></th>\n",
       "      <th>date</th>\n",
       "      <th>links</th>\n",
       "      <th>titles</th>\n",
       "      <th>contests</th>\n",
       "      <th>present_closing price</th>\n",
       "      <th>대비</th>\n",
       "      <th>판별</th>\n",
       "    </tr>\n",
       "    <tr>\n",
       "      <th>index</th>\n",
       "      <th></th>\n",
       "      <th></th>\n",
       "      <th></th>\n",
       "      <th></th>\n",
       "      <th></th>\n",
       "      <th></th>\n",
       "      <th></th>\n",
       "    </tr>\n",
       "  </thead>\n",
       "  <tbody>\n",
       "    <tr>\n",
       "      <th>3</th>\n",
       "      <td>2023. 7. 4</td>\n",
       "      <td>https://finance.naver.com/item/news_read.naver...</td>\n",
       "      <td>LG엔솔, 단기 부진에도 변함없는 경쟁력…업종 ‘탑픽’-한투</td>\n",
       "      <td>[이데일리 원다연 기자] 한국투자증권은 LG에너지솔루션(373220)에 대해 단기적...</td>\n",
       "      <td>569000.0</td>\n",
       "      <td>-4000.0</td>\n",
       "      <td>0.0</td>\n",
       "    </tr>\n",
       "    <tr>\n",
       "      <th>4</th>\n",
       "      <td>2023. 7. 3</td>\n",
       "      <td>https://finance.naver.com/item/news_read.naver...</td>\n",
       "      <td>실적 둔화에 밸류에이션 하락까지... LG엔솔 적정주가 잇따른 하향</td>\n",
       "      <td>LG에너지솔루션 CI최근 한달간 주가가 7% 가량 하락한 LG에너지솔루션에 대해 증...</td>\n",
       "      <td>573000.0</td>\n",
       "      <td>20000.0</td>\n",
       "      <td>1.0</td>\n",
       "    </tr>\n",
       "    <tr>\n",
       "      <th>5</th>\n",
       "      <td>2023. 7. 3</td>\n",
       "      <td>https://finance.naver.com/item/news_read.naver...</td>\n",
       "      <td>인팩, SK온·LG엔솔과 손잡고 간다···목표가 1만7000원-리서치알...</td>\n",
       "      <td>켄터키주에 5300만달러 투자 인팩 CI / 사진=인팩 제공[파이낸셜뉴스] 리서치알...</td>\n",
       "      <td>573000.0</td>\n",
       "      <td>20000.0</td>\n",
       "      <td>1.0</td>\n",
       "    </tr>\n",
       "    <tr>\n",
       "      <th>6</th>\n",
       "      <td>2023. 7. 3</td>\n",
       "      <td>https://finance.naver.com/item/news_read.naver...</td>\n",
       "      <td>엘앤에프, 최대 고객사는 LG엔솔과 테슬라-메리츠</td>\n",
       "      <td>[이데일리 김인경 기자] 메리츠증권은 엘앤에프(066970)가 시장 기대치에 부합하...</td>\n",
       "      <td>573000.0</td>\n",
       "      <td>20000.0</td>\n",
       "      <td>1.0</td>\n",
       "    </tr>\n",
       "    <tr>\n",
       "      <th>7</th>\n",
       "      <td>2023. 7. 3</td>\n",
       "      <td>https://finance.naver.com/item/news_read.naver...</td>\n",
       "      <td>IRA 효과 터진다'..LG엔솔·SK온 2분기 보조금 3700억</td>\n",
       "      <td>지난달 27일 경기도 고양시 킨텍스에서 열린 '2023 세계 배터리 &amp; 충전 인프라...</td>\n",
       "      <td>573000.0</td>\n",
       "      <td>20000.0</td>\n",
       "      <td>1.0</td>\n",
       "    </tr>\n",
       "  </tbody>\n",
       "</table>\n",
       "</div>"
      ],
      "text/plain": [
       "             date                                              links   \n",
       "index                                                                  \n",
       "3      2023. 7. 4  https://finance.naver.com/item/news_read.naver...  \\\n",
       "4      2023. 7. 3  https://finance.naver.com/item/news_read.naver...   \n",
       "5      2023. 7. 3  https://finance.naver.com/item/news_read.naver...   \n",
       "6      2023. 7. 3  https://finance.naver.com/item/news_read.naver...   \n",
       "7      2023. 7. 3  https://finance.naver.com/item/news_read.naver...   \n",
       "\n",
       "                                           titles   \n",
       "index                                               \n",
       "3               LG엔솔, 단기 부진에도 변함없는 경쟁력…업종 ‘탑픽’-한투  \\\n",
       "4           실적 둔화에 밸류에이션 하락까지... LG엔솔 적정주가 잇따른 하향   \n",
       "5      인팩, SK온·LG엔솔과 손잡고 간다···목표가 1만7000원-리서치알...   \n",
       "6                     엘앤에프, 최대 고객사는 LG엔솔과 테슬라-메리츠   \n",
       "7             IRA 효과 터진다'..LG엔솔·SK온 2분기 보조금 3700억   \n",
       "\n",
       "                                                contests   \n",
       "index                                                      \n",
       "3      [이데일리 원다연 기자] 한국투자증권은 LG에너지솔루션(373220)에 대해 단기적...  \\\n",
       "4      LG에너지솔루션 CI최근 한달간 주가가 7% 가량 하락한 LG에너지솔루션에 대해 증...   \n",
       "5      켄터키주에 5300만달러 투자 인팩 CI / 사진=인팩 제공[파이낸셜뉴스] 리서치알...   \n",
       "6      [이데일리 김인경 기자] 메리츠증권은 엘앤에프(066970)가 시장 기대치에 부합하...   \n",
       "7      지난달 27일 경기도 고양시 킨텍스에서 열린 '2023 세계 배터리 & 충전 인프라...   \n",
       "\n",
       "       present_closing price       대비   판별  \n",
       "index                                       \n",
       "3                   569000.0  -4000.0  0.0  \n",
       "4                   573000.0  20000.0  1.0  \n",
       "5                   573000.0  20000.0  1.0  \n",
       "6                   573000.0  20000.0  1.0  \n",
       "7                   573000.0  20000.0  1.0  "
      ]
     },
     "execution_count": 27,
     "metadata": {},
     "output_type": "execute_result"
    }
   ],
   "source": [
    "df.head(5)"
   ]
  },
  {
   "cell_type": "code",
   "execution_count": 16,
   "id": "c454e893",
   "metadata": {},
   "outputs": [
    {
     "data": {
      "text/plain": [
       "date                     0\n",
       "links                    0\n",
       "titles                   0\n",
       "contests                 0\n",
       "present_closing price    3\n",
       "대비                       3\n",
       "판별                       3\n",
       "dtype: int64"
      ]
     },
     "execution_count": 16,
     "metadata": {},
     "output_type": "execute_result"
    }
   ],
   "source": [
    "df.isnull().sum()"
   ]
  },
  {
   "cell_type": "code",
   "execution_count": 30,
   "id": "2c03e371",
   "metadata": {},
   "outputs": [
    {
     "ename": "AttributeError",
     "evalue": "'NoneType' object has no attribute 'reset_index'",
     "output_type": "error",
     "traceback": [
      "\u001b[1;31m---------------------------------------------------------------------------\u001b[0m",
      "\u001b[1;31mAttributeError\u001b[0m                            Traceback (most recent call last)",
      "Cell \u001b[1;32mIn[30], line 1\u001b[0m\n\u001b[1;32m----> 1\u001b[0m \u001b[43mdf\u001b[49m\u001b[38;5;241;43m.\u001b[39;49m\u001b[43mdropna\u001b[49m\u001b[43m(\u001b[49m\u001b[43minplace\u001b[49m\u001b[38;5;241;43m=\u001b[39;49m\u001b[38;5;28;43;01mTrue\u001b[39;49;00m\u001b[43m)\u001b[49m\u001b[38;5;241;43m.\u001b[39;49m\u001b[43mreset_index\u001b[49m()\n",
      "\u001b[1;31mAttributeError\u001b[0m: 'NoneType' object has no attribute 'reset_index'"
     ]
    }
   ],
   "source": [
    "df.dropna(inplace=True).reset_index()"
   ]
  },
  {
   "cell_type": "code",
   "execution_count": 34,
   "id": "fb5c3b8a",
   "metadata": {},
   "outputs": [],
   "source": [
    "df.reset_index(inplace=True)"
   ]
  },
  {
   "cell_type": "code",
   "execution_count": 35,
   "id": "248f27f5",
   "metadata": {},
   "outputs": [
    {
     "data": {
      "text/html": [
       "<div>\n",
       "<style scoped>\n",
       "    .dataframe tbody tr th:only-of-type {\n",
       "        vertical-align: middle;\n",
       "    }\n",
       "\n",
       "    .dataframe tbody tr th {\n",
       "        vertical-align: top;\n",
       "    }\n",
       "\n",
       "    .dataframe thead th {\n",
       "        text-align: right;\n",
       "    }\n",
       "</style>\n",
       "<table border=\"1\" class=\"dataframe\">\n",
       "  <thead>\n",
       "    <tr style=\"text-align: right;\">\n",
       "      <th></th>\n",
       "      <th>index</th>\n",
       "      <th>date</th>\n",
       "      <th>links</th>\n",
       "      <th>titles</th>\n",
       "      <th>contests</th>\n",
       "      <th>present_closing price</th>\n",
       "      <th>대비</th>\n",
       "      <th>판별</th>\n",
       "    </tr>\n",
       "  </thead>\n",
       "  <tbody>\n",
       "    <tr>\n",
       "      <th>0</th>\n",
       "      <td>3</td>\n",
       "      <td>2023. 7. 4</td>\n",
       "      <td>https://finance.naver.com/item/news_read.naver...</td>\n",
       "      <td>LG엔솔, 단기 부진에도 변함없는 경쟁력…업종 ‘탑픽’-한투</td>\n",
       "      <td>[이데일리 원다연 기자] 한국투자증권은 LG에너지솔루션(373220)에 대해 단기적...</td>\n",
       "      <td>569000.0</td>\n",
       "      <td>-4000.0</td>\n",
       "      <td>0.0</td>\n",
       "    </tr>\n",
       "    <tr>\n",
       "      <th>1</th>\n",
       "      <td>4</td>\n",
       "      <td>2023. 7. 3</td>\n",
       "      <td>https://finance.naver.com/item/news_read.naver...</td>\n",
       "      <td>실적 둔화에 밸류에이션 하락까지... LG엔솔 적정주가 잇따른 하향</td>\n",
       "      <td>LG에너지솔루션 CI최근 한달간 주가가 7% 가량 하락한 LG에너지솔루션에 대해 증...</td>\n",
       "      <td>573000.0</td>\n",
       "      <td>20000.0</td>\n",
       "      <td>1.0</td>\n",
       "    </tr>\n",
       "    <tr>\n",
       "      <th>2</th>\n",
       "      <td>5</td>\n",
       "      <td>2023. 7. 3</td>\n",
       "      <td>https://finance.naver.com/item/news_read.naver...</td>\n",
       "      <td>인팩, SK온·LG엔솔과 손잡고 간다···목표가 1만7000원-리서치알...</td>\n",
       "      <td>켄터키주에 5300만달러 투자 인팩 CI / 사진=인팩 제공[파이낸셜뉴스] 리서치알...</td>\n",
       "      <td>573000.0</td>\n",
       "      <td>20000.0</td>\n",
       "      <td>1.0</td>\n",
       "    </tr>\n",
       "    <tr>\n",
       "      <th>3</th>\n",
       "      <td>6</td>\n",
       "      <td>2023. 7. 3</td>\n",
       "      <td>https://finance.naver.com/item/news_read.naver...</td>\n",
       "      <td>엘앤에프, 최대 고객사는 LG엔솔과 테슬라-메리츠</td>\n",
       "      <td>[이데일리 김인경 기자] 메리츠증권은 엘앤에프(066970)가 시장 기대치에 부합하...</td>\n",
       "      <td>573000.0</td>\n",
       "      <td>20000.0</td>\n",
       "      <td>1.0</td>\n",
       "    </tr>\n",
       "    <tr>\n",
       "      <th>4</th>\n",
       "      <td>7</td>\n",
       "      <td>2023. 7. 3</td>\n",
       "      <td>https://finance.naver.com/item/news_read.naver...</td>\n",
       "      <td>IRA 효과 터진다'..LG엔솔·SK온 2분기 보조금 3700억</td>\n",
       "      <td>지난달 27일 경기도 고양시 킨텍스에서 열린 '2023 세계 배터리 &amp; 충전 인프라...</td>\n",
       "      <td>573000.0</td>\n",
       "      <td>20000.0</td>\n",
       "      <td>1.0</td>\n",
       "    </tr>\n",
       "    <tr>\n",
       "      <th>...</th>\n",
       "      <td>...</td>\n",
       "      <td>...</td>\n",
       "      <td>...</td>\n",
       "      <td>...</td>\n",
       "      <td>...</td>\n",
       "      <td>...</td>\n",
       "      <td>...</td>\n",
       "      <td>...</td>\n",
       "    </tr>\n",
       "    <tr>\n",
       "      <th>1540</th>\n",
       "      <td>1543</td>\n",
       "      <td>2022. 7. 6</td>\n",
       "      <td>https://finance.naver.com/item/news_read.naver...</td>\n",
       "      <td>삼성證 “수급부담 LG엔솔보다...실적 양호한 삼성SDI 주목해야”</td>\n",
       "      <td>양사 2분기 실적 전망 엇갈려배터리株 중국대비 ‘웃돈’ 소멸국내 2차전지 업체들의 ...</td>\n",
       "      <td>370500.0</td>\n",
       "      <td>9000.0</td>\n",
       "      <td>1.0</td>\n",
       "    </tr>\n",
       "    <tr>\n",
       "      <th>1541</th>\n",
       "      <td>1544</td>\n",
       "      <td>2022. 7. 6</td>\n",
       "      <td>https://finance.naver.com/item/news_read.naver...</td>\n",
       "      <td>현대차 이어 LG엔솔까지…‘난공불략’ 日 빗장 풀다 [비즈360]</td>\n",
       "      <td>현대차 ,이달 중 아이오닉5 고객인도 개시LG엔솔, 닛산 이어 이스즈에 배터리 납품...</td>\n",
       "      <td>370500.0</td>\n",
       "      <td>9000.0</td>\n",
       "      <td>1.0</td>\n",
       "    </tr>\n",
       "    <tr>\n",
       "      <th>1542</th>\n",
       "      <td>1545</td>\n",
       "      <td>2022. 7. 6</td>\n",
       "      <td>https://finance.naver.com/item/news_read.naver...</td>\n",
       "      <td>거래소 “LG에너지솔루션, 1조 규모 배터리 공급 보도 관련 조회공시 ...</td>\n",
       "      <td>한국거래소는 LG에너지솔루션에 대해 1조원 규모로 일본 이스즈자동차에 배터리 공급을...</td>\n",
       "      <td>370500.0</td>\n",
       "      <td>9000.0</td>\n",
       "      <td>1.0</td>\n",
       "    </tr>\n",
       "    <tr>\n",
       "      <th>1543</th>\n",
       "      <td>1546</td>\n",
       "      <td>2022. 7. 6</td>\n",
       "      <td>https://finance.naver.com/item/news_read.naver...</td>\n",
       "      <td>“LG엔솔, 3분기부터 업황 개선…2차전지 내 최선호주”</td>\n",
       "      <td>[한국투자증권 보고서]목표주가 57만→52만 하향[서울경제] 한국투자증권이 LG에너...</td>\n",
       "      <td>370500.0</td>\n",
       "      <td>9000.0</td>\n",
       "      <td>1.0</td>\n",
       "    </tr>\n",
       "    <tr>\n",
       "      <th>1544</th>\n",
       "      <td>1547</td>\n",
       "      <td>2022. 7. 6</td>\n",
       "      <td>https://finance.naver.com/item/news_read.naver...</td>\n",
       "      <td>\"LG엔솔 목표가 8.77% 하향…락업 해제만 지나면 주가 오를 것\"-...</td>\n",
       "      <td>목표가 52만원 제시한국투자증권은 6일 LG에너지솔루션에 대해 2025년 상각전 영...</td>\n",
       "      <td>370500.0</td>\n",
       "      <td>9000.0</td>\n",
       "      <td>1.0</td>\n",
       "    </tr>\n",
       "  </tbody>\n",
       "</table>\n",
       "<p>1545 rows × 8 columns</p>\n",
       "</div>"
      ],
      "text/plain": [
       "      index        date                                              links   \n",
       "0         3  2023. 7. 4  https://finance.naver.com/item/news_read.naver...  \\\n",
       "1         4  2023. 7. 3  https://finance.naver.com/item/news_read.naver...   \n",
       "2         5  2023. 7. 3  https://finance.naver.com/item/news_read.naver...   \n",
       "3         6  2023. 7. 3  https://finance.naver.com/item/news_read.naver...   \n",
       "4         7  2023. 7. 3  https://finance.naver.com/item/news_read.naver...   \n",
       "...     ...         ...                                                ...   \n",
       "1540   1543  2022. 7. 6  https://finance.naver.com/item/news_read.naver...   \n",
       "1541   1544  2022. 7. 6  https://finance.naver.com/item/news_read.naver...   \n",
       "1542   1545  2022. 7. 6  https://finance.naver.com/item/news_read.naver...   \n",
       "1543   1546  2022. 7. 6  https://finance.naver.com/item/news_read.naver...   \n",
       "1544   1547  2022. 7. 6  https://finance.naver.com/item/news_read.naver...   \n",
       "\n",
       "                                          titles   \n",
       "0              LG엔솔, 단기 부진에도 변함없는 경쟁력…업종 ‘탑픽’-한투  \\\n",
       "1          실적 둔화에 밸류에이션 하락까지... LG엔솔 적정주가 잇따른 하향   \n",
       "2     인팩, SK온·LG엔솔과 손잡고 간다···목표가 1만7000원-리서치알...   \n",
       "3                    엘앤에프, 최대 고객사는 LG엔솔과 테슬라-메리츠   \n",
       "4            IRA 효과 터진다'..LG엔솔·SK온 2분기 보조금 3700억   \n",
       "...                                          ...   \n",
       "1540       삼성證 “수급부담 LG엔솔보다...실적 양호한 삼성SDI 주목해야”   \n",
       "1541        현대차 이어 LG엔솔까지…‘난공불략’ 日 빗장 풀다 [비즈360]   \n",
       "1542  거래소 “LG에너지솔루션, 1조 규모 배터리 공급 보도 관련 조회공시 ...   \n",
       "1543             “LG엔솔, 3분기부터 업황 개선…2차전지 내 최선호주”   \n",
       "1544  \"LG엔솔 목표가 8.77% 하향…락업 해제만 지나면 주가 오를 것\"-...   \n",
       "\n",
       "                                               contests   \n",
       "0     [이데일리 원다연 기자] 한국투자증권은 LG에너지솔루션(373220)에 대해 단기적...  \\\n",
       "1     LG에너지솔루션 CI최근 한달간 주가가 7% 가량 하락한 LG에너지솔루션에 대해 증...   \n",
       "2     켄터키주에 5300만달러 투자 인팩 CI / 사진=인팩 제공[파이낸셜뉴스] 리서치알...   \n",
       "3     [이데일리 김인경 기자] 메리츠증권은 엘앤에프(066970)가 시장 기대치에 부합하...   \n",
       "4     지난달 27일 경기도 고양시 킨텍스에서 열린 '2023 세계 배터리 & 충전 인프라...   \n",
       "...                                                 ...   \n",
       "1540  양사 2분기 실적 전망 엇갈려배터리株 중국대비 ‘웃돈’ 소멸국내 2차전지 업체들의 ...   \n",
       "1541  현대차 ,이달 중 아이오닉5 고객인도 개시LG엔솔, 닛산 이어 이스즈에 배터리 납품...   \n",
       "1542  한국거래소는 LG에너지솔루션에 대해 1조원 규모로 일본 이스즈자동차에 배터리 공급을...   \n",
       "1543  [한국투자증권 보고서]목표주가 57만→52만 하향[서울경제] 한국투자증권이 LG에너...   \n",
       "1544  목표가 52만원 제시한국투자증권은 6일 LG에너지솔루션에 대해 2025년 상각전 영...   \n",
       "\n",
       "      present_closing price       대비   판별  \n",
       "0                  569000.0  -4000.0  0.0  \n",
       "1                  573000.0  20000.0  1.0  \n",
       "2                  573000.0  20000.0  1.0  \n",
       "3                  573000.0  20000.0  1.0  \n",
       "4                  573000.0  20000.0  1.0  \n",
       "...                     ...      ...  ...  \n",
       "1540               370500.0   9000.0  1.0  \n",
       "1541               370500.0   9000.0  1.0  \n",
       "1542               370500.0   9000.0  1.0  \n",
       "1543               370500.0   9000.0  1.0  \n",
       "1544               370500.0   9000.0  1.0  \n",
       "\n",
       "[1545 rows x 8 columns]"
      ]
     },
     "execution_count": 35,
     "metadata": {},
     "output_type": "execute_result"
    }
   ],
   "source": [
    "df"
   ]
  },
  {
   "cell_type": "code",
   "execution_count": 36,
   "id": "e5b5187f",
   "metadata": {},
   "outputs": [],
   "source": [
    "from konlpy.tag import Kkma\n",
    "kkma = Kkma()"
   ]
  },
  {
   "cell_type": "code",
   "execution_count": 37,
   "id": "3fddb3bc",
   "metadata": {},
   "outputs": [],
   "source": [
    "def morph(input_data) : #형태소 분석\n",
    "    preprocessed = kkma.pos(input_data)\n",
    "    print(preprocessed)"
   ]
  },
  {
   "cell_type": "code",
   "execution_count": 39,
   "id": "cf8de995",
   "metadata": {
    "collapsed": true
   },
   "outputs": [
    {
     "data": {
      "text/plain": [
       "'[이데일리 원다연 기자] 한국투자증권은 LG에너지솔루션(373220)에 대해 단기적인 실적 부진에도 변함없는 경쟁력을 평가하며 ‘매수’ 투자의견과 함께 목표가 85만원을 유지한다고 4일 밝혔다. 전일 종가는 57만 3000원이다. 한국투자증권은 LG에너지솔루션을 업종 내 탑픽으로 제시했다. 한국투자증권은 2분기 LG에너지솔루션의 매출액을 8조 3000억원, 영업이익을 6520억원으로 기존 추정 대비 각각 6.1%, 6.3% 하향 조정했다. 이는 컨센서스도 소폭 밑도는 수준이다. 조철희 한국투자증권 연구원은 “부진의 원인은 유럽 고객향 공급량이 기대에 못 미쳤기 때문”이라며 “광물가격이 하락하면서 2차전지 가격이 하락할 것으로 예상한 유럽 고객사들이 구매를 소폭 늦춘 것으로 판단한다”고 밝혔다. 이어 “또한 북미 얼티엄셀즈(GM과의 합작 법인)의 배터리 공급량도 예상 대비로는 적었는데, 고객사의 자동차 생산이 기대에 소폭 못 미쳤기 때문”이라고 덧붙였다. 조 연구원은 “그러나 테슬라향 물량은 안정적으로 늘어난 것으로 판단해 소형전지 사업부의 기존 추정치는 유지한다”며 “소형전지 실적은 평균판매단가(ASP) 하락에도 불구하고 매출액이 2조 8000억원을 기록하며 전분기대비 5.6% 증가한 것으로 추정한다”고 밝혔다. 조 연구원은 2분기 실적에서 첨단제조생산 세액공제(AMPC) 인식 규모도 주목해야 할 부분이라고 강조했다. 그는 “북미에서 생산된 2차전지 판매량은 전사 매출액 기여도가 아직 높지 않지만, 영업이익으로 인식되는 AMPC 규모(1kWh당 35~45달러)가 줄기 때문에 영업이익에 미치는 영향은 적지 않다”고 밝혔다. 조 연구원은 “2분기 추정 AMPC 규모는 1505억원으로 기존 추정치대비 11.7% 하향했다고 연간 AMPC 규모도 기존 9316억원에서 8700억원으로 낮췄다”며 “그러나 얼티엄셀즈(GM과의 배터리 생산 JV)의 초반 생산 수율도 안정적이고, 1공장(오하이오, 40GWh)을 시작으로 내년에 2공장(테네시45GWh), 2025년에 3공장(미시간 50GWh)이 가동될 전망이어서 LG에너지솔루션이 AMPC의 최대 수혜 회사인 점에는 변함이 없다”고 평가했다. 그는 “단기 실적 부진에도 미국 시장 성장의 최대 수혜 업체라는 회사의 본질적인 경쟁력은 변함이 없고, 향후 AMPC 관련 불확실성(보조금 축소 논란) 해소와 수주 모멘텀 등이 추가적으로 반영될 때마다 안정적인 주가 상승이 예상된다”고 봤다. '"
      ]
     },
     "execution_count": 39,
     "metadata": {},
     "output_type": "execute_result"
    }
   ],
   "source": [
    "df['contests'][0]"
   ]
  },
  {
   "cell_type": "code",
   "execution_count": 40,
   "id": "16dd3973",
   "metadata": {},
   "outputs": [
    {
     "name": "stdout",
     "output_type": "stream",
     "text": [
      "[('[', 'SS'), ('이', 'NNG'), ('데일리', 'NNG'), ('원', 'NNG'), ('다연', 'NNG'), ('기자', 'NNG'), (']', 'SS'), ('한국', 'NNG'), ('투자', 'NNG'), ('증권', 'NNG'), ('은', 'JX'), ('LG', 'OL'), ('에너지', 'NNG'), ('솔루션', 'NNG'), ('(', 'SS'), ('373220', 'NR'), (')', 'SS'), ('에', 'JKM'), ('대하', 'VV'), ('어', 'ECS'), ('단기적', 'NNG'), ('이', 'VCP'), ('ㄴ', 'ETD'), ('실적', 'NNG'), ('부진', 'NNG'), ('에', 'JKM'), ('도', 'JX'), ('변함없', 'VA'), ('는', 'ETD'), ('경쟁력', 'NNG'), ('을', 'JKO'), ('평가', 'NNG'), ('하', 'XSV'), ('며', 'ECE'), ('‘', 'SS'), ('매', 'NNG'), ('수', 'NNG'), ('’', 'SS'), ('투자', 'NNG'), ('의', 'JKG'), ('견과', 'NNG'), ('함께', 'MAG'), ('목표', 'NNG'), ('가', 'JKS'), ('85', 'NR'), ('만', 'NR'), ('원', 'NNM'), ('을', 'JKO'), ('유지', 'NNG'), ('하', 'XSV'), ('ㄴ다고', 'ECE'), ('4', 'NR'), ('일', 'NNM'), ('밝히', 'VV'), ('었', 'EPT'), ('다', 'EFN'), ('.', 'SF'), ('저', 'VV'), ('ㄴ', 'ETD'), ('일', 'NNG'), ('종가', 'NNG'), ('는', 'JX'), ('57', 'NR'), ('만', 'NR'), ('3000', 'NR'), ('원', 'NNM'), ('이', 'VCP'), ('다', 'EFN'), ('.', 'SF'), ('한국', 'NNG'), ('투자', 'NNG'), ('증권', 'NNG'), ('은', 'JX'), ('LG', 'OL'), ('에너지', 'NNG'), ('솔루션', 'NNG'), ('을', 'JKO'), ('업종', 'NNG'), ('내', 'NNB'), ('탑픽으', 'UN'), ('로', 'JKM'), ('제시', 'NNG'), ('하', 'XSV'), ('었', 'EPT'), ('다', 'EFN'), ('.', 'SF'), ('한국', 'NNG'), ('투자', 'NNG'), ('증권', 'NNG'), ('은', 'JX'), ('2', 'NR'), ('분기', 'NNG'), ('LG', 'OL'), ('에너지', 'NNG'), ('솔루션', 'NNG'), ('의', 'JKG'), ('매출액', 'NNG'), ('을', 'JKO'), ('8', 'NR'), ('조', 'NR'), ('3000', 'NR'), ('억', 'NR'), ('원', 'NNM'), (',', 'SP'), ('영업', 'NNG'), ('이익', 'NNG'), ('을', 'JKO'), ('6520', 'NR'), ('억', 'NR'), ('원', 'NNM'), ('으로', 'JKM'), ('기존', 'NNG'), ('추정', 'NNG'), ('대비', 'NNG'), ('각각', 'MAG'), ('6.1', 'NR'), ('%', 'SW'), (',', 'SP'), ('6.3', 'NR'), ('%', 'SW'), ('하향', 'NNG'), ('조정', 'NNG'), ('하', 'XSV'), ('었', 'EPT'), ('다', 'EFN'), ('.', 'SF'), ('이', 'NP'), ('는', 'JX'), ('커', 'VV'), ('ㄴ', 'ETD'), ('센서스', 'NNG'), ('도', 'JX'), ('소폭', 'NNG'), ('밑돌', 'VV'), ('는', 'ETD'), ('수준', 'NNG'), ('이', 'VCP'), ('다', 'EFN'), ('.', 'SF'), ('조', 'NNP'), ('철', 'NNG'), ('희', 'VA'), ('한국투자증권', 'UN'), ('연구원', 'NNG'), ('은', 'JX'), ('“', 'SS'), ('부진', 'NNG'), ('의', 'JKG'), ('원인', 'NNG'), ('은', 'JX'), ('유럽', 'NNG'), ('고객', 'NNG'), ('향', 'NNG'), ('공급량', 'NNG'), ('이', 'JKS'), ('기대', 'NNG'), ('에', 'JKM'), ('못', 'MAG'), ('미치', 'VV'), ('었', 'EPT'), ('기', 'ETN'), ('때문', 'NNB'), ('”', 'SS'), ('이', 'VCP'), ('라며', 'ECE'), ('“', 'SS'), ('광물', 'NNG'), ('가격', 'NNG'), ('이', 'JKS'), ('하락', 'NNG'), ('하', 'XSV'), ('면서', 'ECE'), ('2', 'NR'), ('차', 'NNG'), ('전지', 'NNG'), ('가격', 'NNG'), ('이', 'JKS'), ('하락', 'NNG'), ('하', 'XSV'), ('ㄹ', 'ETD'), ('것', 'NNB'), ('으로', 'JKM'), ('예상', 'NNG'), ('하', 'XSV'), ('ㄴ', 'ETD'), ('유럽', 'NNG'), ('고객', 'NNG'), ('사', 'NNG'), ('들', 'XSN'), ('이', 'JKS'), ('구매', 'NNG'), ('를', 'JKO'), ('소폭', 'NNG'), ('늦추', 'VV'), ('ㄴ', 'ETD'), ('것', 'NNB'), ('으로', 'JKM'), ('판단', 'NNG'), ('하', 'XSV'), ('ㄴ다', 'ECS'), ('”', 'SS'), ('고', 'NNG'), ('밝히', 'VV'), ('었', 'EPT'), ('다', 'EFN'), ('.', 'SF'), ('잇', 'VV'), ('어', 'ECD'), ('“', 'SS'), ('또한', 'MAG'), ('북미', 'NNG'), ('얼', 'NNG'), ('티', 'NNG'), ('어', 'VV'), ('ㅁ', 'ETN'), ('셀', 'NNG'), ('즈', 'UN'), ('(', 'SS'), ('GM', 'OL'), ('과의', 'NNG'), ('합작', 'NNG'), ('법인', 'NNG'), (')', 'SS'), ('의', 'NNG'), ('배터리', 'NNG'), ('공급량', 'NNG'), ('도', 'JX'), ('예상', 'NNG'), ('대비', 'NNG'), ('로', 'JKM'), ('는', 'JX'), ('적', 'VA'), ('었', 'EPT'), ('는데', 'ECD'), (',', 'SP'), ('고객', 'NNG'), ('사의', 'NNG'), ('자동차', 'NNG'), ('생산', 'NNG'), ('이', 'JKS'), ('기대', 'NNG'), ('에', 'JKM'), ('소폭', 'NNG'), ('못', 'MAG'), ('미치', 'VV'), ('었', 'EPT'), ('기', 'ETN'), ('때문', 'NNB'), ('”', 'SS'), ('이', 'VCP'), ('라고', 'ECD'), ('덧붙이', 'VV'), ('었', 'EPT'), ('다', 'EFN'), ('.', 'SF'), ('조', 'NNG'), ('연구원', 'NNG'), ('은', 'JX'), ('“', 'SS'), ('그러나', 'MAC'), ('테슬라', 'NNG'), ('향', 'NNG'), ('물량', 'NNG'), ('은', 'JX'), ('안정적', 'NNG'), ('으로', 'JKM'), ('늘어나', 'VV'), ('ㄴ', 'ETD'), ('것', 'NNB'), ('으로', 'JKM'), ('판단', 'NNG'), ('하', 'XSV'), ('어', 'ECS'), ('소형', 'NNG'), ('전지', 'NNG'), ('사업부', 'NNG'), ('의', 'JKG'), ('기존', 'NNG'), ('추', 'NNG'), ('정치', 'NNG'), ('는', 'JX'), ('유지', 'NNG'), ('하', 'XSV'), ('ㄴ다', 'ECS'), ('”', 'SS'), ('며', 'JC'), ('“', 'SS'), ('소형', 'NNG'), ('전지', 'NNG'), ('실적', 'NNG'), ('은', 'JX'), ('평균', 'NNG'), ('판매', 'NNG'), ('단가', 'NNG'), ('(', 'SS'), ('ASP', 'OL'), (')', 'SS'), ('하락', 'NNG'), ('에', 'JKM'), ('도', 'JX'), ('불구', 'XR'), ('하', 'XSA'), ('고', 'ECE'), ('매출액', 'NNG'), ('이', 'JKS'), ('2', 'NR'), ('조', 'NR'), ('8000', 'NR'), ('억', 'NR'), ('원', 'NNM'), ('을', 'JKO'), ('기록', 'NNG'), ('하', 'XSV'), ('며', 'ECE'), ('전', 'NNG'), ('분기', 'NNG'), ('대비', 'NNG'), ('5.6', 'NR'), ('%', 'SW'), ('증가', 'NNG'), ('하', 'XSV'), ('ㄴ', 'ETD'), ('것', 'NNB'), ('으로', 'JKM'), ('추정', 'NNG'), ('하', 'XSV'), ('ㄴ다', 'ECS'), ('”', 'SS'), ('고', 'NNG'), ('밝히', 'VV'), ('었', 'EPT'), ('다', 'EFN'), ('.', 'SF'), ('조', 'NNG'), ('연구원', 'NNG'), ('은', 'JX'), ('2', 'NR'), ('분기', 'NNG'), ('실적', 'NNG'), ('에서', 'JKM'), ('첨단', 'NNG'), ('제조', 'NNG'), ('생산', 'NNG'), ('세액', 'NNG'), ('공제', 'NNG'), ('(', 'SS'), ('AMPC', 'OL'), (')', 'SS'), ('인식', 'NNG'), ('규모', 'NNG'), ('도', 'JX'), ('주목', 'NNG'), ('하', 'XSV'), ('어야', 'ECD'), ('하', 'VV'), ('ㄹ', 'ETD'), ('부분', 'NNG'), ('이', 'VCP'), ('라고', 'ECD'), ('강조하', 'VV'), ('었', 'EPT'), ('다', 'EFN'), ('.', 'SF'), ('그', 'VV'), ('는', 'ETD'), ('“', 'SS'), ('북미', 'NNG'), ('에서', 'JKM'), ('생산', 'NNG'), ('되', 'XSV'), ('ㄴ', 'ETD'), ('2', 'NR'), ('차', 'NNG'), ('전지', 'NNG'), ('판매량', 'NNG'), ('은', 'JX'), ('전사', 'NNG'), ('매출액', 'NNG'), ('기여도', 'NNG'), ('가', 'JKS'), ('아직', 'MAG'), ('높', 'VA'), ('지', 'ECD'), ('않', 'VXV'), ('지만', 'ECE'), (',', 'SP'), ('영업', 'NNG'), ('이익', 'NNG'), ('으로', 'JKM'), ('인식', 'NNG'), ('되', 'XSV'), ('는', 'ETD'), ('AMPC', 'OL'), ('규모', 'NNG'), ('(', 'SS'), ('1', 'NR'), ('kWh', 'OL'), ('당', 'NNG'), ('35', 'NR'), ('~', 'SO'), ('45', 'NR'), ('달러', 'NNG'), (')', 'SS'), ('가', 'NNG'), ('줄기', 'NNG'), ('때문', 'NNB'), ('에', 'JKM'), ('영업', 'NNG'), ('이익', 'NNG'), ('에', 'JKM'), ('미치', 'VV'), ('는', 'ETD'), ('영향', 'NNG'), ('은', 'JX'), ('적', 'VA'), ('지', 'ECD'), ('않', 'VXV'), ('다', 'ECS'), ('”', 'SS'), ('고', 'NNG'), ('밝히', 'VV'), ('었', 'EPT'), ('다', 'EFN'), ('.', 'SF'), ('조', 'NNG'), ('연구원', 'NNG'), ('은', 'JX'), ('“', 'SS'), ('2', 'NR'), ('분기', 'NNG'), ('추정', 'NNG'), ('AMPC', 'OL'), ('규모', 'NNG'), ('는', 'JX'), ('1505', 'NR'), ('억', 'NR'), ('원', 'NNM'), ('으로', 'JKM'), ('기존', 'NNG'), ('추', 'NNG'), ('정치', 'NNG'), ('대비', 'NNG'), ('11.7', 'NR'), ('%', 'SW'), ('하향', 'NNG'), ('하', 'XSV'), ('었', 'EPT'), ('다고', 'EFN'), ('연간', 'NNG'), ('AMPC', 'OL'), ('규모', 'NNG'), ('도', 'JX'), ('기존', 'NNG'), ('9316', 'NR'), ('억', 'NR'), ('원', 'NNM'), ('에서', 'JKM'), ('8700', 'NR'), ('억', 'NR'), ('원', 'NNM'), ('으로', 'JKM'), ('낮추', 'VV'), ('었', 'EPT'), ('다', 'ECS'), ('”', 'SS'), ('며', 'JC'), ('“', 'SS'), ('그러나', 'MAC'), ('얼', 'VV'), ('ㄹ', 'ETD'), ('티', 'NNG'), ('어', 'VV'), ('ㅁ', 'ETN'), ('셀', 'NNG'), ('즈', 'UN'), ('(', 'SS'), ('GM', 'OL'), ('과의', 'NNG'), ('배터리', 'NNG'), ('생산', 'NNG'), ('JV', 'OL'), (')', 'SS'), ('의', 'NNG'), ('초반', 'NNG'), ('생산', 'NNG'), ('수율', 'NNG'), ('도', 'JX'), ('안정적', 'NNG'), ('이', 'VCP'), ('고', 'ECE'), (',', 'SP'), ('1', 'NR'), ('공장', 'NNG'), ('(', 'SS'), ('오', 'NNG'), ('하이', 'NNG'), ('오', 'NNG'), (',', 'SP'), ('40', 'NR'), ('GWh', 'OL'), (')', 'SS'), ('을', 'NNG'), ('시작', 'NNG'), ('으로', 'JKM'), ('내년', 'NNG'), ('에', 'JKM'), ('2', 'NR'), ('공장', 'NNG'), ('(', 'SS'), ('테네시', 'NNG'), ('45', 'NR'), ('GWh', 'OL'), (')', 'SS'), (',', 'SP'), ('2025', 'NR'), ('년', 'NNM'), ('에', 'JKM'), ('3', 'NR'), ('공장', 'NNG'), ('(', 'SS'), ('미시간', 'NNG'), ('50', 'NR'), ('GWh', 'OL'), (')', 'SS'), ('이', 'NNG'), ('가동', 'NNG'), ('되', 'XSV'), ('ㄹ', 'ETD'), ('전망', 'NNG'), ('이', 'VCP'), ('어서', 'ECD'), ('LG', 'OL'), ('에너지', 'NNG'), ('솔루션', 'NNG'), ('이', 'JKS'), ('AMPC', 'OL'), ('의', 'JKG'), ('최대', 'NNG'), ('수혜', 'NNG'), ('회사', 'NNG'), ('이', 'VCP'), ('ㄴ', 'ETD'), ('점', 'NNG'), ('에', 'JKM'), ('는', 'JX'), ('변하', 'VV'), ('ㅁ', 'ETN'), ('이', 'JKS'), ('없', 'VA'), ('다', 'ECS'), ('”', 'SS'), ('고', 'NNG'), ('평가', 'NNG'), ('하', 'XSV'), ('었', 'EPT'), ('다', 'EFN'), ('.', 'SF'), ('그', 'VV'), ('는', 'ETD'), ('“', 'SS'), ('단기', 'NNG'), ('실적', 'NNG'), ('부진', 'NNG'), ('에', 'JKM'), ('도', 'JX'), ('미국', 'NNP'), ('시장', 'NNG'), ('성장', 'NNG'), ('의', 'JKG'), ('최대', 'NNG'), ('수혜', 'NNG'), ('업체', 'NNG'), ('이', 'VCP'), ('라는', 'ETD'), ('회사', 'NNG'), ('의', 'JKG'), ('본질적', 'NNG'), ('이', 'VCP'), ('ㄴ', 'ETD'), ('경쟁력', 'NNG'), ('은', 'JX'), ('변하', 'VV'), ('ㅁ', 'ETN'), ('이', 'JKS'), ('없', 'VA'), ('고', 'ECE'), (',', 'SP'), ('향후', 'NNG'), ('AMPC', 'OL'), ('관련', 'NNG'), ('불확실', 'NNG'), ('성', 'XSN'), ('(', 'SS'), ('보조', 'NNG'), ('금', 'NNG'), ('축소', 'NNG'), ('논란', 'NNG'), (')', 'SS'), ('해소', 'NNG'), ('와', 'JKM'), ('수주', 'NNG'), ('모멘텀', 'NNG'), ('등', 'NNB'), ('이', 'JKS'), ('추가적', 'NNG'), ('으로', 'JKM'), ('반영', 'NNG'), ('되', 'XSV'), ('ㄹ', 'ETD'), ('때', 'NNG'), ('마다', 'JX'), ('안정적', 'NNG'), ('이', 'VCP'), ('ㄴ', 'ETD'), ('주가', 'NNG'), ('상승', 'NNG'), ('이', 'JKS'), ('예상', 'NNG'), ('되', 'XSV'), ('ㄴ다', 'ECS'), ('”', 'SS'), ('고', 'NNG'), ('보', 'VV'), ('았', 'EPT'), ('다', 'EFN'), ('.', 'SF')]\n"
     ]
    }
   ],
   "source": [
    "morph(df['contests'][0])"
   ]
  },
  {
   "cell_type": "code",
   "execution_count": null,
   "id": "3cfed993",
   "metadata": {},
   "outputs": [],
   "source": []
  }
 ],
 "metadata": {
  "kernelspec": {
   "display_name": "Python 3 (ipykernel)",
   "language": "python",
   "name": "python3"
  },
  "language_info": {
   "codemirror_mode": {
    "name": "ipython",
    "version": 3
   },
   "file_extension": ".py",
   "mimetype": "text/x-python",
   "name": "python",
   "nbconvert_exporter": "python",
   "pygments_lexer": "ipython3",
   "version": "3.10.11"
  }
 },
 "nbformat": 4,
 "nbformat_minor": 5
}
