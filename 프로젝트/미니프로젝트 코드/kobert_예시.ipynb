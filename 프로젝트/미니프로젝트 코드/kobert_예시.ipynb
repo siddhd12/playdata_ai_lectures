{
 "cells": [
  {
   "cell_type": "code",
   "execution_count": 1,
   "id": "BBqBsTEyFWYz",
   "metadata": {
    "colab": {
     "base_uri": "https://localhost:8080/"
    },
    "collapsed": true,
    "executionInfo": {
     "elapsed": 6259,
     "status": "ok",
     "timestamp": 1688528140265,
     "user": {
      "displayName": "한지애",
      "userId": "13589528693671396926"
     },
     "user_tz": -540
    },
    "id": "BBqBsTEyFWYz",
    "outputId": "da663050-a526-4bc5-acd8-a601b2f266b1"
   },
   "outputs": [
    {
     "name": "stdout",
     "output_type": "stream",
     "text": [
      "Collecting mxnet\n",
      "  Downloading mxnet-1.7.0.post2-py2.py3-none-win_amd64.whl (33.1 MB)\n",
      "     ---------------------------------------- 0.0/33.1 MB ? eta -:--:--\n",
      "      --------------------------------------- 0.7/33.1 MB 22.5 MB/s eta 0:00:02\n",
      "     -- ------------------------------------- 1.8/33.1 MB 28.4 MB/s eta 0:00:02\n",
      "     -- ------------------------------------- 2.2/33.1 MB 17.2 MB/s eta 0:00:02\n",
      "     --- ------------------------------------ 3.1/33.1 MB 20.0 MB/s eta 0:00:02\n",
      "     ---- ----------------------------------- 4.0/33.1 MB 18.3 MB/s eta 0:00:02\n",
      "     ----- ---------------------------------- 4.8/33.1 MB 18.0 MB/s eta 0:00:02\n",
      "     ------ --------------------------------- 5.1/33.1 MB 17.1 MB/s eta 0:00:02\n",
      "     ------ --------------------------------- 5.4/33.1 MB 15.6 MB/s eta 0:00:02\n",
      "     ------ --------------------------------- 5.5/33.1 MB 13.6 MB/s eta 0:00:03\n",
      "     ------- -------------------------------- 6.2/33.1 MB 13.7 MB/s eta 0:00:02\n",
      "     -------- ------------------------------- 7.1/33.1 MB 14.6 MB/s eta 0:00:02\n",
      "     ---------- ----------------------------- 8.6/33.1 MB 15.6 MB/s eta 0:00:02\n",
      "     ----------- ---------------------------- 9.5/33.1 MB 15.9 MB/s eta 0:00:02\n",
      "     ------------ -------------------------- 10.3/33.1 MB 16.0 MB/s eta 0:00:02\n",
      "     ------------- ------------------------- 11.2/33.1 MB 16.0 MB/s eta 0:00:02\n",
      "     -------------- ------------------------ 12.7/33.1 MB 17.7 MB/s eta 0:00:02\n",
      "     ---------------- ---------------------- 13.8/33.1 MB 17.7 MB/s eta 0:00:02\n",
      "     ----------------- --------------------- 14.9/33.1 MB 17.7 MB/s eta 0:00:02\n",
      "     ------------------ -------------------- 15.5/33.1 MB 19.9 MB/s eta 0:00:01\n",
      "     ------------------- ------------------- 16.3/33.1 MB 22.6 MB/s eta 0:00:01\n",
      "     ------------------- ------------------- 16.5/33.1 MB 21.1 MB/s eta 0:00:01\n",
      "     ------------------- ------------------- 16.8/33.1 MB 18.7 MB/s eta 0:00:01\n",
      "     -------------------- ------------------ 17.7/33.1 MB 18.7 MB/s eta 0:00:01\n",
      "     --------------------- ----------------- 18.1/33.1 MB 18.2 MB/s eta 0:00:01\n",
      "     ---------------------- ---------------- 18.8/33.1 MB 17.2 MB/s eta 0:00:01\n",
      "     ----------------------- --------------- 19.9/33.1 MB 18.2 MB/s eta 0:00:01\n",
      "     ------------------------ -------------- 20.4/33.1 MB 17.3 MB/s eta 0:00:01\n",
      "     ------------------------ -------------- 21.2/33.1 MB 16.4 MB/s eta 0:00:01\n",
      "     -------------------------- ------------ 22.2/33.1 MB 16.0 MB/s eta 0:00:01\n",
      "     --------------------------- ----------- 23.4/33.1 MB 16.0 MB/s eta 0:00:01\n",
      "     ----------------------------- --------- 24.7/33.1 MB 16.4 MB/s eta 0:00:01\n",
      "     ----------------------------- --------- 25.1/33.1 MB 16.0 MB/s eta 0:00:01\n",
      "     ------------------------------ -------- 26.0/33.1 MB 16.0 MB/s eta 0:00:01\n",
      "     ------------------------------- ------- 27.0/33.1 MB 17.7 MB/s eta 0:00:01\n",
      "     -------------------------------- ------ 27.7/33.1 MB 17.7 MB/s eta 0:00:01\n",
      "     --------------------------------- ----- 28.4/33.1 MB 18.7 MB/s eta 0:00:01\n",
      "     ---------------------------------- ---- 29.3/33.1 MB 18.7 MB/s eta 0:00:01\n",
      "     ----------------------------------- --- 30.0/33.1 MB 17.7 MB/s eta 0:00:01\n",
      "     ------------------------------------ -- 31.2/33.1 MB 18.7 MB/s eta 0:00:01\n",
      "     ------------------------------------- - 31.8/33.1 MB 19.2 MB/s eta 0:00:01\n",
      "     --------------------------------------  32.5/33.1 MB 18.7 MB/s eta 0:00:01\n",
      "     --------------------------------------  33.1/33.1 MB 18.7 MB/s eta 0:00:01\n",
      "     --------------------------------------  33.1/33.1 MB 18.7 MB/s eta 0:00:01\n",
      "     --------------------------------------- 33.1/33.1 MB 16.4 MB/s eta 0:00:00\n",
      "Collecting numpy<1.17.0,>=1.8.2\n",
      "  Downloading numpy-1.16.6.zip (5.1 MB)\n",
      "     ---------------------------------------- 0.0/5.1 MB ? eta -:--:--\n",
      "     --------- ------------------------------ 1.2/5.1 MB 26.1 MB/s eta 0:00:01\n",
      "     ------------- -------------------------- 1.8/5.1 MB 22.6 MB/s eta 0:00:01\n",
      "     ------------------- -------------------- 2.5/5.1 MB 19.6 MB/s eta 0:00:01\n",
      "     ------------------------- -------------- 3.3/5.1 MB 19.1 MB/s eta 0:00:01\n",
      "     ---------------------------- ----------- 3.7/5.1 MB 15.8 MB/s eta 0:00:01\n",
      "     ------------------------------------ --- 4.7/5.1 MB 17.7 MB/s eta 0:00:01\n",
      "     ---------------------------------------- 5.1/5.1 MB 16.5 MB/s eta 0:00:00\n",
      "  Preparing metadata (setup.py): started\n",
      "  Preparing metadata (setup.py): finished with status 'done'\n",
      "Collecting graphviz<0.9.0,>=0.8.1\n",
      "  Downloading graphviz-0.8.4-py2.py3-none-any.whl (16 kB)\n",
      "Collecting requests<2.19.0,>=2.18.4\n",
      "  Downloading requests-2.18.4-py2.py3-none-any.whl (88 kB)\n",
      "     ---------------------------------------- 0.0/88.7 kB ? eta -:--:--\n",
      "     ---------------------------------------- 88.7/88.7 kB ? eta 0:00:00\n",
      "Collecting urllib3<1.23,>=1.21.1\n",
      "  Downloading urllib3-1.22-py2.py3-none-any.whl (132 kB)\n",
      "     ---------------------------------------- 0.0/132.3 kB ? eta -:--:--\n",
      "     ---------------------------------------- 132.3/132.3 kB ? eta 0:00:00\n",
      "Requirement already satisfied: certifi>=2017.4.17 in c:\\users\\playdata\\anaconda3\\envs\\ml\\lib\\site-packages (from requests<2.19.0,>=2.18.4->mxnet) (2022.12.7)\n",
      "Collecting chardet<3.1.0,>=3.0.2\n",
      "  Downloading chardet-3.0.4-py2.py3-none-any.whl (133 kB)\n",
      "     ---------------------------------------- 0.0/133.4 kB ? eta -:--:--\n",
      "     ---------------------------------------- 133.4/133.4 kB ? eta 0:00:00\n",
      "Collecting idna<2.7,>=2.5\n",
      "  Downloading idna-2.6-py2.py3-none-any.whl (56 kB)\n",
      "     ---------------------------------------- 0.0/56.5 kB ? eta -:--:--\n",
      "     ---------------------------------------- 56.5/56.5 kB ? eta 0:00:00\n",
      "Building wheels for collected packages: numpy\n",
      "  Building wheel for numpy (setup.py): started\n",
      "  Building wheel for numpy (setup.py): finished with status 'error'\n",
      "  Running setup.py clean for numpy\n",
      "Failed to build numpy\n",
      "Installing collected packages: urllib3, idna, chardet, requests, numpy, graphviz, mxnet\n",
      "  Attempting uninstall: urllib3\n",
      "    Found existing installation: urllib3 1.26.15\n",
      "    Uninstalling urllib3-1.26.15:\n",
      "      Successfully uninstalled urllib3-1.26.15\n",
      "  Attempting uninstall: idna\n",
      "    Found existing installation: idna 3.4\n",
      "    Uninstalling idna-3.4:\n",
      "      Successfully uninstalled idna-3.4\n",
      "  Attempting uninstall: requests\n",
      "    Found existing installation: requests 2.28.2\n",
      "    Uninstalling requests-2.28.2:\n",
      "      Successfully uninstalled requests-2.28.2\n",
      "  Attempting uninstall: numpy\n",
      "    Found existing installation: numpy 1.23.5\n",
      "    Uninstalling numpy-1.23.5:\n",
      "      Successfully uninstalled numpy-1.23.5\n",
      "  Running setup.py install for numpy: started\n",
      "  Running setup.py install for numpy: finished with status 'error'\n",
      "  Rolling back uninstall of numpy\n",
      "  Moving to c:\\users\\playdata\\anaconda3\\envs\\ml\\lib\\site-packages\\numpy-1.23.5.dist-info\\\n",
      "   from C:\\Users\\Playdata\\anaconda3\\envs\\ml\\Lib\\site-packages\\~umpy-1.23.5.dist-info\n",
      "  Moving to c:\\users\\playdata\\anaconda3\\envs\\ml\\lib\\site-packages\\numpy\\\n",
      "   from C:\\Users\\Playdata\\anaconda3\\envs\\ml\\Lib\\site-packages\\~umpy\n",
      "  Moving to c:\\users\\playdata\\anaconda3\\envs\\ml\\scripts\\f2py.exe\n",
      "   from C:\\Users\\Playdata\\AppData\\Local\\Temp\\pip-uninstall-ub36p4qu\\f2py.exe\n"
     ]
    },
    {
     "name": "stderr",
     "output_type": "stream",
     "text": [
      "  error: subprocess-exited-with-error\n",
      "  \n",
      "  python setup.py bdist_wheel did not run successfully.\n",
      "  exit code: 1\n",
      "  \n",
      "  [288 lines of output]\n",
      "  Running from numpy source directory.\n",
      "  C:\\Users\\Playdata\\AppData\\Local\\Temp\\pip-install-zv7gid77\\numpy_817cf3e062f54474815754cc60f69b39\\numpy\\distutils\\misc_util.py:476: SyntaxWarning: \"is\" with a literal. Did you mean \"==\"?\n",
      "    return is_string(s) and ('*' in s or '?' is s)\n",
      "  blas_opt_info:\n",
      "  blas_mkl_info:\n",
      "  No module named 'numpy.distutils._msvccompiler' in numpy.distutils; trying from distutils\n",
      "  customize MSVCCompiler\n",
      "    libraries mkl_rt not found in ['C:\\\\Users\\\\Playdata\\\\anaconda3\\\\envs\\\\ml\\\\lib', 'C:\\\\', 'C:\\\\Users\\\\Playdata\\\\anaconda3\\\\envs\\\\ml\\\\libs', 'C:\\\\Users\\\\Playdata\\\\anaconda3\\\\Library\\\\lib']\n",
      "    NOT AVAILABLE\n",
      "  \n",
      "  blis_info:\n",
      "  No module named 'numpy.distutils._msvccompiler' in numpy.distutils; trying from distutils\n",
      "  customize MSVCCompiler\n",
      "    libraries blis not found in ['C:\\\\Users\\\\Playdata\\\\anaconda3\\\\envs\\\\ml\\\\lib', 'C:\\\\', 'C:\\\\Users\\\\Playdata\\\\anaconda3\\\\envs\\\\ml\\\\libs', 'C:\\\\Users\\\\Playdata\\\\anaconda3\\\\Library\\\\lib']\n",
      "    NOT AVAILABLE\n",
      "  \n",
      "  openblas_info:\n",
      "  No module named 'numpy.distutils._msvccompiler' in numpy.distutils; trying from distutils\n",
      "  customize MSVCCompiler\n",
      "  No module named 'numpy.distutils._msvccompiler' in numpy.distutils; trying from distutils\n",
      "  customize MSVCCompiler\n",
      "    libraries openblas not found in ['C:\\\\Users\\\\Playdata\\\\anaconda3\\\\envs\\\\ml\\\\lib', 'C:\\\\', 'C:\\\\Users\\\\Playdata\\\\anaconda3\\\\envs\\\\ml\\\\libs', 'C:\\\\Users\\\\Playdata\\\\anaconda3\\\\Library\\\\lib']\n",
      "  get_default_fcompiler: matching types: '['gnu', 'intelv', 'absoft', 'compaqv', 'intelev', 'gnu95', 'g95', 'intelvem', 'intelem', 'flang']'\n",
      "  customize GnuFCompiler\n",
      "  Could not locate executable g77\n",
      "  Could not locate executable f77\n",
      "  customize IntelVisualFCompiler\n",
      "  Could not locate executable ifort\n",
      "  Could not locate executable ifl\n",
      "  customize AbsoftFCompiler\n",
      "  Could not locate executable f90\n",
      "  customize CompaqVisualFCompiler\n",
      "  Could not locate executable DF\n",
      "  customize IntelItaniumVisualFCompiler\n",
      "  Could not locate executable efl\n",
      "  customize Gnu95FCompiler\n",
      "  Could not locate executable gfortran\n",
      "  Could not locate executable f95\n",
      "  customize G95FCompiler\n",
      "  Could not locate executable g95\n",
      "  customize IntelEM64VisualFCompiler\n",
      "  customize IntelEM64TFCompiler\n",
      "  Could not locate executable efort\n",
      "  Could not locate executable efc\n",
      "  customize PGroupFlangCompiler\n",
      "  Could not locate executable flang\n",
      "  don't know how to compile Fortran code on platform 'nt'\n",
      "    NOT AVAILABLE\n",
      "  \n",
      "  atlas_3_10_blas_threads_info:\n",
      "  Setting PTATLAS=ATLAS\n",
      "  No module named 'numpy.distutils._msvccompiler' in numpy.distutils; trying from distutils\n",
      "  customize MSVCCompiler\n",
      "    libraries tatlas not found in ['C:\\\\Users\\\\Playdata\\\\anaconda3\\\\envs\\\\ml\\\\lib', 'C:\\\\', 'C:\\\\Users\\\\Playdata\\\\anaconda3\\\\envs\\\\ml\\\\libs', 'C:\\\\Users\\\\Playdata\\\\anaconda3\\\\Library\\\\lib']\n",
      "    NOT AVAILABLE\n",
      "  \n",
      "  atlas_3_10_blas_info:\n",
      "  No module named 'numpy.distutils._msvccompiler' in numpy.distutils; trying from distutils\n",
      "  customize MSVCCompiler\n",
      "    libraries satlas not found in ['C:\\\\Users\\\\Playdata\\\\anaconda3\\\\envs\\\\ml\\\\lib', 'C:\\\\', 'C:\\\\Users\\\\Playdata\\\\anaconda3\\\\envs\\\\ml\\\\libs', 'C:\\\\Users\\\\Playdata\\\\anaconda3\\\\Library\\\\lib']\n",
      "    NOT AVAILABLE\n",
      "  \n",
      "  atlas_blas_threads_info:\n",
      "  Setting PTATLAS=ATLAS\n",
      "  No module named 'numpy.distutils._msvccompiler' in numpy.distutils; trying from distutils\n",
      "  customize MSVCCompiler\n",
      "    libraries ptf77blas,ptcblas,atlas not found in ['C:\\\\Users\\\\Playdata\\\\anaconda3\\\\envs\\\\ml\\\\lib', 'C:\\\\', 'C:\\\\Users\\\\Playdata\\\\anaconda3\\\\envs\\\\ml\\\\libs', 'C:\\\\Users\\\\Playdata\\\\anaconda3\\\\Library\\\\lib']\n",
      "    NOT AVAILABLE\n",
      "  \n",
      "  atlas_blas_info:\n",
      "  No module named 'numpy.distutils._msvccompiler' in numpy.distutils; trying from distutils\n",
      "  customize MSVCCompiler\n",
      "    libraries f77blas,cblas,atlas not found in ['C:\\\\Users\\\\Playdata\\\\anaconda3\\\\envs\\\\ml\\\\lib', 'C:\\\\', 'C:\\\\Users\\\\Playdata\\\\anaconda3\\\\envs\\\\ml\\\\libs', 'C:\\\\Users\\\\Playdata\\\\anaconda3\\\\Library\\\\lib']\n",
      "    NOT AVAILABLE\n",
      "  \n",
      "  accelerate_info:\n",
      "    NOT AVAILABLE\n",
      "  \n",
      "  C:\\Users\\Playdata\\AppData\\Local\\Temp\\pip-install-zv7gid77\\numpy_817cf3e062f54474815754cc60f69b39\\numpy\\distutils\\system_info.py:639: UserWarning:\n",
      "      Atlas (http://math-atlas.sourceforge.net/) libraries not found.\n",
      "      Directories to search for the libraries can be specified in the\n",
      "      numpy/distutils/site.cfg file (section [atlas]) or by setting\n",
      "      the ATLAS environment variable.\n",
      "    self.calc_info()\n",
      "  blas_info:\n",
      "  No module named 'numpy.distutils._msvccompiler' in numpy.distutils; trying from distutils\n",
      "  customize MSVCCompiler\n",
      "    libraries blas not found in ['C:\\\\Users\\\\Playdata\\\\anaconda3\\\\envs\\\\ml\\\\lib', 'C:\\\\', 'C:\\\\Users\\\\Playdata\\\\anaconda3\\\\envs\\\\ml\\\\libs', 'C:\\\\Users\\\\Playdata\\\\anaconda3\\\\Library\\\\lib']\n",
      "    NOT AVAILABLE\n",
      "  \n",
      "  C:\\Users\\Playdata\\AppData\\Local\\Temp\\pip-install-zv7gid77\\numpy_817cf3e062f54474815754cc60f69b39\\numpy\\distutils\\system_info.py:639: UserWarning:\n",
      "      Blas (http://www.netlib.org/blas/) libraries not found.\n",
      "      Directories to search for the libraries can be specified in the\n",
      "      numpy/distutils/site.cfg file (section [blas]) or by setting\n",
      "      the BLAS environment variable.\n",
      "    self.calc_info()\n",
      "  blas_src_info:\n",
      "    NOT AVAILABLE\n",
      "  \n",
      "  C:\\Users\\Playdata\\AppData\\Local\\Temp\\pip-install-zv7gid77\\numpy_817cf3e062f54474815754cc60f69b39\\numpy\\distutils\\system_info.py:639: UserWarning:\n",
      "      Blas (http://www.netlib.org/blas/) sources not found.\n",
      "      Directories to search for the sources can be specified in the\n",
      "      numpy/distutils/site.cfg file (section [blas_src]) or by setting\n",
      "      the BLAS_SRC environment variable.\n",
      "    self.calc_info()\n",
      "    NOT AVAILABLE\n",
      "  \n",
      "  'svnversion'은(는) 내부 또는 외부 명령, 실행할 수 있는 프로그램, 또는\n",
      "  배치 파일이 아닙니다.\n",
      "  non-existing path in 'numpy\\\\distutils': 'site.cfg'\n",
      "  lapack_opt_info:\n",
      "  lapack_mkl_info:\n",
      "  No module named 'numpy.distutils._msvccompiler' in numpy.distutils; trying from distutils\n",
      "  customize MSVCCompiler\n",
      "    libraries mkl_rt not found in ['C:\\\\Users\\\\Playdata\\\\anaconda3\\\\envs\\\\ml\\\\lib', 'C:\\\\', 'C:\\\\Users\\\\Playdata\\\\anaconda3\\\\envs\\\\ml\\\\libs', 'C:\\\\Users\\\\Playdata\\\\anaconda3\\\\Library\\\\lib']\n",
      "    NOT AVAILABLE\n",
      "  \n",
      "  openblas_lapack_info:\n",
      "  No module named 'numpy.distutils._msvccompiler' in numpy.distutils; trying from distutils\n",
      "  customize MSVCCompiler\n",
      "  No module named 'numpy.distutils._msvccompiler' in numpy.distutils; trying from distutils\n",
      "  customize MSVCCompiler\n",
      "    libraries openblas not found in ['C:\\\\Users\\\\Playdata\\\\anaconda3\\\\envs\\\\ml\\\\lib', 'C:\\\\', 'C:\\\\Users\\\\Playdata\\\\anaconda3\\\\envs\\\\ml\\\\libs', 'C:\\\\Users\\\\Playdata\\\\anaconda3\\\\Library\\\\lib']\n",
      "    NOT AVAILABLE\n",
      "  \n",
      "  openblas_clapack_info:\n",
      "  No module named 'numpy.distutils._msvccompiler' in numpy.distutils; trying from distutils\n",
      "  customize MSVCCompiler\n",
      "  No module named 'numpy.distutils._msvccompiler' in numpy.distutils; trying from distutils\n",
      "  customize MSVCCompiler\n",
      "    libraries openblas,lapack not found in ['C:\\\\Users\\\\Playdata\\\\anaconda3\\\\envs\\\\ml\\\\lib', 'C:\\\\', 'C:\\\\Users\\\\Playdata\\\\anaconda3\\\\envs\\\\ml\\\\libs', 'C:\\\\Users\\\\Playdata\\\\anaconda3\\\\Library\\\\lib']\n",
      "    NOT AVAILABLE\n",
      "  \n",
      "  atlas_3_10_threads_info:\n",
      "  Setting PTATLAS=ATLAS\n",
      "  No module named 'numpy.distutils._msvccompiler' in numpy.distutils; trying from distutils\n",
      "  customize MSVCCompiler\n",
      "    libraries lapack_atlas not found in C:\\Users\\Playdata\\anaconda3\\envs\\ml\\lib\n",
      "  No module named 'numpy.distutils._msvccompiler' in numpy.distutils; trying from distutils\n",
      "  customize MSVCCompiler\n",
      "    libraries tatlas,tatlas not found in C:\\Users\\Playdata\\anaconda3\\envs\\ml\\lib\n",
      "  No module named 'numpy.distutils._msvccompiler' in numpy.distutils; trying from distutils\n",
      "  customize MSVCCompiler\n",
      "    libraries lapack_atlas not found in C:\\\n",
      "  No module named 'numpy.distutils._msvccompiler' in numpy.distutils; trying from distutils\n",
      "  customize MSVCCompiler\n",
      "    libraries tatlas,tatlas not found in C:\\\n",
      "  No module named 'numpy.distutils._msvccompiler' in numpy.distutils; trying from distutils\n",
      "  customize MSVCCompiler\n",
      "    libraries lapack_atlas not found in C:\\Users\\Playdata\\anaconda3\\envs\\ml\\libs\n",
      "  No module named 'numpy.distutils._msvccompiler' in numpy.distutils; trying from distutils\n",
      "  customize MSVCCompiler\n",
      "    libraries tatlas,tatlas not found in C:\\Users\\Playdata\\anaconda3\\envs\\ml\\libs\n",
      "  No module named 'numpy.distutils._msvccompiler' in numpy.distutils; trying from distutils\n",
      "  customize MSVCCompiler\n",
      "    libraries lapack_atlas not found in C:\\Users\\Playdata\\anaconda3\\Library\\lib\n",
      "  No module named 'numpy.distutils._msvccompiler' in numpy.distutils; trying from distutils\n",
      "  customize MSVCCompiler\n",
      "    libraries tatlas,tatlas not found in C:\\Users\\Playdata\\anaconda3\\Library\\lib\n",
      "  <class 'numpy.distutils.system_info.atlas_3_10_threads_info'>\n",
      "    NOT AVAILABLE\n",
      "  \n",
      "  atlas_3_10_info:\n",
      "  No module named 'numpy.distutils._msvccompiler' in numpy.distutils; trying from distutils\n",
      "  customize MSVCCompiler\n",
      "    libraries lapack_atlas not found in C:\\Users\\Playdata\\anaconda3\\envs\\ml\\lib\n",
      "  No module named 'numpy.distutils._msvccompiler' in numpy.distutils; trying from distutils\n",
      "  customize MSVCCompiler\n",
      "    libraries satlas,satlas not found in C:\\Users\\Playdata\\anaconda3\\envs\\ml\\lib\n",
      "  No module named 'numpy.distutils._msvccompiler' in numpy.distutils; trying from distutils\n",
      "  customize MSVCCompiler\n",
      "    libraries lapack_atlas not found in C:\\\n",
      "  No module named 'numpy.distutils._msvccompiler' in numpy.distutils; trying from distutils\n",
      "  customize MSVCCompiler\n",
      "    libraries satlas,satlas not found in C:\\\n",
      "  No module named 'numpy.distutils._msvccompiler' in numpy.distutils; trying from distutils\n",
      "  customize MSVCCompiler\n",
      "    libraries lapack_atlas not found in C:\\Users\\Playdata\\anaconda3\\envs\\ml\\libs\n",
      "  No module named 'numpy.distutils._msvccompiler' in numpy.distutils; trying from distutils\n",
      "  customize MSVCCompiler\n",
      "    libraries satlas,satlas not found in C:\\Users\\Playdata\\anaconda3\\envs\\ml\\libs\n",
      "  No module named 'numpy.distutils._msvccompiler' in numpy.distutils; trying from distutils\n",
      "  customize MSVCCompiler\n",
      "    libraries lapack_atlas not found in C:\\Users\\Playdata\\anaconda3\\Library\\lib\n",
      "  No module named 'numpy.distutils._msvccompiler' in numpy.distutils; trying from distutils\n",
      "  customize MSVCCompiler\n",
      "    libraries satlas,satlas not found in C:\\Users\\Playdata\\anaconda3\\Library\\lib\n",
      "  <class 'numpy.distutils.system_info.atlas_3_10_info'>\n",
      "    NOT AVAILABLE\n",
      "  \n",
      "  atlas_threads_info:\n",
      "  Setting PTATLAS=ATLAS\n",
      "  No module named 'numpy.distutils._msvccompiler' in numpy.distutils; trying from distutils\n",
      "  customize MSVCCompiler\n",
      "    libraries lapack_atlas not found in C:\\Users\\Playdata\\anaconda3\\envs\\ml\\lib\n",
      "  No module named 'numpy.distutils._msvccompiler' in numpy.distutils; trying from distutils\n",
      "  customize MSVCCompiler\n",
      "    libraries ptf77blas,ptcblas,atlas not found in C:\\Users\\Playdata\\anaconda3\\envs\\ml\\lib\n",
      "  No module named 'numpy.distutils._msvccompiler' in numpy.distutils; trying from distutils\n",
      "  customize MSVCCompiler\n",
      "    libraries lapack_atlas not found in C:\\\n",
      "  No module named 'numpy.distutils._msvccompiler' in numpy.distutils; trying from distutils\n",
      "  customize MSVCCompiler\n",
      "    libraries ptf77blas,ptcblas,atlas not found in C:\\\n",
      "  No module named 'numpy.distutils._msvccompiler' in numpy.distutils; trying from distutils\n",
      "  customize MSVCCompiler\n",
      "    libraries lapack_atlas not found in C:\\Users\\Playdata\\anaconda3\\envs\\ml\\libs\n",
      "  No module named 'numpy.distutils._msvccompiler' in numpy.distutils; trying from distutils\n",
      "  customize MSVCCompiler\n",
      "    libraries ptf77blas,ptcblas,atlas not found in C:\\Users\\Playdata\\anaconda3\\envs\\ml\\libs\n",
      "  No module named 'numpy.distutils._msvccompiler' in numpy.distutils; trying from distutils\n",
      "  customize MSVCCompiler\n",
      "    libraries lapack_atlas not found in C:\\Users\\Playdata\\anaconda3\\Library\\lib\n",
      "  No module named 'numpy.distutils._msvccompiler' in numpy.distutils; trying from distutils\n",
      "  customize MSVCCompiler\n",
      "    libraries ptf77blas,ptcblas,atlas not found in C:\\Users\\Playdata\\anaconda3\\Library\\lib\n",
      "  <class 'numpy.distutils.system_info.atlas_threads_info'>\n",
      "    NOT AVAILABLE\n",
      "  \n",
      "  atlas_info:\n",
      "  No module named 'numpy.distutils._msvccompiler' in numpy.distutils; trying from distutils\n",
      "  customize MSVCCompiler\n",
      "    libraries lapack_atlas not found in C:\\Users\\Playdata\\anaconda3\\envs\\ml\\lib\n",
      "  No module named 'numpy.distutils._msvccompiler' in numpy.distutils; trying from distutils\n",
      "  customize MSVCCompiler\n",
      "    libraries f77blas,cblas,atlas not found in C:\\Users\\Playdata\\anaconda3\\envs\\ml\\lib\n",
      "  No module named 'numpy.distutils._msvccompiler' in numpy.distutils; trying from distutils\n",
      "  customize MSVCCompiler\n",
      "    libraries lapack_atlas not found in C:\\\n",
      "  No module named 'numpy.distutils._msvccompiler' in numpy.distutils; trying from distutils\n",
      "  customize MSVCCompiler\n",
      "    libraries f77blas,cblas,atlas not found in C:\\\n",
      "  No module named 'numpy.distutils._msvccompiler' in numpy.distutils; trying from distutils\n",
      "  customize MSVCCompiler\n",
      "    libraries lapack_atlas not found in C:\\Users\\Playdata\\anaconda3\\envs\\ml\\libs\n",
      "  No module named 'numpy.distutils._msvccompiler' in numpy.distutils; trying from distutils\n",
      "  customize MSVCCompiler\n",
      "    libraries f77blas,cblas,atlas not found in C:\\Users\\Playdata\\anaconda3\\envs\\ml\\libs\n",
      "  No module named 'numpy.distutils._msvccompiler' in numpy.distutils; trying from distutils\n",
      "  customize MSVCCompiler\n",
      "    libraries lapack_atlas not found in C:\\Users\\Playdata\\anaconda3\\Library\\lib\n",
      "  No module named 'numpy.distutils._msvccompiler' in numpy.distutils; trying from distutils\n",
      "  customize MSVCCompiler\n",
      "    libraries f77blas,cblas,atlas not found in C:\\Users\\Playdata\\anaconda3\\Library\\lib\n",
      "  <class 'numpy.distutils.system_info.atlas_info'>\n",
      "    NOT AVAILABLE\n",
      "  \n",
      "  lapack_info:\n",
      "  No module named 'numpy.distutils._msvccompiler' in numpy.distutils; trying from distutils\n",
      "  customize MSVCCompiler\n",
      "    libraries lapack not found in ['C:\\\\Users\\\\Playdata\\\\anaconda3\\\\envs\\\\ml\\\\lib', 'C:\\\\', 'C:\\\\Users\\\\Playdata\\\\anaconda3\\\\envs\\\\ml\\\\libs', 'C:\\\\Users\\\\Playdata\\\\anaconda3\\\\Library\\\\lib']\n",
      "    NOT AVAILABLE\n",
      "  \n",
      "  C:\\Users\\Playdata\\AppData\\Local\\Temp\\pip-install-zv7gid77\\numpy_817cf3e062f54474815754cc60f69b39\\numpy\\distutils\\system_info.py:639: UserWarning:\n",
      "      Lapack (http://www.netlib.org/lapack/) libraries not found.\n",
      "      Directories to search for the libraries can be specified in the\n",
      "      numpy/distutils/site.cfg file (section [lapack]) or by setting\n",
      "      the LAPACK environment variable.\n",
      "    self.calc_info()\n",
      "  lapack_src_info:\n",
      "    NOT AVAILABLE\n",
      "  \n",
      "  C:\\Users\\Playdata\\AppData\\Local\\Temp\\pip-install-zv7gid77\\numpy_817cf3e062f54474815754cc60f69b39\\numpy\\distutils\\system_info.py:639: UserWarning:\n",
      "      Lapack (http://www.netlib.org/lapack/) sources not found.\n",
      "      Directories to search for the sources can be specified in the\n",
      "      numpy/distutils/site.cfg file (section [lapack_src]) or by setting\n",
      "      the LAPACK_SRC environment variable.\n",
      "    self.calc_info()\n",
      "    NOT AVAILABLE\n",
      "  \n",
      "  C:\\Users\\Playdata\\anaconda3\\envs\\ml\\lib\\site-packages\\setuptools\\_distutils\\dist.py:265: UserWarning: Unknown distribution option: 'define_macros'\n",
      "    warnings.warn(msg)\n",
      "  running bdist_wheel\n",
      "  running build\n",
      "  running config_cc\n",
      "  unifing config_cc, config, build_clib, build_ext, build commands --compiler options\n",
      "  running config_fc\n",
      "  unifing config_fc, config, build_clib, build_ext, build commands --fcompiler options\n",
      "  running build_src\n",
      "  build_src\n",
      "  building py_modules sources\n",
      "  creating build\n",
      "  creating build\\src.win-amd64-3.1\n",
      "  creating build\\src.win-amd64-3.1\\numpy\n",
      "  creating build\\src.win-amd64-3.1\\numpy\\distutils\n",
      "  building library \"npymath\" sources\n",
      "  No module named 'numpy.distutils._msvccompiler' in numpy.distutils; trying from distutils\n",
      "  error: Microsoft Visual C++ 14.0 or greater is required. Get it with \"Microsoft C++ Build Tools\": https://visualstudio.microsoft.com/visual-cpp-build-tools/\n",
      "  [end of output]\n",
      "  \n",
      "  note: This error originates from a subprocess, and is likely not a problem with pip.\n",
      "  ERROR: Failed building wheel for numpy\n",
      "  error: subprocess-exited-with-error\n",
      "  \n",
      "  python setup.py clean did not run successfully.\n",
      "  exit code: 1\n",
      "  \n",
      "  [10 lines of output]\n",
      "  Running from numpy source directory.\n",
      "  \n",
      "  `setup.py clean` is not supported, use one of the following instead:\n",
      "  \n",
      "    - `git clean -xdf` (cleans all files)\n",
      "    - `git clean -Xdf` (cleans all versioned files, doesn't touch\n",
      "                        files that aren't checked into the git repo)\n",
      "  \n",
      "  Add `--force` to your command to use it anyway if you must (unsupported).\n",
      "  \n",
      "  [end of output]\n",
      "  \n",
      "  note: This error originates from a subprocess, and is likely not a problem with pip.\n",
      "  ERROR: Failed cleaning build dir for numpy\n",
      "  error: subprocess-exited-with-error\n",
      "  \n",
      "  Running setup.py install for numpy did not run successfully.\n",
      "  exit code: 1\n",
      "  \n",
      "  [293 lines of output]\n",
      "  Running from numpy source directory.\n",
      "  \n",
      "  Note: if you need reliable uninstall behavior, then install\n",
      "  with pip instead of using `setup.py install`:\n",
      "  \n",
      "    - `pip install .`       (from a git repo or downloaded source\n",
      "                             release)\n",
      "    - `pip install numpy`   (last NumPy release on PyPi)\n",
      "  \n",
      "  \n",
      "  blas_opt_info:\n",
      "  blas_mkl_info:\n",
      "  No module named 'numpy.distutils._msvccompiler' in numpy.distutils; trying from distutils\n",
      "  customize MSVCCompiler\n",
      "    libraries mkl_rt not found in ['C:\\\\Users\\\\Playdata\\\\anaconda3\\\\envs\\\\ml\\\\lib', 'C:\\\\', 'C:\\\\Users\\\\Playdata\\\\anaconda3\\\\envs\\\\ml\\\\libs', 'C:\\\\Users\\\\Playdata\\\\anaconda3\\\\Library\\\\lib']\n",
      "    NOT AVAILABLE\n",
      "  \n",
      "  blis_info:\n",
      "  No module named 'numpy.distutils._msvccompiler' in numpy.distutils; trying from distutils\n",
      "  customize MSVCCompiler\n",
      "    libraries blis not found in ['C:\\\\Users\\\\Playdata\\\\anaconda3\\\\envs\\\\ml\\\\lib', 'C:\\\\', 'C:\\\\Users\\\\Playdata\\\\anaconda3\\\\envs\\\\ml\\\\libs', 'C:\\\\Users\\\\Playdata\\\\anaconda3\\\\Library\\\\lib']\n",
      "    NOT AVAILABLE\n",
      "  \n",
      "  openblas_info:\n",
      "  No module named 'numpy.distutils._msvccompiler' in numpy.distutils; trying from distutils\n",
      "  customize MSVCCompiler\n",
      "  No module named 'numpy.distutils._msvccompiler' in numpy.distutils; trying from distutils\n",
      "  customize MSVCCompiler\n",
      "    libraries openblas not found in ['C:\\\\Users\\\\Playdata\\\\anaconda3\\\\envs\\\\ml\\\\lib', 'C:\\\\', 'C:\\\\Users\\\\Playdata\\\\anaconda3\\\\envs\\\\ml\\\\libs', 'C:\\\\Users\\\\Playdata\\\\anaconda3\\\\Library\\\\lib']\n",
      "  get_default_fcompiler: matching types: '['gnu', 'intelv', 'absoft', 'compaqv', 'intelev', 'gnu95', 'g95', 'intelvem', 'intelem', 'flang']'\n",
      "  customize GnuFCompiler\n",
      "  Could not locate executable g77\n",
      "  Could not locate executable f77\n",
      "  customize IntelVisualFCompiler\n",
      "  Could not locate executable ifort\n",
      "  Could not locate executable ifl\n",
      "  customize AbsoftFCompiler\n",
      "  Could not locate executable f90\n",
      "  customize CompaqVisualFCompiler\n",
      "  Could not locate executable DF\n",
      "  customize IntelItaniumVisualFCompiler\n",
      "  Could not locate executable efl\n",
      "  customize Gnu95FCompiler\n",
      "  Could not locate executable gfortran\n",
      "  Could not locate executable f95\n",
      "  customize G95FCompiler\n",
      "  Could not locate executable g95\n",
      "  customize IntelEM64VisualFCompiler\n",
      "  customize IntelEM64TFCompiler\n",
      "  Could not locate executable efort\n",
      "  Could not locate executable efc\n",
      "  customize PGroupFlangCompiler\n",
      "  Could not locate executable flang\n",
      "  don't know how to compile Fortran code on platform 'nt'\n",
      "    NOT AVAILABLE\n",
      "  \n",
      "  atlas_3_10_blas_threads_info:\n",
      "  Setting PTATLAS=ATLAS\n",
      "  No module named 'numpy.distutils._msvccompiler' in numpy.distutils; trying from distutils\n",
      "  customize MSVCCompiler\n",
      "    libraries tatlas not found in ['C:\\\\Users\\\\Playdata\\\\anaconda3\\\\envs\\\\ml\\\\lib', 'C:\\\\', 'C:\\\\Users\\\\Playdata\\\\anaconda3\\\\envs\\\\ml\\\\libs', 'C:\\\\Users\\\\Playdata\\\\anaconda3\\\\Library\\\\lib']\n",
      "    NOT AVAILABLE\n",
      "  \n",
      "  atlas_3_10_blas_info:\n",
      "  No module named 'numpy.distutils._msvccompiler' in numpy.distutils; trying from distutils\n",
      "  customize MSVCCompiler\n",
      "    libraries satlas not found in ['C:\\\\Users\\\\Playdata\\\\anaconda3\\\\envs\\\\ml\\\\lib', 'C:\\\\', 'C:\\\\Users\\\\Playdata\\\\anaconda3\\\\envs\\\\ml\\\\libs', 'C:\\\\Users\\\\Playdata\\\\anaconda3\\\\Library\\\\lib']\n",
      "    NOT AVAILABLE\n",
      "  \n",
      "  atlas_blas_threads_info:\n",
      "  Setting PTATLAS=ATLAS\n",
      "  No module named 'numpy.distutils._msvccompiler' in numpy.distutils; trying from distutils\n",
      "  customize MSVCCompiler\n",
      "    libraries ptf77blas,ptcblas,atlas not found in ['C:\\\\Users\\\\Playdata\\\\anaconda3\\\\envs\\\\ml\\\\lib', 'C:\\\\', 'C:\\\\Users\\\\Playdata\\\\anaconda3\\\\envs\\\\ml\\\\libs', 'C:\\\\Users\\\\Playdata\\\\anaconda3\\\\Library\\\\lib']\n",
      "    NOT AVAILABLE\n",
      "  \n",
      "  atlas_blas_info:\n",
      "  No module named 'numpy.distutils._msvccompiler' in numpy.distutils; trying from distutils\n",
      "  customize MSVCCompiler\n",
      "    libraries f77blas,cblas,atlas not found in ['C:\\\\Users\\\\Playdata\\\\anaconda3\\\\envs\\\\ml\\\\lib', 'C:\\\\', 'C:\\\\Users\\\\Playdata\\\\anaconda3\\\\envs\\\\ml\\\\libs', 'C:\\\\Users\\\\Playdata\\\\anaconda3\\\\Library\\\\lib']\n",
      "    NOT AVAILABLE\n",
      "  \n",
      "  accelerate_info:\n",
      "    NOT AVAILABLE\n",
      "  \n",
      "  C:\\Users\\Playdata\\AppData\\Local\\Temp\\pip-install-zv7gid77\\numpy_817cf3e062f54474815754cc60f69b39\\numpy\\distutils\\system_info.py:639: UserWarning:\n",
      "      Atlas (http://math-atlas.sourceforge.net/) libraries not found.\n",
      "      Directories to search for the libraries can be specified in the\n",
      "      numpy/distutils/site.cfg file (section [atlas]) or by setting\n",
      "      the ATLAS environment variable.\n",
      "    self.calc_info()\n",
      "  blas_info:\n",
      "  No module named 'numpy.distutils._msvccompiler' in numpy.distutils; trying from distutils\n",
      "  customize MSVCCompiler\n",
      "    libraries blas not found in ['C:\\\\Users\\\\Playdata\\\\anaconda3\\\\envs\\\\ml\\\\lib', 'C:\\\\', 'C:\\\\Users\\\\Playdata\\\\anaconda3\\\\envs\\\\ml\\\\libs', 'C:\\\\Users\\\\Playdata\\\\anaconda3\\\\Library\\\\lib']\n",
      "    NOT AVAILABLE\n",
      "  \n",
      "  C:\\Users\\Playdata\\AppData\\Local\\Temp\\pip-install-zv7gid77\\numpy_817cf3e062f54474815754cc60f69b39\\numpy\\distutils\\system_info.py:639: UserWarning:\n",
      "      Blas (http://www.netlib.org/blas/) libraries not found.\n",
      "      Directories to search for the libraries can be specified in the\n",
      "      numpy/distutils/site.cfg file (section [blas]) or by setting\n",
      "      the BLAS environment variable.\n",
      "    self.calc_info()\n",
      "  blas_src_info:\n",
      "    NOT AVAILABLE\n",
      "  \n",
      "  C:\\Users\\Playdata\\AppData\\Local\\Temp\\pip-install-zv7gid77\\numpy_817cf3e062f54474815754cc60f69b39\\numpy\\distutils\\system_info.py:639: UserWarning:\n",
      "      Blas (http://www.netlib.org/blas/) sources not found.\n",
      "      Directories to search for the sources can be specified in the\n",
      "      numpy/distutils/site.cfg file (section [blas_src]) or by setting\n",
      "      the BLAS_SRC environment variable.\n",
      "    self.calc_info()\n",
      "    NOT AVAILABLE\n",
      "  \n",
      "  'svnversion'은(는) 내부 또는 외부 명령, 실행할 수 있는 프로그램, 또는\n",
      "  배치 파일이 아닙니다.\n",
      "  non-existing path in 'numpy\\\\distutils': 'site.cfg'\n",
      "  lapack_opt_info:\n",
      "  lapack_mkl_info:\n",
      "  No module named 'numpy.distutils._msvccompiler' in numpy.distutils; trying from distutils\n",
      "  customize MSVCCompiler\n",
      "    libraries mkl_rt not found in ['C:\\\\Users\\\\Playdata\\\\anaconda3\\\\envs\\\\ml\\\\lib', 'C:\\\\', 'C:\\\\Users\\\\Playdata\\\\anaconda3\\\\envs\\\\ml\\\\libs', 'C:\\\\Users\\\\Playdata\\\\anaconda3\\\\Library\\\\lib']\n",
      "    NOT AVAILABLE\n",
      "  \n",
      "  openblas_lapack_info:\n",
      "  No module named 'numpy.distutils._msvccompiler' in numpy.distutils; trying from distutils\n",
      "  customize MSVCCompiler\n",
      "  No module named 'numpy.distutils._msvccompiler' in numpy.distutils; trying from distutils\n",
      "  customize MSVCCompiler\n",
      "    libraries openblas not found in ['C:\\\\Users\\\\Playdata\\\\anaconda3\\\\envs\\\\ml\\\\lib', 'C:\\\\', 'C:\\\\Users\\\\Playdata\\\\anaconda3\\\\envs\\\\ml\\\\libs', 'C:\\\\Users\\\\Playdata\\\\anaconda3\\\\Library\\\\lib']\n",
      "    NOT AVAILABLE\n",
      "  \n",
      "  openblas_clapack_info:\n",
      "  No module named 'numpy.distutils._msvccompiler' in numpy.distutils; trying from distutils\n",
      "  customize MSVCCompiler\n",
      "  No module named 'numpy.distutils._msvccompiler' in numpy.distutils; trying from distutils\n",
      "  customize MSVCCompiler\n",
      "    libraries openblas,lapack not found in ['C:\\\\Users\\\\Playdata\\\\anaconda3\\\\envs\\\\ml\\\\lib', 'C:\\\\', 'C:\\\\Users\\\\Playdata\\\\anaconda3\\\\envs\\\\ml\\\\libs', 'C:\\\\Users\\\\Playdata\\\\anaconda3\\\\Library\\\\lib']\n",
      "    NOT AVAILABLE\n",
      "  \n",
      "  atlas_3_10_threads_info:\n",
      "  Setting PTATLAS=ATLAS\n",
      "  No module named 'numpy.distutils._msvccompiler' in numpy.distutils; trying from distutils\n",
      "  customize MSVCCompiler\n",
      "    libraries lapack_atlas not found in C:\\Users\\Playdata\\anaconda3\\envs\\ml\\lib\n",
      "  No module named 'numpy.distutils._msvccompiler' in numpy.distutils; trying from distutils\n",
      "  customize MSVCCompiler\n",
      "    libraries tatlas,tatlas not found in C:\\Users\\Playdata\\anaconda3\\envs\\ml\\lib\n",
      "  No module named 'numpy.distutils._msvccompiler' in numpy.distutils; trying from distutils\n",
      "  customize MSVCCompiler\n",
      "    libraries lapack_atlas not found in C:\\\n",
      "  No module named 'numpy.distutils._msvccompiler' in numpy.distutils; trying from distutils\n",
      "  customize MSVCCompiler\n",
      "    libraries tatlas,tatlas not found in C:\\\n",
      "  No module named 'numpy.distutils._msvccompiler' in numpy.distutils; trying from distutils\n",
      "  customize MSVCCompiler\n",
      "    libraries lapack_atlas not found in C:\\Users\\Playdata\\anaconda3\\envs\\ml\\libs\n",
      "  No module named 'numpy.distutils._msvccompiler' in numpy.distutils; trying from distutils\n",
      "  customize MSVCCompiler\n",
      "    libraries tatlas,tatlas not found in C:\\Users\\Playdata\\anaconda3\\envs\\ml\\libs\n",
      "  No module named 'numpy.distutils._msvccompiler' in numpy.distutils; trying from distutils\n",
      "  customize MSVCCompiler\n",
      "    libraries lapack_atlas not found in C:\\Users\\Playdata\\anaconda3\\Library\\lib\n",
      "  No module named 'numpy.distutils._msvccompiler' in numpy.distutils; trying from distutils\n",
      "  customize MSVCCompiler\n",
      "    libraries tatlas,tatlas not found in C:\\Users\\Playdata\\anaconda3\\Library\\lib\n",
      "  <class 'numpy.distutils.system_info.atlas_3_10_threads_info'>\n",
      "    NOT AVAILABLE\n",
      "  \n",
      "  atlas_3_10_info:\n",
      "  No module named 'numpy.distutils._msvccompiler' in numpy.distutils; trying from distutils\n",
      "  customize MSVCCompiler\n",
      "    libraries lapack_atlas not found in C:\\Users\\Playdata\\anaconda3\\envs\\ml\\lib\n",
      "  No module named 'numpy.distutils._msvccompiler' in numpy.distutils; trying from distutils\n",
      "  customize MSVCCompiler\n",
      "    libraries satlas,satlas not found in C:\\Users\\Playdata\\anaconda3\\envs\\ml\\lib\n",
      "  No module named 'numpy.distutils._msvccompiler' in numpy.distutils; trying from distutils\n",
      "  customize MSVCCompiler\n",
      "    libraries lapack_atlas not found in C:\\\n",
      "  No module named 'numpy.distutils._msvccompiler' in numpy.distutils; trying from distutils\n",
      "  customize MSVCCompiler\n",
      "    libraries satlas,satlas not found in C:\\\n",
      "  No module named 'numpy.distutils._msvccompiler' in numpy.distutils; trying from distutils\n",
      "  customize MSVCCompiler\n",
      "    libraries lapack_atlas not found in C:\\Users\\Playdata\\anaconda3\\envs\\ml\\libs\n",
      "  No module named 'numpy.distutils._msvccompiler' in numpy.distutils; trying from distutils\n",
      "  customize MSVCCompiler\n",
      "    libraries satlas,satlas not found in C:\\Users\\Playdata\\anaconda3\\envs\\ml\\libs\n",
      "  No module named 'numpy.distutils._msvccompiler' in numpy.distutils; trying from distutils\n",
      "  customize MSVCCompiler\n",
      "    libraries lapack_atlas not found in C:\\Users\\Playdata\\anaconda3\\Library\\lib\n",
      "  No module named 'numpy.distutils._msvccompiler' in numpy.distutils; trying from distutils\n",
      "  customize MSVCCompiler\n",
      "    libraries satlas,satlas not found in C:\\Users\\Playdata\\anaconda3\\Library\\lib\n",
      "  <class 'numpy.distutils.system_info.atlas_3_10_info'>\n",
      "    NOT AVAILABLE\n",
      "  \n",
      "  atlas_threads_info:\n",
      "  Setting PTATLAS=ATLAS\n",
      "  No module named 'numpy.distutils._msvccompiler' in numpy.distutils; trying from distutils\n",
      "  customize MSVCCompiler\n",
      "    libraries lapack_atlas not found in C:\\Users\\Playdata\\anaconda3\\envs\\ml\\lib\n",
      "  No module named 'numpy.distutils._msvccompiler' in numpy.distutils; trying from distutils\n",
      "  customize MSVCCompiler\n",
      "    libraries ptf77blas,ptcblas,atlas not found in C:\\Users\\Playdata\\anaconda3\\envs\\ml\\lib\n",
      "  No module named 'numpy.distutils._msvccompiler' in numpy.distutils; trying from distutils\n",
      "  customize MSVCCompiler\n",
      "    libraries lapack_atlas not found in C:\\\n",
      "  No module named 'numpy.distutils._msvccompiler' in numpy.distutils; trying from distutils\n",
      "  customize MSVCCompiler\n",
      "    libraries ptf77blas,ptcblas,atlas not found in C:\\\n",
      "  No module named 'numpy.distutils._msvccompiler' in numpy.distutils; trying from distutils\n",
      "  customize MSVCCompiler\n",
      "    libraries lapack_atlas not found in C:\\Users\\Playdata\\anaconda3\\envs\\ml\\libs\n",
      "  No module named 'numpy.distutils._msvccompiler' in numpy.distutils; trying from distutils\n",
      "  customize MSVCCompiler\n",
      "    libraries ptf77blas,ptcblas,atlas not found in C:\\Users\\Playdata\\anaconda3\\envs\\ml\\libs\n",
      "  No module named 'numpy.distutils._msvccompiler' in numpy.distutils; trying from distutils\n",
      "  customize MSVCCompiler\n",
      "    libraries lapack_atlas not found in C:\\Users\\Playdata\\anaconda3\\Library\\lib\n",
      "  No module named 'numpy.distutils._msvccompiler' in numpy.distutils; trying from distutils\n",
      "  customize MSVCCompiler\n",
      "    libraries ptf77blas,ptcblas,atlas not found in C:\\Users\\Playdata\\anaconda3\\Library\\lib\n",
      "  <class 'numpy.distutils.system_info.atlas_threads_info'>\n",
      "    NOT AVAILABLE\n",
      "  \n",
      "  atlas_info:\n",
      "  No module named 'numpy.distutils._msvccompiler' in numpy.distutils; trying from distutils\n",
      "  customize MSVCCompiler\n",
      "    libraries lapack_atlas not found in C:\\Users\\Playdata\\anaconda3\\envs\\ml\\lib\n",
      "  No module named 'numpy.distutils._msvccompiler' in numpy.distutils; trying from distutils\n",
      "  customize MSVCCompiler\n",
      "    libraries f77blas,cblas,atlas not found in C:\\Users\\Playdata\\anaconda3\\envs\\ml\\lib\n",
      "  No module named 'numpy.distutils._msvccompiler' in numpy.distutils; trying from distutils\n",
      "  customize MSVCCompiler\n",
      "    libraries lapack_atlas not found in C:\\\n",
      "  No module named 'numpy.distutils._msvccompiler' in numpy.distutils; trying from distutils\n",
      "  customize MSVCCompiler\n",
      "    libraries f77blas,cblas,atlas not found in C:\\\n",
      "  No module named 'numpy.distutils._msvccompiler' in numpy.distutils; trying from distutils\n",
      "  customize MSVCCompiler\n",
      "    libraries lapack_atlas not found in C:\\Users\\Playdata\\anaconda3\\envs\\ml\\libs\n",
      "  No module named 'numpy.distutils._msvccompiler' in numpy.distutils; trying from distutils\n",
      "  customize MSVCCompiler\n",
      "    libraries f77blas,cblas,atlas not found in C:\\Users\\Playdata\\anaconda3\\envs\\ml\\libs\n",
      "  No module named 'numpy.distutils._msvccompiler' in numpy.distutils; trying from distutils\n",
      "  customize MSVCCompiler\n",
      "    libraries lapack_atlas not found in C:\\Users\\Playdata\\anaconda3\\Library\\lib\n",
      "  No module named 'numpy.distutils._msvccompiler' in numpy.distutils; trying from distutils\n",
      "  customize MSVCCompiler\n",
      "    libraries f77blas,cblas,atlas not found in C:\\Users\\Playdata\\anaconda3\\Library\\lib\n",
      "  <class 'numpy.distutils.system_info.atlas_info'>\n",
      "    NOT AVAILABLE\n",
      "  \n",
      "  lapack_info:\n",
      "  No module named 'numpy.distutils._msvccompiler' in numpy.distutils; trying from distutils\n",
      "  customize MSVCCompiler\n",
      "    libraries lapack not found in ['C:\\\\Users\\\\Playdata\\\\anaconda3\\\\envs\\\\ml\\\\lib', 'C:\\\\', 'C:\\\\Users\\\\Playdata\\\\anaconda3\\\\envs\\\\ml\\\\libs', 'C:\\\\Users\\\\Playdata\\\\anaconda3\\\\Library\\\\lib']\n",
      "    NOT AVAILABLE\n",
      "  \n",
      "  C:\\Users\\Playdata\\AppData\\Local\\Temp\\pip-install-zv7gid77\\numpy_817cf3e062f54474815754cc60f69b39\\numpy\\distutils\\system_info.py:639: UserWarning:\n",
      "      Lapack (http://www.netlib.org/lapack/) libraries not found.\n",
      "      Directories to search for the libraries can be specified in the\n",
      "      numpy/distutils/site.cfg file (section [lapack]) or by setting\n",
      "      the LAPACK environment variable.\n",
      "    self.calc_info()\n",
      "  lapack_src_info:\n",
      "    NOT AVAILABLE\n",
      "  \n",
      "  C:\\Users\\Playdata\\AppData\\Local\\Temp\\pip-install-zv7gid77\\numpy_817cf3e062f54474815754cc60f69b39\\numpy\\distutils\\system_info.py:639: UserWarning:\n",
      "      Lapack (http://www.netlib.org/lapack/) sources not found.\n",
      "      Directories to search for the sources can be specified in the\n",
      "      numpy/distutils/site.cfg file (section [lapack_src]) or by setting\n",
      "      the LAPACK_SRC environment variable.\n",
      "    self.calc_info()\n",
      "    NOT AVAILABLE\n",
      "  \n",
      "  C:\\Users\\Playdata\\anaconda3\\envs\\ml\\lib\\site-packages\\setuptools\\_distutils\\dist.py:265: UserWarning: Unknown distribution option: 'define_macros'\n",
      "    warnings.warn(msg)\n",
      "  running install\n",
      "  C:\\Users\\Playdata\\anaconda3\\envs\\ml\\lib\\site-packages\\setuptools\\command\\install.py:34: SetuptoolsDeprecationWarning: setup.py install is deprecated. Use build and pip and other standards-based tools.\n",
      "    warnings.warn(\n",
      "  running build\n",
      "  running config_cc\n",
      "  unifing config_cc, config, build_clib, build_ext, build commands --compiler options\n",
      "  running config_fc\n",
      "  unifing config_fc, config, build_clib, build_ext, build commands --fcompiler options\n",
      "  running build_src\n",
      "  build_src\n",
      "  building py_modules sources\n",
      "  building library \"npymath\" sources\n",
      "  No module named 'numpy.distutils._msvccompiler' in numpy.distutils; trying from distutils\n",
      "  error: Microsoft Visual C++ 14.0 or greater is required. Get it with \"Microsoft C++ Build Tools\": https://visualstudio.microsoft.com/visual-cpp-build-tools/\n",
      "  [end of output]\n",
      "  \n",
      "  note: This error originates from a subprocess, and is likely not a problem with pip.\n",
      "error: legacy-install-failure\n",
      "\n",
      "Encountered error while trying to install package.\n",
      "\n",
      "numpy\n",
      "\n",
      "note: This is an issue with the package mentioned above, not pip.\n",
      "hint: See above for output from the failure.\n"
     ]
    }
   ],
   "source": [
    "!pip install mxnet"
   ]
  },
  {
   "cell_type": "code",
   "execution_count": 4,
   "id": "fd1c93da",
   "metadata": {},
   "outputs": [
    {
     "name": "stdout",
     "output_type": "stream",
     "text": [
      "Requirement already satisfied: requests in c:\\users\\playdata\\anaconda3\\envs\\ml\\lib\\site-packages (2.18.4)\n",
      "Collecting requests\n",
      "  Downloading requests-2.31.0-py3-none-any.whl (62 kB)\n",
      "                                              0.0/62.6 kB ? eta -:--:--\n",
      "     ---------------------------------------- 62.6/62.6 kB 3.3 MB/s eta 0:00:00\n",
      "Requirement already satisfied: charset-normalizer<4,>=2 in c:\\users\\playdata\\anaconda3\\envs\\ml\\lib\\site-packages (from requests) (3.1.0)\n",
      "Requirement already satisfied: idna<4,>=2.5 in c:\\users\\playdata\\anaconda3\\envs\\ml\\lib\\site-packages (from requests) (2.6)\n",
      "Requirement already satisfied: urllib3<3,>=1.21.1 in c:\\users\\playdata\\anaconda3\\envs\\ml\\lib\\site-packages (from requests) (1.22)\n",
      "Requirement already satisfied: certifi>=2017.4.17 in c:\\users\\playdata\\anaconda3\\envs\\ml\\lib\\site-packages (from requests) (2022.12.7)\n",
      "Installing collected packages: requests\n",
      "  Attempting uninstall: requests\n",
      "    Found existing installation: requests 2.18.4\n",
      "    Uninstalling requests-2.18.4:\n",
      "      Successfully uninstalled requests-2.18.4\n",
      "Successfully installed requests-2.31.0\n"
     ]
    },
    {
     "name": "stderr",
     "output_type": "stream",
     "text": [
      "ERROR: pip's dependency resolver does not currently take into account all the packages that are installed. This behaviour is the source of the following dependency conflicts.\n",
      "torchdata 0.6.1 requires urllib3>=1.25, but you have urllib3 1.22 which is incompatible.\n"
     ]
    }
   ],
   "source": [
    "!pip install --upgrade requests"
   ]
  },
  {
   "cell_type": "code",
   "execution_count": 29,
   "id": "uw8qHvgFHuIj",
   "metadata": {
    "colab": {
     "base_uri": "https://localhost:8080/"
    },
    "executionInfo": {
     "elapsed": 8606,
     "status": "ok",
     "timestamp": 1688528183879,
     "user": {
      "displayName": "한지애",
      "userId": "13589528693671396926"
     },
     "user_tz": -540
    },
    "id": "uw8qHvgFHuIj",
    "outputId": "a348b9e7-0ab1-40de-c951-0716bf209d33",
    "scrolled": true
   },
   "outputs": [
    {
     "name": "stderr",
     "output_type": "stream",
     "text": [
      "  error: subprocess-exited-with-error\n",
      "  \n",
      "  python setup.py bdist_wheel did not run successfully.\n",
      "  exit code: 1\n",
      "  \n",
      "  [124 lines of output]\n",
      "  running bdist_wheel\n",
      "  running build\n",
      "  running build_py\n",
      "  creating build\n",
      "  creating build\\lib.win-amd64-cpython-310\n",
      "  creating build\\lib.win-amd64-cpython-310\\gluonnlp\n",
      "  copying src\\gluonnlp\\base.py -> build\\lib.win-amd64-cpython-310\\gluonnlp\n",
      "  copying src\\gluonnlp\\_constants.py -> build\\lib.win-amd64-cpython-310\\gluonnlp\n",
      "  copying src\\gluonnlp\\__init__.py -> build\\lib.win-amd64-cpython-310\\gluonnlp\n",
      "  creating build\\lib.win-amd64-cpython-310\\gluonnlp\\calibration\n",
      "  copying src\\gluonnlp\\calibration\\collector.py -> build\\lib.win-amd64-cpython-310\\gluonnlp\\calibration\n",
      "  copying src\\gluonnlp\\calibration\\__init__.py -> build\\lib.win-amd64-cpython-310\\gluonnlp\\calibration\n",
      "  creating build\\lib.win-amd64-cpython-310\\gluonnlp\\data\n",
      "  copying src\\gluonnlp\\data\\baidu_ernie_data.py -> build\\lib.win-amd64-cpython-310\\gluonnlp\\data\n",
      "  copying src\\gluonnlp\\data\\candidate_sampler.py -> build\\lib.win-amd64-cpython-310\\gluonnlp\\data\n",
      "  copying src\\gluonnlp\\data\\classification.py -> build\\lib.win-amd64-cpython-310\\gluonnlp\\data\n",
      "  copying src\\gluonnlp\\data\\conll.py -> build\\lib.win-amd64-cpython-310\\gluonnlp\\data\n",
      "  copying src\\gluonnlp\\data\\dataloader.py -> build\\lib.win-amd64-cpython-310\\gluonnlp\\data\n",
      "  copying src\\gluonnlp\\data\\dataset.py -> build\\lib.win-amd64-cpython-310\\gluonnlp\\data\n",
      "  copying src\\gluonnlp\\data\\datasetloader.py -> build\\lib.win-amd64-cpython-310\\gluonnlp\\data\n",
      "  copying src\\gluonnlp\\data\\glue.py -> build\\lib.win-amd64-cpython-310\\gluonnlp\\data\n",
      "  copying src\\gluonnlp\\data\\intent_slot.py -> build\\lib.win-amd64-cpython-310\\gluonnlp\\data\n",
      "  copying src\\gluonnlp\\data\\question_answering.py -> build\\lib.win-amd64-cpython-310\\gluonnlp\\data\n",
      "  copying src\\gluonnlp\\data\\registry.py -> build\\lib.win-amd64-cpython-310\\gluonnlp\\data\n",
      "  copying src\\gluonnlp\\data\\sampler.py -> build\\lib.win-amd64-cpython-310\\gluonnlp\\data\n",
      "  copying src\\gluonnlp\\data\\sentiment.py -> build\\lib.win-amd64-cpython-310\\gluonnlp\\data\n",
      "  copying src\\gluonnlp\\data\\stream.py -> build\\lib.win-amd64-cpython-310\\gluonnlp\\data\n",
      "  copying src\\gluonnlp\\data\\super_glue.py -> build\\lib.win-amd64-cpython-310\\gluonnlp\\data\n",
      "  copying src\\gluonnlp\\data\\transforms.py -> build\\lib.win-amd64-cpython-310\\gluonnlp\\data\n",
      "  copying src\\gluonnlp\\data\\translation.py -> build\\lib.win-amd64-cpython-310\\gluonnlp\\data\n",
      "  copying src\\gluonnlp\\data\\utils.py -> build\\lib.win-amd64-cpython-310\\gluonnlp\\data\n",
      "  copying src\\gluonnlp\\data\\word_embedding_evaluation.py -> build\\lib.win-amd64-cpython-310\\gluonnlp\\data\n",
      "  copying src\\gluonnlp\\data\\__init__.py -> build\\lib.win-amd64-cpython-310\\gluonnlp\\data\n",
      "  creating build\\lib.win-amd64-cpython-310\\gluonnlp\\embedding\n",
      "  copying src\\gluonnlp\\embedding\\evaluation.py -> build\\lib.win-amd64-cpython-310\\gluonnlp\\embedding\n",
      "  copying src\\gluonnlp\\embedding\\token_embedding.py -> build\\lib.win-amd64-cpython-310\\gluonnlp\\embedding\n",
      "  copying src\\gluonnlp\\embedding\\__init__.py -> build\\lib.win-amd64-cpython-310\\gluonnlp\\embedding\n",
      "  creating build\\lib.win-amd64-cpython-310\\gluonnlp\\initializer\n",
      "  copying src\\gluonnlp\\initializer\\initializer.py -> build\\lib.win-amd64-cpython-310\\gluonnlp\\initializer\n",
      "  copying src\\gluonnlp\\initializer\\__init__.py -> build\\lib.win-amd64-cpython-310\\gluonnlp\\initializer\n",
      "  creating build\\lib.win-amd64-cpython-310\\gluonnlp\\loss\n",
      "  copying src\\gluonnlp\\loss\\activation_regularizer.py -> build\\lib.win-amd64-cpython-310\\gluonnlp\\loss\n",
      "  copying src\\gluonnlp\\loss\\label_smoothing.py -> build\\lib.win-amd64-cpython-310\\gluonnlp\\loss\n",
      "  copying src\\gluonnlp\\loss\\loss.py -> build\\lib.win-amd64-cpython-310\\gluonnlp\\loss\n",
      "  copying src\\gluonnlp\\loss\\__init__.py -> build\\lib.win-amd64-cpython-310\\gluonnlp\\loss\n",
      "  creating build\\lib.win-amd64-cpython-310\\gluonnlp\\metric\n",
      "  copying src\\gluonnlp\\metric\\length_normalized_loss.py -> build\\lib.win-amd64-cpython-310\\gluonnlp\\metric\n",
      "  copying src\\gluonnlp\\metric\\masked_accuracy.py -> build\\lib.win-amd64-cpython-310\\gluonnlp\\metric\n",
      "  copying src\\gluonnlp\\metric\\__init__.py -> build\\lib.win-amd64-cpython-310\\gluonnlp\\metric\n",
      "  creating build\\lib.win-amd64-cpython-310\\gluonnlp\\model\n",
      "  copying src\\gluonnlp\\model\\attention_cell.py -> build\\lib.win-amd64-cpython-310\\gluonnlp\\model\n",
      "  copying src\\gluonnlp\\model\\bert.py -> build\\lib.win-amd64-cpython-310\\gluonnlp\\model\n",
      "  copying src\\gluonnlp\\model\\bilm_encoder.py -> build\\lib.win-amd64-cpython-310\\gluonnlp\\model\n",
      "  copying src\\gluonnlp\\model\\block.py -> build\\lib.win-amd64-cpython-310\\gluonnlp\\model\n",
      "  copying src\\gluonnlp\\model\\convolutional_encoder.py -> build\\lib.win-amd64-cpython-310\\gluonnlp\\model\n",
      "  copying src\\gluonnlp\\model\\elmo.py -> build\\lib.win-amd64-cpython-310\\gluonnlp\\model\n",
      "  copying src\\gluonnlp\\model\\highway.py -> build\\lib.win-amd64-cpython-310\\gluonnlp\\model\n",
      "  copying src\\gluonnlp\\model\\info.py -> build\\lib.win-amd64-cpython-310\\gluonnlp\\model\n",
      "  copying src\\gluonnlp\\model\\language_model.py -> build\\lib.win-amd64-cpython-310\\gluonnlp\\model\n",
      "  copying src\\gluonnlp\\model\\lstmpcellwithclip.py -> build\\lib.win-amd64-cpython-310\\gluonnlp\\model\n",
      "  copying src\\gluonnlp\\model\\parameter.py -> build\\lib.win-amd64-cpython-310\\gluonnlp\\model\n",
      "  copying src\\gluonnlp\\model\\sampled_block.py -> build\\lib.win-amd64-cpython-310\\gluonnlp\\model\n",
      "  copying src\\gluonnlp\\model\\seq2seq_encoder_decoder.py -> build\\lib.win-amd64-cpython-310\\gluonnlp\\model\n",
      "  copying src\\gluonnlp\\model\\sequence_sampler.py -> build\\lib.win-amd64-cpython-310\\gluonnlp\\model\n",
      "  copying src\\gluonnlp\\model\\transformer.py -> build\\lib.win-amd64-cpython-310\\gluonnlp\\model\n",
      "  copying src\\gluonnlp\\model\\translation.py -> build\\lib.win-amd64-cpython-310\\gluonnlp\\model\n",
      "  copying src\\gluonnlp\\model\\utils.py -> build\\lib.win-amd64-cpython-310\\gluonnlp\\model\n",
      "  copying src\\gluonnlp\\model\\__init__.py -> build\\lib.win-amd64-cpython-310\\gluonnlp\\model\n",
      "  creating build\\lib.win-amd64-cpython-310\\gluonnlp\\optimizer\n",
      "  copying src\\gluonnlp\\optimizer\\bert_adam.py -> build\\lib.win-amd64-cpython-310\\gluonnlp\\optimizer\n",
      "  copying src\\gluonnlp\\optimizer\\__init__.py -> build\\lib.win-amd64-cpython-310\\gluonnlp\\optimizer\n",
      "  creating build\\lib.win-amd64-cpython-310\\gluonnlp\\utils\n",
      "  copying src\\gluonnlp\\utils\\files.py -> build\\lib.win-amd64-cpython-310\\gluonnlp\\utils\n",
      "  copying src\\gluonnlp\\utils\\parallel.py -> build\\lib.win-amd64-cpython-310\\gluonnlp\\utils\n",
      "  copying src\\gluonnlp\\utils\\parameter.py -> build\\lib.win-amd64-cpython-310\\gluonnlp\\utils\n",
      "  copying src\\gluonnlp\\utils\\seed.py -> build\\lib.win-amd64-cpython-310\\gluonnlp\\utils\n",
      "  copying src\\gluonnlp\\utils\\version.py -> build\\lib.win-amd64-cpython-310\\gluonnlp\\utils\n",
      "  copying src\\gluonnlp\\utils\\__init__.py -> build\\lib.win-amd64-cpython-310\\gluonnlp\\utils\n",
      "  creating build\\lib.win-amd64-cpython-310\\gluonnlp\\vocab\n",
      "  copying src\\gluonnlp\\vocab\\bert.py -> build\\lib.win-amd64-cpython-310\\gluonnlp\\vocab\n",
      "  copying src\\gluonnlp\\vocab\\elmo.py -> build\\lib.win-amd64-cpython-310\\gluonnlp\\vocab\n",
      "  copying src\\gluonnlp\\vocab\\subwords.py -> build\\lib.win-amd64-cpython-310\\gluonnlp\\vocab\n",
      "  copying src\\gluonnlp\\vocab\\vocab.py -> build\\lib.win-amd64-cpython-310\\gluonnlp\\vocab\n",
      "  copying src\\gluonnlp\\vocab\\__init__.py -> build\\lib.win-amd64-cpython-310\\gluonnlp\\vocab\n",
      "  creating build\\lib.win-amd64-cpython-310\\gluonnlp\\data\\batchify\n",
      "  copying src\\gluonnlp\\data\\batchify\\batchify.py -> build\\lib.win-amd64-cpython-310\\gluonnlp\\data\\batchify\n",
      "  copying src\\gluonnlp\\data\\batchify\\embedding.py -> build\\lib.win-amd64-cpython-310\\gluonnlp\\data\\batchify\n",
      "  copying src\\gluonnlp\\data\\batchify\\language_model.py -> build\\lib.win-amd64-cpython-310\\gluonnlp\\data\\batchify\n",
      "  copying src\\gluonnlp\\data\\batchify\\__init__.py -> build\\lib.win-amd64-cpython-310\\gluonnlp\\data\\batchify\n",
      "  creating build\\lib.win-amd64-cpython-310\\gluonnlp\\data\\bert\n",
      "  copying src\\gluonnlp\\data\\bert\\glue.py -> build\\lib.win-amd64-cpython-310\\gluonnlp\\data\\bert\n",
      "  copying src\\gluonnlp\\data\\bert\\squad.py -> build\\lib.win-amd64-cpython-310\\gluonnlp\\data\\bert\n",
      "  copying src\\gluonnlp\\data\\bert\\__init__.py -> build\\lib.win-amd64-cpython-310\\gluonnlp\\data\\bert\n",
      "  creating build\\lib.win-amd64-cpython-310\\gluonnlp\\data\\corpora\n",
      "  copying src\\gluonnlp\\data\\corpora\\google_billion_word.py -> build\\lib.win-amd64-cpython-310\\gluonnlp\\data\\corpora\n",
      "  copying src\\gluonnlp\\data\\corpora\\large_text_compression_benchmark.py -> build\\lib.win-amd64-cpython-310\\gluonnlp\\data\\corpora\n",
      "  copying src\\gluonnlp\\data\\corpora\\wikitext.py -> build\\lib.win-amd64-cpython-310\\gluonnlp\\data\\corpora\n",
      "  copying src\\gluonnlp\\data\\corpora\\__init__.py -> build\\lib.win-amd64-cpython-310\\gluonnlp\\data\\corpora\n",
      "  creating build\\lib.win-amd64-cpython-310\\gluonnlp\\data\\xlnet\n",
      "  copying src\\gluonnlp\\data\\xlnet\\squad.py -> build\\lib.win-amd64-cpython-310\\gluonnlp\\data\\xlnet\n",
      "  copying src\\gluonnlp\\data\\xlnet\\__init__.py -> build\\lib.win-amd64-cpython-310\\gluonnlp\\data\\xlnet\n",
      "  creating build\\lib.win-amd64-cpython-310\\gluonnlp\\model\\train\n",
      "  copying src\\gluonnlp\\model\\train\\cache.py -> build\\lib.win-amd64-cpython-310\\gluonnlp\\model\\train\n",
      "  copying src\\gluonnlp\\model\\train\\embedding.py -> build\\lib.win-amd64-cpython-310\\gluonnlp\\model\\train\n",
      "  copying src\\gluonnlp\\model\\train\\language_model.py -> build\\lib.win-amd64-cpython-310\\gluonnlp\\model\\train\n",
      "  copying src\\gluonnlp\\model\\train\\__init__.py -> build\\lib.win-amd64-cpython-310\\gluonnlp\\model\\train\n",
      "  running egg_info\n",
      "  writing src\\gluonnlp.egg-info\\PKG-INFO\n",
      "  writing dependency_links to src\\gluonnlp.egg-info\\dependency_links.txt\n",
      "  writing requirements to src\\gluonnlp.egg-info\\requires.txt\n",
      "  writing top-level names to src\\gluonnlp.egg-info\\top_level.txt\n",
      "  reading manifest file 'src\\gluonnlp.egg-info\\SOURCES.txt'\n",
      "  reading manifest template 'MANIFEST.in'\n",
      "  warning: no files found matching '*.py' under directory 'gluonnlp'\n",
      "  warning: no previously-included files matching '*' found under directory 'tests'\n",
      "  warning: no previously-included files matching '*' found under directory 'scripts'\n",
      "  adding license file 'LICENSE'\n",
      "  writing manifest file 'src\\gluonnlp.egg-info\\SOURCES.txt'\n",
      "  copying src\\gluonnlp\\data\\fast_bert_tokenizer.c -> build\\lib.win-amd64-cpython-310\\gluonnlp\\data\n",
      "  copying src\\gluonnlp\\data\\fast_bert_tokenizer.pyx -> build\\lib.win-amd64-cpython-310\\gluonnlp\\data\n",
      "  running build_ext\n",
      "  skipping 'src/gluonnlp/data\\fast_bert_tokenizer.c' Cython extension (up-to-date)\n",
      "  building 'gluonnlp.data.fast_bert_tokenizer' extension\n",
      "  error: Microsoft Visual C++ 14.0 or greater is required. Get it with \"Microsoft C++ Build Tools\": https://visualstudio.microsoft.com/visual-cpp-build-tools/\n",
      "  [end of output]\n",
      "  \n",
      "  note: This error originates from a subprocess, and is likely not a problem with pip.\n",
      "  ERROR: Failed building wheel for gluonnlp\n",
      "ERROR: Could not build wheels for gluonnlp, which is required to install pyproject.toml-based projects\n"
     ]
    },
    {
     "name": "stdout",
     "output_type": "stream",
     "text": [
      "Collecting gluonnlp\n",
      "  Using cached gluonnlp-0.10.0.tar.gz (344 kB)\n",
      "  Preparing metadata (setup.py): started\n",
      "  Preparing metadata (setup.py): finished with status 'done'\n",
      "Requirement already satisfied: pandas in c:\\users\\playdata\\anaconda3\\envs\\ml\\lib\\site-packages (2.0.0)\n",
      "Requirement already satisfied: tqdm in c:\\users\\playdata\\anaconda3\\envs\\ml\\lib\\site-packages (4.65.0)\n",
      "Requirement already satisfied: numpy>=1.16.0 in c:\\users\\playdata\\anaconda3\\envs\\ml\\lib\\site-packages (from gluonnlp) (1.23.5)\n",
      "Requirement already satisfied: cython in c:\\users\\playdata\\anaconda3\\envs\\ml\\lib\\site-packages (from gluonnlp) (0.29.36)\n",
      "Requirement already satisfied: packaging in c:\\users\\playdata\\anaconda3\\envs\\ml\\lib\\site-packages (from gluonnlp) (23.1)\n",
      "Requirement already satisfied: python-dateutil>=2.8.2 in c:\\users\\playdata\\anaconda3\\envs\\ml\\lib\\site-packages (from pandas) (2.8.2)\n",
      "Requirement already satisfied: pytz>=2020.1 in c:\\users\\playdata\\anaconda3\\envs\\ml\\lib\\site-packages (from pandas) (2023.3)\n",
      "Requirement already satisfied: tzdata>=2022.1 in c:\\users\\playdata\\anaconda3\\envs\\ml\\lib\\site-packages (from pandas) (2023.3)\n",
      "Requirement already satisfied: colorama in c:\\users\\playdata\\anaconda3\\envs\\ml\\lib\\site-packages (from tqdm) (0.4.6)\n",
      "Requirement already satisfied: six>=1.5 in c:\\users\\playdata\\anaconda3\\envs\\ml\\lib\\site-packages (from python-dateutil>=2.8.2->pandas) (1.16.0)\n",
      "Building wheels for collected packages: gluonnlp\n",
      "  Building wheel for gluonnlp (setup.py): started\n",
      "  Building wheel for gluonnlp (setup.py): finished with status 'error'\n",
      "  Running setup.py clean for gluonnlp\n",
      "Failed to build gluonnlp\n"
     ]
    }
   ],
   "source": [
    "!pip install gluonnlp pandas tqdm"
   ]
  },
  {
   "cell_type": "code",
   "execution_count": 10,
   "id": "EFFlUrR6H3Ap",
   "metadata": {
    "colab": {
     "base_uri": "https://localhost:8080/"
    },
    "executionInfo": {
     "elapsed": 3743,
     "status": "ok",
     "timestamp": 1688528202504,
     "user": {
      "displayName": "한지애",
      "userId": "13589528693671396926"
     },
     "user_tz": -540
    },
    "id": "EFFlUrR6H3Ap",
    "outputId": "5a563545-1b14-4238-8827-d6dca95aec3b"
   },
   "outputs": [
    {
     "name": "stdout",
     "output_type": "stream",
     "text": [
      "Requirement already satisfied: sentencepiece in c:\\users\\playdata\\anaconda3\\envs\\ml\\lib\\site-packages (0.1.99)\n"
     ]
    }
   ],
   "source": [
    "!pip install sentencepiece"
   ]
  },
  {
   "cell_type": "code",
   "execution_count": 11,
   "id": "xk2rcegZIKFV",
   "metadata": {
    "colab": {
     "base_uri": "https://localhost:8080/"
    },
    "executionInfo": {
     "elapsed": 4139,
     "status": "ok",
     "timestamp": 1688528275791,
     "user": {
      "displayName": "한지애",
      "userId": "13589528693671396926"
     },
     "user_tz": -540
    },
    "id": "xk2rcegZIKFV",
    "outputId": "fcdc7f6b-2250-4537-a1bc-70f78031ecbe"
   },
   "outputs": [
    {
     "name": "stdout",
     "output_type": "stream",
     "text": [
      "Requirement already satisfied: torch in c:\\users\\playdata\\anaconda3\\envs\\ml\\lib\\site-packages (2.0.1)\n",
      "Requirement already satisfied: typing-extensions in c:\\users\\playdata\\anaconda3\\envs\\ml\\lib\\site-packages (from torch) (4.6.2)\n",
      "Requirement already satisfied: filelock in c:\\users\\playdata\\anaconda3\\envs\\ml\\lib\\site-packages (from torch) (3.12.0)\n",
      "Requirement already satisfied: networkx in c:\\users\\playdata\\anaconda3\\envs\\ml\\lib\\site-packages (from torch) (3.1)\n",
      "Requirement already satisfied: jinja2 in c:\\users\\playdata\\anaconda3\\envs\\ml\\lib\\site-packages (from torch) (3.1.2)\n",
      "Requirement already satisfied: sympy in c:\\users\\playdata\\anaconda3\\envs\\ml\\lib\\site-packages (from torch) (1.12)\n",
      "Requirement already satisfied: MarkupSafe>=2.0 in c:\\users\\playdata\\anaconda3\\envs\\ml\\lib\\site-packages (from jinja2->torch) (2.1.2)\n",
      "Requirement already satisfied: mpmath>=0.19 in c:\\users\\playdata\\anaconda3\\envs\\ml\\lib\\site-packages (from sympy->torch) (1.3.0)\n"
     ]
    }
   ],
   "source": [
    "!pip install torch"
   ]
  },
  {
   "cell_type": "code",
   "execution_count": 12,
   "id": "BbtrofTUIPnn",
   "metadata": {
    "colab": {
     "base_uri": "https://localhost:8080/"
    },
    "executionInfo": {
     "elapsed": 3153,
     "status": "ok",
     "timestamp": 1688528302679,
     "user": {
      "displayName": "한지애",
      "userId": "13589528693671396926"
     },
     "user_tz": -540
    },
    "id": "BbtrofTUIPnn",
    "outputId": "94b7638e-cad6-45b3-9775-d8a87206e65c"
   },
   "outputs": [
    {
     "name": "stdout",
     "output_type": "stream",
     "text": [
      "Collecting git+https://****@github.com/SKTBrain/KoBERT.git@master\n",
      "  Cloning https://****@github.com/SKTBrain/KoBERT.git (to revision master) to c:\\users\\playdata\\appdata\\local\\temp\\pip-req-build-bavqhfh3\n",
      "  Resolved https://****@github.com/SKTBrain/KoBERT.git to commit 47a69af87928fc24e20f571fe10c3cc9dd9af9a3\n",
      "  Preparing metadata (setup.py): started\n",
      "  Preparing metadata (setup.py): finished with status 'done'\n",
      "Collecting boto3<=1.15.18\n",
      "  Using cached boto3-1.15.18-py2.py3-none-any.whl (129 kB)\n",
      "Collecting gluonnlp<=0.10.0,>=0.6.0\n",
      "  Using cached gluonnlp-0.10.0.tar.gz (344 kB)\n",
      "  Preparing metadata (setup.py): started\n",
      "  Preparing metadata (setup.py): finished with status 'done'\n",
      "Collecting mxnet<=1.7.0.post2,>=1.4.0\n",
      "  Using cached mxnet-1.7.0.post2-py2.py3-none-win_amd64.whl (33.1 MB)\n"
     ]
    },
    {
     "name": "stderr",
     "output_type": "stream",
     "text": [
      "  Running command git clone --filter=blob:none --quiet 'https://****@github.com/SKTBrain/KoBERT.git' 'C:\\Users\\Playdata\\AppData\\Local\\Temp\\pip-req-build-bavqhfh3'\n",
      "ERROR: Could not find a version that satisfies the requirement onnxruntime<=1.8.0,==1.8.0 (from kobert) (from versions: 1.12.0, 1.12.1, 1.13.1, 1.14.0, 1.14.1, 1.15.0, 1.15.1)\n",
      "ERROR: No matching distribution found for onnxruntime<=1.8.0,==1.8.0\n"
     ]
    }
   ],
   "source": [
    "!pip install git+https://git@github.com/SKTBrain/KoBERT.git@master"
   ]
  },
  {
   "cell_type": "code",
   "execution_count": 23,
   "id": "zJnrgvV3dhah",
   "metadata": {
    "colab": {
     "base_uri": "https://localhost:8080/"
    },
    "executionInfo": {
     "elapsed": 1204,
     "status": "ok",
     "timestamp": 1688533901437,
     "user": {
      "displayName": "한지애",
      "userId": "13589528693671396926"
     },
     "user_tz": -540
    },
    "id": "zJnrgvV3dhah",
    "outputId": "5a064a61-9241-47f7-c1fd-3f0be873a7e7"
   },
   "outputs": [
    {
     "name": "stderr",
     "output_type": "stream",
     "text": [
      "ERROR: Could not find a version that satisfies the requirement onnxruntime==1.8.0 (from versions: 1.12.0, 1.12.1, 1.13.1, 1.14.0, 1.14.1, 1.15.0, 1.15.1)\n",
      "ERROR: No matching distribution found for onnxruntime==1.8.0\n"
     ]
    }
   ],
   "source": [
    "!pip install onnxruntime==1.8.0"
   ]
  },
  {
   "cell_type": "code",
   "execution_count": 24,
   "id": "nmkhZMvAH7po",
   "metadata": {
    "colab": {
     "base_uri": "https://localhost:8080/"
    },
    "executionInfo": {
     "elapsed": 8160,
     "status": "ok",
     "timestamp": 1688528227190,
     "user": {
      "displayName": "한지애",
      "userId": "13589528693671396926"
     },
     "user_tz": -540
    },
    "id": "nmkhZMvAH7po",
    "outputId": "be68fee5-25b9-401e-a06b-e44b7a4d0210",
    "scrolled": true
   },
   "outputs": [
    {
     "name": "stdout",
     "output_type": "stream",
     "text": [
      "Collecting transformers==3.0.2\n",
      "  Using cached transformers-3.0.2-py3-none-any.whl (769 kB)\n",
      "Requirement already satisfied: numpy in c:\\users\\playdata\\anaconda3\\envs\\ml\\lib\\site-packages (from transformers==3.0.2) (1.23.5)\n",
      "Collecting tokenizers==0.8.1.rc1 (from transformers==3.0.2)\n",
      "  Using cached tokenizers-0.8.1rc1.tar.gz (97 kB)\n",
      "  Installing build dependencies: started\n",
      "  Installing build dependencies: finished with status 'done'\n",
      "  Getting requirements to build wheel: started\n",
      "  Getting requirements to build wheel: finished with status 'done'\n",
      "  Preparing metadata (pyproject.toml): started\n",
      "  Preparing metadata (pyproject.toml): finished with status 'done'\n",
      "Requirement already satisfied: packaging in c:\\users\\playdata\\anaconda3\\envs\\ml\\lib\\site-packages (from transformers==3.0.2) (23.1)\n",
      "Requirement already satisfied: filelock in c:\\users\\playdata\\anaconda3\\envs\\ml\\lib\\site-packages (from transformers==3.0.2) (3.12.0)\n",
      "Requirement already satisfied: requests in c:\\users\\playdata\\anaconda3\\envs\\ml\\lib\\site-packages (from transformers==3.0.2) (2.18.4)\n",
      "Requirement already satisfied: tqdm>=4.27 in c:\\users\\playdata\\anaconda3\\envs\\ml\\lib\\site-packages (from transformers==3.0.2) (4.65.0)\n",
      "Collecting regex!=2019.12.17 (from transformers==3.0.2)\n",
      "  Using cached regex-2023.6.3-cp310-cp310-win_amd64.whl (268 kB)\n",
      "Requirement already satisfied: sentencepiece!=0.1.92 in c:\\users\\playdata\\anaconda3\\envs\\ml\\lib\\site-packages (from transformers==3.0.2) (0.1.99)\n",
      "Collecting sacremoses (from transformers==3.0.2)\n",
      "  Using cached sacremoses-0.0.53-py3-none-any.whl\n",
      "Requirement already satisfied: colorama in c:\\users\\playdata\\anaconda3\\envs\\ml\\lib\\site-packages (from tqdm>=4.27->transformers==3.0.2) (0.4.6)\n",
      "Requirement already satisfied: certifi>=2017.4.17 in c:\\users\\playdata\\anaconda3\\envs\\ml\\lib\\site-packages (from requests->transformers==3.0.2) (2022.12.7)\n",
      "Requirement already satisfied: chardet<3.1.0,>=3.0.2 in c:\\users\\playdata\\anaconda3\\envs\\ml\\lib\\site-packages (from requests->transformers==3.0.2) (3.0.4)\n",
      "Requirement already satisfied: idna<2.7,>=2.5 in c:\\users\\playdata\\anaconda3\\envs\\ml\\lib\\site-packages (from requests->transformers==3.0.2) (2.6)\n",
      "Requirement already satisfied: urllib3<1.23,>=1.21.1 in c:\\users\\playdata\\anaconda3\\envs\\ml\\lib\\site-packages (from requests->transformers==3.0.2) (1.22)\n",
      "Requirement already satisfied: six in c:\\users\\playdata\\anaconda3\\envs\\ml\\lib\\site-packages (from sacremoses->transformers==3.0.2) (1.16.0)\n",
      "Requirement already satisfied: click in c:\\users\\playdata\\anaconda3\\envs\\ml\\lib\\site-packages (from sacremoses->transformers==3.0.2) (8.1.3)\n",
      "Requirement already satisfied: joblib in c:\\users\\playdata\\anaconda3\\envs\\ml\\lib\\site-packages (from sacremoses->transformers==3.0.2) (1.2.0)\n",
      "Building wheels for collected packages: tokenizers\n",
      "  Building wheel for tokenizers (pyproject.toml): started\n",
      "  Building wheel for tokenizers (pyproject.toml): finished with status 'error'\n",
      "Failed to build tokenizers\n"
     ]
    },
    {
     "name": "stderr",
     "output_type": "stream",
     "text": [
      "  error: subprocess-exited-with-error\n",
      "  \n",
      "  Building wheel for tokenizers (pyproject.toml) did not run successfully.\n",
      "  exit code: 1\n",
      "  \n",
      "  [48 lines of output]\n",
      "  C:\\Users\\Playdata\\AppData\\Local\\Temp\\pip-build-env-62tb_37t\\overlay\\Lib\\site-packages\\setuptools\\dist.py:509: InformationOnly: Normalizing '0.8.1.rc1' to '0.8.1rc1'\n",
      "    self.metadata.version = self._normalize_version(\n",
      "  running bdist_wheel\n",
      "  running build\n",
      "  running build_py\n",
      "  creating build\n",
      "  creating build\\lib.win-amd64-cpython-310\n",
      "  creating build\\lib.win-amd64-cpython-310\\tokenizers\n",
      "  copying tokenizers\\__init__.py -> build\\lib.win-amd64-cpython-310\\tokenizers\n",
      "  creating build\\lib.win-amd64-cpython-310\\tokenizers\\models\n",
      "  copying tokenizers\\models\\__init__.py -> build\\lib.win-amd64-cpython-310\\tokenizers\\models\n",
      "  creating build\\lib.win-amd64-cpython-310\\tokenizers\\decoders\n",
      "  copying tokenizers\\decoders\\__init__.py -> build\\lib.win-amd64-cpython-310\\tokenizers\\decoders\n",
      "  creating build\\lib.win-amd64-cpython-310\\tokenizers\\normalizers\n",
      "  copying tokenizers\\normalizers\\__init__.py -> build\\lib.win-amd64-cpython-310\\tokenizers\\normalizers\n",
      "  creating build\\lib.win-amd64-cpython-310\\tokenizers\\pre_tokenizers\n",
      "  copying tokenizers\\pre_tokenizers\\__init__.py -> build\\lib.win-amd64-cpython-310\\tokenizers\\pre_tokenizers\n",
      "  creating build\\lib.win-amd64-cpython-310\\tokenizers\\processors\n",
      "  copying tokenizers\\processors\\__init__.py -> build\\lib.win-amd64-cpython-310\\tokenizers\\processors\n",
      "  creating build\\lib.win-amd64-cpython-310\\tokenizers\\trainers\n",
      "  copying tokenizers\\trainers\\__init__.py -> build\\lib.win-amd64-cpython-310\\tokenizers\\trainers\n",
      "  creating build\\lib.win-amd64-cpython-310\\tokenizers\\implementations\n",
      "  copying tokenizers\\implementations\\base_tokenizer.py -> build\\lib.win-amd64-cpython-310\\tokenizers\\implementations\n",
      "  copying tokenizers\\implementations\\bert_wordpiece.py -> build\\lib.win-amd64-cpython-310\\tokenizers\\implementations\n",
      "  copying tokenizers\\implementations\\byte_level_bpe.py -> build\\lib.win-amd64-cpython-310\\tokenizers\\implementations\n",
      "  copying tokenizers\\implementations\\char_level_bpe.py -> build\\lib.win-amd64-cpython-310\\tokenizers\\implementations\n",
      "  copying tokenizers\\implementations\\sentencepiece_bpe.py -> build\\lib.win-amd64-cpython-310\\tokenizers\\implementations\n",
      "  copying tokenizers\\implementations\\__init__.py -> build\\lib.win-amd64-cpython-310\\tokenizers\\implementations\n",
      "  copying tokenizers\\__init__.pyi -> build\\lib.win-amd64-cpython-310\\tokenizers\n",
      "  copying tokenizers\\models\\__init__.pyi -> build\\lib.win-amd64-cpython-310\\tokenizers\\models\n",
      "  copying tokenizers\\decoders\\__init__.pyi -> build\\lib.win-amd64-cpython-310\\tokenizers\\decoders\n",
      "  copying tokenizers\\normalizers\\__init__.pyi -> build\\lib.win-amd64-cpython-310\\tokenizers\\normalizers\n",
      "  copying tokenizers\\pre_tokenizers\\__init__.pyi -> build\\lib.win-amd64-cpython-310\\tokenizers\\pre_tokenizers\n",
      "  copying tokenizers\\processors\\__init__.pyi -> build\\lib.win-amd64-cpython-310\\tokenizers\\processors\n",
      "  copying tokenizers\\trainers\\__init__.pyi -> build\\lib.win-amd64-cpython-310\\tokenizers\\trainers\n",
      "  running build_ext\n",
      "  running build_rust\n",
      "  error: can't find Rust compiler\n",
      "  \n",
      "  If you are using an outdated pip version, it is possible a prebuilt wheel is available for this package but pip is not able to install from it. Installing from the wheel would avoid the need for a Rust compiler.\n",
      "  \n",
      "  To update pip, run:\n",
      "  \n",
      "      pip install --upgrade pip\n",
      "  \n",
      "  and then retry package installation.\n",
      "  \n",
      "  If you did intend to build this package from source, try installing a Rust compiler from your system package manager and ensure it is on the PATH during installation. Alternatively, rustup (available at https://rustup.rs) is the recommended way to download and update the Rust compiler toolchain.\n",
      "  [end of output]\n",
      "  \n",
      "  note: This error originates from a subprocess, and is likely not a problem with pip.\n",
      "  ERROR: Failed building wheel for tokenizers\n",
      "ERROR: Could not build wheels for tokenizers, which is required to install pyproject.toml-based projects\n"
     ]
    }
   ],
   "source": [
    "!pip install transformers==3.0.2"
   ]
  },
  {
   "cell_type": "code",
   "execution_count": 18,
   "id": "581e76b0",
   "metadata": {},
   "outputs": [
    {
     "name": "stdout",
     "output_type": "stream",
     "text": [
      "Requirement already satisfied: pip in c:\\users\\playdata\\anaconda3\\envs\\ml\\lib\\site-packages (23.1.2)\n"
     ]
    }
   ],
   "source": [
    "!pip install --upgrade pip"
   ]
  },
  {
   "cell_type": "code",
   "execution_count": 14,
   "id": "ecfb25bd",
   "metadata": {
    "scrolled": true
   },
   "outputs": [
    {
     "name": "stdout",
     "output_type": "stream",
     "text": [
      "Requirement already satisfied: pip in c:\\users\\playdata\\anaconda3\\envs\\ml\\lib\\site-packages (23.0.1)\n",
      "Collecting pip\n",
      "  Downloading pip-23.1.2-py3-none-any.whl (2.1 MB)\n",
      "     ---------------------------------------- 0.0/2.1 MB ? eta -:--:--\n",
      "     ------- -------------------------------- 0.4/2.1 MB 11.6 MB/s eta 0:00:01\n",
      "     ------------------------ --------------- 1.3/2.1 MB 16.4 MB/s eta 0:00:01\n",
      "     ---------------------------------------- 2.1/2.1 MB 18.8 MB/s eta 0:00:00\n"
     ]
    },
    {
     "name": "stderr",
     "output_type": "stream",
     "text": [
      "ERROR: To modify pip, please run the following command:\n",
      "C:\\Users\\Playdata\\anaconda3\\envs\\ml\\python.exe -m pip install --upgrade pip\n"
     ]
    }
   ],
   "source": []
  },
  {
   "cell_type": "code",
   "execution_count": 19,
   "id": "7c8c8fa5",
   "metadata": {
    "colab": {
     "base_uri": "https://localhost:8080/"
    },
    "executionInfo": {
     "elapsed": 722,
     "status": "ok",
     "timestamp": 1688534233298,
     "user": {
      "displayName": "한지애",
      "userId": "13589528693671396926"
     },
     "user_tz": -540
    },
    "id": "7c8c8fa5",
    "outputId": "b9d7e1c0-f30e-4427-be70-f8515e799afe"
   },
   "outputs": [
    {
     "name": "stderr",
     "output_type": "stream",
     "text": [
      "fatal: destination path 'KoBERT' already exists and is not an empty directory.\n"
     ]
    }
   ],
   "source": [
    "!git clone https://github.com/SKTBrain/KoBERT.git"
   ]
  },
  {
   "cell_type": "code",
   "execution_count": 20,
   "id": "llGDqVvwiiC0",
   "metadata": {
    "colab": {
     "base_uri": "https://localhost:8080/"
    },
    "executionInfo": {
     "elapsed": 5778,
     "status": "ok",
     "timestamp": 1688535203363,
     "user": {
      "displayName": "한지애",
      "userId": "13589528693671396926"
     },
     "user_tz": -540
    },
    "id": "llGDqVvwiiC0",
    "outputId": "aaa3c7ad-3a1b-4f6b-ca3c-55939ab65359"
   },
   "outputs": [
    {
     "name": "stdout",
     "output_type": "stream",
     "text": [
      "Requirement already satisfied: tokenizers in c:\\users\\playdata\\anaconda3\\envs\\ml\\lib\\site-packages (0.13.3)\n"
     ]
    }
   ],
   "source": [
    "!pip install --upgrade tokenizers"
   ]
  },
  {
   "cell_type": "code",
   "execution_count": 21,
   "id": "wjboMtkHnetk",
   "metadata": {
    "colab": {
     "base_uri": "https://localhost:8080/"
    },
    "executionInfo": {
     "elapsed": 4563,
     "status": "ok",
     "timestamp": 1688536492248,
     "user": {
      "displayName": "한지애",
      "userId": "13589528693671396926"
     },
     "user_tz": -540
    },
    "id": "wjboMtkHnetk",
    "outputId": "199f8050-b22a-4ebe-a9c6-db76e46180db"
   },
   "outputs": [
    {
     "name": "stdout",
     "output_type": "stream",
     "text": [
      "Requirement already satisfied: tokenizers in c:\\users\\playdata\\anaconda3\\envs\\ml\\lib\\site-packages (0.13.3)\n"
     ]
    }
   ],
   "source": [
    "!pip install tokenizers"
   ]
  },
  {
   "cell_type": "code",
   "execution_count": 1,
   "id": "ALtkYSser2mt",
   "metadata": {
    "colab": {
     "base_uri": "https://localhost:8080/"
    },
    "executionInfo": {
     "elapsed": 7,
     "status": "ok",
     "timestamp": 1688537636429,
     "user": {
      "displayName": "한지애",
      "userId": "13589528693671396926"
     },
     "user_tz": -540
    },
    "id": "ALtkYSser2mt",
    "outputId": "58c4e3f9-48b5-48d5-8875-9e9476632ccb"
   },
   "outputs": [
    {
     "name": "stderr",
     "output_type": "stream",
     "text": [
      "'rust'은(는) 내부 또는 외부 명령, 실행할 수 있는 프로그램, 또는\n",
      "배치 파일이 아닙니다.\n"
     ]
    }
   ],
   "source": [
    "!rust --version"
   ]
  },
  {
   "cell_type": "code",
   "execution_count": 2,
   "id": "6exEk1rPrmxJ",
   "metadata": {
    "colab": {
     "base_uri": "https://localhost:8080/"
    },
    "collapsed": true,
    "executionInfo": {
     "elapsed": 2072,
     "status": "ok",
     "timestamp": 1688537582774,
     "user": {
      "displayName": "한지애",
      "userId": "13589528693671396926"
     },
     "user_tz": -540
    },
    "id": "6exEk1rPrmxJ",
    "outputId": "5788d57f-b3e6-47fa-b1ff-e68415b8e6fe"
   },
   "outputs": [
    {
     "name": "stdout",
     "output_type": "stream",
     "text": [
      "Requirement already satisfied: setuptools in c:\\users\\playdata\\anaconda3\\envs\\ml\\lib\\site-packages (66.0.0)\n",
      "Collecting setuptools\n",
      "  Using cached setuptools-68.0.0-py3-none-any.whl (804 kB)\n",
      "Collecting rust\n",
      "  Using cached RUST-1.3.1-py3-none-any.whl (49 kB)\n"
     ]
    },
    {
     "name": "stderr",
     "output_type": "stream",
     "text": [
      "ERROR: Could not find a version that satisfies the requirement pyo3 (from versions: none)\n",
      "ERROR: No matching distribution found for pyo3\n"
     ]
    }
   ],
   "source": [
    "!pip install --upgrade setuptools rust pyo3"
   ]
  },
  {
   "cell_type": "code",
   "execution_count": 9,
   "id": "a9e8e146",
   "metadata": {
    "collapsed": true
   },
   "outputs": [
    {
     "name": "stderr",
     "output_type": "stream",
     "text": [
      "\n",
      "Usage:   \n",
      "  pip install [options] <requirement specifier> [package-index-options] ...\n",
      "  pip install [options] -r <requirements file> [package-index-options] ...\n",
      "  pip install [options] [-e] <vcs project url> ...\n",
      "  pip install [options] [-e] <local project path> ...\n",
      "  pip install [options] <archive url/path> ...\n",
      "\n",
      "no such option: --update\n"
     ]
    }
   ],
   "source": []
  },
  {
   "cell_type": "code",
   "execution_count": 5,
   "id": "12700127",
   "metadata": {
    "colab": {
     "base_uri": "https://localhost:8080/"
    },
    "executionInfo": {
     "elapsed": 36311,
     "status": "ok",
     "timestamp": 1688536531487,
     "user": {
      "displayName": "한지애",
      "userId": "13589528693671396926"
     },
     "user_tz": -540
    },
    "id": "12700127",
    "outputId": "52eeadff-09c2-49a9-d2d9-073f780dddc5",
    "scrolled": false
   },
   "outputs": [
    {
     "name": "stdout",
     "output_type": "stream",
     "text": [
      "C:\\Users\\Playdata\\Desktop\\project\\KoBERT\n",
      "Requirement already satisfied: boto3<=1.24.94 in c:\\users\\playdata\\anaconda3\\envs\\ml\\lib\\site-packages (from -r requirements.txt (line 1)) (1.24.94)\n",
      "Collecting gluonnlp==0.10.0 (from -r requirements.txt (line 2))\n",
      "  Using cached gluonnlp-0.10.0.tar.gz (344 kB)\n",
      "  Preparing metadata (setup.py): started\n",
      "  Preparing metadata (setup.py): finished with status 'done'\n"
     ]
    },
    {
     "name": "stderr",
     "output_type": "stream",
     "text": [
      "ERROR: Could not find a version that satisfies the requirement onnxruntime==1.6.0 (from versions: 1.12.0, 1.12.1, 1.13.1, 1.14.0, 1.14.1, 1.15.0, 1.15.1)\n",
      "ERROR: No matching distribution found for onnxruntime==1.6.0\n"
     ]
    },
    {
     "name": "stdout",
     "output_type": "stream",
     "text": [
      "Processing c:\\users\\playdata\\desktop\\project\\kobert\n",
      "  Preparing metadata (setup.py): started\n",
      "  Preparing metadata (setup.py): finished with status 'done'\n",
      "Requirement already satisfied: boto3<=1.24.94 in c:\\users\\playdata\\anaconda3\\envs\\ml\\lib\\site-packages (from kobert==0.2.3) (1.24.94)\n",
      "Collecting gluonnlp==0.10.0 (from kobert==0.2.3)\n",
      "  Using cached gluonnlp-0.10.0.tar.gz (344 kB)\n",
      "  Preparing metadata (setup.py): started\n",
      "  Preparing metadata (setup.py): finished with status 'done'\n",
      "INFO: pip is looking at multiple versions of kobert to determine which version is compatible with other requirements. This could take a while.\n"
     ]
    },
    {
     "name": "stderr",
     "output_type": "stream",
     "text": [
      "ERROR: Could not find a version that satisfies the requirement onnxruntime==1.6.0 (from kobert) (from versions: 1.12.0, 1.12.1, 1.13.1, 1.14.0, 1.14.1, 1.15.0, 1.15.1)\n",
      "ERROR: No matching distribution found for onnxruntime==1.6.0\n"
     ]
    }
   ],
   "source": [
    "%cd KoBERT\n",
    "!pip install -r requirements.txt\n",
    "!pip install ."
   ]
  },
  {
   "cell_type": "code",
   "execution_count": null,
   "id": "28a40c65",
   "metadata": {
    "id": "28a40c65",
    "outputId": "4bd3e314-42e5-4ad5-da74-f2ad30a88d9e"
   },
   "outputs": [],
   "source": [
    "gluonnlp --version"
   ]
  },
  {
   "cell_type": "code",
   "execution_count": 7,
   "id": "ea02205c",
   "metadata": {
    "id": "ea02205c",
    "outputId": "234bd8e3-6631-4d46-b867-d35a13466328"
   },
   "outputs": [
    {
     "name": "stdout",
     "output_type": "stream",
     "text": [
      "Requirement already satisfied: sentencepiece in c:\\users\\playdata\\anaconda3\\envs\\ml\\lib\\site-packages (0.1.99)\n"
     ]
    }
   ],
   "source": [
    "!pip install sentencepiece"
   ]
  },
  {
   "cell_type": "code",
   "execution_count": 27,
   "id": "949d6b83",
   "metadata": {
    "id": "949d6b83",
    "outputId": "75afa05a-7b4f-4e75-b33d-64bcbdeb107b",
    "scrolled": true
   },
   "outputs": [
    {
     "name": "stdout",
     "output_type": "stream",
     "text": [
      "Collecting transformers\n",
      "  Downloading transformers-4.30.2-py3-none-any.whl (7.2 MB)\n",
      "                                              0.0/7.2 MB ? eta -:--:--\n",
      "     --                                       0.4/7.2 MB 8.7 MB/s eta 0:00:01\n",
      "     ------                                   1.1/7.2 MB 11.8 MB/s eta 0:00:01\n",
      "     --------------                           2.5/7.2 MB 17.8 MB/s eta 0:00:01\n",
      "     ---------------                          2.8/7.2 MB 15.0 MB/s eta 0:00:01\n",
      "     ----------------                         2.9/7.2 MB 15.3 MB/s eta 0:00:01\n",
      "     ---------------------                    3.8/7.2 MB 14.5 MB/s eta 0:00:01\n",
      "     -------------------------                4.6/7.2 MB 15.4 MB/s eta 0:00:01\n",
      "     -----------------------------            5.3/7.2 MB 14.7 MB/s eta 0:00:01\n",
      "     ------------------------------------     6.5/7.2 MB 15.9 MB/s eta 0:00:01\n",
      "     ---------------------------------------  7.2/7.2 MB 15.8 MB/s eta 0:00:01\n",
      "     ---------------------------------------- 7.2/7.2 MB 14.8 MB/s eta 0:00:00\n",
      "Requirement already satisfied: filelock in c:\\users\\playdata\\anaconda3\\envs\\ml\\lib\\site-packages (from transformers) (3.12.0)\n",
      "Collecting huggingface-hub<1.0,>=0.14.1 (from transformers)\n",
      "  Downloading huggingface_hub-0.15.1-py3-none-any.whl (236 kB)\n",
      "                                              0.0/236.8 kB ? eta -:--:--\n",
      "     -------------------------------------- 236.8/236.8 kB 7.3 MB/s eta 0:00:00\n",
      "Requirement already satisfied: numpy>=1.17 in c:\\users\\playdata\\anaconda3\\envs\\ml\\lib\\site-packages (from transformers) (1.23.5)\n",
      "Requirement already satisfied: packaging>=20.0 in c:\\users\\playdata\\anaconda3\\envs\\ml\\lib\\site-packages (from transformers) (23.1)\n",
      "Requirement already satisfied: pyyaml>=5.1 in c:\\users\\playdata\\anaconda3\\envs\\ml\\lib\\site-packages (from transformers) (6.0)\n",
      "Collecting regex!=2019.12.17 (from transformers)\n",
      "  Using cached regex-2023.6.3-cp310-cp310-win_amd64.whl (268 kB)\n",
      "Requirement already satisfied: requests in c:\\users\\playdata\\anaconda3\\envs\\ml\\lib\\site-packages (from transformers) (2.18.4)\n",
      "Requirement already satisfied: tokenizers!=0.11.3,<0.14,>=0.11.1 in c:\\users\\playdata\\anaconda3\\envs\\ml\\lib\\site-packages (from transformers) (0.13.3)\n",
      "Collecting safetensors>=0.3.1 (from transformers)\n",
      "  Downloading safetensors-0.3.1-cp310-cp310-win_amd64.whl (263 kB)\n",
      "                                              0.0/263.7 kB ? eta -:--:--\n",
      "     ---------------------------------------- 263.7/263.7 kB ? eta 0:00:00\n",
      "Requirement already satisfied: tqdm>=4.27 in c:\\users\\playdata\\anaconda3\\envs\\ml\\lib\\site-packages (from transformers) (4.65.0)\n",
      "Collecting fsspec (from huggingface-hub<1.0,>=0.14.1->transformers)\n",
      "  Downloading fsspec-2023.6.0-py3-none-any.whl (163 kB)\n",
      "                                              0.0/163.8 kB ? eta -:--:--\n",
      "     ---------------------------------------- 163.8/163.8 kB ? eta 0:00:00\n",
      "Requirement already satisfied: typing-extensions>=3.7.4.3 in c:\\users\\playdata\\anaconda3\\envs\\ml\\lib\\site-packages (from huggingface-hub<1.0,>=0.14.1->transformers) (4.6.2)\n",
      "Requirement already satisfied: colorama in c:\\users\\playdata\\anaconda3\\envs\\ml\\lib\\site-packages (from tqdm>=4.27->transformers) (0.4.6)\n",
      "Requirement already satisfied: certifi>=2017.4.17 in c:\\users\\playdata\\anaconda3\\envs\\ml\\lib\\site-packages (from requests->transformers) (2022.12.7)\n",
      "Requirement already satisfied: chardet<3.1.0,>=3.0.2 in c:\\users\\playdata\\anaconda3\\envs\\ml\\lib\\site-packages (from requests->transformers) (3.0.4)\n",
      "Requirement already satisfied: idna<2.7,>=2.5 in c:\\users\\playdata\\anaconda3\\envs\\ml\\lib\\site-packages (from requests->transformers) (2.6)\n",
      "Requirement already satisfied: urllib3<1.23,>=1.21.1 in c:\\users\\playdata\\anaconda3\\envs\\ml\\lib\\site-packages (from requests->transformers) (1.22)\n",
      "Installing collected packages: safetensors, regex, fsspec, huggingface-hub, transformers\n",
      "Successfully installed fsspec-2023.6.0 huggingface-hub-0.15.1 regex-2023.6.3 safetensors-0.3.1 transformers-4.30.2\n"
     ]
    }
   ],
   "source": [
    "!pip install transformers"
   ]
  },
  {
   "cell_type": "code",
   "execution_count": 28,
   "id": "f1a9cd6d",
   "metadata": {
    "collapsed": true,
    "id": "f1a9cd6d",
    "outputId": "f1014d19-d55f-4a0d-cf89-64d6b75ade59"
   },
   "outputs": [
    {
     "ename": "ModuleNotFoundError",
     "evalue": "No module named 'gluonnlp'",
     "output_type": "error",
     "traceback": [
      "\u001b[1;31m---------------------------------------------------------------------------\u001b[0m",
      "\u001b[1;31mModuleNotFoundError\u001b[0m                       Traceback (most recent call last)",
      "Cell \u001b[1;32mIn[28], line 6\u001b[0m\n\u001b[0;32m      4\u001b[0m \u001b[38;5;28;01mimport\u001b[39;00m \u001b[38;5;21;01mtorch\u001b[39;00m\u001b[38;5;21;01m.\u001b[39;00m\u001b[38;5;21;01moptim\u001b[39;00m \u001b[38;5;28;01mas\u001b[39;00m \u001b[38;5;21;01moptim\u001b[39;00m\n\u001b[0;32m      5\u001b[0m \u001b[38;5;28;01mfrom\u001b[39;00m \u001b[38;5;21;01mtorch\u001b[39;00m\u001b[38;5;21;01m.\u001b[39;00m\u001b[38;5;21;01mutils\u001b[39;00m\u001b[38;5;21;01m.\u001b[39;00m\u001b[38;5;21;01mdata\u001b[39;00m \u001b[38;5;28;01mimport\u001b[39;00m Dataset, DataLoader\n\u001b[1;32m----> 6\u001b[0m \u001b[38;5;28;01mimport\u001b[39;00m \u001b[38;5;21;01mgluonnlp\u001b[39;00m \u001b[38;5;28;01mas\u001b[39;00m \u001b[38;5;21;01mnlp\u001b[39;00m\n\u001b[0;32m      7\u001b[0m \u001b[38;5;28;01mimport\u001b[39;00m \u001b[38;5;21;01mnumpy\u001b[39;00m \u001b[38;5;28;01mas\u001b[39;00m \u001b[38;5;21;01mnp\u001b[39;00m\n\u001b[0;32m      8\u001b[0m \u001b[38;5;28;01mfrom\u001b[39;00m \u001b[38;5;21;01mtqdm\u001b[39;00m \u001b[38;5;28;01mimport\u001b[39;00m tqdm, tqdm_notebook\n",
      "\u001b[1;31mModuleNotFoundError\u001b[0m: No module named 'gluonnlp'"
     ]
    }
   ],
   "source": [
    "import torch\n",
    "from torch import nn\n",
    "import torch.nn.functional as F\n",
    "import torch.optim as optim\n",
    "from torch.utils.data import Dataset, DataLoader\n",
    "import gluonnlp as nlp\n",
    "import numpy as np\n",
    "from tqdm import tqdm, tqdm_notebook"
   ]
  },
  {
   "cell_type": "code",
   "execution_count": 3,
   "id": "16a34bfb",
   "metadata": {
    "id": "16a34bfb",
    "outputId": "63fb06e8-36a5-4eb6-a9cc-44c7a32c47fa"
   },
   "outputs": [
    {
     "name": "stdout",
     "output_type": "stream",
     "text": [
      "Python 3.10.11\n"
     ]
    }
   ],
   "source": [
    "!python --version"
   ]
  },
  {
   "cell_type": "code",
   "execution_count": null,
   "id": "2997e09a",
   "metadata": {
    "id": "2997e09a"
   },
   "outputs": [],
   "source": []
  }
 ],
 "metadata": {
  "colab": {
   "provenance": []
  },
  "kernelspec": {
   "display_name": "Python 3 (ipykernel)",
   "language": "python",
   "name": "python3"
  },
  "language_info": {
   "codemirror_mode": {
    "name": "ipython",
    "version": 3
   },
   "file_extension": ".py",
   "mimetype": "text/x-python",
   "name": "python",
   "nbconvert_exporter": "python",
   "pygments_lexer": "ipython3",
   "version": "3.10.11"
  }
 },
 "nbformat": 4,
 "nbformat_minor": 5
}
