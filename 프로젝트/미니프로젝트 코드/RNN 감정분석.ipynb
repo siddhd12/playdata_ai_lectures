{
 "cells": [
  {
   "cell_type": "code",
   "execution_count": 1,
   "id": "dd14d3e2",
   "metadata": {},
   "outputs": [],
   "source": [
    "import pandas as pd"
   ]
  },
  {
   "cell_type": "code",
   "execution_count": 2,
   "id": "29848c2f",
   "metadata": {},
   "outputs": [],
   "source": [
    "df=pd.read_csv(\"lg_data_fix.csv\")"
   ]
  },
  {
   "cell_type": "code",
   "execution_count": 11,
   "id": "619e49f9",
   "metadata": {},
   "outputs": [],
   "source": [
    "data=df['contests'][:30]"
   ]
  },
  {
   "cell_type": "code",
   "execution_count": null,
   "id": "85ce5817",
   "metadata": {},
   "outputs": [],
   "source": []
  },
  {
   "cell_type": "code",
   "execution_count": null,
   "id": "0ebc2853",
   "metadata": {},
   "outputs": [],
   "source": []
  },
  {
   "cell_type": "code",
   "execution_count": 12,
   "id": "ba66b349",
   "metadata": {},
   "outputs": [],
   "source": [
    "data_feature=list(data)"
   ]
  },
  {
   "cell_type": "code",
   "execution_count": 13,
   "id": "23d7900c",
   "metadata": {},
   "outputs": [],
   "source": [
    "data_target=[1,0,1,1,1,0,0,0,1,0,0,0,0,0,0,1,1,1,0,0,1,1,0,0,1,0,1,1,1,0]"
   ]
  },
  {
   "cell_type": "code",
   "execution_count": 14,
   "id": "7dffaf1f",
   "metadata": {},
   "outputs": [],
   "source": [
    "from torch.utils.data import Dataset\n",
    "import numpy as np\n",
    "import torch\n",
    "from tqdm import tqdm\n",
    "class dataset(Dataset):\n",
    "    def __init__(self,data_feature,data_target):\n",
    "        super().__init__()\n",
    "        self.data_feature = data_feature\n",
    "        self.targets = torch.Tensor(data_target)\n",
    "        self.features,self.num_dict,self.vocab_list,self.word_dict = self.vocab()\n",
    "        self.features = self.padding()\n",
    "        self.features= torch.Tensor(self.features)\n",
    "    def vocab(self):\n",
    "        vocab_list=[]\n",
    "        for sen in self.data_feature:\n",
    "            vocab_list.extend(sen.split())\n",
    "        vocab_list=set(vocab_list)\n",
    "        num_dict = {i:idx for i,idx in enumerate(vocab_list)}\n",
    "        word_dict = {idx:i for i,idx in enumerate(vocab_list)}\n",
    "        features = []\n",
    "        for sen in self.data_feature:\n",
    "            sen = sen.split()\n",
    "            feature = [word_dict[i] for i in sen]\n",
    "            features.append(feature)\n",
    "        return features,num_dict,vocab_list,word_dict\n",
    "    def padding(self):\n",
    "        max_len = max(len(i) for i in self.features)\n",
    "        for i in self.features:\n",
    "            i.extend((max_len-len(i))*[0])\n",
    "        return self.features\n",
    "    def __len__(self):\n",
    "        return len(self.features)\n",
    "    def __getitem__(self,idx):\n",
    "        return self.features[idx], self.targets[idx]"
   ]
  },
  {
   "cell_type": "code",
   "execution_count": 15,
   "id": "aaee6948",
   "metadata": {
    "scrolled": true
   },
   "outputs": [],
   "source": [
    "news=dataset(data_feature,data_target)\n"
   ]
  },
  {
   "cell_type": "code",
   "execution_count": 16,
   "id": "c9296e2f",
   "metadata": {},
   "outputs": [
    {
     "data": {
      "text/plain": [
       "tensor([1049., 2292., 1630., 1319.,  383., 1014.,  996.,  236.,  977., 2265.,\n",
       "        2159.,  401., 2055., 2047.,  242.,  406., 1164.,  251.,  300.,  988.,\n",
       "        1794., 2099.,  685., 1660.,  798., 1325., 2146., 1836., 1195.,  349.,\n",
       "         453., 2486., 1785.,  760., 2464.,  219., 2413., 1132., 1062., 1248.,\n",
       "        2311., 1836., 1373., 1808., 2303., 2255., 1793.,  446., 1500., 1028.,\n",
       "         288.,  837.,    8., 1728.,  817.,  715., 1541.,  234.,  864., 1562.,\n",
       "         119., 2392., 1634.,  308., 2146., 1927.,  173., 1794., 2155., 1677.,\n",
       "        1773., 2055., 2037.,  654., 2211.,  676., 1889., 1859., 2186., 1638.,\n",
       "         822.,  394.,  278.,   53., 1753., 2331., 1179., 1256., 1794., 2341.,\n",
       "         495., 1008., 1869., 1167.,  360., 1884., 1179.,  369., 1132.,  923.,\n",
       "         996.,  453., 1773.,  363., 1537.,  432.,  777.,  269., 1567.,  550.,\n",
       "        1594., 1706., 2014.,   67.,  389.,  217., 2146., 1314.,  805., 1794.,\n",
       "        1050., 1572.,  442., 1174., 1794., 2222., 1418.,  584., 1829.,  692.,\n",
       "        2425., 1789., 1376., 2034., 1913., 1522., 1538., 1803., 2373.,  202.,\n",
       "         125., 1113., 1265.,  691., 2130.,  380., 1817.,  492., 1596.,   46.,\n",
       "        1665., 1117., 2187., 1903., 1957., 2233.,  228., 1340., 1486.,  825.,\n",
       "         312.,  666., 2198., 1464.,   65., 1007., 2458.,   67.,  975.,    0.,\n",
       "           0.,    0.,    0.,    0.,    0.,    0.,    0.,    0.,    0.,    0.,\n",
       "           0.,    0.,    0.,    0.,    0.,    0.,    0.,    0.,    0.,    0.,\n",
       "           0.,    0.,    0.,    0.,    0.,    0.,    0.,    0.,    0.,    0.,\n",
       "           0.,    0.,    0.,    0.,    0.,    0.,    0.,    0.,    0.,    0.,\n",
       "           0.,    0.,    0.,    0.,    0.,    0.,    0.,    0.,    0.,    0.,\n",
       "           0.,    0.,    0.,    0.,    0.,    0.,    0.,    0.,    0.,    0.,\n",
       "           0.,    0.,    0.,    0.,    0.,    0.,    0.,    0.,    0.,    0.,\n",
       "           0.,    0.,    0.,    0.,    0.,    0.,    0.,    0.,    0.,    0.,\n",
       "           0.,    0.,    0.,    0.,    0.,    0.,    0.,    0.,    0.,    0.,\n",
       "           0.,    0.,    0.,    0.,    0.,    0.,    0.,    0.,    0.,    0.,\n",
       "           0.,    0.,    0.,    0.,    0.,    0.,    0.,    0.,    0.,    0.,\n",
       "           0.,    0.,    0.,    0.,    0.,    0.,    0.,    0.,    0.,    0.,\n",
       "           0.,    0.,    0.,    0.,    0.,    0.,    0.,    0.,    0.,    0.,\n",
       "           0.,    0.,    0.,    0.,    0.,    0.,    0.,    0.,    0.,    0.,\n",
       "           0.,    0.,    0.,    0.,    0.,    0.,    0.,    0.,    0.,    0.,\n",
       "           0.,    0.,    0.,    0.,    0.,    0.,    0.,    0.,    0.,    0.,\n",
       "           0.,    0.,    0.,    0.,    0.,    0.,    0.,    0.,    0.,    0.,\n",
       "           0.,    0.,    0.,    0.,    0.,    0.,    0.,    0.,    0.,    0.,\n",
       "           0.,    0.,    0.,    0.,    0.,    0.,    0.,    0.,    0.,    0.,\n",
       "           0.,    0.,    0.,    0.,    0.,    0.,    0.,    0.,    0.,    0.,\n",
       "           0.,    0.,    0.,    0.,    0.,    0.,    0.,    0.,    0.,    0.,\n",
       "           0.,    0.,    0.,    0.,    0.,    0.,    0.,    0.,    0.,    0.,\n",
       "           0.,    0.,    0.,    0.,    0.,    0.,    0.,    0.,    0.,    0.,\n",
       "           0.,    0.,    0.,    0.,    0.,    0.,    0.,    0.,    0.,    0.,\n",
       "           0.,    0.,    0.,    0.,    0.,    0.,    0.,    0.,    0.,    0.,\n",
       "           0.,    0.,    0.,    0.,    0.,    0.,    0.,    0.,    0.,    0.,\n",
       "           0.,    0.,    0.,    0.,    0.,    0.,    0.,    0.,    0.,    0.,\n",
       "           0.,    0.,    0.,    0.,    0.,    0.,    0.,    0.,    0.,    0.,\n",
       "           0.,    0.,    0.,    0.,    0.,    0.,    0.,    0.,    0.,    0.,\n",
       "           0.,    0.,    0.,    0.,    0.,    0.,    0.,    0.,    0.,    0.])"
      ]
     },
     "execution_count": 16,
     "metadata": {},
     "output_type": "execute_result"
    }
   ],
   "source": []
  },
  {
   "cell_type": "code",
   "execution_count": null,
   "id": "59eb00d6",
   "metadata": {},
   "outputs": [],
   "source": []
  },
  {
   "cell_type": "code",
   "execution_count": null,
   "id": "27e0c749",
   "metadata": {},
   "outputs": [],
   "source": []
  },
  {
   "cell_type": "code",
   "execution_count": null,
   "id": "921015e9",
   "metadata": {},
   "outputs": [],
   "source": []
  },
  {
   "cell_type": "code",
   "execution_count": null,
   "id": "814e5a1d",
   "metadata": {},
   "outputs": [],
   "source": []
  }
 ],
 "metadata": {
  "kernelspec": {
   "display_name": "Python 3 (ipykernel)",
   "language": "python",
   "name": "python3"
  },
  "language_info": {
   "codemirror_mode": {
    "name": "ipython",
    "version": 3
   },
   "file_extension": ".py",
   "mimetype": "text/x-python",
   "name": "python",
   "nbconvert_exporter": "python",
   "pygments_lexer": "ipython3",
   "version": "3.10.11"
  }
 },
 "nbformat": 4,
 "nbformat_minor": 5
}
