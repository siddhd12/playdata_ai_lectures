{
 "cells": [
  {
   "cell_type": "code",
   "execution_count": 1,
   "id": "b2a21379",
   "metadata": {},
   "outputs": [],
   "source": [
    "import os\n",
    "import pandas as pd"
   ]
  },
  {
   "cell_type": "code",
   "execution_count": 2,
   "id": "0d580d84",
   "metadata": {},
   "outputs": [
    {
     "data": {
      "text/plain": [
       "'C:\\\\Users\\\\Playdata\\\\Desktop\\\\멘토링\\\\1회차'"
      ]
     },
     "execution_count": 2,
     "metadata": {},
     "output_type": "execute_result"
    }
   ],
   "source": [
    "os.getcwd()"
   ]
  },
  {
   "cell_type": "code",
   "execution_count": 5,
   "id": "467bfc03",
   "metadata": {},
   "outputs": [],
   "source": [
    "\n",
    "file_path=f'C:/Users/Playdata/Desktop/멘토링/1회차/input_sejong/BTAA000{1}.txt'"
   ]
  },
  {
   "cell_type": "code",
   "execution_count": 11,
   "id": "d03f8459",
   "metadata": {},
   "outputs": [
    {
     "name": "stdout",
     "output_type": "stream",
     "text": [
      "1993/06/08\t1993/SN + //SP + 06/SN + //SP + 08/SN\n",
      "\n",
      "['1993/06/08', '1993/SN + //SP + 06/SN + //SP + 08/SN\\n']\n",
      "['1993/SN ', ' //SP ', ' 06/SN ', ' //SP ', ' 08/SN']\n"
     ]
    }
   ],
   "source": [
    "with open(file_path, 'r',encoding='utf-8') as file:\n",
    "    content = file.readline()\n",
    "    print(content)\n",
    "    content_split=content.split(\"\\t\") # 원형  + 단어:형태소\n",
    "    print(content_split)\n",
    "    word_split=content_split[1].strip().split(\"+\") # 단어 별로 짜름\n",
    "    print(word_split)\n",
    "    "
   ]
  },
  {
   "cell_type": "code",
   "execution_count": 115,
   "id": "1449bc34",
   "metadata": {},
   "outputs": [
    {
     "name": "stdout",
     "output_type": "stream",
     "text": [
      "['1993/SN']\n",
      "['', 'SP']\n",
      "['06/SN']\n",
      "['', 'SP']\n",
      "['08/SN']\n"
     ]
    }
   ],
   "source": [
    "morp_list=[]\n",
    "for i in word_split:\n",
    "    morp=i.strip().split('//')\n",
    "    print(morp)\n",
    "    morp_list.append(morp)\n",
    "#     for i in morp:\n",
    "#         morp_split=i.split('/')\n",
    "        \n",
    "# #         print(morp_split)"
   ]
  },
  {
   "cell_type": "code",
   "execution_count": 120,
   "id": "0f7e768e",
   "metadata": {},
   "outputs": [
    {
     "name": "stdout",
     "output_type": "stream",
     "text": [
      "tur\n"
     ]
    }
   ],
   "source": [
    "if '' in morp_list[1]:\n",
    "    print('tur')"
   ]
  },
  {
   "cell_type": "code",
   "execution_count": 140,
   "id": "f2f1932e",
   "metadata": {},
   "outputs": [
    {
     "name": "stdout",
     "output_type": "stream",
     "text": [
      "[['08', 'SN']]\n",
      "[['08', 'SN']]\n",
      "[['08', 'SN']]\n"
     ]
    }
   ],
   "source": [
    "word_list=[]\n",
    "\n",
    "for sen in morp_list:\n",
    "#     print(sen)\n",
    "    if '' in sen:\n",
    "        for \n",
    "        word_list.append(sen)\n",
    "    else:\n",
    "        for i in sen:\n",
    "            i_split=i.split('/')\n",
    "            word_list.append(i_split)\n",
    "        print(sen_split)\n",
    "#     print(type(sen))\n",
    "#     if '/' in sen:\n",
    "\n",
    "#         word_list.append(sen.split('/'))\n",
    "        \n",
    "        \n"
   ]
  },
  {
   "cell_type": "code",
   "execution_count": 141,
   "id": "0e29466a",
   "metadata": {},
   "outputs": [
    {
     "data": {
      "text/plain": [
       "[['1993', 'SN'], ['', 'SP'], ['06', 'SN'], ['', 'SP'], ['08', 'SN']]"
      ]
     },
     "execution_count": 141,
     "metadata": {},
     "output_type": "execute_result"
    }
   ],
   "source": [
    "word_list"
   ]
  },
  {
   "cell_type": "code",
   "execution_count": null,
   "id": "593c0137",
   "metadata": {},
   "outputs": [],
   "source": []
  },
  {
   "cell_type": "code",
   "execution_count": 60,
   "id": "e33b4748",
   "metadata": {},
   "outputs": [
    {
     "data": {
      "text/plain": [
       "[['1993', 'SN']]"
      ]
     },
     "execution_count": 60,
     "metadata": {},
     "output_type": "execute_result"
    }
   ],
   "source": [
    "word_list[0]"
   ]
  },
  {
   "cell_type": "code",
   "execution_count": null,
   "id": "344c0bd6",
   "metadata": {},
   "outputs": [],
   "source": []
  },
  {
   "cell_type": "code",
   "execution_count": 176,
   "id": "7e80907a",
   "metadata": {},
   "outputs": [
    {
     "name": "stdout",
     "output_type": "stream",
     "text": [
      "[['08', 'SN']]\n"
     ]
    }
   ],
   "source": [
    "mor_list=[]\n",
    "for i in word_split:\n",
    "    morp=i.strip().split('//')\n",
    "#     print(morp)\n",
    "    mor_list=['/' if item==\"\" else item.split('/') for item in morp]\n",
    "print(mor_list)\n",
    "        \n",
    "        \n",
    "    "
   ]
  },
  {
   "cell_type": "code",
   "execution_count": 163,
   "id": "c4ff9bf4",
   "metadata": {},
   "outputs": [
    {
     "data": {
      "text/plain": [
       "[['1993/SN'], ['', 'SP'], ['06/SN'], ['', 'SP'], ['08/SN']]"
      ]
     },
     "execution_count": 163,
     "metadata": {},
     "output_type": "execute_result"
    }
   ],
   "source": [
    "morp_list"
   ]
  },
  {
   "cell_type": "code",
   "execution_count": 162,
   "id": "86759039",
   "metadata": {},
   "outputs": [
    {
     "data": {
      "text/plain": [
       "[False, False, False, False, False]"
      ]
     },
     "execution_count": 162,
     "metadata": {},
     "output_type": "execute_result"
    }
   ],
   "source": [
    "T=[True if item ==\"\" else False for item in morp_list]\n",
    "T   \n"
   ]
  },
  {
   "cell_type": "code",
   "execution_count": 154,
   "id": "f1231490",
   "metadata": {},
   "outputs": [
    {
     "data": {
      "text/plain": [
       "[['1993/SN'], ['', 'SP'], ['06/SN'], ['', 'SP'], ['08/SN']]"
      ]
     },
     "execution_count": 154,
     "metadata": {},
     "output_type": "execute_result"
    }
   ],
   "source": [
    "mod"
   ]
  },
  {
   "cell_type": "code",
   "execution_count": 87,
   "id": "eeec547e",
   "metadata": {},
   "outputs": [
    {
     "data": {
      "text/plain": [
       "True"
      ]
     },
     "execution_count": 87,
     "metadata": {},
     "output_type": "execute_result"
    }
   ],
   "source": [
    "morp_list[1][0]==\"\""
   ]
  },
  {
   "cell_type": "code",
   "execution_count": 43,
   "id": "9f063d10",
   "metadata": {},
   "outputs": [
    {
     "name": "stdout",
     "output_type": "stream",
     "text": [
      "['1993/SN']\n",
      "['/', 'SP']\n",
      "['06/SN']\n",
      "['/', 'SP']\n",
      "['08/SN']\n"
     ]
    }
   ],
   "source": [
    "\n",
    "for sen in morp_list:\n",
    "    pre=[item if item != \"\" else \"/\" for item in sen]\n",
    "    print(pre)"
   ]
  },
  {
   "cell_type": "code",
   "execution_count": 134,
   "id": "85f636ff",
   "metadata": {},
   "outputs": [
    {
     "name": "stdout",
     "output_type": "stream",
     "text": [
      "['/', 'sp']\n"
     ]
    }
   ],
   "source": [
    "original_list = [\"\", \"sp\"]\n",
    "\n",
    "# 리스트 내부의 빈 문자열을 슬래시로 변경\n",
    "modified_list = [item if item != \"\" else \"/\" for item in original_list]\n",
    "\n",
    "print(modified_list)"
   ]
  },
  {
   "cell_type": "code",
   "execution_count": null,
   "id": "88b79639",
   "metadata": {},
   "outputs": [],
   "source": []
  }
 ],
 "metadata": {
  "kernelspec": {
   "display_name": "Python 3 (ipykernel)",
   "language": "python",
   "name": "python3"
  },
  "language_info": {
   "codemirror_mode": {
    "name": "ipython",
    "version": 3
   },
   "file_extension": ".py",
   "mimetype": "text/x-python",
   "name": "python",
   "nbconvert_exporter": "python",
   "pygments_lexer": "ipython3",
   "version": "3.10.11"
  }
 },
 "nbformat": 4,
 "nbformat_minor": 5
}
