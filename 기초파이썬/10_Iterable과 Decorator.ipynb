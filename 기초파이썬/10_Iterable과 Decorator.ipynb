{
 "cells": [
  {
   "cell_type": "markdown",
   "id": "562c702d",
   "metadata": {
    "slideshow": {
     "slide_type": "slide"
    }
   },
   "source": [
    "# Iterable과 Iterator\n",
    "\n",
    "- **Iterable**\n",
    "    - 여러개의 데이터를 하나씩 또는 한 단위씩 제공하는 객체.\n",
    "        - 다음 작업을 요청하면 값을 제공하며 for in 문에서 사용할 수 있다.\n",
    "    - Iterator객체를 반환하는 `__iter__()` 특수 메소드를 정의해야 한다.\n",
    "        - `__iter__()`는 `iter(Iterable)` 내장함수에 의해 호출된다. \n",
    "- **Iterator**\n",
    "    - 자신을 생성한 Iterable의 값들을 하나씩 또는 한 단위씩 제공하는 객체\n",
    "    - Iterable의 값을 제공하는 `__next__()` 특수 메소드를 정의한다.\n",
    "        - `__next__()` 는 `next(Iterator)` 내정함수에 의해 호출된다.\n",
    "        - 더 이상 제공할 값이 없을 경우 **StopIteration** Exception을 발생시켜야 한다."
   ]
  },
  {
   "cell_type": "code",
   "execution_count": 3,
   "id": "273cec67",
   "metadata": {},
   "outputs": [
    {
     "name": "stdout",
     "output_type": "stream",
     "text": [
      "<class 'list_iterator'>\n"
     ]
    }
   ],
   "source": [
    "# 리스트, 튜플, 셋, 문자열, ... ===> iterable 타입\n",
    "my_list = [1, 10, 100]  #iterable -> iterator를 제공.\n",
    "# my_list_iterator = my_list.__iter__()\n",
    "my_list_iterator = iter(my_list)  #iter() 가 my_list.__iter__() 대신 호출\n",
    "print(type(my_list_iterator))"
   ]
  },
  {
   "cell_type": "code",
   "execution_count": 4,
   "id": "8475314e",
   "metadata": {},
   "outputs": [
    {
     "name": "stdout",
     "output_type": "stream",
     "text": [
      "1\n"
     ]
    }
   ],
   "source": [
    "# iterator에게 다음값 요청. -> next(iterator)\n",
    "v1 = next(my_list_iterator)\n",
    "print(v1)"
   ]
  },
  {
   "cell_type": "code",
   "execution_count": 5,
   "id": "57fb5a5b",
   "metadata": {},
   "outputs": [
    {
     "name": "stdout",
     "output_type": "stream",
     "text": [
      "10\n"
     ]
    }
   ],
   "source": [
    "v2 = next(my_list_iterator)\n",
    "print(v2)"
   ]
  },
  {
   "cell_type": "code",
   "execution_count": 6,
   "id": "c7d5c4b6",
   "metadata": {
    "slideshow": {
     "slide_type": "fragment"
    }
   },
   "outputs": [
    {
     "name": "stdout",
     "output_type": "stream",
     "text": [
      "100\n"
     ]
    }
   ],
   "source": [
    "v3 = next(my_list_iterator)\n",
    "print(v3)"
   ]
  },
  {
   "cell_type": "code",
   "execution_count": 7,
   "id": "74f65f10",
   "metadata": {},
   "outputs": [
    {
     "ename": "StopIteration",
     "evalue": "",
     "output_type": "error",
     "traceback": [
      "\u001b[1;31m---------------------------------------------------------------------------\u001b[0m",
      "\u001b[1;31mStopIteration\u001b[0m                             Traceback (most recent call last)",
      "Cell \u001b[1;32mIn[7], line 1\u001b[0m\n\u001b[1;32m----> 1\u001b[0m \u001b[38;5;28;43mnext\u001b[39;49m\u001b[43m(\u001b[49m\u001b[43mmy_list_iterator\u001b[49m\u001b[43m)\u001b[49m\n",
      "\u001b[1;31mStopIteration\u001b[0m: "
     ]
    }
   ],
   "source": [
    "next(my_list_iterator) #더이상 제공할 값이 없으면 StopIteration  Exception 발생."
   ]
  },
  {
   "cell_type": "code",
   "execution_count": 8,
   "id": "ab411aaa",
   "metadata": {},
   "outputs": [
    {
     "name": "stdout",
     "output_type": "stream",
     "text": [
      "1\n",
      "10\n",
      "100\n"
     ]
    }
   ],
   "source": [
    "# 반복문\n",
    "# 1. iterator를 생성\n",
    "my_iterator = iter(my_list)\n",
    "# 2. 반복\n",
    "while True:\n",
    "    try:\n",
    "        value = next(my_iterator)\n",
    "        print(value)\n",
    "    except StopIteration:\n",
    "        break #더이상 다음값이 없으면 반복문을 빠져나온다."
   ]
  },
  {
   "cell_type": "code",
   "execution_count": 9,
   "id": "e9fedeca",
   "metadata": {},
   "outputs": [
    {
     "name": "stdout",
     "output_type": "stream",
     "text": [
      "1\n",
      "10\n",
      "100\n"
     ]
    }
   ],
   "source": [
    "for value in my_list:\n",
    "    print(value)"
   ]
  },
  {
   "cell_type": "markdown",
   "id": "ad311a49",
   "metadata": {
    "slideshow": {
     "slide_type": "subslide"
    }
   },
   "source": [
    "## for in 문 Iterable의 값을 순환반복하는 과정\n",
    "\n",
    "1. 반복 조회할 iterable객체의 __iter__() 를 호출 하여 Iterator를 구한다.\n",
    "1. 매 반복마다 Iterator의 __next__() 를 호출하여 다음 원소를 조회한다.\n",
    "1. 모든 원소들이 다 제공해 StopIteration Exception이 발생하면 반복문을 멈추고 빠져나온다."
   ]
  },
  {
   "cell_type": "code",
   "execution_count": 12,
   "id": "789ac468",
   "metadata": {},
   "outputs": [],
   "source": [
    "# Iterable -> __iter__() 를 구현\n",
    "class MyIterable:\n",
    "    \n",
    "    def __init__(self, *args):\n",
    "        # *args: 제공해줄 원소들을 가변인자로 받는다.\n",
    "        self.values = args\n",
    "        \n",
    "    def __iter__(self):\n",
    "        # Iterator 객체를 생성해서 반환\n",
    "        return MyIterator(self.values)"
   ]
  },
  {
   "cell_type": "code",
   "execution_count": 22,
   "id": "df3a0210",
   "metadata": {},
   "outputs": [],
   "source": [
    "class MyIterator:\n",
    "    \n",
    "    def __init__(self, values):\n",
    "        self.values = values\n",
    "        self.index = 0 # 다음값 요청을 받을때 제공할 값의 index\n",
    "        \n",
    "    def __next__(self):\n",
    "        # 자기를 생성한 Iterable의 원소를 하나씩 제공.\n",
    "        # 더이상 제공할 값이 없으면 StopIteration Exception 발생\n",
    "        \n",
    "        try:\n",
    "            ret_value = self.values[self.index]\n",
    "            self.index += 1\n",
    "            return ret_value\n",
    "        except:\n",
    "            raise StopIteration(f\"{self.index}는 없습니다.\")"
   ]
  },
  {
   "cell_type": "code",
   "execution_count": 23,
   "id": "b15276ab",
   "metadata": {
    "collapsed": true
   },
   "outputs": [
    {
     "data": {
      "text/plain": [
       "1"
      ]
     },
     "execution_count": 23,
     "metadata": {},
     "output_type": "execute_result"
    }
   ],
   "source": [
    "m = MyIterable(1, 2, 3, 4, 5, 6, 7)\n",
    "iterator = iter(m)\n",
    "next(iterator)"
   ]
  },
  {
   "cell_type": "code",
   "execution_count": 30,
   "id": "d632c7f9",
   "metadata": {
    "collapsed": true
   },
   "outputs": [
    {
     "ename": "StopIteration",
     "evalue": "7는 없습니다.",
     "output_type": "error",
     "traceback": [
      "\u001b[1;31m---------------------------------------------------------------------------\u001b[0m",
      "\u001b[1;31mIndexError\u001b[0m                                Traceback (most recent call last)",
      "Cell \u001b[1;32mIn[22], line 12\u001b[0m, in \u001b[0;36mMyIterator.__next__\u001b[1;34m(self)\u001b[0m\n\u001b[0;32m     11\u001b[0m \u001b[38;5;28;01mtry\u001b[39;00m:\n\u001b[1;32m---> 12\u001b[0m     ret_value \u001b[38;5;241m=\u001b[39m \u001b[38;5;28;43mself\u001b[39;49m\u001b[38;5;241;43m.\u001b[39;49m\u001b[43mvalues\u001b[49m\u001b[43m[\u001b[49m\u001b[38;5;28;43mself\u001b[39;49m\u001b[38;5;241;43m.\u001b[39;49m\u001b[43mindex\u001b[49m\u001b[43m]\u001b[49m\n\u001b[0;32m     13\u001b[0m     \u001b[38;5;28mself\u001b[39m\u001b[38;5;241m.\u001b[39mindex \u001b[38;5;241m+\u001b[39m\u001b[38;5;241m=\u001b[39m \u001b[38;5;241m1\u001b[39m\n",
      "\u001b[1;31mIndexError\u001b[0m: tuple index out of range",
      "\nDuring handling of the above exception, another exception occurred:\n",
      "\u001b[1;31mStopIteration\u001b[0m                             Traceback (most recent call last)",
      "Cell \u001b[1;32mIn[30], line 1\u001b[0m\n\u001b[1;32m----> 1\u001b[0m \u001b[38;5;28;43mnext\u001b[39;49m\u001b[43m(\u001b[49m\u001b[43miterator\u001b[49m\u001b[43m)\u001b[49m\n",
      "Cell \u001b[1;32mIn[22], line 16\u001b[0m, in \u001b[0;36mMyIterator.__next__\u001b[1;34m(self)\u001b[0m\n\u001b[0;32m     14\u001b[0m     \u001b[38;5;28;01mreturn\u001b[39;00m ret_value\n\u001b[0;32m     15\u001b[0m \u001b[38;5;28;01mexcept\u001b[39;00m:\n\u001b[1;32m---> 16\u001b[0m     \u001b[38;5;28;01mraise\u001b[39;00m \u001b[38;5;167;01mStopIteration\u001b[39;00m(\u001b[38;5;124mf\u001b[39m\u001b[38;5;124m\"\u001b[39m\u001b[38;5;132;01m{\u001b[39;00m\u001b[38;5;28mself\u001b[39m\u001b[38;5;241m.\u001b[39mindex\u001b[38;5;132;01m}\u001b[39;00m\u001b[38;5;124m는 없습니다.\u001b[39m\u001b[38;5;124m\"\u001b[39m)\n",
      "\u001b[1;31mStopIteration\u001b[0m: 7는 없습니다."
     ]
    }
   ],
   "source": [
    "next(iterator)"
   ]
  },
  {
   "cell_type": "code",
   "execution_count": 31,
   "id": "516d99c0",
   "metadata": {
    "collapsed": true
   },
   "outputs": [
    {
     "name": "stdout",
     "output_type": "stream",
     "text": [
      "1\n",
      "2\n",
      "3\n",
      "4\n",
      "5\n",
      "6\n",
      "7\n"
     ]
    }
   ],
   "source": [
    "for v in m:\n",
    "    print(v)"
   ]
  },
  {
   "cell_type": "markdown",
   "id": "5323e175",
   "metadata": {
    "slideshow": {
     "slide_type": "subslide"
    }
   },
   "source": [
    "## Generator\n",
    "- Iterable과 Iterator를 합친 기능을 함수 형태로 구현(정의)한 것을 generator라고 한다.\n",
    "    - 제공할 값들을 미리 메모리에 올리지 않고 로직을 통해 값들을 호출자가 필요할 때 마다 제공할 때 유용하다.\n",
    "- 제너레이터 함수에서 값을 반환\n",
    "    - **yield 반환값**\n",
    "        - 반환값을 가지고 호출한 곳으로 돌아간다. 현재 상태(돌아가기 직전 상태)를 기억하면서 돌아간다. \n",
    "            - 값을 반환하고 일시정지 상태라고 생각하면 된다.\n",
    "        - 다음 실행시점에 yield 구문 다음 부터 실행된다.\n",
    "    - **return \\[valuye\\]**\n",
    "        - generator 함수 종료\n",
    "        - StopIteration 발생시킨다.\n",
    "- Generator 의 원소 조회\n",
    "    - next(Generator객체)"
   ]
  },
  {
   "cell_type": "code",
   "execution_count": 1,
   "id": "4eb1895b",
   "metadata": {},
   "outputs": [],
   "source": [
    "def test_generator(num=0):\n",
    "    print(f\"1. {num}\")\n",
    "    num += 10\n",
    "    yield num\n",
    "    print(f\"2. {num}\")\n",
    "    num += 20\n",
    "    yield num\n",
    "    print(f\"3. {num}\")\n",
    "    num += 30\n",
    "    yield num"
   ]
  },
  {
   "cell_type": "code",
   "execution_count": 2,
   "id": "b9bc53db",
   "metadata": {},
   "outputs": [
    {
     "name": "stdout",
     "output_type": "stream",
     "text": [
      "<class 'generator'>\n"
     ]
    }
   ],
   "source": [
    "# generator객체를 생성\n",
    "gen = test_generator(100)\n",
    "print(type(gen))"
   ]
  },
  {
   "cell_type": "code",
   "execution_count": 3,
   "id": "6e5ec75b",
   "metadata": {},
   "outputs": [
    {
     "name": "stdout",
     "output_type": "stream",
     "text": [
      "1. 100\n",
      "110\n"
     ]
    }
   ],
   "source": [
    "# generator 호출 -> next(generator)\n",
    "print(next(gen))  # yield를 만날때 까지 실행."
   ]
  },
  {
   "cell_type": "code",
   "execution_count": 4,
   "id": "77d347bc",
   "metadata": {},
   "outputs": [
    {
     "name": "stdout",
     "output_type": "stream",
     "text": [
      "2. 110\n",
      "130\n"
     ]
    }
   ],
   "source": [
    "print(next(gen))"
   ]
  },
  {
   "cell_type": "code",
   "execution_count": 5,
   "id": "867e3334",
   "metadata": {},
   "outputs": [
    {
     "name": "stdout",
     "output_type": "stream",
     "text": [
      "3. 130\n",
      "160\n"
     ]
    }
   ],
   "source": [
    "print(next(gen))"
   ]
  },
  {
   "cell_type": "code",
   "execution_count": 6,
   "id": "cc4ca1ed",
   "metadata": {},
   "outputs": [
    {
     "ename": "StopIteration",
     "evalue": "",
     "output_type": "error",
     "traceback": [
      "\u001b[1;31m---------------------------------------------------------------------------\u001b[0m",
      "\u001b[1;31mStopIteration\u001b[0m                             Traceback (most recent call last)",
      "Cell \u001b[1;32mIn[6], line 1\u001b[0m\n\u001b[1;32m----> 1\u001b[0m \u001b[38;5;28mprint\u001b[39m(\u001b[38;5;28;43mnext\u001b[39;49m\u001b[43m(\u001b[49m\u001b[43mgen\u001b[49m\u001b[43m)\u001b[49m)\n",
      "\u001b[1;31mStopIteration\u001b[0m: "
     ]
    }
   ],
   "source": [
    "print(next(gen))"
   ]
  },
  {
   "cell_type": "code",
   "execution_count": 48,
   "id": "4ff84079",
   "metadata": {
    "collapsed": true
   },
   "outputs": [
    {
     "name": "stdout",
     "output_type": "stream",
     "text": [
      "1. 300\n",
      "310\n",
      "2. 310\n",
      "330\n",
      "3. 330\n",
      "360\n"
     ]
    }
   ],
   "source": [
    "for v in test_generator(300):\n",
    "    print(v)"
   ]
  },
  {
   "cell_type": "code",
   "execution_count": 51,
   "id": "582dfd60",
   "metadata": {},
   "outputs": [],
   "source": [
    "# range() 함수를 generator로 구현\n",
    "# range(시작 정수, 종료 정수, 간격) -> 시작정수 ~ 종료 정수까지 간격만큼 더한 값들을 하나씩 제공.\n",
    "def my_range(start, stop, step=1):\n",
    "    while True:\n",
    "        if start > stop:\n",
    "            break\n",
    "        yield start\n",
    "        start += step"
   ]
  },
  {
   "cell_type": "code",
   "execution_count": 52,
   "id": "239ff0e5",
   "metadata": {},
   "outputs": [
    {
     "name": "stdout",
     "output_type": "stream",
     "text": [
      "1\n",
      "4\n",
      "7\n",
      "10\n"
     ]
    }
   ],
   "source": [
    "m = my_range(1, 10, 3)\n",
    "for v in m:\n",
    "    print(v)  # 1, 4, 7,"
   ]
  },
  {
   "cell_type": "code",
   "execution_count": 54,
   "id": "eb507e0c",
   "metadata": {},
   "outputs": [],
   "source": [
    "def my_range2(start, stop=None, step=1):\n",
    "    if stop == None:\n",
    "        stop = start\n",
    "        start = 0\n",
    "    while True:\n",
    "        if start > stop:\n",
    "            break\n",
    "        yield start\n",
    "        start += step"
   ]
  },
  {
   "cell_type": "code",
   "execution_count": 55,
   "id": "bd4f2e42",
   "metadata": {
    "collapsed": true
   },
   "outputs": [
    {
     "name": "stdout",
     "output_type": "stream",
     "text": [
      "0\n",
      "1\n",
      "2\n",
      "3\n",
      "4\n",
      "5\n",
      "6\n",
      "7\n",
      "8\n",
      "9\n",
      "10\n"
     ]
    }
   ],
   "source": [
    "for i in my_range2(10):\n",
    "    print(i)"
   ]
  },
  {
   "cell_type": "code",
   "execution_count": 56,
   "id": "08970ecf",
   "metadata": {},
   "outputs": [],
   "source": [
    "def my_range3(start, end, step=1):\n",
    "    value = start\n",
    "    if start < end and step > 0:\n",
    "        while value <= end:\n",
    "            yield value\n",
    "            value += step\n",
    "    elif start > end and step < 0:\n",
    "        while value >= end:\n",
    "            yield value\n",
    "            value += step        \n",
    "    return"
   ]
  },
  {
   "cell_type": "code",
   "execution_count": 58,
   "id": "7ba3530f",
   "metadata": {},
   "outputs": [
    {
     "name": "stdout",
     "output_type": "stream",
     "text": [
      "10\n",
      "8\n",
      "6\n",
      "4\n",
      "2\n"
     ]
    }
   ],
   "source": [
    "for v in my_range3(10, 1, -2):\n",
    "    print(v)"
   ]
  },
  {
   "cell_type": "code",
   "execution_count": null,
   "id": "4df6590b",
   "metadata": {
    "slideshow": {
     "slide_type": "fragment"
    }
   },
   "outputs": [],
   "source": []
  },
  {
   "cell_type": "markdown",
   "id": "ae6dec96",
   "metadata": {
    "slideshow": {
     "slide_type": "subslide"
    }
   },
   "source": [
    "### Generator 표현식 (Generator Comprehension)\n",
    "- 컴프리헨션구문을 **( )** 로 묶어 표현한다.\n",
    "- 컴프리헨션 구문안의 Iterable의 원소들을 처리해서 제공하는 generator 표현식\n",
    "- Generator Comprehension 은 반복 가능한 객체만 만들고 실제 원소에 대한 요청이 왔을 때 값을 생성한다.\n",
    "    - 메모리 효율이 다른 Comprehension들 보다 좋다."
   ]
  },
  {
   "cell_type": "code",
   "execution_count": 8,
   "id": "45a6cc68",
   "metadata": {},
   "outputs": [
    {
     "data": {
      "text/plain": [
       "[1, 2, 3, 4, 5, 6, 7, 8, 9, 10]"
      ]
     },
     "execution_count": 8,
     "metadata": {},
     "output_type": "execute_result"
    }
   ],
   "source": [
    "l = [v for v in range(1, 11) ]\n",
    "l"
   ]
  },
  {
   "cell_type": "code",
   "execution_count": 7,
   "id": "ffd99d57",
   "metadata": {},
   "outputs": [
    {
     "data": {
      "text/plain": [
       "generator"
      ]
     },
     "execution_count": 7,
     "metadata": {},
     "output_type": "execute_result"
    }
   ],
   "source": [
    "gen = (   v*100 for v in range(1, 11)  if v % 2 == 0  )\n",
    "type(gen)"
   ]
  },
  {
   "cell_type": "code",
   "execution_count": 63,
   "id": "aebec468",
   "metadata": {},
   "outputs": [
    {
     "name": "stdout",
     "output_type": "stream",
     "text": [
      "200\n",
      "400\n",
      "600\n",
      "800\n",
      "1000\n"
     ]
    }
   ],
   "source": [
    "for v in gen:\n",
    "    print(v)"
   ]
  },
  {
   "cell_type": "code",
   "execution_count": null,
   "id": "3addeef4",
   "metadata": {},
   "outputs": [],
   "source": [
    "1 ~ 10"
   ]
  },
  {
   "cell_type": "code",
   "execution_count": null,
   "id": "f9c36d47",
   "metadata": {},
   "outputs": [],
   "source": [
    "def test():\n",
    "    for i in range(1, 11):\n",
    "        yield i"
   ]
  },
  {
   "cell_type": "markdown",
   "id": "929f0230",
   "metadata": {
    "slideshow": {
     "slide_type": "slide"
    }
   },
   "source": [
    "# Decorator (장식자)\n",
    "\n",
    "## 파이썬에서 함수는 일급 시민(first class citizen) 이다.\n",
    "- 일급 시민 (first class citizen) 이란\n",
    "    1. 변수에 대입 할 수 있다.\n",
    "    2. Argument로 사용할 수 있다.\n",
    "    3. 함수나 메소드의 반환값으로 사용 할 수 있다.\n",
    "    "
   ]
  },
  {
   "cell_type": "code",
   "execution_count": null,
   "id": "ead85978",
   "metadata": {},
   "outputs": [],
   "source": [
    "def test():\n",
    "    pass\n",
    "\n",
    "a = test()\n",
    "a = test"
   ]
  },
  {
   "cell_type": "markdown",
   "id": "b46580f2",
   "metadata": {
    "slideshow": {
     "slide_type": "subslide"
    }
   },
   "source": [
    "## 지역함수(Local Function) 란\n",
    "- 함수 안에 정의 한 함수를 말한다.\n",
    "    - 중첩 함수(Nested function) 이라고도 한다.\n",
    "- 지역함수가 선언된 함수를 **outer function** 지역함수는 **inner function** 이라고 한다. \n",
    "- inner function은 outer function의 지역변수를 자유롭게 사용할 수 있다.\n",
    "- 기본적으로 inner function은 outer function 안에서만 호출 할 수있다.\n",
    "- 단 outer function이 정의된 inner function을 return value로 반환하면 밖에서도 호출 할 수 있다."
   ]
  },
  {
   "cell_type": "code",
   "execution_count": 9,
   "id": "1cc4f460",
   "metadata": {},
   "outputs": [],
   "source": [
    "def outer():\n",
    "    a = 10  # outer의 지역변수\n",
    "    def inner():\n",
    "        print(a) #inner 함수에서 outer 함수의 정의된 변수를 자유롭게 사용할 수 있다.\n",
    "    inner()\n",
    "    inner()\n",
    "    print('다른일')\n",
    "    inner()\n",
    "    return inner"
   ]
  },
  {
   "cell_type": "code",
   "execution_count": 10,
   "id": "a352e770",
   "metadata": {},
   "outputs": [
    {
     "name": "stdout",
     "output_type": "stream",
     "text": [
      "10\n",
      "10\n",
      "다른일\n",
      "10\n"
     ]
    }
   ],
   "source": [
    "f = outer()"
   ]
  },
  {
   "cell_type": "code",
   "execution_count": 11,
   "id": "f05f6442",
   "metadata": {},
   "outputs": [
    {
     "name": "stdout",
     "output_type": "stream",
     "text": [
      "10\n"
     ]
    }
   ],
   "source": [
    "f()"
   ]
  },
  {
   "cell_type": "markdown",
   "id": "766a1432",
   "metadata": {
    "slideshow": {
     "slide_type": "fragment"
    }
   },
   "source": [
    "## Closure (클로저)\n",
    "- 지역함수(Inner function)를 정의한 Outer function이 종료되어도 지역함수가 종료될 때까지 outer function의 지역변수들은 메모리에 계속 유지 되어 inner function에서 사용할 수 있다. \n",
    "- 파이썬 실행환경은 inner function이 종료될때 까지 outer function의 지역변수들(parameter포함)을 사용할 수 있도록 저장하는 공간이 **closure**이다."
   ]
  },
  {
   "cell_type": "markdown",
   "id": "b58a1e1d",
   "metadata": {
    "slideshow": {
     "slide_type": "slide"
    }
   },
   "source": [
    "## Decorator (장식자)\n",
    "- 기존의 함수를 수정하지 않고 그 함수 전/후에 실행되는 구문을 추가할 수 있도록 하는 함수를 말한다.\n",
    "- 기존 함수코드를 수정하지 않고 새로운 기능의 추가를 쉽게 해준다.\n",
    "- 추가기능을 다수의 함수에 적용할 수 있다.\n",
    "- 함수의 전/후처리 하는 구문을 **필요하면 붙이고 필요 없으면 쉽게 제거할 수 있다**\n",
    "\n",
    "![개요](images/ch10_01.png)"
   ]
  },
  {
   "cell_type": "code",
   "execution_count": 26,
   "id": "26f54e5b",
   "metadata": {},
   "outputs": [],
   "source": [
    "\n",
    "def a():\n",
    "#     print(\"-\"*50)\n",
    "    print(\"안녕하세요\")\n",
    "#     print(\"-\"*50)\n",
    "    \n",
    "def b():\n",
    "#     print(\"-\"*50)\n",
    "    print(\"반갑습니다.\")\n",
    "#     print(\"-\"*50)\n",
    "    \n",
    "def c():\n",
    "#     print(\"-\"*50)\n",
    "    print(\"Hello\")\n",
    "#     print(\"-\"*50)"
   ]
  },
  {
   "cell_type": "code",
   "execution_count": 22,
   "id": "3cf13db1",
   "metadata": {},
   "outputs": [
    {
     "name": "stdout",
     "output_type": "stream",
     "text": [
      "--------------------------------------------------\n",
      "안녕하세요\n",
      "--------------------------------------------------\n"
     ]
    }
   ],
   "source": [
    "# print(\"-\"*50)\n",
    "a()\n",
    "# print(\"-\"*50)"
   ]
  },
  {
   "cell_type": "code",
   "execution_count": 23,
   "id": "5e348941",
   "metadata": {},
   "outputs": [
    {
     "name": "stdout",
     "output_type": "stream",
     "text": [
      "--------------------------------------------------\n",
      "반갑습니다.\n",
      "--------------------------------------------------\n"
     ]
    }
   ],
   "source": [
    "# print(\"-\"*50)\n",
    "b()\n",
    "# print(\"-\"*50)"
   ]
  },
  {
   "cell_type": "code",
   "execution_count": null,
   "id": "5c7f5353",
   "metadata": {
    "slideshow": {
     "slide_type": "fragment"
    }
   },
   "outputs": [],
   "source": [
    "print(\"-\"*50)\n",
    "a()\n",
    "print(\"-\"*50)"
   ]
  },
  {
   "cell_type": "code",
   "execution_count": 28,
   "id": "a6d037b1",
   "metadata": {},
   "outputs": [],
   "source": [
    "def dash_decorator(func):\n",
    "\n",
    "    print(\"-\"*50)\n",
    "    func()\n",
    "    print(\"-\"*50)"
   ]
  },
  {
   "cell_type": "code",
   "execution_count": 32,
   "id": "ac2a06b9",
   "metadata": {},
   "outputs": [
    {
     "name": "stdout",
     "output_type": "stream",
     "text": [
      "안녕하세요\n"
     ]
    }
   ],
   "source": [
    "a()"
   ]
  },
  {
   "cell_type": "code",
   "execution_count": 33,
   "id": "a56f0a40",
   "metadata": {},
   "outputs": [
    {
     "name": "stdout",
     "output_type": "stream",
     "text": [
      "--------------------------------------------------\n",
      "안녕하세요\n",
      "--------------------------------------------------\n"
     ]
    }
   ],
   "source": [
    "dash_decorator(a)"
   ]
  },
  {
   "cell_type": "code",
   "execution_count": 30,
   "id": "3d2b235b",
   "metadata": {},
   "outputs": [
    {
     "name": "stdout",
     "output_type": "stream",
     "text": [
      "--------------------------------------------------\n",
      "반갑습니다.\n",
      "--------------------------------------------------\n"
     ]
    }
   ],
   "source": [
    "dash_decorator(b)"
   ]
  },
  {
   "cell_type": "code",
   "execution_count": 31,
   "id": "16806efc",
   "metadata": {},
   "outputs": [
    {
     "name": "stdout",
     "output_type": "stream",
     "text": [
      "--------------------------------------------------\n",
      "Hello\n",
      "--------------------------------------------------\n"
     ]
    }
   ],
   "source": [
    "dash_decorator(c)"
   ]
  },
  {
   "cell_type": "markdown",
   "id": "aaf6447c",
   "metadata": {
    "slideshow": {
     "slide_type": "subslide"
    }
   },
   "source": [
    "### Decorator 구현 및 사용\n",
    "\n",
    "- 구현\n",
    "    1. 전/후처리 기능을 추가할 함수를 parameter로 받는다.\n",
    "    2. 그 함수 호출 전후로 추가할 기능을 작성한 **지역함수**를 정의한다.\n",
    "    3. `2`번의 함수를 반환한다.\n",
    "```python\n",
    "def decorator(func):\n",
    "    def wrapper([parameter]): # decorator 적용할 함수에 파라미터를 전달할 경우 parameter 변수들을 선언\n",
    "        # 전처리\n",
    "        func()\n",
    "        # 후처리\n",
    "    return wrapper \n",
    "```\n",
    "\n",
    "- 호출\n",
    "    - `@decorator이름`를 적용하고자하는 함수 선언전에 기술한다.\n",
    "```python\n",
    "@decorator\n",
    "def caller([parameter]):\n",
    "    ...\n",
    "```"
   ]
  },
  {
   "cell_type": "code",
   "execution_count": 34,
   "id": "33c7715a",
   "metadata": {},
   "outputs": [],
   "source": [
    "def dash_decorator(func:\"decorator를 적용할 함수\"):\n",
    "    \n",
    "    def wrapper():\n",
    "        print(\"-\"*50) # 전처리\n",
    "        func()  \n",
    "        print(\"-\"*50) # 후처리\n",
    "        \n",
    "    return wrapper"
   ]
  },
  {
   "cell_type": "code",
   "execution_count": 49,
   "id": "a7e897d6",
   "metadata": {},
   "outputs": [],
   "source": [
    "def shap_decorator(func):\n",
    "    def wrapper():\n",
    "        print(\"#\"*50) # 전처리\n",
    "        func()  \n",
    "        print(\"#\"*50) # 후처리\n",
    "        \n",
    "    return wrapper"
   ]
  },
  {
   "cell_type": "code",
   "execution_count": 36,
   "id": "cf875e73",
   "metadata": {},
   "outputs": [
    {
     "name": "stdout",
     "output_type": "stream",
     "text": [
      "--------------------------------------------------\n",
      "안녕하세요\n",
      "--------------------------------------------------\n"
     ]
    }
   ],
   "source": [
    "f = dash_decorator(a)\n",
    "# print(f)\n",
    "f()"
   ]
  },
  {
   "cell_type": "code",
   "execution_count": 37,
   "id": "3d25e748",
   "metadata": {},
   "outputs": [
    {
     "name": "stdout",
     "output_type": "stream",
     "text": [
      "--------------------------------------------------\n",
      "반갑습니다.\n",
      "--------------------------------------------------\n"
     ]
    }
   ],
   "source": [
    "f2 = dash_decorator(b)\n",
    "f2()"
   ]
  },
  {
   "cell_type": "code",
   "execution_count": 57,
   "id": "bf611ced",
   "metadata": {},
   "outputs": [],
   "source": [
    "# @dash_decorator\n",
    "@shap_decorator\n",
    "def hello():\n",
    "    print(\"안녕하십니까?\")\n",
    "    print(\"반갑습니다.\")    "
   ]
  },
  {
   "cell_type": "code",
   "execution_count": 58,
   "id": "984f6cac",
   "metadata": {},
   "outputs": [
    {
     "name": "stdout",
     "output_type": "stream",
     "text": [
      "##################################################\n",
      "안녕하십니까?\n",
      "반갑습니다.\n",
      "##################################################\n"
     ]
    }
   ],
   "source": [
    "hello()"
   ]
  },
  {
   "cell_type": "code",
   "execution_count": 40,
   "id": "51dc2309",
   "metadata": {},
   "outputs": [
    {
     "name": "stdout",
     "output_type": "stream",
     "text": [
      "--------------------------------------------------\n",
      "안녕하십니까?\n",
      "반갑습니다.\n",
      "--------------------------------------------------\n"
     ]
    }
   ],
   "source": [
    "# func = dash_decorator(hello)\n",
    "# func()"
   ]
  },
  {
   "cell_type": "code",
   "execution_count": 55,
   "id": "2a58098d",
   "metadata": {},
   "outputs": [],
   "source": [
    "# @dash_decorator\n",
    "# @shap_decorator\n",
    "def greeting():\n",
    "    \n",
    "    print(\"Hello\")\n",
    "    print(\"Hi!\")"
   ]
  },
  {
   "cell_type": "code",
   "execution_count": 56,
   "id": "02340cb1",
   "metadata": {},
   "outputs": [
    {
     "name": "stdout",
     "output_type": "stream",
     "text": [
      "Hello\n",
      "Hi!\n"
     ]
    }
   ],
   "source": [
    "greeting()"
   ]
  },
  {
   "cell_type": "code",
   "execution_count": 65,
   "id": "0c26f72f",
   "metadata": {},
   "outputs": [],
   "source": [
    "def shap_decorator2(func):\n",
    "    def wrapper(name):\n",
    "        print(\"#\"*50) # 전처리\n",
    "        func(name)  \n",
    "        print(\"#\"*50) # 후처리\n",
    "        \n",
    "    return wrapper"
   ]
  },
  {
   "cell_type": "code",
   "execution_count": 71,
   "id": "948af81e",
   "metadata": {},
   "outputs": [],
   "source": [
    "@shap_decorator2\n",
    "def greeting2(name):\n",
    "    print(f\"{name}님 안녕하세요.\")"
   ]
  },
  {
   "cell_type": "code",
   "execution_count": 72,
   "id": "4e81e8fd",
   "metadata": {},
   "outputs": [
    {
     "name": "stdout",
     "output_type": "stream",
     "text": [
      "홍길동님 안녕하세요.\n"
     ]
    }
   ],
   "source": [
    "greeting2(\"홍길동\")"
   ]
  },
  {
   "cell_type": "code",
   "execution_count": 69,
   "id": "bcac596c",
   "metadata": {},
   "outputs": [],
   "source": [
    "func = shap_decorator2(greeting2)\n",
    "func(\"홍길동\")"
   ]
  },
  {
   "cell_type": "code",
   "execution_count": null,
   "id": "92558e7d",
   "metadata": {},
   "outputs": [],
   "source": []
  },
  {
   "cell_type": "markdown",
   "id": "6121017a",
   "metadata": {
    "slideshow": {
     "slide_type": "skip"
    }
   },
   "source": [
    "# TODO\n",
    "함수가 실행된 실행시간(초)을 재는 decorator"
   ]
  },
  {
   "cell_type": "code",
   "execution_count": 78,
   "id": "82887eb1",
   "metadata": {},
   "outputs": [],
   "source": [
    "# a = time.perf_counter()"
   ]
  },
  {
   "cell_type": "code",
   "execution_count": 80,
   "id": "0f677770",
   "metadata": {},
   "outputs": [
    {
     "data": {
      "text/plain": [
       "9.752616000012495"
      ]
     },
     "execution_count": 80,
     "metadata": {},
     "output_type": "execute_result"
    }
   ],
   "source": [
    "# b = time.perf_counter()\n",
    "# b - a"
   ]
  },
  {
   "cell_type": "code",
   "execution_count": 74,
   "id": "97f9a97b",
   "metadata": {},
   "outputs": [
    {
     "name": "stdout",
     "output_type": "stream",
     "text": [
      "1681355825.0676622 초\n"
     ]
    }
   ],
   "source": [
    "import time\n",
    "\n",
    "a = time.time()\n",
    "print(a, \"초\") # 1970년 1월 1일 0시 0분 0초 부터 time.time()이 실행된 시간까지를 초로 계산해서 리턴."
   ]
  },
  {
   "cell_type": "code",
   "execution_count": 75,
   "id": "b6bda3b0",
   "metadata": {},
   "outputs": [
    {
     "data": {
      "text/plain": [
       "1681355907.4963794"
      ]
     },
     "execution_count": 75,
     "metadata": {},
     "output_type": "execute_result"
    }
   ],
   "source": [
    "b = time.time()\n",
    "b"
   ]
  },
  {
   "cell_type": "code",
   "execution_count": 77,
   "id": "24d1c99d",
   "metadata": {},
   "outputs": [
    {
     "data": {
      "text/plain": [
       "1.373811952273051"
      ]
     },
     "execution_count": 77,
     "metadata": {},
     "output_type": "execute_result"
    }
   ],
   "source": [
    "(b - a)/60"
   ]
  },
  {
   "cell_type": "code",
   "execution_count": 83,
   "id": "367b1250",
   "metadata": {},
   "outputs": [
    {
     "name": "stdout",
     "output_type": "stream",
     "text": [
      "abc\n",
      "5.007514715194702\n"
     ]
    }
   ],
   "source": [
    "start = time.time()\n",
    "time.sleep(5) # (5초)\n",
    "print(\"abc\")\n",
    "print(time.time() - start)"
   ]
  },
  {
   "cell_type": "code",
   "execution_count": 96,
   "id": "c813d875",
   "metadata": {},
   "outputs": [],
   "source": [
    "# 함수 실행 시 걸린 시간을 체크하는 decorator\n",
    "import time\n",
    "def timechecker(func):\n",
    "    \n",
    "    def wrapper():\n",
    "        start = time.time()\n",
    "        func()\n",
    "        stop = time.time()\n",
    "        # 함수.__name__ : 함수이름\n",
    "        print(f'{func.__name__}() 걸린 시간: {stop-start:.3f} 초')\n",
    "    \n",
    "    return wrapper        "
   ]
  },
  {
   "cell_type": "code",
   "execution_count": 103,
   "id": "2a3ea6bb",
   "metadata": {},
   "outputs": [],
   "source": [
    "# @timechecker\n",
    "def func1():\n",
    "    time.sleep(1)\n",
    "    print('func1 실행')\n",
    "\n",
    "# @timechecker\n",
    "def func2():\n",
    "    time.sleep(1)\n",
    "#     print('func2 실행')\n",
    "\n",
    "# @timechecker \n",
    "def func3():\n",
    "    time.sleep(1)\n",
    "    print('func3 실행')"
   ]
  },
  {
   "cell_type": "code",
   "execution_count": 106,
   "id": "57b3cf43",
   "metadata": {},
   "outputs": [],
   "source": [
    "@timechecker\n",
    "def main():\n",
    "    func1()\n",
    "    func2()\n",
    "    func3()"
   ]
  },
  {
   "cell_type": "code",
   "execution_count": 107,
   "id": "8e32d842",
   "metadata": {},
   "outputs": [
    {
     "name": "stdout",
     "output_type": "stream",
     "text": [
      "func1 실행\n",
      "func3 실행\n",
      "main() 걸린 시간: 3.023 초\n"
     ]
    }
   ],
   "source": [
    "main()"
   ]
  },
  {
   "cell_type": "code",
   "execution_count": null,
   "id": "913ac8c6",
   "metadata": {},
   "outputs": [],
   "source": []
  },
  {
   "cell_type": "code",
   "execution_count": null,
   "id": "fd43ed7c",
   "metadata": {},
   "outputs": [],
   "source": []
  },
  {
   "cell_type": "code",
   "execution_count": null,
   "id": "22f52d36",
   "metadata": {
    "slideshow": {
     "slide_type": "skip"
    }
   },
   "outputs": [],
   "source": []
  }
 ],
 "metadata": {
  "kernelspec": {
   "display_name": "Python 3 (ipykernel)",
   "language": "python",
   "name": "python3"
  },
  "language_info": {
   "codemirror_mode": {
    "name": "ipython",
    "version": 3
   },
   "file_extension": ".py",
   "mimetype": "text/x-python",
   "name": "python",
   "nbconvert_exporter": "python",
   "pygments_lexer": "ipython3",
   "version": "3.10.9"
  },
  "toc": {
   "base_numbering": 1,
   "nav_menu": {},
   "number_sections": true,
   "sideBar": true,
   "skip_h1_title": false,
   "title_cell": "Table of Contents",
   "title_sidebar": "Contents",
   "toc_cell": false,
   "toc_position": {},
   "toc_section_display": true,
   "toc_window_display": false
  },
  "varInspector": {
   "cols": {
    "lenName": 16,
    "lenType": 16,
    "lenVar": 40
   },
   "kernels_config": {
    "python": {
     "delete_cmd_postfix": "",
     "delete_cmd_prefix": "del ",
     "library": "var_list.py",
     "varRefreshCmd": "print(var_dic_list())"
    },
    "r": {
     "delete_cmd_postfix": ") ",
     "delete_cmd_prefix": "rm(",
     "library": "var_list.r",
     "varRefreshCmd": "cat(var_dic_list()) "
    }
   },
   "types_to_exclude": [
    "module",
    "function",
    "builtin_function_or_method",
    "instance",
    "_Feature"
   ],
   "window_display": false
  },
  "vscode": {
   "interpreter": {
    "hash": "890e7ac6523e8dc3d01314e5dc0d3a4630fa6bb57ae728d75fb62fd058d8404d"
   }
  }
 },
 "nbformat": 4,
 "nbformat_minor": 5
}
