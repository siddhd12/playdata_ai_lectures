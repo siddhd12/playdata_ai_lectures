{
 "cells": [
  {
   "cell_type": "markdown",
   "id": "8c49cd8e",
   "metadata": {
    "slideshow": {
     "slide_type": "slide"
    }
   },
   "source": [
    "# 제어문(Control flow statement)\n",
    "기본적으로 프로그램은 순차구조를 가진다. 즉 작성한 순서대로 실행이 된다.  \n",
    "이런 실행흐름을 다른 순서로 제어하기 위한 구문을 만드는 문법이 제어문이다.  \n",
    "제어문은 **조건문** 과 **반복문** 두가지 문법이 있다.\n",
    "- 조건문\n",
    "    - if 문\n",
    "- 반복문\n",
    "    - while 문\n",
    "    - for in 문"
   ]
  },
  {
   "cell_type": "code",
   "execution_count": null,
   "id": "b315cc2a",
   "metadata": {},
   "outputs": [],
   "source": []
  },
  {
   "cell_type": "code",
   "execution_count": null,
   "id": "ff71ecd2",
   "metadata": {},
   "outputs": [],
   "source": []
  },
  {
   "cell_type": "code",
   "execution_count": null,
   "id": "b626be9d",
   "metadata": {},
   "outputs": [],
   "source": []
  },
  {
   "cell_type": "code",
   "execution_count": null,
   "id": "83c76465",
   "metadata": {},
   "outputs": [],
   "source": []
  },
  {
   "cell_type": "markdown",
   "id": "92c502ce",
   "metadata": {
    "slideshow": {
     "slide_type": "slide"
    }
   },
   "source": [
    "# 조건문/분기문 (conditional statement)\n",
    "- 프로그램이 명령문들을 실행하는 도중 특정 순서에서 **조건에 따라 흐름의 나눠져야 하는 경우 사용한다**\n",
    "- 파이썬은 조건문으로 **if문**이 있다.\n",
    "\n",
    "![조건문](images/ch03_01.png)\n",
    "\n",
    "<center>입력 받은 a 의 값이 0인지 여부에 따라 두가지 흐름으로 분기된다.</center>\n"
   ]
  },
  {
   "cell_type": "markdown",
   "id": "2a3c1835",
   "metadata": {
    "slideshow": {
     "slide_type": "subslide"
    }
   },
   "source": [
    "## 구문\n",
    "\n",
    "- 조건이 True일 경우만 특정 구문들을 실행 하는 조건문.\n",
    "```python\n",
    "if 조건:    # 조건은 bool 표현식을 기술한다. 조건선언 다음에 : 으로 선언해서 코드블록을 구분한다.\n",
    "    명령문1  # 조건이 True이면 실행할 구문들을 코드블럭에 기술한다.\n",
    "    명령문2  # 코드 블록은 들여쓰기를 이용해 묶어준다. 보통 공백 4칸으로 들여쓰기를 한다.\n",
    "    ...\n",
    "```\n",
    "> <b style='font-size:1.2em'>파이썬의 코드블록(code block)</b>  \n",
    "> 코드블록이란 여러개의 실행명령문들을 묶어놓은 것을 말한다. \n",
    "> 파이썬에서는 코드블록을 작성할 때 들여쓰기를 이용해 묶어준다. 같은 칸만큼 들여쓰기를 한 명령문들이 같은 블록으로 묶인다.\n",
    "> 들여쓰기는 관례적으로 공백 4칸을 사용한다. "
   ]
  },
  {
   "cell_type": "code",
   "execution_count": 8,
   "id": "a93430ce",
   "metadata": {},
   "outputs": [
    {
     "name": "stdout",
     "output_type": "stream",
     "text": [
      "정수 입력0\n",
      "영입니다 입력값은: 0\n"
     ]
    }
   ],
   "source": [
    "# 정수를 받는다\n",
    "# 받은 정수가 0이면 \"영입니다\"를 출력\n",
    "i=int(input(\"정수 입력\"))\n",
    "if(i==0):\n",
    "    print(\"영입니다. 입력값은: \"+ str(i))\n",
    "#if(i==0): print(\"영입니다. 입력값은: \"+ str(i))   <--이렇게 해도됨 하지만 별로 "
   ]
  },
  {
   "cell_type": "code",
   "execution_count": null,
   "id": "99f671f3",
   "metadata": {},
   "outputs": [],
   "source": []
  },
  {
   "cell_type": "code",
   "execution_count": null,
   "id": "d4562720",
   "metadata": {},
   "outputs": [],
   "source": []
  },
  {
   "cell_type": "code",
   "execution_count": null,
   "id": "57186983",
   "metadata": {},
   "outputs": [],
   "source": []
  },
  {
   "cell_type": "code",
   "execution_count": null,
   "id": "160ca84c",
   "metadata": {},
   "outputs": [],
   "source": []
  },
  {
   "cell_type": "markdown",
   "id": "24b70216",
   "metadata": {
    "slideshow": {
     "slide_type": "fragment"
    }
   },
   "source": [
    "Indetation error는 들여쓰기 에러\n"
   ]
  },
  {
   "cell_type": "markdown",
   "id": "09c79c35",
   "metadata": {
    "slideshow": {
     "slide_type": "subslide"
    }
   },
   "source": [
    "- 조건이 True일때 실행할 구문과 False일때 실행하는 조건문.\n",
    "```python\n",
    "if 조건:     \n",
    "    명령문1_1 # 조건이 True일 경우 실행할 구문들\n",
    "    명령문1_2\n",
    "    ...\n",
    "else:\n",
    "    명령문2_1 # 조건이 False일 경우 실행할 구문들\n",
    "    명령문2_2\n",
    "    ...\n",
    "```"
   ]
  },
  {
   "cell_type": "code",
   "execution_count": 9,
   "id": "87b51956",
   "metadata": {
    "slideshow": {
     "slide_type": "fragment"
    }
   },
   "outputs": [
    {
     "name": "stdout",
     "output_type": "stream",
     "text": [
      "정수 입력45\n",
      "0아닌데? 입력값은: 45\n",
      "0이 아니고 입력값은 45\n"
     ]
    }
   ],
   "source": [
    "i=int(input(\"정수 입력\"))\n",
    "if(i==0):\n",
    "    print(\"영입니다. 입력값은: \"+ str(i))\n",
    "else:\n",
    "    print(\"0아닌데? 입력값은: \"+ str(i))\n",
    "   # print(\"0이 아니고 입력값은 {}\".format(i))  다른 방식"
   ]
  },
  {
   "cell_type": "code",
   "execution_count": 27,
   "id": "5da981d1",
   "metadata": {},
   "outputs": [
    {
     "name": "stdout",
     "output_type": "stream",
     "text": [
      "아이디 입력1234556788990\n",
      "등록거부  아이디 길이는: 13\n"
     ]
    }
   ],
   "source": [
    "# id를 입력받아서 사용할 수 있는 id면 등록처리 사용할 수 없는 id면 등록 거부\n",
    "\n",
    "id = input(\"아이디 입력\")\n",
    "if(len(id)<=5):\n",
    "    print(\"입력 완료  아이디 길이는: {}\".format(len(id)))\n",
    "else:\n",
    "    print(\"등록거부  아이디 길이는: {}\".format(len(id)))\n"
   ]
  },
  {
   "cell_type": "code",
   "execution_count": null,
   "id": "878e9f7c",
   "metadata": {},
   "outputs": [],
   "source": [
    "#논리 값이 들어와야 하는 자리에 다른 타입값이 들어오면 자동으로(묵시적으로 ) bool값으로 변환한다\n",
    "if 0:\n",
    "    print(\"a\")\n",
    "else:\n",
    "    print(\"b\")"
   ]
  },
  {
   "cell_type": "code",
   "execution_count": null,
   "id": "245eeef8",
   "metadata": {},
   "outputs": [],
   "source": [
    "boo"
   ]
  },
  {
   "cell_type": "code",
   "execution_count": 47,
   "id": "303df9ef",
   "metadata": {},
   "outputs": [
    {
     "name": "stdout",
     "output_type": "stream",
     "text": [
      "글을 입력하세요999\n",
      "입력한글: 999\n"
     ]
    }
   ],
   "source": [
    "txt = input(\"글을 입력하세요\")\n",
    "# txt가 0글자면 \"입력하세요\"를 출력\n",
    "# if not txt: <-- 입력이 없으면 경우 빈문자열, 0, 0.0, None, 원소가 0개인 자료구조들=> false로 변환, 나머진 True\n",
    "if len(txt)==0:\n",
    "    print(\"글을 입력하세요\")\n",
    "else:\n",
    "    print(f\"입력한글: {txt}\")"
   ]
  },
  {
   "cell_type": "code",
   "execution_count": null,
   "id": "ddca29aa",
   "metadata": {},
   "outputs": [],
   "source": []
  },
  {
   "cell_type": "code",
   "execution_count": 53,
   "id": "268a87aa",
   "metadata": {},
   "outputs": [
    {
     "name": "stdout",
     "output_type": "stream",
     "text": [
      "아이디 입력123\n"
     ]
    }
   ],
   "source": [
    "# 재귀함수 이용해서 해보기\n",
    "\n",
    "def id(num):\n",
    "    l= len(num)\n",
    "    if(l<=5):\n",
    "        print(\"입력 완료  아이디 길이는: {}\".format(l))\n",
    "    elif not num:\n",
    "        print(\"글을 입력하세요\")\n",
    "        return id(num)\n",
    "    else:\n",
    "        print(\"등록거부  아이디 길이는: {}\".format(len))\n",
    "        return id(num)\n",
    "num=int(input(\"아이디 입력\"))\n"
   ]
  },
  {
   "cell_type": "markdown",
   "id": "621eae9a",
   "metadata": {
    "slideshow": {
     "slide_type": "subslide"
    }
   },
   "source": [
    "- 조건이 여러개인 조건문.\n",
    "```python\n",
    "if 조건1:\n",
    "    명령문1_1  # 조건1이 True일 경우 실행할 코드블록. \n",
    "    명령문1_2\n",
    "    ...\n",
    "elif 조건2:    # 다음 조건으로 앞의 조건들이 모드 False일 경우 비교한다.\n",
    "    명령문2_1  # 조건2가 True일 경우 실행할 코드블록.\n",
    "    명령문2_2\n",
    "    ...\n",
    "elif 조건3 :\n",
    "    명령문3_1\n",
    "    명령문3_2\n",
    "    ...\n",
    "else:         # 위의 모든 조건이 False일 경우 실행하는 코드블록. 생략 가능하다.\n",
    "    명령문4\n",
    "```"
   ]
  },
  {
   "cell_type": "code",
   "execution_count": 46,
   "id": "4c6a532d",
   "metadata": {
    "slideshow": {
     "slide_type": "fragment"
    }
   },
   "outputs": [
    {
     "name": "stdout",
     "output_type": "stream",
     "text": [
      "정수:0\n",
      "영입니다\n"
     ]
    }
   ],
   "source": [
    "num= int(input(\"정수:\"))\n",
    "if num>0:\n",
    "    print(\"양수입니다\")\n",
    "elif num==0:\n",
    "    print(\"영입니다\")\n",
    "elif num<0:\n",
    "# else num<0: 도 가능하다\n",
    "    print(\"음수입니다\")"
   ]
  },
  {
   "cell_type": "code",
   "execution_count": 51,
   "id": "ab88a370",
   "metadata": {},
   "outputs": [
    {
     "name": "stdout",
     "output_type": "stream",
     "text": [
      "정수:123\n",
      "양수\n",
      "100이상\n"
     ]
    }
   ],
   "source": [
    "num= int(input(\"정수:\"))\n",
    "if num>0:\n",
    "    print(\"양수\")\n",
    "    if num >100:\n",
    "        print(\"100이상\")\n",
    "    # elif num>100:  이런식으로하면 위에 것만 보고 elif 문장을 보지 않음\n",
    "    #print(\"100이상\")"
   ]
  },
  {
   "cell_type": "markdown",
   "id": "2149b728",
   "metadata": {
    "slideshow": {
     "slide_type": "slide"
    }
   },
   "source": [
    "# 반복문 (Loop statement)\n",
    "\n",
    "특정 구문들을 반복해서 실행할 때 사용한다. 동일한 코드를 여러번 반복하거나 값이 일정하게 변하는 코드를 반복할 경우 사용한다.  \n",
    "단순 반복을 처리하는 **while문**과 iterable객체가 제공하는 값들을 반복 조회하는 **for in문** 두가지 문법이 있다.\n",
    "\n",
    "![반복문](images/ch03_02.png)\n",
    "<center>count의 값이 limit의 값보다 크거나 같을때 까지 count의 값을 1증가 후 출력하는 구문을 반복한다. </center>"
   ]
  },
  {
   "cell_type": "markdown",
   "id": "b4740a36",
   "metadata": {
    "slideshow": {
     "slide_type": "subslide"
    }
   },
   "source": [
    "## while문\n",
    "- 조건이 True인 동안 구문을 반복해서 실행한다.\n",
    "\n",
    "### 구문\n",
    "```python\n",
    "while 조건:       # 조건은 bool 표현식을 기술한다. 조건선언 다음에 : 으로 선언해서 코드블록을 구분한다\n",
    "    반복할 구문1  # 반복할 구문을 코드블록으로 작성한다.  \n",
    "    반복할 구문2\n",
    "    ...\n",
    "```"
   ]
  },
  {
   "cell_type": "code",
   "execution_count": 55,
   "id": "6b11bde6",
   "metadata": {
    "slideshow": {
     "slide_type": "fragment"
    }
   },
   "outputs": [
    {
     "name": "stdout",
     "output_type": "stream",
     "text": [
      "반복할 횟수를 넣으세여10\n",
      "1\n",
      "2\n",
      "3\n",
      "4\n",
      "5\n",
      "6\n",
      "7\n",
      "8\n",
      "9\n",
      "10\n"
     ]
    }
   ],
   "source": [
    "limit=int(input(\"반복할 횟수를 넣으세여\"))\n",
    "count=0 # 몇번째 반복인지 저장할 변수\n",
    "while count<limit:\n",
    "    count+=1\n",
    "    print(count)\n",
    "    \n",
    "    "
   ]
  },
  {
   "cell_type": "markdown",
   "id": "04f12e55",
   "metadata": {
    "slideshow": {
     "slide_type": "subslide"
    }
   },
   "source": [
    "## for  in 문\n",
    "- Iterable 객체를 순환조회하는 구문\n",
    "    - for in문은 Iterable 타입의 객체가 가지고 있는 값들을 각각 조회하여 처리하는 구문을 작성할 때 사용한다.\n",
    "    -  다음값을 받아오는 순환문 ex) for i in [1,2,3] 이면 첫번째 순환때 리스트 안에 1을 불러오고 처리작업을 한 후, 두번째 순환을 이어간다 이후 반복\n",
    "> - Iterable\n",
    ">    - 반복가능한 객체. 반복문(for in)을 이용해 일련의 값들을 반복적으로 각각 제공하는 객체를 말한다. \n",
    ">    - 대표적으로 List, Tuple, Dictionary, Set, 문자열 등이 있다.\n",
    "\n",
    "### 구문\n",
    "```python\n",
    "for 변수 in Iterable: # for in 선언후 : 으로 선언부와 구현부를 나눈다.\n",
    "    반복구문          # Iterable이 반복시 제공하는 값을 가지는 \"변수\"를 이용해 값들을 처리하는 구문을 코드블록으로 작성한다.\n",
    "    반복구문\n",
    "```"
   ]
  },
  {
   "cell_type": "code",
   "execution_count": null,
   "id": "c86e9bb6",
   "metadata": {},
   "outputs": [],
   "source": []
  },
  {
   "cell_type": "code",
   "execution_count": 66,
   "id": "da0ce0f6",
   "metadata": {
    "slideshow": {
     "slide_type": "fragment"
    }
   },
   "outputs": [
    {
     "data": {
      "text/plain": [
       "list_iterator"
      ]
     },
     "execution_count": 66,
     "metadata": {},
     "output_type": "execute_result"
    }
   ],
   "source": [
    "l=[1,2,3,4,5] #리스트 => iterablc 함수\n",
    "l_iter =iter(l) #\n",
    "type(l_iter)\n",
    "# list_iterator 리스트의 값을 나눠 주는애!, 리스트는 본인이 스스로 값을 넘길 수 없다/"
   ]
  },
  {
   "cell_type": "code",
   "execution_count": 60,
   "id": "9bf72a7a",
   "metadata": {},
   "outputs": [
    {
     "name": "stdout",
     "output_type": "stream",
     "text": [
      "1 11\n"
     ]
    }
   ],
   "source": [
    "# 다음값 요청\n",
    "i =next(l_iter)\n",
    "print(i,i+10)"
   ]
  },
  {
   "cell_type": "code",
   "execution_count": 61,
   "id": "b5511d77",
   "metadata": {},
   "outputs": [
    {
     "name": "stdout",
     "output_type": "stream",
     "text": [
      "2 12\n"
     ]
    }
   ],
   "source": [
    "# 다음값 요청\n",
    "i =next(l_iter)\n",
    "print(i,i+10)"
   ]
  },
  {
   "cell_type": "code",
   "execution_count": 62,
   "id": "2d3ab5c3",
   "metadata": {},
   "outputs": [
    {
     "name": "stdout",
     "output_type": "stream",
     "text": [
      "3 13\n"
     ]
    }
   ],
   "source": [
    "# 다음값 요청\n",
    "i =next(l_iter)\n",
    "print(i,i+10)"
   ]
  },
  {
   "cell_type": "code",
   "execution_count": 63,
   "id": "89c3c70a",
   "metadata": {},
   "outputs": [
    {
     "name": "stdout",
     "output_type": "stream",
     "text": [
      "4 14\n"
     ]
    }
   ],
   "source": [
    "# 다음값 요청\n",
    "i =next(l_iter)\n",
    "print(i,i+10)"
   ]
  },
  {
   "cell_type": "code",
   "execution_count": 64,
   "id": "27f65273",
   "metadata": {},
   "outputs": [
    {
     "name": "stdout",
     "output_type": "stream",
     "text": [
      "5 15\n"
     ]
    }
   ],
   "source": [
    "# 다음값 요청\n",
    "i =next(l_iter)\n",
    "print(i,i+10)"
   ]
  },
  {
   "cell_type": "code",
   "execution_count": 65,
   "id": "22a7ad04",
   "metadata": {},
   "outputs": [
    {
     "ename": "StopIteration",
     "evalue": "",
     "output_type": "error",
     "traceback": [
      "\u001b[1;31m---------------------------------------------------------------------------\u001b[0m",
      "\u001b[1;31mStopIteration\u001b[0m                             Traceback (most recent call last)",
      "Cell \u001b[1;32mIn[65], line 2\u001b[0m\n\u001b[0;32m      1\u001b[0m \u001b[38;5;66;03m# 다음값 요청\u001b[39;00m\n\u001b[1;32m----> 2\u001b[0m i \u001b[38;5;241m=\u001b[39m\u001b[38;5;28;43mnext\u001b[39;49m\u001b[43m(\u001b[49m\u001b[43ml_iter\u001b[49m\u001b[43m)\u001b[49m\n\u001b[0;32m      3\u001b[0m \u001b[38;5;28mprint\u001b[39m(i,i\u001b[38;5;241m+\u001b[39m\u001b[38;5;241m10\u001b[39m)\n",
      "\u001b[1;31mStopIteration\u001b[0m: "
     ]
    }
   ],
   "source": [
    "# 다음값 요청\n",
    "i =next(l_iter)\n",
    "print(i,i+10)\n",
    "#stoplteration 더이상 줄 답이 없어!"
   ]
  },
  {
   "cell_type": "code",
   "execution_count": 69,
   "id": "0dcfb8d5",
   "metadata": {},
   "outputs": [
    {
     "name": "stdout",
     "output_type": "stream",
     "text": [
      "1 11\n",
      "2 12\n",
      "3 13\n",
      "4 14\n",
      "5 15\n"
     ]
    },
    {
     "ename": "StopIteration",
     "evalue": "",
     "output_type": "error",
     "traceback": [
      "\u001b[1;31m---------------------------------------------------------------------------\u001b[0m",
      "\u001b[1;31mStopIteration\u001b[0m                             Traceback (most recent call last)",
      "Cell \u001b[1;32mIn[69], line 3\u001b[0m\n\u001b[0;32m      1\u001b[0m l_iter2\u001b[38;5;241m=\u001b[39m \u001b[38;5;28miter\u001b[39m(l)\n\u001b[0;32m      2\u001b[0m \u001b[38;5;28;01mwhile\u001b[39;00m \u001b[38;5;28;01mTrue\u001b[39;00m:\n\u001b[1;32m----> 3\u001b[0m     i\u001b[38;5;241m=\u001b[39m\u001b[38;5;28;43mnext\u001b[39;49m\u001b[43m(\u001b[49m\u001b[43ml_iter2\u001b[49m\u001b[43m)\u001b[49m \u001b[38;5;66;03m# 다음값 요청\u001b[39;00m\n\u001b[0;32m      4\u001b[0m     \u001b[38;5;28mprint\u001b[39m(i,i\u001b[38;5;241m+\u001b[39m\u001b[38;5;241m10\u001b[39m)\n",
      "\u001b[1;31mStopIteration\u001b[0m: "
     ]
    }
   ],
   "source": [
    "l_iter2= iter(l)\n",
    "while True:\n",
    "    i=next(l_iter2) # 다음값 요청\n",
    "    print(i,i+10)\n",
    "# 이것을 간단하게 한것이 for in 문이다\n",
    "ㅍ"
   ]
  },
  {
   "cell_type": "code",
   "execution_count": 82,
   "id": "afe48fa0",
   "metadata": {},
   "outputs": [
    {
     "name": "stdout",
     "output_type": "stream",
     "text": [
      "다음값: 1\n",
      "다음값 처리한 결과: 11\n",
      "==================================================\n",
      "다음값: 2\n",
      "다음값 처리한 결과: 12\n",
      "==================================================\n",
      "다음값: 3\n",
      "다음값 처리한 결과: 13\n",
      "==================================================\n",
      "다음값: 4\n",
      "다음값 처리한 결과: 14\n",
      "==================================================\n",
      "다음값: 5\n",
      "다음값 처리한 결과: 15\n",
      "==================================================\n",
      "종료했습니다\n"
     ]
    }
   ],
   "source": [
    "#일괄처리\n",
    "for i in l: # for 다음값을 저장할 변수 in iterable(리스트):\n",
    "    #다음 값을 처리할 코드\n",
    "    print(f\"다음값: {i}\")\n",
    "    print(f\"다음값 처리한 결과: {i+10}\")\n",
    "    print(\"=\"*50)\n",
    "print(\"종료했습니다\")"
   ]
  },
  {
   "cell_type": "code",
   "execution_count": 81,
   "id": "0c98d7bb",
   "metadata": {},
   "outputs": [
    {
     "name": "stdout",
     "output_type": "stream",
     "text": [
      "2\n",
      "4\n",
      "6\n",
      "8\n",
      "10\n"
     ]
    }
   ],
   "source": [
    "# 특정 조건의 값들을 걸러내기.\n",
    "#특정 조건의 값들을 걸러내기 .-> filtering(filter)\n",
    "t= (1,2,3,4,5,6,7,8,9,10)\n",
    "# 다 출력하는 코드 \n",
    "for i in t:\n",
    "    # 짝수 출력\n",
    "    if i%2==0:\n",
    "        print(i)\n",
    "#         if i%2==1: 홀수 출력\n"
   ]
  },
  {
   "cell_type": "code",
   "execution_count": 96,
   "id": "e8f3e128",
   "metadata": {},
   "outputs": [
    {
     "name": "stdout",
     "output_type": "stream",
     "text": [
      "1\n",
      "2\n",
      "3\n",
      "다른방식\n",
      "1\n",
      "2\n",
      "3\n",
      "다른방식\n",
      "a 1\n",
      "b 2\n",
      "c 3\n",
      "다른방식\n",
      "('a', 1)\n",
      "('b', 2)\n",
      "('c', 3)\n",
      "다른방식\n",
      "key: a value: 1\n",
      "key: b value: 2\n",
      "key: c value: 3\n"
     ]
    }
   ],
   "source": [
    "#조회 방법 여러가지\n",
    "d= {\"a\":1, \"b\": 2, \"c\":3}\n",
    "# a= d.values()\n",
    "for i in a: #dict->key 값을 제공\n",
    "    print(i)\n",
    "print(\"다른방식\")\n",
    "for i in d.values():\n",
    "    print(i)\n",
    "print(\"다른방식\")\n",
    "for i in d:\n",
    "    print(i, d[i])\n",
    "print(\"다른방식\")\n",
    "for i in d.items():\n",
    "    print(i)\n",
    "print(\"다른방식\")\n",
    "for k,v in d.items():\n",
    "    print(f\"key: {k} value: {v}\")"
   ]
  },
  {
   "cell_type": "code",
   "execution_count": 101,
   "id": "1164b833",
   "metadata": {},
   "outputs": [
    {
     "name": "stdout",
     "output_type": "stream",
     "text": [
      "1\n",
      "2\n",
      "3\n",
      "4\n"
     ]
    }
   ],
   "source": [
    "s={1,2,3,4,2,2,1} #set -> iterable-> for in 이용해서 원소 조회\n",
    "for v in s:\n",
    "    print(v)"
   ]
  },
  {
   "cell_type": "markdown",
   "id": "1f30cd6f",
   "metadata": {
    "slideshow": {
     "slide_type": "subslide"
    }
   },
   "source": [
    "## continue와 break를 이용한 반복문 제어(예약어)\n",
    "- **continue**\n",
    "    - 현재 반복을 중단하고 다음 반복을 진행한다.\n",
    "    - 특정 조건에서 처리를 멈추고 다음 처리를 반복할 때 사용한다.\n",
    "- **break**\n",
    "    - 반복을 중단한다.\n",
    "    - 특정 조건에서 반복문을 중간에 중지할때 사용한다.\n",
    "- continue와 break는 특정 조건에서 실행되야 하는 경우가 대부분이므로 if문 안에 작성한다.    "
   ]
  },
  {
   "cell_type": "code",
   "execution_count": 110,
   "id": "90c41e9f",
   "metadata": {
    "slideshow": {
     "slide_type": "fragment"
    }
   },
   "outputs": [
    {
     "ename": "ValueError",
     "evalue": "'10' is not in list",
     "output_type": "error",
     "traceback": [
      "\u001b[1;31m---------------------------------------------------------------------------\u001b[0m",
      "\u001b[1;31mValueError\u001b[0m                                Traceback (most recent call last)",
      "Cell \u001b[1;32mIn[110], line 4\u001b[0m\n\u001b[0;32m      2\u001b[0m \u001b[38;5;66;03m# 리스트 L이 원소로 10이 있는지 ㅎ여부를 확인\u001b[39;00m\n\u001b[0;32m      3\u001b[0m result \u001b[38;5;241m=\u001b[39m \u001b[38;5;28;01mFalse\u001b[39;00m \u001b[38;5;66;03m# True 10 이 있다 false 10이 없다\u001b[39;00m\n\u001b[1;32m----> 4\u001b[0m \u001b[43ml\u001b[49m\u001b[38;5;241;43m.\u001b[39;49m\u001b[43mindex\u001b[49m\u001b[43m(\u001b[49m\u001b[38;5;124;43m\"\u001b[39;49m\u001b[38;5;124;43m10\u001b[39;49m\u001b[38;5;124;43m\"\u001b[39;49m\u001b[43m)\u001b[49m\n\u001b[0;32m      5\u001b[0m \u001b[38;5;28;01mfor\u001b[39;00m i \u001b[38;5;129;01min\u001b[39;00m l:\n\u001b[0;32m      6\u001b[0m     \u001b[38;5;28;01mif\u001b[39;00m i \u001b[38;5;241m==\u001b[39m\u001b[38;5;241m10\u001b[39m:\n",
      "\u001b[1;31mValueError\u001b[0m: '10' is not in list"
     ]
    }
   ],
   "source": [
    "ㅣ=[1,34,2,3,5,10,4,2,32]\n",
    "# 리스트 L이 원소로 10이 있는지 ㅎ여부를 확인\n",
    "result = False # True 10 이 있다 false 10이 없다\n",
    "l.index()\n",
    "for i in l:\n",
    "    if i ==10:\n",
    "        print(v)\n",
    "        result= True\n",
    "        break # 반복문을 멈춰라\n",
    " \n",
    "print(result, \"10이 있다\" if result else \"10이없다\")"
   ]
  },
  {
   "cell_type": "code",
   "execution_count": 115,
   "id": "2be64d8f",
   "metadata": {},
   "outputs": [
    {
     "data": {
      "text/plain": [
       "23"
      ]
     },
     "execution_count": 115,
     "metadata": {},
     "output_type": "execute_result"
    }
   ],
   "source": [
    "import random\n",
    "random.randint(10, 50) # 10~50 사이의 임의의 정수를 한개 생성해준다 (난수)\n"
   ]
  },
  {
   "cell_type": "code",
   "execution_count": 126,
   "id": "6085d65b",
   "metadata": {},
   "outputs": [
    {
     "name": "stdout",
     "output_type": "stream",
     "text": [
      "[11]\n",
      "[11, 17]\n",
      "[11, 17, 47]\n",
      "[11, 17, 47, 15]\n",
      "[11, 17, 47, 15, 10]\n",
      "[11, 17, 47, 15, 10, 49]\n",
      "[11, 17, 47, 15, 10, 49, 29]\n",
      "[11, 17, 47, 15, 10, 49, 29, 33]\n",
      "[11, 17, 47, 15, 10, 49, 29, 33, 44]\n",
      "[11, 17, 47, 15, 10, 49, 29, 33, 44, 50]\n",
      "[11, 17, 47, 15, 10, 49, 29, 33, 44, 50, 17]\n",
      "[11, 17, 47, 15, 10, 49, 29, 33, 44, 50, 17, 41]\n",
      "[11, 17, 47, 15, 10, 49, 29, 33, 44, 50, 17, 41, 28]\n",
      "[11, 17, 47, 15, 10, 49, 29, 33, 44, 50, 17, 41, 28, 27]\n",
      "[11, 17, 47, 15, 10, 49, 29, 33, 44, 50, 17, 41, 28, 27, 33]\n",
      "[11, 17, 47, 15, 10, 49, 29, 33, 44, 50, 17, 41, 28, 27, 33, 29]\n",
      "[11, 17, 47, 15, 10, 49, 29, 33, 44, 50, 17, 41, 28, 27, 33, 29, 28]\n",
      "[11, 17, 47, 15, 10, 49, 29, 33, 44, 50, 17, 41, 28, 27, 33, 29, 28, 32]\n",
      "[11, 17, 47, 15, 10, 49, 29, 33, 44, 50, 17, 41, 28, 27, 33, 29, 28, 32, 38]\n",
      "[11, 17, 47, 15, 10, 49, 29, 33, 44, 50, 17, 41, 28, 27, 33, 29, 28, 32, 38, 13]\n",
      "[11, 17, 47, 15, 10, 49, 29, 33, 44, 50, 17, 41, 28, 27, 33, 29, 28, 32, 38, 13, 43]\n",
      "[11, 17, 47, 15, 10, 49, 29, 33, 44, 50, 17, 41, 28, 27, 33, 29, 28, 32, 38, 13, 43, 12]\n",
      "[11, 17, 47, 15, 10, 49, 29, 33, 44, 50, 17, 41, 28, 27, 33, 29, 28, 32, 38, 13, 43, 12, 34]\n",
      "[11, 17, 47, 15, 10, 49, 29, 33, 44, 50, 17, 41, 28, 27, 33, 29, 28, 32, 38, 13, 43, 12, 34, 17]\n",
      "[11, 17, 47, 15, 10, 49, 29, 33, 44, 50, 17, 41, 28, 27, 33, 29, 28, 32, 38, 13, 43, 12, 34, 17, 20]\n",
      "[11, 17, 47, 15, 10, 49, 29, 33, 44, 50, 17, 41, 28, 27, 33, 29, 28, 32, 38, 13, 43, 12, 34, 17, 20, 29]\n",
      "[11, 17, 47, 15, 10, 49, 29, 33, 44, 50, 17, 41, 28, 27, 33, 29, 28, 32, 38, 13, 43, 12, 34, 17, 20, 29, 43]\n",
      "[11, 17, 47, 15, 10, 49, 29, 33, 44, 50, 17, 41, 28, 27, 33, 29, 28, 32, 38, 13, 43, 12, 34, 17, 20, 29, 43, 19]\n",
      "[11, 17, 47, 15, 10, 49, 29, 33, 44, 50, 17, 41, 28, 27, 33, 29, 28, 32, 38, 13, 43, 12, 34, 17, 20, 29, 43, 19, 17]\n",
      "[11, 17, 47, 15, 10, 49, 29, 33, 44, 50, 17, 41, 28, 27, 33, 29, 28, 32, 38, 13, 43, 12, 34, 17, 20, 29, 43, 19, 17, 44]\n",
      "[11, 17, 47, 15, 10, 49, 29, 33, 44, 50, 17, 41, 28, 27, 33, 29, 28, 32, 38, 13, 43, 12, 34, 17, 20, 29, 43, 19, 17, 44, 36]\n",
      "[11, 17, 47, 15, 10, 49, 29, 33, 44, 50, 17, 41, 28, 27, 33, 29, 28, 32, 38, 13, 43, 12, 34, 17, 20, 29, 43, 19, 17, 44, 36, 36]\n",
      "[11, 17, 47, 15, 10, 49, 29, 33, 44, 50, 17, 41, 28, 27, 33, 29, 28, 32, 38, 13, 43, 12, 34, 17, 20, 29, 43, 19, 17, 44, 36, 36, 10]\n",
      "[11, 17, 47, 15, 10, 49, 29, 33, 44, 50, 17, 41, 28, 27, 33, 29, 28, 32, 38, 13, 43, 12, 34, 17, 20, 29, 43, 19, 17, 44, 36, 36, 10, 46]\n",
      "[11, 17, 47, 15, 10, 49, 29, 33, 44, 50, 17, 41, 28, 27, 33, 29, 28, 32, 38, 13, 43, 12, 34, 17, 20, 29, 43, 19, 17, 44, 36, 36, 10, 46, 21]\n",
      "[11, 17, 47, 15, 10, 49, 29, 33, 44, 50, 17, 41, 28, 27, 33, 29, 28, 32, 38, 13, 43, 12, 34, 17, 20, 29, 43, 19, 17, 44, 36, 36, 10, 46, 21, 30]\n",
      "[11, 17, 47, 15, 10, 49, 29, 33, 44, 50, 17, 41, 28, 27, 33, 29, 28, 32, 38, 13, 43, 12, 34, 17, 20, 29, 43, 19, 17, 44, 36, 36, 10, 46, 21, 30]\n",
      "몇번 반복:36\n"
     ]
    }
   ],
   "source": [
    "result_list=[]\n",
    "i=0\n",
    "\n",
    "while True:\n",
    "    v=random.randint(10, 50)\n",
    "    result_list.append(v)\n",
    "    print(result_list)\n",
    "    i=i+1\n",
    "    if 30 in result_list:\n",
    "        print(result_list)\n",
    "        print(f\"몇번 반복:{i}\")\n",
    "        break\n",
    "# while if 30 in result_list: 이게 안되는 이유 조건이참이여야만 반복함 하지만 이문장은 먼저 조건이 False인 상태라서 되지 않음\n",
    "# while문은 무조건 조건이 Trrue 인상태에서 해야함"
   ]
  },
  {
   "cell_type": "code",
   "execution_count": 123,
   "id": "f39cee40",
   "metadata": {},
   "outputs": [
    {
     "ename": "SyntaxError",
     "evalue": "invalid syntax (409681675.py, line 14)",
     "output_type": "error",
     "traceback": [
      "\u001b[1;36m  Cell \u001b[1;32mIn[123], line 14\u001b[1;36m\u001b[0m\n\u001b[1;33m    while if 30 in result_list:\u001b[0m\n\u001b[1;37m          ^\u001b[0m\n\u001b[1;31mSyntaxError\u001b[0m\u001b[1;31m:\u001b[0m invalid syntax\n"
     ]
    }
   ],
   "source": [
    "# 다른 방식\n",
    "while True:\n",
    "    v=random.randint(10, 50)\n",
    "    result_list.append(v)\n",
    "    print(result_list)"
   ]
  },
  {
   "cell_type": "code",
   "execution_count": 125,
   "id": "d371a76d",
   "metadata": {},
   "outputs": [
    {
     "name": "stdout",
     "output_type": "stream",
     "text": [
      "글 입력123\n",
      "글 입력12\n",
      "글 입력312\n",
      "글 입력312\n",
      "글 입력3\n",
      "글 입력123\n",
      "글 입력123\n",
      "글 입력12\n",
      "글 입력3\n",
      "글 입력123\n",
      "글 입력123\n",
      "글 입력\n",
      "글 입력!q\n",
      "종료\n"
     ]
    }
   ],
   "source": [
    "while True:\n",
    "    a=input(\"글 입력\")\n",
    "    if a == \"!q\":\n",
    "        print(\"종료\")\n",
    "        break"
   ]
  },
  {
   "cell_type": "code",
   "execution_count": 134,
   "id": "06c85a45",
   "metadata": {},
   "outputs": [],
   "source": [
    "l1=[\n",
    "    [1,2,3],\n",
    "    [10,20,30],\n",
    "    [100,200,300]\n",
    "    \n",
    "]"
   ]
  },
  {
   "cell_type": "code",
   "execution_count": 149,
   "id": "d29c17b0",
   "metadata": {},
   "outputs": [
    {
     "name": "stdout",
     "output_type": "stream",
     "text": [
      "1번째 반복중\n",
      "[1, 2, 3]\n",
      "i가 1번째 j는 1번째 반복중\n",
      "1\n",
      "i가 1번째 j는 2번째 반복중\n",
      "2\n",
      "i가 1번째 j는 3번째 반복중\n",
      "3\n",
      "2번째 반복중\n",
      "[10, 20, 30]\n",
      "i가 2번째 j는 4번째 반복중\n",
      "10\n",
      "i가 2번째 j는 5번째 반복중\n",
      "20\n",
      "i가 2번째 j는 6번째 반복중\n",
      "30\n",
      "3번째 반복중\n",
      "[100, 200, 300]\n",
      "i가 3번째 j는 7번째 반복중\n",
      "100\n",
      "i가 3번째 j는 8번째 반복중\n",
      "200\n",
      "i가 3번째 j는 9번째 반복중\n",
      "300\n",
      "큰반복: 3 작은반복: 9\n"
     ]
    }
   ],
   "source": [
    "i=0\n",
    "j=0\n",
    "for x in l1:\n",
    "    i=i+1\n",
    "    print(f\"{i}번째 반복중\")\n",
    "    print(x)   \n",
    "    for y in x:\n",
    "        j=j+1\n",
    "        print(f\"i가 {i}번째 j는 {j}번째 반복중\")\n",
    "        print(y)\n",
    "        \n",
    "print(f\"큰반복: {i} 작은반복: {j}\")"
   ]
  },
  {
   "cell_type": "code",
   "execution_count": 168,
   "id": "1b8fe6dc",
   "metadata": {},
   "outputs": [
    {
     "name": "stdout",
     "output_type": "stream",
     "text": [
      "1번째 반복중\n",
      "[1, 2, 3]\n",
      "i가 1번째 j는 1번째 반복중\n",
      "1\n",
      "i가 1번째 j는 2번째 반복중\n",
      "2\n",
      "i가 1번째 j는 3번째 반복중\n",
      "3\n",
      "2번째 반복중\n",
      "[10, 20, 30]\n",
      "i가 2번째 j는 4번째 반복중\n",
      "10\n",
      "큰반복: 2 작은반복: 4\n"
     ]
    }
   ],
   "source": [
    "#만약에 값이 20일 경우 출력을 멈추고 싶다\n",
    "#break는 현재 반복에서 빠져 나가는것이라 반복문이 2개면 안에 있는 반복문에 break가 있으면 안쪽에 반복문만 빠져나온다\n",
    "i=0\n",
    "j=0\n",
    "is_finish= False # True가 되면 전체 반복문을 빠져나옴\n",
    "for x in l1:\n",
    "    if is_finish== True:\n",
    "        break\n",
    "    i=i+1\n",
    "    print(f\"{i}번째 반복중\")\n",
    "    print(x)   \n",
    "    for y in x:\n",
    "        if y == 20:\n",
    "            is_finish=True\n",
    "            break\n",
    "        j=j+1\n",
    "        print(f\"i가 {i}번째 j는 {j}번째 반복중\")\n",
    "        print(y)\n",
    "        \n",
    "print(f\"큰반복: {i} 작은반복: {j}\")"
   ]
  },
  {
   "cell_type": "code",
   "execution_count": 169,
   "id": "7b72bd45",
   "metadata": {},
   "outputs": [
    {
     "name": "stdout",
     "output_type": "stream",
     "text": [
      "1\n",
      "2\n",
      "3\n",
      "4\n",
      "5\n",
      "6\n",
      "7\n",
      "8\n",
      "9\n"
     ]
    }
   ],
   "source": [
    "l= [1,2,3,4,5,6,7,8,9]\n",
    "for v in l:\n",
    "    print(v)"
   ]
  },
  {
   "cell_type": "code",
   "execution_count": 171,
   "id": "2291e2e5",
   "metadata": {},
   "outputs": [
    {
     "name": "stdout",
     "output_type": "stream",
     "text": [
      "3\n",
      "6\n",
      "9\n"
     ]
    }
   ],
   "source": [
    "#3의 배수만 출력\n",
    "for v in l:\n",
    "    if v%3==0: # 3의 배수면 출력\n",
    "        print(v)"
   ]
  },
  {
   "cell_type": "code",
   "execution_count": 172,
   "id": "c9836562",
   "metadata": {},
   "outputs": [
    {
     "name": "stdout",
     "output_type": "stream",
     "text": [
      "3\n",
      "6\n",
      "9\n"
     ]
    }
   ],
   "source": [
    "for v in l:\n",
    "    if v%3!=0: # 3의 배수가 아니면 다음 원소를 처리해라\n",
    "        continue\n",
    "    print(v)"
   ]
  },
  {
   "cell_type": "markdown",
   "id": "dc6099c5",
   "metadata": {
    "slideshow": {
     "slide_type": "slide"
    }
   },
   "source": [
    "## for in 문 연관 내장 함수\n",
    "iterable 타입\n",
    "### range()\n",
    "- 일정한 간격의 연속된 정수를 제공하는 반복가능 객체 생성한다.\n",
    "- 구문\n",
    "    - `range([시작값], 멈춤값, [증감값])`\n",
    "        - 시작값, 멈춤값, 증감값 모두 정수만 가능하다.\n",
    "        - 시작값 > 멈춤값 이고 증감값이 음수이면 내림차순으로 값을 제공한다.\n",
    "        1. 전달값이 **1개: 멈춤값**. \n",
    "            - 0 ~ (멈춤값-1)까지 1씩 증가하는 정수를 제공\n",
    "        2. 전달값이 **2개: 시작값, 멈춤값**. \n",
    "            - 시작값 ~ (멈춤값-1) 까지 1씩 증가하는 정수 제공\n",
    "        3. 전달값이 **3개: 시작값, 멈춤값, 증감값(간격)**. \n",
    "            - 시작값 ~ (멈춤값-1)까지 증감값만큼 증가하는 정수를 제공.\n"
   ]
  },
  {
   "cell_type": "code",
   "execution_count": 173,
   "id": "352d937b",
   "metadata": {
    "slideshow": {
     "slide_type": "fragment"
    }
   },
   "outputs": [
    {
     "name": "stdout",
     "output_type": "stream",
     "text": [
      "0\n",
      "1\n",
      "2\n",
      "3\n",
      "4\n",
      "5\n",
      "6\n",
      "7\n",
      "8\n",
      "9\n"
     ]
    }
   ],
   "source": [
    "for i in range(10): # 0(시작) ~10-1 1씩 증가하는 정수를 제공\n",
    "    print(i)"
   ]
  },
  {
   "cell_type": "code",
   "execution_count": 175,
   "id": "47d0d474",
   "metadata": {},
   "outputs": [
    {
     "name": "stdout",
     "output_type": "stream",
     "text": [
      "10\n",
      "11\n",
      "12\n",
      "13\n",
      "14\n",
      "15\n",
      "16\n",
      "17\n",
      "18\n",
      "19\n"
     ]
    }
   ],
   "source": [
    "for i in range(10,20):  10(시작) 10~20전까지 1씩 증가하는 정수를 제공 늘 시작~ 마지막-1의 수로 나옴\n",
    "     print(i)"
   ]
  },
  {
   "cell_type": "code",
   "execution_count": 176,
   "id": "1e910a2d",
   "metadata": {},
   "outputs": [
    {
     "name": "stdout",
     "output_type": "stream",
     "text": [
      "10\n",
      "20\n",
      "30\n",
      "40\n",
      "50\n",
      "60\n",
      "70\n",
      "80\n",
      "90\n",
      "100\n",
      "110\n",
      "120\n",
      "130\n",
      "140\n",
      "150\n",
      "160\n",
      "170\n",
      "180\n",
      "190\n"
     ]
    }
   ],
   "source": [
    "for i in range(10, 200, 10): # 10 시작 190까지 200은 포함안함\n",
    "    print(i)"
   ]
  },
  {
   "cell_type": "code",
   "execution_count": 177,
   "id": "bae92a15",
   "metadata": {},
   "outputs": [
    {
     "name": "stdout",
     "output_type": "stream",
     "text": [
      "100\n",
      "80\n",
      "60\n",
      "40\n",
      "20\n",
      "0\n",
      "-20\n",
      "-40\n",
      "-60\n",
      "-80\n"
     ]
    }
   ],
   "source": [
    "for i in range(100, -100, -20): # 100에서 시작하며 -20씩 -80까지 내려감\n",
    "    print(i)"
   ]
  },
  {
   "cell_type": "code",
   "execution_count": 182,
   "id": "b20c87bb",
   "metadata": {},
   "outputs": [
    {
     "name": "stdout",
     "output_type": "stream",
     "text": [
      "안녕\n",
      "안녕\n",
      "안녕\n",
      "안녕\n",
      "안녕\n",
      "안녕\n",
      "안녕\n",
      "안녕\n",
      "안녕\n",
      "안녕\n"
     ]
    }
   ],
   "source": [
    "for i in range(10): # i는 그냥 반복횟수\n",
    "        print(\"안녕\")"
   ]
  },
  {
   "cell_type": "code",
   "execution_count": null,
   "id": "61e340d4",
   "metadata": {},
   "outputs": [],
   "source": [
    "for _ in range(10): #변수명 ㅣ[]'_' 관레적으로 \"이 변수는 사용하지 않겠다\"라는 의미"
   ]
  },
  {
   "cell_type": "code",
   "execution_count": 185,
   "id": "b67a05ca",
   "metadata": {},
   "outputs": [
    {
     "data": {
      "text/plain": [
       "{-100,\n",
       " -90,\n",
       " -80,\n",
       " -70,\n",
       " -60,\n",
       " -50,\n",
       " -40,\n",
       " -30,\n",
       " -20,\n",
       " -10,\n",
       " 0,\n",
       " 10,\n",
       " 20,\n",
       " 30,\n",
       " 40,\n",
       " 50,\n",
       " 60,\n",
       " 70,\n",
       " 80,\n",
       " 90,\n",
       " 100}"
      ]
     },
     "execution_count": 185,
     "metadata": {},
     "output_type": "execute_result"
    }
   ],
   "source": [
    "list(range(10))\n",
    "tuple(range(0,1001,100))\n",
    "set(range(100,-101,-10))"
   ]
  },
  {
   "cell_type": "code",
   "execution_count": null,
   "id": "913808ff",
   "metadata": {},
   "outputs": [],
   "source": [
    "range(0,1.1,0.1) # 정수만 제공하고 float 은 제공하지 않음"
   ]
  },
  {
   "cell_type": "code",
   "execution_count": 187,
   "id": "a1e20319",
   "metadata": {},
   "outputs": [
    {
     "data": {
      "text/plain": [
       "array([0. , 0.1, 0.2, 0.3, 0.4, 0.5, 0.6, 0.7, 0.8, 0.9, 1. ])"
      ]
     },
     "execution_count": 187,
     "metadata": {},
     "output_type": "execute_result"
    }
   ],
   "source": [
    "import numpy as np\n",
    "np.arange(0,1.1,0.1)"
   ]
  },
  {
   "cell_type": "code",
   "execution_count": null,
   "id": "c965bfc8",
   "metadata": {},
   "outputs": [],
   "source": []
  },
  {
   "cell_type": "markdown",
   "id": "5de9d74e",
   "metadata": {
    "slideshow": {
     "slide_type": "subslide"
    }
   },
   "source": [
    "## enumerate()\n",
    "\n",
    "- 구문\n",
    "    - `enumerate(Iterable,  [, start=정수])`\n",
    "        - 현재 몇번째 값을 제공하는 지(현재 몇번째 반복인지)를 나타내는 **index**와 제공하는 **원소**를 tuple로 묶어서 반환\n",
    "        - Iterable\n",
    "            - 값을 제공할 Iterable객체\n",
    "        - start: 정수\n",
    "            - index 시작 값. 생략하면 0부터 시작한다."
   ]
  },
  {
   "cell_type": "code",
   "execution_count": 408,
   "id": "efdf43f0",
   "metadata": {},
   "outputs": [
    {
     "name": "stdout",
     "output_type": "stream",
     "text": [
      "(0, 10)\n",
      "(1, 30)\n",
      "(2, 70)\n",
      "(3, 5)\n",
      "(4, 5)\n",
      "(5, 120)\n",
      "(6, 700)\n",
      "(7, 1)\n",
      "(8, 35)\n",
      "(9, 35)\n",
      "[(0, 10), (1, 30), (2, 70), (3, 5), (4, 5), (5, 120), (6, 700), (7, 1), (8, 35), (9, 35)]\n",
      "[(0, 10), (1, 30), (2, 70), (3, 5), (4, 5), (5, 120), (6, 700), (7, 1), (8, 35), (9, 35)]\n"
     ]
    }
   ],
   "source": [
    "b=[i for i in enumerate(lst)]\n",
    "print(b)"
   ]
  },
  {
   "cell_type": "code",
   "execution_count": 188,
   "id": "33dd96c5",
   "metadata": {
    "scrolled": true,
    "slideshow": {
     "slide_type": "fragment"
    }
   },
   "outputs": [
    {
     "name": "stdout",
     "output_type": "stream",
     "text": [
      "(0, 'a')\n",
      "(1, 'b')\n",
      "(2, 'c')\n",
      "(3, 'd')\n"
     ]
    }
   ],
   "source": [
    "l=['a','b','c','d']\n",
    "for v in enumerate(l):\n",
    "    print(v)"
   ]
  },
  {
   "cell_type": "code",
   "execution_count": 190,
   "id": "7e056974",
   "metadata": {},
   "outputs": [
    {
     "name": "stdout",
     "output_type": "stream",
     "text": [
      "0 a\n",
      "1 b\n",
      "2 c\n",
      "3 d\n"
     ]
    }
   ],
   "source": [
    "for i,v in enumerate(l):\n",
    "    print(i,v)"
   ]
  },
  {
   "cell_type": "code",
   "execution_count": 228,
   "id": "446c40ab",
   "metadata": {},
   "outputs": [
    {
     "name": "stdout",
     "output_type": "stream",
     "text": [
      "0번째 중간결과:0\n",
      "10000번째 중간결과:50,005,000\n",
      "20000번째 중간결과:200,010,000\n",
      "30000번째 중간결과:450,015,000\n",
      "40000번째 중간결과:800,020,000\n",
      "50000번째 중간결과:1,250,025,000\n",
      "60000번째 중간결과:1,800,030,000\n",
      "70000번째 중간결과:2,450,035,000\n",
      "80000번째 중간결과:3,200,040,000\n",
      "90000번째 중간결과:4,050,045,000\n"
     ]
    }
   ],
   "source": [
    "# 0~1000000 누적합계\n",
    "result=0# 누적합를 저장할 변수\n",
    "for idx,i in enumerate(range(100000)):\n",
    "    result+=i\n",
    "    if idx % 10000 == 0:\n",
    "        print(f\"{idx}번째 중간결과:{format(result,',')}\")"
   ]
  },
  {
   "cell_type": "code",
   "execution_count": null,
   "id": "996fa257",
   "metadata": {},
   "outputs": [],
   "source": []
  },
  {
   "cell_type": "markdown",
   "id": "f5a5540f",
   "metadata": {
    "slideshow": {
     "slide_type": "subslide"
    }
   },
   "source": [
    "## zip()\n",
    "- 여러 개의 Iterable 객체를 받아 반복시 같은 index의 값끼리 튜플로 묶어 반환한다.\n",
    "- 구문\n",
    "    - `zip(Iterable1, Iterable2, Iterable3 [, .......])`\n",
    "        - Iterable 2개이상.전달한다.\n",
    "- 각 자료구조 객체의 크기가 다를 경우 크기가 작은 것의 개수에 맞춰 반복한다."
   ]
  },
  {
   "cell_type": "code",
   "execution_count": 223,
   "id": "1b99057f",
   "metadata": {
    "slideshow": {
     "slide_type": "fragment"
    }
   },
   "outputs": [],
   "source": [
    "names=[\"홍길동\",\"이순신\",\"유관순\", \"강감찬\"]\n",
    "ages= [35       , 55    , 65      , 25]\n",
    "adress=[ \"서울\",\"부산\",\"광주\",\"대구\"]"
   ]
  },
  {
   "cell_type": "code",
   "execution_count": 224,
   "id": "d100f2a0",
   "metadata": {},
   "outputs": [
    {
     "name": "stdout",
     "output_type": "stream",
     "text": [
      "홍길동 35 서울\n"
     ]
    }
   ],
   "source": [
    "print(names[0],ages[0],adress[0])"
   ]
  },
  {
   "cell_type": "code",
   "execution_count": 225,
   "id": "f7d178a1",
   "metadata": {},
   "outputs": [
    {
     "name": "stdout",
     "output_type": "stream",
     "text": [
      "('홍길동', 35, '서울')\n",
      "('이순신', 55, '부산')\n",
      "('유관순', 65, '광주')\n",
      "('강감찬', 25, '대구')\n"
     ]
    }
   ],
   "source": [
    "for x in zip(names,ages,adress):\n",
    "    print(x)"
   ]
  },
  {
   "cell_type": "code",
   "execution_count": 227,
   "id": "3a7e7705",
   "metadata": {},
   "outputs": [
    {
     "name": "stdout",
     "output_type": "stream",
     "text": [
      "홍길동 35 서울\n",
      "이순신 55 부산\n",
      "유관순 65 광주\n",
      "강감찬 25 대구\n"
     ]
    }
   ],
   "source": [
    "for x,y,z in zip(names,ages,adress):\n",
    "    print(x,y,z)"
   ]
  },
  {
   "cell_type": "code",
   "execution_count": 229,
   "id": "a1258ff7",
   "metadata": {},
   "outputs": [
    {
     "name": "stdout",
     "output_type": "stream",
     "text": [
      "홍길동 35 서울\n",
      "이순신 55 부산\n",
      "유관순 65 광주\n",
      "강감찬 25 대구\n"
     ]
    }
   ],
   "source": [
    "# 원소의 갯수가 다른 경우\n",
    "names=[\"홍길동\",\"이순신\",\"유관순\", \"강감찬\"]\n",
    "ages= [35       , 55    , 65      , 25]\n",
    "adress=[ \"서울\",\"부산\",\"광주\",\"대구\",\"인천\",\"일산\"]\n",
    "for x,y,z in zip(names,ages,adress):\n",
    "    print(x,y,z)\n",
    "# 가장 작은 원소의 갯수에 맞춰 나온다\n"
   ]
  },
  {
   "cell_type": "markdown",
   "id": "2df89dae",
   "metadata": {
    "slideshow": {
     "slide_type": "subslide"
    }
   },
   "source": [
    "# 컴프리헨션(Comprehension)\n",
    "\n",
    "- 기존 Iterable의 원소들을 이용해서 새로운 자료구조(List, Dictionary, Set)를 생성하는 구문.\n",
    "    - 기존 Iterable의 **원소들을 처리한 결과**나  **특정 조건이 True인 값들을** 새로운 자료구조에 넣을때 사용.\n",
    "    - 결과를 넣을 새로운 자료구조에 따라 다음 세가지 구문이 있다.\n",
    "        - 리스트 컴프리헨션\n",
    "        - 딕셔너리  컴프리헨션\n",
    "        - 셋  컴프리헨션\n",
    "- 튜플 컴프리헨션은 없다.\n",
    "- 딕셔너리 컴프리헨션과 셋 컴프리헨션은 파이썬 3 에 새로 추가되었다."
   ]
  },
  {
   "cell_type": "code",
   "execution_count": 287,
   "id": "e04827d9",
   "metadata": {
    "slideshow": {
     "slide_type": "fragment"
    }
   },
   "outputs": [
    {
     "name": "stdout",
     "output_type": "stream",
     "text": [
      "결과: [10, 20, 30, 40, 50, 60, 70, 80, 90, 100]\n"
     ]
    }
   ],
   "source": [
    "l= list(range(1,11))\n",
    "l\n",
    "#L이 가지는 원소들을 10배한 결과를 모아놓은 리스트를 생성하고 싶음\n",
    "result=[] # 10배한 결과를 담을 리스트\n",
    "for i in l:\n",
    "#    print(i*10)\n",
    "    result.append(i*10)\n",
    "print(\"결과:\",result)"
   ]
  },
  {
   "cell_type": "code",
   "execution_count": 311,
   "id": "84a1fe2c",
   "metadata": {},
   "outputs": [
    {
     "name": "stdout",
     "output_type": "stream",
     "text": [
      "원하는 구구단 입력값: 9\n",
      "9x1=9\n",
      "9x2=18\n",
      "9x3=27\n",
      "9x4=36\n",
      "9x5=45\n",
      "9x6=54\n",
      "9x7=63\n",
      "9x8=72\n",
      "9x9=81\n"
     ]
    }
   ],
   "source": []
  },
  {
   "cell_type": "code",
   "execution_count": null,
   "id": "34e2fd2c",
   "metadata": {},
   "outputs": [],
   "source": [
    "#리스트 컴프리헨션\n",
    "[v*10 for v in l] #[ 밖에 리스트에 넣을 값 for v in l]  <<-형식"
   ]
  },
  {
   "cell_type": "code",
   "execution_count": 295,
   "id": "66d4c958",
   "metadata": {},
   "outputs": [
    {
     "name": "stdout",
     "output_type": "stream",
     "text": [
      "{1, 2, 3}\n"
     ]
    }
   ],
   "source": [
    "l=[1,1,2,2,3,3]\n",
    "result={v for v in l} # set 컴프리헨션\n",
    "print(result)"
   ]
  },
  {
   "cell_type": "code",
   "execution_count": 306,
   "id": "fdd77fce",
   "metadata": {},
   "outputs": [
    {
     "name": "stdout",
     "output_type": "stream",
     "text": [
      "aaaa 4\n",
      "ddd 3\n",
      "vcdcd 5\n",
      "aa 2\n",
      "가나다라마바사 7\n",
      "{'aaaa': 4, 'ddd': 3, 'vcdcd': 5, 'aa': 2, '가나다라마바사': 7}\n"
     ]
    }
   ],
   "source": [
    "t=\"aaaa\", \"ddd\", \"vcdcd\" ,\"aa\", \"가나다라마바사\"\n",
    "result3={}\n",
    "for s in t:\n",
    "    print(s, len(s))\n",
    "    result3[s]=len(s)\n",
    "print(result3)\n",
    "result4={s:len(s) for s in t} # 딕셔너리 컴플리헨션"
   ]
  },
  {
   "cell_type": "code",
   "execution_count": 318,
   "id": "911763bf",
   "metadata": {},
   "outputs": [
    {
     "name": "stdout",
     "output_type": "stream",
     "text": [
      "[10, 20, 30, 40, 50, 60, 70, 80, 90]\n",
      "[10, 20, 30, 40, 50, 60, 70, 80, 90]\n"
     ]
    }
   ],
   "source": [
    "l = list(range(1,100))\n",
    "#l의 원소중 10의 배수만 가지는 리스트를 생성\n",
    "result10=[]\n",
    "for v in l:\n",
    "    if v%10 == 0:\n",
    "        result10.append(v)\n",
    "# result11=[v%10 == 0 for v in l]  이게 아니네\n",
    "print(result10)\n",
    "result11=[v for v in l if v%10==0]\n",
    "print(result11)"
   ]
  },
  {
   "cell_type": "code",
   "execution_count": 320,
   "id": "a9950f23",
   "metadata": {},
   "outputs": [
    {
     "name": "stdout",
     "output_type": "stream",
     "text": [
      "[5, 15, 25, 35, 45, 55, 65, 75, 85]\n"
     ]
    }
   ],
   "source": [
    "result13=[v-5 for v in l if v%10==0]\n",
    "print(result13)"
   ]
  },
  {
   "cell_type": "code",
   "execution_count": 388,
   "id": "338fb054",
   "metadata": {},
   "outputs": [
    {
     "name": "stdout",
     "output_type": "stream",
     "text": [
      "[False, False, False, False, False, False, False, False, False, True, False, False, False, False, False, False, False, False, False, True, False, False, False, False, False, False, False, False, False, True, False, False, False, False, False, False, False, False, False, True, False, False, False, False, False, False, False, False, False, True, False, False, False, False, False, False, False, False, False, True, False, False, False, False, False, False, False, False, False, True, False, False, False, False, False, False, False, False, False, True, False, False, False, False, False, False, False, False, False, True, False, False, False, False, False, False, False, False, False]\n"
     ]
    }
   ],
   "source": [
    "result12=[v%10==0 for v in l] \n",
    "# 0인지 아닌지 물어봐서 저렇게 표시됨 결과로 표시해서 이렇게됨 중간결과로 놓고 마지막에 결과로 표시해줘야 함\n",
    "print(result12)"
   ]
  },
  {
   "cell_type": "code",
   "execution_count": 341,
   "id": "1c0f269b",
   "metadata": {},
   "outputs": [
    {
     "name": "stdout",
     "output_type": "stream",
     "text": [
      "[0, 100, 200, 300]\n",
      "[0, 100, 200, 300]\n"
     ]
    }
   ],
   "source": [
    "l2=[\n",
    "    [1,2,3],\n",
    "    [10,20],\n",
    "    [100,200,300,400]\n",
    "]\n",
    "# l2의 모든 값들에서 100을 뺀 결과를 가지는 리스트 생성\n",
    "list=[]\n",
    "for x in l2:\n",
    "    for y in x:\n",
    "        if y >= 50:\n",
    "            list.append(y-100)\n",
    "print(list)\n",
    "\n",
    "list2=[y-100 for x in l2 for y in x if y>= 50]\n",
    "print(list2)"
   ]
  },
  {
   "cell_type": "code",
   "execution_count": 307,
   "id": "8a1521b7",
   "metadata": {},
   "outputs": [
    {
     "data": {
      "text/plain": [
       "{'aaaa': 4, 'ddd': 3, 'vcdcd': 5, 'aa': 2, '가나다라마바사': 7}"
      ]
     },
     "execution_count": 307,
     "metadata": {},
     "output_type": "execute_result"
    }
   ],
   "source": [
    "result4"
   ]
  },
  {
   "cell_type": "markdown",
   "id": "092288d7",
   "metadata": {
    "slideshow": {
     "slide_type": "skip"
    }
   },
   "source": [
    "# TODO"
   ]
  },
  {
   "cell_type": "code",
   "execution_count": 441,
   "id": "f948dccf",
   "metadata": {
    "slideshow": {
     "slide_type": "skip"
    }
   },
   "outputs": [
    {
     "name": "stdout",
     "output_type": "stream",
     "text": [
      "점수 입력23\n",
      "F학점\n"
     ]
    }
   ],
   "source": [
    "#(1) 다음 점수 구간에 맞게 학점을 출력하세요.\n",
    "# 91 ~ 100 : A학점\n",
    "# 81 ~ 90 :  B학점\n",
    "# 71 ~ 80 :  C학점\n",
    "# 61 ~ 70 :  D학점\n",
    "# 60이하   :  F학점\n",
    "jumsu=int(input(\"점수 입력\"))\n",
    "if jumsu >90 and jumsu <100:\n",
    "    print(\"A학점\")\n",
    "elif jumsu >80 and jumsu <90:\n",
    "    print(\"B학점\")\n",
    "elif jumsu >70 and jumsu <80:\n",
    "    print(\"C학점\")\n",
    "elif jumsu >60 and jumsu <70:\n",
    "    print(\"D학점\")\n",
    "else:\n",
    "    print(\"F학점\")"
   ]
  },
  {
   "cell_type": "code",
   "execution_count": null,
   "id": "60eaf257",
   "metadata": {},
   "outputs": [],
   "source": [
    "if jumsu >0 or jumsu > 100:\n",
    "    print(f\"{jumsu}는 잘못된 점수 입니다.\")"
   ]
  },
  {
   "cell_type": "code",
   "execution_count": 476,
   "id": "a0b03d56",
   "metadata": {},
   "outputs": [
    {
     "name": "stdout",
     "output_type": "stream",
     "text": [
      "점수 입력:90\n"
     ]
    },
    {
     "ename": "IndexError",
     "evalue": "list index out of range",
     "output_type": "error",
     "traceback": [
      "\u001b[1;31m---------------------------------------------------------------------------\u001b[0m",
      "\u001b[1;31mIndexError\u001b[0m                                Traceback (most recent call last)",
      "Cell \u001b[1;32mIn[476], line 15\u001b[0m\n\u001b[0;32m     13\u001b[0m         \u001b[38;5;28mprint\u001b[39m(degree[\u001b[38;5;241m4\u001b[39m])\n\u001b[0;32m     14\u001b[0m         \u001b[38;5;28;01mbreak\u001b[39;00m\n\u001b[1;32m---> 15\u001b[0m \u001b[38;5;28mprint\u001b[39m(\u001b[38;5;124mf\u001b[39m\u001b[38;5;124m\"\u001b[39m\u001b[38;5;124m학점은\u001b[39m\u001b[38;5;132;01m{\u001b[39;00mdegree[\u001b[38;5;241m9\u001b[39m\u001b[38;5;241m-\u001b[39mi]\u001b[38;5;132;01m}\u001b[39;00m\u001b[38;5;124m\"\u001b[39m)\n",
      "\u001b[1;31mIndexError\u001b[0m: list index out of range"
     ]
    }
   ],
   "source": [
    "jumsu=int(input(\"점수 입력:\"))\n",
    "degree=[\"A\",\"B\",\"C\",\"D\",\"F\"]  #0,1,2,3,4\n",
    "is_right=True\n",
    "for i in (9,5,-1):\n",
    "    if(i*10)+1<= jumsu and jumsu <=(i+1*10):   # 9, 8, 7, 6\n",
    "        degree[9-i]\n",
    "        print(i)\n",
    "        break\n",
    "        # if 점수 80  i=8 degree[1] 9-i B\n",
    "        # if 점수 95   i=9 degree[0] A\n",
    "        # if 점수 45   i=4 \n",
    "    elif jumsu<60:\n",
    "        print(degree[4])\n",
    "        break\n",
    "print(f\"학점은{degree[9-i]}\")\n",
    "      "
   ]
  },
  {
   "cell_type": "code",
   "execution_count": 450,
   "id": "a64799cb",
   "metadata": {
    "slideshow": {
     "slide_type": "skip"
    }
   },
   "outputs": [
    {
     "name": "stdout",
     "output_type": "stream",
     "text": [
      "id40\n",
      "사용할 수 없는 ID 입니다\n"
     ]
    }
   ],
   "source": [
    "#(2) 사용자로 부터  입력 받은 뒤 입력받은 ID가 5글자 이상이면 \"사용할 수 있습니다.\"를 5글자 미만이면 \"사용할 수 없는 ID입니다.\"를 출력하세요.\n",
    "id= input(\"id\")\n",
    "if len(id)>=5:\n",
    "    print(\"사용할 수 있습니다\")\n",
    "else:\n",
    "    print(\"사용할 수 없는 ID 입니다\")"
   ]
  },
  {
   "cell_type": "code",
   "execution_count": null,
   "id": "fe3dde0e",
   "metadata": {},
   "outputs": [],
   "source": []
  },
  {
   "cell_type": "code",
   "execution_count": 446,
   "id": "183aa890",
   "metadata": {
    "slideshow": {
     "slide_type": "skip"
    }
   },
   "outputs": [
    {
     "name": "stdout",
     "output_type": "stream",
     "text": [
      "도시 입력세종\n",
      "세종 특별시\n"
     ]
    }
   ],
   "source": [
    "#(3) 사용자로부터 우리나라 도시명을 입력 받은 뒤 입력받은 도시명이 서울이면\n",
    "#\"특별시\"를 인천,부산,광주,대구,대전,울산 이면 \"광역시\"를 나머지는 \"특별시나 광역시가 아닙니다.\"를 출력하세요.\n",
    "a=[\"인천\",\"부산\",\"광주\",\"대구\",\"대전\",\"울산\"]\n",
    "city= input(\"도시 입력\")\n",
    "if city ==\"서울\" or city ==\"세종\":\n",
    "    print(city+\" 특별시\")\n",
    "elif city in a:\n",
    "    print(city+ \" 광역시\")\n",
    "else:\n",
    "    print(\"특별시나 광역시가 아닙니다\")"
   ]
  },
  {
   "cell_type": "code",
   "execution_count": 418,
   "id": "950072b5",
   "metadata": {
    "slideshow": {
     "slide_type": "skip"
    }
   },
   "outputs": [
    {
     "name": "stdout",
     "output_type": "stream",
     "text": [
      "89.0\n"
     ]
    }
   ],
   "source": [
    "#(4) 아래 리스트의 평균을 구하시오. \n",
    "jumsu = [100, 90, 100, 80, 70, 100, 80, 90, 95, 85]\n",
    "sum=0\n",
    "for i in jumsu:\n",
    "    sum+=i\n",
    "    result=sum/len(jumsu)\n",
    "print(result)\n",
    "# sum(jumsu)하면 쉬움"
   ]
  },
  {
   "cell_type": "code",
   "execution_count": 465,
   "id": "e90fed95",
   "metadata": {
    "scrolled": true,
    "slideshow": {
     "slide_type": "skip"
    }
   },
   "outputs": [
    {
     "name": "stdout",
     "output_type": "stream",
     "text": [
      "점수는:100 코드는: 0 평균이상 여부는: pass\n",
      "점수는:90 코드는: 0 평균이상 여부는: pass\n",
      "점수는:100 코드는: 0 평균이상 여부는: pass\n",
      "점수는:80 코드는: 2 평균이상 여부는: fail\n",
      "점수는:70 코드는: 2 평균이상 여부는: fail\n",
      "점수는:100 코드는: 0 평균이상 여부는: pass\n",
      "점수는:80 코드는: 2 평균이상 여부는: fail\n",
      "점수는:90 코드는: 0 평균이상 여부는: pass\n",
      "점수는:95 코드는: 0 평균이상 여부는: pass\n",
      "점수는:85 코드는: 2 평균이상 여부는: fail\n"
     ]
    }
   ],
   "source": [
    "#(5) 위 jumsu리스트에서 평균점수이상은 pass, 미만은 fail을 index번호와 함께 출력하시오. (ex: 0-pass, 1-pass, 2-fail)\n",
    "ro={\n",
    "    \"0\":\"pass\",\n",
    "    \"1\":\"pass\",\n",
    "    \"2\":\"fail\"\n",
    "}\n",
    "avr=list(ro.keys())\n",
    "index=list(ro.values())\n",
    "jumsu = [100, 90, 100, 80, 70, 100, 80, 90, 95, 85]\n",
    "sum=0\n",
    "for i in jumsu:\n",
    "    sum+=i\n",
    "    result=sum/len(jumsu)\n",
    "for i in jumsu:\n",
    "    if i>=result:\n",
    "        print(f\"점수는:{i} 코드는: {avr[0]} 평균이상 여부는: {index[0]}\")\n",
    "    else:\n",
    "        print(f\"점수는:{i} 코드는: {avr[2]} 평균이상 여부는: {index[2]}\")\n",
    "    sum+=i"
   ]
  },
  {
   "cell_type": "code",
   "execution_count": 468,
   "id": "7d76312c",
   "metadata": {
    "slideshow": {
     "slide_type": "skip"
    }
   },
   "outputs": [
    {
     "name": "stdout",
     "output_type": "stream",
     "text": [
      "95\n",
      "95\n",
      "None\n"
     ]
    }
   ],
   "source": [
    "#(6) 아래 리스트 값들 중 최대값을 조회해 출력\n",
    "jumsu = [60, 90, 80, 80, 70, 55, 80, 90, 95, 85]\n",
    "max(jumsu)\n",
    "# 다른 방식 버블? 이였나 \n",
    "temp=jumsu[0]\n",
    "for x in jumsu:\n",
    "    for y in jumsu:\n",
    "        if x<y:\n",
    "            temp=y\n",
    "print(temp)\n",
    "60 >90\n",
    "temp =90\n",
    "t\n",
    "# 다른 방식\n",
    "a=sorted(jumsu)\n",
    "print(a[-1])\n",
    "#다른방식\n",
    "e=jumsu.sort()\n",
    "print(e)"
   ]
  },
  {
   "cell_type": "code",
   "execution_count": null,
   "id": "8dd3ce6b",
   "metadata": {},
   "outputs": [],
   "source": [
    "for idx,value in enumerate(jumsu):\n",
    "    if value>=avg:\n",
    "        print(f{idx}-pass)~~~\n",
    "    "
   ]
  },
  {
   "cell_type": "code",
   "execution_count": 472,
   "id": "f49a4019",
   "metadata": {
    "slideshow": {
     "slide_type": "skip"
    }
   },
   "outputs": [
    {
     "name": "stdout",
     "output_type": "stream",
     "text": [
      "소\n",
      "호랑이\n",
      "용\n",
      "뱀\n"
     ]
    }
   ],
   "source": [
    "\n",
    "#(7) 다음 리스트 중에서 \"쥐\"와 \"토끼\" 제외한 나머지를 출력하세요.\n",
    "str_list = [\"쥐\", \"소\", \"호랑이\", \"토끼\", \"용\", \"뱀\"]\n",
    "for i in str_list:\n",
    "    if i ==\"쥐\" or i ==\"토끼\":\n",
    "        continue\n",
    "    print(i)\n",
    "    #if i not in [\"쥐\", \"토끼\"]:\n",
    "    # print(i)\n",
    "######## 다른방식\n",
    "    #if i in [\"쥐\", \"토끼\"]:\n",
    "\n",
    "    "
   ]
  },
  {
   "cell_type": "code",
   "execution_count": null,
   "id": "fcd08895",
   "metadata": {},
   "outputs": [],
   "source": []
  },
  {
   "cell_type": "code",
   "execution_count": 475,
   "id": "c1555115",
   "metadata": {
    "slideshow": {
     "slide_type": "skip"
    }
   },
   "outputs": [
    {
     "name": "stdout",
     "output_type": "stream",
     "text": [
      "원하는 구구단 입력값: 31\n",
      "31x1=31\n",
      "31x2=62\n",
      "31x3=93\n",
      "31x4=124\n",
      "31x5=155\n",
      "31x6=186\n",
      "31x7=217\n",
      "31x8=248\n",
      "31x9=279\n"
     ]
    }
   ],
   "source": [
    "#(8) 사용자로부터 정수를 입력받아 그 단의 구구단을 출력하시오. \n",
    "# ex) 단을 입력하시오 : 2  \n",
    "# 2 x 1 = 2\n",
    "# 2 x 2 = 4\n",
    "#..\n",
    "# 2 x 9 = 18\n",
    "q=int(input(\"원하는 구구단 입력값: \"))\n",
    "for x in range(1,10):\n",
    "    print(f\"{q}x{x}={q*x}\")"
   ]
  },
  {
   "cell_type": "code",
   "execution_count": null,
   "id": "3703737c",
   "metadata": {},
   "outputs": [],
   "source": []
  },
  {
   "cell_type": "code",
   "execution_count": 343,
   "id": "3678a43a",
   "metadata": {
    "slideshow": {
     "slide_type": "skip"
    }
   },
   "outputs": [
    {
     "name": "stdout",
     "output_type": "stream",
     "text": [
      "[20, 60, 140, 10, 240, 1400, 2, 70]\n"
     ]
    }
   ],
   "source": [
    "#컴프리헨션\n",
    "\n",
    "#(9) 다음 리스트가 가진 값에 두배(* 2)를 가지는 새로운 리스트를 만드시오. (리스트 컴프리헨션 이용)\n",
    "lst = [10, 30, 70, 5, 120, 700, 1, 35]\n",
    "st=[v*2 for v in lst]\n",
    "print(st)"
   ]
  },
  {
   "cell_type": "code",
   "execution_count": 409,
   "id": "cb48afda",
   "metadata": {
    "slideshow": {
     "slide_type": "skip"
    }
   },
   "outputs": [
    {
     "name": "stdout",
     "output_type": "stream",
     "text": [
      "[(0, 10), (1, 30), (2, 70), (3, 5), (4, 5), (5, 120), (6, 700), (7, 1), (8, 35), (9, 35)]\n"
     ]
    }
   ],
   "source": [
    "#(10) 다음 리스트가 가진 값에 10배의 값을 가지는 값을 (원래값, 10배값) 의 튜플 묶음으로 가지는 리스트를 만드시오 (리스트 컴프리헨션 이용)\n",
    "# Ex) [(10,100), (30,300), .., (35, 350)]\n",
    "lst = [10, 30, 70, 5, 5, 120, 700, 1, 35, 35]\n",
    "b=[i for i in enumerate(lst)]\n",
    "print(b)\n",
    " "
   ]
  },
  {
   "cell_type": "code",
   "execution_count": 357,
   "id": "a184aa31",
   "metadata": {
    "slideshow": {
     "slide_type": "skip"
    }
   },
   "outputs": [
    {
     "name": "stdout",
     "output_type": "stream",
     "text": [
      "[3, 33, 21, 33, 60, 120]\n"
     ]
    }
   ],
   "source": [
    "#(11) 다음 리스트가 가진 값들 중 3의 배수만 가지는 리스트를 만드시오. (리스트 컴프리헨션 이용)\n",
    "lst2 = [ 3, 20, 33, 21, 33, 8, 11, 10, 7, 17, 60, 120, 2]\n",
    "lst3=[i for i in lst2 if i %3==0]\n",
    "print(lst3)"
   ]
  },
  {
   "cell_type": "code",
   "execution_count": 477,
   "id": "b6013de2",
   "metadata": {
    "slideshow": {
     "slide_type": "skip"
    }
   },
   "outputs": [
    {
     "name": "stdout",
     "output_type": "stream",
     "text": [
      "['a.exe', 'function.exe', 'b.exe', 'run.exe']\n"
     ]
    },
    {
     "data": {
      "text/plain": [
       "['a.exe', 'function.exe', 'b.exe', 'run.exe']"
      ]
     },
     "execution_count": 477,
     "metadata": {},
     "output_type": "execute_result"
    }
   ],
   "source": [
    "#(12) 다음 파일이름들을 담은 리스트에서 확장자가 exe인 파일만 골라서 새로운 리스트에 담으시오.(string의 endswith()함수 이용)\n",
    "file_name=[\"test.txt\", \"a.exe\", \"jupyter.bat\", \"function.exe\", \"b.exe\", \"cat.jpg\", \"dog.png\", \"run.exe\", \"i.dll\"]\n",
    "res=[]\n",
    "for i in file_name:\n",
    "    if i.endswith(\".exe\")==True:  # True 할필요가 없네\n",
    "        res.append(i)\n",
    "print(res)\n",
    "# [i for i in file_name if i.endswith(\".exe\")]"
   ]
  },
  {
   "cell_type": "code",
   "execution_count": 374,
   "id": "fb79ec1f",
   "metadata": {
    "slideshow": {
     "slide_type": "skip"
    }
   },
   "outputs": [
    {
     "name": "stdout",
     "output_type": "stream",
     "text": [
      "['mystroy.txt', 'jupyter.bat', 'function.exe']\n"
     ]
    }
   ],
   "source": [
    "#(13) 다음 중 10글자 이상인 파일명(확장자포함)만 가지는 리스트를 만드시오.\n",
    "file_name=[\"mystroy.txt\", \"a.exe\", \"jupyter.bat\", \"function.exe\", \"b.exe\", \"cat.jpg\", \"dog.png\", \"run.exe\", \"i.dll\"]\n",
    "text=[]\n",
    "for i in file_name:\n",
    "    if len(i)>=10:\n",
    "        text.append(i)\n",
    "print(text)"
   ]
  },
  {
   "cell_type": "code",
   "execution_count": 480,
   "id": "a0cc04fa",
   "metadata": {
    "slideshow": {
     "slide_type": "skip"
    }
   },
   "outputs": [
    {
     "name": "stdout",
     "output_type": "stream",
     "text": [
      "['c', 'g', 'h', 'k']\n"
     ]
    },
    {
     "data": {
      "text/plain": [
       "['c', 'g', 'h', 'k']"
      ]
     },
     "execution_count": 480,
     "metadata": {},
     "output_type": "execute_result"
    }
   ],
   "source": [
    "#(14) 다음 리스트에서 소문자만 가지는 새로운 리스트를 만드시오.\n",
    "str_list = [\"A\", \"B\", \"c\", \"D\", \"E\", \"F\", \"g\", \"h\", \"I\", \"J\", \"k\"]\n",
    "so= []\n",
    "a=set(str_list)\n",
    "for i in str_list:  # islower 없이\n",
    "    if i>'J':\n",
    "        so.append(i)\n",
    "print(so)\n",
    "[s for s in str_list if s.islower()]"
   ]
  },
  {
   "cell_type": "code",
   "execution_count": null,
   "id": "190d3350",
   "metadata": {},
   "outputs": [],
   "source": []
  }
 ],
 "metadata": {
  "kernelspec": {
   "display_name": "Python 3 (ipykernel)",
   "language": "python",
   "name": "python3"
  },
  "language_info": {
   "codemirror_mode": {
    "name": "ipython",
    "version": 3
   },
   "file_extension": ".py",
   "mimetype": "text/x-python",
   "name": "python",
   "nbconvert_exporter": "python",
   "pygments_lexer": "ipython3",
   "version": "3.10.9"
  },
  "toc": {
   "base_numbering": 1,
   "nav_menu": {},
   "number_sections": true,
   "sideBar": true,
   "skip_h1_title": false,
   "title_cell": "Table of Contents",
   "title_sidebar": "Contents",
   "toc_cell": false,
   "toc_position": {},
   "toc_section_display": true,
   "toc_window_display": false
  },
  "varInspector": {
   "cols": {
    "lenName": 16,
    "lenType": 16,
    "lenVar": 40
   },
   "kernels_config": {
    "python": {
     "delete_cmd_postfix": "",
     "delete_cmd_prefix": "del ",
     "library": "var_list.py",
     "varRefreshCmd": "print(var_dic_list())"
    },
    "r": {
     "delete_cmd_postfix": ") ",
     "delete_cmd_prefix": "rm(",
     "library": "var_list.r",
     "varRefreshCmd": "cat(var_dic_list()) "
    }
   },
   "types_to_exclude": [
    "module",
    "function",
    "builtin_function_or_method",
    "instance",
    "_Feature"
   ],
   "window_display": false
  }
 },
 "nbformat": 4,
 "nbformat_minor": 5
}
