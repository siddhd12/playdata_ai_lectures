{
 "cells": [
  {
   "cell_type": "markdown",
   "metadata": {
    "slideshow": {
     "slide_type": "slide"
    }
   },
   "source": [
    "# 선형회귀 개요\n",
    "\n",
    "선형 회귀(線型回歸, Linear regression)는 종속 변수 y와 한 개 이상의 독립 변수X와의 선형 상관 관계를 모델링하는 회귀분석 기법. [위키백과](https://ko.wikipedia.org/wiki/%EC%84%A0%ED%98%95_%ED%9A%8C%EA%B7%80)"
   ]
  },
  {
   "cell_type": "markdown",
   "metadata": {
    "slideshow": {
     "slide_type": "fragment"
    }
   },
   "source": [
    "## 선형회귀 모델\n",
    "- 각 Feature들에 가중치(Weight)를 곱하고 편향(bias)를 더해 예측 결과를 출력한다.\n",
    "- Weight와 bias가 학습 대상 Parameter가 된다.\n",
    "\n",
    "$$\n",
    "\\hat{y_i} = w_1 x_{i1} + w_2 x_{i2}... + w_{p} x_{ip} + b\n",
    "\\\\\n",
    "\\hat{y_i} = \\mathbf{w}^{T} \\cdot \\mathbf{X} \n",
    "$$\n",
    "\n",
    "- $\\hat{y_i}$: 예측값\n",
    "- $x$: 특성(feature-컬럼)\n",
    "- $w$: 가중치(weight), 회귀계수(regression coefficient). 특성이 $\\hat{y_i}$ 에 얼마나 영향을 주는지 정도\n",
    "- $b$: 절편\n",
    "- $p$: p 번째 특성(feature)/p번째 가중치\n",
    "- $i$: i번째 관측치(sample)"
   ]
  },
  {
   "cell_type": "markdown",
   "metadata": {
    "slideshow": {
     "slide_type": "slide"
    }
   },
   "source": [
    "## LinearRegression\n",
    "- 가장 기본적인 선형 회귀 모델\n",
    "- 각 Feauture에 가중합으로 Y값을 추론한다.\n",
    "### 데이터 전처리\n",
    "\n",
    "- **선형회귀 모델사용시 전처리**\n",
    "    - **범주형 Feature**\n",
    "        - : 원핫 인코딩\n",
    "    - **연속형 Feature**\n",
    "        - Feature Scaling을 통해서 각 컬럼들의 값의 단위를 맞춰준다.\n",
    "        - StandardScaler를 사용할 때 성능이 더 잘나오는 경향이 있다."
   ]
  },
  {
   "cell_type": "code",
   "execution_count": 4,
   "metadata": {},
   "outputs": [],
   "source": [
    "from sklearn.linear_model import LinearRegression\n",
    "from dataset import get_boston_dataset\n",
    "from sklearn.preprocessing import StandardScaler"
   ]
  },
  {
   "cell_type": "code",
   "execution_count": 5,
   "metadata": {},
   "outputs": [],
   "source": [
    "X_train, X_test, y_train, y_test= get_boston_dataset()"
   ]
  },
  {
   "cell_type": "code",
   "execution_count": 6,
   "metadata": {},
   "outputs": [],
   "source": [
    "scaler=StandardScaler()\n",
    "X_train_scaled=scaler.fit_transform(X_train)\n",
    "X_test_scaled= scaler.transform(X_test)"
   ]
  },
  {
   "cell_type": "code",
   "execution_count": 7,
   "metadata": {},
   "outputs": [
    {
     "data": {
      "text/html": [
       "<style>#sk-container-id-1 {color: black;background-color: white;}#sk-container-id-1 pre{padding: 0;}#sk-container-id-1 div.sk-toggleable {background-color: white;}#sk-container-id-1 label.sk-toggleable__label {cursor: pointer;display: block;width: 100%;margin-bottom: 0;padding: 0.3em;box-sizing: border-box;text-align: center;}#sk-container-id-1 label.sk-toggleable__label-arrow:before {content: \"▸\";float: left;margin-right: 0.25em;color: #696969;}#sk-container-id-1 label.sk-toggleable__label-arrow:hover:before {color: black;}#sk-container-id-1 div.sk-estimator:hover label.sk-toggleable__label-arrow:before {color: black;}#sk-container-id-1 div.sk-toggleable__content {max-height: 0;max-width: 0;overflow: hidden;text-align: left;background-color: #f0f8ff;}#sk-container-id-1 div.sk-toggleable__content pre {margin: 0.2em;color: black;border-radius: 0.25em;background-color: #f0f8ff;}#sk-container-id-1 input.sk-toggleable__control:checked~div.sk-toggleable__content {max-height: 200px;max-width: 100%;overflow: auto;}#sk-container-id-1 input.sk-toggleable__control:checked~label.sk-toggleable__label-arrow:before {content: \"▾\";}#sk-container-id-1 div.sk-estimator input.sk-toggleable__control:checked~label.sk-toggleable__label {background-color: #d4ebff;}#sk-container-id-1 div.sk-label input.sk-toggleable__control:checked~label.sk-toggleable__label {background-color: #d4ebff;}#sk-container-id-1 input.sk-hidden--visually {border: 0;clip: rect(1px 1px 1px 1px);clip: rect(1px, 1px, 1px, 1px);height: 1px;margin: -1px;overflow: hidden;padding: 0;position: absolute;width: 1px;}#sk-container-id-1 div.sk-estimator {font-family: monospace;background-color: #f0f8ff;border: 1px dotted black;border-radius: 0.25em;box-sizing: border-box;margin-bottom: 0.5em;}#sk-container-id-1 div.sk-estimator:hover {background-color: #d4ebff;}#sk-container-id-1 div.sk-parallel-item::after {content: \"\";width: 100%;border-bottom: 1px solid gray;flex-grow: 1;}#sk-container-id-1 div.sk-label:hover label.sk-toggleable__label {background-color: #d4ebff;}#sk-container-id-1 div.sk-serial::before {content: \"\";position: absolute;border-left: 1px solid gray;box-sizing: border-box;top: 0;bottom: 0;left: 50%;z-index: 0;}#sk-container-id-1 div.sk-serial {display: flex;flex-direction: column;align-items: center;background-color: white;padding-right: 0.2em;padding-left: 0.2em;position: relative;}#sk-container-id-1 div.sk-item {position: relative;z-index: 1;}#sk-container-id-1 div.sk-parallel {display: flex;align-items: stretch;justify-content: center;background-color: white;position: relative;}#sk-container-id-1 div.sk-item::before, #sk-container-id-1 div.sk-parallel-item::before {content: \"\";position: absolute;border-left: 1px solid gray;box-sizing: border-box;top: 0;bottom: 0;left: 50%;z-index: -1;}#sk-container-id-1 div.sk-parallel-item {display: flex;flex-direction: column;z-index: 1;position: relative;background-color: white;}#sk-container-id-1 div.sk-parallel-item:first-child::after {align-self: flex-end;width: 50%;}#sk-container-id-1 div.sk-parallel-item:last-child::after {align-self: flex-start;width: 50%;}#sk-container-id-1 div.sk-parallel-item:only-child::after {width: 0;}#sk-container-id-1 div.sk-dashed-wrapped {border: 1px dashed gray;margin: 0 0.4em 0.5em 0.4em;box-sizing: border-box;padding-bottom: 0.4em;background-color: white;}#sk-container-id-1 div.sk-label label {font-family: monospace;font-weight: bold;display: inline-block;line-height: 1.2em;}#sk-container-id-1 div.sk-label-container {text-align: center;}#sk-container-id-1 div.sk-container {/* jupyter's `normalize.less` sets `[hidden] { display: none; }` but bootstrap.min.css set `[hidden] { display: none !important; }` so we also need the `!important` here to be able to override the default hidden behavior on the sphinx rendered scikit-learn.org. See: https://github.com/scikit-learn/scikit-learn/issues/21755 */display: inline-block !important;position: relative;}#sk-container-id-1 div.sk-text-repr-fallback {display: none;}</style><div id=\"sk-container-id-1\" class=\"sk-top-container\"><div class=\"sk-text-repr-fallback\"><pre>LinearRegression()</pre><b>In a Jupyter environment, please rerun this cell to show the HTML representation or trust the notebook. <br />On GitHub, the HTML representation is unable to render, please try loading this page with nbviewer.org.</b></div><div class=\"sk-container\" hidden><div class=\"sk-item\"><div class=\"sk-estimator sk-toggleable\"><input class=\"sk-toggleable__control sk-hidden--visually\" id=\"sk-estimator-id-1\" type=\"checkbox\" checked><label for=\"sk-estimator-id-1\" class=\"sk-toggleable__label sk-toggleable__label-arrow\">LinearRegression</label><div class=\"sk-toggleable__content\"><pre>LinearRegression()</pre></div></div></div></div></div>"
      ],
      "text/plain": [
       "LinearRegression()"
      ]
     },
     "execution_count": 7,
     "metadata": {},
     "output_type": "execute_result"
    }
   ],
   "source": [
    "lr= LinearRegression()\n",
    "lr.fit(X_train_scaled,y_train)"
   ]
  },
  {
   "cell_type": "code",
   "execution_count": 8,
   "metadata": {},
   "outputs": [],
   "source": [
    "X= X_train.copy()"
   ]
  },
  {
   "cell_type": "code",
   "execution_count": 9,
   "metadata": {},
   "outputs": [],
   "source": [
    "X['y']=y_train"
   ]
  },
  {
   "cell_type": "code",
   "execution_count": 10,
   "metadata": {},
   "outputs": [
    {
     "data": {
      "text/html": [
       "<div>\n",
       "<style scoped>\n",
       "    .dataframe tbody tr th:only-of-type {\n",
       "        vertical-align: middle;\n",
       "    }\n",
       "\n",
       "    .dataframe tbody tr th {\n",
       "        vertical-align: top;\n",
       "    }\n",
       "\n",
       "    .dataframe thead th {\n",
       "        text-align: right;\n",
       "    }\n",
       "</style>\n",
       "<table border=\"1\" class=\"dataframe\">\n",
       "  <thead>\n",
       "    <tr style=\"text-align: right;\">\n",
       "      <th></th>\n",
       "      <th>CRIM</th>\n",
       "      <th>ZN</th>\n",
       "      <th>INDUS</th>\n",
       "      <th>CHAS</th>\n",
       "      <th>NOX</th>\n",
       "      <th>RM</th>\n",
       "      <th>AGE</th>\n",
       "      <th>DIS</th>\n",
       "      <th>RAD</th>\n",
       "      <th>TAX</th>\n",
       "      <th>PTRATIO</th>\n",
       "      <th>B</th>\n",
       "      <th>LSTAT</th>\n",
       "      <th>y</th>\n",
       "    </tr>\n",
       "  </thead>\n",
       "  <tbody>\n",
       "    <tr>\n",
       "      <th>245</th>\n",
       "      <td>0.19133</td>\n",
       "      <td>22.0</td>\n",
       "      <td>5.86</td>\n",
       "      <td>0.0</td>\n",
       "      <td>0.431</td>\n",
       "      <td>5.605</td>\n",
       "      <td>70.2</td>\n",
       "      <td>7.9549</td>\n",
       "      <td>7.0</td>\n",
       "      <td>330.0</td>\n",
       "      <td>19.1</td>\n",
       "      <td>389.13</td>\n",
       "      <td>18.46</td>\n",
       "      <td>18.5</td>\n",
       "    </tr>\n",
       "    <tr>\n",
       "      <th>59</th>\n",
       "      <td>0.10328</td>\n",
       "      <td>25.0</td>\n",
       "      <td>5.13</td>\n",
       "      <td>0.0</td>\n",
       "      <td>0.453</td>\n",
       "      <td>5.927</td>\n",
       "      <td>47.2</td>\n",
       "      <td>6.9320</td>\n",
       "      <td>8.0</td>\n",
       "      <td>284.0</td>\n",
       "      <td>19.7</td>\n",
       "      <td>396.90</td>\n",
       "      <td>9.22</td>\n",
       "      <td>19.6</td>\n",
       "    </tr>\n",
       "    <tr>\n",
       "      <th>276</th>\n",
       "      <td>0.10469</td>\n",
       "      <td>40.0</td>\n",
       "      <td>6.41</td>\n",
       "      <td>1.0</td>\n",
       "      <td>0.447</td>\n",
       "      <td>7.267</td>\n",
       "      <td>49.0</td>\n",
       "      <td>4.7872</td>\n",
       "      <td>4.0</td>\n",
       "      <td>254.0</td>\n",
       "      <td>17.6</td>\n",
       "      <td>389.25</td>\n",
       "      <td>6.05</td>\n",
       "      <td>33.2</td>\n",
       "    </tr>\n",
       "    <tr>\n",
       "      <th>395</th>\n",
       "      <td>8.71675</td>\n",
       "      <td>0.0</td>\n",
       "      <td>18.10</td>\n",
       "      <td>0.0</td>\n",
       "      <td>0.693</td>\n",
       "      <td>6.471</td>\n",
       "      <td>98.8</td>\n",
       "      <td>1.7257</td>\n",
       "      <td>24.0</td>\n",
       "      <td>666.0</td>\n",
       "      <td>20.2</td>\n",
       "      <td>391.98</td>\n",
       "      <td>17.12</td>\n",
       "      <td>13.1</td>\n",
       "    </tr>\n",
       "    <tr>\n",
       "      <th>416</th>\n",
       "      <td>10.83420</td>\n",
       "      <td>0.0</td>\n",
       "      <td>18.10</td>\n",
       "      <td>0.0</td>\n",
       "      <td>0.679</td>\n",
       "      <td>6.782</td>\n",
       "      <td>90.8</td>\n",
       "      <td>1.8195</td>\n",
       "      <td>24.0</td>\n",
       "      <td>666.0</td>\n",
       "      <td>20.2</td>\n",
       "      <td>21.57</td>\n",
       "      <td>25.79</td>\n",
       "      <td>7.5</td>\n",
       "    </tr>\n",
       "    <tr>\n",
       "      <th>...</th>\n",
       "      <td>...</td>\n",
       "      <td>...</td>\n",
       "      <td>...</td>\n",
       "      <td>...</td>\n",
       "      <td>...</td>\n",
       "      <td>...</td>\n",
       "      <td>...</td>\n",
       "      <td>...</td>\n",
       "      <td>...</td>\n",
       "      <td>...</td>\n",
       "      <td>...</td>\n",
       "      <td>...</td>\n",
       "      <td>...</td>\n",
       "      <td>...</td>\n",
       "    </tr>\n",
       "    <tr>\n",
       "      <th>323</th>\n",
       "      <td>0.28392</td>\n",
       "      <td>0.0</td>\n",
       "      <td>7.38</td>\n",
       "      <td>0.0</td>\n",
       "      <td>0.493</td>\n",
       "      <td>5.708</td>\n",
       "      <td>74.3</td>\n",
       "      <td>4.7211</td>\n",
       "      <td>5.0</td>\n",
       "      <td>287.0</td>\n",
       "      <td>19.6</td>\n",
       "      <td>391.13</td>\n",
       "      <td>11.74</td>\n",
       "      <td>18.5</td>\n",
       "    </tr>\n",
       "    <tr>\n",
       "      <th>192</th>\n",
       "      <td>0.08664</td>\n",
       "      <td>45.0</td>\n",
       "      <td>3.44</td>\n",
       "      <td>0.0</td>\n",
       "      <td>0.437</td>\n",
       "      <td>7.178</td>\n",
       "      <td>26.3</td>\n",
       "      <td>6.4798</td>\n",
       "      <td>5.0</td>\n",
       "      <td>398.0</td>\n",
       "      <td>15.2</td>\n",
       "      <td>390.49</td>\n",
       "      <td>2.87</td>\n",
       "      <td>36.4</td>\n",
       "    </tr>\n",
       "    <tr>\n",
       "      <th>117</th>\n",
       "      <td>0.15098</td>\n",
       "      <td>0.0</td>\n",
       "      <td>10.01</td>\n",
       "      <td>0.0</td>\n",
       "      <td>0.547</td>\n",
       "      <td>6.021</td>\n",
       "      <td>82.6</td>\n",
       "      <td>2.7474</td>\n",
       "      <td>6.0</td>\n",
       "      <td>432.0</td>\n",
       "      <td>17.8</td>\n",
       "      <td>394.51</td>\n",
       "      <td>10.30</td>\n",
       "      <td>19.2</td>\n",
       "    </tr>\n",
       "    <tr>\n",
       "      <th>47</th>\n",
       "      <td>0.22927</td>\n",
       "      <td>0.0</td>\n",
       "      <td>6.91</td>\n",
       "      <td>0.0</td>\n",
       "      <td>0.448</td>\n",
       "      <td>6.030</td>\n",
       "      <td>85.5</td>\n",
       "      <td>5.6894</td>\n",
       "      <td>3.0</td>\n",
       "      <td>233.0</td>\n",
       "      <td>17.9</td>\n",
       "      <td>392.74</td>\n",
       "      <td>18.80</td>\n",
       "      <td>16.6</td>\n",
       "    </tr>\n",
       "    <tr>\n",
       "      <th>172</th>\n",
       "      <td>0.13914</td>\n",
       "      <td>0.0</td>\n",
       "      <td>4.05</td>\n",
       "      <td>0.0</td>\n",
       "      <td>0.510</td>\n",
       "      <td>5.572</td>\n",
       "      <td>88.5</td>\n",
       "      <td>2.5961</td>\n",
       "      <td>5.0</td>\n",
       "      <td>296.0</td>\n",
       "      <td>16.6</td>\n",
       "      <td>396.90</td>\n",
       "      <td>14.69</td>\n",
       "      <td>23.1</td>\n",
       "    </tr>\n",
       "  </tbody>\n",
       "</table>\n",
       "<p>379 rows × 14 columns</p>\n",
       "</div>"
      ],
      "text/plain": [
       "         CRIM    ZN  INDUS  CHAS    NOX     RM   AGE     DIS   RAD    TAX  PTRATIO       B  LSTAT     y\n",
       "245   0.19133  22.0   5.86   0.0  0.431  5.605  70.2  7.9549   7.0  330.0     19.1  389.13  18.46  18.5\n",
       "59    0.10328  25.0   5.13   0.0  0.453  5.927  47.2  6.9320   8.0  284.0     19.7  396.90   9.22  19.6\n",
       "276   0.10469  40.0   6.41   1.0  0.447  7.267  49.0  4.7872   4.0  254.0     17.6  389.25   6.05  33.2\n",
       "395   8.71675   0.0  18.10   0.0  0.693  6.471  98.8  1.7257  24.0  666.0     20.2  391.98  17.12  13.1\n",
       "416  10.83420   0.0  18.10   0.0  0.679  6.782  90.8  1.8195  24.0  666.0     20.2   21.57  25.79   7.5\n",
       "..        ...   ...    ...   ...    ...    ...   ...     ...   ...    ...      ...     ...    ...   ...\n",
       "323   0.28392   0.0   7.38   0.0  0.493  5.708  74.3  4.7211   5.0  287.0     19.6  391.13  11.74  18.5\n",
       "192   0.08664  45.0   3.44   0.0  0.437  7.178  26.3  6.4798   5.0  398.0     15.2  390.49   2.87  36.4\n",
       "117   0.15098   0.0  10.01   0.0  0.547  6.021  82.6  2.7474   6.0  432.0     17.8  394.51  10.30  19.2\n",
       "47    0.22927   0.0   6.91   0.0  0.448  6.030  85.5  5.6894   3.0  233.0     17.9  392.74  18.80  16.6\n",
       "172   0.13914   0.0   4.05   0.0  0.510  5.572  88.5  2.5961   5.0  296.0     16.6  396.90  14.69  23.1\n",
       "\n",
       "[379 rows x 14 columns]"
      ]
     },
     "execution_count": 10,
     "metadata": {},
     "output_type": "execute_result"
    }
   ],
   "source": [
    "X"
   ]
  },
  {
   "cell_type": "code",
   "execution_count": 11,
   "metadata": {},
   "outputs": [
    {
     "data": {
      "text/plain": [
       "array([-0.97100092,  1.04667838, -0.04044753,  0.59408776, -1.80876877,\n",
       "        2.60991991, -0.19823317, -3.00216551,  2.08021582, -1.93289037,\n",
       "       -2.15743759,  0.75199122, -3.59027047])"
      ]
     },
     "execution_count": 11,
     "metadata": {},
     "output_type": "execute_result"
    }
   ],
   "source": [
    "# 학습후 각 feature들에 곱할 가중치들.\n",
    "lr.coef_"
   ]
  },
  {
   "cell_type": "code",
   "execution_count": 12,
   "metadata": {},
   "outputs": [
    {
     "data": {
      "text/plain": [
       "22.608707124010557"
      ]
     },
     "execution_count": 12,
     "metadata": {},
     "output_type": "execute_result"
    }
   ],
   "source": [
    "# bias (편향-절편)\n",
    "lr.intercept_"
   ]
  },
  {
   "cell_type": "code",
   "execution_count": null,
   "metadata": {},
   "outputs": [],
   "source": []
  },
  {
   "cell_type": "code",
   "execution_count": null,
   "metadata": {},
   "outputs": [],
   "source": []
  },
  {
   "cell_type": "markdown",
   "metadata": {
    "ExecuteTime": {
     "end_time": "2021-11-22T02:53:53.375962Z",
     "start_time": "2021-11-22T02:53:53.353025Z"
    },
    "slideshow": {
     "slide_type": "notes"
    }
   },
   "source": [
    "> ### Coeficient의 부호\n",
    "> - weight가 \n",
    "> - 양수: Feature가 1 증가할때 y(집값)도 weight만큼 증가한다.\n",
    "> - 음수: Feature가 1 증가할때 y(집값)도 weight만큼 감소한다.\n",
    "> - 절대값 기준으로 0에 가까울 수록 집값에 영향을 주지 않고 크면 클수록(0에서 멀어질 수록) 집값에 영향을 많이 주는 Feature 란 의미가 된다."
   ]
  },
  {
   "cell_type": "markdown",
   "metadata": {
    "slideshow": {
     "slide_type": "fragment"
    }
   },
   "source": [
    "##### 평가"
   ]
  },
  {
   "cell_type": "code",
   "execution_count": 14,
   "metadata": {},
   "outputs": [
    {
     "data": {
      "text/plain": [
       "array([13.54334096])"
      ]
     },
     "execution_count": 14,
     "metadata": {},
     "output_type": "execute_result"
    }
   ],
   "source": [
    "# 추론\n",
    "pred_1=lr.predict(X_train_scaled[0].reshape(1,-1))\n",
    "pred_1"
   ]
  },
  {
   "cell_type": "code",
   "execution_count": 15,
   "metadata": {},
   "outputs": [
    {
     "data": {
      "text/plain": [
       "13.543340962285864"
      ]
     },
     "execution_count": 15,
     "metadata": {},
     "output_type": "execute_result"
    }
   ],
   "source": [
    "X_train_scaled[0] @ lr.coef_ + lr.intercept_"
   ]
  },
  {
   "cell_type": "code",
   "execution_count": 50,
   "metadata": {},
   "outputs": [],
   "source": [
    "pred_train=X_train_scaled @ lr.coef_ + lr.intercept_"
   ]
  },
  {
   "cell_type": "code",
   "execution_count": 56,
   "metadata": {},
   "outputs": [
    {
     "data": {
      "text/plain": [
       "array([[13.54334096],\n",
       "       [21.03611757],\n",
       "       [35.25707372],\n",
       "       [19.31180705],\n",
       "       [12.9193462 ],\n",
       "       [13.83454251],\n",
       "       [22.66868871],\n",
       "       [14.2409856 ],\n",
       "       [31.24023391],\n",
       "       [25.2746277 ],\n",
       "       [15.13346462],\n",
       "       [24.27169368],\n",
       "       [ 9.08842615],\n",
       "       [14.82179159],\n",
       "       [21.01155502],\n",
       "       [32.97485525],\n",
       "       [27.96169238],\n",
       "       [25.76241079],\n",
       "       [15.56154982],\n",
       "       [31.08187689],\n",
       "       [28.10293564],\n",
       "       [13.79628381],\n",
       "       [ 7.39293584],\n",
       "       [28.48119204],\n",
       "       [25.40996121],\n",
       "       [ 4.34170732],\n",
       "       [28.48040075],\n",
       "       [17.16788093],\n",
       "       [29.49717483],\n",
       "       [20.3114614 ],\n",
       "       [15.95499192],\n",
       "       [17.81088079],\n",
       "       [12.68905582],\n",
       "       [ 8.44914207],\n",
       "       [19.28629969],\n",
       "       [34.45678405],\n",
       "       [32.9718556 ],\n",
       "       [23.57990095],\n",
       "       [19.63359906],\n",
       "       [22.95623269],\n",
       "       [26.85871334],\n",
       "       [21.77624643],\n",
       "       [16.93785832],\n",
       "       [32.00415847],\n",
       "       [10.62790654],\n",
       "       [19.32739398],\n",
       "       [32.23307479],\n",
       "       [18.75153571],\n",
       "       [15.81064522],\n",
       "       [18.67130015],\n",
       "       [14.4104764 ],\n",
       "       [24.58123176],\n",
       "       [24.07953473],\n",
       "       [16.49458446],\n",
       "       [13.19945057],\n",
       "       [20.38069625],\n",
       "       [24.75377888],\n",
       "       [17.22571167],\n",
       "       [24.97600846],\n",
       "       [22.55118033],\n",
       "       [27.83912426],\n",
       "       [35.9434255 ],\n",
       "       [16.45240418],\n",
       "       [11.58522008],\n",
       "       [34.68756396],\n",
       "       [31.00776222],\n",
       "       [20.65966773],\n",
       "       [39.55056576],\n",
       "       [29.0078266 ],\n",
       "       [29.00999968],\n",
       "       [17.31262092],\n",
       "       [26.97466269],\n",
       "       [40.01865097],\n",
       "       [28.7187013 ],\n",
       "       [16.66413461],\n",
       "       [37.34643087],\n",
       "       [35.15447445],\n",
       "       [13.07044909],\n",
       "       [28.80715127],\n",
       "       [21.38482965],\n",
       "       [24.40626805],\n",
       "       [21.33531517],\n",
       "       [23.31155929],\n",
       "       [27.87734985],\n",
       "       [29.64995287],\n",
       "       [13.96911009],\n",
       "       [25.85695736],\n",
       "       [23.25131305],\n",
       "       [12.5172144 ],\n",
       "       [13.69132664],\n",
       "       [25.49785082],\n",
       "       [19.23696262],\n",
       "       [30.60970957],\n",
       "       [10.68212969],\n",
       "       [23.48533064],\n",
       "       [17.03772708],\n",
       "       [16.59934046],\n",
       "       [22.33849495],\n",
       "       [21.64394065],\n",
       "       [11.71895973],\n",
       "       [25.15637916],\n",
       "       [28.67840378],\n",
       "       [20.25954038],\n",
       "       [12.29601933],\n",
       "       [25.48647773],\n",
       "       [25.97788959],\n",
       "       [25.15821406],\n",
       "       [23.51129012],\n",
       "       [26.3731198 ],\n",
       "       [16.49102756],\n",
       "       [21.75968781],\n",
       "       [36.02321867],\n",
       "       [20.85067436],\n",
       "       [36.07873626],\n",
       "       [25.56983603],\n",
       "       [21.44247854],\n",
       "       [15.84506236],\n",
       "       [31.18713035],\n",
       "       [20.99511987],\n",
       "       [27.92647342],\n",
       "       [14.60379914],\n",
       "       [32.07992935],\n",
       "       [13.94845716],\n",
       "       [ 1.23511893],\n",
       "       [19.25466741],\n",
       "       [14.00196732],\n",
       "       [37.65403649],\n",
       "       [15.67829929],\n",
       "       [14.41406636],\n",
       "       [27.20645037],\n",
       "       [23.2464109 ],\n",
       "       [18.24857906],\n",
       "       [30.51887451],\n",
       "       [27.50134148],\n",
       "       [27.13968907],\n",
       "       [24.60935817],\n",
       "       [24.32980985],\n",
       "       [23.81791552],\n",
       "       [10.93621298],\n",
       "       [20.86529541],\n",
       "       [13.35873342],\n",
       "       [17.0560766 ],\n",
       "       [12.47216364],\n",
       "       [28.19611065],\n",
       "       [14.9205006 ],\n",
       "       [16.00534023],\n",
       "       [28.57141456],\n",
       "       [14.52365083],\n",
       "       [21.4528413 ],\n",
       "       [12.63065565],\n",
       "       [13.83861061],\n",
       "       [22.68360321],\n",
       "       [21.32323132],\n",
       "       [14.71936262],\n",
       "       [20.93062808],\n",
       "       [16.9384149 ],\n",
       "       [24.66277466],\n",
       "       [12.38856379],\n",
       "       [34.71025176],\n",
       "       [12.09307942],\n",
       "       [43.12440696],\n",
       "       [31.30392303],\n",
       "       [35.09706888],\n",
       "       [21.48351767],\n",
       "       [15.75285005],\n",
       "       [26.49228094],\n",
       "       [29.46272822],\n",
       "       [14.04142297],\n",
       "       [26.51551881],\n",
       "       [36.8554903 ],\n",
       "       [17.46375116],\n",
       "       [10.44046135],\n",
       "       [34.34341413],\n",
       "       [35.79823559],\n",
       "       [18.20672279],\n",
       "       [22.53409628],\n",
       "       [17.86688629],\n",
       "       [24.41834416],\n",
       "       [19.68127577],\n",
       "       [27.1348803 ],\n",
       "       [-4.7935806 ],\n",
       "       [20.6011946 ],\n",
       "       [35.54607447],\n",
       "       [36.43371743],\n",
       "       [25.13606463],\n",
       "       [27.46241836],\n",
       "       [20.65069471],\n",
       "       [20.84329828],\n",
       "       [15.58318868],\n",
       "       [20.47268487],\n",
       "       [20.86062578],\n",
       "       [27.84177682],\n",
       "       [19.73629934],\n",
       "       [ 7.12516955],\n",
       "       [16.38246922],\n",
       "       [32.44651078],\n",
       "       [35.11864523],\n",
       "       [17.36525685],\n",
       "       [18.65663525],\n",
       "       [23.67343616],\n",
       "       [ 6.80990982],\n",
       "       [21.34024409],\n",
       "       [23.94671395],\n",
       "       [16.30258603],\n",
       "       [18.52875495],\n",
       "       [21.88776238],\n",
       "       [27.36090769],\n",
       "       [25.54237562],\n",
       "       [37.08784116],\n",
       "       [15.2242206 ],\n",
       "       [28.77849376],\n",
       "       [25.52619072],\n",
       "       [22.17904272],\n",
       "       [38.63798003],\n",
       "       [20.66824195],\n",
       "       [23.40207582],\n",
       "       [22.82493385],\n",
       "       [12.56743905],\n",
       "       [20.2029527 ],\n",
       "       [33.69463297],\n",
       "       [24.57218076],\n",
       "       [17.87538397],\n",
       "       [33.6633018 ],\n",
       "       [21.5370783 ],\n",
       "       [28.49979067],\n",
       "       [32.39305372],\n",
       "       [36.59624894],\n",
       "       [21.81981625],\n",
       "       [24.01793038],\n",
       "       [22.52428337],\n",
       "       [31.65872288],\n",
       "       [22.46304999],\n",
       "       [18.63305293],\n",
       "       [21.83697296],\n",
       "       [28.4661344 ],\n",
       "       [22.58740941],\n",
       "       [21.62999687],\n",
       "       [16.79524835],\n",
       "       [17.34557435],\n",
       "       [16.83301518],\n",
       "       [17.28066864],\n",
       "       [16.28550867],\n",
       "       [31.64269524],\n",
       "       [23.70579496],\n",
       "       [17.45022197],\n",
       "       [19.82025367],\n",
       "       [33.62355545],\n",
       "       [13.91668199],\n",
       "       [25.10891516],\n",
       "       [17.25562451],\n",
       "       [30.46090593],\n",
       "       [29.71427389],\n",
       "       [22.40525244],\n",
       "       [20.65051631],\n",
       "       [35.3314866 ],\n",
       "       [22.68182948],\n",
       "       [33.12430511],\n",
       "       [20.90706516],\n",
       "       [31.44634261],\n",
       "       [30.91564395],\n",
       "       [37.494095  ],\n",
       "       [26.70059511],\n",
       "       [21.69588344],\n",
       "       [28.83832617],\n",
       "       [16.00988216],\n",
       "       [26.60997592],\n",
       "       [21.08145518],\n",
       "       [30.60264526],\n",
       "       [ 9.55495526],\n",
       "       [30.76710928],\n",
       "       [ 5.53663323],\n",
       "       [15.44974971],\n",
       "       [18.02894191],\n",
       "       [35.4348492 ],\n",
       "       [32.08398124],\n",
       "       [10.69820228],\n",
       "       [12.96384144],\n",
       "       [21.79517021],\n",
       "       [34.61455395],\n",
       "       [18.57831239],\n",
       "       [19.19735358],\n",
       "       [14.75516101],\n",
       "       [26.01658627],\n",
       "       [41.09013514],\n",
       "       [25.22455914],\n",
       "       [41.98596333],\n",
       "       [25.03305836],\n",
       "       [22.20260718],\n",
       "       [11.99313537],\n",
       "       [11.89639019],\n",
       "       [13.84579354],\n",
       "       [18.33211266],\n",
       "       [ 2.76281682],\n",
       "       [27.58675347],\n",
       "       [26.19392263],\n",
       "       [41.02318491],\n",
       "       [21.04333396],\n",
       "       [21.1439921 ],\n",
       "       [34.25776492],\n",
       "       [33.14993993],\n",
       "       [ 9.40811041],\n",
       "       [24.88140767],\n",
       "       [43.38286578],\n",
       "       [16.8379618 ],\n",
       "       [17.76543177],\n",
       "       [25.67192935],\n",
       "       [18.48178432],\n",
       "       [ 5.83291142],\n",
       "       [19.12535018],\n",
       "       [35.14965525],\n",
       "       [16.00174108],\n",
       "       [23.24384522],\n",
       "       [13.37064218],\n",
       "       [24.4543297 ],\n",
       "       [18.64700522],\n",
       "       [17.20586437],\n",
       "       [18.78318498],\n",
       "       [33.29462253],\n",
       "       [19.51402668],\n",
       "       [30.79124528],\n",
       "       [32.81042416],\n",
       "       [41.18865165],\n",
       "       [18.86227874],\n",
       "       [16.28627585],\n",
       "       [37.50271065],\n",
       "       [17.99877336],\n",
       "       [ 9.38800263],\n",
       "       [15.12505568],\n",
       "       [25.00719566],\n",
       "       [19.50708006],\n",
       "       [16.44689479],\n",
       "       [27.20334758],\n",
       "       [12.65574828],\n",
       "       [ 5.6347011 ],\n",
       "       [18.92984523],\n",
       "       [ 9.48845791],\n",
       "       [27.88422139],\n",
       "       [ 4.1390608 ],\n",
       "       [29.17459175],\n",
       "       [32.35105717],\n",
       "       [22.39880532],\n",
       "       [16.61914886],\n",
       "       [17.82249438],\n",
       "       [20.90744416],\n",
       "       [33.22275733],\n",
       "       [27.7475763 ],\n",
       "       [19.46707152],\n",
       "       [20.57924537],\n",
       "       [ 6.52093646],\n",
       "       [28.78143245],\n",
       "       [24.77659687],\n",
       "       [22.3556873 ],\n",
       "       [13.62498123],\n",
       "       [25.39982217],\n",
       "       [19.4377186 ],\n",
       "       [ 8.51235752],\n",
       "       [26.67675444],\n",
       "       [16.00772031],\n",
       "       [31.51716876],\n",
       "       [32.62095138],\n",
       "       [25.42099968],\n",
       "       [18.40637845],\n",
       "       [30.66934392],\n",
       "       [21.42806664],\n",
       "       [25.45254246],\n",
       "       [26.01337051],\n",
       "       [31.77172624],\n",
       "       [24.27505504],\n",
       "       [34.62093852],\n",
       "       [16.95175246],\n",
       "       [19.25167734],\n",
       "       [18.49249415],\n",
       "       [40.95624463],\n",
       "       [25.23248739],\n",
       "       [19.47226601],\n",
       "       [33.23059648],\n",
       "       [23.70761701],\n",
       "       [18.22343193],\n",
       "       [23.11159723]])"
      ]
     },
     "execution_count": 56,
     "metadata": {},
     "output_type": "execute_result"
    }
   ],
   "source": [
    "pred_train.reshape(-1,1)"
   ]
  },
  {
   "cell_type": "code",
   "execution_count": 48,
   "metadata": {},
   "outputs": [
    {
     "data": {
      "text/plain": [
       "array([[13.54334096],\n",
       "       [21.03611757],\n",
       "       [35.25707372],\n",
       "       [19.31180705],\n",
       "       [12.9193462 ],\n",
       "       [13.83454251],\n",
       "       [22.66868871],\n",
       "       [14.2409856 ],\n",
       "       [31.24023391],\n",
       "       [25.2746277 ],\n",
       "       [15.13346462],\n",
       "       [24.27169368],\n",
       "       [ 9.08842615],\n",
       "       [14.82179159],\n",
       "       [21.01155502],\n",
       "       [32.97485525],\n",
       "       [27.96169238],\n",
       "       [25.76241079],\n",
       "       [15.56154982],\n",
       "       [31.08187689],\n",
       "       [28.10293564],\n",
       "       [13.79628381],\n",
       "       [ 7.39293584],\n",
       "       [28.48119204],\n",
       "       [25.40996121],\n",
       "       [ 4.34170732],\n",
       "       [28.48040075],\n",
       "       [17.16788093],\n",
       "       [29.49717483],\n",
       "       [20.3114614 ],\n",
       "       [15.95499192],\n",
       "       [17.81088079],\n",
       "       [12.68905582],\n",
       "       [ 8.44914207],\n",
       "       [19.28629969],\n",
       "       [34.45678405],\n",
       "       [32.9718556 ],\n",
       "       [23.57990095],\n",
       "       [19.63359906],\n",
       "       [22.95623269],\n",
       "       [26.85871334],\n",
       "       [21.77624643],\n",
       "       [16.93785832],\n",
       "       [32.00415847],\n",
       "       [10.62790654],\n",
       "       [19.32739398],\n",
       "       [32.23307479],\n",
       "       [18.75153571],\n",
       "       [15.81064522],\n",
       "       [18.67130015],\n",
       "       [14.4104764 ],\n",
       "       [24.58123176],\n",
       "       [24.07953473],\n",
       "       [16.49458446],\n",
       "       [13.19945057],\n",
       "       [20.38069625],\n",
       "       [24.75377888],\n",
       "       [17.22571167],\n",
       "       [24.97600846],\n",
       "       [22.55118033],\n",
       "       [27.83912426],\n",
       "       [35.9434255 ],\n",
       "       [16.45240418],\n",
       "       [11.58522008],\n",
       "       [34.68756396],\n",
       "       [31.00776222],\n",
       "       [20.65966773],\n",
       "       [39.55056576],\n",
       "       [29.0078266 ],\n",
       "       [29.00999968],\n",
       "       [17.31262092],\n",
       "       [26.97466269],\n",
       "       [40.01865097],\n",
       "       [28.7187013 ],\n",
       "       [16.66413461],\n",
       "       [37.34643087],\n",
       "       [35.15447445],\n",
       "       [13.07044909],\n",
       "       [28.80715127],\n",
       "       [21.38482965],\n",
       "       [24.40626805],\n",
       "       [21.33531517],\n",
       "       [23.31155929],\n",
       "       [27.87734985],\n",
       "       [29.64995287],\n",
       "       [13.96911009],\n",
       "       [25.85695736],\n",
       "       [23.25131305],\n",
       "       [12.5172144 ],\n",
       "       [13.69132664],\n",
       "       [25.49785082],\n",
       "       [19.23696262],\n",
       "       [30.60970957],\n",
       "       [10.68212969],\n",
       "       [23.48533064],\n",
       "       [17.03772708],\n",
       "       [16.59934046],\n",
       "       [22.33849495],\n",
       "       [21.64394065],\n",
       "       [11.71895973],\n",
       "       [25.15637916],\n",
       "       [28.67840378],\n",
       "       [20.25954038],\n",
       "       [12.29601933],\n",
       "       [25.48647773],\n",
       "       [25.97788959],\n",
       "       [25.15821406],\n",
       "       [23.51129012],\n",
       "       [26.3731198 ],\n",
       "       [16.49102756],\n",
       "       [21.75968781],\n",
       "       [36.02321867],\n",
       "       [20.85067436],\n",
       "       [36.07873626],\n",
       "       [25.56983603],\n",
       "       [21.44247854],\n",
       "       [15.84506236],\n",
       "       [31.18713035],\n",
       "       [20.99511987],\n",
       "       [27.92647342],\n",
       "       [14.60379914],\n",
       "       [32.07992935],\n",
       "       [13.94845716],\n",
       "       [ 1.23511893],\n",
       "       [19.25466741],\n",
       "       [14.00196732],\n",
       "       [37.65403649],\n",
       "       [15.67829929],\n",
       "       [14.41406636],\n",
       "       [27.20645037],\n",
       "       [23.2464109 ],\n",
       "       [18.24857906],\n",
       "       [30.51887451],\n",
       "       [27.50134148],\n",
       "       [27.13968907],\n",
       "       [24.60935817],\n",
       "       [24.32980985],\n",
       "       [23.81791552],\n",
       "       [10.93621298],\n",
       "       [20.86529541],\n",
       "       [13.35873342],\n",
       "       [17.0560766 ],\n",
       "       [12.47216364],\n",
       "       [28.19611065],\n",
       "       [14.9205006 ],\n",
       "       [16.00534023],\n",
       "       [28.57141456],\n",
       "       [14.52365083],\n",
       "       [21.4528413 ],\n",
       "       [12.63065565],\n",
       "       [13.83861061],\n",
       "       [22.68360321],\n",
       "       [21.32323132],\n",
       "       [14.71936262],\n",
       "       [20.93062808],\n",
       "       [16.9384149 ],\n",
       "       [24.66277466],\n",
       "       [12.38856379],\n",
       "       [34.71025176],\n",
       "       [12.09307942],\n",
       "       [43.12440696],\n",
       "       [31.30392303],\n",
       "       [35.09706888],\n",
       "       [21.48351767],\n",
       "       [15.75285005],\n",
       "       [26.49228094],\n",
       "       [29.46272822],\n",
       "       [14.04142297],\n",
       "       [26.51551881],\n",
       "       [36.8554903 ],\n",
       "       [17.46375116],\n",
       "       [10.44046135],\n",
       "       [34.34341413],\n",
       "       [35.79823559],\n",
       "       [18.20672279],\n",
       "       [22.53409628],\n",
       "       [17.86688629],\n",
       "       [24.41834416],\n",
       "       [19.68127577],\n",
       "       [27.1348803 ],\n",
       "       [-4.7935806 ],\n",
       "       [20.6011946 ],\n",
       "       [35.54607447],\n",
       "       [36.43371743],\n",
       "       [25.13606463],\n",
       "       [27.46241836],\n",
       "       [20.65069471],\n",
       "       [20.84329828],\n",
       "       [15.58318868],\n",
       "       [20.47268487],\n",
       "       [20.86062578],\n",
       "       [27.84177682],\n",
       "       [19.73629934],\n",
       "       [ 7.12516955],\n",
       "       [16.38246922],\n",
       "       [32.44651078],\n",
       "       [35.11864523],\n",
       "       [17.36525685],\n",
       "       [18.65663525],\n",
       "       [23.67343616],\n",
       "       [ 6.80990982],\n",
       "       [21.34024409],\n",
       "       [23.94671395],\n",
       "       [16.30258603],\n",
       "       [18.52875495],\n",
       "       [21.88776238],\n",
       "       [27.36090769],\n",
       "       [25.54237562],\n",
       "       [37.08784116],\n",
       "       [15.2242206 ],\n",
       "       [28.77849376],\n",
       "       [25.52619072],\n",
       "       [22.17904272],\n",
       "       [38.63798003],\n",
       "       [20.66824195],\n",
       "       [23.40207582],\n",
       "       [22.82493385],\n",
       "       [12.56743905],\n",
       "       [20.2029527 ],\n",
       "       [33.69463297],\n",
       "       [24.57218076],\n",
       "       [17.87538397],\n",
       "       [33.6633018 ],\n",
       "       [21.5370783 ],\n",
       "       [28.49979067],\n",
       "       [32.39305372],\n",
       "       [36.59624894],\n",
       "       [21.81981625],\n",
       "       [24.01793038],\n",
       "       [22.52428337],\n",
       "       [31.65872288],\n",
       "       [22.46304999],\n",
       "       [18.63305293],\n",
       "       [21.83697296],\n",
       "       [28.4661344 ],\n",
       "       [22.58740941],\n",
       "       [21.62999687],\n",
       "       [16.79524835],\n",
       "       [17.34557435],\n",
       "       [16.83301518],\n",
       "       [17.28066864],\n",
       "       [16.28550867],\n",
       "       [31.64269524],\n",
       "       [23.70579496],\n",
       "       [17.45022197],\n",
       "       [19.82025367],\n",
       "       [33.62355545],\n",
       "       [13.91668199],\n",
       "       [25.10891516],\n",
       "       [17.25562451],\n",
       "       [30.46090593],\n",
       "       [29.71427389],\n",
       "       [22.40525244],\n",
       "       [20.65051631],\n",
       "       [35.3314866 ],\n",
       "       [22.68182948],\n",
       "       [33.12430511],\n",
       "       [20.90706516],\n",
       "       [31.44634261],\n",
       "       [30.91564395],\n",
       "       [37.494095  ],\n",
       "       [26.70059511],\n",
       "       [21.69588344],\n",
       "       [28.83832617],\n",
       "       [16.00988216],\n",
       "       [26.60997592],\n",
       "       [21.08145518],\n",
       "       [30.60264526],\n",
       "       [ 9.55495526],\n",
       "       [30.76710928],\n",
       "       [ 5.53663323],\n",
       "       [15.44974971],\n",
       "       [18.02894191],\n",
       "       [35.4348492 ],\n",
       "       [32.08398124],\n",
       "       [10.69820228],\n",
       "       [12.96384144],\n",
       "       [21.79517021],\n",
       "       [34.61455395],\n",
       "       [18.57831239],\n",
       "       [19.19735358],\n",
       "       [14.75516101],\n",
       "       [26.01658627],\n",
       "       [41.09013514],\n",
       "       [25.22455914],\n",
       "       [41.98596333],\n",
       "       [25.03305836],\n",
       "       [22.20260718],\n",
       "       [11.99313537],\n",
       "       [11.89639019],\n",
       "       [13.84579354],\n",
       "       [18.33211266],\n",
       "       [ 2.76281682],\n",
       "       [27.58675347],\n",
       "       [26.19392263],\n",
       "       [41.02318491],\n",
       "       [21.04333396],\n",
       "       [21.1439921 ],\n",
       "       [34.25776492],\n",
       "       [33.14993993],\n",
       "       [ 9.40811041],\n",
       "       [24.88140767],\n",
       "       [43.38286578],\n",
       "       [16.8379618 ],\n",
       "       [17.76543177],\n",
       "       [25.67192935],\n",
       "       [18.48178432],\n",
       "       [ 5.83291142],\n",
       "       [19.12535018],\n",
       "       [35.14965525],\n",
       "       [16.00174108],\n",
       "       [23.24384522],\n",
       "       [13.37064218],\n",
       "       [24.4543297 ],\n",
       "       [18.64700522],\n",
       "       [17.20586437],\n",
       "       [18.78318498],\n",
       "       [33.29462253],\n",
       "       [19.51402668],\n",
       "       [30.79124528],\n",
       "       [32.81042416],\n",
       "       [41.18865165],\n",
       "       [18.86227874],\n",
       "       [16.28627585],\n",
       "       [37.50271065],\n",
       "       [17.99877336],\n",
       "       [ 9.38800263],\n",
       "       [15.12505568],\n",
       "       [25.00719566],\n",
       "       [19.50708006],\n",
       "       [16.44689479],\n",
       "       [27.20334758],\n",
       "       [12.65574828],\n",
       "       [ 5.6347011 ],\n",
       "       [18.92984523],\n",
       "       [ 9.48845791],\n",
       "       [27.88422139],\n",
       "       [ 4.1390608 ],\n",
       "       [29.17459175],\n",
       "       [32.35105717],\n",
       "       [22.39880532],\n",
       "       [16.61914886],\n",
       "       [17.82249438],\n",
       "       [20.90744416],\n",
       "       [33.22275733],\n",
       "       [27.7475763 ],\n",
       "       [19.46707152],\n",
       "       [20.57924537],\n",
       "       [ 6.52093646],\n",
       "       [28.78143245],\n",
       "       [24.77659687],\n",
       "       [22.3556873 ],\n",
       "       [13.62498123],\n",
       "       [25.39982217],\n",
       "       [19.4377186 ],\n",
       "       [ 8.51235752],\n",
       "       [26.67675444],\n",
       "       [16.00772031],\n",
       "       [31.51716876],\n",
       "       [32.62095138],\n",
       "       [25.42099968],\n",
       "       [18.40637845],\n",
       "       [30.66934392],\n",
       "       [21.42806664],\n",
       "       [25.45254246],\n",
       "       [26.01337051],\n",
       "       [31.77172624],\n",
       "       [24.27505504],\n",
       "       [34.62093852],\n",
       "       [16.95175246],\n",
       "       [19.25167734],\n",
       "       [18.49249415],\n",
       "       [40.95624463],\n",
       "       [25.23248739],\n",
       "       [19.47226601],\n",
       "       [33.23059648],\n",
       "       [23.70761701],\n",
       "       [18.22343193],\n",
       "       [23.11159723]])"
      ]
     },
     "execution_count": 48,
     "metadata": {},
     "output_type": "execute_result"
    }
   ],
   "source": [
    "X_train_scaled @ lr.coef_.reshape(-1,1) + lr.intercept_"
   ]
  },
  {
   "cell_type": "code",
   "execution_count": 44,
   "metadata": {},
   "outputs": [
    {
     "data": {
      "text/plain": [
       "(379, 13)"
      ]
     },
     "execution_count": 44,
     "metadata": {},
     "output_type": "execute_result"
    }
   ],
   "source": [
    "X_train_scaled.shape"
   ]
  },
  {
   "cell_type": "code",
   "execution_count": 21,
   "metadata": {},
   "outputs": [
    {
     "data": {
      "text/plain": [
       "(13,)"
      ]
     },
     "execution_count": 21,
     "metadata": {},
     "output_type": "execute_result"
    }
   ],
   "source": [
    "lr.coef_.shape"
   ]
  },
  {
   "cell_type": "code",
   "execution_count": 46,
   "metadata": {},
   "outputs": [
    {
     "data": {
      "text/plain": [
       "()"
      ]
     },
     "execution_count": 46,
     "metadata": {},
     "output_type": "execute_result"
    }
   ],
   "source": [
    "lr.intercept_.shape"
   ]
  },
  {
   "cell_type": "code",
   "execution_count": 32,
   "metadata": {},
   "outputs": [],
   "source": [
    "pred_train2= lr.predict(X_train_scaled)"
   ]
  },
  {
   "cell_type": "code",
   "execution_count": 33,
   "metadata": {},
   "outputs": [
    {
     "data": {
      "text/plain": [
       "(379,)"
      ]
     },
     "execution_count": 33,
     "metadata": {},
     "output_type": "execute_result"
    }
   ],
   "source": [
    "pred_train2.shape"
   ]
  },
  {
   "cell_type": "code",
   "execution_count": 34,
   "metadata": {},
   "outputs": [
    {
     "data": {
      "text/plain": [
       "array([13.54334096, 21.03611757, 35.25707372, 19.31180705, 12.9193462 ,\n",
       "       13.83454251, 22.66868871, 14.2409856 , 31.24023391, 25.2746277 ])"
      ]
     },
     "execution_count": 34,
     "metadata": {},
     "output_type": "execute_result"
    }
   ],
   "source": [
    "pred_train2[:10]"
   ]
  },
  {
   "cell_type": "code",
   "execution_count": 37,
   "metadata": {},
   "outputs": [
    {
     "data": {
      "text/plain": [
       "379"
      ]
     },
     "execution_count": 37,
     "metadata": {},
     "output_type": "execute_result"
    }
   ],
   "source": [
    "(pred_train== pred_train2).sum()"
   ]
  },
  {
   "cell_type": "code",
   "execution_count": 39,
   "metadata": {},
   "outputs": [
    {
     "name": "stdout",
     "output_type": "stream",
     "text": [
      "============train set============\n",
      "MSE: 19.640519427908043\n",
      "RMSE: 4.431762564477935\n",
      "R2: 0.7697699488741149\n"
     ]
    }
   ],
   "source": [
    "from metrics import print_metrics_regression\n",
    "print_metrics_regression(y_train,pred_train,'train set')"
   ]
  },
  {
   "cell_type": "code",
   "execution_count": 40,
   "metadata": {},
   "outputs": [],
   "source": [
    "pred_test=lr.predict(X_test_scaled)"
   ]
  },
  {
   "cell_type": "code",
   "execution_count": 41,
   "metadata": {},
   "outputs": [
    {
     "name": "stdout",
     "output_type": "stream",
     "text": [
      "============testset============\n",
      "MSE: 29.782245092302325\n",
      "RMSE: 5.457311159564051\n",
      "R2: 0.6354638433202133\n"
     ]
    }
   ],
   "source": [
    "print_metrics_regression(y_test,pred_test,'testset')"
   ]
  },
  {
   "cell_type": "code",
   "execution_count": 43,
   "metadata": {},
   "outputs": [
    {
     "data": {
      "image/png": "[encoded data removed]",
      "text/plain": [
       "<Figure size 2000x700 with 1 Axes>"
      ]
     },
     "metadata": {},
     "output_type": "display_data"
    }
   ],
   "source": [
    "import matplotlib.pyplot as plt\n",
    "plt.figure(figsize=(20,7))\n",
    "x= range(len(y_test))\n",
    "plt.plot(x,y_test, marker='x',label = '정답')\n",
    "plt.plot(x,pred_test, marker='o',label='추정값')\n",
    "plt.legend()\n",
    "plt.grid(True,linestyle=\":\")\n",
    "plt.title(\"정답, 모델 추정값 비교\")\n",
    "plt.show()"
   ]
  },
  {
   "cell_type": "code",
   "execution_count": null,
   "metadata": {},
   "outputs": [],
   "source": []
  },
  {
   "cell_type": "code",
   "execution_count": null,
   "metadata": {},
   "outputs": [],
   "source": []
  },
  {
   "cell_type": "markdown",
   "metadata": {
    "slideshow": {
     "slide_type": "slide"
    }
   },
   "source": [
    "# 다항회귀 (Polynomial Regression)\n",
    "- 전처리방식 중 하나로 Feature가 너무 적어 y의 값들을 다 설명하지 못하여 underfitting이 된 경우 Feature를 늘려준다.\n",
    "- 각 Feature들을 거듭제곱한 것과 Feature들 끼리 곱한 새로운 특성들을 추가한다.\n",
    "    - 파라미터 가중치를 기준으로는 일차식이 되어 선형모델이다. 입력데이터(X)들을 기준으로는 N차식이 되어 비선형 데이터를 추론할 수 있는 모델이 된다.\n",
    "- `PolynomialFeatures` Transformer를 사용해서 변환한다."
   ]
  },
  {
   "cell_type": "markdown",
   "metadata": {
    "slideshow": {
     "slide_type": "slide"
    }
   },
   "source": [
    "## 예제"
   ]
  },
  {
   "cell_type": "markdown",
   "metadata": {
    "slideshow": {
     "slide_type": "fragment"
    }
   },
   "source": [
    "##### 데이터셋 만들기"
   ]
  },
  {
   "cell_type": "code",
   "execution_count": 64,
   "metadata": {},
   "outputs": [],
   "source": [
    "import numpy as np\n",
    "import pandas as pd\n",
    "import matplotlib.pyplot as plt\n",
    "\n",
    "np.random.seed(0)\n",
    "# X**2 +X+2 -> 우리가 찾아야 하는 함수\n",
    "def func(X): # 공식     # 노이즈 추가\n",
    "    return X**2 +X +2 + np.random.normal(0,1,(X.size,1))\n",
    "\n",
    "\n",
    "m = 100 # 데이터 개수\n",
    "X= 6* np.random.rand(m,1)-3 # X값\n",
    "y= func(X)"
   ]
  },
  {
   "cell_type": "code",
   "execution_count": 60,
   "metadata": {},
   "outputs": [
    {
     "data": {
      "text/plain": [
       "(100, 1)"
      ]
     },
     "execution_count": 60,
     "metadata": {},
     "output_type": "execute_result"
    }
   ],
   "source": [
    "X.shape"
   ]
  },
  {
   "cell_type": "code",
   "execution_count": 65,
   "metadata": {},
   "outputs": [
    {
     "data": {
      "text/plain": [
       "(100, 1)"
      ]
     },
     "execution_count": 65,
     "metadata": {},
     "output_type": "execute_result"
    }
   ],
   "source": [
    "y.shape"
   ]
  },
  {
   "cell_type": "code",
   "execution_count": 66,
   "metadata": {},
   "outputs": [
    {
     "data": {
      "text/plain": [
       "array([[ 0.29288102],\n",
       "       [ 1.2911362 ],\n",
       "       [ 0.61658026],\n",
       "       [ 0.2692991 ],\n",
       "       [-0.4580712 ]])"
      ]
     },
     "execution_count": 66,
     "metadata": {},
     "output_type": "execute_result"
    }
   ],
   "source": [
    "X[:5]"
   ]
  },
  {
   "cell_type": "code",
   "execution_count": 67,
   "metadata": {},
   "outputs": [
    {
     "data": {
      "text/plain": [
       "<matplotlib.collections.PathCollection at 0x20934798f10>"
      ]
     },
     "execution_count": 67,
     "metadata": {},
     "output_type": "execute_result"
    },
    {
     "name": "stderr",
     "output_type": "stream",
     "text": [
      "C:\\Users\\Playdata\\anaconda3\\envs\\ml\\lib\\site-packages\\IPython\\core\\events.py:89: UserWarning: Glyph 8722 (\\N{MINUS SIGN}) missing from current font.\n",
      "  func(*args, **kwargs)\n",
      "C:\\Users\\Playdata\\anaconda3\\envs\\ml\\lib\\site-packages\\IPython\\core\\pylabtools.py:152: UserWarning: Glyph 8722 (\\N{MINUS SIGN}) missing from current font.\n",
      "  fig.canvas.print_figure(bytes_io, **kw)\n"
     ]
    },
    {
     "data": {
      "image/png": "[encoded data removed]",
      "text/plain": [
       "<Figure size 640x480 with 1 Axes>"
      ]
     },
     "metadata": {},
     "output_type": "display_data"
    }
   ],
   "source": [
    "plt.scatter(X,y)"
   ]
  },
  {
   "cell_type": "code",
   "execution_count": 68,
   "metadata": {},
   "outputs": [
    {
     "name": "stdout",
     "output_type": "stream",
     "text": [
      "MSE: 7.729204760808937\n",
      "RMSE: 2.7801447373848966\n",
      "R2: 0.19138252437306003\n"
     ]
    }
   ],
   "source": [
    "from sklearn.linear_model import LinearRegression\n",
    "\n",
    "lr =LinearRegression()\n",
    "lr.fit(X,y)\n",
    "\n",
    "print_metrics_regression(y,lr.predict(X))"
   ]
  },
  {
   "cell_type": "code",
   "execution_count": 89,
   "metadata": {},
   "outputs": [
    {
     "name": "stderr",
     "output_type": "stream",
     "text": [
      "C:\\Users\\Playdata\\anaconda3\\envs\\ml\\lib\\site-packages\\IPython\\core\\pylabtools.py:152: UserWarning: Glyph 8722 (\\N{MINUS SIGN}) missing from current font.\n",
      "  fig.canvas.print_figure(bytes_io, **kw)\n"
     ]
    },
    {
     "data": {
      "image/png": "[encoded data removed]",
      "text/plain": [
       "<Figure size 640x480 with 1 Axes>"
      ]
     },
     "metadata": {},
     "output_type": "display_data"
    }
   ],
   "source": [
    "X_new= np.linspace(-5,5, 1000).reshape(-1,1)\n",
    "X_new.shape\n",
    "\n",
    "pred= lr.predict(X_new)\n",
    "plt.scatter(X,y)\n",
    "plt.plot(X_new,pred,color=\"red\")\n",
    "plt.show()"
   ]
  },
  {
   "cell_type": "code",
   "execution_count": 70,
   "metadata": {},
   "outputs": [
    {
     "data": {
      "text/plain": [
       "(100, 1)"
      ]
     },
     "execution_count": 70,
     "metadata": {},
     "output_type": "execute_result"
    }
   ],
   "source": [
    "X.shape"
   ]
  },
  {
   "cell_type": "code",
   "execution_count": 92,
   "metadata": {},
   "outputs": [
    {
     "data": {
      "text/plain": [
       "((100, 1), (100, 3))"
      ]
     },
     "execution_count": 92,
     "metadata": {},
     "output_type": "execute_result"
    }
   ],
   "source": [
    "# PolynomialFeatures 를 이용해서 feature 를 N제곱한 파생변수(컬럼)을 생성\n",
    "from sklearn.preprocessing import PolynomialFeatures\n",
    "\n",
    "# 몇 제곱 까질한 파생변수들을 생성할지 최고차를 지정 degree= 4, X1, X1 **2, X1**3,X1**4\n",
    "pn=PolynomialFeatures(degree=3, # 차원을 늘린다\n",
    "                      \n",
    "include_bias=False # True(기본값) - 상수항 컬럼 생성 --> 모든 값이 1\n",
    "                     )\n",
    "X_poly= pn.fit_transform(X) # fit(), transform()\n",
    "X.shape, X_poly.shape"
   ]
  },
  {
   "cell_type": "code",
   "execution_count": 95,
   "metadata": {},
   "outputs": [
    {
     "data": {
      "text/plain": [
       "array([[0.02512313],\n",
       "       [2.15236624],\n",
       "       [0.23440606],\n",
       "       [0.01953011]])"
      ]
     },
     "execution_count": 95,
     "metadata": {},
     "output_type": "execute_result"
    }
   ],
   "source": [
    "X[:4]**3"
   ]
  },
  {
   "cell_type": "code",
   "execution_count": 94,
   "metadata": {},
   "outputs": [
    {
     "data": {
      "text/plain": [
       "array([[0.29288102, 0.08577929, 0.02512313],\n",
       "       [1.2911362 , 1.66703268, 2.15236624],\n",
       "       [0.61658026, 0.38017121, 0.23440606],\n",
       "       [0.2692991 , 0.072522  , 0.01953011]])"
      ]
     },
     "execution_count": 94,
     "metadata": {},
     "output_type": "execute_result"
    }
   ],
   "source": [
    "X_poly[:4]"
   ]
  },
  {
   "cell_type": "code",
   "execution_count": null,
   "metadata": {},
   "outputs": [],
   "source": []
  },
  {
   "cell_type": "code",
   "execution_count": null,
   "metadata": {},
   "outputs": [],
   "source": []
  },
  {
   "cell_type": "code",
   "execution_count": null,
   "metadata": {},
   "outputs": [],
   "source": []
  },
  {
   "cell_type": "markdown",
   "metadata": {
    "slideshow": {
     "slide_type": "slide"
    }
   },
   "source": [
    "##### 모델생성, 학습"
   ]
  },
  {
   "cell_type": "code",
   "execution_count": 98,
   "metadata": {},
   "outputs": [],
   "source": [
    "lr = LinearRegression()\n",
    "lr.fit(X_poly,y)\n",
    "lr.coef_, lr.intercept_\n",
    "pred2=lr.predict(X_new_poly)"
   ]
  },
  {
   "cell_type": "code",
   "execution_count": 104,
   "metadata": {},
   "outputs": [
    {
     "data": {
      "text/plain": [
       "[<matplotlib.lines.Line2D at 0x20935612200>]"
      ]
     },
     "execution_count": 104,
     "metadata": {},
     "output_type": "execute_result"
    },
    {
     "data": {
      "image/png": "[encoded data removed]",
      "text/plain": [
       "<Figure size 640x480 with 1 Axes>"
      ]
     },
     "metadata": {},
     "output_type": "display_data"
    }
   ],
   "source": [
    "plt.scatter(X,y, label='정답')\n",
    "plt.plot(X_new,pred2,color='red',label='추정') # 틀리는 이유 노이즈때문에"
   ]
  },
  {
   "cell_type": "code",
   "execution_count": 97,
   "metadata": {},
   "outputs": [],
   "source": [
    "X_new_poly= pn.transform(X_new)"
   ]
  },
  {
   "cell_type": "code",
   "execution_count": 105,
   "metadata": {},
   "outputs": [
    {
     "name": "stdout",
     "output_type": "stream",
     "text": [
      "============평가============\n",
      "MSE: 0.9711464556716113\n",
      "RMSE: 0.9854676329903541\n",
      "R2: 0.8984001563225451\n"
     ]
    }
   ],
   "source": [
    "print_metrics_regression(y,lr.predict(X_poly),'평가')"
   ]
  },
  {
   "cell_type": "markdown",
   "metadata": {},
   "source": [
    "# degree를 크게\n",
    "- Feature가 너무 많으면 Overfitting 문제가 생긴다"
   ]
  },
  {
   "cell_type": "code",
   "execution_count": 115,
   "metadata": {},
   "outputs": [
    {
     "name": "stdout",
     "output_type": "stream",
     "text": [
      "(100, 1) (100, 20)\n"
     ]
    },
    {
     "data": {
      "text/plain": [
       "array(['x0', 'x0^2', 'x0^3', 'x0^4', 'x0^5', 'x0^6', 'x0^7', 'x0^8',\n",
       "       'x0^9', 'x0^10', 'x0^11', 'x0^12', 'x0^13', 'x0^14', 'x0^15',\n",
       "       'x0^16', 'x0^17', 'x0^18', 'x0^19', 'x0^20'], dtype=object)"
      ]
     },
     "execution_count": 115,
     "metadata": {},
     "output_type": "execute_result"
    }
   ],
   "source": [
    "pn2= PolynomialFeatures(degree=20,include_bias=False)\n",
    "X_poly2= pn2.fit_transform(X)\n",
    "print(X.shape,X_poly2.shape)\n",
    "pn2.get_feature_names_out() # 변환된 Feature가 어떤 연산을 통해 생성됬는지를 알려준다."
   ]
  },
  {
   "cell_type": "code",
   "execution_count": 116,
   "metadata": {},
   "outputs": [
    {
     "name": "stdout",
     "output_type": "stream",
     "text": [
      "[[-3.28569719e-01  6.47675086e+00  3.16913237e+00 -1.29665719e+01\n",
      "  -2.54852646e+00  1.50464293e+01  6.72958095e-01 -1.03986776e+01\n",
      "   2.11228012e-01  4.51332935e+00 -1.99218183e-01 -1.24633707e+00\n",
      "   5.91377751e-02  2.17033007e-01 -8.79464040e-03 -2.29624945e-02\n",
      "   6.58302416e-04  1.34346913e-03 -1.97145312e-05 -3.32666696e-05]]\n",
      "[1.79883353]\n"
     ]
    }
   ],
   "source": [
    "lr3 =LinearRegression()\n",
    "lr3.fit(X_poly2,y)\n",
    "print(lr3.coef_)\n",
    "print(lr3.intercept_)"
   ]
  },
  {
   "cell_type": "code",
   "execution_count": 109,
   "metadata": {},
   "outputs": [
    {
     "name": "stdout",
     "output_type": "stream",
     "text": [
      "MSE: 0.8696999689280741\n",
      "RMSE: 0.9325770579035676\n",
      "R2: 0.9090133312299719\n"
     ]
    }
   ],
   "source": [
    "print_metrics_regression(y,lr3.predict(X_poly2))\n",
    "# degree 20 "
   ]
  },
  {
   "cell_type": "code",
   "execution_count": 114,
   "metadata": {},
   "outputs": [
    {
     "name": "stdout",
     "output_type": "stream",
     "text": [
      "MSE: 2.0968563928775894\n",
      "RMSE: 1.4480526208938642\n",
      "R2: 0.7806301197041348\n"
     ]
    }
   ],
   "source": [
    "print_metrics_regression(y,lr3.predict(X_poly2))\n",
    "# degree 50 \n",
    "# degree가 높다고 좋은것은 아니다"
   ]
  },
  {
   "cell_type": "code",
   "execution_count": 125,
   "metadata": {},
   "outputs": [
    {
     "name": "stderr",
     "output_type": "stream",
     "text": [
      "C:\\Users\\Playdata\\anaconda3\\envs\\ml\\lib\\site-packages\\IPython\\core\\pylabtools.py:152: UserWarning: Glyph 8722 (\\N{MINUS SIGN}) missing from current font.\n",
      "  fig.canvas.print_figure(bytes_io, **kw)\n"
     ]
    },
    {
     "data": {
      "image/png": "[encoded data removed]",
      "text/plain": [
       "<Figure size 640x480 with 1 Axes>"
      ]
     },
     "metadata": {},
     "output_type": "display_data"
    }
   ],
   "source": [
    "X_new_3= pn2.transform(X_new)\n",
    "pred_3= lr3.predict(X_new_3)\n",
    "plt.scatter(X,y, label='정답')\n",
    "plt.plot(X_new,pred_3,label='추정',color='red')\n",
    "plt.legend()\n",
    "# plt.xlim(-3,3)\n",
    "plt.ylim(0,12) # train set 범위 안에서는 다 맞췄지만 그 이외의 데이터가 들어올경우 train set에만 적합되고 이외의 값들에겐 큰 오차가 난다(과적합)\n",
    "plt.show()"
   ]
  },
  {
   "cell_type": "code",
   "execution_count": null,
   "metadata": {},
   "outputs": [],
   "source": []
  },
  {
   "cell_type": "markdown",
   "metadata": {
    "slideshow": {
     "slide_type": "slide"
    }
   },
   "source": [
    "##### PolynomialFeatures를 이용해 다항회귀구현"
   ]
  },
  {
   "cell_type": "code",
   "execution_count": null,
   "metadata": {},
   "outputs": [],
   "source": []
  },
  {
   "cell_type": "code",
   "execution_count": null,
   "metadata": {},
   "outputs": [],
   "source": []
  },
  {
   "cell_type": "markdown",
   "metadata": {
    "slideshow": {
     "slide_type": "slide"
    }
   },
   "source": [
    "##### LinearRegression 모델을 이용해 평가"
   ]
  },
  {
   "cell_type": "code",
   "execution_count": null,
   "metadata": {},
   "outputs": [],
   "source": []
  },
  {
   "cell_type": "code",
   "execution_count": null,
   "metadata": {},
   "outputs": [],
   "source": []
  },
  {
   "cell_type": "markdown",
   "metadata": {
    "slideshow": {
     "slide_type": "slide"
    }
   },
   "source": [
    "##### 시각화"
   ]
  },
  {
   "cell_type": "code",
   "execution_count": null,
   "metadata": {},
   "outputs": [],
   "source": []
  },
  {
   "cell_type": "code",
   "execution_count": null,
   "metadata": {},
   "outputs": [],
   "source": []
  },
  {
   "cell_type": "markdown",
   "metadata": {
    "slideshow": {
     "slide_type": "slide"
    }
   },
   "source": [
    "## degree를 크게\n",
    "- Feature가 너무 많으면 Overfitting 문제가 생긴다."
   ]
  },
  {
   "cell_type": "code",
   "execution_count": null,
   "metadata": {},
   "outputs": [],
   "source": []
  },
  {
   "cell_type": "code",
   "execution_count": null,
   "metadata": {},
   "outputs": [],
   "source": []
  },
  {
   "cell_type": "markdown",
   "metadata": {
    "slideshow": {
     "slide_type": "slide"
    }
   },
   "source": [
    "### PolynomialFeatures 예제"
   ]
  },
  {
   "cell_type": "code",
   "execution_count": 136,
   "metadata": {},
   "outputs": [
    {
     "data": {
      "text/plain": [
       "array([[ 0,  1],\n",
       "       [ 2,  3],\n",
       "       [ 4,  5],\n",
       "       [ 6,  7],\n",
       "       [ 8,  9],\n",
       "       [10, 11]])"
      ]
     },
     "execution_count": 136,
     "metadata": {},
     "output_type": "execute_result"
    }
   ],
   "source": [
    "data = np.arange(12).reshape(6,2) # data 6개 ,feature 2개\n",
    "data.shape\n",
    "data"
   ]
  },
  {
   "cell_type": "code",
   "execution_count": 142,
   "metadata": {},
   "outputs": [
    {
     "data": {
      "text/plain": [
       "(6, 9)"
      ]
     },
     "execution_count": 142,
     "metadata": {},
     "output_type": "execute_result"
    }
   ],
   "source": [
    "# pn= PolynomialFeatures(degree=2,include_bias=False)\n",
    "pn= PolynomialFeatures(degree=3,include_bias=False)\n",
    "data_poly= pn.fit_transform(data) \n",
    "data_poly.shape"
   ]
  },
  {
   "cell_type": "code",
   "execution_count": 143,
   "metadata": {},
   "outputs": [
    {
     "data": {
      "text/plain": [
       "array(['x0', 'x1', 'x0^2', 'x0 x1', 'x1^2', 'x0^3', 'x0^2 x1', 'x0 x1^2',\n",
       "       'x1^3'], dtype=object)"
      ]
     },
     "execution_count": 143,
     "metadata": {},
     "output_type": "execute_result"
    }
   ],
   "source": [
    "pn.get_feature_names_out()"
   ]
  },
  {
   "cell_type": "code",
   "execution_count": 153,
   "metadata": {},
   "outputs": [
    {
     "data": {
      "text/plain": [
       "array([[   0.,    1.,    0.,    0.,    1.,    0.],\n",
       "       [   2.,    3.,    4.,    6.,    9.,    8.],\n",
       "       [   4.,    5.,   16.,   20.,   25.,   64.],\n",
       "       [   6.,    7.,   36.,   42.,   49.,  216.],\n",
       "       [   8.,    9.,   64.,   72.,   81.,  512.],\n",
       "       [  10.,   11.,  100.,  110.,  121., 1000.]])"
      ]
     },
     "execution_count": 153,
     "metadata": {},
     "output_type": "execute_result"
    }
   ],
   "source": [
    "data_poly[:,:6]"
   ]
  },
  {
   "cell_type": "markdown",
   "metadata": {
    "slideshow": {
     "slide_type": "slide"
    }
   },
   "source": [
    "### PolynomialFeatures를 Boston Dataset에 적용"
   ]
  },
  {
   "cell_type": "code",
   "execution_count": 169,
   "metadata": {},
   "outputs": [
    {
     "data": {
      "text/plain": [
       "((379, 13), (379, 104), (379, 104))"
      ]
     },
     "execution_count": 169,
     "metadata": {},
     "output_type": "execute_result"
    }
   ],
   "source": [
    "X_train, X_test,y_train, y_test = get_boston_dataset()\n",
    "scaler= StandardScaler()\n",
    "X_train_scaled= scaler.fit_transform(X_train)\n",
    "X_test_scaled_= scaler.transform(X_test)\n",
    "\n",
    "pn= PolynomialFeatures(degree=2, include_bias=False)\n",
    "X_train_poly=pn.fit_transform(X_train)\n",
    "X_test_poly=pn.transform(X_test)\n",
    "\n",
    "scaler= StandardScaler()\n",
    "X_train_scaled_poly= scaler.fit_transform(X_train_poly)\n",
    "X_test_scaled_poly= scaler.transform(X_test_poly)\n",
    "X_train.shape, X_train_poly.shape, X_train_scaled_poly.shape"
   ]
  },
  {
   "cell_type": "code",
   "execution_count": 162,
   "metadata": {},
   "outputs": [
    {
     "data": {
      "text/html": [
       "<style>#sk-container-id-2 {color: black;background-color: white;}#sk-container-id-2 pre{padding: 0;}#sk-container-id-2 div.sk-toggleable {background-color: white;}#sk-container-id-2 label.sk-toggleable__label {cursor: pointer;display: block;width: 100%;margin-bottom: 0;padding: 0.3em;box-sizing: border-box;text-align: center;}#sk-container-id-2 label.sk-toggleable__label-arrow:before {content: \"▸\";float: left;margin-right: 0.25em;color: #696969;}#sk-container-id-2 label.sk-toggleable__label-arrow:hover:before {color: black;}#sk-container-id-2 div.sk-estimator:hover label.sk-toggleable__label-arrow:before {color: black;}#sk-container-id-2 div.sk-toggleable__content {max-height: 0;max-width: 0;overflow: hidden;text-align: left;background-color: #f0f8ff;}#sk-container-id-2 div.sk-toggleable__content pre {margin: 0.2em;color: black;border-radius: 0.25em;background-color: #f0f8ff;}#sk-container-id-2 input.sk-toggleable__control:checked~div.sk-toggleable__content {max-height: 200px;max-width: 100%;overflow: auto;}#sk-container-id-2 input.sk-toggleable__control:checked~label.sk-toggleable__label-arrow:before {content: \"▾\";}#sk-container-id-2 div.sk-estimator input.sk-toggleable__control:checked~label.sk-toggleable__label {background-color: #d4ebff;}#sk-container-id-2 div.sk-label input.sk-toggleable__control:checked~label.sk-toggleable__label {background-color: #d4ebff;}#sk-container-id-2 input.sk-hidden--visually {border: 0;clip: rect(1px 1px 1px 1px);clip: rect(1px, 1px, 1px, 1px);height: 1px;margin: -1px;overflow: hidden;padding: 0;position: absolute;width: 1px;}#sk-container-id-2 div.sk-estimator {font-family: monospace;background-color: #f0f8ff;border: 1px dotted black;border-radius: 0.25em;box-sizing: border-box;margin-bottom: 0.5em;}#sk-container-id-2 div.sk-estimator:hover {background-color: #d4ebff;}#sk-container-id-2 div.sk-parallel-item::after {content: \"\";width: 100%;border-bottom: 1px solid gray;flex-grow: 1;}#sk-container-id-2 div.sk-label:hover label.sk-toggleable__label {background-color: #d4ebff;}#sk-container-id-2 div.sk-serial::before {content: \"\";position: absolute;border-left: 1px solid gray;box-sizing: border-box;top: 0;bottom: 0;left: 50%;z-index: 0;}#sk-container-id-2 div.sk-serial {display: flex;flex-direction: column;align-items: center;background-color: white;padding-right: 0.2em;padding-left: 0.2em;position: relative;}#sk-container-id-2 div.sk-item {position: relative;z-index: 1;}#sk-container-id-2 div.sk-parallel {display: flex;align-items: stretch;justify-content: center;background-color: white;position: relative;}#sk-container-id-2 div.sk-item::before, #sk-container-id-2 div.sk-parallel-item::before {content: \"\";position: absolute;border-left: 1px solid gray;box-sizing: border-box;top: 0;bottom: 0;left: 50%;z-index: -1;}#sk-container-id-2 div.sk-parallel-item {display: flex;flex-direction: column;z-index: 1;position: relative;background-color: white;}#sk-container-id-2 div.sk-parallel-item:first-child::after {align-self: flex-end;width: 50%;}#sk-container-id-2 div.sk-parallel-item:last-child::after {align-self: flex-start;width: 50%;}#sk-container-id-2 div.sk-parallel-item:only-child::after {width: 0;}#sk-container-id-2 div.sk-dashed-wrapped {border: 1px dashed gray;margin: 0 0.4em 0.5em 0.4em;box-sizing: border-box;padding-bottom: 0.4em;background-color: white;}#sk-container-id-2 div.sk-label label {font-family: monospace;font-weight: bold;display: inline-block;line-height: 1.2em;}#sk-container-id-2 div.sk-label-container {text-align: center;}#sk-container-id-2 div.sk-container {/* jupyter's `normalize.less` sets `[hidden] { display: none; }` but bootstrap.min.css set `[hidden] { display: none !important; }` so we also need the `!important` here to be able to override the default hidden behavior on the sphinx rendered scikit-learn.org. See: https://github.com/scikit-learn/scikit-learn/issues/21755 */display: inline-block !important;position: relative;}#sk-container-id-2 div.sk-text-repr-fallback {display: none;}</style><div id=\"sk-container-id-2\" class=\"sk-top-container\"><div class=\"sk-text-repr-fallback\"><pre>LinearRegression()</pre><b>In a Jupyter environment, please rerun this cell to show the HTML representation or trust the notebook. <br />On GitHub, the HTML representation is unable to render, please try loading this page with nbviewer.org.</b></div><div class=\"sk-container\" hidden><div class=\"sk-item\"><div class=\"sk-estimator sk-toggleable\"><input class=\"sk-toggleable__control sk-hidden--visually\" id=\"sk-estimator-id-2\" type=\"checkbox\" checked><label for=\"sk-estimator-id-2\" class=\"sk-toggleable__label sk-toggleable__label-arrow\">LinearRegression</label><div class=\"sk-toggleable__content\"><pre>LinearRegression()</pre></div></div></div></div></div>"
      ],
      "text/plain": [
       "LinearRegression()"
      ]
     },
     "execution_count": 162,
     "metadata": {},
     "output_type": "execute_result"
    }
   ],
   "source": [
    "lr= LinearRegression()\n",
    "lr.fit(X_train_scaled_poly,y_train)"
   ]
  },
  {
   "cell_type": "code",
   "execution_count": 164,
   "metadata": {},
   "outputs": [
    {
     "name": "stdout",
     "output_type": "stream",
     "text": [
      "============train set============\n",
      "MSE: 4.0903626125437675\n",
      "RMSE: 2.022464489810332\n",
      "R2: 0.952051960903273\n",
      "============test set============\n",
      "MSE: 32.069135121580665\n",
      "RMSE: 5.662961691692843\n",
      "R2: 0.6074721959666054\n"
     ]
    }
   ],
   "source": [
    "pred_train= lr.predict(X_train_scaled_poly)\n",
    "pred_test= lr.predict(X_test_scaled_poly)\n",
    "print_metrics_regression(y_train,pred_train,\"train set\")\n",
    "print_metrics_regression(y_test,pred_test,'test set')"
   ]
  },
  {
   "cell_type": "code",
   "execution_count": 180,
   "metadata": {},
   "outputs": [
    {
     "data": {
      "text/plain": [
       "<matplotlib.collections.PathCollection at 0x209349cb820>"
      ]
     },
     "execution_count": 180,
     "metadata": {},
     "output_type": "execute_result"
    },
    {
     "data": {
      "image/png": "[encoded data removed]",
      "text/plain": [
       "<Figure size 640x480 with 1 Axes>"
      ]
     },
     "metadata": {},
     "output_type": "display_data"
    }
   ],
   "source": [
    "plt.scatter(pred_train,y_train)"
   ]
  },
  {
   "cell_type": "code",
   "execution_count": 170,
   "metadata": {},
   "outputs": [
    {
     "name": "stdout",
     "output_type": "stream",
     "text": [
      "============train============\n",
      "MSE: 19.640519427908043\n",
      "RMSE: 4.431762564477935\n",
      "R2: 0.7697699488741149\n",
      "============test============\n",
      "MSE: 29.782245092302325\n",
      "RMSE: 5.457311159564051\n",
      "R2: 0.6354638433202133\n"
     ]
    }
   ],
   "source": [
    "lr2 = LinearRegression()\n",
    "lr2.fit(X_train_scaled, y_train)\n",
    "print_metrics_regression(y_train, lr2.predict(X_train_scaled),'train')\n",
    "print_metrics_regression(y_test, lr2.predict(X_test_scaled),'test')"
   ]
  },
  {
   "cell_type": "markdown",
   "metadata": {
    "slideshow": {
     "slide_type": "slide"
    }
   },
   "source": [
    "##### 모델 생성 학습 추론 평가"
   ]
  },
  {
   "cell_type": "code",
   "execution_count": null,
   "metadata": {},
   "outputs": [],
   "source": []
  },
  {
   "cell_type": "code",
   "execution_count": 171,
   "metadata": {},
   "outputs": [
    {
     "data": {
      "text/plain": [
       "[('polynomialfeatures', PolynomialFeatures(include_bias=False)),\n",
       " ('standardscaler', StandardScaler()),\n",
       " ('linearregression', LinearRegression())]"
      ]
     },
     "execution_count": 171,
     "metadata": {},
     "output_type": "execute_result"
    }
   ],
   "source": [
    "# pipeline 적용\n",
    "from sklearn.pipeline import make_pipeline\n",
    "pipeline =make_pipeline(PolynomialFeatures(degree=2, include_bias=False),StandardScaler(),LinearRegression())\n",
    "pipeline.steps"
   ]
  },
  {
   "cell_type": "code",
   "execution_count": 172,
   "metadata": {},
   "outputs": [
    {
     "name": "stdout",
     "output_type": "stream",
     "text": [
      "============pipeline============\n",
      "MSE: 32.069135121580665\n",
      "RMSE: 5.662961691692843\n",
      "R2: 0.6074721959666054\n"
     ]
    }
   ],
   "source": [
    "pipeline.fit(X_train,y_train)\n",
    "pred_test= pipeline.predict(X_test)\n",
    "print_metrics_regression(y_test,pred_test,'pipeline')"
   ]
  },
  {
   "cell_type": "code",
   "execution_count": 173,
   "metadata": {},
   "outputs": [],
   "source": [
    "pipeline =make_pipeline(PolynomialFeatures(degree=2, include_bias=False),StandardScaler())\n",
    "result=pipeline.fit_transform(X_train)"
   ]
  },
  {
   "cell_type": "code",
   "execution_count": 174,
   "metadata": {},
   "outputs": [
    {
     "data": {
      "text/plain": [
       "(379, 104)"
      ]
     },
     "execution_count": 174,
     "metadata": {},
     "output_type": "execute_result"
    }
   ],
   "source": [
    "result.shape"
   ]
  },
  {
   "cell_type": "code",
   "execution_count": 178,
   "metadata": {},
   "outputs": [
    {
     "data": {
      "text/html": [
       "<div>\n",
       "<style scoped>\n",
       "    .dataframe tbody tr th:only-of-type {\n",
       "        vertical-align: middle;\n",
       "    }\n",
       "\n",
       "    .dataframe tbody tr th {\n",
       "        vertical-align: top;\n",
       "    }\n",
       "\n",
       "    .dataframe thead th {\n",
       "        text-align: right;\n",
       "    }\n",
       "</style>\n",
       "<table border=\"1\" class=\"dataframe\">\n",
       "  <thead>\n",
       "    <tr style=\"text-align: right;\">\n",
       "      <th></th>\n",
       "      <th>0</th>\n",
       "      <th>1</th>\n",
       "      <th>2</th>\n",
       "      <th>3</th>\n",
       "      <th>4</th>\n",
       "      <th>5</th>\n",
       "      <th>6</th>\n",
       "      <th>7</th>\n",
       "      <th>8</th>\n",
       "      <th>9</th>\n",
       "      <th>10</th>\n",
       "      <th>11</th>\n",
       "      <th>12</th>\n",
       "      <th>13</th>\n",
       "      <th>14</th>\n",
       "      <th>15</th>\n",
       "      <th>16</th>\n",
       "      <th>17</th>\n",
       "      <th>18</th>\n",
       "      <th>19</th>\n",
       "      <th>20</th>\n",
       "      <th>21</th>\n",
       "      <th>22</th>\n",
       "      <th>23</th>\n",
       "      <th>24</th>\n",
       "      <th>25</th>\n",
       "      <th>26</th>\n",
       "      <th>27</th>\n",
       "      <th>28</th>\n",
       "      <th>29</th>\n",
       "      <th>30</th>\n",
       "      <th>31</th>\n",
       "      <th>32</th>\n",
       "      <th>33</th>\n",
       "      <th>34</th>\n",
       "      <th>35</th>\n",
       "      <th>36</th>\n",
       "      <th>37</th>\n",
       "      <th>38</th>\n",
       "      <th>39</th>\n",
       "      <th>40</th>\n",
       "      <th>41</th>\n",
       "      <th>42</th>\n",
       "      <th>43</th>\n",
       "      <th>44</th>\n",
       "      <th>45</th>\n",
       "      <th>46</th>\n",
       "      <th>47</th>\n",
       "      <th>48</th>\n",
       "      <th>49</th>\n",
       "      <th>50</th>\n",
       "      <th>51</th>\n",
       "      <th>52</th>\n",
       "      <th>53</th>\n",
       "      <th>54</th>\n",
       "      <th>55</th>\n",
       "      <th>56</th>\n",
       "      <th>57</th>\n",
       "      <th>58</th>\n",
       "      <th>59</th>\n",
       "      <th>60</th>\n",
       "      <th>61</th>\n",
       "      <th>62</th>\n",
       "      <th>63</th>\n",
       "      <th>64</th>\n",
       "      <th>65</th>\n",
       "      <th>66</th>\n",
       "      <th>67</th>\n",
       "      <th>68</th>\n",
       "      <th>69</th>\n",
       "      <th>70</th>\n",
       "      <th>71</th>\n",
       "      <th>72</th>\n",
       "      <th>73</th>\n",
       "      <th>74</th>\n",
       "      <th>75</th>\n",
       "      <th>76</th>\n",
       "      <th>77</th>\n",
       "      <th>78</th>\n",
       "      <th>79</th>\n",
       "      <th>80</th>\n",
       "      <th>81</th>\n",
       "      <th>82</th>\n",
       "      <th>83</th>\n",
       "      <th>84</th>\n",
       "      <th>85</th>\n",
       "      <th>86</th>\n",
       "      <th>87</th>\n",
       "      <th>88</th>\n",
       "      <th>89</th>\n",
       "      <th>90</th>\n",
       "      <th>91</th>\n",
       "      <th>92</th>\n",
       "      <th>93</th>\n",
       "      <th>94</th>\n",
       "      <th>95</th>\n",
       "      <th>96</th>\n",
       "      <th>97</th>\n",
       "      <th>98</th>\n",
       "      <th>99</th>\n",
       "      <th>100</th>\n",
       "      <th>101</th>\n",
       "      <th>102</th>\n",
       "      <th>103</th>\n",
       "    </tr>\n",
       "  </thead>\n",
       "  <tbody>\n",
       "    <tr>\n",
       "      <th>0</th>\n",
       "      <td>-0.390600</td>\n",
       "      <td>0.426370</td>\n",
       "      <td>-0.744914</td>\n",
       "      <td>-0.265747</td>\n",
       "      <td>-1.078733</td>\n",
       "      <td>-1.021961</td>\n",
       "      <td>0.051970</td>\n",
       "      <td>1.994571</td>\n",
       "      <td>-0.278328</td>\n",
       "      <td>-0.427994</td>\n",
       "      <td>0.278789</td>\n",
       "      <td>0.340496</td>\n",
       "      <td>0.822121</td>\n",
       "      <td>-0.158126</td>\n",
       "      <td>1.296205</td>\n",
       "      <td>-0.396298</td>\n",
       "      <td>-0.154239</td>\n",
       "      <td>-0.395839</td>\n",
       "      <td>-0.386400</td>\n",
       "      <td>-0.385033</td>\n",
       "      <td>-0.383648</td>\n",
       "      <td>-0.375751</td>\n",
       "      <td>-0.384028</td>\n",
       "      <td>-0.385965</td>\n",
       "      <td>-0.323118</td>\n",
       "      <td>-0.343645</td>\n",
       "      <td>-0.117410</td>\n",
       "      <td>1.007797</td>\n",
       "      <td>-0.120225</td>\n",
       "      <td>0.435971</td>\n",
       "      <td>0.263396</td>\n",
       "      <td>1.407172</td>\n",
       "      <td>0.549842</td>\n",
       "      <td>1.136515</td>\n",
       "      <td>0.533200</td>\n",
       "      <td>0.550644</td>\n",
       "      <td>0.427012</td>\n",
       "      <td>2.175611</td>\n",
       "      <td>-0.779154</td>\n",
       "      <td>-0.239500</td>\n",
       "      <td>-0.829408</td>\n",
       "      <td>-0.837216</td>\n",
       "      <td>-0.642378</td>\n",
       "      <td>1.054426</td>\n",
       "      <td>-0.563493</td>\n",
       "      <td>-0.702103</td>\n",
       "      <td>-0.702664</td>\n",
       "      <td>-0.563725</td>\n",
       "      <td>-0.367235</td>\n",
       "      <td>-0.265747</td>\n",
       "      <td>-0.258497</td>\n",
       "      <td>-0.263043</td>\n",
       "      <td>-0.254935</td>\n",
       "      <td>-0.247625</td>\n",
       "      <td>-0.199569</td>\n",
       "      <td>-0.242714</td>\n",
       "      <td>-0.264147</td>\n",
       "      <td>-0.265482</td>\n",
       "      <td>-0.222551</td>\n",
       "      <td>-0.986635</td>\n",
       "      <td>-1.484702</td>\n",
       "      <td>-0.477152</td>\n",
       "      <td>2.023358</td>\n",
       "      <td>-0.458894</td>\n",
       "      <td>-0.680184</td>\n",
       "      <td>-0.796513</td>\n",
       "      <td>-0.467057</td>\n",
       "      <td>0.089437</td>\n",
       "      <td>-0.994608</td>\n",
       "      <td>-0.203005</td>\n",
       "      <td>1.463917</td>\n",
       "      <td>-0.359348</td>\n",
       "      <td>-0.641477</td>\n",
       "      <td>-0.607292</td>\n",
       "      <td>-0.145449</td>\n",
       "      <td>0.698573</td>\n",
       "      <td>-0.171881</td>\n",
       "      <td>3.690432</td>\n",
       "      <td>-0.312571</td>\n",
       "      <td>-0.333382</td>\n",
       "      <td>0.095849</td>\n",
       "      <td>0.281827</td>\n",
       "      <td>0.385191</td>\n",
       "      <td>2.108075</td>\n",
       "      <td>1.515439</td>\n",
       "      <td>2.146563</td>\n",
       "      <td>2.190005</td>\n",
       "      <td>1.928037</td>\n",
       "      <td>4.986363</td>\n",
       "      <td>-0.473428</td>\n",
       "      <td>-0.441849</td>\n",
       "      <td>-0.272014</td>\n",
       "      <td>-0.106174</td>\n",
       "      <td>-0.093978</td>\n",
       "      <td>-0.521237</td>\n",
       "      <td>-0.350277</td>\n",
       "      <td>-0.148356</td>\n",
       "      <td>0.072665</td>\n",
       "      <td>0.235830</td>\n",
       "      <td>0.456192</td>\n",
       "      <td>0.777218</td>\n",
       "      <td>0.364188</td>\n",
       "      <td>1.125227</td>\n",
       "      <td>0.563744</td>\n",
       "    </tr>\n",
       "    <tr>\n",
       "      <th>1</th>\n",
       "      <td>-0.401276</td>\n",
       "      <td>0.552534</td>\n",
       "      <td>-0.849018</td>\n",
       "      <td>-0.265747</td>\n",
       "      <td>-0.889119</td>\n",
       "      <td>-0.556963</td>\n",
       "      <td>-0.764286</td>\n",
       "      <td>1.505651</td>\n",
       "      <td>-0.162916</td>\n",
       "      <td>-0.696853</td>\n",
       "      <td>0.552877</td>\n",
       "      <td>0.427749</td>\n",
       "      <td>-0.462417</td>\n",
       "      <td>-0.158178</td>\n",
       "      <td>0.640388</td>\n",
       "      <td>-0.400246</td>\n",
       "      <td>-0.154239</td>\n",
       "      <td>-0.402183</td>\n",
       "      <td>-0.395561</td>\n",
       "      <td>-0.395996</td>\n",
       "      <td>-0.445114</td>\n",
       "      <td>-0.378322</td>\n",
       "      <td>-0.390154</td>\n",
       "      <td>-0.395676</td>\n",
       "      <td>-0.334856</td>\n",
       "      <td>-0.356968</td>\n",
       "      <td>-0.042879</td>\n",
       "      <td>0.999910</td>\n",
       "      <td>-0.120225</td>\n",
       "      <td>0.621394</td>\n",
       "      <td>0.415548</td>\n",
       "      <td>0.949668</td>\n",
       "      <td>0.540189</td>\n",
       "      <td>1.624851</td>\n",
       "      <td>0.510799</td>\n",
       "      <td>0.730894</td>\n",
       "      <td>0.574296</td>\n",
       "      <td>1.019797</td>\n",
       "      <td>-0.824557</td>\n",
       "      <td>-0.239500</td>\n",
       "      <td>-0.868753</td>\n",
       "      <td>-0.895241</td>\n",
       "      <td>-0.870783</td>\n",
       "      <td>0.272942</td>\n",
       "      <td>-0.563379</td>\n",
       "      <td>-0.800283</td>\n",
       "      <td>-0.779930</td>\n",
       "      <td>-0.656474</td>\n",
       "      <td>-0.727829</td>\n",
       "      <td>-0.265747</td>\n",
       "      <td>-0.258497</td>\n",
       "      <td>-0.263043</td>\n",
       "      <td>-0.254935</td>\n",
       "      <td>-0.247625</td>\n",
       "      <td>-0.199569</td>\n",
       "      <td>-0.242714</td>\n",
       "      <td>-0.264147</td>\n",
       "      <td>-0.265482</td>\n",
       "      <td>-0.222551</td>\n",
       "      <td>-0.846591</td>\n",
       "      <td>-1.111905</td>\n",
       "      <td>-0.884215</td>\n",
       "      <td>1.637687</td>\n",
       "      <td>-0.361138</td>\n",
       "      <td>-0.776724</td>\n",
       "      <td>-0.533506</td>\n",
       "      <td>-0.265173</td>\n",
       "      <td>-0.617632</td>\n",
       "      <td>-0.580260</td>\n",
       "      <td>-0.851749</td>\n",
       "      <td>1.213076</td>\n",
       "      <td>-0.205675</td>\n",
       "      <td>-0.802332</td>\n",
       "      <td>0.040285</td>\n",
       "      <td>0.125175</td>\n",
       "      <td>-0.549742</td>\n",
       "      <td>-0.957828</td>\n",
       "      <td>1.204672</td>\n",
       "      <td>-0.447232</td>\n",
       "      <td>-0.798279</td>\n",
       "      <td>-0.617166</td>\n",
       "      <td>-0.452247</td>\n",
       "      <td>-0.688785</td>\n",
       "      <td>1.388318</td>\n",
       "      <td>1.503381</td>\n",
       "      <td>1.054881</td>\n",
       "      <td>1.783316</td>\n",
       "      <td>1.535301</td>\n",
       "      <td>1.127694</td>\n",
       "      <td>-0.411491</td>\n",
       "      <td>-0.447797</td>\n",
       "      <td>-0.138608</td>\n",
       "      <td>0.045397</td>\n",
       "      <td>-0.382551</td>\n",
       "      <td>-0.698683</td>\n",
       "      <td>-0.538074</td>\n",
       "      <td>-0.387090</td>\n",
       "      <td>-0.614995</td>\n",
       "      <td>0.538340</td>\n",
       "      <td>0.668975</td>\n",
       "      <td>-0.382412</td>\n",
       "      <td>0.515000</td>\n",
       "      <td>-0.227972</td>\n",
       "      <td>-0.531723</td>\n",
       "    </tr>\n",
       "    <tr>\n",
       "      <th>2</th>\n",
       "      <td>-0.401105</td>\n",
       "      <td>1.183350</td>\n",
       "      <td>-0.666480</td>\n",
       "      <td>3.762978</td>\n",
       "      <td>-0.940832</td>\n",
       "      <td>1.378122</td>\n",
       "      <td>-0.700406</td>\n",
       "      <td>0.480493</td>\n",
       "      <td>-0.624563</td>\n",
       "      <td>-0.872196</td>\n",
       "      <td>-0.406431</td>\n",
       "      <td>0.341844</td>\n",
       "      <td>-0.903108</td>\n",
       "      <td>-0.158177</td>\n",
       "      <td>1.287476</td>\n",
       "      <td>-0.399303</td>\n",
       "      <td>-0.017448</td>\n",
       "      <td>-0.402181</td>\n",
       "      <td>-0.392602</td>\n",
       "      <td>-0.395669</td>\n",
       "      <td>-0.461490</td>\n",
       "      <td>-0.380363</td>\n",
       "      <td>-0.390650</td>\n",
       "      <td>-0.396827</td>\n",
       "      <td>-0.334940</td>\n",
       "      <td>-0.358615</td>\n",
       "      <td>0.472494</td>\n",
       "      <td>2.508335</td>\n",
       "      <td>10.005361</td>\n",
       "      <td>1.280888</td>\n",
       "      <td>1.287558</td>\n",
       "      <td>1.928957</td>\n",
       "      <td>0.642992</td>\n",
       "      <td>1.200211</td>\n",
       "      <td>0.939205</td>\n",
       "      <td>1.258182</td>\n",
       "      <td>1.185171</td>\n",
       "      <td>1.095483</td>\n",
       "      <td>-0.740962</td>\n",
       "      <td>1.651123</td>\n",
       "      <td>-0.763184</td>\n",
       "      <td>-0.510533</td>\n",
       "      <td>-0.773672</td>\n",
       "      <td>-0.071703</td>\n",
       "      <td>-0.651520</td>\n",
       "      <td>-0.765032</td>\n",
       "      <td>-0.696334</td>\n",
       "      <td>-0.482147</td>\n",
       "      <td>-0.778285</td>\n",
       "      <td>3.762978</td>\n",
       "      <td>2.751547</td>\n",
       "      <td>4.177364</td>\n",
       "      <td>2.236595</td>\n",
       "      <td>5.568757</td>\n",
       "      <td>1.055813</td>\n",
       "      <td>2.180296</td>\n",
       "      <td>3.712303</td>\n",
       "      <td>3.814327</td>\n",
       "      <td>1.583301</td>\n",
       "      <td>-0.885476</td>\n",
       "      <td>-0.331596</td>\n",
       "      <td>-0.860299</td>\n",
       "      <td>0.299827</td>\n",
       "      <td>-0.656821</td>\n",
       "      <td>-0.884186</td>\n",
       "      <td>-0.935199</td>\n",
       "      <td>-0.362115</td>\n",
       "      <td>-0.893064</td>\n",
       "      <td>1.392556</td>\n",
       "      <td>-0.416300</td>\n",
       "      <td>0.761911</td>\n",
       "      <td>-0.550325</td>\n",
       "      <td>-0.645182</td>\n",
       "      <td>0.783326</td>\n",
       "      <td>0.877340</td>\n",
       "      <td>-0.822860</td>\n",
       "      <td>-0.907427</td>\n",
       "      <td>0.209077</td>\n",
       "      <td>-0.662122</td>\n",
       "      <td>-0.843944</td>\n",
       "      <td>-0.734169</td>\n",
       "      <td>-0.423206</td>\n",
       "      <td>-0.861895</td>\n",
       "      <td>0.200273</td>\n",
       "      <td>-0.414294</td>\n",
       "      <td>-0.196971</td>\n",
       "      <td>0.400050</td>\n",
       "      <td>0.522144</td>\n",
       "      <td>-0.498438</td>\n",
       "      <td>-0.609691</td>\n",
       "      <td>-0.644400</td>\n",
       "      <td>-0.625344</td>\n",
       "      <td>-0.498096</td>\n",
       "      <td>-0.640426</td>\n",
       "      <td>-0.800085</td>\n",
       "      <td>-0.836236</td>\n",
       "      <td>-0.597783</td>\n",
       "      <td>-0.829169</td>\n",
       "      <td>-0.479512</td>\n",
       "      <td>0.136048</td>\n",
       "      <td>-0.892209</td>\n",
       "      <td>0.366495</td>\n",
       "      <td>-0.728888</td>\n",
       "      <td>-0.739052</td>\n",
       "    </tr>\n",
       "    <tr>\n",
       "      <th>3</th>\n",
       "      <td>0.643120</td>\n",
       "      <td>-0.498828</td>\n",
       "      <td>1.000608</td>\n",
       "      <td>-0.265747</td>\n",
       "      <td>1.179393</td>\n",
       "      <td>0.228624</td>\n",
       "      <td>1.066967</td>\n",
       "      <td>-0.982823</td>\n",
       "      <td>1.683670</td>\n",
       "      <td>1.535846</td>\n",
       "      <td>0.781284</td>\n",
       "      <td>0.372500</td>\n",
       "      <td>0.635835</td>\n",
       "      <td>-0.007314</td>\n",
       "      <td>-0.400209</td>\n",
       "      <td>0.649525</td>\n",
       "      <td>-0.154239</td>\n",
       "      <td>0.663637</td>\n",
       "      <td>0.714910</td>\n",
       "      <td>0.701196</td>\n",
       "      <td>0.647335</td>\n",
       "      <td>0.665635</td>\n",
       "      <td>0.656478</td>\n",
       "      <td>0.647788</td>\n",
       "      <td>0.849361</td>\n",
       "      <td>0.408854</td>\n",
       "      <td>-0.373247</td>\n",
       "      <td>-0.509691</td>\n",
       "      <td>-0.120225</td>\n",
       "      <td>-0.518006</td>\n",
       "      <td>-0.491157</td>\n",
       "      <td>-0.531821</td>\n",
       "      <td>-0.439341</td>\n",
       "      <td>-0.498350</td>\n",
       "      <td>-0.483212</td>\n",
       "      <td>-0.496950</td>\n",
       "      <td>-0.498993</td>\n",
       "      <td>-0.497200</td>\n",
       "      <td>0.880561</td>\n",
       "      <td>-0.239500</td>\n",
       "      <td>1.124024</td>\n",
       "      <td>1.167183</td>\n",
       "      <td>1.215934</td>\n",
       "      <td>-0.032876</td>\n",
       "      <td>1.688011</td>\n",
       "      <td>1.381561</td>\n",
       "      <td>1.101472</td>\n",
       "      <td>1.264832</td>\n",
       "      <td>0.827478</td>\n",
       "      <td>-0.265747</td>\n",
       "      <td>-0.258497</td>\n",
       "      <td>-0.263043</td>\n",
       "      <td>-0.254935</td>\n",
       "      <td>-0.247625</td>\n",
       "      <td>-0.199569</td>\n",
       "      <td>-0.242714</td>\n",
       "      <td>-0.264147</td>\n",
       "      <td>-0.265482</td>\n",
       "      <td>-0.222551</td>\n",
       "      <td>1.133946</td>\n",
       "      <td>1.380284</td>\n",
       "      <td>1.275579</td>\n",
       "      <td>-0.962669</td>\n",
       "      <td>1.733766</td>\n",
       "      <td>1.590115</td>\n",
       "      <td>1.395145</td>\n",
       "      <td>1.269699</td>\n",
       "      <td>0.820508</td>\n",
       "      <td>0.172326</td>\n",
       "      <td>1.199628</td>\n",
       "      <td>-0.930418</td>\n",
       "      <td>1.820900</td>\n",
       "      <td>1.736838</td>\n",
       "      <td>0.971133</td>\n",
       "      <td>0.415893</td>\n",
       "      <td>0.885616</td>\n",
       "      <td>1.234978</td>\n",
       "      <td>-0.479685</td>\n",
       "      <td>1.911824</td>\n",
       "      <td>1.697189</td>\n",
       "      <td>1.232114</td>\n",
       "      <td>1.257717</td>\n",
       "      <td>0.878769</td>\n",
       "      <td>-0.742174</td>\n",
       "      <td>0.761858</td>\n",
       "      <td>-0.307785</td>\n",
       "      <td>-0.906257</td>\n",
       "      <td>-0.832292</td>\n",
       "      <td>-0.471386</td>\n",
       "      <td>1.702648</td>\n",
       "      <td>1.698551</td>\n",
       "      <td>1.687769</td>\n",
       "      <td>2.138599</td>\n",
       "      <td>1.371576</td>\n",
       "      <td>1.581279</td>\n",
       "      <td>1.545776</td>\n",
       "      <td>1.869510</td>\n",
       "      <td>1.123981</td>\n",
       "      <td>0.797579</td>\n",
       "      <td>0.723507</td>\n",
       "      <td>0.731349</td>\n",
       "      <td>0.419159</td>\n",
       "      <td>0.943731</td>\n",
       "      <td>0.359537</td>\n",
       "    </tr>\n",
       "    <tr>\n",
       "      <th>4</th>\n",
       "      <td>0.899863</td>\n",
       "      <td>-0.498828</td>\n",
       "      <td>1.000608</td>\n",
       "      <td>-0.265747</td>\n",
       "      <td>1.058730</td>\n",
       "      <td>0.677737</td>\n",
       "      <td>0.783052</td>\n",
       "      <td>-0.937990</td>\n",
       "      <td>1.683670</td>\n",
       "      <td>1.535846</td>\n",
       "      <td>0.781284</td>\n",
       "      <td>-3.786994</td>\n",
       "      <td>1.841132</td>\n",
       "      <td>0.074894</td>\n",
       "      <td>-0.400209</td>\n",
       "      <td>0.905392</td>\n",
       "      <td>-0.154239</td>\n",
       "      <td>0.897594</td>\n",
       "      <td>1.054684</td>\n",
       "      <td>0.858189</td>\n",
       "      <td>1.003464</td>\n",
       "      <td>0.920236</td>\n",
       "      <td>0.912014</td>\n",
       "      <td>0.904226</td>\n",
       "      <td>-0.267257</td>\n",
       "      <td>1.081218</td>\n",
       "      <td>-0.373247</td>\n",
       "      <td>-0.509691</td>\n",
       "      <td>-0.120225</td>\n",
       "      <td>-0.518006</td>\n",
       "      <td>-0.491157</td>\n",
       "      <td>-0.531821</td>\n",
       "      <td>-0.439341</td>\n",
       "      <td>-0.498350</td>\n",
       "      <td>-0.483212</td>\n",
       "      <td>-0.496950</td>\n",
       "      <td>-0.498993</td>\n",
       "      <td>-0.497200</td>\n",
       "      <td>0.880561</td>\n",
       "      <td>-0.239500</td>\n",
       "      <td>1.074611</td>\n",
       "      <td>1.301058</td>\n",
       "      <td>1.020508</td>\n",
       "      <td>0.087145</td>\n",
       "      <td>1.688011</td>\n",
       "      <td>1.381561</td>\n",
       "      <td>1.101472</td>\n",
       "      <td>-1.281501</td>\n",
       "      <td>1.757008</td>\n",
       "      <td>-0.265747</td>\n",
       "      <td>-0.258497</td>\n",
       "      <td>-0.263043</td>\n",
       "      <td>-0.254935</td>\n",
       "      <td>-0.247625</td>\n",
       "      <td>-0.199569</td>\n",
       "      <td>-0.242714</td>\n",
       "      <td>-0.264147</td>\n",
       "      <td>-0.265482</td>\n",
       "      <td>-0.222551</td>\n",
       "      <td>0.995631</td>\n",
       "      <td>1.547275</td>\n",
       "      <td>0.962977</td>\n",
       "      <td>-0.909800</td>\n",
       "      <td>1.679654</td>\n",
       "      <td>1.523821</td>\n",
       "      <td>1.287662</td>\n",
       "      <td>-3.025036</td>\n",
       "      <td>1.876969</td>\n",
       "      <td>0.632243</td>\n",
       "      <td>1.065396</td>\n",
       "      <td>-0.846391</td>\n",
       "      <td>1.961104</td>\n",
       "      <td>1.937084</td>\n",
       "      <td>1.390260</td>\n",
       "      <td>-3.359062</td>\n",
       "      <td>2.525212</td>\n",
       "      <td>0.793483</td>\n",
       "      <td>-0.536534</td>\n",
       "      <td>1.684627</td>\n",
       "      <td>1.443432</td>\n",
       "      <td>0.951752</td>\n",
       "      <td>-1.886925</td>\n",
       "      <td>1.690172</td>\n",
       "      <td>-0.726457</td>\n",
       "      <td>0.880762</td>\n",
       "      <td>-0.203893</td>\n",
       "      <td>-0.856148</td>\n",
       "      <td>-1.559380</td>\n",
       "      <td>0.337292</td>\n",
       "      <td>1.702648</td>\n",
       "      <td>1.698551</td>\n",
       "      <td>1.687769</td>\n",
       "      <td>-0.847164</td>\n",
       "      <td>2.454273</td>\n",
       "      <td>1.581279</td>\n",
       "      <td>1.545776</td>\n",
       "      <td>-1.883294</td>\n",
       "      <td>2.267181</td>\n",
       "      <td>0.797579</td>\n",
       "      <td>-3.395267</td>\n",
       "      <td>1.919347</td>\n",
       "      <td>-3.363402</td>\n",
       "      <td>-1.419586</td>\n",
       "      <td>1.952989</td>\n",
       "    </tr>\n",
       "    <tr>\n",
       "      <th>...</th>\n",
       "      <td>...</td>\n",
       "      <td>...</td>\n",
       "      <td>...</td>\n",
       "      <td>...</td>\n",
       "      <td>...</td>\n",
       "      <td>...</td>\n",
       "      <td>...</td>\n",
       "      <td>...</td>\n",
       "      <td>...</td>\n",
       "      <td>...</td>\n",
       "      <td>...</td>\n",
       "      <td>...</td>\n",
       "      <td>...</td>\n",
       "      <td>...</td>\n",
       "      <td>...</td>\n",
       "      <td>...</td>\n",
       "      <td>...</td>\n",
       "      <td>...</td>\n",
       "      <td>...</td>\n",
       "      <td>...</td>\n",
       "      <td>...</td>\n",
       "      <td>...</td>\n",
       "      <td>...</td>\n",
       "      <td>...</td>\n",
       "      <td>...</td>\n",
       "      <td>...</td>\n",
       "      <td>...</td>\n",
       "      <td>...</td>\n",
       "      <td>...</td>\n",
       "      <td>...</td>\n",
       "      <td>...</td>\n",
       "      <td>...</td>\n",
       "      <td>...</td>\n",
       "      <td>...</td>\n",
       "      <td>...</td>\n",
       "      <td>...</td>\n",
       "      <td>...</td>\n",
       "      <td>...</td>\n",
       "      <td>...</td>\n",
       "      <td>...</td>\n",
       "      <td>...</td>\n",
       "      <td>...</td>\n",
       "      <td>...</td>\n",
       "      <td>...</td>\n",
       "      <td>...</td>\n",
       "      <td>...</td>\n",
       "      <td>...</td>\n",
       "      <td>...</td>\n",
       "      <td>...</td>\n",
       "      <td>...</td>\n",
       "      <td>...</td>\n",
       "      <td>...</td>\n",
       "      <td>...</td>\n",
       "      <td>...</td>\n",
       "      <td>...</td>\n",
       "      <td>...</td>\n",
       "      <td>...</td>\n",
       "      <td>...</td>\n",
       "      <td>...</td>\n",
       "      <td>...</td>\n",
       "      <td>...</td>\n",
       "      <td>...</td>\n",
       "      <td>...</td>\n",
       "      <td>...</td>\n",
       "      <td>...</td>\n",
       "      <td>...</td>\n",
       "      <td>...</td>\n",
       "      <td>...</td>\n",
       "      <td>...</td>\n",
       "      <td>...</td>\n",
       "      <td>...</td>\n",
       "      <td>...</td>\n",
       "      <td>...</td>\n",
       "      <td>...</td>\n",
       "      <td>...</td>\n",
       "      <td>...</td>\n",
       "      <td>...</td>\n",
       "      <td>...</td>\n",
       "      <td>...</td>\n",
       "      <td>...</td>\n",
       "      <td>...</td>\n",
       "      <td>...</td>\n",
       "      <td>...</td>\n",
       "      <td>...</td>\n",
       "      <td>...</td>\n",
       "      <td>...</td>\n",
       "      <td>...</td>\n",
       "      <td>...</td>\n",
       "      <td>...</td>\n",
       "      <td>...</td>\n",
       "      <td>...</td>\n",
       "      <td>...</td>\n",
       "      <td>...</td>\n",
       "      <td>...</td>\n",
       "      <td>...</td>\n",
       "      <td>...</td>\n",
       "      <td>...</td>\n",
       "      <td>...</td>\n",
       "      <td>...</td>\n",
       "      <td>...</td>\n",
       "      <td>...</td>\n",
       "      <td>...</td>\n",
       "      <td>...</td>\n",
       "      <td>...</td>\n",
       "    </tr>\n",
       "    <tr>\n",
       "      <th>374</th>\n",
       "      <td>-0.379374</td>\n",
       "      <td>-0.498828</td>\n",
       "      <td>-0.528150</td>\n",
       "      <td>-0.265747</td>\n",
       "      <td>-0.544367</td>\n",
       "      <td>-0.873219</td>\n",
       "      <td>0.197477</td>\n",
       "      <td>0.448899</td>\n",
       "      <td>-0.509151</td>\n",
       "      <td>-0.679318</td>\n",
       "      <td>0.507196</td>\n",
       "      <td>0.362955</td>\n",
       "      <td>-0.112088</td>\n",
       "      <td>-0.158039</td>\n",
       "      <td>-0.400209</td>\n",
       "      <td>-0.389795</td>\n",
       "      <td>-0.154239</td>\n",
       "      <td>-0.385613</td>\n",
       "      <td>-0.375489</td>\n",
       "      <td>-0.375213</td>\n",
       "      <td>-0.397495</td>\n",
       "      <td>-0.375349</td>\n",
       "      <td>-0.380703</td>\n",
       "      <td>-0.374511</td>\n",
       "      <td>-0.310280</td>\n",
       "      <td>-0.344671</td>\n",
       "      <td>-0.373247</td>\n",
       "      <td>-0.509691</td>\n",
       "      <td>-0.120225</td>\n",
       "      <td>-0.518006</td>\n",
       "      <td>-0.491157</td>\n",
       "      <td>-0.531821</td>\n",
       "      <td>-0.439341</td>\n",
       "      <td>-0.498350</td>\n",
       "      <td>-0.483212</td>\n",
       "      <td>-0.496950</td>\n",
       "      <td>-0.498993</td>\n",
       "      <td>-0.497200</td>\n",
       "      <td>-0.665261</td>\n",
       "      <td>-0.239500</td>\n",
       "      <td>-0.612436</td>\n",
       "      <td>-0.616519</td>\n",
       "      <td>-0.457530</td>\n",
       "      <td>0.222083</td>\n",
       "      <td>-0.587074</td>\n",
       "      <td>-0.664168</td>\n",
       "      <td>-0.469962</td>\n",
       "      <td>-0.333476</td>\n",
       "      <td>-0.494790</td>\n",
       "      <td>-0.265747</td>\n",
       "      <td>-0.258497</td>\n",
       "      <td>-0.263043</td>\n",
       "      <td>-0.254935</td>\n",
       "      <td>-0.247625</td>\n",
       "      <td>-0.199569</td>\n",
       "      <td>-0.242714</td>\n",
       "      <td>-0.264147</td>\n",
       "      <td>-0.265482</td>\n",
       "      <td>-0.222551</td>\n",
       "      <td>-0.574109</td>\n",
       "      <td>-0.933089</td>\n",
       "      <td>-0.184801</td>\n",
       "      <td>0.550762</td>\n",
       "      <td>-0.547792</td>\n",
       "      <td>-0.685438</td>\n",
       "      <td>-0.252750</td>\n",
       "      <td>-0.047402</td>\n",
       "      <td>-0.316224</td>\n",
       "      <td>-0.864585</td>\n",
       "      <td>-0.028244</td>\n",
       "      <td>0.200188</td>\n",
       "      <td>-0.560243</td>\n",
       "      <td>-0.845907</td>\n",
       "      <td>-0.285632</td>\n",
       "      <td>-0.064119</td>\n",
       "      <td>-0.233582</td>\n",
       "      <td>0.000564</td>\n",
       "      <td>1.458225</td>\n",
       "      <td>-0.454450</td>\n",
       "      <td>-0.421106</td>\n",
       "      <td>0.296163</td>\n",
       "      <td>0.430984</td>\n",
       "      <td>-0.143382</td>\n",
       "      <td>0.170566</td>\n",
       "      <td>-0.178900</td>\n",
       "      <td>0.034206</td>\n",
       "      <td>0.618990</td>\n",
       "      <td>0.502913</td>\n",
       "      <td>0.732807</td>\n",
       "      <td>-0.572528</td>\n",
       "      <td>-0.578814</td>\n",
       "      <td>-0.471285</td>\n",
       "      <td>-0.364204</td>\n",
       "      <td>-0.460913</td>\n",
       "      <td>-0.687921</td>\n",
       "      <td>-0.530012</td>\n",
       "      <td>-0.394168</td>\n",
       "      <td>-0.466329</td>\n",
       "      <td>0.487272</td>\n",
       "      <td>0.584873</td>\n",
       "      <td>-0.053622</td>\n",
       "      <td>0.402723</td>\n",
       "      <td>0.130091</td>\n",
       "      <td>-0.305492</td>\n",
       "    </tr>\n",
       "    <tr>\n",
       "      <th>375</th>\n",
       "      <td>-0.403294</td>\n",
       "      <td>1.393623</td>\n",
       "      <td>-1.090026</td>\n",
       "      <td>-0.265747</td>\n",
       "      <td>-1.027020</td>\n",
       "      <td>1.249598</td>\n",
       "      <td>-1.506015</td>\n",
       "      <td>1.289512</td>\n",
       "      <td>-0.509151</td>\n",
       "      <td>-0.030550</td>\n",
       "      <td>-1.502784</td>\n",
       "      <td>0.355768</td>\n",
       "      <td>-1.345189</td>\n",
       "      <td>-0.158184</td>\n",
       "      <td>1.171084</td>\n",
       "      <td>-0.401794</td>\n",
       "      <td>-0.154239</td>\n",
       "      <td>-0.403770</td>\n",
       "      <td>-0.395366</td>\n",
       "      <td>-0.399322</td>\n",
       "      <td>-0.456897</td>\n",
       "      <td>-0.380291</td>\n",
       "      <td>-0.389220</td>\n",
       "      <td>-0.399979</td>\n",
       "      <td>-0.337367</td>\n",
       "      <td>-0.360602</td>\n",
       "      <td>0.697144</td>\n",
       "      <td>1.312425</td>\n",
       "      <td>-0.120225</td>\n",
       "      <td>1.460476</td>\n",
       "      <td>1.485390</td>\n",
       "      <td>0.954062</td>\n",
       "      <td>1.208796</td>\n",
       "      <td>1.890252</td>\n",
       "      <td>2.024217</td>\n",
       "      <td>1.208320</td>\n",
       "      <td>1.401727</td>\n",
       "      <td>0.352779</td>\n",
       "      <td>-0.906522</td>\n",
       "      <td>-0.239500</td>\n",
       "      <td>-1.028771</td>\n",
       "      <td>-1.031116</td>\n",
       "      <td>-1.075473</td>\n",
       "      <td>-0.665205</td>\n",
       "      <td>-0.699826</td>\n",
       "      <td>-0.818359</td>\n",
       "      <td>-1.126777</td>\n",
       "      <td>-0.919603</td>\n",
       "      <td>-0.949515</td>\n",
       "      <td>-0.265747</td>\n",
       "      <td>-0.258497</td>\n",
       "      <td>-0.263043</td>\n",
       "      <td>-0.254935</td>\n",
       "      <td>-0.247625</td>\n",
       "      <td>-0.199569</td>\n",
       "      <td>-0.242714</td>\n",
       "      <td>-0.264147</td>\n",
       "      <td>-0.265482</td>\n",
       "      <td>-0.222551</td>\n",
       "      <td>-0.949132</td>\n",
       "      <td>-0.486106</td>\n",
       "      <td>-1.337784</td>\n",
       "      <td>1.225057</td>\n",
       "      <td>-0.592885</td>\n",
       "      <td>-0.454824</td>\n",
       "      <td>-1.400705</td>\n",
       "      <td>-0.418108</td>\n",
       "      <td>-1.164353</td>\n",
       "      <td>1.249102</td>\n",
       "      <td>-1.370742</td>\n",
       "      <td>1.601815</td>\n",
       "      <td>-0.422180</td>\n",
       "      <td>0.332259</td>\n",
       "      <td>-0.470516</td>\n",
       "      <td>0.836683</td>\n",
       "      <td>-1.420268</td>\n",
       "      <td>-1.404956</td>\n",
       "      <td>-0.480549</td>\n",
       "      <td>-0.738446</td>\n",
       "      <td>-0.938179</td>\n",
       "      <td>-1.536809</td>\n",
       "      <td>-1.176106</td>\n",
       "      <td>-1.137616</td>\n",
       "      <td>1.101659</td>\n",
       "      <td>0.285555</td>\n",
       "      <td>2.069802</td>\n",
       "      <td>0.776592</td>\n",
       "      <td>1.283107</td>\n",
       "      <td>-0.980712</td>\n",
       "      <td>-0.572528</td>\n",
       "      <td>-0.491939</td>\n",
       "      <td>-0.594086</td>\n",
       "      <td>-0.365279</td>\n",
       "      <td>-0.691678</td>\n",
       "      <td>-0.210222</td>\n",
       "      <td>-0.417472</td>\n",
       "      <td>0.262412</td>\n",
       "      <td>-0.907262</td>\n",
       "      <td>-1.502433</td>\n",
       "      <td>-0.367827</td>\n",
       "      <td>-1.318584</td>\n",
       "      <td>0.390370</td>\n",
       "      <td>-1.202848</td>\n",
       "      <td>-0.860546</td>\n",
       "    </tr>\n",
       "    <tr>\n",
       "      <th>376</th>\n",
       "      <td>-0.395493</td>\n",
       "      <td>-0.498828</td>\n",
       "      <td>-0.153091</td>\n",
       "      <td>-0.265747</td>\n",
       "      <td>-0.078952</td>\n",
       "      <td>-0.421218</td>\n",
       "      <td>0.492039</td>\n",
       "      <td>-0.494478</td>\n",
       "      <td>-0.393739</td>\n",
       "      <td>0.168172</td>\n",
       "      <td>-0.315069</td>\n",
       "      <td>0.400911</td>\n",
       "      <td>-0.312276</td>\n",
       "      <td>-0.158154</td>\n",
       "      <td>-0.400209</td>\n",
       "      <td>-0.393694</td>\n",
       "      <td>-0.154239</td>\n",
       "      <td>-0.395817</td>\n",
       "      <td>-0.389651</td>\n",
       "      <td>-0.386263</td>\n",
       "      <td>-0.468076</td>\n",
       "      <td>-0.377923</td>\n",
       "      <td>-0.383650</td>\n",
       "      <td>-0.391762</td>\n",
       "      <td>-0.328341</td>\n",
       "      <td>-0.353855</td>\n",
       "      <td>-0.373247</td>\n",
       "      <td>-0.509691</td>\n",
       "      <td>-0.120225</td>\n",
       "      <td>-0.518006</td>\n",
       "      <td>-0.491157</td>\n",
       "      <td>-0.531821</td>\n",
       "      <td>-0.439341</td>\n",
       "      <td>-0.498350</td>\n",
       "      <td>-0.483212</td>\n",
       "      <td>-0.496950</td>\n",
       "      <td>-0.498993</td>\n",
       "      <td>-0.497200</td>\n",
       "      <td>-0.406427</td>\n",
       "      <td>-0.239500</td>\n",
       "      <td>-0.254197</td>\n",
       "      <td>-0.184978</td>\n",
       "      <td>-0.081670</td>\n",
       "      <td>-0.296824</td>\n",
       "      <td>-0.454518</td>\n",
       "      <td>-0.209944</td>\n",
       "      <td>-0.231515</td>\n",
       "      <td>0.070062</td>\n",
       "      <td>-0.397282</td>\n",
       "      <td>-0.265747</td>\n",
       "      <td>-0.258497</td>\n",
       "      <td>-0.263043</td>\n",
       "      <td>-0.254935</td>\n",
       "      <td>-0.247625</td>\n",
       "      <td>-0.199569</td>\n",
       "      <td>-0.242714</td>\n",
       "      <td>-0.264147</td>\n",
       "      <td>-0.265482</td>\n",
       "      <td>-0.222551</td>\n",
       "      <td>-0.169706</td>\n",
       "      <td>-0.269082</td>\n",
       "      <td>0.207479</td>\n",
       "      <td>-0.552187</td>\n",
       "      <td>-0.416216</td>\n",
       "      <td>-0.011312</td>\n",
       "      <td>-0.224701</td>\n",
       "      <td>0.336454</td>\n",
       "      <td>-0.344981</td>\n",
       "      <td>-0.454937</td>\n",
       "      <td>0.389529</td>\n",
       "      <td>-0.545328</td>\n",
       "      <td>-0.417747</td>\n",
       "      <td>0.084983</td>\n",
       "      <td>-0.599399</td>\n",
       "      <td>0.161371</td>\n",
       "      <td>-0.361315</td>\n",
       "      <td>0.379616</td>\n",
       "      <td>0.126977</td>\n",
       "      <td>-0.307601</td>\n",
       "      <td>0.262776</td>\n",
       "      <td>0.320451</td>\n",
       "      <td>0.732505</td>\n",
       "      <td>-0.170212</td>\n",
       "      <td>-0.526161</td>\n",
       "      <td>-0.555023</td>\n",
       "      <td>-0.245320</td>\n",
       "      <td>-0.534836</td>\n",
       "      <td>-0.367374</td>\n",
       "      <td>-0.529347</td>\n",
       "      <td>-0.527107</td>\n",
       "      <td>-0.397708</td>\n",
       "      <td>-0.422165</td>\n",
       "      <td>-0.226027</td>\n",
       "      <td>-0.444782</td>\n",
       "      <td>-0.032927</td>\n",
       "      <td>0.017415</td>\n",
       "      <td>0.490801</td>\n",
       "      <td>-0.252463</td>\n",
       "      <td>-0.387512</td>\n",
       "      <td>0.230441</td>\n",
       "      <td>-0.370840</td>\n",
       "      <td>0.468294</td>\n",
       "      <td>-0.072821</td>\n",
       "      <td>-0.441428</td>\n",
       "    </tr>\n",
       "    <tr>\n",
       "      <th>377</th>\n",
       "      <td>-0.386000</td>\n",
       "      <td>-0.498828</td>\n",
       "      <td>-0.595176</td>\n",
       "      <td>-0.265747</td>\n",
       "      <td>-0.932213</td>\n",
       "      <td>-0.408221</td>\n",
       "      <td>0.594958</td>\n",
       "      <td>0.911721</td>\n",
       "      <td>-0.739974</td>\n",
       "      <td>-0.994936</td>\n",
       "      <td>-0.269387</td>\n",
       "      <td>0.381034</td>\n",
       "      <td>0.869388</td>\n",
       "      <td>-0.158094</td>\n",
       "      <td>-0.400209</td>\n",
       "      <td>-0.393207</td>\n",
       "      <td>-0.154239</td>\n",
       "      <td>-0.392239</td>\n",
       "      <td>-0.380228</td>\n",
       "      <td>-0.377126</td>\n",
       "      <td>-0.400241</td>\n",
       "      <td>-0.379015</td>\n",
       "      <td>-0.385789</td>\n",
       "      <td>-0.383269</td>\n",
       "      <td>-0.317648</td>\n",
       "      <td>-0.339625</td>\n",
       "      <td>-0.373247</td>\n",
       "      <td>-0.509691</td>\n",
       "      <td>-0.120225</td>\n",
       "      <td>-0.518006</td>\n",
       "      <td>-0.491157</td>\n",
       "      <td>-0.531821</td>\n",
       "      <td>-0.439341</td>\n",
       "      <td>-0.498350</td>\n",
       "      <td>-0.483212</td>\n",
       "      <td>-0.496950</td>\n",
       "      <td>-0.498993</td>\n",
       "      <td>-0.497200</td>\n",
       "      <td>-0.703270</td>\n",
       "      <td>-0.239500</td>\n",
       "      <td>-0.718254</td>\n",
       "      <td>-0.627405</td>\n",
       "      <td>-0.400210</td>\n",
       "      <td>0.538226</td>\n",
       "      <td>-0.679623</td>\n",
       "      <td>-0.768761</td>\n",
       "      <td>-0.619012</td>\n",
       "      <td>-0.399070</td>\n",
       "      <td>-0.238507</td>\n",
       "      <td>-0.265747</td>\n",
       "      <td>-0.258497</td>\n",
       "      <td>-0.263043</td>\n",
       "      <td>-0.254935</td>\n",
       "      <td>-0.247625</td>\n",
       "      <td>-0.199569</td>\n",
       "      <td>-0.242714</td>\n",
       "      <td>-0.264147</td>\n",
       "      <td>-0.265482</td>\n",
       "      <td>-0.222551</td>\n",
       "      <td>-0.879032</td>\n",
       "      <td>-1.089041</td>\n",
       "      <td>-0.108012</td>\n",
       "      <td>0.846802</td>\n",
       "      <td>-0.728326</td>\n",
       "      <td>-0.949271</td>\n",
       "      <td>-0.877429</td>\n",
       "      <td>-0.329481</td>\n",
       "      <td>0.176641</td>\n",
       "      <td>-0.442835</td>\n",
       "      <td>0.493532</td>\n",
       "      <td>0.727414</td>\n",
       "      <td>-0.756537</td>\n",
       "      <td>-1.071366</td>\n",
       "      <td>-0.548481</td>\n",
       "      <td>0.150122</td>\n",
       "      <td>0.951596</td>\n",
       "      <td>0.521510</td>\n",
       "      <td>2.916570</td>\n",
       "      <td>-0.590531</td>\n",
       "      <td>-0.487908</td>\n",
       "      <td>0.424841</td>\n",
       "      <td>0.817409</td>\n",
       "      <td>0.773885</td>\n",
       "      <td>0.647030</td>\n",
       "      <td>-0.524187</td>\n",
       "      <td>-0.014564</td>\n",
       "      <td>0.865114</td>\n",
       "      <td>0.945527</td>\n",
       "      <td>3.130563</td>\n",
       "      <td>-0.638595</td>\n",
       "      <td>-0.694020</td>\n",
       "      <td>-0.718560</td>\n",
       "      <td>-0.625313</td>\n",
       "      <td>-0.472880</td>\n",
       "      <td>-0.864337</td>\n",
       "      <td>-0.915709</td>\n",
       "      <td>-0.709763</td>\n",
       "      <td>-0.266164</td>\n",
       "      <td>-0.341122</td>\n",
       "      <td>0.234717</td>\n",
       "      <td>0.668236</td>\n",
       "      <td>0.433886</td>\n",
       "      <td>1.202094</td>\n",
       "      <td>0.618005</td>\n",
       "    </tr>\n",
       "    <tr>\n",
       "      <th>378</th>\n",
       "      <td>-0.396928</td>\n",
       "      <td>-0.498828</td>\n",
       "      <td>-1.003035</td>\n",
       "      <td>-0.265747</td>\n",
       "      <td>-0.397848</td>\n",
       "      <td>-1.069616</td>\n",
       "      <td>0.701426</td>\n",
       "      <td>-0.566795</td>\n",
       "      <td>-0.509151</td>\n",
       "      <td>-0.626716</td>\n",
       "      <td>-0.863245</td>\n",
       "      <td>0.427749</td>\n",
       "      <td>0.298018</td>\n",
       "      <td>-0.158160</td>\n",
       "      <td>-0.400209</td>\n",
       "      <td>-0.400021</td>\n",
       "      <td>-0.154239</td>\n",
       "      <td>-0.397884</td>\n",
       "      <td>-0.392313</td>\n",
       "      <td>-0.386464</td>\n",
       "      <td>-0.472162</td>\n",
       "      <td>-0.378976</td>\n",
       "      <td>-0.388006</td>\n",
       "      <td>-0.394027</td>\n",
       "      <td>-0.329863</td>\n",
       "      <td>-0.351330</td>\n",
       "      <td>-0.373247</td>\n",
       "      <td>-0.509691</td>\n",
       "      <td>-0.120225</td>\n",
       "      <td>-0.518006</td>\n",
       "      <td>-0.491157</td>\n",
       "      <td>-0.531821</td>\n",
       "      <td>-0.439341</td>\n",
       "      <td>-0.498350</td>\n",
       "      <td>-0.483212</td>\n",
       "      <td>-0.496950</td>\n",
       "      <td>-0.498993</td>\n",
       "      <td>-0.497200</td>\n",
       "      <td>-0.880666</td>\n",
       "      <td>-0.239500</td>\n",
       "      <td>-0.919138</td>\n",
       "      <td>-1.081671</td>\n",
       "      <td>-0.713837</td>\n",
       "      <td>-1.497712</td>\n",
       "      <td>-0.682370</td>\n",
       "      <td>-0.853425</td>\n",
       "      <td>-1.020518</td>\n",
       "      <td>-0.819275</td>\n",
       "      <td>-0.655589</td>\n",
       "      <td>-0.265747</td>\n",
       "      <td>-0.258497</td>\n",
       "      <td>-0.263043</td>\n",
       "      <td>-0.254935</td>\n",
       "      <td>-0.247625</td>\n",
       "      <td>-0.199569</td>\n",
       "      <td>-0.242714</td>\n",
       "      <td>-0.264147</td>\n",
       "      <td>-0.265482</td>\n",
       "      <td>-0.222551</td>\n",
       "      <td>-0.451326</td>\n",
       "      <td>-0.894759</td>\n",
       "      <td>0.205314</td>\n",
       "      <td>-0.791342</td>\n",
       "      <td>-0.534103</td>\n",
       "      <td>-0.618113</td>\n",
       "      <td>-0.707615</td>\n",
       "      <td>0.112891</td>\n",
       "      <td>0.002567</td>\n",
       "      <td>-1.035765</td>\n",
       "      <td>0.365496</td>\n",
       "      <td>-0.694105</td>\n",
       "      <td>-0.573016</td>\n",
       "      <td>-0.835160</td>\n",
       "      <td>-1.578704</td>\n",
       "      <td>-0.097353</td>\n",
       "      <td>0.145882</td>\n",
       "      <td>0.673449</td>\n",
       "      <td>0.157286</td>\n",
       "      <td>-0.370435</td>\n",
       "      <td>-0.189072</td>\n",
       "      <td>0.318404</td>\n",
       "      <td>0.949662</td>\n",
       "      <td>0.390398</td>\n",
       "      <td>-0.564374</td>\n",
       "      <td>-0.740092</td>\n",
       "      <td>-0.941197</td>\n",
       "      <td>-0.688446</td>\n",
       "      <td>-0.428404</td>\n",
       "      <td>-0.071594</td>\n",
       "      <td>-0.572528</td>\n",
       "      <td>-0.571770</td>\n",
       "      <td>-0.555013</td>\n",
       "      <td>-0.354514</td>\n",
       "      <td>-0.384164</td>\n",
       "      <td>-0.654956</td>\n",
       "      <td>-0.718711</td>\n",
       "      <td>-0.314636</td>\n",
       "      <td>-0.272531</td>\n",
       "      <td>-0.923922</td>\n",
       "      <td>-0.008319</td>\n",
       "      <td>0.039649</td>\n",
       "      <td>0.515000</td>\n",
       "      <td>0.605717</td>\n",
       "      <td>0.028458</td>\n",
       "    </tr>\n",
       "  </tbody>\n",
       "</table>\n",
       "<p>379 rows × 104 columns</p>\n",
       "</div>"
      ],
      "text/plain": [
       "          0         1         2         3         4    ...       99        100       101       102       103\n",
       "0   -0.390600  0.426370 -0.744914 -0.265747 -1.078733  ...  0.456192  0.777218  0.364188  1.125227  0.563744\n",
       "1   -0.401276  0.552534 -0.849018 -0.265747 -0.889119  ...  0.668975 -0.382412  0.515000 -0.227972 -0.531723\n",
       "2   -0.401105  1.183350 -0.666480  3.762978 -0.940832  ...  0.136048 -0.892209  0.366495 -0.728888 -0.739052\n",
       "3    0.643120 -0.498828  1.000608 -0.265747  1.179393  ...  0.723507  0.731349  0.419159  0.943731  0.359537\n",
       "4    0.899863 -0.498828  1.000608 -0.265747  1.058730  ... -3.395267  1.919347 -3.363402 -1.419586  1.952989\n",
       "..        ...       ...       ...       ...       ...  ...       ...       ...       ...       ...       ...\n",
       "374 -0.379374 -0.498828 -0.528150 -0.265747 -0.544367  ...  0.584873 -0.053622  0.402723  0.130091 -0.305492\n",
       "375 -0.403294  1.393623 -1.090026 -0.265747 -1.027020  ... -0.367827 -1.318584  0.390370 -1.202848 -0.860546\n",
       "376 -0.395493 -0.498828 -0.153091 -0.265747 -0.078952  ...  0.230441 -0.370840  0.468294 -0.072821 -0.441428\n",
       "377 -0.386000 -0.498828 -0.595176 -0.265747 -0.932213  ...  0.234717  0.668236  0.433886  1.202094  0.618005\n",
       "378 -0.396928 -0.498828 -1.003035 -0.265747 -0.397848  ... -0.008319  0.039649  0.515000  0.605717  0.028458\n",
       "\n",
       "[379 rows x 104 columns]"
      ]
     },
     "execution_count": 178,
     "metadata": {},
     "output_type": "execute_result"
    }
   ],
   "source": [
    "pd.DataFrame(result)"
   ]
  },
  {
   "cell_type": "code",
   "execution_count": 175,
   "metadata": {},
   "outputs": [
    {
     "data": {
      "text/plain": [
       "array([1., 1., 1., 1., 1., 1., 1., 1., 1., 1., 1., 1., 1., 1., 1., 1., 1.,\n",
       "       1., 1., 1., 1., 1., 1., 1., 1., 1., 1., 1., 1., 1., 1., 1., 1., 1.,\n",
       "       1., 1., 1., 1., 1., 1., 1., 1., 1., 1., 1., 1., 1., 1., 1., 1., 1.,\n",
       "       1., 1., 1., 1., 1., 1., 1., 1., 1., 1., 1., 1., 1., 1., 1., 1., 1.,\n",
       "       1., 1., 1., 1., 1., 1., 1., 1., 1., 1., 1., 1., 1., 1., 1., 1., 1.,\n",
       "       1., 1., 1., 1., 1., 1., 1., 1., 1., 1., 1., 1., 1., 1., 1., 1., 1.,\n",
       "       1., 1.])"
      ]
     },
     "execution_count": 175,
     "metadata": {},
     "output_type": "execute_result"
    }
   ],
   "source": [
    "result.std(axis=0)"
   ]
  },
  {
   "cell_type": "markdown",
   "metadata": {
    "slideshow": {
     "slide_type": "slide"
    }
   },
   "source": [
    "## 규제 (Regularization)\n",
    "- 선형 회귀 모델에서 과대적합(Overfitting) 문제를 해결하기 위해 가중치(회귀계수)에 페널티 값을 적용한다.\n",
    "- 입력데이터의 Feature들이 너무 많은 경우 Overfitting이 발생.\n",
    "    - Feature수에 비해 관측치 수가 적은 경우 모델이 복잡해 지면서 Overfitting이 발생한다.\n",
    "- 해결\n",
    "    - 데이터를 더 수집한다. \n",
    "    - Feature selection\n",
    "        - 불필요한 Features들을 제거한다.\n",
    "    - 규제 (Regularization) 을 통해 Feature들에 곱해지는 가중치가 커지지 않도록 제한한다.(0에 가까운 값으로 만들어 준다.)\n",
    "        - LinearRegression의 규제는 학습시 계산하는 오차를 키워서 모델이 오차를 줄이기 위해 가중치를 0에 가까운 값으로 만들도록 하는 방식을 사용한다.\n",
    "        - L1 규제 (Lasso)\n",
    "        - L2 규제 (Ridge)\n",
    "    "
   ]
  },
  {
   "cell_type": "markdown",
   "metadata": {
    "slideshow": {
     "slide_type": "slide"
    }
   },
   "source": [
    "## Ridge Regression (L2 규제)\n",
    "- 손실함수(loss function)에 규제항으로 $\\alpha \\sum_{i=1}^{n}{w_{i}^{2}}$ (L2 Norm)을 더해준다.\n",
    "- $\\alpha$는 하이퍼파라미터로 모델을 얼마나 많이 규제할지 조절한다. \n",
    "    - $\\alpha = 0$ 에 가까울수록 규제가 약해진다. (0일 경우 선형 회귀동일)\n",
    "    - $\\alpha$ 가 커질 수록 모든 가중치가 작아져 입력데이터의 Feature들 중 중요하지 않은 Feature의 예측에 대한 영향력이 작아지게 된다.\n",
    "\n",
    "$$\n",
    "\\text{손실함수}(w) = \\text{MSE}(w) + \\alpha \\cfrac{1}{2}\\sum_{i=1}^{n}{w_{i}^{2}}\n",
    "$$\n",
    "\n",
    "> **손실함수(Loss Function):** 모델의 예측한 값과 실제값 사이의 차이를 정의하는 함수로 모델이 학습할 때 사용된다."
   ]
  },
  {
   "cell_type": "code",
   "execution_count": 181,
   "metadata": {},
   "outputs": [],
   "source": [
    "from sklearn.linear_model import Ridge,Lasso\n"
   ]
  },
  {
   "cell_type": "code",
   "execution_count": null,
   "metadata": {},
   "outputs": [],
   "source": [
    "alpha = 1 # 규제항의 값을 조정하는 하이퍼 파라미터,  기본값: 1 - 클수록 강한 규제\n",
    "# overfitting : alpha를 줄인다, underfitting : alpha를 키운다\n",
    "ridge= Ridge(alpha=alpha,random_state=0)\n",
    "ridge.fit(X_train_scaled,y_train)\n",
    "print_metrics_regression(y_train,ridge.predict(X_train_scaled))\n",
    "print_metrics_regression(y_test,ridge.predict(X_test_scaled))"
   ]
  },
  {
   "cell_type": "code",
   "execution_count": 185,
   "metadata": {
    "scrolled": false
   },
   "outputs": [
    {
     "name": "stdout",
     "output_type": "stream",
     "text": [
      "-------------0.001--------------\n",
      "============train============\n",
      "MSE: 19.64051942942513\n",
      "RMSE: 4.4317625646490955\n",
      "R2: 0.7697699488563313\n",
      "============test============\n",
      "MSE: 29.78231701652623\n",
      "RMSE: 5.457317749272643\n",
      "R2: 0.6354629629641464\n",
      "-------------0.01--------------\n",
      "============train============\n",
      "MSE: 19.6405195795332\n",
      "RMSE: 4.431762581584578\n",
      "R2: 0.7697699470967347\n",
      "============test============\n",
      "MSE: 29.782964300126405\n",
      "RMSE: 5.457377053138844\n",
      "R2: 0.6354550401807848\n",
      "-------------0.1--------------\n",
      "============train============\n",
      "MSE: 19.64053450797884\n",
      "RMSE: 4.43176426584028\n",
      "R2: 0.769769772102544\n",
      "============test============\n",
      "MSE: 29.78943370556662\n",
      "RMSE: 5.457969742089692\n",
      "R2: 0.6353758543374117\n",
      "-------------1--------------\n",
      "============train============\n",
      "MSE: 19.641949353818955\n",
      "RMSE: 4.431923888540839\n",
      "R2: 0.76975318699993\n",
      "============test============\n",
      "MSE: 29.853763334547597\n",
      "RMSE: 5.46385974696895\n",
      "R2: 0.6345884564889055\n",
      "-------------10--------------\n",
      "============train============\n",
      "MSE: 19.733717120137516\n",
      "RMSE: 4.442264863798366\n",
      "R2: 0.7686774671031736\n",
      "============test============\n",
      "MSE: 30.45190337374191\n",
      "RMSE: 5.51832432661781\n",
      "R2: 0.6272671927504458\n",
      "-------------100--------------\n",
      "============train============\n",
      "MSE: 21.6232886760854\n",
      "RMSE: 4.650084803106864\n",
      "R2: 0.7465275358078873\n",
      "============test============\n",
      "MSE: 34.00022384210579\n",
      "RMSE: 5.830971089115928\n",
      "R2: 0.5838355742745133\n",
      "-------------500--------------\n",
      "============train============\n",
      "MSE: 30.01625891471492\n",
      "RMSE: 5.478709603064842\n",
      "R2: 0.648143479610677\n",
      "============test============\n",
      "MSE: 41.739849400036874\n",
      "RMSE: 6.4606384669037835\n",
      "R2: 0.48910217367678355\n",
      "-------------1000--------------\n",
      "============train============\n",
      "MSE: 37.6379127019148\n",
      "RMSE: 6.13497454778052\n",
      "R2: 0.5588009473252299\n",
      "============test============\n",
      "MSE: 47.38511812879604\n",
      "RMSE: 6.883684923701551\n",
      "R2: 0.42000380451661756\n"
     ]
    }
   ],
   "source": [
    "alpha_list=[0.001,0.01,0.1,1,10,100,500,1000]\n",
    "# alpha의 변화에 따른 weight의 변화를 저장할 Data Frame\n",
    "coef_df=pd.DataFrame()\n",
    "bias_list= []\n",
    "for alpha in alpha_list:\n",
    "    ridge= Ridge(alpha=alpha,random_state=0)\n",
    "    ridge.fit(X_train_scaled,y_train)\n",
    "    # 컬럼 추가\n",
    "    coef_df[f\"alpha:{alpha}\"] =ridge.coef_\n",
    "    bias_list.append(ridge.intercept_)\n",
    "    \n",
    "    print(f\"-------------{alpha}--------------\")\n",
    "    print_metrics_regression(y_train,ridge.predict(X_train_scaled),\"train\")\n",
    "    print_metrics_regression(y_test,ridge.predict(X_test_scaled),\"test\")"
   ]
  },
  {
   "cell_type": "code",
   "execution_count": 186,
   "metadata": {},
   "outputs": [
    {
     "data": {
      "text/plain": [
       "[22.608707124010557,\n",
       " 22.608707124010557,\n",
       " 22.608707124010557,\n",
       " 22.608707124010557,\n",
       " 22.608707124010557,\n",
       " 22.608707124010557,\n",
       " 22.608707124010557,\n",
       " 22.608707124010557]"
      ]
     },
     "execution_count": 186,
     "metadata": {},
     "output_type": "execute_result"
    }
   ],
   "source": [
    "bias_list"
   ]
  },
  {
   "cell_type": "code",
   "execution_count": 187,
   "metadata": {},
   "outputs": [
    {
     "data": {
      "text/html": [
       "<div>\n",
       "<style scoped>\n",
       "    .dataframe tbody tr th:only-of-type {\n",
       "        vertical-align: middle;\n",
       "    }\n",
       "\n",
       "    .dataframe tbody tr th {\n",
       "        vertical-align: top;\n",
       "    }\n",
       "\n",
       "    .dataframe thead th {\n",
       "        text-align: right;\n",
       "    }\n",
       "</style>\n",
       "<table border=\"1\" class=\"dataframe\">\n",
       "  <thead>\n",
       "    <tr style=\"text-align: right;\">\n",
       "      <th></th>\n",
       "      <th>alpha:0.001</th>\n",
       "      <th>alpha:0.01</th>\n",
       "      <th>alpha:0.1</th>\n",
       "      <th>alpha:1</th>\n",
       "      <th>alpha:10</th>\n",
       "      <th>alpha:100</th>\n",
       "      <th>alpha:500</th>\n",
       "      <th>alpha:1000</th>\n",
       "    </tr>\n",
       "  </thead>\n",
       "  <tbody>\n",
       "    <tr>\n",
       "      <th>0</th>\n",
       "      <td>-0.970992</td>\n",
       "      <td>-0.970907</td>\n",
       "      <td>-0.970063</td>\n",
       "      <td>-0.961875</td>\n",
       "      <td>-0.898519</td>\n",
       "      <td>-0.702647</td>\n",
       "      <td>-0.534735</td>\n",
       "      <td>-0.442678</td>\n",
       "    </tr>\n",
       "    <tr>\n",
       "      <th>1</th>\n",
       "      <td>1.046659</td>\n",
       "      <td>1.046484</td>\n",
       "      <td>1.044735</td>\n",
       "      <td>1.027755</td>\n",
       "      <td>0.895907</td>\n",
       "      <td>0.542402</td>\n",
       "      <td>0.432019</td>\n",
       "      <td>0.382202</td>\n",
       "    </tr>\n",
       "    <tr>\n",
       "      <th>2</th>\n",
       "      <td>-0.040477</td>\n",
       "      <td>-0.040742</td>\n",
       "      <td>-0.043379</td>\n",
       "      <td>-0.068611</td>\n",
       "      <td>-0.241628</td>\n",
       "      <td>-0.539236</td>\n",
       "      <td>-0.571494</td>\n",
       "      <td>-0.512882</td>\n",
       "    </tr>\n",
       "    <tr>\n",
       "      <th>3</th>\n",
       "      <td>0.594092</td>\n",
       "      <td>0.594130</td>\n",
       "      <td>0.594509</td>\n",
       "      <td>0.598141</td>\n",
       "      <td>0.623200</td>\n",
       "      <td>0.643067</td>\n",
       "      <td>0.469501</td>\n",
       "      <td>0.333552</td>\n",
       "    </tr>\n",
       "    <tr>\n",
       "      <th>4</th>\n",
       "      <td>-1.808732</td>\n",
       "      <td>-1.808405</td>\n",
       "      <td>-1.805134</td>\n",
       "      <td>-1.773184</td>\n",
       "      <td>-1.512895</td>\n",
       "      <td>-0.685798</td>\n",
       "      <td>-0.406040</td>\n",
       "      <td>-0.371299</td>\n",
       "    </tr>\n",
       "    <tr>\n",
       "      <th>5</th>\n",
       "      <td>2.609931</td>\n",
       "      <td>2.610030</td>\n",
       "      <td>2.611019</td>\n",
       "      <td>2.620567</td>\n",
       "      <td>2.689748</td>\n",
       "      <td>2.650139</td>\n",
       "      <td>1.776278</td>\n",
       "      <td>1.253866</td>\n",
       "    </tr>\n",
       "    <tr>\n",
       "      <th>6</th>\n",
       "      <td>-0.198240</td>\n",
       "      <td>-0.198300</td>\n",
       "      <td>-0.198901</td>\n",
       "      <td>-0.204668</td>\n",
       "      <td>-0.245227</td>\n",
       "      <td>-0.308313</td>\n",
       "      <td>-0.332627</td>\n",
       "      <td>-0.327295</td>\n",
       "    </tr>\n",
       "    <tr>\n",
       "      <th>7</th>\n",
       "      <td>-3.002128</td>\n",
       "      <td>-3.001789</td>\n",
       "      <td>-2.998407</td>\n",
       "      <td>-2.965049</td>\n",
       "      <td>-2.671723</td>\n",
       "      <td>-1.379397</td>\n",
       "      <td>-0.332010</td>\n",
       "      <td>-0.062878</td>\n",
       "    </tr>\n",
       "    <tr>\n",
       "      <th>8</th>\n",
       "      <td>2.080133</td>\n",
       "      <td>2.079392</td>\n",
       "      <td>2.072006</td>\n",
       "      <td>2.000910</td>\n",
       "      <td>1.486602</td>\n",
       "      <td>0.301828</td>\n",
       "      <td>-0.209340</td>\n",
       "      <td>-0.283024</td>\n",
       "    </tr>\n",
       "    <tr>\n",
       "      <th>9</th>\n",
       "      <td>-1.932813</td>\n",
       "      <td>-1.932113</td>\n",
       "      <td>-1.925143</td>\n",
       "      <td>-1.858407</td>\n",
       "      <td>-1.398256</td>\n",
       "      <td>-0.630364</td>\n",
       "      <td>-0.526917</td>\n",
       "      <td>-0.477386</td>\n",
       "    </tr>\n",
       "    <tr>\n",
       "      <th>10</th>\n",
       "      <td>-2.157430</td>\n",
       "      <td>-2.157357</td>\n",
       "      <td>-2.156634</td>\n",
       "      <td>-2.149559</td>\n",
       "      <td>-2.090199</td>\n",
       "      <td>-1.783409</td>\n",
       "      <td>-1.200892</td>\n",
       "      <td>-0.879779</td>\n",
       "    </tr>\n",
       "    <tr>\n",
       "      <th>11</th>\n",
       "      <td>0.751991</td>\n",
       "      <td>0.751989</td>\n",
       "      <td>0.751965</td>\n",
       "      <td>0.751760</td>\n",
       "      <td>0.750952</td>\n",
       "      <td>0.714219</td>\n",
       "      <td>0.534700</td>\n",
       "      <td>0.422577</td>\n",
       "    </tr>\n",
       "    <tr>\n",
       "      <th>12</th>\n",
       "      <td>-3.590253</td>\n",
       "      <td>-3.590101</td>\n",
       "      <td>-3.588575</td>\n",
       "      <td>-3.573501</td>\n",
       "      <td>-3.438105</td>\n",
       "      <td>-2.683581</td>\n",
       "      <td>-1.621575</td>\n",
       "      <td>-1.162839</td>\n",
       "    </tr>\n",
       "  </tbody>\n",
       "</table>\n",
       "</div>"
      ],
      "text/plain": [
       "    alpha:0.001  alpha:0.01  alpha:0.1   alpha:1  alpha:10  alpha:100  alpha:500  alpha:1000\n",
       "0     -0.970992   -0.970907  -0.970063 -0.961875 -0.898519  -0.702647  -0.534735   -0.442678\n",
       "1      1.046659    1.046484   1.044735  1.027755  0.895907   0.542402   0.432019    0.382202\n",
       "2     -0.040477   -0.040742  -0.043379 -0.068611 -0.241628  -0.539236  -0.571494   -0.512882\n",
       "3      0.594092    0.594130   0.594509  0.598141  0.623200   0.643067   0.469501    0.333552\n",
       "4     -1.808732   -1.808405  -1.805134 -1.773184 -1.512895  -0.685798  -0.406040   -0.371299\n",
       "5      2.609931    2.610030   2.611019  2.620567  2.689748   2.650139   1.776278    1.253866\n",
       "6     -0.198240   -0.198300  -0.198901 -0.204668 -0.245227  -0.308313  -0.332627   -0.327295\n",
       "7     -3.002128   -3.001789  -2.998407 -2.965049 -2.671723  -1.379397  -0.332010   -0.062878\n",
       "8      2.080133    2.079392   2.072006  2.000910  1.486602   0.301828  -0.209340   -0.283024\n",
       "9     -1.932813   -1.932113  -1.925143 -1.858407 -1.398256  -0.630364  -0.526917   -0.477386\n",
       "10    -2.157430   -2.157357  -2.156634 -2.149559 -2.090199  -1.783409  -1.200892   -0.879779\n",
       "11     0.751991    0.751989   0.751965  0.751760  0.750952   0.714219   0.534700    0.422577\n",
       "12    -3.590253   -3.590101  -3.588575 -3.573501 -3.438105  -2.683581  -1.621575   -1.162839"
      ]
     },
     "execution_count": 187,
     "metadata": {},
     "output_type": "execute_result"
    }
   ],
   "source": [
    "coef_df"
   ]
  },
  {
   "cell_type": "markdown",
   "metadata": {
    "slideshow": {
     "slide_type": "slide"
    }
   },
   "source": [
    "## Lasso(Least Absolut Shrinkage and Selection Operator) Regression (L1 규제)\n",
    "\n",
    "- 손실함수에 규제항으로 $\\alpha \\sum_{i=1}^{n}{\\left| w_i \\right|}$ (L1 Norm)더한다.\n",
    "- Lasso 회귀의 상대적으로 덜 중요한 특성의 가중치를 0으로 만들어 자동으로 Feature Selection이 된다.\n",
    "\n",
    "$$\n",
    "\\text{손실함수}(w) = \\text{MSE}(w) + \\alpha \\sum_{i=1}^{n}{\\left| w_i \\right|}\n",
    "$$"
   ]
  },
  {
   "cell_type": "code",
   "execution_count": 190,
   "metadata": {},
   "outputs": [
    {
     "name": "stdout",
     "output_type": "stream",
     "text": [
      "--------alpha 0.001---------------------------\n",
      "============train============\n",
      "MSE: 19.64056676571224\n",
      "RMSE: 4.431767905217086\n",
      "R2: 0.7697693939710166\n",
      "============test============\n",
      "MSE: 29.791255130183576\n",
      "RMSE: 5.45813659871055\n",
      "R2: 0.635353560009785\n",
      "--------alpha 0.01---------------------------\n",
      "============train============\n",
      "MSE: 19.645244078522445\n",
      "RMSE: 4.432295576619687\n",
      "R2: 0.769714565585679\n",
      "============test============\n",
      "MSE: 29.87683157624681\n",
      "RMSE: 5.465970323396095\n",
      "R2: 0.6343061000666703\n",
      "--------alpha 0.1---------------------------\n",
      "============train============\n",
      "MSE: 20.105612524082833\n",
      "RMSE: 4.483928246981973\n",
      "R2: 0.7643180356646064\n",
      "============test============\n",
      "MSE: 31.173724839373957\n",
      "RMSE: 5.583343517944598\n",
      "R2: 0.6184320622196556\n",
      "--------alpha 1---------------------------\n",
      "============train============\n",
      "MSE: 25.387938444332313\n",
      "RMSE: 5.038644504659196\n",
      "R2: 0.702397567056503\n",
      "============test============\n",
      "MSE: 35.489636168280335\n",
      "RMSE: 5.957317866983458\n",
      "R2: 0.5656050935497575\n",
      "--------alpha 5---------------------------\n",
      "============train============\n",
      "MSE: 60.02112606173854\n",
      "RMSE: 7.7473302538189595\n",
      "R2: 0.29642049577407137\n",
      "============test============\n",
      "MSE: 59.87237303347597\n",
      "RMSE: 7.737724021537339\n",
      "R2: 0.2671591853038978\n",
      "--------alpha 10---------------------------\n",
      "============train============\n",
      "MSE: 85.30823553163789\n",
      "RMSE: 9.236245748768159\n",
      "R2: 0.0\n",
      "============test============\n",
      "MSE: 81.7904659829155\n",
      "RMSE: 9.043808157126925\n",
      "R2: -0.001119359203955339\n"
     ]
    }
   ],
   "source": [
    "alpha_list2= [0.001,0.01,0.1,1,5,10]\n",
    "\n",
    "coef_df2=pd.DataFrame()\n",
    "bias_list2=[]\n",
    "for alpha in alpha_list2:\n",
    "    \n",
    "    lasso= Lasso(alpha=alpha,random_state=0)\n",
    "    lasso.fit(X_train_scaled,y_train)\n",
    "    coef_df2[f'alpa:{alpha}']=lasso.coef_\n",
    "    bias_list2.append(lasso.intercept_)\n",
    "    \n",
    "    print(f\"--------alpha {alpha}---------------------------\")\n",
    "    print_metrics_regression(y_train,lasso.predict(X_train_scaled), \"train\")\n",
    "    print_metrics_regression(y_test,lasso.predict(X_test_scaled),\"test\")"
   ]
  },
  {
   "cell_type": "code",
   "execution_count": 191,
   "metadata": {},
   "outputs": [
    {
     "data": {
      "text/html": [
       "<div>\n",
       "<style scoped>\n",
       "    .dataframe tbody tr th:only-of-type {\n",
       "        vertical-align: middle;\n",
       "    }\n",
       "\n",
       "    .dataframe tbody tr th {\n",
       "        vertical-align: top;\n",
       "    }\n",
       "\n",
       "    .dataframe thead th {\n",
       "        text-align: right;\n",
       "    }\n",
       "</style>\n",
       "<table border=\"1\" class=\"dataframe\">\n",
       "  <thead>\n",
       "    <tr style=\"text-align: right;\">\n",
       "      <th></th>\n",
       "      <th>alpa:0.001</th>\n",
       "      <th>alpa:0.01</th>\n",
       "      <th>alpa:0.1</th>\n",
       "      <th>alpa:1</th>\n",
       "      <th>alpa:5</th>\n",
       "      <th>alpa:10</th>\n",
       "    </tr>\n",
       "  </thead>\n",
       "  <tbody>\n",
       "    <tr>\n",
       "      <th>0</th>\n",
       "      <td>-0.967848</td>\n",
       "      <td>-0.939492</td>\n",
       "      <td>-0.659315</td>\n",
       "      <td>-0.000000</td>\n",
       "      <td>-0.000000</td>\n",
       "      <td>-0.0</td>\n",
       "    </tr>\n",
       "    <tr>\n",
       "      <th>1</th>\n",
       "      <td>1.043088</td>\n",
       "      <td>1.010377</td>\n",
       "      <td>0.684820</td>\n",
       "      <td>0.000000</td>\n",
       "      <td>0.000000</td>\n",
       "      <td>0.0</td>\n",
       "    </tr>\n",
       "    <tr>\n",
       "      <th>2</th>\n",
       "      <td>-0.042280</td>\n",
       "      <td>-0.057475</td>\n",
       "      <td>-0.207389</td>\n",
       "      <td>-0.000000</td>\n",
       "      <td>-0.000000</td>\n",
       "      <td>-0.0</td>\n",
       "    </tr>\n",
       "    <tr>\n",
       "      <th>3</th>\n",
       "      <td>0.593919</td>\n",
       "      <td>0.592324</td>\n",
       "      <td>0.575874</td>\n",
       "      <td>0.000000</td>\n",
       "      <td>0.000000</td>\n",
       "      <td>0.0</td>\n",
       "    </tr>\n",
       "    <tr>\n",
       "      <th>4</th>\n",
       "      <td>-1.804056</td>\n",
       "      <td>-1.761604</td>\n",
       "      <td>-1.345790</td>\n",
       "      <td>-0.000000</td>\n",
       "      <td>-0.000000</td>\n",
       "      <td>-0.0</td>\n",
       "    </tr>\n",
       "    <tr>\n",
       "      <th>5</th>\n",
       "      <td>2.611194</td>\n",
       "      <td>2.622904</td>\n",
       "      <td>2.738958</td>\n",
       "      <td>2.529330</td>\n",
       "      <td>0.374985</td>\n",
       "      <td>0.0</td>\n",
       "    </tr>\n",
       "    <tr>\n",
       "      <th>6</th>\n",
       "      <td>-0.196298</td>\n",
       "      <td>-0.179110</td>\n",
       "      <td>-0.007398</td>\n",
       "      <td>-0.000000</td>\n",
       "      <td>-0.000000</td>\n",
       "      <td>-0.0</td>\n",
       "    </tr>\n",
       "    <tr>\n",
       "      <th>7</th>\n",
       "      <td>-2.994364</td>\n",
       "      <td>-2.923287</td>\n",
       "      <td>-2.216914</td>\n",
       "      <td>-0.000000</td>\n",
       "      <td>0.000000</td>\n",
       "      <td>0.0</td>\n",
       "    </tr>\n",
       "    <tr>\n",
       "      <th>8</th>\n",
       "      <td>2.065494</td>\n",
       "      <td>1.933983</td>\n",
       "      <td>0.632402</td>\n",
       "      <td>-0.000000</td>\n",
       "      <td>-0.000000</td>\n",
       "      <td>-0.0</td>\n",
       "    </tr>\n",
       "    <tr>\n",
       "      <th>9</th>\n",
       "      <td>-1.920598</td>\n",
       "      <td>-1.811185</td>\n",
       "      <td>-0.724794</td>\n",
       "      <td>-0.227631</td>\n",
       "      <td>-0.000000</td>\n",
       "      <td>-0.0</td>\n",
       "    </tr>\n",
       "    <tr>\n",
       "      <th>10</th>\n",
       "      <td>-2.156365</td>\n",
       "      <td>-2.147052</td>\n",
       "      <td>-2.055994</td>\n",
       "      <td>-1.700884</td>\n",
       "      <td>-0.000000</td>\n",
       "      <td>-0.0</td>\n",
       "    </tr>\n",
       "    <tr>\n",
       "      <th>11</th>\n",
       "      <td>0.750737</td>\n",
       "      <td>0.739642</td>\n",
       "      <td>0.629083</td>\n",
       "      <td>0.131861</td>\n",
       "      <td>0.000000</td>\n",
       "      <td>0.0</td>\n",
       "    </tr>\n",
       "    <tr>\n",
       "      <th>12</th>\n",
       "      <td>-3.590991</td>\n",
       "      <td>-3.597323</td>\n",
       "      <td>-3.658501</td>\n",
       "      <td>-3.605655</td>\n",
       "      <td>-1.752124</td>\n",
       "      <td>-0.0</td>\n",
       "    </tr>\n",
       "  </tbody>\n",
       "</table>\n",
       "</div>"
      ],
      "text/plain": [
       "    alpa:0.001  alpa:0.01  alpa:0.1    alpa:1    alpa:5  alpa:10\n",
       "0    -0.967848  -0.939492 -0.659315 -0.000000 -0.000000     -0.0\n",
       "1     1.043088   1.010377  0.684820  0.000000  0.000000      0.0\n",
       "2    -0.042280  -0.057475 -0.207389 -0.000000 -0.000000     -0.0\n",
       "3     0.593919   0.592324  0.575874  0.000000  0.000000      0.0\n",
       "4    -1.804056  -1.761604 -1.345790 -0.000000 -0.000000     -0.0\n",
       "5     2.611194   2.622904  2.738958  2.529330  0.374985      0.0\n",
       "6    -0.196298  -0.179110 -0.007398 -0.000000 -0.000000     -0.0\n",
       "7    -2.994364  -2.923287 -2.216914 -0.000000  0.000000      0.0\n",
       "8     2.065494   1.933983  0.632402 -0.000000 -0.000000     -0.0\n",
       "9    -1.920598  -1.811185 -0.724794 -0.227631 -0.000000     -0.0\n",
       "10   -2.156365  -2.147052 -2.055994 -1.700884 -0.000000     -0.0\n",
       "11    0.750737   0.739642  0.629083  0.131861  0.000000      0.0\n",
       "12   -3.590991  -3.597323 -3.658501 -3.605655 -1.752124     -0.0"
      ]
     },
     "execution_count": 191,
     "metadata": {},
     "output_type": "execute_result"
    }
   ],
   "source": [
    "coef_df2"
   ]
  },
  {
   "cell_type": "code",
   "execution_count": 197,
   "metadata": {},
   "outputs": [
    {
     "data": {
      "text/plain": [
       "(379, 104)"
      ]
     },
     "execution_count": 197,
     "metadata": {},
     "output_type": "execute_result"
    }
   ],
   "source": [
    "# boston set 에 polynormial feature를 적용한 데이터 셋\n",
    "X_train_scaled_poly.shape"
   ]
  },
  {
   "cell_type": "code",
   "execution_count": 195,
   "metadata": {},
   "outputs": [],
   "source": [
    "from sklearn.metrics import r2_score"
   ]
  },
  {
   "cell_type": "code",
   "execution_count": 204,
   "metadata": {},
   "outputs": [
    {
     "data": {
      "text/plain": [
       "(379, 13)"
      ]
     },
     "execution_count": 204,
     "metadata": {},
     "output_type": "execute_result"
    }
   ],
   "source": [
    "X_train_scaled.shape"
   ]
  },
  {
   "cell_type": "code",
   "execution_count": 206,
   "metadata": {},
   "outputs": [
    {
     "name": "stdout",
     "output_type": "stream",
     "text": [
      "--------alpha 0.01---------------------------\n",
      "============train============\n",
      "MSE: 85.30823553163789\n",
      "RMSE: 9.236245748768159\n",
      "R2: 0.0\n",
      "============test============\n",
      "MSE: 81.7904659829155\n",
      "RMSE: 9.043808157126925\n",
      "R2: -0.001119359203955339\n",
      "--------alpha 0.1---------------------------\n",
      "============train============\n",
      "MSE: 85.30823553163789\n",
      "RMSE: 9.236245748768159\n",
      "R2: 0.0\n",
      "============test============\n",
      "MSE: 81.7904659829155\n",
      "RMSE: 9.043808157126925\n",
      "R2: -0.001119359203955339\n",
      "--------alpha 1---------------------------\n",
      "============train============\n",
      "MSE: 85.30823553163789\n",
      "RMSE: 9.236245748768159\n",
      "R2: 0.0\n",
      "============test============\n",
      "MSE: 81.7904659829155\n",
      "RMSE: 9.043808157126925\n",
      "R2: -0.001119359203955339\n",
      "--------alpha 10---------------------------\n",
      "============train============\n",
      "MSE: 85.30823553163789\n",
      "RMSE: 9.236245748768159\n",
      "R2: 0.0\n",
      "============test============\n",
      "MSE: 81.7904659829155\n",
      "RMSE: 9.043808157126925\n",
      "R2: -0.001119359203955339\n",
      "--------alpha 100---------------------------\n",
      "============train============\n",
      "MSE: 85.30823553163789\n",
      "RMSE: 9.236245748768159\n",
      "R2: 0.0\n",
      "============test============\n",
      "MSE: 81.7904659829155\n",
      "RMSE: 9.043808157126925\n",
      "R2: -0.001119359203955339\n",
      "--------alpha 1000---------------------------\n",
      "============train============\n",
      "MSE: 85.30823553163789\n",
      "RMSE: 9.236245748768159\n",
      "R2: 0.0\n",
      "============test============\n",
      "MSE: 81.7904659829155\n",
      "RMSE: 9.043808157126925\n",
      "R2: -0.001119359203955339\n"
     ]
    }
   ],
   "source": [
    "train_r2_list=[]\n",
    "test_r2_list=[]\n",
    "alpha_list= [0.01,0.1,1,10,100,1000]\n",
    "for alpha in alpha_list:\n",
    "    \n",
    "    ridge= Ridge(alpha=alpha,random_state=0)\n",
    "    ridge.fit(X_train_scaled_poly,y_train)\n",
    "    \n",
    "    train_r2_list.append(r2_score(y_train,ridge.predict(X_train_scaled_poly)))\n",
    "    test_r2_list.append(r2_score(y_test,ridge.predict(X_test_scaled_poly)))"
   ]
  },
  {
   "cell_type": "code",
   "execution_count": 209,
   "metadata": {},
   "outputs": [
    {
     "data": {
      "text/plain": [
       "array([-2., -1.,  0.,  1.,  2.,  3.])"
      ]
     },
     "execution_count": 209,
     "metadata": {},
     "output_type": "execute_result"
    }
   ],
   "source": [
    "np.log10(alpha_list)"
   ]
  },
  {
   "cell_type": "code",
   "execution_count": 213,
   "metadata": {},
   "outputs": [
    {
     "data": {
      "text/html": [
       "<div>\n",
       "<style scoped>\n",
       "    .dataframe tbody tr th:only-of-type {\n",
       "        vertical-align: middle;\n",
       "    }\n",
       "\n",
       "    .dataframe tbody tr th {\n",
       "        vertical-align: top;\n",
       "    }\n",
       "\n",
       "    .dataframe thead th {\n",
       "        text-align: right;\n",
       "    }\n",
       "</style>\n",
       "<table border=\"1\" class=\"dataframe\">\n",
       "  <thead>\n",
       "    <tr style=\"text-align: right;\">\n",
       "      <th></th>\n",
       "      <th>train</th>\n",
       "      <th>test</th>\n",
       "    </tr>\n",
       "  </thead>\n",
       "  <tbody>\n",
       "    <tr>\n",
       "      <th>-2.0</th>\n",
       "      <td>0.950751</td>\n",
       "      <td>0.632598</td>\n",
       "    </tr>\n",
       "    <tr>\n",
       "      <th>-1.0</th>\n",
       "      <td>0.944655</td>\n",
       "      <td>0.674412</td>\n",
       "    </tr>\n",
       "    <tr>\n",
       "      <th>0.0</th>\n",
       "      <td>0.931780</td>\n",
       "      <td>0.761603</td>\n",
       "    </tr>\n",
       "    <tr>\n",
       "      <th>1.0</th>\n",
       "      <td>0.898743</td>\n",
       "      <td>0.766252</td>\n",
       "    </tr>\n",
       "    <tr>\n",
       "      <th>2.0</th>\n",
       "      <td>0.826360</td>\n",
       "      <td>0.690952</td>\n",
       "    </tr>\n",
       "    <tr>\n",
       "      <th>3.0</th>\n",
       "      <td>0.731646</td>\n",
       "      <td>0.581293</td>\n",
       "    </tr>\n",
       "  </tbody>\n",
       "</table>\n",
       "</div>"
      ],
      "text/plain": [
       "         train      test\n",
       "-2.0  0.950751  0.632598\n",
       "-1.0  0.944655  0.674412\n",
       " 0.0  0.931780  0.761603\n",
       " 1.0  0.898743  0.766252\n",
       " 2.0  0.826360  0.690952\n",
       " 3.0  0.731646  0.581293"
      ]
     },
     "execution_count": 213,
     "metadata": {},
     "output_type": "execute_result"
    }
   ],
   "source": [
    "result= pd.DataFrame({'train':train_r2_list,\n",
    "                     'test':test_r2_list},\n",
    "                    index=np.log10(alpha_list))\n",
    "result"
   ]
  },
  {
   "cell_type": "code",
   "execution_count": 214,
   "metadata": {},
   "outputs": [
    {
     "data": {
      "text/plain": [
       "<Axes: >"
      ]
     },
     "execution_count": 214,
     "metadata": {},
     "output_type": "execute_result"
    },
    {
     "name": "stderr",
     "output_type": "stream",
     "text": [
      "C:\\Users\\Playdata\\anaconda3\\envs\\ml\\lib\\site-packages\\IPython\\core\\events.py:89: UserWarning: Glyph 8722 (\\N{MINUS SIGN}) missing from current font.\n",
      "  func(*args, **kwargs)\n",
      "C:\\Users\\Playdata\\anaconda3\\envs\\ml\\lib\\site-packages\\IPython\\core\\pylabtools.py:152: UserWarning: Glyph 8722 (\\N{MINUS SIGN}) missing from current font.\n",
      "  fig.canvas.print_figure(bytes_io, **kw)\n"
     ]
    },
    {
     "data": {
      "image/png": "[encoded data removed]",
      "text/plain": [
       "<Figure size 640x480 with 1 Axes>"
      ]
     },
     "metadata": {},
     "output_type": "display_data"
    }
   ],
   "source": [
    "result.plot()"
   ]
  },
  {
   "cell_type": "code",
   "execution_count": 215,
   "metadata": {},
   "outputs": [
    {
     "data": {
      "text/plain": [
       "(0.5518093981997281, 15.001579381231853)"
      ]
     },
     "execution_count": 215,
     "metadata": {},
     "output_type": "execute_result"
    }
   ],
   "source": [
    "np.min(y),np.max(y)"
   ]
  },
  {
   "cell_type": "code",
   "execution_count": null,
   "metadata": {},
   "outputs": [],
   "source": []
  },
  {
   "cell_type": "code",
   "execution_count": null,
   "metadata": {},
   "outputs": [],
   "source": []
  },
  {
   "cell_type": "markdown",
   "metadata": {
    "slideshow": {
     "slide_type": "slide"
    }
   },
   "source": [
    "# 정리\n",
    "- 일반적으로 선형회귀의 경우 어느정도 규제가 있는 경우가 성능이 좋다.\n",
    "- 기본적으로 **Ridge**를 사용한다.\n",
    "- Target에 영향을 주는 Feature가 몇 개뿐일 경우 특성의 가중치를 0으로 만들어 주는 **Lasso** 사용한다. "
   ]
  },
  {
   "cell_type": "code",
   "execution_count": null,
   "metadata": {},
   "outputs": [],
   "source": []
  },
  {
   "cell_type": "code",
   "execution_count": null,
   "metadata": {},
   "outputs": [],
   "source": []
  },
  {
   "cell_type": "code",
   "execution_count": null,
   "metadata": {},
   "outputs": [],
   "source": []
  }
 ],
 "metadata": {
  "kernelspec": {
   "display_name": "Python 3 (ipykernel)",
   "language": "python",
   "name": "python3"
  },
  "language_info": {
   "codemirror_mode": {
    "name": "ipython",
    "version": 3
   },
   "file_extension": ".py",
   "mimetype": "text/x-python",
   "name": "python",
   "nbconvert_exporter": "python",
   "pygments_lexer": "ipython3",
   "version": "3.10.11"
  },
  "toc": {
   "base_numbering": 1,
   "nav_menu": {},
   "number_sections": false,
   "sideBar": true,
   "skip_h1_title": false,
   "title_cell": "Table of Contents",
   "title_sidebar": "Contents",
   "toc_cell": false,
   "toc_position": {},
   "toc_section_display": true,
   "toc_window_display": false
  },
  "varInspector": {
   "cols": {
    "lenName": 16,
    "lenType": 16,
    "lenVar": 40
   },
   "kernels_config": {
    "python": {
     "delete_cmd_postfix": "",
     "delete_cmd_prefix": "del ",
     "library": "var_list.py",
     "varRefreshCmd": "print(var_dic_list())"
    },
    "r": {
     "delete_cmd_postfix": ") ",
     "delete_cmd_prefix": "rm(",
     "library": "var_list.r",
     "varRefreshCmd": "cat(var_dic_list()) "
    }
   },
   "types_to_exclude": [
    "module",
    "function",
    "builtin_function_or_method",
    "instance",
    "_Feature"
   ],
   "window_display": false
  }
 },
 "nbformat": 4,
 "nbformat_minor": 4
}
